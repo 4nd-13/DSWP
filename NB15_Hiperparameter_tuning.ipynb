{
  "nbformat": 4,
  "nbformat_minor": 0,
  "metadata": {
    "colab": {
      "private_outputs": true,
      "provenance": [],
      "authorship_tag": "ABX9TyOnqy3i7WrcHuw/BVE2AcnB",
      "include_colab_link": true
    },
    "kernelspec": {
      "name": "python3",
      "display_name": "Python 3"
    },
    "language_info": {
      "name": "python"
    }
  },
  "cells": [
    {
      "cell_type": "markdown",
      "metadata": {
        "id": "view-in-github",
        "colab_type": "text"
      },
      "source": [
        "<a href=\"https://colab.research.google.com/github/MathMachado/DSWP/blob/master/NB15_Hiperparameter_tuning.ipynb\" target=\"_parent\"><img src=\"https://colab.research.google.com/assets/colab-badge.svg\" alt=\"Open In Colab\"/></a>"
      ]
    },
    {
      "cell_type": "markdown",
      "source": [
        "# DESCRITIVO\n",
        "- O ajuste de hiperparâmetros é uma etapa crucial no pipeline de Machine Learning. Neste vídeo, você aprenderá como otimizar os hiperparâmetros de dois dos modelos supervisionados mais usados: Random Forest e XGBoost. Vamos explorar como ajustar esses modelos para melhorar a acurácia e robustez das previsões, utilizando ferramentas como GridSearch e RandomizedSearch."
      ],
      "metadata": {
        "id": "Nj7m5H2Bbtua"
      }
    },
    {
      "cell_type": "code",
      "execution_count": null,
      "metadata": {
        "id": "Kx97sdrubmuH"
      },
      "outputs": [],
      "source": []
    },
    {
      "cell_type": "markdown",
      "source": [],
      "metadata": {
        "id": "LSb9wiZUbsqN"
      }
    }
  ]
}