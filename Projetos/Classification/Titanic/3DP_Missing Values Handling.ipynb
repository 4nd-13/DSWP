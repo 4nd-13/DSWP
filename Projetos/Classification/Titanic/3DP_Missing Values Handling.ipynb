{
  "nbformat": 4,
  "nbformat_minor": 0,
  "metadata": {
    "colab": {
      "name": "Untitled0.ipynb",
      "version": "0.3.2",
      "provenance": [],
      "private_outputs": true,
      "toc_visible": true,
      "include_colab_link": true
    },
    "kernelspec": {
      "name": "python3",
      "display_name": "Python 3"
    },
    "accelerator": "GPU"
  },
  "cells": [
    {
      "cell_type": "markdown",
      "metadata": {
        "id": "view-in-github",
        "colab_type": "text"
      },
      "source": [
        "<a href=\"https://colab.research.google.com/github/MathMachado/Python_RFB/blob/master/Projetos/Titanic/3DP_Missing%20Value%20Handling.ipynb\" target=\"_parent\"><img src=\"https://colab.research.google.com/assets/colab-badge.svg\" alt=\"Open In Colab\"/></a>"
      ]
    },
    {
      "cell_type": "markdown",
      "metadata": {
        "id": "pxo5UjpNDw_r",
        "colab_type": "text"
      },
      "source": [
        "# PROJETO TITANIC\n",
        "## 3DP - DATA PREPARATION\n",
        "## 3DP - Missing Value Handling"
      ]
    },
    {
      "cell_type": "markdown",
      "metadata": {
        "id": "l9DGifbWSmW3",
        "colab_type": "text"
      },
      "source": [
        "# Machine Learning com Python (Scikit-Learn)\n",
        "\n",
        "![Scikit-Learn](https://github.com/MathMachado/Python_RFB/blob/master/Material/scikit-learn-1.png?raw=true)"
      ]
    },
    {
      "cell_type": "markdown",
      "metadata": {
        "id": "q-chlATnKSza",
        "colab_type": "text"
      },
      "source": [
        "# Carregar as bibliotecas (genéricas) Python"
      ]
    },
    {
      "cell_type": "code",
      "metadata": {
        "id": "7FJxrZckYxk6",
        "colab_type": "code",
        "colab": {}
      },
      "source": [
        "# Pandas\n",
        "import pandas as pd\n",
        "from pandas import Series, DataFrame\n",
        "\n",
        "# numpy, matplotlib, seaborn\n",
        "import numpy as np\n",
        "import matplotlib.pyplot as plt\n",
        "import seaborn as sns\n",
        "sns.set_style('whitegrid')\n",
        "%matplotlib inline\n",
        "\n",
        "# remove warnings to keep notebook clean\n",
        "import warnings\n",
        "warnings.filterwarnings('ignore')"
      ],
      "execution_count": 0,
      "outputs": []
    },
    {
      "cell_type": "markdown",
      "metadata": {
        "id": "0Wq6Y3eFZCTE",
        "colab_type": "text"
      },
      "source": [
        "# Carregar Dados"
      ]
    },
    {
      "cell_type": "code",
      "metadata": {
        "id": "t9QWCCrLZFfW",
        "colab_type": "code",
        "colab": {}
      },
      "source": [
        "url= 'https://raw.githubusercontent.com/MathMachado/Python_RFB/master/Dataframes/df_3DP_FE1.csv?token=AGDJQ676E373FPVNODFVMZ25NV6R2'\n",
        "\n",
        "# Carrega o dataframe da fase anterior e define 'PassengerId' como chave\n",
        "df= pd.read_csv(url, index_col='PassengerId')\n",
        "df.head()"
      ],
      "execution_count": 0,
      "outputs": []
    },
    {
      "cell_type": "markdown",
      "metadata": {
        "colab_type": "text",
        "id": "8qljHMRbsNjH"
      },
      "source": [
        "# Missing Values\n",
        "\n",
        "> Lidar com Missing Values é um dos piores pesadelos de um Cientista de dados. Especialmente, se o número de MV for grande o suficiente (geralmente acima de 5%). Nesse caso, os valores não podem ser descartados e um Cientista de Dados inteligente deve \"imputar\" os valores ausentes.\n",
        "\n",
        "* Nesta sessão, vamos identificar, analisar e tratar Missing Values (MV).\n",
        "* Como MV são gerados?\n",
        "    * Usuário se esqueceu de preencher ou preencheu errado o campo;\n",
        "    * Os dados foram perdidos durante a transferência manual de um banco de dados legado;\n",
        "    * Erro de programação;\n",
        "    * Os usuários optaram por não preencher um campo vinculado a suas crenças sobre como os resultados seriam usados ou interpretados.\n",
        "* As funções df.isnull() e df.isna() são apropriadas para nos indicar quantas observações são MV no dataframe."
      ]
    },
    {
      "cell_type": "markdown",
      "metadata": {
        "colab_type": "text",
        "id": "CtxDjzDmsNjK"
      },
      "source": [
        "Vamos utilizar a função abaixo para nos ajudar no diagnóstico dos Missing Values:"
      ]
    },
    {
      "cell_type": "code",
      "metadata": {
        "colab_type": "code",
        "id": "WswExai4sNjL",
        "colab": {}
      },
      "source": [
        "def Mostra_MV(df):\n",
        "    total = df.isnull().sum().sort_values(ascending=False)\n",
        "    percent = 100*round((df.isnull().sum()/df.isnull().count()).sort_values(ascending=False),2)\n",
        "    missing_data = pd.concat([total, percent], axis=1, keys=['Total', 'Percentual'])\n",
        "    #f, ax = plt.subplots(figsize=(15, 6))\n",
        "    #plt.xticks(rotation='90')\n",
        "    #sns.barplot(x=missing_data.index, y=missing_data['Percentual'])\n",
        "    #plt.xlabel('Features', fontsize=15)\n",
        "    #plt.ylabel('Percentual de Missing Values', fontsize=15)\n",
        "    #plt.title('Percentual de Missing Values por Variável', fontsize=15)\n",
        "    print(missing_data.head(10))"
      ],
      "execution_count": 0,
      "outputs": []
    },
    {
      "cell_type": "code",
      "metadata": {
        "id": "tBQlrTQ6t75s",
        "colab_type": "code",
        "colab": {}
      },
      "source": [
        "Mostra_MV(df)"
      ],
      "execution_count": 0,
      "outputs": []
    },
    {
      "cell_type": "markdown",
      "metadata": {
        "colab_type": "text",
        "id": "wMLXdGOfsNjT"
      },
      "source": [
        "* **Interpretação do resultado acima**: \n",
        "    * Não se incomode, por enquanto, com os NaN da variável 'Survived' e 'Survived2';\n",
        "    * A variável 'Seat' possui 1027 NaN's;\n",
        "    * A variável 'Deck' possui 1014 NaN's;\n",
        "    * A Variável 'Age' possui 263 NaN's;\n",
        "    * A Variável 'Embarked' possui 2 NaN's;\n",
        "    * A variável 'Fare' possui 1 NaN."
      ]
    },
    {
      "cell_type": "markdown",
      "metadata": {
        "colab_type": "text",
        "id": "X0dBOXRxsNjS"
      },
      "source": [
        "* **Nota:** Diferença entre as funções df.isna() e df.isnull():\n",
        "    * Para detectar NaN em numpy use np.isnan();\n",
        "    * Para detectar NaN em pandas, então tanto faz usar pd.isna() ou pd.isnull()."
      ]
    },
    {
      "cell_type": "markdown",
      "metadata": {
        "colab_type": "text",
        "id": "A6rAqKR9sNjU"
      },
      "source": [
        "### Variável 'Deck'\n",
        "\n",
        "* Vimos anteriormente que a variável 'Deck' possui 1014 (77%) valores nulos. Vamos focar no tratamento desses NaN's:\n",
        "\n",
        "    * **A solução**: Como se trata de uma variável categórica, o tratamento que darei aqui é atribuir uma letra aos MV."
      ]
    },
    {
      "cell_type": "markdown",
      "metadata": {
        "id": "V_zoFaRqLcmc",
        "colab_type": "text"
      },
      "source": [
        "* Antes, porém, vamos criar a variável 'MV_Deck' que receberá o valor 1 se 'Deck' é MV e 0, caso contrário."
      ]
    },
    {
      "cell_type": "code",
      "metadata": {
        "id": "y4uHwQfHLyJd",
        "colab_type": "code",
        "colab": {}
      },
      "source": [
        "df_copia2= df.copy()\n",
        "set(df['Deck']) # Esse comando mostra os NaN's da variável"
      ],
      "execution_count": 0,
      "outputs": []
    },
    {
      "cell_type": "code",
      "metadata": {
        "id": "dP8tGVD4L8Fl",
        "colab_type": "code",
        "colab": {}
      },
      "source": [
        "df['MV_Deck']= df['Deck'].apply(lambda x: 0 if x in ['A', 'B', 'C', 'D', 'E', 'F', 'G', 'T'] else 1)\n",
        "df.MV_Deck.value_counts()"
      ],
      "execution_count": 0,
      "outputs": []
    },
    {
      "cell_type": "code",
      "metadata": {
        "id": "I7bhLuoEcrms",
        "colab_type": "code",
        "colab": {}
      },
      "source": [
        "set(df['MV_Deck']) # Esse comando mostra os NaN's da variável"
      ],
      "execution_count": 0,
      "outputs": []
    },
    {
      "cell_type": "markdown",
      "metadata": {
        "colab_type": "text",
        "id": "1JhdsFQBsNjX"
      },
      "source": [
        "Agora, todo 'NaN' encontrado no dataframe será substituído pela letra 'M', que representará os Missing Values:"
      ]
    },
    {
      "cell_type": "code",
      "metadata": {
        "colab_type": "code",
        "id": "3VgD61mZsNjX",
        "colab": {}
      },
      "source": [
        "df[\"Deck\"]= df[\"Deck\"].fillna(\"M\")\n",
        "df.Deck.value_counts()"
      ],
      "execution_count": 0,
      "outputs": []
    },
    {
      "cell_type": "code",
      "metadata": {
        "id": "BeWmkl0IckXd",
        "colab_type": "code",
        "colab": {}
      },
      "source": [
        "set(df['Deck']) # Esse comando mostra os NaN's da variável"
      ],
      "execution_count": 0,
      "outputs": []
    },
    {
      "cell_type": "markdown",
      "metadata": {
        "colab_type": "text",
        "id": "zHNzaIPmsNjb"
      },
      "source": [
        "Como pode ser visto acima, substituimos todos os MV por 'M'."
      ]
    },
    {
      "cell_type": "markdown",
      "metadata": {
        "id": "TJ00BpNefdqS",
        "colab_type": "text"
      },
      "source": [
        "### Variável 'Seat'"
      ]
    },
    {
      "cell_type": "markdown",
      "metadata": {
        "id": "JQaNSwAdn3tM",
        "colab_type": "text"
      },
      "source": [
        "Avaliando se a variável 'Seat' possui NaN's:"
      ]
    },
    {
      "cell_type": "code",
      "metadata": {
        "id": "dxMYUn7mfnzp",
        "colab_type": "code",
        "colab": {}
      },
      "source": [
        "set(df['Seat']) # Esse comando mostra os NaN's da variável"
      ],
      "execution_count": 0,
      "outputs": []
    },
    {
      "cell_type": "markdown",
      "metadata": {
        "id": "KDPLUrZ7nwhB",
        "colab_type": "text"
      },
      "source": [
        "Qual o atributo mais frequente da variável 'Seat'?"
      ]
    },
    {
      "cell_type": "code",
      "metadata": {
        "id": "WRBvrta7hSIM",
        "colab_type": "code",
        "colab": {}
      },
      "source": [
        "df.Seat.value_counts()"
      ],
      "execution_count": 0,
      "outputs": []
    },
    {
      "cell_type": "markdown",
      "metadata": {
        "id": "puqvnVBRhYo-",
        "colab_type": "text"
      },
      "source": [
        "Como vimos Seat= 6 é o mais comum. Portanto, vamos substituir todos os NaN's desta variável por 6:"
      ]
    },
    {
      "cell_type": "code",
      "metadata": {
        "colab_type": "code",
        "id": "DJQveAnUhr6u",
        "colab": {}
      },
      "source": [
        "df[\"Seat\"]= df[\"Seat\"].fillna(6)"
      ],
      "execution_count": 0,
      "outputs": []
    },
    {
      "cell_type": "markdown",
      "metadata": {
        "colab_type": "text",
        "id": "BBmVfQVJhr67"
      },
      "source": [
        "O próximo passo é converter o tipo da variável 'Seat' de Object para int."
      ]
    },
    {
      "cell_type": "code",
      "metadata": {
        "colab_type": "code",
        "id": "pDThF164hr68",
        "colab": {}
      },
      "source": [
        "df_copia3= df.copy()\n",
        "#df= df_copia3.copy()"
      ],
      "execution_count": 0,
      "outputs": []
    },
    {
      "cell_type": "code",
      "metadata": {
        "colab_type": "code",
        "id": "Rs49VS2Ahr7A",
        "colab": {}
      },
      "source": [
        "df= df.astype({'Seat': int}) \n",
        "df.info()"
      ],
      "execution_count": 0,
      "outputs": []
    },
    {
      "cell_type": "markdown",
      "metadata": {
        "colab_type": "text",
        "id": "kb8Jk_A1sNjc"
      },
      "source": [
        "### Variável 'Fare'\n",
        "\n",
        "* Vimos que a variável 'Fare' possui 1 MV. Como se trata de um percentual pequeno de MV, podemos:\n",
        "    * Deletar esta observação ou;\n",
        "    * Substituir o MV pela média/mediana/moda.\n",
        "    \n",
        "* A função dropna() pode ser usada para deletarmos tanto linhas/observações quanto colunas/variáveis com MV."
      ]
    },
    {
      "cell_type": "markdown",
      "metadata": {
        "colab_type": "text",
        "id": "eblayT0hsNj6"
      },
      "source": [
        "Aqui, vou substituir o NaN da variável 'Fare' pela mediana. A seguir, a média da variável 'Fare' antes da transformação, pois é muito importante compararmos o antes e o depois da transformação. Esta análise de impacto é muito importante para se avaliar o quanto as transformações impactam a distribuição da variável original."
      ]
    },
    {
      "cell_type": "code",
      "metadata": {
        "colab_type": "code",
        "id": "M33kyPgfsNj9",
        "colab": {}
      },
      "source": [
        "df['Fare'].mean()"
      ],
      "execution_count": 0,
      "outputs": []
    },
    {
      "cell_type": "markdown",
      "metadata": {
        "colab_type": "text",
        "id": "-mP6IfJksNj_"
      },
      "source": [
        "Aplicamos a transformação..."
      ]
    },
    {
      "cell_type": "code",
      "metadata": {
        "colab_type": "code",
        "id": "ct0U1hzOsNkA",
        "colab": {}
      },
      "source": [
        "df['Fare'].fillna(df['Fare'].median(), inplace=True)"
      ],
      "execution_count": 0,
      "outputs": []
    },
    {
      "cell_type": "markdown",
      "metadata": {
        "colab_type": "text",
        "id": "COEXaZrJsNkE"
      },
      "source": [
        "Média da variável 'Fare' depois da transformação:"
      ]
    },
    {
      "cell_type": "code",
      "metadata": {
        "colab_type": "code",
        "id": "jYwWzVmPsNkF",
        "colab": {}
      },
      "source": [
        "df['Fare'].mean()"
      ],
      "execution_count": 0,
      "outputs": []
    },
    {
      "cell_type": "markdown",
      "metadata": {
        "colab_type": "text",
        "id": "ejdGQQ7EsNkJ"
      },
      "source": [
        "Como podemos ver, nada muito sério em termos de impacto na variável."
      ]
    },
    {
      "cell_type": "markdown",
      "metadata": {
        "id": "R26hR4j_n45K",
        "colab_type": "text"
      },
      "source": [
        "Qual a distribuição da variável 'Fare'?"
      ]
    },
    {
      "cell_type": "code",
      "metadata": {
        "id": "pOmNDr2koBRI",
        "colab_type": "code",
        "colab": {}
      },
      "source": [
        "sns.distplot(df['Fare'])"
      ],
      "execution_count": 0,
      "outputs": []
    },
    {
      "cell_type": "markdown",
      "metadata": {
        "id": "0dWQse1bokHo",
        "colab_type": "text"
      },
      "source": [
        "Percebe-se que a distribuição de 'Fare' é não-Normal. Vamos aplicar uma transformação para tentar obter normalidade?"
      ]
    },
    {
      "cell_type": "markdown",
      "metadata": {
        "colab_type": "text",
        "id": "fsWiyS1jsNkM"
      },
      "source": [
        "### Variável 'Embarked'\n",
        "\n",
        "* A variável 'Embarked' possui 2 MV. Como se trata de uma variável categórica, nossas opções são deletar ou atribuir um valor (em função de outras variáveis)."
      ]
    },
    {
      "cell_type": "code",
      "metadata": {
        "colab_type": "code",
        "id": "MUPOyy52sNkN",
        "colab": {}
      },
      "source": [
        "df_copia4= df.copy()\n",
        "set(df['Embarked']) # Esse comando mostra os NaN's da variável"
      ],
      "execution_count": 0,
      "outputs": []
    },
    {
      "cell_type": "markdown",
      "metadata": {
        "colab_type": "text",
        "id": "W5IaNNwtsNkR"
      },
      "source": [
        "Por simplicidade, aqui vou substituir as observações NaN da variável 'Embarked' por 'S', que é o valor mais frequente:\n",
        "\n",
        "ps.: O comando a seguir retorna o atributo 'S', que nesse caso, é o atributo de interesse em nosso caso: df['Embarked'].mode()[0]. Veja abaixo:"
      ]
    },
    {
      "cell_type": "code",
      "metadata": {
        "id": "iYKxylZR_szv",
        "colab_type": "code",
        "colab": {}
      },
      "source": [
        "sMode_Of_Embarked= df['Embarked'].mode()[0]\n",
        "sMode_Of_Embarked"
      ],
      "execution_count": 0,
      "outputs": []
    },
    {
      "cell_type": "code",
      "metadata": {
        "colab_type": "code",
        "id": "hWmUCde4sNkS",
        "colab": {}
      },
      "source": [
        "df[\"Embarked2\"]= df[\"Embarked\"]\n",
        "df[\"Embarked2\"]= df[\"Embarked2\"].fillna(sMode_Of_Embarked)\n",
        "set(df['Embarked2']) # Esse comando mostra os NaN's da variável"
      ],
      "execution_count": 0,
      "outputs": []
    },
    {
      "cell_type": "markdown",
      "metadata": {
        "id": "Ijsht4akA0Uh",
        "colab_type": "text"
      },
      "source": [
        "Desta forma, substituimos os NaN's da variável 'Embarked' pela moda da distribuição."
      ]
    },
    {
      "cell_type": "markdown",
      "metadata": {
        "id": "XkrPhAiVBDHH",
        "colab_type": "text"
      },
      "source": [
        "Se quiséssemos deletar as duas observações NaN's da variável 'Embarked', basta usar o comando:"
      ]
    },
    {
      "cell_type": "code",
      "metadata": {
        "colab_type": "code",
        "id": "IRWmD34MsNkU",
        "colab": {}
      },
      "source": [
        "# axis= 0 - indica que a operação será realizada nas linhas/observações.\n",
        "df_copia4= df_copia4.dropna(axis= 0, subset = ['Embarked'])"
      ],
      "execution_count": 0,
      "outputs": []
    },
    {
      "cell_type": "markdown",
      "metadata": {
        "colab_type": "text",
        "id": "820K1GXWsNkW"
      },
      "source": [
        "Podemos ver, a seguir, que as linhas (62 e 830 não existem mais no dataframe df_copia4 (fizemos uma cópia do dataframe df antes de iniciarmos o tratamento dos NaN's da variável 'Embarked'):"
      ]
    },
    {
      "cell_type": "markdown",
      "metadata": {
        "colab_type": "text",
        "id": "IRhEyRxmsNkW"
      },
      "source": [
        "Vamos verificar primeiro a existência da linha 62 no dataframe df_copia4:"
      ]
    },
    {
      "cell_type": "code",
      "metadata": {
        "colab_type": "code",
        "id": "HMtPX5FKsNkX",
        "colab": {}
      },
      "source": [
        "df_copia4.loc[60:65]"
      ],
      "execution_count": 0,
      "outputs": []
    },
    {
      "cell_type": "markdown",
      "metadata": {
        "colab_type": "text",
        "id": "P5XV3XzHsNkZ"
      },
      "source": [
        "Como podemos ver, a linha 62 não existe mais. Da mesma forma, a seguir, verificamos se a linha 830 existe no dataframe."
      ]
    },
    {
      "cell_type": "code",
      "metadata": {
        "colab_type": "code",
        "id": "7NrBR8xWsNkZ",
        "colab": {}
      },
      "source": [
        "df_copia4.loc[825:835]"
      ],
      "execution_count": 0,
      "outputs": []
    },
    {
      "cell_type": "markdown",
      "metadata": {
        "colab_type": "text",
        "id": "NcDeZ9oUsNkc"
      },
      "source": [
        "Como esperávamos, a linha 830 também não existe no dataframe."
      ]
    },
    {
      "cell_type": "markdown",
      "metadata": {
        "colab_type": "text",
        "id": "UcnjX-MNsNkd"
      },
      "source": [
        "Com isso, excluimos as 2 observações MV da variável 'embarked'."
      ]
    },
    {
      "cell_type": "markdown",
      "metadata": {
        "id": "t6szZElOjpFV",
        "colab_type": "text"
      },
      "source": [
        "A seguir, deletamos a variável 'Embarked':"
      ]
    },
    {
      "cell_type": "code",
      "metadata": {
        "id": "w8vvPJBBjszn",
        "colab_type": "code",
        "colab": {}
      },
      "source": [
        "df= df.drop(columns= ['Embarked'], axis= 1) # axis= 1 significa dropar a coluna."
      ],
      "execution_count": 0,
      "outputs": []
    },
    {
      "cell_type": "markdown",
      "metadata": {
        "id": "644LY2GDlxs7",
        "colab_type": "text"
      },
      "source": [
        "E renomeamos a variável auxiliar 'Embarked2' para 'Embarked':"
      ]
    },
    {
      "cell_type": "code",
      "metadata": {
        "id": "nnZjxVHJlz6y",
        "colab_type": "code",
        "colab": {}
      },
      "source": [
        "df= df.rename(columns= {'Embarked2': 'Embarked'})"
      ],
      "execution_count": 0,
      "outputs": []
    },
    {
      "cell_type": "markdown",
      "metadata": {
        "colab_type": "text",
        "id": "G-bjLAnUsNke"
      },
      "source": [
        "### Variável 'Age' - Variável do tipo numérica\n",
        "\n",
        "* Vimos anteriormente que a variável 'Age' possui 263 valores nulos.\n",
        "\n",
        "* Como se trata de uma variável numérica, vamos aplicar algumas estratégias para resolver o problema, pois não podemos descartar 263 (20%) observações do nosso dataframe.\n",
        "\n",
        "* Aqui é uma boa ideia criar a variável 'MV_Age' que receberá o valor 1 se 'Age' é MV e 0, caso contrário."
      ]
    },
    {
      "cell_type": "code",
      "metadata": {
        "colab_type": "code",
        "id": "re32z--fsNke",
        "colab": {}
      },
      "source": [
        "df_copia5= df.copy()\n",
        "#df= df_copia5.copy()"
      ],
      "execution_count": 0,
      "outputs": []
    },
    {
      "cell_type": "markdown",
      "metadata": {
        "colab_type": "text",
        "id": "uRLAa4EwsNk2"
      },
      "source": [
        "Podemos substituir os NaN's da variável 'Age' com a média (ou mediana) da distribuição, conforme abaixo:"
      ]
    },
    {
      "cell_type": "code",
      "metadata": {
        "colab_type": "code",
        "id": "jFVE-hTjsNk8",
        "colab": {}
      },
      "source": [
        "df['Age2']= df['Age'].fillna(df['Age'].median())"
      ],
      "execution_count": 0,
      "outputs": []
    },
    {
      "cell_type": "markdown",
      "metadata": {
        "colab_type": "text",
        "id": "iJi1R5BtsNlA"
      },
      "source": [
        "OU, substituir os NaN da variável 'Age' pela média de 'Age' considerando 'Sex', conforme abaixo:"
      ]
    },
    {
      "cell_type": "code",
      "metadata": {
        "colab_type": "code",
        "id": "_V-9aUI9NLfQ",
        "colab": {}
      },
      "source": [
        "df['Age3']= df['Age'].fillna(df.groupby('Sex')['Age'].transform(\"median\"))"
      ],
      "execution_count": 0,
      "outputs": []
    },
    {
      "cell_type": "code",
      "metadata": {
        "id": "-FYmGi0vNRFM",
        "colab_type": "code",
        "colab": {}
      },
      "source": [
        "df.head()"
      ],
      "execution_count": 0,
      "outputs": []
    },
    {
      "cell_type": "markdown",
      "metadata": {
        "colab_type": "text",
        "id": "uzcpNWW-sNlE"
      },
      "source": [
        "Vamos inspecionar as colunas envolvidas para avaliar os impactos sofridos..."
      ]
    },
    {
      "cell_type": "code",
      "metadata": {
        "colab_type": "code",
        "id": "nHNk5NrBsNlF",
        "colab": {}
      },
      "source": [
        "# Resultado geral, por curiosidade\n",
        "df[['Age', 'Age2', 'Age3', 'Sex']].groupby('Sex').mean()"
      ],
      "execution_count": 0,
      "outputs": []
    },
    {
      "cell_type": "markdown",
      "metadata": {
        "colab_type": "text",
        "id": "ZLPf5fKPsNlJ"
      },
      "source": [
        "* Qual sua opinião sobre as médias apresentadas acima?"
      ]
    },
    {
      "cell_type": "code",
      "metadata": {
        "id": "rWyftaiTeihg",
        "colab_type": "code",
        "colab": {}
      },
      "source": [
        "df.head()"
      ],
      "execution_count": 0,
      "outputs": []
    },
    {
      "cell_type": "markdown",
      "metadata": {
        "id": "Ap1XbvqctY5T",
        "colab_type": "text"
      },
      "source": [
        "Deletando a variável 'Age'"
      ]
    },
    {
      "cell_type": "code",
      "metadata": {
        "id": "tnpFyNTJtc2z",
        "colab_type": "code",
        "colab": {}
      },
      "source": [
        "df= df.drop(columns= ['Age'], axis= 1) # axis= 1 significa dropar a coluna."
      ],
      "execution_count": 0,
      "outputs": []
    },
    {
      "cell_type": "markdown",
      "metadata": {
        "id": "H_dLWSs1jOEt",
        "colab_type": "text"
      },
      "source": [
        "Certificando de que todos os NaN's foram tratados, com exceção de 'Survived' e 'Survived2':"
      ]
    },
    {
      "cell_type": "code",
      "metadata": {
        "id": "5_XQdBrGjKZl",
        "colab_type": "code",
        "colab": {}
      },
      "source": [
        "Mostra_MV(df)"
      ],
      "execution_count": 0,
      "outputs": []
    },
    {
      "cell_type": "markdown",
      "metadata": {
        "id": "zM2Zv404t9sk",
        "colab_type": "text"
      },
      "source": [
        "Como podem ver, tratamos todos os NaN's que haviam nas variáveis do dataframe."
      ]
    },
    {
      "cell_type": "markdown",
      "metadata": {
        "id": "u8IBZiUBrjp9",
        "colab_type": "text"
      },
      "source": [
        "# Conclusão"
      ]
    },
    {
      "cell_type": "code",
      "metadata": {
        "id": "UzsfFMgwrlyF",
        "colab_type": "code",
        "colab": {}
      },
      "source": [
        "df.head(50)"
      ],
      "execution_count": 0,
      "outputs": []
    },
    {
      "cell_type": "markdown",
      "metadata": {
        "id": "07qkMSjyroRe",
        "colab_type": "text"
      },
      "source": [
        "# Salvar cópia do dataframe tratado nesta fase"
      ]
    },
    {
      "cell_type": "code",
      "metadata": {
        "id": "XU3mCBxxrvT_",
        "colab_type": "code",
        "colab": {}
      },
      "source": [
        "df.to_csv(\"df_3DP_MVH.csv\", sep= ',', index = True, header=True)"
      ],
      "execution_count": 0,
      "outputs": []
    }
  ]
}
