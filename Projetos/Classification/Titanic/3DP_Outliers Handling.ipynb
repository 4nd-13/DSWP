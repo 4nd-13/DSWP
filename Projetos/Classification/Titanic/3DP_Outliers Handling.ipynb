{
  "nbformat": 4,
  "nbformat_minor": 0,
  "metadata": {
    "colab": {
      "name": "Untitled0.ipynb",
      "version": "0.3.2",
      "provenance": [],
      "private_outputs": true,
      "toc_visible": true,
      "include_colab_link": true
    },
    "kernelspec": {
      "name": "python3",
      "display_name": "Python 3"
    },
    "accelerator": "GPU"
  },
  "cells": [
    {
      "cell_type": "markdown",
      "metadata": {
        "id": "view-in-github",
        "colab_type": "text"
      },
      "source": [
        "<a href=\"https://colab.research.google.com/github/MathMachado/Python_RFB/blob/master/Projetos/Titanic/3DP_Outliers%20Handling.ipynb\" target=\"_parent\"><img src=\"https://colab.research.google.com/assets/colab-badge.svg\" alt=\"Open In Colab\"/></a>"
      ]
    },
    {
      "cell_type": "markdown",
      "metadata": {
        "id": "pxo5UjpNDw_r",
        "colab_type": "text"
      },
      "source": [
        "# TITANIC\n",
        "## 3DP - DATA PREPARATION\n",
        "## 3DP - OUTLIERS HANDLING"
      ]
    },
    {
      "cell_type": "markdown",
      "metadata": {
        "id": "l9DGifbWSmW3",
        "colab_type": "text"
      },
      "source": [
        "# Machine Learning com Python (Scikit-Learn)\n",
        "\n",
        "![Scikit-Learn](https://github.com/MathMachado/Python_RFB/blob/master/Material/scikit-learn-1.png?raw=true)"
      ]
    },
    {
      "cell_type": "markdown",
      "metadata": {
        "id": "q-chlATnKSza",
        "colab_type": "text"
      },
      "source": [
        "# Carregar as bibliotecas (genéricas) Python"
      ]
    },
    {
      "cell_type": "code",
      "metadata": {
        "id": "7FJxrZckYxk6",
        "colab_type": "code",
        "colab": {}
      },
      "source": [
        "# Pandas\n",
        "import pandas as pd\n",
        "from pandas import Series, DataFrame\n",
        "\n",
        "# numpy, matplotlib, seaborn\n",
        "import numpy as np\n",
        "import matplotlib.pyplot as plt\n",
        "import seaborn as sns\n",
        "sns.set_style('whitegrid')\n",
        "%matplotlib inline\n",
        "\n",
        "# remove warnings to keep notebook clean\n",
        "import warnings\n",
        "warnings.filterwarnings('ignore')"
      ],
      "execution_count": 0,
      "outputs": []
    },
    {
      "cell_type": "markdown",
      "metadata": {
        "id": "0Wq6Y3eFZCTE",
        "colab_type": "text"
      },
      "source": [
        "# Carregar Dados"
      ]
    },
    {
      "cell_type": "code",
      "metadata": {
        "id": "t9QWCCrLZFfW",
        "colab_type": "code",
        "colab": {}
      },
      "source": [
        "url= 'https://raw.githubusercontent.com/MathMachado/Python_RFB/master/Dataframes/df_3DP_MVH.csv?token=AGDJQ63OG3WQQJH4RLXXU4K5NWBPK'\n",
        "\n",
        "# Carrega os dataframes de treinamento e teste e define 'PassengerId' como chave\n",
        "df= pd.read_csv(url, index_col='PassengerId')\n",
        "df.head(50)"
      ],
      "execution_count": 0,
      "outputs": []
    },
    {
      "cell_type": "markdown",
      "metadata": {
        "id": "MzRxKj_2yOe5",
        "colab_type": "text"
      },
      "source": [
        "# Boxplot"
      ]
    },
    {
      "cell_type": "markdown",
      "metadata": {
        "id": "bdVOuLZRw-iy",
        "colab_type": "text"
      },
      "source": [
        "![BoxPlot](https://github.com/MathMachado/Python_RFB/blob/master/Material/boxplot.png?raw=true)"
      ]
    },
    {
      "cell_type": "code",
      "metadata": {
        "id": "FceJNUt5xPnl",
        "colab_type": "code",
        "colab": {}
      },
      "source": [
        "def PlotaBoxPlot_Survived(df, column):\n",
        "    plt.rcdefaults()\n",
        "    # make boxplot with Catplot\n",
        "    sns.catplot(x='Survived2', y= column, kind=\"box\",  data=df, height=4,aspect=1.5)\n",
        "    # add data points to boxplot with stripplot\n",
        "    sns.stripplot(x='Survived2', y= column, data=df, alpha=0.3,jitter=0.2,color='k');\n",
        "    plt.show()"
      ],
      "execution_count": 0,
      "outputs": []
    },
    {
      "cell_type": "markdown",
      "metadata": {
        "id": "-LUuocOvySJ8",
        "colab_type": "text"
      },
      "source": [
        "## Variável 'Age2'"
      ]
    },
    {
      "cell_type": "code",
      "metadata": {
        "id": "zacWW29Wy4P0",
        "colab_type": "code",
        "colab": {}
      },
      "source": [
        "PlotaBoxPlot_Survived(df, 'Age2')"
      ],
      "execution_count": 0,
      "outputs": []
    },
    {
      "cell_type": "markdown",
      "metadata": {
        "id": "IQ25ReqlyKO5",
        "colab_type": "text"
      },
      "source": [
        "Qual a conclusão?"
      ]
    },
    {
      "cell_type": "markdown",
      "metadata": {
        "id": "3ZQTVGb-y6ku",
        "colab_type": "text"
      },
      "source": [
        "## Family_Size"
      ]
    },
    {
      "cell_type": "code",
      "metadata": {
        "id": "o-r92WxZzE-q",
        "colab_type": "code",
        "colab": {}
      },
      "source": [
        "PlotaBoxPlot_Survived(df, 'Family_Size')"
      ],
      "execution_count": 0,
      "outputs": []
    },
    {
      "cell_type": "markdown",
      "metadata": {
        "id": "aUMpEMNJzK0G",
        "colab_type": "text"
      },
      "source": [
        "Qual a conclusão?"
      ]
    },
    {
      "cell_type": "markdown",
      "metadata": {
        "colab_type": "text",
        "id": "NGjGRBIUzR8F"
      },
      "source": [
        "## Fare"
      ]
    },
    {
      "cell_type": "code",
      "metadata": {
        "colab_type": "code",
        "id": "I0wQEnBczR8I",
        "colab": {}
      },
      "source": [
        "PlotaBoxPlot_Survived(df, 'Fare')"
      ],
      "execution_count": 0,
      "outputs": []
    },
    {
      "cell_type": "markdown",
      "metadata": {
        "colab_type": "text",
        "id": "l9ptBeRfzR8L"
      },
      "source": [
        "Qual a conclusão?"
      ]
    },
    {
      "cell_type": "markdown",
      "metadata": {
        "id": "I41mLCY1VRtX",
        "colab_type": "text"
      },
      "source": [
        "# Z-Score\n",
        "\n",
        "* Z-Score pode ser utilizado para detectar Outliers.\n",
        "* É a diferença entre o valor e a média da amostra expressa como o número de desvios-padrão. \n",
        "* Se o escore z for menor que 2,5 ou maior que 2,5, o valor estará nos 5% do menor ou maior valor (2,5% dos valores em ambas as extremidades da distribuição). No entanto, é pratica comum utilizarmos 3 ao invés dos 2,5."
      ]
    },
    {
      "cell_type": "markdown",
      "metadata": {
        "id": "zvkrG3Po7XpW",
        "colab_type": "text"
      },
      "source": [
        "![Z_Score](https://github.com/MathMachado/Python_RFB/blob/master/Material/Z_Score.png?raw=true)"
      ]
    },
    {
      "cell_type": "markdown",
      "metadata": {
        "id": "oMHoJmMBdStF",
        "colab_type": "text"
      },
      "source": [
        "Abaixo, definimos a função para detectar os outliers baseados no Z-Score:"
      ]
    },
    {
      "cell_type": "code",
      "metadata": {
        "id": "xpKXBfNyVop7",
        "colab_type": "code",
        "colab": {}
      },
      "source": [
        "from scipy.stats import zscore\n",
        "def ZScore_Outlier_Detect(column):\n",
        "    df[column+'_ZS'] = zscore(df[column])\n",
        "    df[column+'__is_outlier'] = df[column+'_ZS'].apply(lambda x: x <= -3 or x >= 3)\n",
        "    df_AUX= df[df[column+'__is_outlier']== False]\n",
        "    min_vlr= df_AUX[column].min()\n",
        "    max_vlr= df_AUX[column].max()    \n",
        "    df[column+'_Outlier_ZS']= df[column]\n",
        "    \n",
        "    df.loc[df[column+'_Outlier_ZS'] < min_vlr, column+'_Outlier_ZS'] = min_vlr\n",
        "    df.loc[df[column+'_Outlier_ZS'] > max_vlr, column+'_Outlier_ZS'] = max_vlr\n",
        " \n",
        "    df.drop(columns= [column+'_ZS', column+'__is_outlier'], axis=1, inplace= True)"
      ],
      "execution_count": 0,
      "outputs": []
    },
    {
      "cell_type": "markdown",
      "metadata": {
        "id": "N7gb2zhtd0uM",
        "colab_type": "text"
      },
      "source": [
        "# IQR Score\n",
        "\n",
        "* O Intervalo interquartil (IQR) é uma medida de dispersão estatística, sendo igual à diferença entre os percentis 75 e 25, ou entre quartis superiores e inferiores, IQR = Q3 - Q1."
      ]
    },
    {
      "cell_type": "markdown",
      "metadata": {
        "id": "_Y8kuCON7hKi",
        "colab_type": "text"
      },
      "source": [
        "![BoxPlot](https://github.com/MathMachado/Python_RFB/blob/master/Material/boxplot.png?raw=true)"
      ]
    },
    {
      "cell_type": "markdown",
      "metadata": {
        "id": "8VwvqIxWeXX8",
        "colab_type": "text"
      },
      "source": [
        "Abaixo, a função para detectar outliers baseados no IQR Score:"
      ]
    },
    {
      "cell_type": "code",
      "metadata": {
        "id": "KuP90g3eecgQ",
        "colab_type": "code",
        "colab": {}
      },
      "source": [
        "def IQR_Score_Outlier_Detect(column):\n",
        "    Q1 = df[column].quantile(0.25)\n",
        "    Q3 = df[column].quantile(0.75)\n",
        "    IQR = Q3 - Q1\n",
        "    Lim_Inf= Q1-1.5*IQR\n",
        "    Lim_Sup= Q3+1.5*IQR\n",
        "    df[column+'__is_outlier'] = df[column].apply(lambda x: x <= Lim_Inf or x >= Lim_Sup)\n",
        "    \n",
        "    df_AUX= df[df[column+'__is_outlier']== False]\n",
        "    min_vlr= df_AUX[column].min()\n",
        "    max_vlr= df_AUX[column].max()    \n",
        "    df[column+'_Outlier_IQR']= df[column]\n",
        "    \n",
        "    df.loc[df[column+'_Outlier_IQR'] < min_vlr, column+'_Outlier_IQR'] = min_vlr\n",
        "    df.loc[df[column+'_Outlier_IQR'] > max_vlr, column+'_Outlier_IQR'] = max_vlr\n",
        " \n",
        "    df.drop(columns= [column+'__is_outlier'], axis=1, inplace= True)"
      ],
      "execution_count": 0,
      "outputs": []
    },
    {
      "cell_type": "markdown",
      "metadata": {
        "id": "zZ0gYMqmYOYN",
        "colab_type": "text"
      },
      "source": [
        "# Avaliando Outliers: variáveis 'Age2', 'Age3', 'Age_Inf' e 'Fare'"
      ]
    },
    {
      "cell_type": "code",
      "metadata": {
        "id": "Us11BCp8XbGS",
        "colab_type": "code",
        "colab": {}
      },
      "source": [
        "#df= df_copia7.copy()\n",
        "df_copia7= df.copy()\n",
        "df.head()"
      ],
      "execution_count": 0,
      "outputs": []
    },
    {
      "cell_type": "code",
      "metadata": {
        "id": "ojPK98FOV3uF",
        "colab_type": "code",
        "colab": {}
      },
      "source": [
        "df_Outlier= df[['Age2', 'Age3', 'Fare']].copy()\n",
        "df_Outlier.head()"
      ],
      "execution_count": 0,
      "outputs": []
    },
    {
      "cell_type": "markdown",
      "metadata": {
        "id": "CzR9tbmCdmCm",
        "colab_type": "text"
      },
      "source": [
        "A seguir, vamos detectar outliers usando os dois métodos e depois decidimos qual variável tem melhor poder preditivo."
      ]
    },
    {
      "cell_type": "code",
      "metadata": {
        "id": "_LPGyNVSYpAe",
        "colab_type": "code",
        "colab": {}
      },
      "source": [
        "ZScore_Outlier_Detect('Age2')\n",
        "ZScore_Outlier_Detect('Age3')\n",
        "ZScore_Outlier_Detect('Fare')"
      ],
      "execution_count": 0,
      "outputs": []
    },
    {
      "cell_type": "code",
      "metadata": {
        "id": "6Wx831TsZ6kg",
        "colab_type": "code",
        "colab": {}
      },
      "source": [
        "IQR_Score_Outlier_Detect('Age2')\n",
        "IQR_Score_Outlier_Detect('Age3')\n",
        "IQR_Score_Outlier_Detect('Fare')"
      ],
      "execution_count": 0,
      "outputs": []
    },
    {
      "cell_type": "markdown",
      "metadata": {
        "id": "bolJ8rTYa93L",
        "colab_type": "text"
      },
      "source": [
        "Vamos tabular alguns resultados para avaliar o impacto destas transformações na variável-resposta 'Survived':"
      ]
    },
    {
      "cell_type": "code",
      "metadata": {
        "id": "tckRJTlhX7b0",
        "colab_type": "code",
        "colab": {}
      },
      "source": [
        "print(round(df[['Age2', 'Age2_Outlier_ZS', 'Age2_Outlier_IQR', 'Survived2']].groupby('Survived2').mean(),0))"
      ],
      "execution_count": 0,
      "outputs": []
    },
    {
      "cell_type": "markdown",
      "metadata": {
        "id": "TfSojAgesZ0b",
        "colab_type": "text"
      },
      "source": [
        "Qual sua opinião com relação à estes resultados para a variável 'Age'?"
      ]
    },
    {
      "cell_type": "code",
      "metadata": {
        "id": "Z6IzbFAubTtC",
        "colab_type": "code",
        "colab": {}
      },
      "source": [
        "print(round(df[['Age3','Age3_Outlier_IQR','Age3_Outlier_ZS','Survived2']].groupby('Survived2').mean(),0))"
      ],
      "execution_count": 0,
      "outputs": []
    },
    {
      "cell_type": "markdown",
      "metadata": {
        "id": "4RvifjeAshsw",
        "colab_type": "text"
      },
      "source": [
        "Qual sua opinião com relação à estes resultados?"
      ]
    },
    {
      "cell_type": "code",
      "metadata": {
        "id": "Cd7t_qGRbfRD",
        "colab_type": "code",
        "colab": {}
      },
      "source": [
        "print(round(df[['Fare', 'Fare_Outlier_ZS', 'Fare_Outlier_IQR', 'Survived2']].groupby('Survived2').mean(),0))"
      ],
      "execution_count": 0,
      "outputs": []
    },
    {
      "cell_type": "markdown",
      "metadata": {
        "id": "-T-JCP9EsnUa",
        "colab_type": "text"
      },
      "source": [
        "Qual sua opinião com relação à estes resultados?"
      ]
    },
    {
      "cell_type": "markdown",
      "metadata": {
        "id": "zr9QeW5gwS4C",
        "colab_type": "text"
      },
      "source": [
        "# Conclusão"
      ]
    },
    {
      "cell_type": "code",
      "metadata": {
        "id": "rdSZTw8qwWj2",
        "colab_type": "code",
        "colab": {}
      },
      "source": [
        "df.head(10)"
      ],
      "execution_count": 0,
      "outputs": []
    },
    {
      "cell_type": "markdown",
      "metadata": {
        "id": "6NavK9v1waCJ",
        "colab_type": "text"
      },
      "source": [
        "# Salvar cópia do dataframe tratado nesta fase"
      ]
    },
    {
      "cell_type": "code",
      "metadata": {
        "id": "itvu-w74wuYB",
        "colab_type": "code",
        "colab": {}
      },
      "source": [
        "df.to_csv(\"df_3DP_OH.csv\", sep= ',', index = True, header=True)"
      ],
      "execution_count": 0,
      "outputs": []
    }
  ]
}