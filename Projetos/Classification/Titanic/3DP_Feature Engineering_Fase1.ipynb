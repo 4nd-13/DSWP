{
  "nbformat": 4,
  "nbformat_minor": 0,
  "metadata": {
    "colab": {
      "name": "Untitled0.ipynb",
      "version": "0.3.2",
      "provenance": [],
      "private_outputs": true,
      "toc_visible": true,
      "include_colab_link": true
    },
    "kernelspec": {
      "name": "python3",
      "display_name": "Python 3"
    },
    "accelerator": "GPU"
  },
  "cells": [
    {
      "cell_type": "markdown",
      "metadata": {
        "id": "view-in-github",
        "colab_type": "text"
      },
      "source": [
        "<a href=\"https://colab.research.google.com/github/MathMachado/Python_RFB/blob/master/Projetos/Titanic/3DP_Feature%20Engineering_Fase1.ipynb\" target=\"_parent\"><img src=\"https://colab.research.google.com/assets/colab-badge.svg\" alt=\"Open In Colab\"/></a>"
      ]
    },
    {
      "cell_type": "markdown",
      "metadata": {
        "id": "pxo5UjpNDw_r",
        "colab_type": "text"
      },
      "source": [
        "# PROJETO TITANIC\n",
        "## 3DP - DATA PREPARATION\n",
        "## 3DP - Feature Engineering - Fase 1\n",
        "\n",
        "* Objetivo\n",
        "    * Aplicar Machine Learning para problemas de classificação"
      ]
    },
    {
      "cell_type": "markdown",
      "metadata": {
        "id": "l9DGifbWSmW3",
        "colab_type": "text"
      },
      "source": [
        "# Machine Learning com Python (Scikit-Learn)\n",
        "\n",
        "![Scikit-Learn](https://github.com/MathMachado/Python_RFB/blob/master/Material/scikit-learn-1.png?raw=true)"
      ]
    },
    {
      "cell_type": "markdown",
      "metadata": {
        "id": "eLDoLK5xs-_v",
        "colab_type": "text"
      },
      "source": [
        "# Dados"
      ]
    },
    {
      "cell_type": "markdown",
      "metadata": {
        "id": "2Th-GN_YkBo0",
        "colab_type": "text"
      },
      "source": [
        "* Dicionário de dados do dataframe Titanic:\n",
        "    * **PassengerID**: ID do passageiro;\n",
        "    * **Survived**: Indicador, sendo 1= Passageiro sobreviveu e 0= Passageiro morreu;\n",
        "    * **Pclass**: Classe em que o passageiro viaja (1 classe, 2 classe, 3 classe, etc);\n",
        "    * **Age**: Idade do Passageiro;\n",
        "    * **SibSp**: Número de parentes a bordo (esposa, irmãos, pais e etc);\n",
        "    * **Parch**: Número de pais/crianças a bordo;\n",
        "    * **Fare**: Valor pago pela viagem;\n",
        "    * **Cabin**: Cabine do Passageiro;\n",
        "    * **Embarked**: A porta pelo qual o Passageiro embarcou.\n",
        "    * **Name**: Nome do Passageiro;\n",
        "    * **Sex**: Sexo do Passageiro."
      ]
    },
    {
      "cell_type": "markdown",
      "metadata": {
        "id": "q-chlATnKSza",
        "colab_type": "text"
      },
      "source": [
        "# Carregar as bibliotecas (genéricas) Python"
      ]
    },
    {
      "cell_type": "code",
      "metadata": {
        "id": "7FJxrZckYxk6",
        "colab_type": "code",
        "colab": {}
      },
      "source": [
        "# Pandas\n",
        "import pandas as pd\n",
        "import numpy as np\n",
        "from pandas import Series, DataFrame\n",
        "\n",
        "# matplotlib, seaborn\n",
        "import matplotlib.pyplot as plt\n",
        "import seaborn as sns\n",
        "sns.set_style('whitegrid')\n",
        "%matplotlib inline\n",
        "\n",
        "import warnings\n",
        "warnings.filterwarnings('ignore')"
      ],
      "execution_count": 0,
      "outputs": []
    },
    {
      "cell_type": "markdown",
      "metadata": {
        "id": "0Wq6Y3eFZCTE",
        "colab_type": "text"
      },
      "source": [
        "# Carregar Dados"
      ]
    },
    {
      "cell_type": "code",
      "metadata": {
        "id": "t9QWCCrLZFfW",
        "colab_type": "code",
        "colab": {}
      },
      "source": [
        "url_train= 'https://raw.githubusercontent.com/MathMachado/Python_RFB/master/Dataframes/Titanic_With_MV.csv?token=AGDJQ6YNSL7NCYOKQT3FTGK5NV3WQ'\n",
        "url_test= 'https://raw.githubusercontent.com/MathMachado/Python_RFB/master/Dataframes/Titanic_test.csv?token=AGDJQ622BQZRXWZII2SCCWK5NV3X4'\n",
        "\n",
        "# Carrega os dataframes de treinamento e teste e define 'PassengerId' como chave\n",
        "df_train= pd.read_csv(url_train, index_col='PassengerId')\n",
        "df_test= pd.read_csv(url_test, index_col='PassengerId')\n",
        "\n",
        "# Faz uma cópia dos dados originais da variável resposta 'Survived'\n",
        "df_train_Survived = df_train[\"Survived\"].copy()\n",
        "\n",
        "# merge train and test\n",
        "df = df_train.append(df_test, sort= False)"
      ],
      "execution_count": 0,
      "outputs": []
    },
    {
      "cell_type": "markdown",
      "metadata": {
        "id": "qsDmwtEtwwCf",
        "colab_type": "text"
      },
      "source": [
        "# Entendendo o dataframe"
      ]
    },
    {
      "cell_type": "markdown",
      "metadata": {
        "id": "Q4amEivazIAb",
        "colab_type": "text"
      },
      "source": [
        "Inicialmente, vamos avaliar os dataframes df_train e df_test:"
      ]
    },
    {
      "cell_type": "code",
      "metadata": {
        "id": "Tzn7r6NezNO1",
        "colab_type": "code",
        "colab": {}
      },
      "source": [
        "df_train.shape"
      ],
      "execution_count": 0,
      "outputs": []
    },
    {
      "cell_type": "code",
      "metadata": {
        "id": "NnXIeAudzQCb",
        "colab_type": "code",
        "colab": {}
      },
      "source": [
        "df_test.shape"
      ],
      "execution_count": 0,
      "outputs": []
    },
    {
      "cell_type": "markdown",
      "metadata": {
        "id": "V-1OdC7fzV16",
        "colab_type": "text"
      },
      "source": [
        "* Quantas linhas e colunas possui o dataframe de treinamento e teste?\n",
        "* Porque eu juntei os dois dataframes (df_train e df_test) num único dataframe?"
      ]
    },
    {
      "cell_type": "markdown",
      "metadata": {
        "id": "LOY6WUtIzi9-",
        "colab_type": "text"
      },
      "source": [
        "Abaixo, listamos a lista das variáveis do dataframe:"
      ]
    },
    {
      "cell_type": "code",
      "metadata": {
        "id": "bxJIRi71zlo5",
        "colab_type": "code",
        "colab": {}
      },
      "source": [
        "df.columns"
      ],
      "execution_count": 0,
      "outputs": []
    },
    {
      "cell_type": "markdown",
      "metadata": {
        "id": "vLFQTQLs54WH",
        "colab_type": "text"
      },
      "source": [
        "Quantas linhas e colunas tem noso dataframe?"
      ]
    },
    {
      "cell_type": "code",
      "metadata": {
        "id": "pu2OdsxT55Yq",
        "colab_type": "code",
        "colab": {}
      },
      "source": [
        "df.shape"
      ],
      "execution_count": 0,
      "outputs": []
    },
    {
      "cell_type": "markdown",
      "metadata": {
        "id": "CrcNflfz59TG",
        "colab_type": "text"
      },
      "source": [
        "* Quantas linhas e colunas possuem nosso dataframe?"
      ]
    },
    {
      "cell_type": "markdown",
      "metadata": {
        "id": "Dve6oNuseI2W",
        "colab_type": "text"
      },
      "source": [
        "Visualizar (parte) do dataframe:"
      ]
    },
    {
      "cell_type": "code",
      "metadata": {
        "id": "uoNPVRI3eIGW",
        "colab_type": "code",
        "colab": {}
      },
      "source": [
        "df.head(50)"
      ],
      "execution_count": 0,
      "outputs": []
    },
    {
      "cell_type": "markdown",
      "metadata": {
        "id": "xMOboHmf6UXq",
        "colab_type": "text"
      },
      "source": [
        "O comando a seguir apresenta as principais informações acerca do dataframe:"
      ]
    },
    {
      "cell_type": "code",
      "metadata": {
        "id": "4w6JITQo6YRe",
        "colab_type": "code",
        "colab": {}
      },
      "source": [
        "df.info() "
      ],
      "execution_count": 0,
      "outputs": []
    },
    {
      "cell_type": "markdown",
      "metadata": {
        "id": "JEBGZkF_xfn7",
        "colab_type": "text"
      },
      "source": [
        "# Deletar variáveis/atributos que não serão usados na modelagem\n",
        "* Observe que a variável 'Ticket' não tem valor algum para nosso propósito. Por conta disso, vamos deletá-lo."
      ]
    },
    {
      "cell_type": "markdown",
      "metadata": {
        "id": "EmmqpGJ1qC4M",
        "colab_type": "text"
      },
      "source": [
        "Inicialmente, vamos deletar as variáveis que não são de interesse para a análise. Isso nos ajuda a focar no que de fato é importante."
      ]
    },
    {
      "cell_type": "code",
      "metadata": {
        "id": "7tBy2M8HqHXe",
        "colab_type": "code",
        "colab": {}
      },
      "source": [
        "df = df.drop(['Ticket'], axis=1) # axis= 1 indica que se trata de uma operação na coluna do dataframe. Lembre-se: axis= 0 indica operação nas linhas do dataframe.\n",
        "df.head(3)"
      ],
      "execution_count": 0,
      "outputs": []
    },
    {
      "cell_type": "markdown",
      "metadata": {
        "id": "mEcJxCctlKlX",
        "colab_type": "text"
      },
      "source": [
        "Observe que a coluna 'Ticket' foi de fato deletada do dataframe."
      ]
    },
    {
      "cell_type": "markdown",
      "metadata": {
        "id": "Tydkv58hyIAA",
        "colab_type": "text"
      },
      "source": [
        "A seguir, crio a variável 'Survived2' para ajudar no entendimento dos dados:"
      ]
    },
    {
      "cell_type": "code",
      "metadata": {
        "id": "HEriioNKUzkP",
        "colab_type": "code",
        "colab": {}
      },
      "source": [
        "df['Survived2'] = df['Survived']\n",
        "df['Survived2'] = df['Survived2'].map({0:'Died',1:'Survived'})\n",
        "df.head(50)"
      ],
      "execution_count": 0,
      "outputs": []
    },
    {
      "cell_type": "markdown",
      "metadata": {
        "id": "RjxmxXZmOWPA",
        "colab_type": "text"
      },
      "source": [
        "# Entendendo as variáveis\n",
        "* Vamos verificar como as variáveis estão preenchidas a fim de corrigir possíveis problemas de preenchimento."
      ]
    },
    {
      "cell_type": "markdown",
      "metadata": {
        "colab_type": "text",
        "id": "9Y769VoXqi2h"
      },
      "source": [
        "As funções a seguir nos ajudará com o Data Visualization, cruzando a variável-resposta 'Survived' com qualquer outra passada à função:"
      ]
    },
    {
      "cell_type": "code",
      "metadata": {
        "colab_type": "code",
        "id": "MrDQdGs5qi2o",
        "colab": {}
      },
      "source": [
        "def Avalia_Taxa_Sobrevivencia(df, column):\n",
        "    title_xt = pd.crosstab(df[column], df['Survived2'])\n",
        "    print(pd.crosstab(df[column], df['Survived2'], margins=True))\n",
        "    title_xt_pct = title_xt.div(title_xt.sum(1).astype(float), axis=0)\n",
        "    \n",
        "    title_xt_pct.plot(kind='bar', stacked=True, title='Taxa de Sobrevivência dos Passageiros', \n",
        "                      color= ['r', 'g'])\n",
        "    plt.xlabel(column)\n",
        "    plt.ylabel('Taxa de Sobrevivência')\n",
        "    plt.legend(loc='upper center', bbox_to_anchor=(0.5, -0.05),shadow=True, ncol=2)\n",
        "    plt.show()\n",
        "\n",
        "def Catplot_Graph(x, y, hue= 'Survived2', col= None):\n",
        "    plt.rcdefaults()\n",
        "    g= sns.catplot(x= x, y= y, hue= hue, palette={'Died':'red','Survived':'blue'}, col= col, data=df, kind= 'bar', height=4, aspect=.7)\n",
        "    plt.show()"
      ],
      "execution_count": 0,
      "outputs": []
    },
    {
      "cell_type": "markdown",
      "metadata": {
        "id": "flYJ9yoX-6Kj",
        "colab_type": "text"
      },
      "source": [
        "## Variável 'Sex'\n",
        "\n",
        "* Como está o preenchimento desta variável?"
      ]
    },
    {
      "cell_type": "code",
      "metadata": {
        "id": "KBKJitL4-92J",
        "colab_type": "code",
        "colab": {}
      },
      "source": [
        "df_copia= df.copy()\n",
        "df.Sex.value_counts()"
      ],
      "execution_count": 0,
      "outputs": []
    },
    {
      "cell_type": "markdown",
      "metadata": {
        "id": "3O46mUFc_Iaa",
        "colab_type": "text"
      },
      "source": [
        "Qual sua opinião sobre esse preenchimento?\n",
        "\n",
        "* Algum problema?"
      ]
    },
    {
      "cell_type": "markdown",
      "metadata": {
        "id": "QHqdsQus_Mq9",
        "colab_type": "text"
      },
      "source": [
        "Aqui temos vários problemas... Olhando para estes resultados, você concorda que 'male', 'm', 'MALE', M', 'mALE' e 'Men' se trata da mesma informação?\n",
        "\n",
        "Da mesma forma, 'female', 'f', 'F', 'Female', 'fEMALE', 'Woman', 'w' e 'W' também se trata da mesma informação?\n",
        "\n",
        "Então, vamos fazer o seguinte:\n",
        "\n",
        "Toda vez que eu encontrar um desses valores: ['m', 'MALE', 'M', 'mALE', 'Men'], vou substituir por 'male';\n",
        "Toda vez que eu encontrar um desses valores: ['f', 'F', 'Female', 'fEMALE', 'Woman', 'w', 'W'], vou substituit por 'female'.\n",
        "O comando a seguir faz estas substituições:"
      ]
    },
    {
      "cell_type": "markdown",
      "metadata": {
        "id": "uf2hdb4YnYH6",
        "colab_type": "text"
      },
      "source": [
        "Definindo o dicionário para fazermos as substituições dos valores inconsistentes:"
      ]
    },
    {
      "cell_type": "code",
      "metadata": {
        "id": "E3oYGyX6SmD8",
        "colab_type": "code",
        "colab": {}
      },
      "source": [
        "dSex= {}\n",
        "dSex.update(dict.fromkeys(['m', 'MALE', 'M', 'mALE', 'Men', 'male'], \"male\"))\n",
        "dSex.update(dict.fromkeys(['f', 'F', 'Female', 'fEMALE', 'Woman', 'w', 'W', 'female'], 'female'))\n",
        "dSex"
      ],
      "execution_count": 0,
      "outputs": []
    },
    {
      "cell_type": "code",
      "metadata": {
        "id": "-HUQVwlaSwDE",
        "colab_type": "code",
        "colab": {}
      },
      "source": [
        "df['Sex2']= df['Sex'].map(dSex)\n",
        "df.Sex2.value_counts()"
      ],
      "execution_count": 0,
      "outputs": []
    },
    {
      "cell_type": "code",
      "metadata": {
        "id": "koNu3zBWSZw0",
        "colab_type": "code",
        "colab": {}
      },
      "source": [
        "df.head()"
      ],
      "execution_count": 0,
      "outputs": []
    },
    {
      "cell_type": "markdown",
      "metadata": {
        "id": "5m6SqpIHnhNG",
        "colab_type": "text"
      },
      "source": [
        "**Atenção:** Os comandos abaixo são uma alternativa ao map() aplicado anteriormente para corrigir os atributos da variável 'Sex':"
      ]
    },
    {
      "cell_type": "markdown",
      "metadata": {
        "id": "HBMw8pxrj5-i",
        "colab_type": "text"
      },
      "source": [
        "```\n",
        "df['Sex2'] = df['Sex'].replace(['m', 'MALE', 'M', 'mALE', 'Men'], 'male')\n",
        "df['Sex3'] = df['Sex2'].replace(['f', 'F', 'Female', 'fEMALE', 'Woman', 'w', 'W'], 'female') \n",
        "df.Sex3.value_counts()\n",
        "```\n",
        "\n"
      ]
    },
    {
      "cell_type": "markdown",
      "metadata": {
        "id": "3KpT7q4l_wg6",
        "colab_type": "text"
      },
      "source": [
        "Agora ok, temos algo que faz sentido para a variável 'Sex'."
      ]
    },
    {
      "cell_type": "markdown",
      "metadata": {
        "id": "4VUh6uhgFNBw",
        "colab_type": "text"
      },
      "source": [
        "Ok, de fato corrigimos os problemas de preenchimento da variável 'Sex'. então, vamos renomear nossa variável para o que tínhamos antes:"
      ]
    },
    {
      "cell_type": "code",
      "metadata": {
        "id": "tzIU-1htFDvx",
        "colab_type": "code",
        "colab": {}
      },
      "source": [
        "# Deleta as variáveis 'Sex':\n",
        "df= df.drop(columns= ['Sex'], axis= 1)\n",
        "\n",
        "# Renomea a variável auxiliar 'Sex2' para 'Sex':\n",
        "df= df.rename(columns= {'Sex2': 'Sex'})\n",
        "\n",
        "# Mostra os dados:\n",
        "df.head()"
      ],
      "execution_count": 0,
      "outputs": []
    },
    {
      "cell_type": "code",
      "metadata": {
        "id": "5ywzSaiFa-tw",
        "colab_type": "code",
        "colab": {}
      },
      "source": [
        "sns.catplot(x=\"Sex\", kind=\"count\", data=df)"
      ],
      "execution_count": 0,
      "outputs": []
    },
    {
      "cell_type": "markdown",
      "metadata": {
        "id": "-tYbYZW1V_eO",
        "colab_type": "text"
      },
      "source": [
        "## Variável 'Cabin'"
      ]
    },
    {
      "cell_type": "code",
      "metadata": {
        "id": "GCflGdANp4jU",
        "colab_type": "code",
        "colab": {}
      },
      "source": [
        "set(df['Cabin'])"
      ],
      "execution_count": 0,
      "outputs": []
    },
    {
      "cell_type": "markdown",
      "metadata": {
        "id": "7E6yje89u7KF",
        "colab_type": "text"
      },
      "source": [
        "Como podemos ver, trata-se de uma variável categórica com vários níveis. Portanto, vamos capturar somente a primeira letra da variável 'Cabin'. Para tal, vamos utilizar a função slice().\n",
        "\n",
        "> slice() - Get substring from a given string using slice object;"
      ]
    },
    {
      "cell_type": "markdown",
      "metadata": {
        "id": "wmZLlSaArR6F",
        "colab_type": "text"
      },
      "source": [
        "A seguir, capturamos a primeira letra da variável 'Cabin':"
      ]
    },
    {
      "cell_type": "code",
      "metadata": {
        "id": "hUZTJU0MvVxP",
        "colab_type": "code",
        "colab": {}
      },
      "source": [
        "# definindo a variável 'Deck' que representará a primeira letra da variável 'Cabin'\n",
        "df[\"Deck\"] = df[\"Cabin\"].str.slice(0,1)\n",
        "df.Deck.value_counts()"
      ],
      "execution_count": 0,
      "outputs": []
    },
    {
      "cell_type": "markdown",
      "metadata": {
        "id": "6myhrth0rZ6t",
        "colab_type": "text"
      },
      "source": [
        "A seguir, vamos extrair a parte numérica da variável 'Cabin' usando Expressões Regulares:"
      ]
    },
    {
      "cell_type": "code",
      "metadata": {
        "id": "8UXkACPmsfwN",
        "colab_type": "code",
        "colab": {}
      },
      "source": [
        "# Import the library Regular Expressions\n",
        "import re"
      ],
      "execution_count": 0,
      "outputs": []
    },
    {
      "cell_type": "code",
      "metadata": {
        "id": "QKk-fnW4rf4o",
        "colab_type": "code",
        "colab": {}
      },
      "source": [
        "# Primeiramente, usamos a função split() para separar o conteúdo da variável em colunas: \n",
        "new = df[\"Cabin\"].str.split(\" \", n = 3, expand = True) \n",
        "new.head()"
      ],
      "execution_count": 0,
      "outputs": []
    },
    {
      "cell_type": "markdown",
      "metadata": {
        "id": "dFqoR-Xew9gX",
        "colab_type": "text"
      },
      "source": [
        "Observe acima que o comando gera quantos splits da variável eu quiser. No entanto, por simplicidade, me interessa somente o primeiro split."
      ]
    },
    {
      "cell_type": "markdown",
      "metadata": {
        "id": "_M7vA6WoVG05",
        "colab_type": "text"
      },
      "source": [
        "Agora, vou extrair o número do assento usando Expressões Regulares:"
      ]
    },
    {
      "cell_type": "code",
      "metadata": {
        "id": "P7NTcsGOxxSX",
        "colab_type": "code",
        "colab": {}
      },
      "source": [
        "new2= new[0].str.extract('(\\d+)')\n",
        "new2.head()"
      ],
      "execution_count": 0,
      "outputs": []
    },
    {
      "cell_type": "markdown",
      "metadata": {
        "id": "bf8vw2Mc18bQ",
        "colab_type": "text"
      },
      "source": [
        "Por fim, vou carregar esta informação ao dataframe df:"
      ]
    },
    {
      "cell_type": "code",
      "metadata": {
        "id": "6l6EoRvsxRXn",
        "colab_type": "code",
        "colab": {}
      },
      "source": [
        "df[\"Seat\"]= new2\n",
        "df.head()"
      ],
      "execution_count": 0,
      "outputs": []
    },
    {
      "cell_type": "markdown",
      "metadata": {
        "id": "LK4V61uy3N9s",
        "colab_type": "text"
      },
      "source": [
        "Por fim, excluir a variável 'Cabin':"
      ]
    },
    {
      "cell_type": "code",
      "metadata": {
        "id": "4uAr55J43NY7",
        "colab_type": "code",
        "colab": {}
      },
      "source": [
        "df= df.drop(columns= [\"Cabin\"], axis=1, errors=\"ignore\")"
      ],
      "execution_count": 0,
      "outputs": []
    },
    {
      "cell_type": "markdown",
      "metadata": {
        "id": "qZuH7YJXZCgY",
        "colab_type": "text"
      },
      "source": [
        "## Variável 'Embarked'"
      ]
    },
    {
      "cell_type": "code",
      "metadata": {
        "id": "nTPikhrIZGya",
        "colab_type": "code",
        "colab": {}
      },
      "source": [
        "df.Deck.value_counts()"
      ],
      "execution_count": 0,
      "outputs": []
    },
    {
      "cell_type": "code",
      "metadata": {
        "id": "ixbZsuqOZsOc",
        "colab_type": "code",
        "colab": {}
      },
      "source": [
        "sns.catplot(x=\"Deck\", kind=\"count\", data=df)"
      ],
      "execution_count": 0,
      "outputs": []
    },
    {
      "cell_type": "markdown",
      "metadata": {
        "id": "VvdU8aAwZNvG",
        "colab_type": "text"
      },
      "source": [
        "Não vejo problemas com esta variável. Vamos em frente..."
      ]
    },
    {
      "cell_type": "markdown",
      "metadata": {
        "id": "QBWfecCEF9ie",
        "colab_type": "text"
      },
      "source": [
        "## Variável 'Pclass'"
      ]
    },
    {
      "cell_type": "code",
      "metadata": {
        "id": "5TajFI92F_UI",
        "colab_type": "code",
        "colab": {}
      },
      "source": [
        "df.Pclass.value_counts()"
      ],
      "execution_count": 0,
      "outputs": []
    },
    {
      "cell_type": "markdown",
      "metadata": {
        "id": "atG9HFsYGNHE",
        "colab_type": "text"
      },
      "source": [
        "Algum problema com esta variável?"
      ]
    },
    {
      "cell_type": "code",
      "metadata": {
        "id": "hdBdLzIPg3xD",
        "colab_type": "code",
        "colab": {}
      },
      "source": [
        "sns.catplot(x=\"Pclass\", kind=\"count\", data=df)"
      ],
      "execution_count": 0,
      "outputs": []
    },
    {
      "cell_type": "markdown",
      "metadata": {
        "id": "Qrnc6VUKSTNp",
        "colab_type": "text"
      },
      "source": [
        "## Variável 'Parch'"
      ]
    },
    {
      "cell_type": "code",
      "metadata": {
        "id": "2i4ed-0zSvJc",
        "colab_type": "code",
        "colab": {}
      },
      "source": [
        "df.Parch.value_counts()"
      ],
      "execution_count": 0,
      "outputs": []
    },
    {
      "cell_type": "code",
      "metadata": {
        "id": "qd7u__6KZ6DM",
        "colab_type": "code",
        "colab": {}
      },
      "source": [
        "sns.catplot(x=\"Parch\", kind=\"count\", data=df)"
      ],
      "execution_count": 0,
      "outputs": []
    },
    {
      "cell_type": "markdown",
      "metadata": {
        "id": "C1ICby1oSd41",
        "colab_type": "text"
      },
      "source": [
        "## Variável 'SibSp'"
      ]
    },
    {
      "cell_type": "code",
      "metadata": {
        "id": "5n7JNEQqTNjz",
        "colab_type": "code",
        "colab": {}
      },
      "source": [
        "df.SibSp.value_counts()"
      ],
      "execution_count": 0,
      "outputs": []
    },
    {
      "cell_type": "markdown",
      "metadata": {
        "id": "NLfMhiy0x4u5",
        "colab_type": "text"
      },
      "source": [
        "* Algum problema?"
      ]
    },
    {
      "cell_type": "code",
      "metadata": {
        "id": "nayYFRK9g8iV",
        "colab_type": "code",
        "colab": {}
      },
      "source": [
        "sns.catplot(x=\"SibSp\", kind=\"count\", data=df)"
      ],
      "execution_count": 0,
      "outputs": []
    },
    {
      "cell_type": "markdown",
      "metadata": {
        "id": "0MO9jj2NvGp_",
        "colab_type": "text"
      },
      "source": [
        "## Variável 'Fare'"
      ]
    },
    {
      "cell_type": "markdown",
      "metadata": {
        "colab_type": "text",
        "id": "UuWlMV6XvQHs"
      },
      "source": [
        "Transformações: arredondar variável Fare."
      ]
    },
    {
      "cell_type": "code",
      "metadata": {
        "colab_type": "code",
        "id": "boAj64RHvQHu",
        "colab": {}
      },
      "source": [
        "df['Fare']= round(df['Fare'], 0)"
      ],
      "execution_count": 0,
      "outputs": []
    },
    {
      "cell_type": "code",
      "metadata": {
        "id": "htQ1dODRwfHw",
        "colab_type": "code",
        "colab": {}
      },
      "source": [
        "df.plot.scatter('Age','Fare')"
      ],
      "execution_count": 0,
      "outputs": []
    },
    {
      "cell_type": "markdown",
      "metadata": {
        "id": "3CIqHUJpvcPa",
        "colab_type": "text"
      },
      "source": [
        "## Variável 'Age'"
      ]
    },
    {
      "cell_type": "markdown",
      "metadata": {
        "id": "VULFXjvap3qZ",
        "colab_type": "text"
      },
      "source": [
        "Transformações: arredondar variável Fare."
      ]
    },
    {
      "cell_type": "code",
      "metadata": {
        "id": "kpNhCRxcp7h9",
        "colab_type": "code",
        "colab": {}
      },
      "source": [
        "df['Age']= round(df['Age'], 0)"
      ],
      "execution_count": 0,
      "outputs": []
    },
    {
      "cell_type": "markdown",
      "metadata": {
        "id": "04XYWE3pC278",
        "colab_type": "text"
      },
      "source": [
        "# Derivar atributos"
      ]
    },
    {
      "cell_type": "markdown",
      "metadata": {
        "id": "H6n6PzWjoSYf",
        "colab_type": "text"
      },
      "source": [
        "## Variável 'MV_Age'"
      ]
    },
    {
      "cell_type": "code",
      "metadata": {
        "id": "QluOnZD7kHFW",
        "colab_type": "code",
        "colab": {}
      },
      "source": [
        "df.head()"
      ],
      "execution_count": 0,
      "outputs": []
    },
    {
      "cell_type": "markdown",
      "metadata": {
        "colab_type": "text",
        "id": "qKMVIXGDsNkh"
      },
      "source": [
        "Para construir a variável 'MV_Age', vamos utilizar a função pd.isna(). Por exemplo, o comando abaixo verifica se cada linha/observação da variável 'Age' é um NaN."
      ]
    },
    {
      "cell_type": "code",
      "metadata": {
        "colab_type": "code",
        "id": "UHzKFytXsNkh",
        "colab": {}
      },
      "source": [
        "df['Age'].isna().sum()"
      ],
      "execution_count": 0,
      "outputs": []
    },
    {
      "cell_type": "markdown",
      "metadata": {
        "colab_type": "text",
        "id": "lW4NYZrjsNkk"
      },
      "source": [
        "A seguir, criamos uma variável auxiliar intitulada 'MV_AUX', que receberá 'True', caso 'Age' seja um valor válido e 'False' caso 'Age' seja NaN.\n",
        "\n",
        "Veja abaixo:"
      ]
    },
    {
      "cell_type": "code",
      "metadata": {
        "colab_type": "code",
        "id": "-bTvVuVpsNkl",
        "colab": {}
      },
      "source": [
        "df['MV_AUX']= df['Age'].isna()\n",
        "df.head()"
      ],
      "execution_count": 0,
      "outputs": []
    },
    {
      "cell_type": "code",
      "metadata": {
        "colab_type": "code",
        "id": "R_gk5S4nsNko",
        "colab": {}
      },
      "source": [
        "# Adiciona a nova coluna baseado no dicionario \n",
        "df['MV_Age'] = df['MV_AUX'].map({True: 1, False: 0})\n",
        "df.head()"
      ],
      "execution_count": 0,
      "outputs": []
    },
    {
      "cell_type": "markdown",
      "metadata": {
        "colab_type": "text",
        "id": "IHzMcHl8sNkq"
      },
      "source": [
        "Deleta a variável auxiliar 'MV_AUX':"
      ]
    },
    {
      "cell_type": "code",
      "metadata": {
        "colab_type": "code",
        "id": "DYKh0uMYsNks",
        "colab": {}
      },
      "source": [
        "df= df.drop(columns= ['MV_AUX'], axis=1)"
      ],
      "execution_count": 0,
      "outputs": []
    },
    {
      "cell_type": "markdown",
      "metadata": {
        "colab_type": "text",
        "id": "pDisweAvsNkx"
      },
      "source": [
        "Nosso dataframe está assim:"
      ]
    },
    {
      "cell_type": "code",
      "metadata": {
        "colab_type": "code",
        "id": "br6d4arxsNky",
        "colab": {}
      },
      "source": [
        "df.head()"
      ],
      "execution_count": 0,
      "outputs": []
    },
    {
      "cell_type": "markdown",
      "metadata": {
        "id": "B_3s5cgxfNKQ",
        "colab_type": "text"
      },
      "source": [
        "## Variável 'Title'\n",
        "\n",
        "* Para fins de Data Manipulation, vamos capturar o tratamento dos passageiros contido na variável 'Name'. Ou seja, 'Mr.', 'Mrs.', 'Miss' e etc...\n",
        "\n",
        "> Fonte: As funções get_title e title_map foram extraídas de https://www.kaggle.com/tjsauer/titanic-survival-python-solution"
      ]
    },
    {
      "cell_type": "code",
      "metadata": {
        "id": "gslSjRdDoJFY",
        "colab_type": "code",
        "colab": {}
      },
      "source": [
        "df.head()"
      ],
      "execution_count": 0,
      "outputs": []
    },
    {
      "cell_type": "code",
      "metadata": {
        "id": "nfIG6toGfhd5",
        "colab_type": "code",
        "colab": {}
      },
      "source": [
        "def get_title(name):\n",
        "    if '.' in name:\n",
        "        return name.split(',')[1].split('.')[0].strip()\n",
        "    else:\n",
        "        return 'Unknown'\n",
        "\n",
        "def title_map(title):\n",
        "    if title in ['Mr', 'Ms']:\n",
        "        return 1\n",
        "    elif title in ['Master']:\n",
        "        return 2\n",
        "    elif title in ['Ms','Mlle','Miss']:\n",
        "        return 3\n",
        "    elif title in [\"Mme\", \"Ms\", \"Mrs\"]:\n",
        "        return 4\n",
        "    elif title in [\"Jonkheer\", \"Don\", \"Sir\", \"the Countess\", \"Dona\", \"Lady\"]:\n",
        "        return 5\n",
        "    elif title in [\"Capt\", \"Col\", \"Major\", \"Dr\", \"Rev\"]:\n",
        "        return 6\n",
        "    else:\n",
        "        return 7"
      ],
      "execution_count": 0,
      "outputs": []
    },
    {
      "cell_type": "markdown",
      "metadata": {
        "id": "7qNUwnCepe_x",
        "colab_type": "text"
      },
      "source": [
        "Captura o tratamento dos passageiros:"
      ]
    },
    {
      "cell_type": "code",
      "metadata": {
        "id": "r-Ltf33vgJ6Q",
        "colab_type": "code",
        "colab": {}
      },
      "source": [
        "df['Title'] = df['Name'].apply(get_title).apply(title_map)  \n",
        "set(df['Title']) # Esse comando mostra os NaN's da variável"
      ],
      "execution_count": 0,
      "outputs": []
    },
    {
      "cell_type": "markdown",
      "metadata": {
        "id": "D3hY0WVhpRYK",
        "colab_type": "text"
      },
      "source": [
        "Drop a coluna 'Name', pois não vamos mais precisar dela em nossas análises:"
      ]
    },
    {
      "cell_type": "code",
      "metadata": {
        "id": "Y8i3xKCes5WF",
        "colab_type": "code",
        "colab": {}
      },
      "source": [
        "df= df.drop(columns= [\"Name\"], axis=1, errors=\"ignore\")"
      ],
      "execution_count": 0,
      "outputs": []
    },
    {
      "cell_type": "markdown",
      "metadata": {
        "id": "7Sl1uFdwpW3y",
        "colab_type": "text"
      },
      "source": [
        "Apresenta o conteúdo do dataframe:"
      ]
    },
    {
      "cell_type": "code",
      "metadata": {
        "id": "2uFnw-pZpan-",
        "colab_type": "code",
        "colab": {}
      },
      "source": [
        "df.head(3)"
      ],
      "execution_count": 0,
      "outputs": []
    },
    {
      "cell_type": "markdown",
      "metadata": {
        "id": "ci5FKBazGidH",
        "colab_type": "text"
      },
      "source": [
        "## Variável 'Family_Size'\n",
        "* As variáveis SibSp e Parch estão relacionadas ao grupo familiar. Portanto, vamos criar a variável 'Family_Size', da seguinte forma:"
      ]
    },
    {
      "cell_type": "code",
      "metadata": {
        "id": "DICRTPxhGvt5",
        "colab_type": "code",
        "colab": {}
      },
      "source": [
        "df['Family_Size']= df['SibSp']+df['Parch']+1"
      ],
      "execution_count": 0,
      "outputs": []
    },
    {
      "cell_type": "markdown",
      "metadata": {
        "id": "7sRlPdbaHWd5",
        "colab_type": "text"
      },
      "source": [
        "A seguir, verificamos se esta operação produziu algum NaN."
      ]
    },
    {
      "cell_type": "code",
      "metadata": {
        "id": "xSWxT_gNHN7Y",
        "colab_type": "code",
        "colab": {}
      },
      "source": [
        "df['Family_Size'].isnull().sum()"
      ],
      "execution_count": 0,
      "outputs": []
    },
    {
      "cell_type": "code",
      "metadata": {
        "id": "6tLLmTrZhDvG",
        "colab_type": "code",
        "colab": {}
      },
      "source": [
        "sns.catplot(x=\"Family_Size\", kind=\"count\", data=df)"
      ],
      "execution_count": 0,
      "outputs": []
    },
    {
      "cell_type": "code",
      "metadata": {
        "id": "sxwSYcLBY1gy",
        "colab_type": "code",
        "colab": {}
      },
      "source": [
        "set(df['Family_Size']) # Esse comando mostra os NaN's da variável"
      ],
      "execution_count": 0,
      "outputs": []
    },
    {
      "cell_type": "markdown",
      "metadata": {
        "id": "RKOp_r1f1xyA",
        "colab_type": "text"
      },
      "source": [
        "# Conclusão"
      ]
    },
    {
      "cell_type": "code",
      "metadata": {
        "id": "ZUliis0NlU3K",
        "colab_type": "code",
        "colab": {}
      },
      "source": [
        "df.head(50)"
      ],
      "execution_count": 0,
      "outputs": []
    },
    {
      "cell_type": "markdown",
      "metadata": {
        "id": "oAIrbEJ5nsiz",
        "colab_type": "text"
      },
      "source": [
        "# Salvar cópia do dataframe tratado nesta fase"
      ]
    },
    {
      "cell_type": "code",
      "metadata": {
        "id": "f2ktaBhAnxPi",
        "colab_type": "code",
        "colab": {}
      },
      "source": [
        "df.to_csv(\"df_3DP_FE1.csv\", sep= ',', index = True, header=True)"
      ],
      "execution_count": 0,
      "outputs": []
    }
  ]
}