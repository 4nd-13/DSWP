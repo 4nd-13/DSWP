{
  "nbformat": 4,
  "nbformat_minor": 0,
  "metadata": {
    "colab": {
      "name": "Untitled0.ipynb",
      "version": "0.3.2",
      "provenance": [],
      "private_outputs": true,
      "toc_visible": true,
      "include_colab_link": true
    },
    "kernelspec": {
      "name": "python3",
      "display_name": "Python 3"
    },
    "accelerator": "GPU"
  },
  "cells": [
    {
      "cell_type": "markdown",
      "metadata": {
        "id": "view-in-github",
        "colab_type": "text"
      },
      "source": [
        "<a href=\"https://colab.research.google.com/github/MathMachado/Python_RFB/blob/master/Projetos/Titanic/Titanic.ipynb\" target=\"_parent\"><img src=\"https://colab.research.google.com/assets/colab-badge.svg\" alt=\"Open In Colab\"/></a>"
      ]
    },
    {
      "cell_type": "markdown",
      "metadata": {
        "id": "pxo5UjpNDw_r",
        "colab_type": "text"
      },
      "source": [
        "# PROJETO TITANIC\n",
        "\n",
        "end_to_end regression project: https://www.kaggle.com/pablocastilla/predict-house-prices-with-xgboost-regression"
      ]
    },
    {
      "cell_type": "markdown",
      "metadata": {
        "id": "l9DGifbWSmW3",
        "colab_type": "text"
      },
      "source": [
        "## Machine Learning com Python (Scikit-Learn)\n",
        "\n",
        "![Scikit-Learn](https://github.com/MathMachado/Python_RFB/blob/master/Material/scikit-learn-1.png?raw=true)"
      ]
    },
    {
      "cell_type": "markdown",
      "metadata": {
        "id": "R0je1wshAHZm",
        "colab_type": "text"
      },
      "source": [
        "Esse é um exemplo completo do uso de Data Science com o Iris dataset.\n",
        "\n",
        "https://nbviewer.jupyter.org/github/rhiever/Data-Analysis-and-Machine-Learning-Projects/blob/master/example-data-science-notebook/Example%20Machine%20Learning%20Notebook.ipynb\n",
        "\n",
        "\n",
        "Usar esse exemplo: https://towardsdatascience.com/machine-learning-workflow-on-diabetes-data-part-01-573864fcc6b8\n",
        "\n",
        "end-to-end Data Science Project:\n",
        "https://www.kaggle.com/tjsauer/titanic-survival-python-solution\n",
        "\n",
        "https://www.kaggle.com/sgus1318/titanic-analysis-learning-to-swim-with-python\n",
        "\n",
        "https://www.kaggle.com/luxcem/titanic-introduction-to-data-science-with-python\n",
        "\n",
        "https://towardsdatascience.com/your-first-kaggle-competition-submission-64da366e48cb\n",
        "\n",
        "https://www.dataquest.io/blog/kaggle-fundamentals/\n",
        "\n",
        "https://medium.com/i-like-big-data-and-i-cannot-lie/how-i-scored-in-the-top-9-of-kaggles-titanic-machine-learning-challenge-243b5f45c8e9\n",
        "\n",
        "https://ahmedbesbes.com/how-to-score-08134-in-titanic-kaggle-challenge.html\n",
        "\n",
        "https://www.datacamp.com/community/tutorials/kaggle-machine-learning-eda\n",
        "\n",
        "https://www.mattoncode.pl/keras-neural-network-kaggle-competition/\n",
        "\n",
        "\n",
        "Para os gráficos, use: https://github.com/MathMachado/complete_data_visualization_with_python/blob/master/A_complete_data_visualization_with_python.ipynb\n",
        "\n",
        "\n",
        "\n"
      ]
    },
    {
      "cell_type": "markdown",
      "metadata": {
        "id": "4InXMeearFT_",
        "colab_type": "text"
      },
      "source": [
        "# 1. BUSINESS UNDERSTANDING\n",
        "> Esta fase é dedicada a entender o que se deseja alcançar a partir de uma perspectiva de negócios. O objetivo deste estágio do processo é descobrir fatores importantes que possam influenciar o resultado do projeto.\n",
        "\n",
        "* Nosso objetivo é construir um modelo que seja capaz de predizer se um determinado sobrevivente do Titanic sobreviveu ou morreu na tragédia."
      ]
    },
    {
      "cell_type": "markdown",
      "metadata": {
        "id": "h2YUyZ1NrqKi",
        "colab_type": "text"
      },
      "source": [
        "![BusinessUnderstanding](https://github.com/MathMachado/Python_RFB/blob/master/Material/BusinessUnderstanding.png?raw=true)"
      ]
    },
    {
      "cell_type": "markdown",
      "metadata": {
        "id": "v6uuGHBeU5rV",
        "colab_type": "text"
      },
      "source": [
        "# 2. DATA UNDERSTANDING\n",
        "* O foco desta fase está na coleta e exploração dos dados. Lembre-se de que a precisão dos modelos de ML depende da quantidade e qualidade dos dados."
      ]
    },
    {
      "cell_type": "markdown",
      "metadata": {
        "id": "GRSzYf-ysDZX",
        "colab_type": "text"
      },
      "source": [
        "![DataUnderstanding](https://github.com/MathMachado/Python_RFB/blob/master/Material/DataUnderstanding.png?raw=true)"
      ]
    },
    {
      "cell_type": "markdown",
      "metadata": {
        "id": "cW8md9mXVJcL",
        "colab_type": "text"
      },
      "source": [
        "# 3. DATA PREPARATION\n",
        "> Esta fase é dedicada à preparar, transformar e limpar dados: remover duplicatas, corrigir erros, lidar com Missing Values, normalização, conversões de tipo de dados e etc."
      ]
    },
    {
      "cell_type": "markdown",
      "metadata": {
        "id": "-wsjhgY5wm6R",
        "colab_type": "text"
      },
      "source": [
        "![DataPreparation](https://github.com/MathMachado/Python_RFB/blob/master/Material/DataPreparation.png?raw=true)"
      ]
    },
    {
      "cell_type": "markdown",
      "metadata": {
        "id": "UGJtCSbTwraG",
        "colab_type": "text"
      },
      "source": [
        "Nesta fase vamos estudar:\n",
        "\n",
        "<input type=\"checkbox\" disabled checked> Missing Values\n",
        "\n",
        "<input type=\"checkbox\" disabled checked> Outliers\n",
        "\n",
        "<input type=\"checkbox\" disabled checked> Rescaling Data\n",
        "\n",
        "<input type=\"checkbox\" disabled checked> Feature Engineering\n",
        "\n",
        "<input type=\"checkbox\" disabled checked> Feature Selection ou Dimensionality Reduction\n",
        "\n",
        "<input type=\"checkbox\" disabled checked> Data Cleaning;\n",
        "\n",
        "<input type=\"checkbox\" disabled checked> Preparar e transformar dados;\n",
        "\n",
        "<input type=\"checkbox\" disabled checked> Conversão de tipos de dados;\n",
        "\n",
        "> \"_80% of a Data Scientist's valuable time is spent simply finding, cleansing, and organizing data, leaving only 20% to actually perform analysis..._\" IBM Data Analytics."
      ]
    },
    {
      "cell_type": "markdown",
      "metadata": {
        "id": "-TdSY74U0XS9",
        "colab_type": "text"
      },
      "source": [
        "## Leitura Recomendada:\n",
        "* [Why, How and When to Scale your Features](https://medium.com/greyatom/why-how-and-when-to-scale-your-features-4b30ab09db5e)"
      ]
    },
    {
      "cell_type": "markdown",
      "metadata": {
        "id": "eLDoLK5xs-_v",
        "colab_type": "text"
      },
      "source": [
        "## Dados"
      ]
    },
    {
      "cell_type": "markdown",
      "metadata": {
        "id": "ZuENIuJtj6_g",
        "colab_type": "text"
      },
      "source": [
        "A seguir, as variáveis/atributos do dataframe:"
      ]
    },
    {
      "cell_type": "markdown",
      "metadata": {
        "id": "2Th-GN_YkBo0",
        "colab_type": "text"
      },
      "source": [
        "* Dicionário de dados do dataframe Titanic:\n",
        "    * **PassengerID**: ID do passageiro;\n",
        "    * **Survived**: Indicador, sendo 1= Passageiro sobreviveu e 0= Passageiro morreu;\n",
        "    * **Pclass**: Classe em que o passageiro viaja (1 classe, 2 classe, 3 classe, etc);\n",
        "    * **Age**: Idade do Passageiro;\n",
        "    * **SibSp**: Número de parentes a bordo (esposa, irmãos, pais e etc);\n",
        "    * **Parch**: Número de pais/crianças a bordo;\n",
        "    * **Fare**: Valor pago pela viagem;\n",
        "    * **Cabin**: Cabine do Passageiro;\n",
        "    * **Embarked**: A porta pelo qual o Passageiro embarcou.\n",
        "    * **Name**: Nome do Passageiro;\n",
        "    * **Sex**: Sexo do Passageiro."
      ]
    },
    {
      "cell_type": "markdown",
      "metadata": {
        "id": "q-chlATnKSza",
        "colab_type": "text"
      },
      "source": [
        "## Carregar as bibliotecas (genéricas) Python"
      ]
    },
    {
      "cell_type": "code",
      "metadata": {
        "id": "7FJxrZckYxk6",
        "colab_type": "code",
        "colab": {}
      },
      "source": [
        "# Pandas\n",
        "import pandas as pd\n",
        "from pandas import Series, DataFrame\n",
        "\n",
        "import collections \n",
        "import random\n",
        "\n",
        "# numpy, matplotlib, seaborn\n",
        "import numpy as np\n",
        "import matplotlib.pyplot as plt\n",
        "import seaborn as sns\n",
        "sns.set_style('whitegrid')\n",
        "%matplotlib inline\n",
        "\n",
        "# preprocessing data\n",
        "from sklearn.model_selection import cross_val_score, cross_val_predict\n",
        "from sklearn.preprocessing import OneHotEncoder\n",
        "from sklearn.preprocessing import LabelEncoder\n",
        "from sklearn.base import BaseEstimator, TransformerMixin\n",
        "from sklearn.pipeline import Pipeline\n",
        "from sklearn.preprocessing import StandardScaler\n",
        "from sklearn.model_selection import train_test_split\n",
        "from sklearn.model_selection import StratifiedShuffleSplit\n",
        "from sklearn.pipeline import FeatureUnion\n",
        "\n",
        "# machine learning\n",
        "from sklearn.model_selection import cross_val_score\n",
        "from sklearn.model_selection import RandomizedSearchCV\n",
        "from scipy.stats import randint as sp_randint\n",
        "from sklearn.ensemble import VotingClassifier\n",
        "from sklearn.linear_model import RidgeClassifier, PassiveAggressiveClassifier, SGDClassifier, LogisticRegressionCV, LogisticRegression\n",
        "from sklearn.naive_bayes import BernoulliNB, MultinomialNB\n",
        "from sklearn.neighbors import KNeighborsClassifier, RadiusNeighborsClassifier, NearestCentroid\n",
        "from sklearn.neural_network import MLPClassifier\n",
        "from sklearn.tree import DecisionTreeClassifier, ExtraTreeClassifier\n",
        "from sklearn.ensemble import AdaBoostClassifier, BaggingClassifier, RandomForestClassifier\n",
        "from sklearn.gaussian_process import GaussianProcessClassifier\n",
        "from sklearn.svm import SVC\n",
        "\n",
        "from sklearn.ensemble import ExtraTreesClassifier\n",
        "\n",
        "from xgboost import XGBClassifier\n",
        "\n",
        "# remove warnings to keep notebook clean\n",
        "import warnings\n",
        "warnings.filterwarnings('ignore')"
      ],
      "execution_count": 0,
      "outputs": []
    },
    {
      "cell_type": "markdown",
      "metadata": {
        "id": "0Wq6Y3eFZCTE",
        "colab_type": "text"
      },
      "source": [
        "## Carregar Dados"
      ]
    },
    {
      "cell_type": "code",
      "metadata": {
        "id": "t9QWCCrLZFfW",
        "colab_type": "code",
        "colab": {}
      },
      "source": [
        "url_train= 'https://raw.githubusercontent.com/MathMachado/Python_RFB/master/Dataframes/Titanic_With_MV.csv?token=AGDJQ66VHCKS4WOSCOC3E3S5MATZ4'\n",
        "url_test= 'https://raw.githubusercontent.com/MathMachado/Python_RFB/master/Dataframes/Titanic_test.csv?token=AGDJQ67KV6QPCZZ5YUAMVIC5MAT5K'\n",
        "\n",
        "# Carrega os dataframes de treinamento e teste e define 'PassengerId' como chave\n",
        "df_train= pd.read_csv(url_train, index_col='PassengerId')\n",
        "df_test= pd.read_csv(url_test, index_col='PassengerId')\n",
        "\n",
        "# Faz uma cópia dos dados originais da variável resposta 'Survived'\n",
        "df_train_Survived = df_train[\"Survived\"].copy()\n",
        "\n",
        "# merge train and test\n",
        "df = df_train.append(df_test, sort= False)\n",
        "\n",
        "# Registra os índices do dataframe de treinamento e teste para separarmos estes dataframes mais tarde\n",
        "train_index = df_train.index\n",
        "test_index = df_test.index"
      ],
      "execution_count": 0,
      "outputs": []
    },
    {
      "cell_type": "markdown",
      "metadata": {
        "id": "qsDmwtEtwwCf",
        "colab_type": "text"
      },
      "source": [
        "## Entendendo o dataframe"
      ]
    },
    {
      "cell_type": "markdown",
      "metadata": {
        "id": "Q4amEivazIAb",
        "colab_type": "text"
      },
      "source": [
        "Inicialmente, vamos avaliar os dataframes df_train e df_test:"
      ]
    },
    {
      "cell_type": "code",
      "metadata": {
        "id": "Tzn7r6NezNO1",
        "colab_type": "code",
        "colab": {}
      },
      "source": [
        "df_train.shape"
      ],
      "execution_count": 0,
      "outputs": []
    },
    {
      "cell_type": "code",
      "metadata": {
        "id": "NnXIeAudzQCb",
        "colab_type": "code",
        "colab": {}
      },
      "source": [
        "df_test.shape"
      ],
      "execution_count": 0,
      "outputs": []
    },
    {
      "cell_type": "markdown",
      "metadata": {
        "id": "V-1OdC7fzV16",
        "colab_type": "text"
      },
      "source": [
        "* Quantas linhas e colunas possui o dataframe?\n",
        "* Porque eu juntei os dois dataframes (df_train e df_test) num único dataframe?"
      ]
    },
    {
      "cell_type": "markdown",
      "metadata": {
        "id": "LOY6WUtIzi9-",
        "colab_type": "text"
      },
      "source": [
        "Abaixo, listamos a lista das variáveis do dataframe:"
      ]
    },
    {
      "cell_type": "code",
      "metadata": {
        "id": "bxJIRi71zlo5",
        "colab_type": "code",
        "colab": {}
      },
      "source": [
        "df.columns"
      ],
      "execution_count": 0,
      "outputs": []
    },
    {
      "cell_type": "markdown",
      "metadata": {
        "id": "vLFQTQLs54WH",
        "colab_type": "text"
      },
      "source": [
        "Quantas linhas e colunas tem noso dataframe?"
      ]
    },
    {
      "cell_type": "code",
      "metadata": {
        "id": "pu2OdsxT55Yq",
        "colab_type": "code",
        "colab": {}
      },
      "source": [
        "df.shape"
      ],
      "execution_count": 0,
      "outputs": []
    },
    {
      "cell_type": "markdown",
      "metadata": {
        "id": "CrcNflfz59TG",
        "colab_type": "text"
      },
      "source": [
        "* Quantas linhas e colunas possuem nosso dataframe?"
      ]
    },
    {
      "cell_type": "markdown",
      "metadata": {
        "id": "Dve6oNuseI2W",
        "colab_type": "text"
      },
      "source": [
        "Visualizar (parte) do dataframe:"
      ]
    },
    {
      "cell_type": "code",
      "metadata": {
        "id": "uoNPVRI3eIGW",
        "colab_type": "code",
        "colab": {}
      },
      "source": [
        "df.head(50)"
      ],
      "execution_count": 0,
      "outputs": []
    },
    {
      "cell_type": "markdown",
      "metadata": {
        "id": "xMOboHmf6UXq",
        "colab_type": "text"
      },
      "source": [
        "O comando a seguir apresenta as principais informações acerca do dataframe:"
      ]
    },
    {
      "cell_type": "code",
      "metadata": {
        "id": "4w6JITQo6YRe",
        "colab_type": "code",
        "colab": {}
      },
      "source": [
        "df.info() "
      ],
      "execution_count": 0,
      "outputs": []
    },
    {
      "cell_type": "markdown",
      "metadata": {
        "id": "JEBGZkF_xfn7",
        "colab_type": "text"
      },
      "source": [
        "## Deletar variáveis/atributos que não serão usados na modelagem\n",
        "* Observe que a variável 'Ticket' não tem valor algum para nosso propósito. Por conta disso, vamos deletá-lo."
      ]
    },
    {
      "cell_type": "markdown",
      "metadata": {
        "id": "EmmqpGJ1qC4M",
        "colab_type": "text"
      },
      "source": [
        "Inicialmente, vamos deletar as variáveis que não são de interesse para a análise. Isso nos ajuda a focar no que de fato é importante."
      ]
    },
    {
      "cell_type": "code",
      "metadata": {
        "id": "7tBy2M8HqHXe",
        "colab_type": "code",
        "colab": {}
      },
      "source": [
        "df = df.drop(['Ticket'], axis=1) # axis= 1 indica que se trata de uma operação na coluna do dataframe. Lembre-se: axis= 0 indica operação nas linhas do dataframe.\n",
        "df.head(3)"
      ],
      "execution_count": 0,
      "outputs": []
    },
    {
      "cell_type": "markdown",
      "metadata": {
        "id": "mEcJxCctlKlX",
        "colab_type": "text"
      },
      "source": [
        "Observe que a coluna 'Ticket' foi de fato deletada do dataframe."
      ]
    },
    {
      "cell_type": "markdown",
      "metadata": {
        "id": "Tydkv58hyIAA",
        "colab_type": "text"
      },
      "source": [
        "A seguir, crio a variável 'Survived2' para ajudar no entendimento dos dados:"
      ]
    },
    {
      "cell_type": "code",
      "metadata": {
        "id": "HEriioNKUzkP",
        "colab_type": "code",
        "colab": {}
      },
      "source": [
        "df['Survived2'] = df['Survived']\n",
        "df['Survived2'] = df['Survived2'].map({0:'Died',1:'Survived'})\n",
        "df.head(50)"
      ],
      "execution_count": 0,
      "outputs": []
    },
    {
      "cell_type": "markdown",
      "metadata": {
        "id": "RjxmxXZmOWPA",
        "colab_type": "text"
      },
      "source": [
        "## Entendendo as variáveis\n",
        "* Vamos verificar como as variáveis estão preenchidas a fim de corrigir possíveis problemas de preenchimento."
      ]
    },
    {
      "cell_type": "markdown",
      "metadata": {
        "colab_type": "text",
        "id": "9Y769VoXqi2h"
      },
      "source": [
        "A função a seguir nos ajudará com o Data Visualization, cruzando a variável-resposta 'Survived' com qualquer outra passada à função:"
      ]
    },
    {
      "cell_type": "code",
      "metadata": {
        "colab_type": "code",
        "id": "MrDQdGs5qi2o",
        "colab": {}
      },
      "source": [
        "def Avalia_Taxa_Sobrevivencia(df, column):\n",
        "    title_xt = pd.crosstab(df[column], df['Survived2'])\n",
        "    print(pd.crosstab(df[column], df['Survived2'], margins=True))\n",
        "    title_xt_pct = title_xt.div(title_xt.sum(1).astype(float), axis=0)\n",
        "    \n",
        "    title_xt_pct.plot(kind='bar', stacked=True, title='Taxa de Sobrevivência dos Passageiros', \n",
        "                      color= ['r', 'g'])\n",
        "    plt.xlabel(column)\n",
        "    plt.ylabel('Taxa de Sobrevivência')\n",
        "    plt.legend(loc='upper center', bbox_to_anchor=(0.5, -0.05),shadow=True, ncol=2)\n",
        "    plt.show()"
      ],
      "execution_count": 0,
      "outputs": []
    },
    {
      "cell_type": "markdown",
      "metadata": {
        "id": "jA52Kj09O6hk",
        "colab_type": "text"
      },
      "source": [
        "A seguir, a função para data visualization das variáveis:"
      ]
    },
    {
      "cell_type": "code",
      "metadata": {
        "id": "_w-83LodO-xk",
        "colab_type": "code",
        "colab": {}
      },
      "source": [
        "def Catplot_Graph(x, y, hue= 'Survived2', col= None):\n",
        "    plt.rcdefaults()\n",
        "    g= sns.catplot(x= x, y= y, hue= hue, palette={'Died':'red','Survived':'blue'}, col= col, data=df, kind= 'bar', height=4, aspect=.7)\n",
        "    plt.show()"
      ],
      "execution_count": 0,
      "outputs": []
    },
    {
      "cell_type": "markdown",
      "metadata": {
        "id": "flYJ9yoX-6Kj",
        "colab_type": "text"
      },
      "source": [
        "### Variável 'Sex'\n",
        "\n",
        "* Como está o preenchimento desta variável?"
      ]
    },
    {
      "cell_type": "code",
      "metadata": {
        "id": "KBKJitL4-92J",
        "colab_type": "code",
        "colab": {}
      },
      "source": [
        "df_copia1= df.copy()\n",
        "df.Sex.value_counts()"
      ],
      "execution_count": 0,
      "outputs": []
    },
    {
      "cell_type": "code",
      "metadata": {
        "id": "qVevaIuiShAK",
        "colab_type": "code",
        "colab": {}
      },
      "source": [
        "#df= df_copia1.copy()"
      ],
      "execution_count": 0,
      "outputs": []
    },
    {
      "cell_type": "markdown",
      "metadata": {
        "id": "3O46mUFc_Iaa",
        "colab_type": "text"
      },
      "source": [
        "Qual sua opinião sobre esse preenchimento?\n",
        "\n",
        "* Algum problema?"
      ]
    },
    {
      "cell_type": "markdown",
      "metadata": {
        "id": "QHqdsQus_Mq9",
        "colab_type": "text"
      },
      "source": [
        "Oops... Aqui temos vários problemas... Olhando para estes resultados, você concorda que 'male', 'm', 'MALE', M', 'mALE' e 'Men' se trata da mesma informação?\n",
        "\n",
        "Da mesma forma, 'female', 'f', 'F', 'Female', 'fEMALE', 'Woman', 'w' e 'W' também se trata da mesma informação?\n",
        "\n",
        "Então, vamos fazer o seguinte:\n",
        "\n",
        "Toda vez que eu encontrar um desses valores: ['m', 'MALE', 'M', 'mALE', 'Men'], vou substituir por 'male';\n",
        "Toda vez que eu encontrar um desses valores: ['f', 'F', 'Female', 'fEMALE', 'Woman', 'w', 'W'], vou substituit por 'female'.\n",
        "O comando a seguir faz estas substituições:"
      ]
    },
    {
      "cell_type": "markdown",
      "metadata": {
        "id": "uf2hdb4YnYH6",
        "colab_type": "text"
      },
      "source": [
        "Definindo o dicionário para fazermos as substituições dos valores inconsistentes:"
      ]
    },
    {
      "cell_type": "code",
      "metadata": {
        "id": "E3oYGyX6SmD8",
        "colab_type": "code",
        "colab": {}
      },
      "source": [
        "dSex= {}\n",
        "dSex.update(dict.fromkeys(['m', 'MALE', 'M', 'mALE', 'Men', 'male'], \"male\"))\n",
        "dSex.update(dict.fromkeys(['f', 'F', 'Female', 'fEMALE', 'Woman', 'w', 'W', 'female'], 'female'))\n",
        "dSex"
      ],
      "execution_count": 0,
      "outputs": []
    },
    {
      "cell_type": "code",
      "metadata": {
        "id": "-HUQVwlaSwDE",
        "colab_type": "code",
        "colab": {}
      },
      "source": [
        "df['Sex2']= df['Sex'].map(dSex)\n",
        "df.Sex2.value_counts()"
      ],
      "execution_count": 0,
      "outputs": []
    },
    {
      "cell_type": "code",
      "metadata": {
        "id": "koNu3zBWSZw0",
        "colab_type": "code",
        "colab": {}
      },
      "source": [
        "df.head()"
      ],
      "execution_count": 0,
      "outputs": []
    },
    {
      "cell_type": "markdown",
      "metadata": {
        "id": "5m6SqpIHnhNG",
        "colab_type": "text"
      },
      "source": [
        "**Atenção:** Os comandos abaixo são uma alternativa ao map() aplicado anteriormente para corrigir os atributos da variável 'Sex':"
      ]
    },
    {
      "cell_type": "markdown",
      "metadata": {
        "id": "HBMw8pxrj5-i",
        "colab_type": "text"
      },
      "source": [
        "```\n",
        "df['Sex2'] = df['Sex'].replace(['m', 'MALE', 'M', 'mALE', 'Men'], 'male')\n",
        "df['Sex3'] = df['Sex2'].replace(['f', 'F', 'Female', 'fEMALE', 'Woman', 'w', 'W'], 'female') \n",
        "df.Sex3.value_counts()\n",
        "```\n",
        "\n"
      ]
    },
    {
      "cell_type": "markdown",
      "metadata": {
        "id": "3KpT7q4l_wg6",
        "colab_type": "text"
      },
      "source": [
        "Agora ok, temos algo que faz sentido para a variável 'Sex'."
      ]
    },
    {
      "cell_type": "markdown",
      "metadata": {
        "id": "4VUh6uhgFNBw",
        "colab_type": "text"
      },
      "source": [
        "Ok, de fato corrigimos os problemas de preenchimento da variável 'Sex'. então, vamos renomear nossa variável para o que tínhamos antes:"
      ]
    },
    {
      "cell_type": "code",
      "metadata": {
        "id": "tzIU-1htFDvx",
        "colab_type": "code",
        "colab": {}
      },
      "source": [
        "# Deleta as variáveis 'Sex':\n",
        "df= df.drop(columns= ['Sex'], axis= 1)\n",
        "\n",
        "# Renomea a variável auxiliar 'Sex2' para 'Sex':\n",
        "df= df.rename(columns= {'Sex2': 'Sex'})\n",
        "\n",
        "# Mostra os dados:\n",
        "df.head()"
      ],
      "execution_count": 0,
      "outputs": []
    },
    {
      "cell_type": "code",
      "metadata": {
        "id": "5ywzSaiFa-tw",
        "colab_type": "code",
        "colab": {}
      },
      "source": [
        "sns.catplot(x=\"Sex\", kind=\"count\", data=df)"
      ],
      "execution_count": 0,
      "outputs": []
    },
    {
      "cell_type": "markdown",
      "metadata": {
        "id": "-tYbYZW1V_eO",
        "colab_type": "text"
      },
      "source": [
        "### Variável 'Cabin'\n",
        "* No caso da variável 'Cabin', vamos construir as variáveis 'Deck' e 'Seat'"
      ]
    },
    {
      "cell_type": "code",
      "metadata": {
        "id": "GCflGdANp4jU",
        "colab_type": "code",
        "colab": {}
      },
      "source": [
        "set(df['Cabin'])"
      ],
      "execution_count": 0,
      "outputs": []
    },
    {
      "cell_type": "markdown",
      "metadata": {
        "id": "7E6yje89u7KF",
        "colab_type": "text"
      },
      "source": [
        "Como podemos ver, trata-se de uma variável categórica com vários níveis. Portanto, vamos capturar somente a primeira letra da variável 'Cabin'. Para tal, vamos utilizar a função slice().\n",
        "\n",
        "> slice() - Get substring from a given string using slice object;"
      ]
    },
    {
      "cell_type": "markdown",
      "metadata": {
        "id": "wmZLlSaArR6F",
        "colab_type": "text"
      },
      "source": [
        "A seguir, capturamos a primeira letra da variável 'Cabin':"
      ]
    },
    {
      "cell_type": "code",
      "metadata": {
        "id": "hUZTJU0MvVxP",
        "colab_type": "code",
        "colab": {}
      },
      "source": [
        "# definindo a variável 'Deck' que representará a primeira letra da variável 'Cabin'\n",
        "df[\"Deck\"] = df[\"Cabin\"].str.slice(0,1)\n",
        "df.Deck.value_counts()"
      ],
      "execution_count": 0,
      "outputs": []
    },
    {
      "cell_type": "markdown",
      "metadata": {
        "id": "6myhrth0rZ6t",
        "colab_type": "text"
      },
      "source": [
        "A seguir, vamos extrair a parte numérica da variável 'Cabin' usando Expressões Regulares:"
      ]
    },
    {
      "cell_type": "code",
      "metadata": {
        "id": "8UXkACPmsfwN",
        "colab_type": "code",
        "colab": {}
      },
      "source": [
        "# Import the library Regular Expressions\n",
        "import re"
      ],
      "execution_count": 0,
      "outputs": []
    },
    {
      "cell_type": "code",
      "metadata": {
        "id": "QKk-fnW4rf4o",
        "colab_type": "code",
        "colab": {}
      },
      "source": [
        "# Primeiramente, usamos a função split() para separar o conteúdo da variável em colunas: \n",
        "new = df[\"Cabin\"].str.split(\" \", n = 3, expand = True) \n",
        "new.head()"
      ],
      "execution_count": 0,
      "outputs": []
    },
    {
      "cell_type": "markdown",
      "metadata": {
        "id": "dFqoR-Xew9gX",
        "colab_type": "text"
      },
      "source": [
        "Observe acima que o comando gera quantos splits da variável eu quiser. No entanto, por simplicidade, me interessa somente o primeiro split."
      ]
    },
    {
      "cell_type": "markdown",
      "metadata": {
        "id": "_M7vA6WoVG05",
        "colab_type": "text"
      },
      "source": [
        "Agora, vou extrair o número do assento usando Expressões Regulares:"
      ]
    },
    {
      "cell_type": "code",
      "metadata": {
        "id": "P7NTcsGOxxSX",
        "colab_type": "code",
        "colab": {}
      },
      "source": [
        "new2= new[0].str.extract('(\\d+)')\n",
        "new2.head()"
      ],
      "execution_count": 0,
      "outputs": []
    },
    {
      "cell_type": "markdown",
      "metadata": {
        "id": "bf8vw2Mc18bQ",
        "colab_type": "text"
      },
      "source": [
        "Por fim, vou carregar esta informação ao dataframe df:"
      ]
    },
    {
      "cell_type": "code",
      "metadata": {
        "id": "6l6EoRvsxRXn",
        "colab_type": "code",
        "colab": {}
      },
      "source": [
        "df[\"Seat\"]= new2\n",
        "df.head()"
      ],
      "execution_count": 0,
      "outputs": []
    },
    {
      "cell_type": "markdown",
      "metadata": {
        "id": "LK4V61uy3N9s",
        "colab_type": "text"
      },
      "source": [
        "Por fim, excluir a variável 'Cabin':"
      ]
    },
    {
      "cell_type": "code",
      "metadata": {
        "id": "4uAr55J43NY7",
        "colab_type": "code",
        "colab": {}
      },
      "source": [
        "df= df.drop(columns= [\"Cabin\"], axis=1, errors=\"ignore\")"
      ],
      "execution_count": 0,
      "outputs": []
    },
    {
      "cell_type": "markdown",
      "metadata": {
        "id": "qZuH7YJXZCgY",
        "colab_type": "text"
      },
      "source": [
        "### Variável 'Embarked'"
      ]
    },
    {
      "cell_type": "code",
      "metadata": {
        "id": "nTPikhrIZGya",
        "colab_type": "code",
        "colab": {}
      },
      "source": [
        "df.Deck.value_counts()"
      ],
      "execution_count": 0,
      "outputs": []
    },
    {
      "cell_type": "code",
      "metadata": {
        "id": "ixbZsuqOZsOc",
        "colab_type": "code",
        "colab": {}
      },
      "source": [
        "sns.catplot(x=\"Deck\", kind=\"count\", data=df)"
      ],
      "execution_count": 0,
      "outputs": []
    },
    {
      "cell_type": "markdown",
      "metadata": {
        "id": "VvdU8aAwZNvG",
        "colab_type": "text"
      },
      "source": [
        "Não vejo problemas com esta variável. Vamos em frente..."
      ]
    },
    {
      "cell_type": "markdown",
      "metadata": {
        "id": "QBWfecCEF9ie",
        "colab_type": "text"
      },
      "source": [
        "### Variável 'Pclass'"
      ]
    },
    {
      "cell_type": "code",
      "metadata": {
        "id": "5TajFI92F_UI",
        "colab_type": "code",
        "colab": {}
      },
      "source": [
        "df.Pclass.value_counts()"
      ],
      "execution_count": 0,
      "outputs": []
    },
    {
      "cell_type": "markdown",
      "metadata": {
        "id": "atG9HFsYGNHE",
        "colab_type": "text"
      },
      "source": [
        "Algum problema com esta variável?"
      ]
    },
    {
      "cell_type": "code",
      "metadata": {
        "id": "hdBdLzIPg3xD",
        "colab_type": "code",
        "colab": {}
      },
      "source": [
        "sns.catplot(x=\"Pclass\", kind=\"count\", data=df)"
      ],
      "execution_count": 0,
      "outputs": []
    },
    {
      "cell_type": "markdown",
      "metadata": {
        "id": "Qrnc6VUKSTNp",
        "colab_type": "text"
      },
      "source": [
        "### Variável 'Parch'"
      ]
    },
    {
      "cell_type": "code",
      "metadata": {
        "id": "2i4ed-0zSvJc",
        "colab_type": "code",
        "colab": {}
      },
      "source": [
        "df.Parch.value_counts()"
      ],
      "execution_count": 0,
      "outputs": []
    },
    {
      "cell_type": "code",
      "metadata": {
        "id": "qd7u__6KZ6DM",
        "colab_type": "code",
        "colab": {}
      },
      "source": [
        "sns.catplot(x=\"Parch\", kind=\"count\", data=df)"
      ],
      "execution_count": 0,
      "outputs": []
    },
    {
      "cell_type": "markdown",
      "metadata": {
        "id": "C1ICby1oSd41",
        "colab_type": "text"
      },
      "source": [
        "### Variável 'SibSp'"
      ]
    },
    {
      "cell_type": "code",
      "metadata": {
        "id": "5n7JNEQqTNjz",
        "colab_type": "code",
        "colab": {}
      },
      "source": [
        "df.SibSp.value_counts()"
      ],
      "execution_count": 0,
      "outputs": []
    },
    {
      "cell_type": "markdown",
      "metadata": {
        "id": "NLfMhiy0x4u5",
        "colab_type": "text"
      },
      "source": [
        "* Algum problema?"
      ]
    },
    {
      "cell_type": "code",
      "metadata": {
        "id": "nayYFRK9g8iV",
        "colab_type": "code",
        "colab": {}
      },
      "source": [
        "sns.catplot(x=\"SibSp\", kind=\"count\", data=df)"
      ],
      "execution_count": 0,
      "outputs": []
    },
    {
      "cell_type": "markdown",
      "metadata": {
        "id": "0MO9jj2NvGp_",
        "colab_type": "text"
      },
      "source": [
        "### Variável 'Fare'"
      ]
    },
    {
      "cell_type": "markdown",
      "metadata": {
        "colab_type": "text",
        "id": "UuWlMV6XvQHs"
      },
      "source": [
        "Transformações: arredondar variável Fare."
      ]
    },
    {
      "cell_type": "code",
      "metadata": {
        "colab_type": "code",
        "id": "boAj64RHvQHu",
        "colab": {}
      },
      "source": [
        "df['Fare']= round(df['Fare'], 0)"
      ],
      "execution_count": 0,
      "outputs": []
    },
    {
      "cell_type": "code",
      "metadata": {
        "id": "htQ1dODRwfHw",
        "colab_type": "code",
        "colab": {}
      },
      "source": [
        "df.plot.scatter('Age','Fare')"
      ],
      "execution_count": 0,
      "outputs": []
    },
    {
      "cell_type": "markdown",
      "metadata": {
        "id": "3CIqHUJpvcPa",
        "colab_type": "text"
      },
      "source": [
        "### Variável 'Age'"
      ]
    },
    {
      "cell_type": "markdown",
      "metadata": {
        "id": "VULFXjvap3qZ",
        "colab_type": "text"
      },
      "source": [
        "Transformações: arredondar variável Fare."
      ]
    },
    {
      "cell_type": "code",
      "metadata": {
        "id": "kpNhCRxcp7h9",
        "colab_type": "code",
        "colab": {}
      },
      "source": [
        "df['Age']= round(df['Age'], 0)"
      ],
      "execution_count": 0,
      "outputs": []
    },
    {
      "cell_type": "markdown",
      "metadata": {
        "colab_type": "text",
        "id": "8qljHMRbsNjH"
      },
      "source": [
        "## Missing Values\n",
        "\n",
        "> Lidar com Missing Values é um dos piores pesadelos de um Cientista de dados. Especialmente, se o número de MV for grande o suficiente (geralmente acima de 5%). Nesse caso, os valores não podem ser descartados e um Cientista de Dados inteligente deve \"imputar\" os valores ausentes.\n",
        "\n",
        "* Nesta sessão, vamos identificar, analisar e tratar Missing Values (MV).\n",
        "* Como MV são gerados?\n",
        "    * Usuário se esqueceu de preencher ou preencheu errado o campo;\n",
        "    * Os dados foram perdidos durante a transferência manual de um banco de dados legado;\n",
        "    * Erro de programação;\n",
        "    * Os usuários optaram por não preencher um campo vinculado a suas crenças sobre como os resultados seriam usados ou interpretados.\n",
        "* As funções df.isnull() e df.isna() são apropriadas para nos indicar quantas observações são MV no dataframe."
      ]
    },
    {
      "cell_type": "markdown",
      "metadata": {
        "colab_type": "text",
        "id": "CtxDjzDmsNjK"
      },
      "source": [
        "Vamos utilizar a função abaixo para nos ajudar no diagnóstico dos Missing Values:"
      ]
    },
    {
      "cell_type": "code",
      "metadata": {
        "colab_type": "code",
        "id": "WswExai4sNjL",
        "colab": {}
      },
      "source": [
        "def Mostra_MV(df):\n",
        "    total = df.isnull().sum().sort_values(ascending=False)\n",
        "    percent = 100*round((df.isnull().sum()/df.isnull().count()).sort_values(ascending=False),2)\n",
        "    missing_data = pd.concat([total, percent], axis=1, keys=['Total', 'Percentual'])\n",
        "    #f, ax = plt.subplots(figsize=(15, 6))\n",
        "    #plt.xticks(rotation='90')\n",
        "    #sns.barplot(x=missing_data.index, y=missing_data['Percentual'])\n",
        "    #plt.xlabel('Features', fontsize=15)\n",
        "    #plt.ylabel('Percentual de Missing Values', fontsize=15)\n",
        "    #plt.title('Percentual de Missing Values por Variável', fontsize=15)\n",
        "    print(missing_data.head(10))"
      ],
      "execution_count": 0,
      "outputs": []
    },
    {
      "cell_type": "code",
      "metadata": {
        "id": "tBQlrTQ6t75s",
        "colab_type": "code",
        "colab": {}
      },
      "source": [
        "Mostra_MV(df)"
      ],
      "execution_count": 0,
      "outputs": []
    },
    {
      "cell_type": "markdown",
      "metadata": {
        "colab_type": "text",
        "id": "wMLXdGOfsNjT"
      },
      "source": [
        "* **Interpretação do resultado acima**: \n",
        "    * Não se incomode, por enquanto, com os NaN da variável 'Survived' e 'Survived2';\n",
        "    * A variável 'Seat' possui 1027 NaN's;\n",
        "    * A variável 'Deck' possui 1014 NaN's;\n",
        "    * A Variável 'Age' possui 263 NaN's;\n",
        "    * A Variável 'Embarked' possui 2 NaN's;\n",
        "    * A variável 'Fare' possui 1 NaN."
      ]
    },
    {
      "cell_type": "markdown",
      "metadata": {
        "colab_type": "text",
        "id": "X0dBOXRxsNjS"
      },
      "source": [
        "* **Nota:** Diferença entre as funções df.isna() e df.isnull():\n",
        "    * Para detectar NaN em numpy use np.isnan();\n",
        "    * Para detectar NaN em pandas, então tanto faz usar pd.isna() ou pd.isnull()."
      ]
    },
    {
      "cell_type": "markdown",
      "metadata": {
        "colab_type": "text",
        "id": "A6rAqKR9sNjU"
      },
      "source": [
        "### Variável 'Deck'\n",
        "\n",
        "* Vimos anteriormente que a variável 'Deck' possui 1014 (77%) valores nulos. Vamos focar no tratamento desses NaN's:\n",
        "\n",
        "    * **A solução**: Como se trata de uma variável categórica, o tratamento que darei aqui é atribuir uma letra aos MV."
      ]
    },
    {
      "cell_type": "markdown",
      "metadata": {
        "id": "V_zoFaRqLcmc",
        "colab_type": "text"
      },
      "source": [
        "* Antes, porém, vamos criar a variável 'MV_Deck' que receberá o valor 1 se 'Deck' é MV e 0, caso contrário."
      ]
    },
    {
      "cell_type": "code",
      "metadata": {
        "id": "y4uHwQfHLyJd",
        "colab_type": "code",
        "colab": {}
      },
      "source": [
        "df_copia2= df.copy()\n",
        "set(df['Deck']) # Esse comando mostra os NaN's da variável"
      ],
      "execution_count": 0,
      "outputs": []
    },
    {
      "cell_type": "code",
      "metadata": {
        "id": "dP8tGVD4L8Fl",
        "colab_type": "code",
        "colab": {}
      },
      "source": [
        "df['MV_Deck']= df['Deck'].apply(lambda x: 0 if x in ['A', 'B', 'C', 'D', 'E', 'F', 'G', 'T'] else 1)\n",
        "df.MV_Deck.value_counts()"
      ],
      "execution_count": 0,
      "outputs": []
    },
    {
      "cell_type": "code",
      "metadata": {
        "id": "I7bhLuoEcrms",
        "colab_type": "code",
        "colab": {}
      },
      "source": [
        "set(df['MV_Deck']) # Esse comando mostra os NaN's da variável"
      ],
      "execution_count": 0,
      "outputs": []
    },
    {
      "cell_type": "markdown",
      "metadata": {
        "colab_type": "text",
        "id": "1JhdsFQBsNjX"
      },
      "source": [
        "Agora, todo 'NaN' encontrado no dataframe será substituído pela letra 'M', que representará os Missing Values:"
      ]
    },
    {
      "cell_type": "code",
      "metadata": {
        "colab_type": "code",
        "id": "3VgD61mZsNjX",
        "colab": {}
      },
      "source": [
        "df[\"Deck\"]= df[\"Deck\"].fillna(\"M\")\n",
        "df.Deck.value_counts()"
      ],
      "execution_count": 0,
      "outputs": []
    },
    {
      "cell_type": "code",
      "metadata": {
        "id": "BeWmkl0IckXd",
        "colab_type": "code",
        "colab": {}
      },
      "source": [
        "set(df['Deck']) # Esse comando mostra os NaN's da variável"
      ],
      "execution_count": 0,
      "outputs": []
    },
    {
      "cell_type": "markdown",
      "metadata": {
        "colab_type": "text",
        "id": "zHNzaIPmsNjb"
      },
      "source": [
        "Como pode ser visto acima, substituimos todos os MV por 'M'."
      ]
    },
    {
      "cell_type": "markdown",
      "metadata": {
        "id": "TJ00BpNefdqS",
        "colab_type": "text"
      },
      "source": [
        "### Variável 'Seat'"
      ]
    },
    {
      "cell_type": "markdown",
      "metadata": {
        "id": "JQaNSwAdn3tM",
        "colab_type": "text"
      },
      "source": [
        "Avaliando se a variável 'Seat' possui NaN's:"
      ]
    },
    {
      "cell_type": "code",
      "metadata": {
        "id": "dxMYUn7mfnzp",
        "colab_type": "code",
        "colab": {}
      },
      "source": [
        "set(df['Seat']) # Esse comando mostra os NaN's da variável"
      ],
      "execution_count": 0,
      "outputs": []
    },
    {
      "cell_type": "markdown",
      "metadata": {
        "id": "KDPLUrZ7nwhB",
        "colab_type": "text"
      },
      "source": [
        "Qual o atributo mais frequente da variável 'Seat'?"
      ]
    },
    {
      "cell_type": "code",
      "metadata": {
        "id": "WRBvrta7hSIM",
        "colab_type": "code",
        "colab": {}
      },
      "source": [
        "df.Seat.value_counts()"
      ],
      "execution_count": 0,
      "outputs": []
    },
    {
      "cell_type": "markdown",
      "metadata": {
        "id": "puqvnVBRhYo-",
        "colab_type": "text"
      },
      "source": [
        "Como vimos Seat= 6 é o mais comum. Portanto, vamos substituir todos os NaN's desta variável por 6:"
      ]
    },
    {
      "cell_type": "code",
      "metadata": {
        "colab_type": "code",
        "id": "DJQveAnUhr6u",
        "colab": {}
      },
      "source": [
        "df[\"Seat\"]= df[\"Seat\"].fillna(6)"
      ],
      "execution_count": 0,
      "outputs": []
    },
    {
      "cell_type": "markdown",
      "metadata": {
        "colab_type": "text",
        "id": "BBmVfQVJhr67"
      },
      "source": [
        "O próximo passo é converter o tipo da variável 'Seat' de Object para int."
      ]
    },
    {
      "cell_type": "code",
      "metadata": {
        "colab_type": "code",
        "id": "pDThF164hr68",
        "colab": {}
      },
      "source": [
        "df_copia3= df.copy()\n",
        "#df= df_copia3.copy()"
      ],
      "execution_count": 0,
      "outputs": []
    },
    {
      "cell_type": "code",
      "metadata": {
        "colab_type": "code",
        "id": "Rs49VS2Ahr7A",
        "colab": {}
      },
      "source": [
        "df= df.astype({'Seat': int}) \n",
        "df.info()"
      ],
      "execution_count": 0,
      "outputs": []
    },
    {
      "cell_type": "markdown",
      "metadata": {
        "colab_type": "text",
        "id": "kb8Jk_A1sNjc"
      },
      "source": [
        "### Variável 'Fare'\n",
        "\n",
        "* Vimos que a variável 'Fare' possui 1 MV. Como se trata de um percentual pequeno de MV, podemos:\n",
        "    * Deletar esta observação ou;\n",
        "    * Substituir o MV pela média/mediana/moda.\n",
        "    \n",
        "* A função dropna() pode ser usada para deletarmos tanto linhas/observações quanto colunas/variáveis com MV."
      ]
    },
    {
      "cell_type": "markdown",
      "metadata": {
        "colab_type": "text",
        "id": "eblayT0hsNj6"
      },
      "source": [
        "Aqui, vou substituir o NaN da variável 'Fare' pela mediana. A seguir, a média da variável 'Fare' antes da transformação, pois é muito importante compararmos o antes e o depois da transformação. Esta análise de impacto é muito importante para se avaliar o quanto as transformações impactam a distribuição da variável original."
      ]
    },
    {
      "cell_type": "code",
      "metadata": {
        "colab_type": "code",
        "id": "M33kyPgfsNj9",
        "colab": {}
      },
      "source": [
        "df['Fare'].mean()"
      ],
      "execution_count": 0,
      "outputs": []
    },
    {
      "cell_type": "markdown",
      "metadata": {
        "colab_type": "text",
        "id": "-mP6IfJksNj_"
      },
      "source": [
        "Aplicamos a transformação..."
      ]
    },
    {
      "cell_type": "code",
      "metadata": {
        "colab_type": "code",
        "id": "ct0U1hzOsNkA",
        "colab": {}
      },
      "source": [
        "df['Fare'].fillna(df['Fare'].median(), inplace=True)"
      ],
      "execution_count": 0,
      "outputs": []
    },
    {
      "cell_type": "markdown",
      "metadata": {
        "colab_type": "text",
        "id": "COEXaZrJsNkE"
      },
      "source": [
        "Média da variável 'Fare' depois da transformação:"
      ]
    },
    {
      "cell_type": "code",
      "metadata": {
        "colab_type": "code",
        "id": "jYwWzVmPsNkF",
        "colab": {}
      },
      "source": [
        "df['Fare'].mean()"
      ],
      "execution_count": 0,
      "outputs": []
    },
    {
      "cell_type": "markdown",
      "metadata": {
        "colab_type": "text",
        "id": "ejdGQQ7EsNkJ"
      },
      "source": [
        "Como podemos ver, nada muito sério em termos de impacto na variável."
      ]
    },
    {
      "cell_type": "markdown",
      "metadata": {
        "id": "R26hR4j_n45K",
        "colab_type": "text"
      },
      "source": [
        "Qual a distribuição da variável 'Fare'?"
      ]
    },
    {
      "cell_type": "code",
      "metadata": {
        "id": "pOmNDr2koBRI",
        "colab_type": "code",
        "colab": {}
      },
      "source": [
        "sns.distplot(df['Fare'])"
      ],
      "execution_count": 0,
      "outputs": []
    },
    {
      "cell_type": "markdown",
      "metadata": {
        "id": "0dWQse1bokHo",
        "colab_type": "text"
      },
      "source": [
        "Percebe-se que a distribuição de 'Fare' é não-Normal. Vamos aplicar uma transformação para tentar obter normalidade?"
      ]
    },
    {
      "cell_type": "markdown",
      "metadata": {
        "colab_type": "text",
        "id": "fsWiyS1jsNkM"
      },
      "source": [
        "### Variável 'Embarked'\n",
        "\n",
        "* A variável 'Embarked' possui 2 MV. Como se trata de uma variável categórica, nossas opções são deletar ou atribuir um valor (em função de outras variáveis)."
      ]
    },
    {
      "cell_type": "code",
      "metadata": {
        "colab_type": "code",
        "id": "MUPOyy52sNkN",
        "colab": {}
      },
      "source": [
        "df_copia4= df.copy()\n",
        "set(df['Embarked']) # Esse comando mostra os NaN's da variável"
      ],
      "execution_count": 0,
      "outputs": []
    },
    {
      "cell_type": "markdown",
      "metadata": {
        "colab_type": "text",
        "id": "W5IaNNwtsNkR"
      },
      "source": [
        "Por simplicidade, aqui vou substituir as observações NaN da variável 'Embarked' por 'S', que é o valor mais frequente:\n",
        "\n",
        "ps.: O comando a seguir retorna o atributo 'S', que nesse caso, é o atributo de interesse em nosso caso: df['Embarked'].mode()[0]. Veja abaixo:"
      ]
    },
    {
      "cell_type": "code",
      "metadata": {
        "id": "iYKxylZR_szv",
        "colab_type": "code",
        "colab": {}
      },
      "source": [
        "sMode_Of_Embarked= df['Embarked'].mode()[0]\n",
        "sMode_Of_Embarked"
      ],
      "execution_count": 0,
      "outputs": []
    },
    {
      "cell_type": "code",
      "metadata": {
        "colab_type": "code",
        "id": "hWmUCde4sNkS",
        "colab": {}
      },
      "source": [
        "df[\"Embarked2\"]= df[\"Embarked\"]\n",
        "df[\"Embarked2\"]= df[\"Embarked2\"].fillna(sMode_Of_Embarked)\n",
        "set(df['Embarked2']) # Esse comando mostra os NaN's da variável"
      ],
      "execution_count": 0,
      "outputs": []
    },
    {
      "cell_type": "markdown",
      "metadata": {
        "id": "Ijsht4akA0Uh",
        "colab_type": "text"
      },
      "source": [
        "Desta forma, substituimos os NaN's da variável 'Embarked' pela moda da distribuição."
      ]
    },
    {
      "cell_type": "markdown",
      "metadata": {
        "id": "XkrPhAiVBDHH",
        "colab_type": "text"
      },
      "source": [
        "Se quiséssemos deletar as duas observações NaN's da variável 'Embarked', basta usar o comando:"
      ]
    },
    {
      "cell_type": "code",
      "metadata": {
        "colab_type": "code",
        "id": "IRWmD34MsNkU",
        "colab": {}
      },
      "source": [
        "# axis= 0 - indica que a operação será realizada nas linhas/observações.\n",
        "df_copia4= df_copia4.dropna(axis= 0, subset = ['Embarked'])"
      ],
      "execution_count": 0,
      "outputs": []
    },
    {
      "cell_type": "markdown",
      "metadata": {
        "colab_type": "text",
        "id": "820K1GXWsNkW"
      },
      "source": [
        "Podemos ver, a seguir, que as linhas (62 e 830 não existem mais no dataframe df_copia4 (fizemos uma cópia do dataframe df antes de iniciarmos o tratamento dos NaN's da variável 'Embarked'):"
      ]
    },
    {
      "cell_type": "markdown",
      "metadata": {
        "colab_type": "text",
        "id": "IRhEyRxmsNkW"
      },
      "source": [
        "Vamos verificar primeiro a existência da linha 62 no dataframe df_copia4:"
      ]
    },
    {
      "cell_type": "code",
      "metadata": {
        "colab_type": "code",
        "id": "HMtPX5FKsNkX",
        "colab": {}
      },
      "source": [
        "df_copia4.loc[60:65]"
      ],
      "execution_count": 0,
      "outputs": []
    },
    {
      "cell_type": "markdown",
      "metadata": {
        "colab_type": "text",
        "id": "P5XV3XzHsNkZ"
      },
      "source": [
        "Como podemos ver, a linha 62 não existe mais. Da mesma forma, a seguir, verificamos se a linha 830 existe no dataframe."
      ]
    },
    {
      "cell_type": "code",
      "metadata": {
        "colab_type": "code",
        "id": "7NrBR8xWsNkZ",
        "colab": {}
      },
      "source": [
        "df_copia4.loc[825:835]"
      ],
      "execution_count": 0,
      "outputs": []
    },
    {
      "cell_type": "markdown",
      "metadata": {
        "colab_type": "text",
        "id": "NcDeZ9oUsNkc"
      },
      "source": [
        "Como esperávamos, a linha 830 também não existe no dataframe."
      ]
    },
    {
      "cell_type": "markdown",
      "metadata": {
        "colab_type": "text",
        "id": "UcnjX-MNsNkd"
      },
      "source": [
        "Com isso, excluimos as 2 observações MV da variável 'embarked'."
      ]
    },
    {
      "cell_type": "markdown",
      "metadata": {
        "id": "t6szZElOjpFV",
        "colab_type": "text"
      },
      "source": [
        "A seguir, deletamos a variável 'Embarked':"
      ]
    },
    {
      "cell_type": "code",
      "metadata": {
        "id": "w8vvPJBBjszn",
        "colab_type": "code",
        "colab": {}
      },
      "source": [
        "df= df.drop(columns= ['Embarked'], axis= 1) # axis= 1 significa dropar a coluna."
      ],
      "execution_count": 0,
      "outputs": []
    },
    {
      "cell_type": "markdown",
      "metadata": {
        "id": "644LY2GDlxs7",
        "colab_type": "text"
      },
      "source": [
        "E renomeamos a variável auxiliar 'Embarked2' para 'Embarked':"
      ]
    },
    {
      "cell_type": "code",
      "metadata": {
        "id": "nnZjxVHJlz6y",
        "colab_type": "code",
        "colab": {}
      },
      "source": [
        "df= df.rename(columns= {'Embarked2': 'Embarked'})"
      ],
      "execution_count": 0,
      "outputs": []
    },
    {
      "cell_type": "markdown",
      "metadata": {
        "colab_type": "text",
        "id": "G-bjLAnUsNke"
      },
      "source": [
        "### Variável 'Age' - Variável do tipo numérica\n",
        "\n",
        "* Vimos anteriormente que a variável 'Age' possui 263 valores nulos.\n",
        "\n",
        "* Como se trata de uma variável numérica, vamos aplicar algumas estratégias para resolver o problema, pois não podemos descartar 263 (20%) observações do nosso dataframe.\n",
        "\n",
        "* Aqui é uma boa ideia criar a variável 'MV_Age' que receberá o valor 1 se 'Age' é MV e 0, caso contrário."
      ]
    },
    {
      "cell_type": "code",
      "metadata": {
        "colab_type": "code",
        "id": "re32z--fsNke",
        "colab": {}
      },
      "source": [
        "df_copia5= df.copy()\n",
        "#df= df_copia5.copy()"
      ],
      "execution_count": 0,
      "outputs": []
    },
    {
      "cell_type": "markdown",
      "metadata": {
        "colab_type": "text",
        "id": "uRLAa4EwsNk2"
      },
      "source": [
        "Podemos substituir os NaN's da variável 'Age' com a média (ou mediana) da distribuição, conforme abaixo:"
      ]
    },
    {
      "cell_type": "code",
      "metadata": {
        "colab_type": "code",
        "id": "jFVE-hTjsNk8",
        "colab": {}
      },
      "source": [
        "df['Age2']= df['Age'].fillna(df['Age'].median())"
      ],
      "execution_count": 0,
      "outputs": []
    },
    {
      "cell_type": "markdown",
      "metadata": {
        "colab_type": "text",
        "id": "iJi1R5BtsNlA"
      },
      "source": [
        "OU, substituir os NaN da variável 'Age' pela média de 'Age' considerando 'Sex', conforme abaixo:"
      ]
    },
    {
      "cell_type": "code",
      "metadata": {
        "colab_type": "code",
        "id": "_V-9aUI9NLfQ",
        "colab": {}
      },
      "source": [
        "df['Age3']= df['Age'].fillna(df.groupby('Sex')['Age'].transform(\"median\"))"
      ],
      "execution_count": 0,
      "outputs": []
    },
    {
      "cell_type": "code",
      "metadata": {
        "id": "-FYmGi0vNRFM",
        "colab_type": "code",
        "colab": {}
      },
      "source": [
        "df.head()"
      ],
      "execution_count": 0,
      "outputs": []
    },
    {
      "cell_type": "markdown",
      "metadata": {
        "colab_type": "text",
        "id": "uzcpNWW-sNlE"
      },
      "source": [
        "Vamos inspecionar as colunas envolvidas para avaliar os impactos sofridos..."
      ]
    },
    {
      "cell_type": "code",
      "metadata": {
        "colab_type": "code",
        "id": "nHNk5NrBsNlF",
        "colab": {}
      },
      "source": [
        "# Resultado geral, por curiosidade\n",
        "df[['Age', 'Age2', 'Age3', 'Sex']].groupby('Sex').mean()"
      ],
      "execution_count": 0,
      "outputs": []
    },
    {
      "cell_type": "markdown",
      "metadata": {
        "colab_type": "text",
        "id": "ZLPf5fKPsNlJ"
      },
      "source": [
        "Concorda que não houve grandes impactos nas transformações aplicadas?\n",
        "\n",
        "* Qual sua opinião?"
      ]
    },
    {
      "cell_type": "code",
      "metadata": {
        "id": "rWyftaiTeihg",
        "colab_type": "code",
        "colab": {}
      },
      "source": [
        "df.head()"
      ],
      "execution_count": 0,
      "outputs": []
    },
    {
      "cell_type": "markdown",
      "metadata": {
        "id": "H_dLWSs1jOEt",
        "colab_type": "text"
      },
      "source": [
        "Certificando de que todos os NaN's foram tratados, com exceção de 'Survived' e 'Survived2':"
      ]
    },
    {
      "cell_type": "code",
      "metadata": {
        "id": "5_XQdBrGjKZl",
        "colab_type": "code",
        "colab": {}
      },
      "source": [
        "Mostra_MV(df)"
      ],
      "execution_count": 0,
      "outputs": []
    },
    {
      "cell_type": "code",
      "metadata": {
        "id": "2Yu28hNw0OHK",
        "colab_type": "code",
        "colab": {}
      },
      "source": [
        "df.head()"
      ],
      "execution_count": 0,
      "outputs": []
    },
    {
      "cell_type": "markdown",
      "metadata": {
        "id": "04XYWE3pC278",
        "colab_type": "text"
      },
      "source": [
        "## Feature Engineering"
      ]
    },
    {
      "cell_type": "markdown",
      "metadata": {
        "id": "H6n6PzWjoSYf",
        "colab_type": "text"
      },
      "source": [
        "### Variável 'MV_Age':"
      ]
    },
    {
      "cell_type": "code",
      "metadata": {
        "id": "QluOnZD7kHFW",
        "colab_type": "code",
        "colab": {}
      },
      "source": [
        "df.head()"
      ],
      "execution_count": 0,
      "outputs": []
    },
    {
      "cell_type": "markdown",
      "metadata": {
        "colab_type": "text",
        "id": "qKMVIXGDsNkh"
      },
      "source": [
        "Para construir a variável 'MV_Age', vamos utilizar a função pd.isna(). Por exemplo, o comando abaixo verifica se cada linha/observação da variável 'Age' é um NaN."
      ]
    },
    {
      "cell_type": "code",
      "metadata": {
        "colab_type": "code",
        "id": "UHzKFytXsNkh",
        "colab": {}
      },
      "source": [
        "df['Age'].isna().sum()"
      ],
      "execution_count": 0,
      "outputs": []
    },
    {
      "cell_type": "markdown",
      "metadata": {
        "colab_type": "text",
        "id": "lW4NYZrjsNkk"
      },
      "source": [
        "A seguir, criamos uma variável auxiliar intitulada 'MV_AUX', que receberá 'True', caso 'Age' seja um valor válido e 'False' caso 'Age' seja NaN.\n",
        "\n",
        "Veja abaixo:"
      ]
    },
    {
      "cell_type": "code",
      "metadata": {
        "colab_type": "code",
        "id": "-bTvVuVpsNkl",
        "colab": {}
      },
      "source": [
        "df['MV_AUX']= df['Age'].isna()\n",
        "df.head()"
      ],
      "execution_count": 0,
      "outputs": []
    },
    {
      "cell_type": "code",
      "metadata": {
        "colab_type": "code",
        "id": "R_gk5S4nsNko",
        "colab": {}
      },
      "source": [
        "# Adiciona a nova coluna baseado no dicionario \n",
        "df['MV_Age'] = df['MV_AUX'].map({True: 1, False: 0})\n",
        "df.head()"
      ],
      "execution_count": 0,
      "outputs": []
    },
    {
      "cell_type": "markdown",
      "metadata": {
        "colab_type": "text",
        "id": "IHzMcHl8sNkq"
      },
      "source": [
        "Deleta a variável auxiliar 'MV_AUX':"
      ]
    },
    {
      "cell_type": "code",
      "metadata": {
        "colab_type": "code",
        "id": "DYKh0uMYsNks",
        "colab": {}
      },
      "source": [
        "df= df.drop(columns= ['MV_AUX'], axis=1)"
      ],
      "execution_count": 0,
      "outputs": []
    },
    {
      "cell_type": "markdown",
      "metadata": {
        "colab_type": "text",
        "id": "pDisweAvsNkx"
      },
      "source": [
        "Nosso dataframe está assim:"
      ]
    },
    {
      "cell_type": "code",
      "metadata": {
        "colab_type": "code",
        "id": "br6d4arxsNky",
        "colab": {}
      },
      "source": [
        "df.head()"
      ],
      "execution_count": 0,
      "outputs": []
    },
    {
      "cell_type": "markdown",
      "metadata": {
        "colab_type": "text",
        "id": "34-Qbd_QrC8W"
      },
      "source": [
        "Qual a relação entre a variável 'MV_Age' e a variável-resposta?"
      ]
    },
    {
      "cell_type": "code",
      "metadata": {
        "colab_type": "code",
        "id": "bhY8-UjyrC8Z",
        "colab": {}
      },
      "source": [
        "Avalia_Taxa_Sobrevivencia(df, 'MV_Age')"
      ],
      "execution_count": 0,
      "outputs": []
    },
    {
      "cell_type": "markdown",
      "metadata": {
        "colab_type": "text",
        "id": "umQ3fIKlsNlN"
      },
      "source": [
        "### Variável 'Age_Category'\n",
        "* Construir a variável 'Age_Category' baseado na variável 'Age2'."
      ]
    },
    {
      "cell_type": "code",
      "metadata": {
        "id": "W66GkyuKkhFe",
        "colab_type": "code",
        "colab": {}
      },
      "source": [
        "def Age_Category(age):\n",
        "    if (age <= 1):\n",
        "        return 'Baby'\n",
        "    if (age <= 4):\n",
        "        return 'Toddler'\n",
        "    elif(age <= 12):\n",
        "        return 'Child'\n",
        "    elif (age <= 19):\n",
        "        return 'Teenager'\n",
        "    elif (age <= 30):\n",
        "        return 'Adult'\n",
        "    elif (age <= 50):\n",
        "        return 'Middle_Aged'\n",
        "    elif(age < 60):\n",
        "        return 'Senior_Citizen'\n",
        "    else:\n",
        "        return 'Old'"
      ],
      "execution_count": 0,
      "outputs": []
    },
    {
      "cell_type": "code",
      "metadata": {
        "id": "TnLzC6hCkuBL",
        "colab_type": "code",
        "colab": {}
      },
      "source": [
        "df['Age_Category'] = df['Age2'].map(Age_Category)"
      ],
      "execution_count": 0,
      "outputs": []
    },
    {
      "cell_type": "code",
      "metadata": {
        "colab_type": "code",
        "id": "kG8td6HPsNlP",
        "colab": {}
      },
      "source": [
        "set(df['Age_Category']) # Esse comando mostra os NaN's da variável"
      ],
      "execution_count": 0,
      "outputs": []
    },
    {
      "cell_type": "markdown",
      "metadata": {
        "id": "iOKAuWTno1q3",
        "colab_type": "text"
      },
      "source": [
        "Como tratamos os NaN's da variável 'Age2' previamente, então, consequentemente, a variável 'Age_Category' não possui NaN's, como podemos verificar acima."
      ]
    },
    {
      "cell_type": "markdown",
      "metadata": {
        "id": "B_3s5cgxfNKQ",
        "colab_type": "text"
      },
      "source": [
        "### Variável 'Title'\n",
        "\n",
        "* Para fins de Data Manipulation, vamos capturar o tratamento dos passageiros contido na variável 'Name'. Ou seja, 'Mr.', 'Mrs.', 'Miss' e etc...\n",
        "\n",
        "> Fonte: As funções get_title e title_map foram extraídas de https://www.kaggle.com/tjsauer/titanic-survival-python-solution"
      ]
    },
    {
      "cell_type": "code",
      "metadata": {
        "id": "gslSjRdDoJFY",
        "colab_type": "code",
        "colab": {}
      },
      "source": [
        "df.head()"
      ],
      "execution_count": 0,
      "outputs": []
    },
    {
      "cell_type": "code",
      "metadata": {
        "id": "nfIG6toGfhd5",
        "colab_type": "code",
        "colab": {}
      },
      "source": [
        "def get_title(name):\n",
        "    if '.' in name:\n",
        "        return name.split(',')[1].split('.')[0].strip()\n",
        "    else:\n",
        "        return 'Unknown'\n",
        "\n",
        "def title_map(title):\n",
        "    if title in ['Mr', 'Ms']:\n",
        "        return 1\n",
        "    elif title in ['Master']:\n",
        "        return 2\n",
        "    elif title in ['Ms','Mlle','Miss']:\n",
        "        return 3\n",
        "    elif title in [\"Mme\", \"Ms\", \"Mrs\"]:\n",
        "        return 4\n",
        "    elif title in [\"Jonkheer\", \"Don\", \"Sir\", \"the Countess\", \"Dona\", \"Lady\"]:\n",
        "        return 5\n",
        "    elif title in [\"Capt\", \"Col\", \"Major\", \"Dr\", \"Rev\"]:\n",
        "        return 6\n",
        "    else:\n",
        "        return 7"
      ],
      "execution_count": 0,
      "outputs": []
    },
    {
      "cell_type": "markdown",
      "metadata": {
        "id": "7qNUwnCepe_x",
        "colab_type": "text"
      },
      "source": [
        "Captura o tratamento dos passageiros:"
      ]
    },
    {
      "cell_type": "code",
      "metadata": {
        "id": "r-Ltf33vgJ6Q",
        "colab_type": "code",
        "colab": {}
      },
      "source": [
        "df['Title'] = df['Name'].apply(get_title).apply(title_map)  \n",
        "set(df['Title']) # Esse comando mostra os NaN's da variável"
      ],
      "execution_count": 0,
      "outputs": []
    },
    {
      "cell_type": "markdown",
      "metadata": {
        "id": "D3hY0WVhpRYK",
        "colab_type": "text"
      },
      "source": [
        "Drop a coluna 'Name', pois não vamos mais precisar dela em nossas análises:"
      ]
    },
    {
      "cell_type": "code",
      "metadata": {
        "id": "Y8i3xKCes5WF",
        "colab_type": "code",
        "colab": {}
      },
      "source": [
        "df= df.drop(columns= [\"Name\"], axis=1, errors=\"ignore\")"
      ],
      "execution_count": 0,
      "outputs": []
    },
    {
      "cell_type": "markdown",
      "metadata": {
        "id": "7Sl1uFdwpW3y",
        "colab_type": "text"
      },
      "source": [
        "Apresenta o conteúdo do dataframe:"
      ]
    },
    {
      "cell_type": "code",
      "metadata": {
        "id": "2uFnw-pZpan-",
        "colab_type": "code",
        "colab": {}
      },
      "source": [
        "df.head(3)"
      ],
      "execution_count": 0,
      "outputs": []
    },
    {
      "cell_type": "markdown",
      "metadata": {
        "colab_type": "text",
        "id": "T4-NSTr_sNlR"
      },
      "source": [
        "### Variável Age_1digito"
      ]
    },
    {
      "cell_type": "code",
      "metadata": {
        "colab_type": "code",
        "id": "Q-JSaQPtsNlR",
        "colab": {}
      },
      "source": [
        "df['Age2_1digito']= round(df['Age2']/10, 0).astype(np.int64)"
      ],
      "execution_count": 0,
      "outputs": []
    },
    {
      "cell_type": "code",
      "metadata": {
        "colab_type": "code",
        "id": "U-GndqvgsNlT",
        "colab": {}
      },
      "source": [
        "set(df['Age2_1digito']) # Esse comando mostra os NaN's da variável"
      ],
      "execution_count": 0,
      "outputs": []
    },
    {
      "cell_type": "markdown",
      "metadata": {
        "id": "ci5FKBazGidH",
        "colab_type": "text"
      },
      "source": [
        "### Variável 'Family_Size'\n",
        "* As variáveis SibSp e Parch estão relacionadas ao grupo familiar. Portanto, vamos criar a variável 'Family_Size', da seguinte forma:"
      ]
    },
    {
      "cell_type": "code",
      "metadata": {
        "id": "DICRTPxhGvt5",
        "colab_type": "code",
        "colab": {}
      },
      "source": [
        "df['Family_Size']= df['SibSp']+df['Parch']+1"
      ],
      "execution_count": 0,
      "outputs": []
    },
    {
      "cell_type": "markdown",
      "metadata": {
        "id": "7sRlPdbaHWd5",
        "colab_type": "text"
      },
      "source": [
        "A seguir, verificamos se esta operação produziu algum NaN."
      ]
    },
    {
      "cell_type": "code",
      "metadata": {
        "id": "xSWxT_gNHN7Y",
        "colab_type": "code",
        "colab": {}
      },
      "source": [
        "df['Family_Size'].isnull().sum()"
      ],
      "execution_count": 0,
      "outputs": []
    },
    {
      "cell_type": "code",
      "metadata": {
        "id": "6tLLmTrZhDvG",
        "colab_type": "code",
        "colab": {}
      },
      "source": [
        "sns.catplot(x=\"Family_Size\", kind=\"count\", data=df)"
      ],
      "execution_count": 0,
      "outputs": []
    },
    {
      "cell_type": "code",
      "metadata": {
        "id": "sxwSYcLBY1gy",
        "colab_type": "code",
        "colab": {}
      },
      "source": [
        "set(df['Family_Size']) # Esse comando mostra os NaN's da variável"
      ],
      "execution_count": 0,
      "outputs": []
    },
    {
      "cell_type": "markdown",
      "metadata": {
        "id": "vz6PjSXV00qB",
        "colab_type": "text"
      },
      "source": [
        "### Inferindo 'Age'\n",
        "* Aqui, aplicamos Machine Learning para inferior o valor da variável 'Age' baseado nas outras features."
      ]
    },
    {
      "cell_type": "markdown",
      "metadata": {
        "id": "nPGjOiqor37A",
        "colab_type": "text"
      },
      "source": [
        "Primeiramente, vamos selecionar somente as variáveis que desejamos para estimar 'Age':"
      ]
    },
    {
      "cell_type": "code",
      "metadata": {
        "id": "VosZ0QoN046C",
        "colab_type": "code",
        "colab": {}
      },
      "source": [
        "df_Age= df[['Pclass', 'SibSp', 'Sex', 'Fare', 'Deck', 'Embarked', 'Title', 'Age', 'Family_Size']].copy()\n",
        "df_Age.head()"
      ],
      "execution_count": 0,
      "outputs": []
    },
    {
      "cell_type": "markdown",
      "metadata": {
        "id": "zLxWYIviZPNf",
        "colab_type": "text"
      },
      "source": [
        "Gravamos o dataframe: df_Age.csv"
      ]
    },
    {
      "cell_type": "markdown",
      "metadata": {
        "id": "pRlwZ4_ckwsb",
        "colab_type": "text"
      },
      "source": [
        "```\n",
        "from IPython.display import FileLink, FileLinks\n",
        "path = './'\n",
        "filename = 'df_tratado.csv'\n",
        "df.to_csv(path + filename)\n",
        "FileLinks(path)\n",
        "df_Age.to_csv(\"df_Age.csv\", sep= ',', index = True, header=True)\n",
        "```"
      ]
    },
    {
      "cell_type": "markdown",
      "metadata": {
        "id": "4VO67uxIZUEY",
        "colab_type": "text"
      },
      "source": [
        "Ler o dataframe df_Age:"
      ]
    },
    {
      "cell_type": "code",
      "metadata": {
        "id": "aQsrOihLVl42",
        "colab_type": "code",
        "colab": {}
      },
      "source": [
        "url3= 'https://raw.githubusercontent.com/MathMachado/Python_RFB/master/Dataframes/df_Age.csv?token=AGDJQ6ZHQZGDOIY7ZWU4NXC5M2CCU'\n",
        "# Carrega o dataframe para estimativa de 'Age'\n",
        "df_Age2= pd.read_csv(url3, index_col='PassengerId')\n",
        "df_Age2.head(10)"
      ],
      "execution_count": 0,
      "outputs": []
    },
    {
      "cell_type": "markdown",
      "metadata": {
        "id": "uC5Bl4nm2Brw",
        "colab_type": "text"
      },
      "source": [
        "Primeiramente, temos que construir buckets para a variável numéricas 'Fare'. A seguir, construimos 10 classes para 'Fare':"
      ]
    },
    {
      "cell_type": "code",
      "metadata": {
        "id": "vlDkqfC_2MRO",
        "colab_type": "code",
        "colab": {}
      },
      "source": [
        "df_Age2['Fare_Aux']= pd.cut(df_Age2['Fare'], 10)\n",
        "set(df_Age2['Fare_Aux']) # Esse comando mostra os NaN's da variável"
      ],
      "execution_count": 0,
      "outputs": []
    },
    {
      "cell_type": "code",
      "metadata": {
        "id": "PSw0Db4L4pfc",
        "colab_type": "code",
        "colab": {}
      },
      "source": [
        "df_Age2.head()"
      ],
      "execution_count": 0,
      "outputs": []
    },
    {
      "cell_type": "code",
      "metadata": {
        "id": "g1mFPHXg3x1t",
        "colab_type": "code",
        "colab": {}
      },
      "source": [
        "le = LabelEncoder()\n",
        "df_Age2['Fare_Cat']= le.fit_transform(df_Age2['Fare_Aux'])\n",
        "df_Age2= df_Age2.drop(columns= ['Fare_Aux', 'Fare'], axis= 1)\n",
        "df_Age2.head(5)"
      ],
      "execution_count": 0,
      "outputs": []
    },
    {
      "cell_type": "markdown",
      "metadata": {
        "id": "K5v-_Iq25t5p",
        "colab_type": "text"
      },
      "source": [
        "Agora usar Encoder para as variáveis categóricas 'Embarked' e 'Deck':"
      ]
    },
    {
      "cell_type": "code",
      "metadata": {
        "id": "eMZ2nwAM51Nz",
        "colab_type": "code",
        "colab": {}
      },
      "source": [
        "df_Age2['Embarked_Cat']= le.fit_transform(df_Age2['Embarked'])\n",
        "df_Age2['Deck_Cat']= le.fit_transform(df_Age2['Deck'])\n",
        "df_Age2['Sex_Cat']= le.fit_transform(df_Age2['Sex'])\n",
        "df_Age2= df_Age2.drop(columns= ['Embarked', 'Deck', 'Sex'], axis= 1)\n",
        "df_Age2.head()"
      ],
      "execution_count": 0,
      "outputs": []
    },
    {
      "cell_type": "markdown",
      "metadata": {
        "id": "MrIsf_N_7At2",
        "colab_type": "text"
      },
      "source": [
        "Definindo as amostras de treinamento e teste"
      ]
    },
    {
      "cell_type": "code",
      "metadata": {
        "id": "E2euZOJu7EGh",
        "colab_type": "code",
        "colab": {}
      },
      "source": [
        "# Amostras de treinamento:\n",
        "df_Age3= df_Age2.copy()\n",
        "X_train= df_Age3[df_Age3['Age'].notna()]\n",
        "X_train= X_train.drop(columns= ['Age'], axis= 1)\n",
        "\n",
        "y_train= df_Age3[df_Age3['Age'].notna()]\n",
        "y_train= y_train['Age']\n",
        "\n",
        "print(X_train.shape, y_train.shape)"
      ],
      "execution_count": 0,
      "outputs": []
    },
    {
      "cell_type": "code",
      "metadata": {
        "id": "h0_W3-Ur72Lk",
        "colab_type": "code",
        "colab": {}
      },
      "source": [
        "# Amostras teste:\n",
        "X_test= df_Age3[df_Age3['Age'].isnull()]\n",
        "X_test= X_test.drop(columns= ['Age'], axis= 1)\n",
        "\n",
        "y_test= df_Age3[df_Age3['Age'].isnull()]\n",
        "y_test= y_test['Age']\n",
        "\n",
        "print(X_test.shape, y_test.shape)"
      ],
      "execution_count": 0,
      "outputs": []
    },
    {
      "cell_type": "code",
      "metadata": {
        "id": "WVNuTj_w9NbY",
        "colab_type": "code",
        "colab": {}
      },
      "source": [
        "X_train.head()"
      ],
      "execution_count": 0,
      "outputs": []
    },
    {
      "cell_type": "code",
      "metadata": {
        "id": "vKzlr1NR9TTS",
        "colab_type": "code",
        "colab": {}
      },
      "source": [
        "y_train.head()"
      ],
      "execution_count": 0,
      "outputs": []
    },
    {
      "cell_type": "code",
      "metadata": {
        "id": "HyFL7gbO9X0v",
        "colab_type": "code",
        "colab": {}
      },
      "source": [
        "X_test.head()"
      ],
      "execution_count": 0,
      "outputs": []
    },
    {
      "cell_type": "markdown",
      "metadata": {
        "id": "DRh658wk-RID",
        "colab_type": "text"
      },
      "source": [
        "Treinando modelo"
      ]
    },
    {
      "cell_type": "code",
      "metadata": {
        "id": "i7R3V9P8-S9c",
        "colab_type": "code",
        "colab": {}
      },
      "source": [
        "# carregar bibliotecas\n",
        "from sklearn.ensemble import RandomForestRegressor\n",
        "from xgboost import XGBRegressor\n",
        "from sklearn.linear_model import Ridge\n",
        "from sklearn.linear_model import Lasso\n",
        "from sklearn.linear_model import LinearRegression"
      ],
      "execution_count": 0,
      "outputs": []
    },
    {
      "cell_type": "code",
      "metadata": {
        "id": "pLTPI5MB9mhq",
        "colab_type": "code",
        "colab": {}
      },
      "source": [
        "# Instantiate model with 1000 decision trees\n",
        "rf= RandomForestRegressor(n_estimators = 1000, random_state = 20111974, bootstrap= True)\n",
        "xg= XGBRegressor(n_estimators=10000, random_state= 20111974)\n",
        "rr = Ridge(random_state= 20111974, alpha=0.01, max_iter= 10e5, normalize= True)\n",
        "la = Lasso(alpha=0.01, max_iter=10e5, normalize= True)\n",
        "lr = LinearRegression(normalize=True)\n",
        "\n",
        "# Train the model on training data\n",
        "rf.fit(X_train, y_train)\n",
        "xg.fit(X_train, y_train)\n",
        "rr.fit(X_train, y_train)\n",
        "la.fit(X_train, y_train)\n",
        "lr.fit(X_train, y_train)"
      ],
      "execution_count": 0,
      "outputs": []
    },
    {
      "cell_type": "code",
      "metadata": {
        "id": "bHdRxcPp-tUX",
        "colab_type": "code",
        "colab": {}
      },
      "source": [
        "# Use the forest's predict method on the test data\n",
        "predictions_rf = rf.predict(X_train)\n",
        "predictions_xg = xg.predict(X_train)\n",
        "predictions_rr = rr.predict(X_train)\n",
        "predictions_la = la.predict(X_train)\n",
        "predictions_lr = lr.predict(X_train)\n",
        "\n",
        "print(predictions_rf.shape, predictions_xg.shape, predictions_rr.shape, predictions_la.shape, predictions_lr.shape)"
      ],
      "execution_count": 0,
      "outputs": []
    },
    {
      "cell_type": "code",
      "metadata": {
        "id": "KImAe7eAAHAt",
        "colab_type": "code",
        "colab": {}
      },
      "source": [
        "# Calculate the absolute errors\n",
        "errors_rf = abs(predictions_rf - y_train)\n",
        "errors_xg = abs(predictions_xg - y_train)\n",
        "errors_rr = abs(predictions_rr - y_train)\n",
        "errors_la = abs(predictions_la - y_train)\n",
        "errors_lr = abs(predictions_lr - y_train)\n",
        "\n",
        "# Print out the mean absolute error (mae)\n",
        "print('RF - Mean Absolute Error:', round(np.mean(errors_rf), 2), 'degrees.')\n",
        "print('XG - Mean Absolute Error:', round(np.mean(errors_xg), 2), 'degrees.')\n",
        "print('RR - Mean Absolute Error:', round(np.mean(errors_rr), 2), 'degrees.')\n",
        "print('LA - Mean Absolute Error:', round(np.mean(errors_la), 2), 'degrees.')\n",
        "print('LR - Mean Absolute Error:', round(np.mean(errors_lr), 2), 'degrees.')"
      ],
      "execution_count": 0,
      "outputs": []
    },
    {
      "cell_type": "markdown",
      "metadata": {
        "id": "xv07V-ZpBz8J",
        "colab_type": "text"
      },
      "source": [
        "Aplicando o modelo em X_test:"
      ]
    },
    {
      "cell_type": "code",
      "metadata": {
        "id": "HOKNWOAsCI6Y",
        "colab_type": "code",
        "colab": {}
      },
      "source": [
        "X_test.shape"
      ],
      "execution_count": 0,
      "outputs": []
    },
    {
      "cell_type": "code",
      "metadata": {
        "id": "hmNTpFhAax7X",
        "colab_type": "code",
        "colab": {}
      },
      "source": [
        "X_test.head()"
      ],
      "execution_count": 0,
      "outputs": []
    },
    {
      "cell_type": "code",
      "metadata": {
        "id": "8XkKY8eUB166",
        "colab_type": "code",
        "colab": {}
      },
      "source": [
        "X_test['Age4']= xg.predict(X_test[['Pclass', 'SibSp', 'Title', 'Family_Size', 'Fare_Cat', 'Embarked_Cat', 'Deck_Cat', 'Sex_Cat']])\n",
        "X_test['Age_Inf']= round(X_test['Age4'], 0)"
      ],
      "execution_count": 0,
      "outputs": []
    },
    {
      "cell_type": "code",
      "metadata": {
        "id": "ncnEDvvxDIKG",
        "colab_type": "code",
        "colab": {}
      },
      "source": [
        "X_test.head()"
      ],
      "execution_count": 0,
      "outputs": []
    },
    {
      "cell_type": "code",
      "metadata": {
        "id": "7bZkPpuYD2DE",
        "colab_type": "code",
        "colab": {}
      },
      "source": [
        "Mostra_MV(X_test)"
      ],
      "execution_count": 0,
      "outputs": []
    },
    {
      "cell_type": "markdown",
      "metadata": {
        "id": "VoWF8JawEDWR",
        "colab_type": "text"
      },
      "source": [
        "Atualizando os NaN's do dataset df com 'Age_Inf' do dataframe X_test:"
      ]
    },
    {
      "cell_type": "code",
      "metadata": {
        "id": "MDlyPqXvEB5g",
        "colab_type": "code",
        "colab": {}
      },
      "source": [
        "df_Age4= X_test.drop(columns= ['Pclass', 'SibSp', 'Title', 'Family_Size', 'Fare_Cat', 'Embarked_Cat', 'Deck_Cat', 'Sex_Cat', 'Age4'], axis= 1)\n",
        "df= pd.merge(df, df_Age4, on= 'PassengerId', how= 'left')\n",
        "df_Age4.head()"
      ],
      "execution_count": 0,
      "outputs": []
    },
    {
      "cell_type": "code",
      "metadata": {
        "id": "jObscMXkFG2D",
        "colab_type": "code",
        "colab": {}
      },
      "source": [
        "Mostra_MV(df)"
      ],
      "execution_count": 0,
      "outputs": []
    },
    {
      "cell_type": "code",
      "metadata": {
        "id": "bAlqo0u2uaob",
        "colab_type": "code",
        "colab": {}
      },
      "source": [
        "df.head(5)"
      ],
      "execution_count": 0,
      "outputs": []
    },
    {
      "cell_type": "code",
      "metadata": {
        "id": "PoYwGa1TuqW5",
        "colab_type": "code",
        "colab": {}
      },
      "source": [
        "df.loc[df['Age_Inf'].isnull(),'Age_Inf'] = df['Age']"
      ],
      "execution_count": 0,
      "outputs": []
    },
    {
      "cell_type": "code",
      "metadata": {
        "id": "6mg9zjH1zlB2",
        "colab_type": "code",
        "colab": {}
      },
      "source": [
        "Mostra_MV(df)"
      ],
      "execution_count": 0,
      "outputs": []
    },
    {
      "cell_type": "code",
      "metadata": {
        "id": "HQ9XldXvFWns",
        "colab_type": "code",
        "colab": {}
      },
      "source": [
        "df['Age_Inf']= round(df['Age_Inf'], 0)"
      ],
      "execution_count": 0,
      "outputs": []
    },
    {
      "cell_type": "code",
      "metadata": {
        "id": "FZuJ_pVJrk6x",
        "colab_type": "code",
        "colab": {}
      },
      "source": [
        "df.head()"
      ],
      "execution_count": 0,
      "outputs": []
    },
    {
      "cell_type": "markdown",
      "metadata": {
        "id": "Qogd7Eo2mp5G",
        "colab_type": "text"
      },
      "source": [
        "#### Avaliando o impacto da variável 'Age_Inf'\n",
        "* Vamos inspecionar as colunas envolvidas para avaliar os impactos sofridos."
      ]
    },
    {
      "cell_type": "code",
      "metadata": {
        "colab_type": "code",
        "id": "iHlTgIpdmvMP",
        "colab": {}
      },
      "source": [
        "# Resultado geral, por curiosidade\n",
        "print(round(df[['Age', 'Age2', 'Age3', 'Age_Inf', 'Sex']].groupby('Sex').mean(),0))"
      ],
      "execution_count": 0,
      "outputs": []
    },
    {
      "cell_type": "code",
      "metadata": {
        "id": "x6OcYzoV0qjA",
        "colab_type": "code",
        "colab": {}
      },
      "source": [
        "df= df.drop(columns= ['Age'], axis= 1)"
      ],
      "execution_count": 0,
      "outputs": []
    },
    {
      "cell_type": "code",
      "metadata": {
        "id": "oSSGQazp0-cy",
        "colab_type": "code",
        "colab": {}
      },
      "source": [
        "Mostra_MV(df)"
      ],
      "execution_count": 0,
      "outputs": []
    },
    {
      "cell_type": "markdown",
      "metadata": {
        "id": "RKOp_r1f1xyA",
        "colab_type": "text"
      },
      "source": [
        "### Qual a conclusão?"
      ]
    },
    {
      "cell_type": "markdown",
      "metadata": {
        "id": "FO4eTU8cZ4gn",
        "colab_type": "text"
      },
      "source": [
        "## Outliers\n",
        "\n",
        "* Nesta sessão, vamos analisar os Outliers para cada uma das variáveis do nosso dataframe.\n",
        "\n",
        "> __In statistics, an outlier is an observation point that is distant from other observations.__ - Wikipedia"
      ]
    },
    {
      "cell_type": "markdown",
      "metadata": {
        "id": "I41mLCY1VRtX",
        "colab_type": "text"
      },
      "source": [
        "### Z-Score\n",
        "\n",
        "* Z-Score pode ser utilizado para detectar Outliers.\n",
        "* É a diferença entre o valor e a média da amostra expressa como o número de desvios-padrão. \n",
        "* Se o escore z for menor que 2,5 ou maior que 2,5, o valor estará nos 5% do menor ou maior valor (2,5% dos valores em ambas as extremidades da distribuição). No entanto, é pratica comum utilizarmos 3 ao invés dos 2,5."
      ]
    },
    {
      "cell_type": "markdown",
      "metadata": {
        "id": "oMHoJmMBdStF",
        "colab_type": "text"
      },
      "source": [
        "Abaixo, definimos a função para detectar os outliers baseados no Z-Score:"
      ]
    },
    {
      "cell_type": "code",
      "metadata": {
        "id": "xpKXBfNyVop7",
        "colab_type": "code",
        "colab": {}
      },
      "source": [
        "from scipy.stats import zscore\n",
        "def ZScore_Outlier_Detect(column):\n",
        "    df[column+'_ZS'] = zscore(df[column])\n",
        "    df[column+'__is_outlier'] = df[column+'_ZS'].apply(lambda x: x <= -3 or x >= 3)\n",
        "    df_AUX= df[df[column+'__is_outlier']== False]\n",
        "    min_vlr= df_AUX[column].min()\n",
        "    max_vlr= df_AUX[column].max()    \n",
        "    df[column+'_Outlier_ZS']= df[column]\n",
        "    \n",
        "    df.loc[df[column+'_Outlier_ZS'] < min_vlr, column+'_Outlier_ZS'] = min_vlr\n",
        "    df.loc[df[column+'_Outlier_ZS'] > max_vlr, column+'_Outlier_ZS'] = max_vlr\n",
        " \n",
        "    df.drop(columns= [column+'_ZS', column+'__is_outlier'], axis=1, inplace= True)"
      ],
      "execution_count": 0,
      "outputs": []
    },
    {
      "cell_type": "markdown",
      "metadata": {
        "id": "N7gb2zhtd0uM",
        "colab_type": "text"
      },
      "source": [
        "### IQR Score\n",
        "\n",
        "* O Intervalo interquartil (IQR) é uma medida de dispersão estatística, sendo igual à diferença entre os percentis 75 e 25, ou entre quartis superiores e inferiores, IQR = Q3 - Q1."
      ]
    },
    {
      "cell_type": "markdown",
      "metadata": {
        "id": "8VwvqIxWeXX8",
        "colab_type": "text"
      },
      "source": [
        "Abaixo, a função para detectar outliers baseados no IQR Score:"
      ]
    },
    {
      "cell_type": "code",
      "metadata": {
        "id": "KuP90g3eecgQ",
        "colab_type": "code",
        "colab": {}
      },
      "source": [
        "def IQR_Score_Outlier_Detect(column):\n",
        "    Q1 = df[column].quantile(0.25)\n",
        "    Q3 = df[column].quantile(0.75)\n",
        "    IQR = Q3 - Q1\n",
        "    Lim_Inf= Q1-1.5*IQR\n",
        "    Lim_Sup= Q3+1.5*IQR\n",
        "    df[column+'__is_outlier'] = df[column].apply(lambda x: x <= Lim_Inf or x >= Lim_Sup)\n",
        "    \n",
        "    df_AUX= df[df[column+'__is_outlier']== False]\n",
        "    min_vlr= df_AUX[column].min()\n",
        "    max_vlr= df_AUX[column].max()    \n",
        "    df[column+'_Outlier_IQR']= df[column]\n",
        "    \n",
        "    df.loc[df[column+'_Outlier_IQR'] < min_vlr, column+'_Outlier_IQR'] = min_vlr\n",
        "    df.loc[df[column+'_Outlier_IQR'] > max_vlr, column+'_Outlier_IQR'] = max_vlr\n",
        " \n",
        "    df.drop(columns= [column+'__is_outlier'], axis=1, inplace= True)"
      ],
      "execution_count": 0,
      "outputs": []
    },
    {
      "cell_type": "markdown",
      "metadata": {
        "id": "zZ0gYMqmYOYN",
        "colab_type": "text"
      },
      "source": [
        "### Avaliando Outliers: variáveis 'Age2', 'Age3', 'Age_Inf' e 'Fare'"
      ]
    },
    {
      "cell_type": "code",
      "metadata": {
        "id": "Us11BCp8XbGS",
        "colab_type": "code",
        "colab": {}
      },
      "source": [
        "#df= df_copia7.copy()\n",
        "df_copia7= df.copy()\n",
        "df.head()"
      ],
      "execution_count": 0,
      "outputs": []
    },
    {
      "cell_type": "code",
      "metadata": {
        "id": "ojPK98FOV3uF",
        "colab_type": "code",
        "colab": {}
      },
      "source": [
        "df_Outlier= df[['Pclass', 'SibSp', 'Fare', 'Sex', 'Deck', 'Embarked', 'Title']].copy()\n",
        "df_Outlier.head()"
      ],
      "execution_count": 0,
      "outputs": []
    },
    {
      "cell_type": "markdown",
      "metadata": {
        "id": "CzR9tbmCdmCm",
        "colab_type": "text"
      },
      "source": [
        "A seguir, vamos detectar outliers usando os dois métodos e depois decidimos qual variável tem melhor poder preditivo."
      ]
    },
    {
      "cell_type": "code",
      "metadata": {
        "id": "_LPGyNVSYpAe",
        "colab_type": "code",
        "colab": {}
      },
      "source": [
        "ZScore_Outlier_Detect('Age2')\n",
        "ZScore_Outlier_Detect('Age3')\n",
        "ZScore_Outlier_Detect('Age_Inf')\n",
        "ZScore_Outlier_Detect('Fare')"
      ],
      "execution_count": 0,
      "outputs": []
    },
    {
      "cell_type": "code",
      "metadata": {
        "id": "6Wx831TsZ6kg",
        "colab_type": "code",
        "colab": {}
      },
      "source": [
        "IQR_Score_Outlier_Detect('Age2')\n",
        "IQR_Score_Outlier_Detect('Age3')\n",
        "IQR_Score_Outlier_Detect('Age_Inf')\n",
        "IQR_Score_Outlier_Detect('Fare')"
      ],
      "execution_count": 0,
      "outputs": []
    },
    {
      "cell_type": "code",
      "metadata": {
        "id": "UFt98b7kVoXp",
        "colab_type": "code",
        "colab": {}
      },
      "source": [
        ""
      ],
      "execution_count": 0,
      "outputs": []
    },
    {
      "cell_type": "markdown",
      "metadata": {
        "id": "bolJ8rTYa93L",
        "colab_type": "text"
      },
      "source": [
        "Vamos tabular alguns resultados para avaliar o impacto destas transformações na variável-resposta 'Survived':"
      ]
    },
    {
      "cell_type": "code",
      "metadata": {
        "id": "tckRJTlhX7b0",
        "colab_type": "code",
        "colab": {}
      },
      "source": [
        "print(round(df[['Age2', 'Age2_Outlier_ZS', 'Age2_Outlier_IQR', 'Survived2']].groupby('Survived2').mean(),0))"
      ],
      "execution_count": 0,
      "outputs": []
    },
    {
      "cell_type": "markdown",
      "metadata": {
        "id": "TfSojAgesZ0b",
        "colab_type": "text"
      },
      "source": [
        "Qual sua opinião com relação à estes resultados para a variável 'Age'?"
      ]
    },
    {
      "cell_type": "code",
      "metadata": {
        "id": "Z6IzbFAubTtC",
        "colab_type": "code",
        "colab": {}
      },
      "source": [
        "print(round(df[['Age3','Age3_Outlier_IQR','Age3_Outlier_ZS','Survived2']].groupby('Survived2').mean(),0))"
      ],
      "execution_count": 0,
      "outputs": []
    },
    {
      "cell_type": "markdown",
      "metadata": {
        "id": "4RvifjeAshsw",
        "colab_type": "text"
      },
      "source": [
        "Qual sua opinião com relação à estes resultados?"
      ]
    },
    {
      "cell_type": "code",
      "metadata": {
        "colab_type": "code",
        "id": "8voybv_D2-JK",
        "colab": {}
      },
      "source": [
        "print(round(df[['Age_Inf','Age_Inf_Outlier_IQR','Age_Inf_Outlier_ZS','Survived2']].groupby('Survived2').mean(),0))"
      ],
      "execution_count": 0,
      "outputs": []
    },
    {
      "cell_type": "markdown",
      "metadata": {
        "colab_type": "text",
        "id": "zi_QJ1xg2-JX"
      },
      "source": [
        "Qual sua opinião com relação à estes resultados?"
      ]
    },
    {
      "cell_type": "code",
      "metadata": {
        "id": "Cd7t_qGRbfRD",
        "colab_type": "code",
        "colab": {}
      },
      "source": [
        "print(round(df[['Fare', 'Fare_Outlier_ZS', 'Fare_Outlier_IQR', 'Survived2']].groupby('Survived2').mean(),0))"
      ],
      "execution_count": 0,
      "outputs": []
    },
    {
      "cell_type": "markdown",
      "metadata": {
        "id": "-T-JCP9EsnUa",
        "colab_type": "text"
      },
      "source": [
        "Qual sua opinião com relação à estes resultados?"
      ]
    },
    {
      "cell_type": "markdown",
      "metadata": {
        "id": "Rgxi2KZw3kl_",
        "colab_type": "text"
      },
      "source": [
        "**Mais Importante**: Qual a decisão tomamos diante destes resultados?"
      ]
    },
    {
      "cell_type": "markdown",
      "metadata": {
        "id": "erkJFbstIKEO",
        "colab_type": "text"
      },
      "source": [
        "### Sugestões de Leitura\n",
        "* [An Awesome Tutorial to Learn Outlier Detection in Python using PyOD Library](https://www.analyticsvidhya.com/blog/2019/02/outlier-detection-python-pyod/)"
      ]
    },
    {
      "cell_type": "markdown",
      "metadata": {
        "id": "vFA_fusYnvVB",
        "colab_type": "text"
      },
      "source": [
        "## Análise de Correlação\n",
        "\n",
        "https://towardsdatascience.com/handling-missing-values-in-machine-learning-part-2-222154b4b58e"
      ]
    },
    {
      "cell_type": "code",
      "metadata": {
        "id": "tfhMoamrCKle",
        "colab_type": "code",
        "colab": {}
      },
      "source": [
        "# calcula a correlação entre as colunas/variáveis do dataframe\n",
        "correlacao= df.corr().abs()\n",
        "\n",
        "# Seleciona o triângulo superior da matriz de correlação\n",
        "correlacao = correlacao.where(np.triu(np.ones(correlacao.shape), k=1).astype(np.bool))\n",
        "correlacao"
      ],
      "execution_count": 0,
      "outputs": []
    },
    {
      "cell_type": "markdown",
      "metadata": {
        "id": "9cbNRJqI6Smj",
        "colab_type": "text"
      },
      "source": [
        "Acho que a figura abaixo apresenta melhor visualização do que a anterior."
      ]
    },
    {
      "cell_type": "code",
      "metadata": {
        "id": "SdHFRXFsB-M5",
        "colab_type": "code",
        "colab": {}
      },
      "source": [
        "fig, ax = plt.subplots(figsize=(15, 15)) \n",
        "mask = np.zeros_like(df.corr().abs())\n",
        "mask[np.triu_indices_from(mask)] = 1\n",
        "sns.heatmap(df.corr().abs(), mask= mask, ax= ax, cmap='coolwarm', annot= True)"
      ],
      "execution_count": 0,
      "outputs": []
    },
    {
      "cell_type": "markdown",
      "metadata": {
        "id": "Ng8u3NVB7Wpx",
        "colab_type": "text"
      },
      "source": [
        "## PCA - Principal Components Analysis\n",
        "\n",
        "* Quando se tem muitas variáveis no seu dataframe, selecionar variáveis para seus modelos pode ser complicado;\n",
        "* PCA ajuda a selecionar os melhores atributos para seus modelos.\n",
        "* Ajuda  aevitar overfitting;"
      ]
    },
    {
      "cell_type": "markdown",
      "metadata": {
        "id": "w01JLfXgs2EP",
        "colab_type": "text"
      },
      "source": [
        "## Data Visualization\n",
        "\n",
        "> Para aprender com mais detalhes sobre 'Pandas Pivot Table & Crosstabs', consulte: \n",
        "\n",
        "* https://medium.com/@yangdustin5/quick-guide-to-pandas-pivot-table-crosstab-40798b33e367\n",
        "* https://pbpython.com/pandas-crosstab.html\n",
        "* https://towardsdatascience.com/10-python-pandas-tricks-to-make-data-analysis-more-enjoyable-cb8f55af8c30\n",
        "* https://dfrieds.com/data-analysis/crosstabs-python-pandas\n",
        "\n",
        "> Para aprender mais sobre gráficos, consulte:\n",
        "\n",
        "* [Visualization with Seaborn](https://jakevdp.github.io/PythonDataScienceHandbook/04.14-visualization-with-seaborn.html)\n",
        "*[Exploring the Titanic dataset with seaborn](https://gist.github.com/mwaskom/8224591)"
      ]
    },
    {
      "cell_type": "markdown",
      "metadata": {
        "id": "e7o2iP6oeF6u",
        "colab_type": "text"
      },
      "source": [
        "Inicialmente, gostaríamos de saber, quantos morreram e quantos sobreviveram ao acidente:"
      ]
    },
    {
      "cell_type": "code",
      "metadata": {
        "id": "P09ZcuUxeKrw",
        "colab_type": "code",
        "colab": {}
      },
      "source": [
        "sns.countplot(x='Survived2', data=df);"
      ],
      "execution_count": 0,
      "outputs": []
    },
    {
      "cell_type": "markdown",
      "metadata": {
        "id": "9XDou-mGvfXP",
        "colab_type": "text"
      },
      "source": [
        "### DataViz para 'Deck'"
      ]
    },
    {
      "cell_type": "code",
      "metadata": {
        "id": "gwnfLVo2vxBH",
        "colab_type": "code",
        "colab": {}
      },
      "source": [
        "Avalia_Taxa_Sobrevivencia(df, 'Deck')"
      ],
      "execution_count": 0,
      "outputs": []
    },
    {
      "cell_type": "code",
      "metadata": {
        "id": "e9AnCCEdyezP",
        "colab_type": "code",
        "colab": {}
      },
      "source": [
        "Catplot_Graph(x= \"Deck\", y= \"Age2\", hue= 'Survived2', col= None)"
      ],
      "execution_count": 0,
      "outputs": []
    },
    {
      "cell_type": "code",
      "metadata": {
        "id": "DZ3MwtRSONsQ",
        "colab_type": "code",
        "colab": {}
      },
      "source": [
        "Catplot_Graph(x= \"Deck\", y= \"Fare\", hue= 'Survived2', col= None)"
      ],
      "execution_count": 0,
      "outputs": []
    },
    {
      "cell_type": "code",
      "metadata": {
        "id": "oIwoNO0OW0BO",
        "colab_type": "code",
        "colab": {}
      },
      "source": [
        "plt.rcdefaults()\n",
        "# make boxplot with Catplot\n",
        "sns.catplot(x='Pclass', y='Age2', kind=\"box\",  data=df, height=4,aspect=1.5)\n",
        "# add data points to boxplot with stripplot\n",
        "sns.stripplot(x='Pclass', y='Age2', data=df, alpha=0.3,jitter=0.2,color='k');\n",
        "plt.show()"
      ],
      "execution_count": 0,
      "outputs": []
    },
    {
      "cell_type": "code",
      "metadata": {
        "id": "shQj58o8y962",
        "colab_type": "code",
        "colab": {}
      },
      "source": [
        "Catplot_Graph(x= \"Sex\", y= \"Age2\", hue= 'Survived2', col= \"Deck\")"
      ],
      "execution_count": 0,
      "outputs": []
    },
    {
      "cell_type": "markdown",
      "metadata": {
        "id": "wx5Yus24yYBN",
        "colab_type": "text"
      },
      "source": [
        "* Qual a relação entre 'Deck', 'Sex' e 'Fare'?"
      ]
    },
    {
      "cell_type": "code",
      "metadata": {
        "id": "oo48B-l4voJR",
        "colab_type": "code",
        "colab": {}
      },
      "source": [
        "Catplot_Graph(x= \"Sex\", y= \"Fare\", hue= 'Survived2', col= \"Deck\")"
      ],
      "execution_count": 0,
      "outputs": []
    },
    {
      "cell_type": "markdown",
      "metadata": {
        "id": "zoh6mrHawHs0",
        "colab_type": "text"
      },
      "source": [
        "**Vamos interpretar esses resultados**:\n",
        "\n",
        "* Esse gráfico relaciona a 'Taxa de Sobrevivência' por cada tipo de 'Deck'.\n",
        "\n",
        "* Pela legenda, temos que a cor vermelha se refere a quem morreu, ao passo que a cor verde representa quem sobreviveu. Baseado nisso, responda às seguintes perguntas:\n",
        "    * Qual 'Deck' apresenta maior 'Taxa de Sobrevivência'?\n",
        "    * Qual 'Deck' apresenta menor 'Taxa de Sobrevivência'?\n",
        "    * O que aconteceu com a maioria das pessoas que estavam no Deck= T?\n",
        "    * Qual a conclusão?"
      ]
    },
    {
      "cell_type": "markdown",
      "metadata": {
        "id": "_CuwmtbIviWj",
        "colab_type": "text"
      },
      "source": [
        "### DataViz para 'MV_Deck'"
      ]
    },
    {
      "cell_type": "code",
      "metadata": {
        "colab_type": "code",
        "id": "FkuOU1fXwVf6",
        "colab": {}
      },
      "source": [
        "Avalia_Taxa_Sobrevivencia(df, 'MV_Deck')"
      ],
      "execution_count": 0,
      "outputs": []
    },
    {
      "cell_type": "code",
      "metadata": {
        "id": "cU5Xu0vAxXhT",
        "colab_type": "code",
        "colab": {}
      },
      "source": [
        "Catplot_Graph(x= \"MV_Deck\", y= \"Age2\", hue= 'Survived2', col= None)"
      ],
      "execution_count": 0,
      "outputs": []
    },
    {
      "cell_type": "code",
      "metadata": {
        "id": "tJSoVRsuzgYL",
        "colab_type": "code",
        "colab": {}
      },
      "source": [
        "Catplot_Graph(x= \"MV_Deck\", y= \"Fare\", hue= 'Survived2', col= None)"
      ],
      "execution_count": 0,
      "outputs": []
    },
    {
      "cell_type": "markdown",
      "metadata": {
        "colab_type": "text",
        "id": "O7MsmsgYwVf_"
      },
      "source": [
        "**Vamos interpretar esses resultados**:\n",
        "\n",
        "* Esse gráfico relaciona a 'Taxa de Sobrevivência' por cada tipo de 'MV_Deck'.\n",
        "\n",
        "* Pela legenda, temos que a cor vermelha se refere a quem morreu, ao passo que a cor verde representa quem sobreviveu. Baseado nisso, responda às seguintes perguntas:\n",
        "    * Qual a conclusão?"
      ]
    },
    {
      "cell_type": "markdown",
      "metadata": {
        "id": "ec7u8pZFvi-a",
        "colab_type": "text"
      },
      "source": [
        "### DataViz para 'Embarked'"
      ]
    },
    {
      "cell_type": "code",
      "metadata": {
        "id": "Ozvn8gAjQKQs",
        "colab_type": "code",
        "colab": {}
      },
      "source": [
        "Avalia_Taxa_Sobrevivencia(df, 'Embarked')"
      ],
      "execution_count": 0,
      "outputs": []
    },
    {
      "cell_type": "code",
      "metadata": {
        "id": "PciX4OgFQP2R",
        "colab_type": "code",
        "colab": {}
      },
      "source": [
        "Catplot_Graph(x= \"Embarked\", y= \"Age2\", hue= 'Survived2', col= None)"
      ],
      "execution_count": 0,
      "outputs": []
    },
    {
      "cell_type": "code",
      "metadata": {
        "id": "vM8QeQ1hzrQS",
        "colab_type": "code",
        "colab": {}
      },
      "source": [
        "Catplot_Graph(x= \"Embarked\", y= \"Fare\", hue= 'Survived2', col= None)"
      ],
      "execution_count": 0,
      "outputs": []
    },
    {
      "cell_type": "code",
      "metadata": {
        "id": "iH7rHSG-xp0Z",
        "colab_type": "code",
        "colab": {}
      },
      "source": [
        "Catplot_Graph(x= \"Sex\", y= \"Age2\", hue= 'Survived2', col= 'Embarked')"
      ],
      "execution_count": 0,
      "outputs": []
    },
    {
      "cell_type": "code",
      "metadata": {
        "id": "SIvh8ZE9z0nM",
        "colab_type": "code",
        "colab": {}
      },
      "source": [
        "Catplot_Graph(x= \"Sex\", y= \"Fare\", hue= 'Survived2', col= 'Embarked')"
      ],
      "execution_count": 0,
      "outputs": []
    },
    {
      "cell_type": "markdown",
      "metadata": {
        "id": "aa7LpixhQXxU",
        "colab_type": "text"
      },
      "source": [
        "**Vamos interpretar esses resultados:**:\n",
        "\n",
        "* Esse gráfico relaciona a 'Taxa de Sobrevivência' por cada tipo de 'Embarked'.\n",
        "\n",
        "* Pela legenda, temos que a cor vermelha se refere a quem morreu, ao passo que a cor verde representa quem sobreviveu. Baseado nisso, responda às seguintes perguntas:\n",
        "    * Qual 'Embarked' apresenta maior 'Taxa de Sobrevivência'?\n",
        "    * Qual 'Embarked' apresenta menor 'Taxa de Sobrevivência'?\n",
        "    * Qual a conclusão?"
      ]
    },
    {
      "cell_type": "markdown",
      "metadata": {
        "id": "ZpkeNv7gvjc9",
        "colab_type": "text"
      },
      "source": [
        "### DataViz para 'Sex'"
      ]
    },
    {
      "cell_type": "code",
      "metadata": {
        "id": "ch9-OfQc_2qD",
        "colab_type": "code",
        "colab": {}
      },
      "source": [
        "Avalia_Taxa_Sobrevivencia(df, 'Sex')"
      ],
      "execution_count": 0,
      "outputs": []
    },
    {
      "cell_type": "code",
      "metadata": {
        "id": "Un7aEY3lKkiq",
        "colab_type": "code",
        "colab": {}
      },
      "source": [
        "Catplot_Graph(x= \"Sex\", y= \"Fare\", hue= 'Survived2', col= None)"
      ],
      "execution_count": 0,
      "outputs": []
    },
    {
      "cell_type": "markdown",
      "metadata": {
        "id": "C1iiy_ZOEuEj",
        "colab_type": "text"
      },
      "source": [
        "**Vamos interpretar esses resultados**:\n",
        "\n",
        "* Esse gráfico relaciona a 'Taxa de Sobrevivência' por cada tipo de 'Sex'.\n",
        "\n",
        "* Pela legenda, temos que a cor vermelha se refere a quem morreu, ao passo que a cor verde representa quem sobreviveu. Baseado nisso, responda às seguintes perguntas:\n",
        "    * Qual 'Sex' apresenta maior 'Taxa de Sobrevivência'?\n",
        "    * Qual 'Sex' apresenta menor 'Taxa de Sobrevivência'?\n",
        "\n",
        "    * Qual a conclusão?"
      ]
    },
    {
      "cell_type": "markdown",
      "metadata": {
        "id": "et9dzjHzvj19",
        "colab_type": "text"
      },
      "source": [
        "### DataViz para 'Pclass'"
      ]
    },
    {
      "cell_type": "code",
      "metadata": {
        "id": "p1m2izxrQ6Xt",
        "colab_type": "code",
        "colab": {}
      },
      "source": [
        "Avalia_Taxa_Sobrevivencia(df, 'Pclass')"
      ],
      "execution_count": 0,
      "outputs": []
    },
    {
      "cell_type": "code",
      "metadata": {
        "id": "-eBil--hz-e0",
        "colab_type": "code",
        "colab": {}
      },
      "source": [
        "Catplot_Graph(x= \"Pclass\", y= \"Age2\", hue= 'Survived2', col= None)"
      ],
      "execution_count": 0,
      "outputs": []
    },
    {
      "cell_type": "code",
      "metadata": {
        "id": "f-0RKWrB0GZn",
        "colab_type": "code",
        "colab": {}
      },
      "source": [
        "Catplot_Graph(x= \"Pclass\", y= \"Fare\", hue= 'Survived2', col= None)"
      ],
      "execution_count": 0,
      "outputs": []
    },
    {
      "cell_type": "code",
      "metadata": {
        "id": "nXsf9AEd0UeH",
        "colab_type": "code",
        "colab": {}
      },
      "source": [
        "Catplot_Graph(x= 'Sex', y= 'Age2', hue= 'Survived2', col= 'Pclass')"
      ],
      "execution_count": 0,
      "outputs": []
    },
    {
      "cell_type": "code",
      "metadata": {
        "id": "ouB8knZv0fCt",
        "colab_type": "code",
        "colab": {}
      },
      "source": [
        "Catplot_Graph(x= 'Sex', y= 'Fare', hue= 'Survived2', col= 'Pclass')"
      ],
      "execution_count": 0,
      "outputs": []
    },
    {
      "cell_type": "markdown",
      "metadata": {
        "id": "FfGKhS8hRMNS",
        "colab_type": "text"
      },
      "source": [
        "**Vamos interpretar esses resultados**:\n",
        "* Responda as seguintes perguntas:\n",
        "    * Qual classe morreram mais pessoas?\n",
        "    * Qual a conclusão geral?"
      ]
    },
    {
      "cell_type": "markdown",
      "metadata": {
        "id": "EElwVevSvkRg",
        "colab_type": "text"
      },
      "source": [
        "### DataViz para 'Parch'\n",
        "* Atributo numérico que representa os filhos/pais."
      ]
    },
    {
      "cell_type": "code",
      "metadata": {
        "id": "PjXfu7AmS5jh",
        "colab_type": "code",
        "colab": {}
      },
      "source": [
        "Avalia_Taxa_Sobrevivencia(df, 'Parch')"
      ],
      "execution_count": 0,
      "outputs": []
    },
    {
      "cell_type": "code",
      "metadata": {
        "colab_type": "code",
        "id": "8Cb14a8Y0y3P",
        "colab": {}
      },
      "source": [
        "Catplot_Graph(x= 'Parch', y= 'Age2', hue= 'Survived2', col= None)"
      ],
      "execution_count": 0,
      "outputs": []
    },
    {
      "cell_type": "code",
      "metadata": {
        "colab_type": "code",
        "id": "aTKeD1PS0y3v",
        "colab": {}
      },
      "source": [
        "Catplot_Graph(x= 'Parch', y= 'Fare', hue= 'Survived2', col= None)"
      ],
      "execution_count": 0,
      "outputs": []
    },
    {
      "cell_type": "code",
      "metadata": {
        "colab_type": "code",
        "id": "WPrDuttx0y34",
        "colab": {}
      },
      "source": [
        "Catplot_Graph(x= 'Sex', y= 'Age2', hue= 'Survived2', col= 'Parch')"
      ],
      "execution_count": 0,
      "outputs": []
    },
    {
      "cell_type": "code",
      "metadata": {
        "colab_type": "code",
        "id": "mYdse_r00y4C",
        "colab": {}
      },
      "source": [
        "Catplot_Graph(x= 'Sex', y= 'Fare', hue= 'Survived2', col= 'Parch')"
      ],
      "execution_count": 0,
      "outputs": []
    },
    {
      "cell_type": "markdown",
      "metadata": {
        "id": "jM9ZFgipTEh-",
        "colab_type": "text"
      },
      "source": [
        "**Vamos interpretar esses resultados**\n",
        "\n",
        "* Qual a conclusão geral?"
      ]
    },
    {
      "cell_type": "markdown",
      "metadata": {
        "id": "v0XBQ-Cmxoca",
        "colab_type": "text"
      },
      "source": [
        "### DataViz para 'SibSp'\n",
        "* Atributo numérico que representa os irmãos/cônjuge."
      ]
    },
    {
      "cell_type": "code",
      "metadata": {
        "id": "U2v7q3FlTRmb",
        "colab_type": "code",
        "colab": {}
      },
      "source": [
        "Avalia_Taxa_Sobrevivencia(df, 'SibSp')"
      ],
      "execution_count": 0,
      "outputs": []
    },
    {
      "cell_type": "markdown",
      "metadata": {
        "id": "sJyKB1DdEvxK",
        "colab_type": "text"
      },
      "source": [
        "Avaliando o impacto do atributo 'SibSp' na taxa de sobrevivência"
      ]
    },
    {
      "cell_type": "code",
      "metadata": {
        "colab_type": "code",
        "id": "3vQZgX5m1DUO",
        "colab": {}
      },
      "source": [
        "Catplot_Graph(x= 'SibSp', y= 'Age2', hue= 'Survived2', col= None)"
      ],
      "execution_count": 0,
      "outputs": []
    },
    {
      "cell_type": "code",
      "metadata": {
        "colab_type": "code",
        "id": "y0e07fDY1DUY",
        "colab": {}
      },
      "source": [
        "Catplot_Graph(x= 'SibSp', y= 'Fare', hue= 'Survived2', col= None)"
      ],
      "execution_count": 0,
      "outputs": []
    },
    {
      "cell_type": "code",
      "metadata": {
        "colab_type": "code",
        "id": "9V_iZ6Y11DUl",
        "colab": {}
      },
      "source": [
        "Catplot_Graph(x= 'SibSp', y= 'Age2', hue= 'Survived2', col= 'SibSp')"
      ],
      "execution_count": 0,
      "outputs": []
    },
    {
      "cell_type": "code",
      "metadata": {
        "colab_type": "code",
        "id": "aFgDvArE1DUw",
        "colab": {}
      },
      "source": [
        "Catplot_Graph(x= 'SibSp', y= 'Fare', hue= 'Survived2', col= 'SibSp')"
      ],
      "execution_count": 0,
      "outputs": []
    },
    {
      "cell_type": "markdown",
      "metadata": {
        "id": "ZHOeNskXTYOo",
        "colab_type": "text"
      },
      "source": [
        "**Vamos interpretar esses resultados**\n",
        "\n",
        "* Qual a conclusão geral?"
      ]
    },
    {
      "cell_type": "markdown",
      "metadata": {
        "id": "Rh-7uLf6GPKg",
        "colab_type": "text"
      },
      "source": [
        "### DataViz para 'Family_Size'"
      ]
    },
    {
      "cell_type": "code",
      "metadata": {
        "id": "tq6veOEHHfzc",
        "colab_type": "code",
        "colab": {}
      },
      "source": [
        "Avalia_Taxa_Sobrevivencia(df, 'Family_Size')"
      ],
      "execution_count": 0,
      "outputs": []
    },
    {
      "cell_type": "code",
      "metadata": {
        "id": "LBKb8Khsrr8d",
        "colab_type": "code",
        "colab": {}
      },
      "source": [
        "# Get the unique values of Embarked and its maximum\n",
        "family_sizes = sorted(df['Family_Size'].unique())\n",
        "family_size_max = max(family_sizes)\n",
        "\n",
        "df_0 = df[df['Survived'] == 0]['Family_Size']\n",
        "df_1 = df[df['Survived'] == 1]['Family_Size']\n",
        "plt.hist([df_0, df_1], \n",
        "         bins=family_size_max + 1, \n",
        "         range=(0, family_size_max), \n",
        "         stacked=True)\n",
        "plt.legend(('Died', 'Survived'), loc='best')\n",
        "plt.title('Survivors by Family Size')"
      ],
      "execution_count": 0,
      "outputs": []
    },
    {
      "cell_type": "code",
      "metadata": {
        "id": "FmZm6awpSVGo",
        "colab_type": "code",
        "colab": {}
      },
      "source": [
        "Catplot_Graph(x= 'Sex', y= 'Age2', hue= 'Survived2', col= 'Family_Size')"
      ],
      "execution_count": 0,
      "outputs": []
    },
    {
      "cell_type": "code",
      "metadata": {
        "id": "0kL4wTLvIUl9",
        "colab_type": "code",
        "colab": {}
      },
      "source": [
        "Catplot_Graph(x= 'Sex', y= 'Fare', hue= 'Survived2', col= 'Family_Size')"
      ],
      "execution_count": 0,
      "outputs": []
    },
    {
      "cell_type": "markdown",
      "metadata": {
        "id": "Ct5SlEbrxo7v",
        "colab_type": "text"
      },
      "source": [
        "### DataViz para 'Age', 'Age3' e 'Age_Inf' - Numérica"
      ]
    },
    {
      "cell_type": "markdown",
      "metadata": {
        "id": "vP9NexrhvFac",
        "colab_type": "text"
      },
      "source": [
        "#### Boxplot"
      ]
    },
    {
      "cell_type": "markdown",
      "metadata": {
        "id": "VCu-0nsauH5T",
        "colab_type": "text"
      },
      "source": [
        "![](https://github.com/MathMachado/Python_RFB/blob/master/Material/boxplot.png?raw=true)"
      ]
    },
    {
      "cell_type": "code",
      "metadata": {
        "id": "TbZX4vkDY6Jl",
        "colab_type": "code",
        "colab": {}
      },
      "source": [
        "plt.rcdefaults()\n",
        "# make boxplot with Catplot\n",
        "sns.catplot(y='Age2', kind=\"box\",  data=df, height=4,aspect=1.5)\n",
        "# add data points to boxplot with stripplot\n",
        "sns.stripplot(y='Age2', data=df, alpha=0.3,jitter=0.2,color='k');\n",
        "plt.show()"
      ],
      "execution_count": 0,
      "outputs": []
    },
    {
      "cell_type": "code",
      "metadata": {
        "id": "hQXinwSqaI-b",
        "colab_type": "code",
        "colab": {}
      },
      "source": [
        "plt.rcdefaults()\n",
        "# make boxplot with Catplot\n",
        "sns.catplot(x='Sex', y='Age2', kind=\"box\",  data=df, height=4,aspect=1.5)\n",
        "# add data points to boxplot with stripplot\n",
        "sns.stripplot(x='Sex', y='Age2', data=df, alpha=0.3,jitter=0.2,color='k');\n",
        "plt.show()"
      ],
      "execution_count": 0,
      "outputs": []
    },
    {
      "cell_type": "code",
      "metadata": {
        "id": "5n30mFjY1dAa",
        "colab_type": "code",
        "colab": {}
      },
      "source": [
        "plt.rcdefaults()\n",
        "df['Age2'].plot(kind='hist')\n",
        "plt.show()"
      ],
      "execution_count": 0,
      "outputs": []
    },
    {
      "cell_type": "code",
      "metadata": {
        "id": "8V4boS_RhbIe",
        "colab_type": "code",
        "colab": {}
      },
      "source": [
        "plt.rcdefaults()\n",
        "# make boxplot with Catplot\n",
        "sns.catplot(x='Survived2', y='Age2', kind=\"box\",  data=df, height=4,aspect=1.5)\n",
        "# add data points to boxplot with stripplot\n",
        "sns.stripplot(x='Survived2', y='Age2', data=df, alpha=0.3,jitter=0.2,color='k');\n",
        "plt.show()"
      ],
      "execution_count": 0,
      "outputs": []
    },
    {
      "cell_type": "code",
      "metadata": {
        "id": "joeEjbvBg7g1",
        "colab_type": "code",
        "colab": {}
      },
      "source": [
        "# Set up a grid of plots\n",
        "# Size of matplotlib figures that contain subplots\n",
        "fizsize_with_subplots = (10, 10)\n",
        "# Size of matplotlib histogram bins\n",
        "bin_size = 10\n",
        "\n",
        "fig, axes = plt.subplots(2, 1, figsize=fizsize_with_subplots)\n",
        "\n",
        "# Histogram of AgeFill segmented by Survived\n",
        "df_0 = df[df['Survived'] == 0]['Age2']\n",
        "df_1 = df[df['Survived'] == 1]['Age2']\n",
        "max_age = max(df['Age2'])\n",
        "bins= int(np.ceil(max_age/bin_size))\n",
        "\n",
        "axes[0].hist([df_0, df_1], bins= int(np.ceil(max_age/bin_size)), range=(1, max_age), stacked=True)\n",
        "axes[0].legend(('Died', 'Survived'), loc='best')\n",
        "axes[0].set_title('Survivors by Age Groups Histogram')\n",
        "axes[0].set_xlabel('Age')\n",
        "axes[0].set_ylabel('Count')\n",
        "\n",
        "# Scatter plot Survived and AgeFill\n",
        "axes[1].scatter(df['Survived'], df['Age2'])\n",
        "axes[1].set_title('Survivors by Age Plot')\n",
        "axes[1].set_xlabel('Survived')\n",
        "axes[1].set_ylabel('Age')"
      ],
      "execution_count": 0,
      "outputs": []
    },
    {
      "cell_type": "markdown",
      "metadata": {
        "id": "uOaU8u3brPxj",
        "colab_type": "text"
      },
      "source": [
        "Infelizmente, os dois gráficos acima não nos trazem muitas informações sobre a idade dos passageiros. Vamos continuar investigando..."
      ]
    },
    {
      "cell_type": "markdown",
      "metadata": {
        "id": "MS1avFSjZyic",
        "colab_type": "text"
      },
      "source": [
        "### DataViz para 'Fare' - Numérica"
      ]
    },
    {
      "cell_type": "code",
      "metadata": {
        "id": "BXmBBU94Z2iV",
        "colab_type": "code",
        "colab": {}
      },
      "source": [
        "plt.rcdefaults()\n",
        "df['Fare'].plot(kind='hist')\n",
        "plt.show()"
      ],
      "execution_count": 0,
      "outputs": []
    },
    {
      "cell_type": "code",
      "metadata": {
        "id": "xAnDjr14aAVw",
        "colab_type": "code",
        "colab": {}
      },
      "source": [
        "plt.rcdefaults()\n",
        "# make boxplot with Catplot\n",
        "sns.catplot(y='Fare', kind=\"box\",  data=df, height=4,aspect=1.5)\n",
        "# add data points to boxplot with stripplot\n",
        "sns.stripplot(y='Fare', data=df, alpha=0.3,jitter=0.2,color='k');\n",
        "plt.show()"
      ],
      "execution_count": 0,
      "outputs": []
    },
    {
      "cell_type": "code",
      "metadata": {
        "id": "8XAoZqU9aUmR",
        "colab_type": "code",
        "colab": {}
      },
      "source": [
        "plt.rcdefaults()\n",
        "# make boxplot with Catplot\n",
        "sns.catplot(x='Survived2', y='Fare', kind=\"box\",  data=df, height=4,aspect=1.5)\n",
        "# add data points to boxplot with stripplot\n",
        "sns.stripplot(x='Survived2', y='Fare', data=df, alpha=0.3,jitter=0.2,color='k');\n",
        "plt.show()"
      ],
      "execution_count": 0,
      "outputs": []
    },
    {
      "cell_type": "markdown",
      "metadata": {
        "id": "Wgcb-Qt8bXJA",
        "colab_type": "text"
      },
      "source": [
        "Quem pagou mais tem maior taxa de sobrevivência?"
      ]
    },
    {
      "cell_type": "code",
      "metadata": {
        "id": "OXv08vweaZ-6",
        "colab_type": "code",
        "colab": {}
      },
      "source": [
        "plt.rcdefaults()\n",
        "# make boxplot with Catplot\n",
        "sns.catplot(x='Sex', y='Fare', kind=\"box\",  data=df, height=4,aspect=1.5)\n",
        "# add data points to boxplot with stripplot\n",
        "sns.stripplot(x='Sex', y='Fare', data=df, alpha=0.3,jitter=0.2,color='k');\n",
        "plt.show()"
      ],
      "execution_count": 0,
      "outputs": []
    },
    {
      "cell_type": "markdown",
      "metadata": {
        "id": "CiWIIYIsbj9o",
        "colab_type": "text"
      },
      "source": [
        "Homens pagaram mais?"
      ]
    },
    {
      "cell_type": "markdown",
      "metadata": {
        "id": "bpnOqcV7cjU4",
        "colab_type": "text"
      },
      "source": [
        "### DataViz para distribuição conjunta entre 'Fare' e 'Sex' - Numérica"
      ]
    },
    {
      "cell_type": "code",
      "metadata": {
        "id": "rLz_Wmh_bxA4",
        "colab_type": "code",
        "colab": {}
      },
      "source": [
        "plt.rcdefaults()\n",
        "# make boxplot with Catplot\n",
        "sns.catplot(x='Sex', y='Fare', hue=\"Survived2\", kind=\"box\", data=df, height=4,aspect=1.5)\n",
        "# add data points to boxplot with stripplot\n",
        "sns.stripplot(x='Sex', y='Fare', hue=\"Survived2\", data=df, alpha=0.3,jitter=0.2,color='k');\n",
        "plt.show()"
      ],
      "execution_count": 0,
      "outputs": []
    },
    {
      "cell_type": "markdown",
      "metadata": {
        "id": "MwbABrniaDWV",
        "colab_type": "text"
      },
      "source": [
        "## Feature Engineering - Encoding variáveis Categóricas\n",
        "\n",
        "> Para mais sobre hot-encoding, consulte:\n",
        "\n",
        "* [Why One-Hot Encode Data in Machine Learning?](https://machinelearningmastery.com/why-one-hot-encode-data-in-machine-learning/)\n",
        "*[Continuous Numeric Data](https://towardsdatascience.com/understanding-feature-engineering-part-1-continuous-numeric-data-da4e47099a7b)"
      ]
    },
    {
      "cell_type": "markdown",
      "metadata": {
        "id": "gMOkAg0iwo7o",
        "colab_type": "text"
      },
      "source": [
        "Inicialmente, vamos categorizar as variáveis floats do nosso dataframes.\n",
        "\n"
      ]
    },
    {
      "cell_type": "markdown",
      "metadata": {
        "id": "X5LqSDeLNKMK",
        "colab_type": "text"
      },
      "source": [
        "Para isso, podemos usar duas alternativas:\n",
        "\n",
        "* usar a função pd.cut() para construir categorias das variáveis numéricas.\n",
        "* Usar Decision Trees para nos dizer quais as melhores classes.\n",
        "\n",
        "Vamos aplicar os dois approaches aqui, ok."
      ]
    },
    {
      "cell_type": "markdown",
      "metadata": {
        "id": "y3CUjZkbvHY3",
        "colab_type": "text"
      },
      "source": [
        "### Construindo classes das variáveis numéricas usando pd.cut()\n",
        "\n",
        "* Para exemplificar, considere a variável 'Age2' a seguir:"
      ]
    },
    {
      "cell_type": "markdown",
      "metadata": {
        "id": "pxHhLx2rVliG",
        "colab_type": "text"
      },
      "source": [
        "Salvando uma cópia do dataframe tratado:"
      ]
    },
    {
      "cell_type": "code",
      "metadata": {
        "id": "F2ieOc4wVkfe",
        "colab_type": "code",
        "colab": {}
      },
      "source": [
        "df.to_csv(\"df_Tratado.csv\", sep= ',', index = True, header=True)"
      ],
      "execution_count": 0,
      "outputs": []
    },
    {
      "cell_type": "code",
      "metadata": {
        "id": "NhvqtnK9NR_Z",
        "colab_type": "code",
        "colab": {}
      },
      "source": [
        "df2= df.copy()\n",
        "Age2_Cat= pd.cut(df2['Age2'], 10)"
      ],
      "execution_count": 0,
      "outputs": []
    },
    {
      "cell_type": "markdown",
      "metadata": {
        "id": "OmEp-9mLNw4z",
        "colab_type": "text"
      },
      "source": [
        "Propus que o Python construisse 10 categorias para 'Age2'. Veja a seguir as classes criadas:"
      ]
    },
    {
      "cell_type": "code",
      "metadata": {
        "id": "LMqe3ouMNq1l",
        "colab_type": "code",
        "colab": {}
      },
      "source": [
        "set(Age2_Cat)"
      ],
      "execution_count": 0,
      "outputs": []
    },
    {
      "cell_type": "code",
      "metadata": {
        "id": "dzeiVKQUOEPh",
        "colab_type": "code",
        "colab": {}
      },
      "source": [
        "Age2_Cat.head()"
      ],
      "execution_count": 0,
      "outputs": []
    },
    {
      "cell_type": "markdown",
      "metadata": {
        "id": "dTjG8p9FONHt",
        "colab_type": "text"
      },
      "source": [
        "Ok, vamos criar estas categorias para cada variável float diratamente no nosso dataframe:"
      ]
    },
    {
      "cell_type": "code",
      "metadata": {
        "id": "HeHpVRBzPMSB",
        "colab_type": "code",
        "colab": {}
      },
      "source": [
        "Numeric_Vars= ['Age2', 'Age3', 'Age2_Outlier_ZS', 'Age2_Outlier_IQR', 'Age3_Outlier_ZS', 'Age3_Outlier_IQR', 'Fare', \n",
        "               'Fare_Outlier_ZS', 'Fare_Outlier_IQR', 'Seat']\n",
        "\n",
        "for var in Numeric_Vars:\n",
        "    df2[var+'_Cut']= pd.cut(df2[var], 10)"
      ],
      "execution_count": 0,
      "outputs": []
    },
    {
      "cell_type": "markdown",
      "metadata": {
        "id": "jModgTXXPln6",
        "colab_type": "text"
      },
      "source": [
        "Vamos ver os resultados..."
      ]
    },
    {
      "cell_type": "code",
      "metadata": {
        "id": "4f-wzRzkOR_P",
        "colab_type": "code",
        "colab": {}
      },
      "source": [
        "df2.head()"
      ],
      "execution_count": 0,
      "outputs": []
    },
    {
      "cell_type": "markdown",
      "metadata": {
        "id": "e3w_tkKkvbe9",
        "colab_type": "text"
      },
      "source": [
        "### Construir as classes das variáveis numéricas usando Decision Trees\n",
        "\n",
        "> Para saber mais sobre discretização usando Decision Trees, consulte [Discretisation Using Decision Trees](https://towardsdatascience.com/discretisation-using-decision-trees-21910483fa4b)."
      ]
    },
    {
      "cell_type": "code",
      "metadata": {
        "id": "jRprhL5443qN",
        "colab_type": "code",
        "colab": {}
      },
      "source": [
        "X_tree= df2[['Survived','Age2','Age3','Fare','Seat','Age2_Outlier_ZS','Age2_Outlier_IQR','Age3_Outlier_ZS','Age3_Outlier_IQR','Fare_Outlier_ZS','Fare_Outlier_IQR']]\n",
        "X_tree= X_tree[X_tree['Survived'].notna()]\n",
        "\n",
        "y_tree= df2[['Survived']]\n",
        "y_tree= y_tree[y_tree['Survived'].notna()]\n",
        "y_tree.shape"
      ],
      "execution_count": 0,
      "outputs": []
    },
    {
      "cell_type": "markdown",
      "metadata": {
        "id": "rRTyFHjxkp0W",
        "colab_type": "text"
      },
      "source": [
        "### Construindo o Classificador - Decision Tree"
      ]
    },
    {
      "cell_type": "markdown",
      "metadata": {
        "id": "Jy_p4nrZiSof",
        "colab_type": "text"
      },
      "source": [
        "Vamos construir uma Decision Tree usando 'Age2' para prever 'Survived', tendo como objetivo discretizar 'Age2'."
      ]
    },
    {
      "cell_type": "code",
      "metadata": {
        "id": "AcqA05vQ39Tk",
        "colab_type": "code",
        "colab": {}
      },
      "source": [
        "from sklearn.tree import DecisionTreeClassifier \n",
        "from sklearn.tree import DecisionTreeRegressor\n",
        "from sklearn import tree, metrics\n",
        "\n",
        "tree_model = DecisionTreeClassifier(max_depth=2)\n",
        "tree_model.fit(X_tree.Age2.to_frame(), X_tree.Survived)\n",
        "\n",
        "X_tree['Age2_tree']=tree_model.predict_proba(X_tree.Age2.to_frame())[:,1] \n",
        "X_tree.head(10)"
      ],
      "execution_count": 0,
      "outputs": []
    },
    {
      "cell_type": "markdown",
      "metadata": {
        "id": "Gc1_IV07jFO8",
        "colab_type": "text"
      },
      "source": [
        "A nova variável 'Age2_tree' representa a probabilidade do ponto/observação pertencer à classe."
      ]
    },
    {
      "cell_type": "markdown",
      "metadata": {
        "id": "3LHeNT8LjXgR",
        "colab_type": "text"
      },
      "source": [
        "### Verificando o número de valores únicos presentes na variável 'Age2_tree'"
      ]
    },
    {
      "cell_type": "code",
      "metadata": {
        "id": "K5j_87CjjlLA",
        "colab_type": "code",
        "colab": {}
      },
      "source": [
        "X_tree.Age2_tree.unique()"
      ],
      "execution_count": 0,
      "outputs": []
    },
    {
      "cell_type": "markdown",
      "metadata": {
        "id": "aGXEs65Hjxck",
        "colab_type": "text"
      },
      "source": [
        "* Por que apenas quatro probabilidades?\n",
        "    * Definimos max_depth = 2. Isso significa uma Decision Tree de profundidade 2, com 2 splits, resultando em 4 buckets. Por isso que temos o vetor acima com somente 4 probabilidades diferentes."
      ]
    },
    {
      "cell_type": "markdown",
      "metadata": {
        "id": "Jfeghz4jk2Fc",
        "colab_type": "text"
      },
      "source": [
        "### Verificando a relação entre a variável discreta 'Age2_tree' e a variável-resposta 'Survived'"
      ]
    },
    {
      "cell_type": "code",
      "metadata": {
        "id": "_KZPbW1S4QUq",
        "colab_type": "code",
        "colab": {}
      },
      "source": [
        "fig = plt.figure()\n",
        "fig = X_tree.groupby(['Age2_tree'])['Survived'].mean().plot()\n",
        "fig.set_title('Monotonic relationship between discretised Age and target')\n",
        "fig.set_ylabel('Survived')"
      ],
      "execution_count": 0,
      "outputs": []
    },
    {
      "cell_type": "markdown",
      "metadata": {
        "id": "8lI9YAp9lT-0",
        "colab_type": "text"
      },
      "source": [
        "Aqui podemos ver uma relação monotônica entre a variável 'Age2_tree' e a variável-resposta 'Survived'. Isso sugere que a variável 'Age2_tree' parece ser um bom preditor da variável-resposta 'Survived'."
      ]
    },
    {
      "cell_type": "markdown",
      "metadata": {
        "id": "xvMZwW6xlqVi",
        "colab_type": "text"
      },
      "source": [
        "### Verificando o número de passageiros por bucket/bin"
      ]
    },
    {
      "cell_type": "code",
      "metadata": {
        "id": "p6X5wwIzYqNZ",
        "colab_type": "code",
        "colab": {}
      },
      "source": [
        "X_tree.groupby(['Age2_tree'])['Survived'].count().plot.bar()"
      ],
      "execution_count": 0,
      "outputs": []
    },
    {
      "cell_type": "markdown",
      "metadata": {
        "id": "CAi6CpTbmBR0",
        "colab_type": "text"
      },
      "source": [
        "### Verificando os intervalos gerados pela Decision Tree"
      ]
    },
    {
      "cell_type": "code",
      "metadata": {
        "id": "z8NWtY2BasDG",
        "colab_type": "code",
        "colab": {}
      },
      "source": [
        "pd.concat( [X_tree.groupby(['Age2_tree'])['Age2'].min(), X_tree.groupby(['Age2_tree'])['Age2'].max()], axis=1)"
      ],
      "execution_count": 0,
      "outputs": []
    },
    {
      "cell_type": "markdown",
      "metadata": {
        "id": "KVhFmvnim41f",
        "colab_type": "text"
      },
      "source": [
        "* A interpretação disso é: A Decision Tree gerou 4 buckets/bins:\n",
        "    * 0-1 com probabilidade= 1;\n",
        "    * 1-6 com probabilidade= 0.65;\n",
        "    * 7-63 com probabilidade= 0.36;\n",
        "    * 64-80 com probabilidade= 0.07."
      ]
    },
    {
      "cell_type": "markdown",
      "metadata": {
        "id": "yrBuLY89ogqp",
        "colab_type": "text"
      },
      "source": [
        "### Otimizando a Decision Tree - Selecionando o depth ótimo"
      ]
    },
    {
      "cell_type": "code",
      "metadata": {
        "id": "KZvBhei-opb_",
        "colab_type": "code",
        "colab": {}
      },
      "source": [
        "from sklearn.model_selection import cross_val_score\n",
        "\n",
        "score_ls = []     # here I will store the roc auc\n",
        "score_std_ls = [] # here I will store the standard deviation of the roc_auc\n",
        "for tree_depth in [1,2,3,4]:\n",
        "    tree_model = DecisionTreeClassifier(max_depth=tree_depth)\n",
        "    \n",
        "    scores = cross_val_score(tree_model, X_tree.Age2.to_frame(), y_tree, cv=3, scoring='roc_auc')   \n",
        "    \n",
        "    score_ls.append(np.mean(scores))\n",
        "    \n",
        "    score_std_ls.append(np.std(scores))\n",
        "    \n",
        "temp = pd.concat([pd.Series([1,2,3,4]), pd.Series(score_ls), pd.Series(score_std_ls)], axis=1)\n",
        "temp.columns = ['depth', 'roc_auc_mean', 'roc_auc_std']\n",
        "print(temp)"
      ],
      "execution_count": 0,
      "outputs": []
    },
    {
      "cell_type": "markdown",
      "metadata": {
        "id": "HWz--U8EpaVC",
        "colab_type": "text"
      },
      "source": [
        "Podemos ver que o melhor resultado se dá para depth= 4. No entanto, o valor para depth= 3 não é muito diferente. Então, por simplicidade, vou usar depth= 3."
      ]
    },
    {
      "cell_type": "markdown",
      "metadata": {
        "id": "r2ig9eAbqQCe",
        "colab_type": "text"
      },
      "source": [
        "### Transformando a variável 'Age2' usando a Decision Tree"
      ]
    },
    {
      "cell_type": "code",
      "metadata": {
        "id": "2X9E4DwIqaLp",
        "colab_type": "code",
        "colab": {}
      },
      "source": [
        "tree_model = DecisionTreeClassifier(max_depth= 3)\n",
        "tree_model.fit(X_tree.Age2.to_frame(), X_tree.Survived)\n",
        "X_tree['Age2_tree'] = tree_model.predict_proba(X_tree.Age2.to_frame())[:,1]"
      ],
      "execution_count": 0,
      "outputs": []
    },
    {
      "cell_type": "markdown",
      "metadata": {
        "id": "AENXRC-3q8VH",
        "colab_type": "text"
      },
      "source": [
        "### Inspecionando a variável"
      ]
    },
    {
      "cell_type": "code",
      "metadata": {
        "id": "saNJygwtrAh5",
        "colab_type": "code",
        "colab": {}
      },
      "source": [
        "X_tree.head()"
      ],
      "execution_count": 0,
      "outputs": []
    },
    {
      "cell_type": "markdown",
      "metadata": {
        "id": "T67GJJGgrHXp",
        "colab_type": "text"
      },
      "source": [
        "### Checking os valores únicos da variável"
      ]
    },
    {
      "cell_type": "code",
      "metadata": {
        "id": "rVuL3GForGcQ",
        "colab_type": "code",
        "colab": {}
      },
      "source": [
        "X_tree.Age2_tree.unique()"
      ],
      "execution_count": 0,
      "outputs": []
    },
    {
      "cell_type": "markdown",
      "metadata": {
        "id": "CF9v5M6GriJz",
        "colab_type": "text"
      },
      "source": [
        "### Verificando os intervalos gerados pela Decision Tree"
      ]
    },
    {
      "cell_type": "code",
      "metadata": {
        "id": "2DLWlfTKrnPQ",
        "colab_type": "code",
        "colab": {}
      },
      "source": [
        "pd.concat( [X_tree.groupby(['Age2_tree'])['Age2'].min(), X_tree.groupby(['Age2_tree'])['Age2'].max()], axis=1)"
      ],
      "execution_count": 0,
      "outputs": []
    },
    {
      "cell_type": "code",
      "metadata": {
        "id": "f1zRbgJIssGx",
        "colab_type": "code",
        "colab": {}
      },
      "source": [
        "X_tree.shape"
      ],
      "execution_count": 0,
      "outputs": []
    },
    {
      "cell_type": "code",
      "metadata": {
        "id": "ON-bLMvrsxdV",
        "colab_type": "code",
        "colab": {}
      },
      "source": [
        "X_tree.head()"
      ],
      "execution_count": 0,
      "outputs": []
    },
    {
      "cell_type": "markdown",
      "metadata": {
        "id": "wod0NlRytFFH",
        "colab_type": "text"
      },
      "source": [
        "Como temos somente 6 probabilidades/valores para 'Age2_tree', então vou fazer o seguinte:"
      ]
    },
    {
      "cell_type": "code",
      "metadata": {
        "id": "JnXYBljMvCeq",
        "colab_type": "code",
        "colab": {}
      },
      "source": [
        "set_Age2_tree= set(X_tree['Age2_tree'])\n",
        "set_Age2_tree= sorted(list(set_Age2_tree))\n",
        "set_Age2_tree"
      ],
      "execution_count": 0,
      "outputs": []
    },
    {
      "cell_type": "markdown",
      "metadata": {
        "id": "Hd0AXStd3g9p",
        "colab_type": "text"
      },
      "source": [
        "Criando o dicionário a partir dos valores únicos:"
      ]
    },
    {
      "cell_type": "code",
      "metadata": {
        "id": "0OEqfatw4EFx",
        "colab_type": "code",
        "colab": {}
      },
      "source": [
        "Niveis= [1,2,3,4,5,6]\n",
        "zipObj= zip(set_Age2_tree, Niveis)\n",
        "DictObj= dict(zipObj)\n",
        "DictObj"
      ],
      "execution_count": 0,
      "outputs": []
    },
    {
      "cell_type": "code",
      "metadata": {
        "id": "IM16f2GrtOS9",
        "colab_type": "code",
        "colab": {}
      },
      "source": [
        "X_tree['Age2_tree2'] = X_tree['Age2_tree'].map(DictObj)"
      ],
      "execution_count": 0,
      "outputs": []
    },
    {
      "cell_type": "code",
      "metadata": {
        "id": "wW2_3A0puvTG",
        "colab_type": "code",
        "colab": {}
      },
      "source": [
        "X_tree.head(5)"
      ],
      "execution_count": 0,
      "outputs": []
    },
    {
      "cell_type": "code",
      "metadata": {
        "id": "1p23a4IfkS2V",
        "colab_type": "code",
        "colab": {}
      },
      "source": [
        "X_tree2= X_tree[['Age2', 'Age2_tree']]"
      ],
      "execution_count": 0,
      "outputs": []
    },
    {
      "cell_type": "code",
      "metadata": {
        "id": "unls0eTakzuy",
        "colab_type": "code",
        "colab": {}
      },
      "source": [
        "X_tree2.head()"
      ],
      "execution_count": 0,
      "outputs": []
    },
    {
      "cell_type": "code",
      "metadata": {
        "id": "TruzdNXdlbHj",
        "colab_type": "code",
        "colab": {}
      },
      "source": [
        "df_drop_dupl = X_tree2.drop_duplicates(['Age2'])\n",
        "df_drop_dupl.shape"
      ],
      "execution_count": 0,
      "outputs": []
    },
    {
      "cell_type": "code",
      "metadata": {
        "id": "ltVoCoeamaAK",
        "colab_type": "code",
        "colab": {}
      },
      "source": [
        "zipObj= zip(df_drop_dupl['Age2'], df_drop_dupl['Age2_tree'])\n",
        "DictObj= dict(zipObj)\n",
        "DictObj"
      ],
      "execution_count": 0,
      "outputs": []
    },
    {
      "cell_type": "code",
      "metadata": {
        "id": "v6tAEDzywUIQ",
        "colab_type": "code",
        "colab": {}
      },
      "source": [
        "X_tree= X_tree.drop(columns= ['Age2', 'Age2_tree'], axis= 1)"
      ],
      "execution_count": 0,
      "outputs": []
    },
    {
      "cell_type": "markdown",
      "metadata": {
        "id": "SkHyOiGrqSlu",
        "colab_type": "text"
      },
      "source": [
        "Aplica o dicionário na base de testes"
      ]
    },
    {
      "cell_type": "markdown",
      "metadata": {
        "id": "MImS5kkAxWRV",
        "colab_type": "text"
      },
      "source": [
        "### Automatizando o processo"
      ]
    },
    {
      "cell_type": "code",
      "metadata": {
        "id": "y3JkuCkP9DFu",
        "colab_type": "code",
        "colab": {}
      },
      "source": [
        "df2.head()"
      ],
      "execution_count": 0,
      "outputs": []
    },
    {
      "cell_type": "code",
      "metadata": {
        "id": "LQgs99GmxZAE",
        "colab_type": "code",
        "colab": {}
      },
      "source": [
        "Numeric_Vars= ['Age2', 'Fare', 'Seat', 'Age3', 'Age2_Outlier_ZS', 'Age2_Outlier_IQR', 'Age3_Outlier_ZS', 'Age3_Outlier_IQR', 'Fare_Outlier_ZS', 'Fare_Outlier_IQR']\n",
        "#Numeric_Vars= ['Fare']\n",
        "\n",
        "df3= df2.copy()\n",
        "\n",
        "X_tree= df2[['Survived','Age2','Age3','Fare','Seat','Age2_Outlier_ZS','Age2_Outlier_IQR','Age3_Outlier_ZS','Age3_Outlier_IQR','Fare_Outlier_ZS','Fare_Outlier_IQR']]\n",
        "X_tree= X_tree[X_tree['Survived'].notna()]\n",
        "\n",
        "y_tree= df2[['Survived']]\n",
        "y_tree= y_tree[y_tree['Survived'].notna()]\n",
        "\n",
        "X_tree.head()"
      ],
      "execution_count": 0,
      "outputs": []
    },
    {
      "cell_type": "code",
      "metadata": {
        "id": "QPRvwZKRyt_i",
        "colab_type": "code",
        "colab": {}
      },
      "source": [
        "for var in Numeric_Vars:\n",
        "    tree_model = DecisionTreeClassifier(max_depth=3)\n",
        "    tree_model.fit(X_tree[var].to_frame(), X_tree['Survived'])\n",
        "\n",
        "    df2[var+'_tree']= tree_model.predict_proba(df2[var].to_frame())[:,1]\n",
        "\n",
        "    var_unicos= set(df2[var+'_tree'])\n",
        "    var_unicos= sorted(list(var_unicos))\n",
        "\n",
        "    Niveis= list(range(len(var_unicos)))\n",
        "      \n",
        "    zipObj= zip(var_unicos, Niveis)\n",
        "    DictObj1= dict(zipObj)\n",
        "\n",
        "    df2[var+'_tree2'] = df2[var+'_tree'].map(DictObj1)\n",
        "\n",
        "    df2= df2.drop(columns= [var, var+'_tree'], axis= 1)\n",
        "    df2= df2.rename(columns={var+'_tree2': var+'_tree'})"
      ],
      "execution_count": 0,
      "outputs": []
    },
    {
      "cell_type": "code",
      "metadata": {
        "id": "6LlyabClsndL",
        "colab_type": "code",
        "colab": {}
      },
      "source": [
        "df2.head()"
      ],
      "execution_count": 0,
      "outputs": []
    },
    {
      "cell_type": "code",
      "metadata": {
        "id": "dsQkc3RO_hEC",
        "colab_type": "code",
        "colab": {}
      },
      "source": [
        "total = df2.isnull().sum().sort_values(ascending=False)\n",
        "percent = (df2.isnull().sum()/df2.isnull().count()).sort_values(ascending=False)\n",
        "missing_data = pd.concat([total, percent], axis=1, keys=['Total', 'Percentual'])\n",
        "f, ax = plt.subplots(figsize=(15, 6))\n",
        "plt.xticks(rotation='90')\n",
        "sns.barplot(x=missing_data.index, y=missing_data['Percentual'])\n",
        "plt.xlabel('Features', fontsize=15)\n",
        "plt.ylabel('Percentual de Missing Values', fontsize=15)\n",
        "plt.title('Percentual de Missing Values por Variável', fontsize=15)\n",
        "missing_data.head()"
      ],
      "execution_count": 0,
      "outputs": []
    },
    {
      "cell_type": "markdown",
      "metadata": {
        "id": "4U1LFraotqtN",
        "colab_type": "text"
      },
      "source": [
        "### Label Encoding"
      ]
    },
    {
      "cell_type": "markdown",
      "metadata": {
        "id": "Pcskf4xSwnRp",
        "colab_type": "text"
      },
      "source": [
        "Variáveis categóricas para decodificarmos:"
      ]
    },
    {
      "cell_type": "code",
      "metadata": {
        "id": "XVbuSBT6tfyi",
        "colab_type": "code",
        "colab": {}
      },
      "source": [
        "df4= df2.copy()\n",
        "Categorical_Vars= ['Embarked', 'Deck', 'Sex', 'Age2_Cut', 'Age3_Cut', 'Age2_Outlier_ZS_Cut', 'Age2_Outlier_IQR_Cut', 'Age3_Outlier_ZS_Cut', 'Age3_Outlier_IQR_Cut',\n",
        "                   'Fare_Cut', 'Fare_Outlier_ZS_Cut', 'Fare_Outlier_IQR_Cut', 'Seat_Cut']\n",
        "df4[Categorical_Vars].head()"
      ],
      "execution_count": 0,
      "outputs": []
    },
    {
      "cell_type": "code",
      "metadata": {
        "id": "rCkiOBNWvGR0",
        "colab_type": "code",
        "colab": {}
      },
      "source": [
        "#df_copia= df.copy()\n",
        "#df= df_copia.copy()"
      ],
      "execution_count": 0,
      "outputs": []
    },
    {
      "cell_type": "code",
      "metadata": {
        "id": "wXVHMJO9xiv6",
        "colab_type": "code",
        "colab": {}
      },
      "source": [
        "le = LabelEncoder()"
      ],
      "execution_count": 0,
      "outputs": []
    },
    {
      "cell_type": "markdown",
      "metadata": {
        "id": "2Hz89PR8EcSS",
        "colab_type": "text"
      },
      "source": [
        "Aplicando Label Encoder às colunas/variáveis categóricas do dataframe:"
      ]
    },
    {
      "cell_type": "code",
      "metadata": {
        "id": "3Sys6iUNxsuz",
        "colab_type": "code",
        "colab": {}
      },
      "source": [
        "for var in Categorical_Vars:\n",
        "    df4[var+'_le']= le.fit_transform(df4[var])"
      ],
      "execution_count": 0,
      "outputs": []
    },
    {
      "cell_type": "code",
      "metadata": {
        "id": "STNB0z8p1UkR",
        "colab_type": "code",
        "colab": {}
      },
      "source": [
        "df5= df4.drop(columns= Categorical_Vars, axis= 1)"
      ],
      "execution_count": 0,
      "outputs": []
    },
    {
      "cell_type": "code",
      "metadata": {
        "id": "L6ZUZ5iU1NmP",
        "colab_type": "code",
        "colab": {}
      },
      "source": [
        "df5.head()"
      ],
      "execution_count": 0,
      "outputs": []
    },
    {
      "cell_type": "code",
      "metadata": {
        "id": "U6dfu6mbgyCS",
        "colab_type": "code",
        "colab": {}
      },
      "source": [
        "total = df5.isnull().sum().sort_values(ascending=False)\n",
        "percent = (df5.isnull().sum()/df5.isnull().count()).sort_values(ascending=False)\n",
        "missing_data = pd.concat([total, percent], axis=1, keys=['Total', 'Percentual'])\n",
        "f, ax = plt.subplots(figsize=(15, 6))\n",
        "plt.xticks(rotation='90')\n",
        "sns.barplot(x=missing_data.index, y=missing_data['Percentual'])\n",
        "plt.xlabel('Features', fontsize=15)\n",
        "plt.ylabel('Percentual de Missing Values', fontsize=15)\n",
        "plt.title('Percentual de Missing Values por Variável', fontsize=15)\n",
        "missing_data.head()"
      ],
      "execution_count": 0,
      "outputs": []
    },
    {
      "cell_type": "markdown",
      "metadata": {
        "id": "xbj_DcPgt8fz",
        "colab_type": "text"
      },
      "source": [
        "### One-Hot Encoding - Construindo variáveis dummies para variáveis categóricas"
      ]
    },
    {
      "cell_type": "markdown",
      "metadata": {
        "id": "KxJxXxLvVfGu",
        "colab_type": "text"
      },
      "source": [
        "Primeiramente, vamos separar as bases de treinamento e teste e, na sequência, transformar as variáveis float para int:"
      ]
    },
    {
      "cell_type": "code",
      "metadata": {
        "id": "gJ6N18iMaNOG",
        "colab_type": "code",
        "colab": {}
      },
      "source": [
        "df_train= df5.copy()\n",
        "df_train= df_train.drop(columns= ['Survived2'], axis= 1)\n",
        "df_train.shape"
      ],
      "execution_count": 0,
      "outputs": []
    },
    {
      "cell_type": "code",
      "metadata": {
        "id": "HRQHlDvRbNtb",
        "colab_type": "code",
        "colab": {}
      },
      "source": [
        "df_train.head()"
      ],
      "execution_count": 0,
      "outputs": []
    },
    {
      "cell_type": "code",
      "metadata": {
        "id": "i6AYyK0g-5H2",
        "colab_type": "code",
        "colab": {}
      },
      "source": [
        "df_train.info()"
      ],
      "execution_count": 0,
      "outputs": []
    },
    {
      "cell_type": "markdown",
      "metadata": {
        "id": "3sYZyzfVEm-1",
        "colab_type": "text"
      },
      "source": [
        "Construindo variáveis dummies para as variáveis categóricas:"
      ]
    },
    {
      "cell_type": "code",
      "metadata": {
        "id": "smCERwq0cPUZ",
        "colab_type": "code",
        "colab": {}
      },
      "source": [
        "Variaveis= list(df_train.columns)\n",
        "Variaveis.remove('Survived')\n",
        "Variaveis"
      ],
      "execution_count": 0,
      "outputs": []
    },
    {
      "cell_type": "code",
      "metadata": {
        "id": "YfWNu56iJEhH",
        "colab_type": "code",
        "colab": {}
      },
      "source": [
        "for var in Variaveis:\n",
        "    ohe= pd.get_dummies(df_train[var]).rename(columns=lambda x: var+'_'+ str(x))\n",
        "    df_train= pd.merge(df_train, ohe, on= 'PassengerId', how= 'left')\n",
        "\n",
        "df_train= df_train.drop(columns= Variaveis, axis= 1)"
      ],
      "execution_count": 0,
      "outputs": []
    },
    {
      "cell_type": "code",
      "metadata": {
        "id": "7SS-4b9PfPKd",
        "colab_type": "code",
        "colab": {}
      },
      "source": [
        "df_train.head()"
      ],
      "execution_count": 0,
      "outputs": []
    },
    {
      "cell_type": "markdown",
      "metadata": {
        "id": "KeAtB6r0Jmi4",
        "colab_type": "text"
      },
      "source": [
        "Adicionando as variáveis dummies criadas ao dataframe original. Observe que em ambos os dataframes (df e ohe) temos 'PassengerId' como chave. Vamos usá-la para fazer o append desses dois dataframes. Em caso de dúvida, consulte o capítulo [Data Analysis With Pandas](https://github.com/MathMachado/Python_RFB/blob/master/Data%20Analysis%20with%20Pandas.ipynb)."
      ]
    },
    {
      "cell_type": "code",
      "metadata": {
        "id": "aqeC2Y5yKKjl",
        "colab_type": "code",
        "colab": {}
      },
      "source": [
        "df6 = pd.merge(df_train, ohe, on='PassengerId', how='left')\n",
        "df6.shape"
      ],
      "execution_count": 0,
      "outputs": []
    },
    {
      "cell_type": "code",
      "metadata": {
        "id": "EtbgwMUSLXOk",
        "colab_type": "code",
        "colab": {}
      },
      "source": [
        "df6.head(5)"
      ],
      "execution_count": 0,
      "outputs": []
    },
    {
      "cell_type": "markdown",
      "metadata": {
        "id": "ydTOBdPJUuGf",
        "colab_type": "text"
      },
      "source": [
        "Pronto, nosso dataframe está pronto/preparado para Machine Learning!"
      ]
    },
    {
      "cell_type": "markdown",
      "metadata": {
        "id": "hqC9C2LoFVdD",
        "colab_type": "text"
      },
      "source": [
        "# Modeling\n",
        "* Para aprender mais sobre Scikit-Learn, consulte: https://scikit-learn.org/stable/\n",
        "\n",
        "Colocar nas referências: https://towardsdatascience.com/hackcvilleds-4636c6c1ba53"
      ]
    },
    {
      "cell_type": "markdown",
      "metadata": {
        "id": "YSnr-ZEms4-6",
        "colab_type": "text"
      },
      "source": [
        "![Modeling](https://github.com/MathMachado/Python_RFB/blob/master/Material/Modeling.png?raw=true)"
      ]
    },
    {
      "cell_type": "markdown",
      "metadata": {
        "id": "Hk-s4kGXK3ai",
        "colab_type": "text"
      },
      "source": [
        "## Train/Test Split"
      ]
    },
    {
      "cell_type": "markdown",
      "metadata": {
        "id": "30pM41lxiv6r",
        "colab_type": "text"
      },
      "source": [
        "Vamos organizar os dados do dataframe convenientemente da seguinte forma:\n",
        "\n",
        "![X](https://github.com/MathMachado/Python_RFB/blob/master/Material/Architecture.png?raw=true)\n",
        "[Fonte](https://jakevdp.github.io/PythonDataScienceHandbook/06.00-figure-code.html#Features-and-Labels-Grid)"
      ]
    },
    {
      "cell_type": "code",
      "metadata": {
        "id": "1kxfkb4BFmxy",
        "colab_type": "code",
        "colab": {}
      },
      "source": [
        "df7= df6.copy()\n",
        "X= df7[df7['Survived'].notna()]\n",
        "X= X.drop(columns= ['Survived'], axis= 1)\n",
        "\n",
        "y= df7[df7['Survived'].notna()]\n",
        "y= y['Survived']\n",
        "\n",
        "print(X.shape, y.shape)"
      ],
      "execution_count": 0,
      "outputs": []
    },
    {
      "cell_type": "code",
      "metadata": {
        "id": "QqZci5ee_Lr3",
        "colab_type": "code",
        "colab": {}
      },
      "source": [
        "X.head()"
      ],
      "execution_count": 0,
      "outputs": []
    },
    {
      "cell_type": "code",
      "metadata": {
        "id": "jHtloo1BJ4dc",
        "colab_type": "code",
        "colab": {}
      },
      "source": [
        "from sklearn.model_selection import train_test_split\n",
        "X_train, X_test, y_train, y_test = train_test_split(X, y, test_size=0.2)\n",
        "print(X_train.shape, y_train.shape)"
      ],
      "execution_count": 0,
      "outputs": []
    },
    {
      "cell_type": "markdown",
      "metadata": {
        "id": "qKQlQmAYAoGh",
        "colab_type": "text"
      },
      "source": [
        "Importance Sampling usando 'Random Forest':"
      ]
    },
    {
      "cell_type": "code",
      "metadata": {
        "id": "KFscVTZn-2kh",
        "colab_type": "code",
        "colab": {}
      },
      "source": [
        "from sklearn.ensemble import RandomForestClassifier\n",
        "rf_clf = RandomForestClassifier(n_estimators = 500, max_depth=12)\n",
        "rf_clf.fit(X_train, y_train)\n",
        "rf_y_pred = rf_clf.predict(X_test)\n",
        "\n",
        "pd.Series(rf_clf.feature_importances_, index = X_train.columns).nlargest(12).plot(kind = 'barh',\n",
        "                                                                               figsize = (10, 10),\n",
        "                                                                              title = 'Feature importance from RandomForest').invert_yaxis();\n"
      ],
      "execution_count": 0,
      "outputs": []
    },
    {
      "cell_type": "markdown",
      "metadata": {
        "id": "r_wJe5k_zBmX",
        "colab_type": "text"
      },
      "source": [
        "Definindo os classificadores:"
      ]
    },
    {
      "cell_type": "code",
      "metadata": {
        "id": "8zvcVyFgzDz3",
        "colab_type": "code",
        "colab": {}
      },
      "source": [
        "names = [PassiveAggressiveClassifier,\n",
        "         SGDClassifier,\n",
        "         LogisticRegression,\n",
        "         KNeighborsClassifier, \n",
        "         NearestCentroid, \n",
        "         MLPClassifier,\n",
        "         DecisionTreeClassifier,\n",
        "         ExtraTreeClassifier,\n",
        "         AdaBoostClassifier,\n",
        "         BaggingClassifier,\n",
        "         RandomForestClassifier,\n",
        "         GaussianProcessClassifier,\n",
        "         SVC,\n",
        "         XGBClassifier, \n",
        "         GradientBoostingClassifier,\n",
        "         GaussianNB]"
      ],
      "execution_count": 0,
      "outputs": []
    },
    {
      "cell_type": "code",
      "metadata": {
        "id": "zfv1V0ekS5JO",
        "colab_type": "code",
        "colab": {}
      },
      "source": [
        "classifiers = [PassiveAggressiveClassifier(),\n",
        "               SGDClassifier(),\n",
        "               LogisticRegression(),\n",
        "               KNeighborsClassifier(), \n",
        "               NearestCentroid(), \n",
        "               MLPClassifier(),\n",
        "               DecisionTreeClassifier(),\n",
        "               ExtraTreesClassifier(n_estimators = 750, max_features = 'sqrt', max_depth = 35,  n_jobs = 50, criterion = 'entropy', random_state = 42, verbose = 1),\n",
        "               AdaBoostClassifier(),\n",
        "               BaggingClassifier(),\n",
        "               RandomForestClassifier(n_estimators = 750, criterion = 'gini', max_features = 'sqrt', max_depth = 3, min_samples_split = 4, min_samples_leaf = 2, n_jobs = 50, random_state = 42, verbose = 1),\n",
        "               GaussianProcessClassifier(),\n",
        "               SVC(probability=True),\n",
        "               XGBClassifier(n_estimators= 2000,max_depth= 4,min_child_weight= 2,gamma=0.9,subsample=0.8,colsample_bytree=0.8,objective='binary:logistic',nthread= -1,scale_pos_weight=1),\n",
        "               GradientBoostingClassifier(n_estimators = 900, learning_rate = 0.0008, loss = 'exponential', min_samples_split = 3, min_samples_leaf = 2, max_features ='sqrt', max_depth = 3,  random_state = 42, verbose = 1),\n",
        "               GaussianNB()\n",
        "              ]"
      ],
      "execution_count": 0,
      "outputs": []
    },
    {
      "cell_type": "code",
      "metadata": {
        "id": "63k-zXgoykbH",
        "colab_type": "code",
        "colab": {}
      },
      "source": [
        "results = []\n",
        "\n",
        "for name, clf in zip(names, classifiers):\n",
        "    clf.fit(X_train, y_train)\n",
        "    scores_train = cross_val_score(clf, X_train, y_train, cv=10)\n",
        "    predicted= clf.predict(X_test)    \n",
        "    acc= accuracy_score(y_test, predicted)    \n",
        "    results.append([name, scores_train.mean(), scores_train.std(), acc])"
      ],
      "execution_count": 0,
      "outputs": []
    },
    {
      "cell_type": "code",
      "metadata": {
        "id": "a06_MmhJ3DI4",
        "colab_type": "code",
        "colab": {}
      },
      "source": [
        "pd.DataFrame(results, columns=['Name', 'Mean', 'Std', 'Accuracy']).sort_values(['Mean'])"
      ],
      "execution_count": 0,
      "outputs": []
    },
    {
      "cell_type": "markdown",
      "metadata": {
        "id": "yBR8tWV_lhQq",
        "colab_type": "text"
      },
      "source": [
        "## Ensemble Methods\n",
        "\n",
        "Check: https://mlwave.com/kaggle-ensembling-guide/"
      ]
    },
    {
      "cell_type": "markdown",
      "metadata": {
        "id": "Dy9yOQ_wvNeu",
        "colab_type": "text"
      },
      "source": [
        "![TPOT](https://github.com/MathMachado/Python_RFB/blob/master/Material/Voting.png?raw=true)"
      ]
    },
    {
      "cell_type": "markdown",
      "metadata": {
        "id": "7ah73GXZFa7i",
        "colab_type": "text"
      },
      "source": [
        "Se fizermos:"
      ]
    },
    {
      "cell_type": "code",
      "metadata": {
        "id": "fXqZ1ymTQpCD",
        "colab_type": "code",
        "colab": {}
      },
      "source": [
        "from sklearn import ensemble\n",
        "\n",
        "rf_est = ensemble.RandomForestClassifier(n_estimators = 750, criterion = 'gini', max_features = 'sqrt', max_depth = 3, min_samples_split = 4, min_samples_leaf = 2, n_jobs = 50, random_state = 42, verbose = 1)\n",
        "gbm_est = ensemble.GradientBoostingClassifier(n_estimators = 900, learning_rate = 0.0008, loss = 'exponential', min_samples_split = 3, min_samples_leaf = 2, max_features ='sqrt', max_depth = 3,  random_state = 42, verbose = 1)\n",
        "et_est = ensemble.ExtraTreesClassifier(n_estimators = 750, max_features = 'sqrt', max_depth = 35,  n_jobs = 50, criterion = 'entropy', random_state = 42, verbose = 1)\n",
        "\n",
        "voting_est = ensemble.VotingClassifier(estimators = [('rf', rf_est),('gbm', gbm_est),('et', et_est)],\n",
        "                                       voting = 'soft', weights = [3,5,2],\n",
        "                                       n_jobs = 50)\n",
        "                                       \n",
        "voting_est.fit(X_train, y_train)\n",
        "print(\"VotingClassifier Score: \" + str(voting_est.score(X_train, y_train)))\n",
        "print(\"VotingClassifier Estimators: \" + str(voting_est.estimators_))"
      ],
      "execution_count": 0,
      "outputs": []
    },
    {
      "cell_type": "markdown",
      "metadata": {
        "id": "yc-hN3AJt0sB",
        "colab_type": "text"
      },
      "source": [
        "# Model Selection and Evaluation"
      ]
    },
    {
      "cell_type": "markdown",
      "metadata": {
        "id": "6J7SQ7MBt5I3",
        "colab_type": "text"
      },
      "source": [
        "![Evaluation](https://github.com/MathMachado/Python_RFB/blob/master/Material/Evaluation.png?raw=true)"
      ]
    },
    {
      "cell_type": "markdown",
      "metadata": {
        "id": "wHcoW0lnuI5B",
        "colab_type": "text"
      },
      "source": [
        "# Deployment"
      ]
    },
    {
      "cell_type": "markdown",
      "metadata": {
        "id": "-c8MAVJ6uO1p",
        "colab_type": "text"
      },
      "source": [
        "![Deployment](https://github.com/MathMachado/Python_RFB/blob/master/Material/Deployment.png?raw=true)"
      ]
    },
    {
      "cell_type": "code",
      "metadata": {
        "id": "IHOul6L8uWPx",
        "colab_type": "code",
        "colab": {}
      },
      "source": [
        ""
      ],
      "execution_count": 0,
      "outputs": []
    }
  ]
}