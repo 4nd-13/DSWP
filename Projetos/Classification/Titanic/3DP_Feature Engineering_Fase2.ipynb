{
  "nbformat": 4,
  "nbformat_minor": 0,
  "metadata": {
    "colab": {
      "name": "Untitled0.ipynb",
      "version": "0.3.2",
      "provenance": [],
      "private_outputs": true,
      "toc_visible": true,
      "include_colab_link": true
    },
    "kernelspec": {
      "name": "python3",
      "display_name": "Python 3"
    },
    "accelerator": "GPU"
  },
  "cells": [
    {
      "cell_type": "markdown",
      "metadata": {
        "id": "view-in-github",
        "colab_type": "text"
      },
      "source": [
        "<a href=\"https://colab.research.google.com/github/MathMachado/Python_RFB/blob/master/Projetos/Titanic/3DP_Feature%20Engineering_Fase2.ipynb\" target=\"_parent\"><img src=\"https://colab.research.google.com/assets/colab-badge.svg\" alt=\"Open In Colab\"/></a>"
      ]
    },
    {
      "cell_type": "markdown",
      "metadata": {
        "id": "pxo5UjpNDw_r",
        "colab_type": "text"
      },
      "source": [
        "# PROJETO TITANIC\n",
        "## 3DP - DATA PREPARATION\n",
        "## 3DP - Feature Engineering - Fase 2\n",
        "\n",
        "* Objetivo\n",
        "    * Aplicar Machine Learning para problemas de classificação"
      ]
    },
    {
      "cell_type": "markdown",
      "metadata": {
        "id": "l9DGifbWSmW3",
        "colab_type": "text"
      },
      "source": [
        "# Machine Learning com Python (Scikit-Learn)\n",
        "\n",
        "![Scikit-Learn](https://github.com/MathMachado/Python_RFB/blob/master/Material/scikit-learn-1.png?raw=true)"
      ]
    },
    {
      "cell_type": "markdown",
      "metadata": {
        "id": "eLDoLK5xs-_v",
        "colab_type": "text"
      },
      "source": [
        "# Dados"
      ]
    },
    {
      "cell_type": "markdown",
      "metadata": {
        "id": "ZuENIuJtj6_g",
        "colab_type": "text"
      },
      "source": [
        "A seguir, as variáveis/atributos do dataframe:"
      ]
    },
    {
      "cell_type": "markdown",
      "metadata": {
        "id": "2Th-GN_YkBo0",
        "colab_type": "text"
      },
      "source": [
        "* Dicionário de dados do dataframe Titanic:\n",
        "    * **PassengerID**: ID do passageiro;\n",
        "    * **Survived**: Indicador, sendo 1= Passageiro sobreviveu e 0= Passageiro morreu;\n",
        "    * **Pclass**: Classe em que o passageiro viaja (1 classe, 2 classe, 3 classe, etc);\n",
        "    * **Age**: Idade do Passageiro;\n",
        "    * **SibSp**: Número de parentes a bordo (esposa, irmãos, pais e etc);\n",
        "    * **Parch**: Número de pais/crianças a bordo;\n",
        "    * **Fare**: Valor pago pela viagem;\n",
        "    * **Cabin**: Cabine do Passageiro;\n",
        "    * **Embarked**: A porta pelo qual o Passageiro embarcou.\n",
        "    * **Name**: Nome do Passageiro;\n",
        "    * **Sex**: Sexo do Passageiro."
      ]
    },
    {
      "cell_type": "markdown",
      "metadata": {
        "id": "q-chlATnKSza",
        "colab_type": "text"
      },
      "source": [
        "# Carregar as bibliotecas (genéricas) Python"
      ]
    },
    {
      "cell_type": "code",
      "metadata": {
        "id": "qRmrskJucwdV",
        "colab_type": "code",
        "colab": {}
      },
      "source": [
        "!pip install category_encoders\n",
        "!pip install update"
      ],
      "execution_count": 0,
      "outputs": []
    },
    {
      "cell_type": "code",
      "metadata": {
        "id": "7FJxrZckYxk6",
        "colab_type": "code",
        "colab": {}
      },
      "source": [
        "# Pandas\n",
        "import pandas as pd\n",
        "import numpy as np\n",
        "from pandas import Series, DataFrame\n",
        "\n",
        "# numpy, matplotlib, seaborn\n",
        "import matplotlib.pyplot as plt\n",
        "import seaborn as sns\n",
        "sns.set_style('whitegrid')\n",
        "import category_encoders as ce\n",
        "%matplotlib inline\n",
        "\n",
        "# preprocessing data\n",
        "#from sklearn.model_selection import cross_val_score, cross_val_predict\n",
        "#from sklearn.preprocessing import OneHotEncoder\n",
        "#from sklearn.preprocessing import LabelEncoder\n",
        "#from sklearn.base import BaseEstimator, TransformerMixin\n",
        "#from sklearn.pipeline import Pipeline\n",
        "#from sklearn.preprocessing import StandardScaler\n",
        "#from sklearn.model_selection import train_test_split\n",
        "#from sklearn.model_selection import StratifiedShuffleSplit\n",
        "#from sklearn.pipeline import FeatureUnion\n",
        "\n",
        "# machine learning\n",
        "#from sklearn.model_selection import cross_val_score\n",
        "#from sklearn.model_selection import RandomizedSearchCV\n",
        "#from scipy.stats import randint as sp_randint\n",
        "#from sklearn.ensemble import VotingClassifier\n",
        "#from sklearn.linear_model import RidgeClassifier, PassiveAggressiveClassifier, SGDClassifier, LogisticRegressionCV, LogisticRegression\n",
        "#from sklearn.naive_bayes import BernoulliNB, MultinomialNB\n",
        "#from sklearn.neighbors import KNeighborsClassifier, RadiusNeighborsClassifier, NearestCentroid\n",
        "#from sklearn.neural_network import MLPClassifier\n",
        "#from sklearn.tree import DecisionTreeClassifier, ExtraTreeClassifier\n",
        "#from sklearn.ensemble import AdaBoostClassifier, BaggingClassifier, RandomForestClassifier\n",
        "#from sklearn.gaussian_process import GaussianProcessClassifier\n",
        "#from sklearn.svm import SVC\n",
        "#\n",
        "#from sklearn.ensemble import ExtraTreesClassifier\n",
        "\n",
        "#from xgboost import XGBClassifier\n",
        "\n",
        "# remove warnings to keep notebook clean\n",
        "import warnings\n",
        "warnings.filterwarnings('ignore')"
      ],
      "execution_count": 0,
      "outputs": []
    },
    {
      "cell_type": "markdown",
      "metadata": {
        "id": "0Wq6Y3eFZCTE",
        "colab_type": "text"
      },
      "source": [
        "# Carregar Dados"
      ]
    },
    {
      "cell_type": "code",
      "metadata": {
        "id": "t9QWCCrLZFfW",
        "colab_type": "code",
        "colab": {}
      },
      "source": [
        "url_train= 'https://raw.githubusercontent.com/MathMachado/Python_RFB/master/Dataframes/Titanic_With_MV.csv?token=AGDJQ65WTJ4TEWR5YTMP6OC5NVS5O'\n",
        "url_test= 'https://raw.githubusercontent.com/MathMachado/Python_RFB/master/Dataframes/Titanic_test.csv?token=AGDJQ62X6LDTHSOXLYBHOOC5NVS7A'\n",
        "\n",
        "# Carrega os dataframes de treinamento e teste e define 'PassengerId' como chave\n",
        "df_train= pd.read_csv(url_train, index_col='PassengerId')\n",
        "df_test= pd.read_csv(url_test, index_col='PassengerId')\n",
        "\n",
        "# Faz uma cópia dos dados originais da variável resposta 'Survived'\n",
        "df_train_Survived = df_train[\"Survived\"].copy()\n",
        "\n",
        "# merge train and test\n",
        "df = df_train.append(df_test, sort= False)"
      ],
      "execution_count": 0,
      "outputs": []
    },
    {
      "cell_type": "markdown",
      "metadata": {
        "id": "04XYWE3pC278",
        "colab_type": "text"
      },
      "source": [
        "# Devivar atributos/Features"
      ]
    },
    {
      "cell_type": "markdown",
      "metadata": {
        "colab_type": "text",
        "id": "umQ3fIKlsNlN"
      },
      "source": [
        "## Variável 'Age_Category'\n",
        "* Construir a variável 'Age_Category' baseado na variável 'Age2'."
      ]
    },
    {
      "cell_type": "code",
      "metadata": {
        "id": "W66GkyuKkhFe",
        "colab_type": "code",
        "colab": {}
      },
      "source": [
        "def Age_Category(age):\n",
        "    if (age <= 1):\n",
        "        return 'Baby'\n",
        "    if (age <= 4):\n",
        "        return 'Toddler'\n",
        "    elif(age <= 12):\n",
        "        return 'Child'\n",
        "    elif (age <= 19):\n",
        "        return 'Teenager'\n",
        "    elif (age <= 30):\n",
        "        return 'Adult'\n",
        "    elif (age <= 50):\n",
        "        return 'Middle_Aged'\n",
        "    elif(age < 60):\n",
        "        return 'Senior_Citizen'\n",
        "    else:\n",
        "        return 'Old'"
      ],
      "execution_count": 0,
      "outputs": []
    },
    {
      "cell_type": "code",
      "metadata": {
        "id": "TnLzC6hCkuBL",
        "colab_type": "code",
        "colab": {}
      },
      "source": [
        "df['Age_Category'] = df['Age'].map(Age_Category)"
      ],
      "execution_count": 0,
      "outputs": []
    },
    {
      "cell_type": "code",
      "metadata": {
        "colab_type": "code",
        "id": "kG8td6HPsNlP",
        "colab": {}
      },
      "source": [
        "set(df['Age_Category']) # Esse comando mostra os NaN's da variável"
      ],
      "execution_count": 0,
      "outputs": []
    },
    {
      "cell_type": "markdown",
      "metadata": {
        "id": "W84DYKI6eQ_h",
        "colab_type": "text"
      },
      "source": [
        "# Conclusão"
      ]
    },
    {
      "cell_type": "code",
      "metadata": {
        "id": "H8HZfy4YeTk8",
        "colab_type": "code",
        "colab": {}
      },
      "source": [
        "df.head(50)"
      ],
      "execution_count": 0,
      "outputs": []
    }
  ]
}