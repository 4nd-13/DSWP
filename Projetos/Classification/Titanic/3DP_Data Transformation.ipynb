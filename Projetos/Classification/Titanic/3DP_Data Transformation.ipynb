{
  "nbformat": 4,
  "nbformat_minor": 0,
  "metadata": {
    "colab": {
      "name": "Untitled0.ipynb",
      "version": "0.3.2",
      "provenance": [],
      "private_outputs": true,
      "toc_visible": true,
      "include_colab_link": true
    },
    "kernelspec": {
      "name": "python3",
      "display_name": "Python 3"
    },
    "accelerator": "GPU"
  },
  "cells": [
    {
      "cell_type": "markdown",
      "metadata": {
        "id": "view-in-github",
        "colab_type": "text"
      },
      "source": [
        "<a href=\"https://colab.research.google.com/github/MathMachado/Python_RFB/blob/master/Projetos/Titanic/3DP_Data%20Transformation_Titanic.ipynb\" target=\"_parent\"><img src=\"https://colab.research.google.com/assets/colab-badge.svg\" alt=\"Open In Colab\"/></a>"
      ]
    },
    {
      "cell_type": "markdown",
      "metadata": {
        "id": "cW8md9mXVJcL",
        "colab_type": "text"
      },
      "source": [
        "# 3DP - DATA PREPARATION\n",
        "> Esta fase é dedicada à preparar, transformar e limpar dados: remover duplicatas, corrigir erros, lidar com Missing Values, normalização, conversões de tipo de dados e etc."
      ]
    },
    {
      "cell_type": "markdown",
      "metadata": {
        "id": "-wsjhgY5wm6R",
        "colab_type": "text"
      },
      "source": [
        "![DataPreparation](https://github.com/MathMachado/Python_RFB/blob/master/Material/DataPreparation.png?raw=true)"
      ]
    },
    {
      "cell_type": "markdown",
      "metadata": {
        "id": "UGJtCSbTwraG",
        "colab_type": "text"
      },
      "source": [
        "Nesta fase vamos estudar:\n",
        "\n",
        "<input type=\"checkbox\" disabled checked> Missing Values Handling\n",
        "\n",
        "<input type=\"checkbox\" disabled checked> Outliers Handling\n",
        "\n",
        "<input type=\"checkbox\" disabled checked> **Data Transformation**\n",
        "\n",
        "    * StandardScaler\n",
        "    * MinMaxScaler\n",
        "    * RobustScaler\n",
        "    * Normalization\n",
        "    * Binarization\n",
        "    * Encoding Categorical (Ordinal & Nominal) Features\n",
        "    * Custom Transformer\n",
        "\n",
        "<input type=\"checkbox\" disabled checked> Feature Engineering\n",
        "\n",
        "    * Polynomial Features\n",
        "\n",
        "<input type=\"checkbox\" disabled checked> Feature Selection ou Dimensionality Reduction\n",
        "\n",
        "<input type=\"checkbox\" disabled checked> Data Cleaning;\n",
        "\n",
        "> \"_80% of a Data Scientist's valuable time is spent simply finding, cleansing, and organizing data, leaving only 20% to actually perform analysis..._\" IBM Data Analytics."
      ]
    },
    {
      "cell_type": "markdown",
      "metadata": {
        "id": "Nnd-3xouAPfU",
        "colab_type": "text"
      },
      "source": [
        "# DATA TRANSFORMATION\n",
        "* Objetivo:\n",
        "    * Aprender sobre rescaling features;\n",
        "    * Aprender LabelEncode para variáveis categóricas;"
      ]
    },
    {
      "cell_type": "markdown",
      "metadata": {
        "id": "-TdSY74U0XS9",
        "colab_type": "text"
      },
      "source": [
        "## Leitura Recomendada:\n",
        "* [Why, How and When to Scale your Features](https://medium.com/greyatom/why-how-and-when-to-scale-your-features-4b30ab09db5e)\n",
        "* [Demonstrating the different strategies of KBinsDiscretizer](https://scikit-learn.org/stable/auto_examples/preprocessing/plot_discretization_strategies.html#sphx-glr-auto-examples-preprocessing-plot-discretization-strategies-py);\n",
        "* [Why do we need feature scaling in Machine Learning and how to do it using SciKit Learn?](https://medium.com/@contactsunny/why-do-we-need-feature-scaling-in-machine-learning-and-how-to-do-it-using-scikit-learn-d8314206fe73)"
      ]
    },
    {
      "cell_type": "markdown",
      "metadata": {
        "id": "l9DGifbWSmW3",
        "colab_type": "text"
      },
      "source": [
        "## Machine Learning com Python (Scikit-Learn)\n",
        "\n",
        "![Scikit-Learn](https://github.com/MathMachado/Python_RFB/blob/master/Material/scikit-learn-1.png?raw=true)"
      ]
    },
    {
      "cell_type": "markdown",
      "metadata": {
        "id": "q-chlATnKSza",
        "colab_type": "text"
      },
      "source": [
        "## Carregar as bibliotecas (genéricas) Python"
      ]
    },
    {
      "cell_type": "code",
      "metadata": {
        "id": "7FJxrZckYxk6",
        "colab_type": "code",
        "colab": {}
      },
      "source": [
        "import pandas as pd\n",
        "from pandas import Series, DataFrame\n",
        "import numpy as np\n",
        "\n",
        "from sklearn import preprocessing\n",
        "import matplotlib\n",
        "import matplotlib.pyplot as plt\n",
        "import seaborn as sns\n",
        "%matplotlib inline\n",
        "matplotlib.style.use('ggplot')\n",
        "\n",
        "# remove warnings to keep notebook clean\n",
        "import warnings\n",
        "warnings.filterwarnings('ignore')"
      ],
      "execution_count": 0,
      "outputs": []
    },
    {
      "cell_type": "markdown",
      "metadata": {
        "id": "eLDoLK5xs-_v",
        "colab_type": "text"
      },
      "source": [
        "## Dados"
      ]
    },
    {
      "cell_type": "markdown",
      "metadata": {
        "id": "ZuENIuJtj6_g",
        "colab_type": "text"
      },
      "source": [
        "A seguir, as variáveis/atributos do dataframe:"
      ]
    },
    {
      "cell_type": "markdown",
      "metadata": {
        "id": "2Th-GN_YkBo0",
        "colab_type": "text"
      },
      "source": [
        "* Dicionário de dados do dataframe Titanic:\n",
        "    * **PassengerID**: ID do passageiro;\n",
        "    * **Survived**: Indicador, sendo 1= Passageiro sobreviveu e 0= Passageiro morreu;\n",
        "    * **Pclass**: Classe em que o passageiro viaja (1 classe, 2 classe, 3 classe, etc);\n",
        "    * **Age**: Idade do Passageiro;\n",
        "    * **SibSp**: Número de parentes a bordo (esposa, irmãos, pais e etc);\n",
        "    * **Parch**: Número de pais/crianças a bordo;\n",
        "    * **Fare**: Valor pago pela viagem;\n",
        "    * **Cabin**: Cabine do Passageiro;\n",
        "    * **Embarked**: A porta pelo qual o Passageiro embarcou.\n",
        "    * **Name**: Nome do Passageiro;\n",
        "    * **Sex**: Sexo do Passageiro."
      ]
    },
    {
      "cell_type": "markdown",
      "metadata": {
        "id": "0Wq6Y3eFZCTE",
        "colab_type": "text"
      },
      "source": [
        "## Carregar Dados"
      ]
    },
    {
      "cell_type": "code",
      "metadata": {
        "id": "t9QWCCrLZFfW",
        "colab_type": "code",
        "colab": {}
      },
      "source": [
        "url_train= 'https://raw.githubusercontent.com/MathMachado/Python_RFB/master/Dataframes/Titanic_With_MV.csv?token=AGDJQ6ZOUEOEEU4TX5T2NDK5NLDKU'\n",
        "url_test= 'https://raw.githubusercontent.com/MathMachado/Python_RFB/master/Dataframes/Titanic_test.csv?token=AGDJQ6YASNFMCF4JUH744C25NLDMQ'\n",
        "\n",
        "# Carrega os dataframes de treinamento e teste e define 'PassengerId' como chave\n",
        "df_train= pd.read_csv(url_train, index_col='PassengerId')\n",
        "df_test= pd.read_csv(url_test, index_col='PassengerId')\n",
        "\n",
        "# Faz uma cópia dos dados originais da variável resposta 'Survived'\n",
        "df_train_Survived = df_train[\"Survived\"].copy()\n",
        "\n",
        "# merge train and test\n",
        "df = df_train.append(df_test, sort= False)"
      ],
      "execution_count": 0,
      "outputs": []
    },
    {
      "cell_type": "markdown",
      "metadata": {
        "id": "6zkeZgHYAIHS",
        "colab_type": "text"
      },
      "source": [
        "A seguir, nosso Dataframe:"
      ]
    },
    {
      "cell_type": "code",
      "metadata": {
        "id": "wReGB9zXAL2B",
        "colab_type": "code",
        "colab": {}
      },
      "source": [
        "df.head(10)"
      ],
      "execution_count": 0,
      "outputs": []
    },
    {
      "cell_type": "markdown",
      "metadata": {
        "id": "dYTc5toM_aAu",
        "colab_type": "text"
      },
      "source": [
        "Excluir do dataframe os NaN's:"
      ]
    },
    {
      "cell_type": "code",
      "metadata": {
        "id": "IHOul6L8uWPx",
        "colab_type": "code",
        "colab": {}
      },
      "source": [
        "df2= df[['Fare','Age','Embarked','Sex']]\n",
        "df2.head()"
      ],
      "execution_count": 0,
      "outputs": []
    },
    {
      "cell_type": "code",
      "metadata": {
        "id": "biEUjwD8Ip_r",
        "colab_type": "code",
        "colab": {}
      },
      "source": [
        "df2.shape"
      ],
      "execution_count": 0,
      "outputs": []
    },
    {
      "cell_type": "markdown",
      "metadata": {
        "id": "cEQZ2NKflLYY",
        "colab_type": "text"
      },
      "source": [
        "Aqui, por questões de simplicidade, vou excluir os NaN's do dataframe."
      ]
    },
    {
      "cell_type": "code",
      "metadata": {
        "id": "ZIXT0jnYIfew",
        "colab_type": "code",
        "colab": {}
      },
      "source": [
        "df2= df2[df2['Fare'].notnull()]\n",
        "df2= df2[df2['Age'].notnull()]\n",
        "df2= df2[df2['Embarked'].notnull()]\n",
        "df2= df2[df2['Sex'].notnull()]\n",
        "df2.shape"
      ],
      "execution_count": 0,
      "outputs": []
    },
    {
      "cell_type": "code",
      "metadata": {
        "id": "Mtt2ZaXeJxoQ",
        "colab_type": "code",
        "colab": {}
      },
      "source": [
        "df2.info()"
      ],
      "execution_count": 0,
      "outputs": []
    },
    {
      "cell_type": "markdown",
      "metadata": {
        "id": "x0lcJBD9jGGj",
        "colab_type": "text"
      },
      "source": [
        "## Transformar variáveis numéricas"
      ]
    },
    {
      "cell_type": "code",
      "metadata": {
        "id": "2yqiqY3Bq-2J",
        "colab_type": "code",
        "colab": {}
      },
      "source": [
        "lVarsNum= ['Fare','Age']"
      ],
      "execution_count": 0,
      "outputs": []
    },
    {
      "cell_type": "code",
      "metadata": {
        "id": "PD3jNpoeEBdi",
        "colab_type": "code",
        "colab": {}
      },
      "source": [
        "StandardScaler = preprocessing.StandardScaler().fit_transform(df2[lVarsNum])\n",
        "MinMaxScaler = preprocessing.MinMaxScaler((-1, 1)).fit_transform(df2[lVarsNum])\n",
        "KBinsDiscretizer = preprocessing.KBinsDiscretizer(n_bins=10, encode='ordinal', strategy='kmeans').fit_transform(df2[lVarsNum])\n",
        "MaxAbsScaler= preprocessing.MaxAbsScaler().fit_transform(df2[lVarsNum])\n",
        "RobustScaler= preprocessing.RobustScaler(quantile_range = (0.1,0.9)).fit_transform(df2[lVarsNum])\n",
        "Normalizer= preprocessing.Normalizer().fit_transform(df2[lVarsNum])"
      ],
      "execution_count": 0,
      "outputs": []
    },
    {
      "cell_type": "markdown",
      "metadata": {
        "id": "hZuhh9MfYevv",
        "colab_type": "text"
      },
      "source": [
        "Observe que passamos dois atributos (no caso, ['Fare', 'Age']). Então, por exemplo, o vetor StandardScaler possui duas colunas, uma para cada atributo."
      ]
    },
    {
      "cell_type": "code",
      "metadata": {
        "id": "jfSn2j7UYYNv",
        "colab_type": "code",
        "colab": {}
      },
      "source": [
        "StandardScaler"
      ],
      "execution_count": 0,
      "outputs": []
    },
    {
      "cell_type": "code",
      "metadata": {
        "id": "PktcB8HRDZt9",
        "colab_type": "code",
        "colab": {}
      },
      "source": [
        "df2[['Fare_StandardScaler', 'Age_StandardScaler']]= pd.DataFrame(StandardScaler)\n",
        "df2[['Fare_MinMaxScaler','Age_StandardScaler']]= pd.DataFrame(MinMaxScaler)\n",
        "df2[['Fare_KBinsDiscretizer','Age_StandardScaler']]= pd.DataFrame(KBinsDiscretizer)\n",
        "df2[['Fare_MaxAbsScaler','Age_StandardScaler']]= pd.DataFrame(MaxAbsScaler)\n",
        "df2[['Fare_RobustScaler','Age_StandardScaler']]= pd.DataFrame(RobustScaler)\n",
        "df2[['Fare_Normalizer','Age_StandardScaler']]= pd.DataFrame(Normalizer)"
      ],
      "execution_count": 0,
      "outputs": []
    },
    {
      "cell_type": "markdown",
      "metadata": {
        "id": "1rkG3h3vkptu",
        "colab_type": "text"
      },
      "source": [
        "Outra possibilidade é construir classes para as variáveis numéricas:"
      ]
    },
    {
      "cell_type": "code",
      "metadata": {
        "id": "uzqTOWznku-f",
        "colab_type": "code",
        "colab": {}
      },
      "source": [
        "df2['Fare_Cut']= pd.cut(df2['Fare'], 10) # Constroi 10 classes para a variável 'Fare'"
      ],
      "execution_count": 0,
      "outputs": []
    },
    {
      "cell_type": "code",
      "metadata": {
        "id": "HklDiM0Bk7oX",
        "colab_type": "code",
        "colab": {}
      },
      "source": [
        "df2.head(10)"
      ],
      "execution_count": 0,
      "outputs": []
    },
    {
      "cell_type": "markdown",
      "metadata": {
        "id": "qlgJsHt8qKWg",
        "colab_type": "text"
      },
      "source": [
        "A seguir, a distribuição da variável 'Fare_KBinsDiscretizer':"
      ]
    },
    {
      "cell_type": "code",
      "metadata": {
        "id": "ciC8AeJ1qGrp",
        "colab_type": "code",
        "colab": {}
      },
      "source": [
        "df2.Fare_KBinsDiscretizer.value_counts()"
      ],
      "execution_count": 0,
      "outputs": []
    },
    {
      "cell_type": "markdown",
      "metadata": {
        "id": "-SQkkZYvqhRk",
        "colab_type": "text"
      },
      "source": [
        "A seguir, a distribuição da variável 'Fare_Cut':"
      ]
    },
    {
      "cell_type": "code",
      "metadata": {
        "id": "hELs8eMyqXIe",
        "colab_type": "code",
        "colab": {}
      },
      "source": [
        "df2.Fare_Cut.value_counts()"
      ],
      "execution_count": 0,
      "outputs": []
    },
    {
      "cell_type": "markdown",
      "metadata": {
        "id": "JnwE2mb7jKvs",
        "colab_type": "text"
      },
      "source": [
        "## Transformar variáveis Categóricas"
      ]
    },
    {
      "cell_type": "markdown",
      "metadata": {
        "id": "RENpQ-Ic7flk",
        "colab_type": "text"
      },
      "source": [
        "Primeiramente, vamos olhar o preenchimento das variáveis:"
      ]
    },
    {
      "cell_type": "code",
      "metadata": {
        "id": "ZD-Oe8-l7noW",
        "colab_type": "code",
        "colab": {}
      },
      "source": [
        "df2.Sex.value_counts()"
      ],
      "execution_count": 0,
      "outputs": []
    },
    {
      "cell_type": "markdown",
      "metadata": {
        "id": "BzkRKvxa7xId",
        "colab_type": "text"
      },
      "source": [
        "Oops... Aqui temos vários problemas... Olhando para estes resultados, você concorda que 'male', 'm', 'MALE', M', 'mALE' e 'Men' se trata da mesma informação?\n",
        "\n",
        "Da mesma forma, 'female', 'f', 'F', 'Female', 'fEMALE', 'Woman', 'w' e 'W' também se trata da mesma informação?\n",
        "\n",
        "Então, vamos fazer o seguinte:\n",
        "\n",
        "Toda vez que eu encontrar um desses valores: ['m', 'MALE', 'M', 'mALE', 'Men'], vou substituir por 'male';\n",
        "Toda vez que eu encontrar um desses valores: ['f', 'F', 'Female', 'fEMALE', 'Woman', 'w', 'W'], vou substituit por 'female'.\n",
        "O comando a seguir faz estas substituições:"
      ]
    },
    {
      "cell_type": "markdown",
      "metadata": {
        "id": "uf2hdb4YnYH6",
        "colab_type": "text"
      },
      "source": [
        "Definindo o dicionário para fazermos as substituições dos valores inconsistentes:"
      ]
    },
    {
      "cell_type": "code",
      "metadata": {
        "id": "E3oYGyX6SmD8",
        "colab_type": "code",
        "colab": {}
      },
      "source": [
        "dSex= {}\n",
        "dSex.update(dict.fromkeys(['m', 'MALE', 'M', 'mALE', 'Men', 'male'], \"male\"))\n",
        "dSex.update(dict.fromkeys(['f', 'F', 'Female', 'fEMALE', 'Woman', 'w', 'W', 'female'], 'female'))\n",
        "dSex"
      ],
      "execution_count": 0,
      "outputs": []
    },
    {
      "cell_type": "code",
      "metadata": {
        "id": "-HUQVwlaSwDE",
        "colab_type": "code",
        "colab": {}
      },
      "source": [
        "df2['Sex2']= df['Sex'].map(dSex)\n",
        "df2.Sex2.value_counts()"
      ],
      "execution_count": 0,
      "outputs": []
    },
    {
      "cell_type": "markdown",
      "metadata": {
        "id": "4VUh6uhgFNBw",
        "colab_type": "text"
      },
      "source": [
        "Ok, de fato corrigimos os problemas de preenchimento da variável 'Sex'. então, vamos renomear nossa variável para o que tínhamos antes:"
      ]
    },
    {
      "cell_type": "code",
      "metadata": {
        "id": "tzIU-1htFDvx",
        "colab_type": "code",
        "colab": {}
      },
      "source": [
        "# Deleta as variáveis 'Sex':\n",
        "df2= df2.drop(columns= ['Sex'], axis= 1)\n",
        "\n",
        "# Renomea a variável auxiliar 'Sex2' para 'Sex':\n",
        "df2= df2.rename(columns= {'Sex2': 'Sex'})\n",
        "\n",
        "# Mostra os dados:\n",
        "df2.head()"
      ],
      "execution_count": 0,
      "outputs": []
    },
    {
      "cell_type": "code",
      "metadata": {
        "id": "5ywzSaiFa-tw",
        "colab_type": "code",
        "colab": {}
      },
      "source": [
        "sns.catplot(x=\"Sex\", kind=\"count\", data=df2)"
      ],
      "execution_count": 0,
      "outputs": []
    },
    {
      "cell_type": "markdown",
      "metadata": {
        "id": "5m6SqpIHnhNG",
        "colab_type": "text"
      },
      "source": [
        "**Atenção:** Os comandos abaixo são uma alternativa ao map() aplicado anteriormente para corrigir os atributos da variável 'Sex':"
      ]
    },
    {
      "cell_type": "markdown",
      "metadata": {
        "id": "HBMw8pxrj5-i",
        "colab_type": "text"
      },
      "source": [
        "```\n",
        "df2['Sex2'] = df2['Sex'].replace(['m', 'MALE', 'M', 'mALE', 'Men'], 'male')\n",
        "df2['Sex3'] = df['Sex2'].replace(['f', 'F', 'Female', 'fEMALE', 'Woman', 'w', 'W'], 'female') \n",
        "df_copia1.Sex3.value_counts()\n",
        "```\n",
        "\n"
      ]
    },
    {
      "cell_type": "markdown",
      "metadata": {
        "id": "3KpT7q4l_wg6",
        "colab_type": "text"
      },
      "source": [
        "Agora ok, temos algo que faz sentido para a variável 'Sex'."
      ]
    },
    {
      "cell_type": "code",
      "metadata": {
        "id": "uCCpleQ38eDX",
        "colab_type": "code",
        "colab": {}
      },
      "source": [
        "df2.head(10)"
      ],
      "execution_count": 0,
      "outputs": []
    },
    {
      "cell_type": "markdown",
      "metadata": {
        "id": "YK1A600U8i78",
        "colab_type": "text"
      },
      "source": [
        "Agora, vamos olhar os atributos da variável 'Embarked'"
      ]
    },
    {
      "cell_type": "code",
      "metadata": {
        "id": "KYu6JT-Q8nqT",
        "colab_type": "code",
        "colab": {}
      },
      "source": [
        "df2.Embarked.value_counts()"
      ],
      "execution_count": 0,
      "outputs": []
    },
    {
      "cell_type": "markdown",
      "metadata": {
        "id": "cbo4RTui8u8Y",
        "colab_type": "text"
      },
      "source": [
        "Tudo ok."
      ]
    },
    {
      "cell_type": "code",
      "metadata": {
        "id": "Kp5ZLdu98yeZ",
        "colab_type": "code",
        "colab": {}
      },
      "source": [
        "sns.catplot(x=\"Embarked\", kind=\"count\", data=df2)"
      ],
      "execution_count": 0,
      "outputs": []
    },
    {
      "cell_type": "code",
      "metadata": {
        "id": "K4mcKGJ1Sdk9",
        "colab_type": "code",
        "colab": {}
      },
      "source": [
        "lVarsCat= ['Embarked', 'Sex']\n",
        "df3= df2.copy()"
      ],
      "execution_count": 0,
      "outputs": []
    },
    {
      "cell_type": "code",
      "metadata": {
        "id": "YDY-_dNAvQdI",
        "colab_type": "code",
        "colab": {}
      },
      "source": [
        "df3.head()"
      ],
      "execution_count": 0,
      "outputs": []
    },
    {
      "cell_type": "code",
      "metadata": {
        "id": "q7qrGFz5rBSz",
        "colab_type": "code",
        "colab": {}
      },
      "source": [
        "# Create a label (category) encoder object\n",
        "le= preprocessing.LabelEncoder()"
      ],
      "execution_count": 0,
      "outputs": []
    },
    {
      "cell_type": "markdown",
      "metadata": {
        "id": "SR2floru2QyG",
        "colab_type": "text"
      },
      "source": [
        "Aplica o LabelEncoder:"
      ]
    },
    {
      "cell_type": "code",
      "metadata": {
        "id": "3oXDw1Ivz7pB",
        "colab_type": "code",
        "colab": {}
      },
      "source": [
        "for var in lVarsCat:\n",
        "    df3[var+'_le']= le.fit(df3[var]).transform(df3[var])"
      ],
      "execution_count": 0,
      "outputs": []
    },
    {
      "cell_type": "markdown",
      "metadata": {
        "id": "GfiO85SJ2VtE",
        "colab_type": "text"
      },
      "source": [
        "No caso do OneHotEncoder, é necessário informar o índice das colunas."
      ]
    },
    {
      "cell_type": "code",
      "metadata": {
        "id": "vLQko3Ex1aiC",
        "colab_type": "code",
        "colab": {}
      },
      "source": [
        "df4 = pd.concat([df3, pd.get_dummies(df3['Sex'], prefix='Sex', dummy_na=True)],axis=1)\n",
        "df4 = pd.concat([df4, pd.get_dummies(df4['Embarked'], prefix='Embarked', dummy_na=True)],axis=1)"
      ],
      "execution_count": 0,
      "outputs": []
    },
    {
      "cell_type": "code",
      "metadata": {
        "id": "2uNcpxmU4wOU",
        "colab_type": "code",
        "colab": {}
      },
      "source": [
        "df4.head()"
      ],
      "execution_count": 0,
      "outputs": []
    }
  ]
}
