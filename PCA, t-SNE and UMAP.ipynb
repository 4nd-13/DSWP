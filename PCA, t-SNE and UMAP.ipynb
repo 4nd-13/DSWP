{
  "nbformat": 4,
  "nbformat_minor": 0,
  "metadata": {
    "colab": {
      "private_outputs": true,
      "provenance": [],
      "authorship_tag": "ABX9TyPt/g/0JldcNIyYDp57q+58",
      "include_colab_link": true
    },
    "kernelspec": {
      "name": "python3",
      "display_name": "Python 3"
    },
    "language_info": {
      "name": "python"
    }
  },
  "cells": [
    {
      "cell_type": "markdown",
      "metadata": {
        "id": "view-in-github",
        "colab_type": "text"
      },
      "source": [
        "<a href=\"https://colab.research.google.com/github/MathMachado/DSWP/blob/master/PCA%2C%20t-SNE%20and%20UMAP.ipynb\" target=\"_parent\"><img src=\"https://colab.research.google.com/assets/colab-badge.svg\" alt=\"Open In Colab\"/></a>"
      ]
    },
    {
      "cell_type": "code",
      "source": [
        "pip install umap-learn"
      ],
      "metadata": {
        "id": "mgL4a-GxGwVZ"
      },
      "execution_count": null,
      "outputs": []
    },
    {
      "cell_type": "code",
      "source": [
        "import numpy as np\n",
        "import pandas as pd\n",
        "import matplotlib.pyplot as plt\n",
        "from sklearn.datasets import load_iris\n",
        "from sklearn.preprocessing import StandardScaler\n",
        "from sklearn.decomposition import PCA\n",
        "from sklearn.manifold import TSNE\n",
        "import umap\n",
        "\n",
        "# Load the Iris dataset\n",
        "iris = load_iris()\n",
        "X = iris.data\n",
        "y = iris.target\n",
        "\n",
        "# Standardize the data\n",
        "scaler = StandardScaler()\n",
        "X_scaled = scaler.fit_transform(X)\n",
        "\n",
        "# PCA\n",
        "pca = PCA(n_components=2)\n",
        "X_pca = pca.fit_transform(X_scaled)\n",
        "\n",
        "# t-SNE\n",
        "tsne = TSNE(n_components=2, random_state=42)\n",
        "X_tsne = tsne.fit_transform(X_scaled)\n",
        "\n",
        "# UMAP\n",
        "umap_reducer = umap.UMAP(n_components=2, random_state=42)\n",
        "X_umap = umap_reducer.fit_transform(X_scaled)\n",
        "\n",
        "# Plot the results\n",
        "fig, axs = plt.subplots(1, 3, figsize=(18, 5))\n",
        "\n",
        "axs[0].scatter(X_pca[:, 0], X_pca[:, 1], c=y)\n",
        "axs[0].set_title(\"PCA\")\n",
        "\n",
        "axs[1].scatter(X_tsne[:, 0], X_tsne[:, 1], c=y)\n",
        "axs[1].set_title(\"t-SNE\")\n",
        "\n",
        "axs[2].scatter(X_umap[:, 0], X_umap[:, 1], c=y)\n",
        "axs[2].set_title(\"UMAP\")\n",
        "\n",
        "plt.show()\n"
      ],
      "metadata": {
        "id": "2zyXGkMPGvtD"
      },
      "execution_count": null,
      "outputs": []
    }
  ]
}