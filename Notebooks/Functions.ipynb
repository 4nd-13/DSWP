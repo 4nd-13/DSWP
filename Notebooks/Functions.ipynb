{
  "nbformat": 4,
  "nbformat_minor": 0,
  "metadata": {
    "colab": {
      "name": "Functions.ipynb",
      "version": "0.3.2",
      "provenance": [],
      "private_outputs": true,
      "toc_visible": true,
      "include_colab_link": true
    },
    "kernelspec": {
      "name": "python3",
      "display_name": "Python 3"
    }
  },
  "cells": [
    {
      "cell_type": "markdown",
      "metadata": {
        "id": "view-in-github",
        "colab_type": "text"
      },
      "source": [
        "<a href=\"https://colab.research.google.com/github/MathMachado/Python_RFB/blob/master/Functions.ipynb\" target=\"_parent\"><img src=\"https://colab.research.google.com/assets/colab-badge.svg\" alt=\"Open In Colab\"/></a>"
      ]
    },
    {
      "cell_type": "markdown",
      "metadata": {
        "id": "J7p-ar1vWFQA",
        "colab_type": "text"
      },
      "source": [
        "# PENDÊNCIAS DESTA SESSÃO\n",
        "## Falar de Lambda functions\n",
        "## Falar de default argumentos;\n",
        "## Dar mais exemplos de lambda functions;\n",
        "## Falar de \"exception handling\" (https://www.w3schools.com/python/python_try_except.asp)"
      ]
    },
    {
      "cell_type": "markdown",
      "metadata": {
        "id": "e0UKAZQvJ_c2",
        "colab_type": "text"
      },
      "source": [
        "# Python Functions\n",
        "\n",
        "* Function is a sequence of statements to perform tasks;\n",
        "* We use the Python reserved word 'def' to declare a function;\n",
        "\n",
        "\n",
        "Considere default argumentos para funções:\n",
        "https://www.geeksforgeeks.org/default-arguments-in-python/"
      ]
    },
    {
      "cell_type": "code",
      "metadata": {
        "id": "etxNlyRYo39A",
        "colab_type": "code",
        "colab": {}
      },
      "source": [
        "def Show_Hello_World():\n",
        "    print('Hello World!')"
      ],
      "execution_count": 0,
      "outputs": []
    },
    {
      "cell_type": "code",
      "metadata": {
        "id": "G6I9PFvZpBgR",
        "colab_type": "code",
        "colab": {}
      },
      "source": [
        "type(Show_Hello_World)"
      ],
      "execution_count": 0,
      "outputs": []
    },
    {
      "cell_type": "code",
      "metadata": {
        "id": "_meNdNygpIbv",
        "colab_type": "code",
        "colab": {}
      },
      "source": [
        "Show_Hello_World()"
      ],
      "execution_count": 0,
      "outputs": []
    },
    {
      "cell_type": "markdown",
      "metadata": {
        "id": "6zfLd8HwpPpg",
        "colab_type": "text"
      },
      "source": [
        "# Including comments/docstring"
      ]
    },
    {
      "cell_type": "code",
      "metadata": {
        "id": "3yzgBxtNpRi_",
        "colab_type": "code",
        "colab": {}
      },
      "source": [
        "def Show_Hello_World():\n",
        "    '''\n",
        "    This function show the phrase 'Hello World!'\n",
        "    '''\n",
        "    print('Hello World!')"
      ],
      "execution_count": 0,
      "outputs": []
    },
    {
      "cell_type": "code",
      "metadata": {
        "id": "0rBaxjpmpbm1",
        "colab_type": "code",
        "colab": {}
      },
      "source": [
        "Show_Hello_World()"
      ],
      "execution_count": 0,
      "outputs": []
    },
    {
      "cell_type": "markdown",
      "metadata": {
        "id": "NcIKusajplU5",
        "colab_type": "text"
      },
      "source": [
        "This ''' Text ''' are called docstring in Python."
      ]
    },
    {
      "cell_type": "markdown",
      "metadata": {
        "id": "whbnnMA5p1Jw",
        "colab_type": "text"
      },
      "source": [
        "# Functions with atributes"
      ]
    },
    {
      "cell_type": "markdown",
      "metadata": {
        "id": "O3bSjLA_qTTc",
        "colab_type": "text"
      },
      "source": [
        "Defining the function ShowName with 2 attribures: FirstName and Lastname:"
      ]
    },
    {
      "cell_type": "code",
      "metadata": {
        "id": "9jWyCCPPp4yS",
        "colab_type": "code",
        "colab": {}
      },
      "source": [
        "def ShowName(FirstName, LastName):\n",
        "    print('Hi, My name is {} {}'.format(FirstName, LastName))"
      ],
      "execution_count": 0,
      "outputs": []
    },
    {
      "cell_type": "code",
      "metadata": {
        "id": "VOB3Ip63qIzr",
        "colab_type": "code",
        "colab": {}
      },
      "source": [
        "ShowName('Nelio', 'Machado')"
      ],
      "execution_count": 0,
      "outputs": []
    },
    {
      "cell_type": "markdown",
      "metadata": {
        "id": "Ej74rjiEXPMV",
        "colab_type": "text"
      },
      "source": [
        "## \\*args and **kargs\n",
        "* \\*args permite que você passe mais argumentos do que o número de argumentos formais que você definiu anteriormente.\n",
        "* Non Keyword Arguments"
      ]
    },
    {
      "cell_type": "markdown",
      "metadata": {
        "id": "rSnrtFNtXrbN",
        "colab_type": "text"
      },
      "source": [
        "### Exemplo de \\*args\n",
        "* Considere a função (simples) para imprimir o nome completo de um cliente."
      ]
    },
    {
      "cell_type": "markdown",
      "metadata": {
        "id": "ty1PJTVajhv_",
        "colab_type": "text"
      },
      "source": [
        "#### Exemplo 1"
      ]
    },
    {
      "cell_type": "markdown",
      "metadata": {
        "id": "BsnGFHB9ZI4f",
        "colab_type": "text"
      },
      "source": [
        "##### Forma \"normal\""
      ]
    },
    {
      "cell_type": "code",
      "metadata": {
        "id": "irNsr9pyYJAO",
        "colab_type": "code",
        "colab": {}
      },
      "source": [
        "# Definimos a função da seguinte forma:\n",
        "def MyFunction(FirstName, Surname):\n",
        "    print(\"O nome do cliente é\", FirstName, Surname)"
      ],
      "execution_count": 0,
      "outputs": []
    },
    {
      "cell_type": "code",
      "metadata": {
        "id": "FJT2wViaYc1n",
        "colab_type": "code",
        "colab": {}
      },
      "source": [
        "# Chamamos a função:\n",
        "MyFunction(\"Dom\", \"Pedro I\")"
      ],
      "execution_count": 0,
      "outputs": []
    },
    {
      "cell_type": "markdown",
      "metadata": {
        "id": "zwKXyVtmZNSF",
        "colab_type": "text"
      },
      "source": [
        "##### Usando \\*args"
      ]
    },
    {
      "cell_type": "code",
      "metadata": {
        "id": "Npbi_Hy0bUec",
        "colab_type": "code",
        "colab": {}
      },
      "source": [
        "# definimos a função MyFunction2 da seguinte forma:\n",
        "def MyFunction2(*args):\n",
        "    nome =  ' '.join(args)\n",
        "    print(\"O nome do cliente é\", nome)"
      ],
      "execution_count": 0,
      "outputs": []
    },
    {
      "cell_type": "code",
      "metadata": {
        "id": "4kYcu6PEX-Nz",
        "colab_type": "code",
        "colab": {}
      },
      "source": [
        "MyFunction2('Pedro', 'de', 'Alcantara', 'Francisco', 'Antonio', 'Joao', 'Carlos', 'Xavier', 'de', 'Paula', 'Miguel', 'Rafael', 'Joaquim', 'Jose', 'Gonzaga', 'Pascoal', 'Cipriano', 'Serafim')"
      ],
      "execution_count": 0,
      "outputs": []
    },
    {
      "cell_type": "markdown",
      "metadata": {
        "id": "KMgngPmFimxb",
        "colab_type": "text"
      },
      "source": [
        "Observe que desta forma pouco importa a quantidade de parâmetros que passamos á função."
      ]
    },
    {
      "cell_type": "markdown",
      "metadata": {
        "id": "Y9pDa6ZRjo0U",
        "colab_type": "text"
      },
      "source": [
        "#### Exemplo 2\n",
        "* suponha que estamos insteressados em desenvolver uma função que multiplica dois números passados como parâmetros."
      ]
    },
    {
      "cell_type": "markdown",
      "metadata": {
        "id": "cCDwruF8j5i5",
        "colab_type": "text"
      },
      "source": [
        "##### Forma \"Normal\""
      ]
    },
    {
      "cell_type": "code",
      "metadata": {
        "id": "_R03BiwLjtwB",
        "colab_type": "code",
        "colab": {}
      },
      "source": [
        "# Definição da função\n",
        "def Multiplica(x1, x2):\n",
        "    return x1*x2"
      ],
      "execution_count": 0,
      "outputs": []
    },
    {
      "cell_type": "code",
      "metadata": {
        "id": "0eVm1Qj9kDtd",
        "colab_type": "code",
        "colab": {}
      },
      "source": [
        "nResultado= Multiplica(3, 4)\n",
        "print(nResultado)"
      ],
      "execution_count": 0,
      "outputs": []
    },
    {
      "cell_type": "markdown",
      "metadata": {
        "id": "4h9Nhkickf_8",
        "colab_type": "text"
      },
      "source": [
        "##### Usando \\*args"
      ]
    },
    {
      "cell_type": "code",
      "metadata": {
        "id": "9Kf89meJkjw8",
        "colab_type": "code",
        "colab": {}
      },
      "source": [
        "def Multiplica2(*args):\n",
        "    x= 1\n",
        "    for N in args:\n",
        "        x*= N\n",
        "    \n",
        "    return x"
      ],
      "execution_count": 0,
      "outputs": []
    },
    {
      "cell_type": "code",
      "metadata": {
        "id": "ZuIzwitWk7by",
        "colab_type": "code",
        "colab": {}
      },
      "source": [
        "nResultado= Multiplica2(1,2,3,4,5)\n",
        "print(nResultado)"
      ],
      "execution_count": 0,
      "outputs": []
    },
    {
      "cell_type": "markdown",
      "metadata": {
        "id": "38jVie_IjMXI",
        "colab_type": "text"
      },
      "source": [
        "### Exemplo de \\**kargs\n",
        "\n",
        "* \\**kargs é usado para passar um dicionário de comprimento variável para uma função.\n",
        "* Keyword Arguments;\n",
        "\n",
        "* Para exemplificar o uso de \\**kargs, vou usar parte do dicionário dFruits que definimos na sessão [Dictionaries](Dictionaries.ipynb). Qualquer dúvida, volte áquele capítulo para relembrar os principais conceitos."
      ]
    },
    {
      "cell_type": "code",
      "metadata": {
        "id": "jojtsb3ojO7u",
        "colab_type": "code",
        "colab": {}
      },
      "source": [
        "# Definindo o dicionário:\n",
        "dFruits= {'Avocado': 0.35, \n",
        "         'Apple': 0.40, \n",
        "         'Apricot': 0.25, \n",
        "         'Banana': 0.30, \n",
        "         'Blackcurrant': 0.70, \n",
        "         'Blackberry': 0.55, \n",
        "         'Blueberry': 0.45, \n",
        "         'Cherry': 0.50, \n",
        "         'Coconut': 0.75, \n",
        "         'Fig': 0.60, \n",
        "         'Grape': 0.65, \n",
        "         'Kiwi': 0.20, \n",
        "         'Lemon': 0.15, \n",
        "         'Mango': 0.80, \n",
        "         'Nectarine': 0.75, \n",
        "         'Orange': 0.25, \n",
        "         'Papaya': 0.30,\n",
        "         'Passion Fruit': 0.45,\n",
        "         'Peach': 0.55,\n",
        "         'Pineapple': 0.55,\n",
        "         'Plum': 0.60,\n",
        "         'Raspberry': 0.40,\n",
        "         'Strawberry': 0.50,\n",
        "         'Watermelon': 0.45}"
      ],
      "execution_count": 0,
      "outputs": []
    },
    {
      "cell_type": "code",
      "metadata": {
        "id": "iDLuRTDMoERA",
        "colab_type": "code",
        "colab": {}
      },
      "source": [
        "print(dFruits)"
      ],
      "execution_count": 0,
      "outputs": []
    },
    {
      "cell_type": "code",
      "metadata": {
        "id": "yAntQ724nMbv",
        "colab_type": "code",
        "colab": {}
      },
      "source": [
        "# Definindo a função:\n",
        "def PrintFruits(**kwargs):\n",
        "    for key, value in kwargs.items():\n",
        "        print(\"O valor de {} é {}\".format(key, value))"
      ],
      "execution_count": 0,
      "outputs": []
    },
    {
      "cell_type": "code",
      "metadata": {
        "id": "88-1lStInaVs",
        "colab_type": "code",
        "colab": {}
      },
      "source": [
        "PrintFruits(Avocado= 0.35, Apple= 0.4, Apricot= 0.25, Banana= 0.30)"
      ],
      "execution_count": 0,
      "outputs": []
    },
    {
      "cell_type": "markdown",
      "metadata": {
        "id": "iK8-e7a1sXmn",
        "colab_type": "text"
      },
      "source": [
        "# Python 'return' statement\n",
        "A Python function may optionally return a value."
      ]
    },
    {
      "cell_type": "code",
      "metadata": {
        "id": "HS0dGA55siWw",
        "colab_type": "code",
        "colab": {}
      },
      "source": [
        "def Even_or_Odd(nNumber1, nNumber2):\n",
        "    '''\n",
        "    This function only check if the sum of 2 numbers are even or odd. \n",
        "    If the sum is odd, then function returns the word 'odd'. Otherwise, the word 'even'\n",
        "    '''\n",
        "    nSum= nNumber1+nNumber2\n",
        "    nMod= nSum % 2\n",
        "    print('The sum is {}'.format(nSum))\n",
        "    if nMod > 0:\n",
        "        return 'Odd'\n",
        "    else:\n",
        "        return 'Even'   "
      ],
      "execution_count": 0,
      "outputs": []
    },
    {
      "cell_type": "code",
      "metadata": {
        "id": "mZTG2tDJuIZQ",
        "colab_type": "code",
        "colab": {}
      },
      "source": [
        "nNumber1= int(input('Please inform the 1st number: '))\n",
        "nNumber2= int(input('Please inform the 2nd number: '))"
      ],
      "execution_count": 0,
      "outputs": []
    },
    {
      "cell_type": "code",
      "metadata": {
        "id": "7p_9pq3Du18a",
        "colab_type": "code",
        "colab": {}
      },
      "source": [
        "type(nNumber1)"
      ],
      "execution_count": 0,
      "outputs": []
    },
    {
      "cell_type": "code",
      "metadata": {
        "id": "4oO7aAjcvCAe",
        "colab_type": "code",
        "colab": {}
      },
      "source": [
        "type(nNumber2)"
      ],
      "execution_count": 0,
      "outputs": []
    },
    {
      "cell_type": "code",
      "metadata": {
        "id": "Br7yT8UHuKYY",
        "colab_type": "code",
        "colab": {}
      },
      "source": [
        "sResult= Even_or_Odd(nNumber1, nNumber2)"
      ],
      "execution_count": 0,
      "outputs": []
    },
    {
      "cell_type": "code",
      "metadata": {
        "id": "601QnggJuhf-",
        "colab_type": "code",
        "colab": {}
      },
      "source": [
        "print('The result is {}'.format(sResult))"
      ],
      "execution_count": 0,
      "outputs": []
    },
    {
      "cell_type": "markdown",
      "metadata": {
        "id": "t6HNf9j9yKcT",
        "colab_type": "text"
      },
      "source": [
        "Show the value of nMod or nSum:"
      ]
    },
    {
      "cell_type": "code",
      "metadata": {
        "id": "Yu8RsyDAyXne",
        "colab_type": "code",
        "colab": {}
      },
      "source": [
        "nMod"
      ],
      "execution_count": 0,
      "outputs": []
    },
    {
      "cell_type": "markdown",
      "metadata": {
        "id": "nx3twrLRyaeJ",
        "colab_type": "text"
      },
      "source": [
        "Python reports that the 'nMod' does not exist.\n",
        "\n",
        "Is it correct?"
      ]
    },
    {
      "cell_type": "markdown",
      "metadata": {
        "id": "imkyRO4kyvgV",
        "colab_type": "text"
      },
      "source": [
        "Consider the following example:"
      ]
    },
    {
      "cell_type": "code",
      "metadata": {
        "id": "kwRiXDA5y19h",
        "colab_type": "code",
        "colab": {}
      },
      "source": [
        "nMod= 0\n",
        "def Even_or_Odd_V2(nNumber1, nNumber2):\n",
        "    '''\n",
        "    This function only check if the sum of 2 numbers are even or odd. \n",
        "    If the sum is odd, then function returns the word 'odd'. Otherwise, the word 'even'\n",
        "    '''\n",
        "    nSum= nNumber1+nNumber2\n",
        "    nMod= nSum % 2\n",
        "    print('The sum is {}'.format(nSum))\n",
        "    if nMod > 0:\n",
        "        return 'Odd'\n",
        "    else:\n",
        "        return 'Even'   "
      ],
      "execution_count": 0,
      "outputs": []
    },
    {
      "cell_type": "code",
      "metadata": {
        "id": "GYxLSGQLy_Ai",
        "colab_type": "code",
        "colab": {}
      },
      "source": [
        "nNumber1= int(input('Please inform the 1st number: '))\n",
        "nNumber2= int(input('Please inform the 2nd number: '))"
      ],
      "execution_count": 0,
      "outputs": []
    },
    {
      "cell_type": "code",
      "metadata": {
        "id": "NMtv99fjzHGs",
        "colab_type": "code",
        "colab": {}
      },
      "source": [
        "sResult= Even_or_Odd_V2(nNumber1, nNumber2)"
      ],
      "execution_count": 0,
      "outputs": []
    },
    {
      "cell_type": "code",
      "metadata": {
        "id": "qjOHnYDVzNGK",
        "colab_type": "code",
        "colab": {}
      },
      "source": [
        "print('The result is {}'.format(sResult))"
      ],
      "execution_count": 0,
      "outputs": []
    },
    {
      "cell_type": "markdown",
      "metadata": {
        "id": "pPTecxRfzQUc",
        "colab_type": "text"
      },
      "source": [
        "And now, let's check the value of nMod..."
      ]
    },
    {
      "cell_type": "code",
      "metadata": {
        "id": "jkQb2mQzzTEo",
        "colab_type": "code",
        "colab": {}
      },
      "source": [
        "nMod"
      ],
      "execution_count": 0,
      "outputs": []
    },
    {
      "cell_type": "markdown",
      "metadata": {
        "id": "oOlyGxBAzjE3",
        "colab_type": "text"
      },
      "source": [
        "Why, this time, does Python recognize the variable Mod?"
      ]
    },
    {
      "cell_type": "markdown",
      "metadata": {
        "id": "dceSkt9Z0BZh",
        "colab_type": "text"
      },
      "source": [
        "# Local & Global Scope\n",
        "\n",
        "* Local Scope - A variable that’s declared inside a function has a local scope. In other words, it is local to that function.\n",
        "* Global Scope - When you declare a variable outside python function, or anything else, it has global scope. It means that it is visible everywhere within the program. However, you can’t change its value from inside a function. To do so, you must declare it global inside the function, using the ‘global’ keyword."
      ]
    },
    {
      "cell_type": "markdown",
      "metadata": {
        "id": "0tIjI9GScPxu",
        "colab_type": "text"
      },
      "source": [
        "## Example 1"
      ]
    },
    {
      "cell_type": "code",
      "metadata": {
        "id": "QRojHHJ20iTY",
        "colab_type": "code",
        "colab": {}
      },
      "source": [
        "def fExample1():\n",
        "    nValue= 20\n",
        "    nValue+=1\n",
        "    print(nValue)"
      ],
      "execution_count": 0,
      "outputs": []
    },
    {
      "cell_type": "code",
      "metadata": {
        "id": "RdhElmTs0y1c",
        "colab_type": "code",
        "colab": {}
      },
      "source": [
        "fExample1()"
      ],
      "execution_count": 0,
      "outputs": []
    },
    {
      "cell_type": "markdown",
      "metadata": {
        "id": "Tytq7PnH08pz",
        "colab_type": "text"
      },
      "source": [
        "If you try to access the variable 'nValue' outside the fExample1(), you cannot, because the scope of this variable is restricted to the function."
      ]
    },
    {
      "cell_type": "code",
      "metadata": {
        "id": "299AK0PA1lIg",
        "colab_type": "code",
        "colab": {}
      },
      "source": [
        "nValue"
      ],
      "execution_count": 0,
      "outputs": []
    },
    {
      "cell_type": "markdown",
      "metadata": {
        "id": "KTV_6Gzxfvpc",
        "colab_type": "text"
      },
      "source": [
        "## Example 2"
      ]
    },
    {
      "cell_type": "code",
      "metadata": {
        "id": "zyi9AyJwfxTm",
        "colab_type": "code",
        "colab": {}
      },
      "source": [
        "nValue= 100\n",
        "def fExample2():\n",
        "    nValue= 20\n",
        "    nValue+=1\n",
        "    print(nValue)"
      ],
      "execution_count": 0,
      "outputs": []
    },
    {
      "cell_type": "code",
      "metadata": {
        "id": "iEWrboG6gBSs",
        "colab_type": "code",
        "colab": {}
      },
      "source": [
        "fExample2()"
      ],
      "execution_count": 0,
      "outputs": []
    },
    {
      "cell_type": "code",
      "metadata": {
        "id": "I46Bn4FlgJLu",
        "colab_type": "code",
        "colab": {}
      },
      "source": [
        "nValue"
      ],
      "execution_count": 0,
      "outputs": []
    },
    {
      "cell_type": "markdown",
      "metadata": {
        "id": "IQlP5nbngL6E",
        "colab_type": "text"
      },
      "source": [
        "It's a little bit weird: first we defined nValue= 100 and inside the function fExample2() we assigned nValue= 20. However, when we execute the function fExample2, we have the value 21 to nValue. After that, outside the function, we print the value for nValue and have the value priviously defined 100.\n",
        "\n",
        "What's going on?\n",
        "\n",
        "Try to explain what's is happening..."
      ]
    },
    {
      "cell_type": "markdown",
      "metadata": {
        "id": "h8PHd6rLgtwK",
        "colab_type": "text"
      },
      "source": [
        "## Example 3"
      ]
    },
    {
      "cell_type": "code",
      "metadata": {
        "id": "qB7_zPQVgvVT",
        "colab_type": "code",
        "colab": {}
      },
      "source": [
        "nValue= 100\n",
        "def fExample3():\n",
        "    global nValue\n",
        "    nValue= 20\n",
        "    nValue+=1\n",
        "    print(nValue)"
      ],
      "execution_count": 0,
      "outputs": []
    },
    {
      "cell_type": "code",
      "metadata": {
        "id": "2KgQSbYCg8Eq",
        "colab_type": "code",
        "colab": {}
      },
      "source": [
        "fExample3()"
      ],
      "execution_count": 0,
      "outputs": []
    },
    {
      "cell_type": "code",
      "metadata": {
        "id": "Y7yWoojrg_9Z",
        "colab_type": "code",
        "colab": {}
      },
      "source": [
        "nValue"
      ],
      "execution_count": 0,
      "outputs": []
    },
    {
      "cell_type": "markdown",
      "metadata": {
        "id": "X8qFfIoxhFOp",
        "colab_type": "text"
      },
      "source": [
        "## Example 4"
      ]
    },
    {
      "cell_type": "code",
      "metadata": {
        "id": "ZM-yTLuO1bFh",
        "colab_type": "code",
        "colab": {}
      },
      "source": [
        "nValue= 20\n",
        "\n",
        "def Example4():\n",
        "    nValue+= 1\n",
        "    print(nValue)"
      ],
      "execution_count": 0,
      "outputs": []
    },
    {
      "cell_type": "code",
      "metadata": {
        "id": "oLvfPO8w1zwL",
        "colab_type": "code",
        "colab": {}
      },
      "source": [
        "Example4()"
      ],
      "execution_count": 0,
      "outputs": []
    },
    {
      "cell_type": "code",
      "metadata": {
        "id": "w9qI8kln1_C7",
        "colab_type": "code",
        "colab": {}
      },
      "source": [
        "nValue"
      ],
      "execution_count": 0,
      "outputs": []
    },
    {
      "cell_type": "markdown",
      "metadata": {
        "id": "2V7QzpZp2QcM",
        "colab_type": "text"
      },
      "source": [
        "Now, the variable 'nValue' exist'..."
      ]
    },
    {
      "cell_type": "markdown",
      "metadata": {
        "id": "xPpFqVUnKEH7",
        "colab_type": "text"
      },
      "source": [
        "# Challenge\n",
        "Develop a function to give you the name of the month based on the number you inform to the function.\n",
        "https://data-flair.training/blogs/python-switch-case/"
      ]
    },
    {
      "cell_type": "markdown",
      "metadata": {
        "id": "RDgCRPRs0W6C",
        "colab_type": "text"
      },
      "source": [
        "## Exercício 1\n",
        "Construa uma função para retornar o dia da semana a partir de um número, sendo:\n",
        "\n",
        "* 1 - Dom\n",
        "* 2 - Seg\n",
        "* 3 - Ter\n",
        "* 4 - Qua\n",
        "* 5 - Qui\n",
        "* 6 - Sex\n",
        "* 7 - Sab"
      ]
    },
    {
      "cell_type": "code",
      "metadata": {
        "id": "wX_7XDyB0XSy",
        "colab_type": "code",
        "colab": {}
      },
      "source": [
        "def Semana(dia):\n",
        "    dSemana= {1:'Sunday',\n",
        "              2:'Monday',\n",
        "              3:'Tuesday',\n",
        "              4:'Wednesday',\n",
        "              5:'Thursday',\n",
        "              6:'Friday',\n",
        "              7:'Saturday'\n",
        "             }\n",
        "    return dSemana.get(dia,\"Inválido dia da semana\")"
      ],
      "execution_count": 0,
      "outputs": []
    },
    {
      "cell_type": "code",
      "metadata": {
        "id": "39toyCRU1Q5T",
        "colab_type": "code",
        "colab": {}
      },
      "source": [
        "Semana(1)"
      ],
      "execution_count": 0,
      "outputs": []
    },
    {
      "cell_type": "code",
      "metadata": {
        "id": "wt5hQq__1UEd",
        "colab_type": "code",
        "colab": {}
      },
      "source": [
        "Semana(0)"
      ],
      "execution_count": 0,
      "outputs": []
    },
    {
      "cell_type": "markdown",
      "metadata": {
        "id": "Mn8LNvJSLVDu",
        "colab_type": "text"
      },
      "source": [
        "# Important Python Functions"
      ]
    },
    {
      "cell_type": "markdown",
      "metadata": {
        "id": "hKnRSCqiLYYe",
        "colab_type": "text"
      },
      "source": [
        "https://data-flair.training/blogs/python-range-function/"
      ]
    },
    {
      "cell_type": "markdown",
      "metadata": {
        "id": "XZ0xprJjLZzX",
        "colab_type": "text"
      },
      "source": [
        "https://data-flair.training/blogs/python-zip-function/"
      ]
    },
    {
      "cell_type": "markdown",
      "metadata": {
        "id": "5-vV684lLbdl",
        "colab_type": "text"
      },
      "source": [
        "https://data-flair.training/blogs/python-eval-function/"
      ]
    },
    {
      "cell_type": "markdown",
      "metadata": {
        "id": "QeG3z7aWLdYk",
        "colab_type": "text"
      },
      "source": [
        "# Lambda Funtions\n",
        "\n",
        "* Em Python, uma função não precisa ter um nome. Para isso, usamos 'Lambda Functions', que nos permite criar uma função anônima.\n",
        "* A função anônima começa com a palavra reservada 'lambda';\n",
        "\n",
        "https://www.w3schools.com/python/python_lambda.asp\n",
        "\n"
      ]
    },
    {
      "cell_type": "markdown",
      "metadata": {
        "id": "_X_ZH2j2rlni",
        "colab_type": "text"
      },
      "source": [
        "## Exemplo\n",
        "Suponha que queremos somar dois números dados."
      ]
    },
    {
      "cell_type": "code",
      "metadata": {
        "id": "i5oEx0pPr0_Z",
        "colab_type": "code",
        "colab": {}
      },
      "source": [
        "nSoma= lambda N1, N2: (N1+N2)"
      ],
      "execution_count": 0,
      "outputs": []
    },
    {
      "cell_type": "code",
      "metadata": {
        "id": "JWlYGbXisSDa",
        "colab_type": "code",
        "colab": {}
      },
      "source": [
        "nSoma(6, 8)"
      ],
      "execution_count": 0,
      "outputs": []
    }
  ]
}
