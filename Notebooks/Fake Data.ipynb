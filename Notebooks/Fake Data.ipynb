{
  "nbformat": 4,
  "nbformat_minor": 0,
  "metadata": {
    "colab": {
      "name": "Untitled7.ipynb",
      "version": "0.3.2",
      "provenance": [],
      "private_outputs": true,
      "include_colab_link": true
    },
    "kernelspec": {
      "name": "python3",
      "display_name": "Python 3"
    }
  },
  "cells": [
    {
      "cell_type": "markdown",
      "metadata": {
        "id": "view-in-github",
        "colab_type": "text"
      },
      "source": [
        "<a href=\"https://colab.research.google.com/github/MathMachado/Python_RFB/blob/master/Fake%20Data.ipynb\" target=\"_parent\"><img src=\"https://colab.research.google.com/assets/colab-badge.svg\" alt=\"Open In Colab\"/></a>"
      ]
    },
    {
      "cell_type": "markdown",
      "metadata": {
        "id": "WphOZILy1-VN",
        "colab_type": "text"
      },
      "source": [
        "# PENDÊNCIAS DESTA SESSÃO\n",
        "\n",
        "https://medium.com/district-data-labs/a-practical-guide-to-anonymizing-datasets-with-python-faker-ecf15114c9be\n",
        "\n"
      ]
    },
    {
      "cell_type": "markdown",
      "metadata": {
        "id": "lvwCYOASu9t0",
        "colab_type": "text"
      },
      "source": [
        "# Generating Realist Fake Data"
      ]
    },
    {
      "cell_type": "markdown",
      "metadata": {
        "id": "lTQR6mv7tTWk",
        "colab_type": "text"
      },
      "source": [
        "Como a librarie 'faker' não estava instalada, então o comando abaixo foi necessário para instalar a librarie 'faker' juntamente com todas as dependências necessárias para funcionar corretamente."
      ]
    },
    {
      "cell_type": "code",
      "metadata": {
        "id": "KbqUf6jttDI_",
        "colab_type": "code",
        "colab": {}
      },
      "source": [
        "!pip install Faker"
      ],
      "execution_count": 0,
      "outputs": []
    },
    {
      "cell_type": "markdown",
      "metadata": {
        "id": "wudfdsSytrxb",
        "colab_type": "text"
      },
      "source": [
        "Chama a library..."
      ]
    },
    {
      "cell_type": "code",
      "metadata": {
        "id": "iRBaFRSltkzB",
        "colab_type": "code",
        "colab": {}
      },
      "source": [
        "from faker import Faker\n",
        "import datetime\n",
        "import random\n",
        "import pandas as pd"
      ],
      "execution_count": 0,
      "outputs": []
    },
    {
      "cell_type": "markdown",
      "metadata": {
        "id": "lA7aoZK9txtP",
        "colab_type": "text"
      },
      "source": [
        "Instancia..."
      ]
    },
    {
      "cell_type": "code",
      "metadata": {
        "id": "ntc6ukQBtvyB",
        "colab_type": "code",
        "colab": {}
      },
      "source": [
        "fake = Faker('pt_BR')"
      ],
      "execution_count": 0,
      "outputs": []
    },
    {
      "cell_type": "markdown",
      "metadata": {
        "id": "zsDgP2W2t3Rb",
        "colab_type": "text"
      },
      "source": [
        "Gerando vários nomes fake..."
      ]
    },
    {
      "cell_type": "code",
      "metadata": {
        "id": "2JR3mf9Vt0VL",
        "colab_type": "code",
        "colab": {}
      },
      "source": [
        "for _ in range(10):\n",
        "    print(fake.name())"
      ],
      "execution_count": 0,
      "outputs": []
    },
    {
      "cell_type": "markdown",
      "metadata": {
        "id": "vMAkv7R0vTt1",
        "colab_type": "text"
      },
      "source": [
        "Bom, a partir de agora vamos definir um seed para garantir que todos gerem os mesmos dados e, claro, garantir os mesmos resultados."
      ]
    },
    {
      "cell_type": "code",
      "metadata": {
        "id": "y5LY3daEzQhr",
        "colab_type": "code",
        "colab": {}
      },
      "source": [
        "fake.seed(20111974)\n",
        "fake.seed_instance(20111974)\n",
        "random.seed(20111974)"
      ],
      "execution_count": 0,
      "outputs": []
    },
    {
      "cell_type": "code",
      "metadata": {
        "id": "wJojVbSQLRP6",
        "colab_type": "code",
        "colab": {}
      },
      "source": [
        "# Fonte: https://www.tonic.ai/post/how-to-generate-simple-test-data-with-faker/\n",
        "def first_name_and_gender():\n",
        "    g = 'M' if random.randint(0,1) == 0 else 'F'\n",
        "    n = fake.first_name_male() if g=='M' else fake.first_name_female()\n",
        "    return {'gender':g,'first_name':n}"
      ],
      "execution_count": 0,
      "outputs": []
    },
    {
      "cell_type": "code",
      "metadata": {
        "id": "MNNSy_gNLVNT",
        "colab_type": "code",
        "colab": {}
      },
      "source": [
        "# Fonte: https://www.tonic.ai/post/how-to-generate-simple-test-data-with-faker/\n",
        "def birth_and_start_date():\n",
        "    sd = fake.date_between(start_date=\"-20y\", end_date=\"now\")\n",
        "    delta = datetime.timedelta(days=365*random.randint(18,40))\n",
        "    bd = sd-delta\n",
        "\n",
        "    return {'birth_date':bd, 'start_date': sd}"
      ],
      "execution_count": 0,
      "outputs": []
    },
    {
      "cell_type": "code",
      "metadata": {
        "id": "Y2ajDqQqLbs8",
        "colab_type": "code",
        "colab": {}
      },
      "source": [
        "# Fonte: https://www.tonic.ai/post/how-to-generate-simple-test-data-with-faker/\n",
        "def title_office_org():\n",
        "    #generate a map of real office to fake office\n",
        "    offices = ['New York','Austin','Seattle','Chicago']\n",
        "    #codify the hierarchical structure\n",
        "    allowed_orgs_per_office = {'New York':['Sales'],'Austin':['Devops','Platform','Product','Internal Tools'],'Chicago':['Devops'], 'Seattle':['Internal Tools','Product']}\n",
        "    allowed_titles_per_org = {\n",
        "        'Devops':['Engineer','Senior Engineer','Manager'],\n",
        "        'Sales':['Associate'],\n",
        "        'Platform':['Engineer'],\n",
        "        'Product':['Manager','VP'],\n",
        "        'Internal Tools':['Engineer','Senior Engineer','VP','Manager']\n",
        "    }\n",
        "\n",
        "    office = random.choice(offices)\n",
        "    org = random.choice(allowed_orgs_per_office[office])\n",
        "    title = random.choice(allowed_titles_per_org[org])\n",
        "    return {'ofice':office, 'title':title,'org': org}"
      ],
      "execution_count": 0,
      "outputs": []
    },
    {
      "cell_type": "code",
      "metadata": {
        "id": "Qr8RhxJtLhUF",
        "colab_type": "code",
        "colab": {}
      },
      "source": [
        "# Fonte: https://www.tonic.ai/post/how-to-generate-simple-test-data-with-faker/\n",
        "def salary_and_bonus():\n",
        "    salary = round(random.randint(90000,120000)/1000)*1000\n",
        "    bonus_ratio = random.uniform(0.15,0.2)\n",
        "    bonus = round(salary*bonus_ratio/500)*500\n",
        "    return {'salary':salary,'bonus':bonus}"
      ],
      "execution_count": 0,
      "outputs": []
    },
    {
      "cell_type": "code",
      "metadata": {
        "id": "2ynyuAmILlI1",
        "colab_type": "code",
        "colab": {}
      },
      "source": [
        "# Fonte: https://www.tonic.ai/post/how-to-generate-simple-test-data-with-faker/\n",
        "def title_office_org_salary_bonus():\n",
        "    position = title_office_org()\n",
        "    title_and_salary_range = {'Engineer':[90,120],'Senior Engineer':[110,140],'Manager':[130,150],'Associate':[60,80],'VP':[150,250]}\n",
        "    salary_range = title_and_salary_range[position['title']]\n",
        "\n",
        "    salary = round(random.randint(1000*salary_range[0],1000*salary_range[1])/1000)*1000\n",
        "    bonus_ratio = random.uniform(0.15,0.2)\n",
        "    bonus = round(salary*bonus_ratio/500)*500\n",
        "    position.update({'salary':salary,'bonus':bonus})\n",
        "    return position"
      ],
      "execution_count": 0,
      "outputs": []
    },
    {
      "cell_type": "code",
      "metadata": {
        "id": "rpm6gmFtLpQ9",
        "colab_type": "code",
        "colab": {}
      },
      "source": [
        "d = dict()\n",
        "d['first_name_and_gender'] = first_name_and_gender\n",
        "d['last_name'] = lambda: {'last_name':fake.last_name()}\n",
        "d['personal_email'] = lambda: {'email':fake.email()}\n",
        "d['ssn'] = lambda: {'ssn':fake.ssn()}\n",
        "d['birth_and_start_date'] = birth_and_start_date\n",
        "d['title_office_org_salary_bonus'] = title_office_org_salary_bonus\n",
        "d['accrued_holidays'] = lambda: {'accrued_holiday':random.randint(0,20)}"
      ],
      "execution_count": 0,
      "outputs": []
    },
    {
      "cell_type": "markdown",
      "metadata": {
        "id": "Cw39r_FJR5ha",
        "colab_type": "text"
      },
      "source": [
        "Definindo um Dataframe vazio com o nome das colunas que serão geradas de forma fake."
      ]
    },
    {
      "cell_type": "code",
      "metadata": {
        "id": "-bkLtNcJRnBq",
        "colab_type": "code",
        "colab": {}
      },
      "source": [
        "My_df= pd.DataFrame(columns=['Sex', 'First_Name', 'Second_Name', 'email', 'ssn', 'Birth_date', 'start_date', 'City', 'Job', 'Department', 'Anual_Salary', 'Bonus', 'accrued_holidays'])\n",
        "My_df"
      ],
      "execution_count": 0,
      "outputs": []
    },
    {
      "cell_type": "code",
      "metadata": {
        "id": "UnDiONejLrB_",
        "colab_type": "code",
        "colab": {}
      },
      "source": [
        "for _ in range(1):\n",
        "    deep_list = [list(d[k]().values()) for k in d.keys()]\n",
        "    row = [item for sublist in deep_list for item in sublist]\n",
        "    My_df.append(row, ignore_index=True)\n",
        "    print(row)"
      ],
      "execution_count": 0,
      "outputs": []
    }
  ]
}
