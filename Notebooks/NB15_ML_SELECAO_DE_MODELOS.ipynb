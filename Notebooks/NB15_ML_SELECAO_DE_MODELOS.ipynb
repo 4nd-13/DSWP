{
  "nbformat": 4,
  "nbformat_minor": 0,
  "metadata": {
    "colab": {
      "private_outputs": true,
      "provenance": []
    },
    "kernelspec": {
      "name": "python3",
      "display_name": "Python 3"
    },
    "language_info": {
      "name": "python"
    }
  },
  "cells": [
    {
      "cell_type": "markdown",
      "source": [
        "# MODEL SELECTION & EVALUATION\n",
        "Nesta fase identificamos e aplicamos as melhores métricas (Accuracy, Sensitivity, Specificity, F-Score, AUC, R-Sq, Adj R-SQ, RMSE (Root Mean Square Error)) para avaliar o desempenho/acurácia/performance dos modelos de ML.\n",
        "\n",
        "Treinamos os modelos de ML usando a amostra de treinamento e avaliamos o desempenho/acurácia/performance na amostra de teste/validação.\n",
        "\n",
        "Leitura Adicional\n",
        "The 5 Classification Evaluation metrics every Data Scientist must know\n",
        "Confusion matrix and other metrics in machine learning"
      ],
      "metadata": {
        "id": "_woSHzrN1aru"
      }
    },
    {
      "cell_type": "code",
      "source": [],
      "metadata": {
        "id": "UvFQ2gfm1eJc"
      },
      "execution_count": null,
      "outputs": []
    }
  ]
}
