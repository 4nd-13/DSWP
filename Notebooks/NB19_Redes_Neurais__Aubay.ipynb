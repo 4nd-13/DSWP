{
  "nbformat": 4,
  "nbformat_minor": 0,
  "metadata": {
    "accelerator": "TPU",
    "colab": {
      "name": "Copy of Copy of NB19_Redes_Neurais__V2.ipynb",
      "provenance": [],
      "collapsed_sections": [],
      "include_colab_link": true
    },
    "kernelspec": {
      "display_name": "Python 3",
      "language": "python",
      "name": "python3"
    },
    "language_info": {
      "codemirror_mode": {
        "name": "ipython",
        "version": 3
      },
      "file_extension": ".py",
      "mimetype": "text/x-python",
      "name": "python",
      "nbconvert_exporter": "python",
      "pygments_lexer": "ipython3",
      "version": "3.7.6"
    }
  },
  "cells": [
    {
      "cell_type": "markdown",
      "metadata": {
        "id": "view-in-github",
        "colab_type": "text"
      },
      "source": [
        "<a href=\"https://colab.research.google.com/github/MathMachado/DSWP/blob/master/Notebooks/NB19_Redes_Neurais__Aubay.ipynb\" target=\"_parent\"><img src=\"https://colab.research.google.com/assets/colab-badge.svg\" alt=\"Open In Colab\"/></a>"
      ]
    },
    {
      "cell_type": "markdown",
      "metadata": {
        "colab_type": "text",
        "id": "ShVXyGj9wkgN"
      },
      "source": [
        "<center><h1><b><i>REDES NEURAIS ARTIFICIAIS (COMPREHENSIVE GUIDE) </i></b></h1></center>\n",
        "\n",
        "# Porque Cientistas de Dados desejam aprender e dominar Redes Neurais?\n",
        "\n",
        "* Redes Neurais têm a capacidade de aprender, modelar e resolver problemas não-lineares e complexos apresentados pela vida real.\n",
        "* Você já deve ter ouvido falar em Inteligência Artificial, _self-drive cars_, _Deep Learning_, _Computer Vision_ e _Neural Language Processing_ (NLP). Todos estes assuntos estão estreitamente relacionados às Redes Neurais. Por exemplo, _Deep Learning_ são Redes Neurais com muitas _Hidden Layers_.\n",
        "\n",
        "Este curso aborda os principais tópicos para você dominar Redes Neurais. Além disso, vamos falar das melhores práticas e atacar as principais dúvidas dos alunos em relação às Redes Neurais. Portanto, ao final deste curso você será capaz de:\n",
        "\n",
        "* desenvolver suas próprias Redes Neurais;\n",
        "* aplicar o algoritmo correto para cada tipo de problema;\n",
        "* aplicar as funções de ativação corretamene para cada tipo de problema e camada;\n",
        "* aprender o necessário de Tensorflow/Keras para Redes Neurais;\n",
        "* Aprender os comandos necessários do Python/NumPy para desenvolvimento de Redes Neurais;\n",
        "* aplicar a métrica ideal para cada tipo de problema;\n",
        "* entender como as Redes Neurais aprendem (_Backpropagation_);\n",
        "\n",
        "# **AGENDA**\n",
        "\n",
        "* Introdução às Redes Neurais;\n",
        "* _Activation Function_;\n",
        "* _Loss Function_;\n",
        "* Métricas para medir a performance das Redes Neurais;\n",
        "* _Dropout_;\n",
        "* _Backpropagation_;\n",
        "* _Gradient Descent_;\n",
        "* _Perceptron_ (Redes Neurais com 1 única camada);\n",
        "* Exemplo 1: Redes Neurais _Perceptron_ para os operadores lógicos E, OU e XOR;\n",
        "* Redes Neurais Multicamada;\n",
        "* Exemplo prático: Rede Neural para identificar o sexo a partir de peso e altura;\n",
        "* Aplicações de Rede Neural:\n",
        "    * Aplicação 1 - Rede Neural para identificar espécies de flores (Iris Dataframe);\n",
        "    * Aplicação 2 - Rede Neural para identificar o tipo do vinho (_Red or White_);\n",
        "    * Aplicação 3 - Rede Neural para identificar Câncer de Mama (_Breast Cancer_ Dataframe);\n",
        "    * Aplicação 4 - Rede Neural para identificar Diabetes (Diabetes Dataframe);\n",
        "    * Aplicação 5 - Rede Neural para prever os preços das casas em Boston (_Boston House Price Prediction_)."
      ]
    },
    {
      "cell_type": "markdown",
      "metadata": {
        "colab_type": "text",
        "id": "aYQ4cDfcPu4e"
      },
      "source": [
        "___\n",
        "# **NOTAS E OBSERVAÇÕES**\n",
        "\n",
        "1. Contemplar o uso de StratifiedKFold;\n",
        "2. Inserir aqui o exemplo das notas falsas, enviado pela Mónica;\n",
        "3. Deixar alguma coisa que foi resolvida como exercício.\n"
      ]
    },
    {
      "cell_type": "markdown",
      "metadata": {
        "colab_type": "text",
        "id": "QgX6n2VDyY1O"
      },
      "source": [
        "___\n",
        "# **REFERÊNCIAS**\n",
        "- [An Introduction to Neural Networks](http://www.cs.stir.ac.uk/~lss/NNIntro/InvSlides.html)\n",
        "- [An Introduction to Image Recognition with Deep Learning](https://medium.com/@ageitgey/machine-learning-is-fun-part-3-deep-learning-and-convolutional-neural-networks-f40359318721)\n",
        "- [Neural Networks and Deep Learning](http://neuralnetworksanddeeplearning.com/index.html)\n",
        "- [Forward propagation in neural networks — Simplified math and code version](https://towardsdatascience.com/forward-propagation-in-neural-networks-simplified-math-and-code-version-bbcfef6f9250)\n",
        "- [Understanding Neural Networks: From Activation Function To Back Propagation](https://medium.com/fintechexplained/neural-networks-activation-function-to-back-propagation-understanding-neural-networks-bdd036c3f29f)\n",
        "- [Understanding Gradient Descent](https://medium.com/analytics-vidhya/understanding-gradient-descent-8dd88a4c60e6) - Explica detalhadamente como funciona o _Gradient Descent_ no processo de otimização dos pesos $W$;\n",
        "- [Backpropagation step by step](https://medium.com/swlh/backpropagation-step-by-step-13f2b6c0b414) - Eu usei esse artigo para reajustar os pesos $W$;\n",
        "- [Perceptron Learning Algorithm: A Graphical Explanation Of Why It Works](https://towardsdatascience.com/perceptron-learning-algorithm-d5db0deab975);\n",
        "- [Math behind Perceptrons](https://medium.com/@iamask09/math-behind-perceptrons-7241d5dadbfc);\n",
        "- [Neural Network: A Complete Beginners Guide from Scratch](https://medium.com/gadictos/neural-network-a-complete-beginners-guide-from-scratch-cf1fc9d5cd12);\n",
        "- [Calculating the Backpropagation of a Network](https://medium.com/towards-artificial-intelligence/calculating-back-propagation-of-a-network-1febbcaa2b5d);\n",
        "- [Let’s build a simple Neural Net!](https://becominghuman.ai/lets-build-a-simple-neural-net-f4474256647f) - O autor constroi uma Rede Neural simples, sem _Hidden Layers_;\n",
        "- [Coding Neural Network — Forward Propagation and Backpropagtion](https://towardsdatascience.com/coding-neural-network-forward-propagation-and-backpropagtion-ccf8cf369f76);\n",
        "- [The Simplest Neural Network: Understanding the non-linearity](https://towardsdatascience.com/the-simplest-neural-network-understanding-the-non-linearity-10846d7d0141) - Ótimo texto para entender a não-linearidade;\n",
        "- [Implementing the XOR Gate using Backpropagation in Neural Networks](https://towardsdatascience.com/implementing-the-xor-gate-using-backpropagation-in-neural-networks-c1f255b4f20d) - Usei este texto para resolver o problema do XOR;\n",
        "- [Neural Representation of AND, OR, NOT, XOR and XNOR Logic Gates (Perceptron Algorithm)](https://medium.com/@stanleydukor/neural-representation-of-and-or-not-xor-and-xnor-logic-gates-perceptron-algorithm-b0275375fea1) - Eu usei este material para resolver o problema dos operadores E, OU e XOR;\n",
        "- [Solving XOR with a single Perceptron](https://medium.com/@lucaspereira0612/solving-xor-with-a-single-perceptron-34539f395182);\n",
        "- [Machine Learning 101 — Artificial Neural Networks](https://towardsdatascience.com/machine-learning-101-artificial-neural-networks-3-46ccb04cba30) - Cálculos realizados passo a passo;\n",
        "- [Neural Network from scratch in Python](https://towardsdatascience.com/math-neural-network-from-scratch-in-python-d6da9f29ce65) - Este artigo mostra a matemática por trás das Redes Neurais;\n",
        "- [Classical Neural Net: Why/Which Activations Functions?](https://towardsdatascience.com/classical-neural-net-why-which-activations-functions-401159ba01c4) - Artigo que discute as principais funções de ativação;\n",
        "- [Understanding Activation Functions in Neural Networks](https://medium.com/the-theory-of-everything/understanding-activation-functions-in-neural-networks-9491262884e0);\n",
        "- [Mind: How to Build a Neural Network (Part One)](https://becominghuman.ai/mind-how-to-build-a-neural-network-part-one-67b6aea4ce20);\n",
        "- [How to build a simple Neural Network from scratch with Python](https://towardsdatascience.com/how-to-build-a-simple-neural-network-from-scratch-with-python-9f011896d2f3);\n",
        "- [Comparison of Activation Functions for Deep Neural Networks](https://towardsdatascience.com/comparison-of-activation-functions-for-deep-neural-networks-706ac4284c8a);\n",
        "- [MAE and RMSE — Which Metric is Better?](https://medium.com/human-in-a-machine-world/mae-and-rmse-which-metric-is-better-e60ac3bde13d) - Ótimo artigo, pois discute qual métrica é melhor.\n"
      ]
    },
    {
      "cell_type": "markdown",
      "metadata": {
        "id": "se5LmuhKb1sC",
        "colab_type": "text"
      },
      "source": [
        ""
      ]
    },
    {
      "cell_type": "markdown",
      "metadata": {
        "colab_type": "text",
        "id": "2StZkTpOZbYo"
      },
      "source": [
        "___\n",
        "# **MACHINE LEARNING DEVELOPMENT LYFECYCLE**\n",
        "\n",
        "CRISP-DM significa _Cross Industry Standard Process for Data Mining_ ou processos ou fases para desenvolvimento de projetos relacionados à _Data Mining_ e que tem sido muito utilizados pelos Cientistas de Dados para desenvolvimento de modelos predictivos.\n",
        "\n",
        "<img src=\"https://github.com/MathMachado/Materials/blob/master/CRISP-DM.png?raw=true\" alt=\"Drawing\" width= \"600\"/>\n",
        "\n",
        "Fonte: [The steps to a successful machine learning project](https://emba.epfl.ch/2018/04/10/steps-successful-machine-learning-project/)\n",
        "\n",
        "Sugiro a leitura do artigo [Why using CRISP-DM will make you a better Data Scientist](https://towardsdatascience.com/why-using-crisp-dm-will-make-you-a-better-data-scientist-66efe5b72686)."
      ]
    },
    {
      "cell_type": "markdown",
      "metadata": {
        "colab_type": "text",
        "id": "TsCbZd2epfxo"
      },
      "source": [
        "___\n",
        "# **INTRODUÇÃO ÀS REDES NEURAIS**\n"
      ]
    },
    {
      "cell_type": "markdown",
      "metadata": {
        "colab_type": "text",
        "id": "HqqB2vaHXMGt"
      },
      "source": [
        "* Redes Neurais aprendem com as experiências passadas, imitando o funcionamento dos neurônios humanos no processo de aprendizagem;\n",
        "* podem e são amplamente utilizadas nas seguintes situações (aplicações):\n",
        "    * Reconhecimento Facial;\n",
        "    * Processamento de Linguagem Natural (NLP);\n",
        "    * _Self-drive car_;\n",
        "    * Visão computacional;\n",
        "    * Detecção de padrões (doenças, tumores e etc) em imagens;\n",
        "* Ideal para o cenário onde temos muitos dados (_Big Data_) e para resolver problemas complexos."
      ]
    },
    {
      "cell_type": "markdown",
      "metadata": {
        "colab_type": "text",
        "id": "VzylPHA7BP0x"
      },
      "source": [
        "___\n",
        "# **_PERCEPTRON_** (Rede Neural com 1 única camada)\n",
        "\n",
        "* **_PERCEPTRON_** é um algoritmo de _Machine Learning_ da classe _Supervised Learning_ para classificação binária, inventado em 1958 por Frank Rosenblatt;\n",
        "* Arquitetura de Rede Neural mais simples existente, com 1 única camada;\n",
        "\n",
        "Daí, uma pergunta importante: Se _Perceptron_ é um tipo de Rede Neural simples que nasceu na década de 1950, então porque devemos estudá-la? Porque não focar no estudo de Redes Neurais mais complexas e atuais?\n",
        "\n",
        "E a resposta é: porque _Perceptron_ nos permite entender claramente os aspectos matemáticos das Redes Neurais. Com isso quero dizer que ao entendermos _Perceptrons_, fica mais fácil entender outros tipos de Redes Neurais."
      ]
    },
    {
      "cell_type": "markdown",
      "metadata": {
        "colab_type": "text",
        "id": "M5YNraza6jum"
      },
      "source": [
        "## Exemplo de Perceptron\n",
        "\n",
        "A seguir, arquitetura do _Perceptron_: várias entradas (_Inputs_) e 1 camada de saída (_Output Layer_) binária (0 ou 1).\n",
        "\n",
        "<img src=\"https://github.com/MathMachado/Materials/blob/master/RNA_Fig1.png?raw=true\" alt=\"Drawing\" width= \"1000\"/>"
      ]
    },
    {
      "cell_type": "markdown",
      "metadata": {
        "colab_type": "text",
        "id": "_5LVgImx78xY"
      },
      "source": [
        "A **FUNÇÃO DE ATIVAÇÃO** $f(S)$ acima é conhecida como **_STEP FUNCTION_** e como podemos ver, retorna uma resposta binária (0 ou 1) que depende do valor de $S$."
      ]
    },
    {
      "cell_type": "markdown",
      "metadata": {
        "colab_type": "text",
        "id": "84zFWve4FkcY"
      },
      "source": [
        "A seguir, implementação usando NumPy:"
      ]
    },
    {
      "cell_type": "markdown",
      "metadata": {
        "id": "htVV-GpgBnw3",
        "colab_type": "text"
      },
      "source": [
        "[**Python**] - Importar o NumPy:"
      ]
    },
    {
      "cell_type": "code",
      "metadata": {
        "id": "xBYyZ5ZiByH4",
        "colab_type": "code",
        "colab": {}
      },
      "source": [
        "import numpy as np"
      ],
      "execution_count": 0,
      "outputs": []
    },
    {
      "cell_type": "markdown",
      "metadata": {
        "id": "-8sR77a4B8Uf",
        "colab_type": "text"
      },
      "source": [
        "[**Python**] - Definir o número de casas decimas para 3:"
      ]
    },
    {
      "cell_type": "code",
      "metadata": {
        "colab_type": "code",
        "id": "Gj2dioDTaZl-",
        "colab": {}
      },
      "source": [
        "np.set_printoptions(precision= 3)"
      ],
      "execution_count": 0,
      "outputs": []
    },
    {
      "cell_type": "markdown",
      "metadata": {
        "id": "oZ6Sw4uuCggF",
        "colab_type": "text"
      },
      "source": [
        "[**Python**] - Definir os pesos $W$ e as entradas (_inputs_) $X$:"
      ]
    },
    {
      "cell_type": "code",
      "metadata": {
        "id": "z2m6BxQ_DLFV",
        "colab_type": "code",
        "colab": {}
      },
      "source": [
        "# Pesos W:\n",
        "W= np.array([0.1, 0.3, 0.2, 0.4])\n",
        "\n",
        "# Entradas X:\n",
        "X= np.array([1, -3, 2, 3])"
      ],
      "execution_count": 0,
      "outputs": []
    },
    {
      "cell_type": "markdown",
      "metadata": {
        "id": "lBnZP5MKCg8m",
        "colab_type": "text"
      },
      "source": [
        "[**Python**] - Desenvolver a função soma $S$:"
      ]
    },
    {
      "cell_type": "code",
      "metadata": {
        "id": "dMGuWhAhDaim",
        "colab_type": "code",
        "colab": {}
      },
      "source": [
        "def Soma(X, W):\n",
        "    S= X.dot(W) # Faz a seguinte operação: S= X1*W1 + X2*W2 + X3*W3 + X4*W4\n",
        "    return S"
      ],
      "execution_count": 0,
      "outputs": []
    },
    {
      "cell_type": "markdown",
      "metadata": {
        "id": "EMxMJ05kDhmi",
        "colab_type": "text"
      },
      "source": [
        "[**Python**] - Desenvolver a função de ativação _Step Function_ $f(S)$:"
      ]
    },
    {
      "cell_type": "code",
      "metadata": {
        "colab_type": "code",
        "id": "dRLYPJl0aZmg",
        "colab": {}
      },
      "source": [
        "def StepFunction(S):\n",
        "    if S >= 1:\n",
        "        return 1\n",
        "    else:\n",
        "        return 0"
      ],
      "execution_count": 0,
      "outputs": []
    },
    {
      "cell_type": "markdown",
      "metadata": {
        "id": "H4g85O2jDu6S",
        "colab_type": "text"
      },
      "source": [
        "[**Python**] - Calcular $S= Soma(X, W)$:"
      ]
    },
    {
      "cell_type": "code",
      "metadata": {
        "colab_type": "code",
        "id": "zoUMvvzlaZm-",
        "colab": {}
      },
      "source": [
        "S= Soma(X, W)\n",
        "S"
      ],
      "execution_count": 0,
      "outputs": []
    },
    {
      "cell_type": "markdown",
      "metadata": {
        "id": "6LzlyDNaD5yB",
        "colab_type": "text"
      },
      "source": [
        "[**Python**] - Calcular $f(S)$, ou seja, $f= StepFunction(S)$:"
      ]
    },
    {
      "cell_type": "code",
      "metadata": {
        "colab_type": "code",
        "id": "6IIe4vIjaZnE",
        "colab": {}
      },
      "source": [
        "f= StepFunction(S)\n",
        "f"
      ],
      "execution_count": 0,
      "outputs": []
    },
    {
      "cell_type": "markdown",
      "metadata": {
        "colab_type": "text",
        "id": "UrRG8e8dDTc_"
      },
      "source": [
        "# **EXEMPLO 1: DESENVOLVER UMA REDE NEURAL _PERCEPTRON_ PARA OS OPERADORES LÓGICOS E, OU E XOR**\n",
        "\n",
        "Os exemplos a seguir foram inspirados e adaptado de:\n",
        "* [Perceptron: Theory and Practice](https://medium.com/data-alchemist/perceptron-theory-and-practice-e71733ed3fa5)\n",
        "* [The Perceptron — A Building Block of Neural Networks](https://blog.usejournal.com/the-perceptron-the-building-block-of-neural-networks-5a428d3f451d) - Este artigo mostra detalhadamente os cálculos\n",
        "* [Mind: How to Build a Neural Network (Part One)](https://becominghuman.ai/mind-how-to-build-a-neural-network-part-one-67b6aea4ce20)."
      ]
    },
    {
      "cell_type": "markdown",
      "metadata": {
        "colab_type": "text",
        "id": "qeZBP3TQN2_1"
      },
      "source": [
        "## Exemplo 1.1: Rede Neural _Perceptron_ para o Operador Lógico E\n",
        "\n",
        "Considere o dataframe a seguir:\n",
        "\n",
        "| i | $X_{1}$ | $X_{2}$ | ValorReal ($Y_{i}$) |\n",
        "|---|---|---|---|\n",
        "| 0 | 0 | 0 | 0 |\n",
        "| 1 | 0 | 1 | 0 |\n",
        "| 2 | 1 | 0 | 0 |\n",
        "| 3 | 1 | 1 | 1 |\n",
        "\n",
        "O dataframe acima representa o operador lógico E (https://en.wikipedia.org/wiki/Truth_table):\n",
        "\n",
        "| i | $X_{1}$ | $X_{2}$ | ValorReal ($Y_{i}$)|\n",
        "|---|---|---|---|\n",
        "| 0 | F | F | F |\n",
        "| 1 | F | T | F |\n",
        "| 2 | T | F | F |\n",
        "| 3 | T | T | T |\n",
        "\n",
        "\n",
        "Considere $W= [W_{1}, W_{2}]= (0, 0)$ como pesos iniciais e a função de ativação $F(S)$ _Step Function_ dada abaixo:\n",
        "\n",
        "<img src=\"https://github.com/MathMachado/Materials/blob/master/StepFunction.png?raw=true\" alt=\"Drawing\" width= \"600\"/>"
      ]
    },
    {
      "cell_type": "markdown",
      "metadata": {
        "colab_type": "text",
        "id": "psJh-MUgFAge"
      },
      "source": [
        "A seguir, os cálculos manuais da primeira iteração:\n",
        "\n",
        "<img src=\"https://github.com/MathMachado/Materials/blob/master/Perceptron_Operador_E.png?raw=true\" alt=\"Drawing\" width= \"800\"/>"
      ]
    },
    {
      "cell_type": "markdown",
      "metadata": {
        "colab_type": "text",
        "id": "P8x3EvFUQBsU"
      },
      "source": [
        "Os Erros $E_{i}$ são calculados com a fórmula: $E_{i}= ValorReal_{i} - ValorCalculado_{i}= Y_{i}-\\hat{Y}_{i}$. A seguir, resumo dos cálculos:"
      ]
    },
    {
      "cell_type": "markdown",
      "metadata": {
        "colab_type": "text",
        "id": "d5dryrbGBesj"
      },
      "source": [
        "| i | $X_{1}$ | $X_{2}$ | ValorReal ($Y_{i}$) | Soma | ValorCalculado ($\\hat{Y}_{i}$) | Erro |\n",
        "|---|---|---|---|---|---|---|\n",
        "| 0 | 0 | 0 | 0 | 0 | 0 | 0 |\n",
        "| 1 | 0 | 1 | 0 | 0 | 0 | 0 |\n",
        "| 2 | 1 | 0 | 0 | 0 | 0 | 0 |\n",
        "| 3 | 1 | 1 | 1 | 0 | 0 | 1 |\n"
      ]
    },
    {
      "cell_type": "markdown",
      "metadata": {
        "colab_type": "text",
        "id": "lkcRy2RYGLVw"
      },
      "source": [
        "### Erro Total ($E_{T}$)\n",
        "\n",
        "$$E_{T}= \\sum_{i=1}^{n}E_{i}= E_{1}+E_{2}+...+E_{n}$$\n",
        "\n",
        "No nosso caso, temos que $E_{T}= 0+0+0+1= 1$."
      ]
    },
    {
      "cell_type": "markdown",
      "metadata": {
        "colab_type": "text",
        "id": "fzVxmr9OTfGB"
      },
      "source": [
        "### Fórmula para ajustar os pesos $W$\n",
        "A fórmula a seguir será utilizada para ajustar os pesos $W$:\n",
        "\n",
        "$$W_{n+1}= W_{n} + \\alpha*(X*E_{T})$$\n"
      ]
    },
    {
      "cell_type": "markdown",
      "metadata": {
        "colab_type": "text",
        "id": "Z1bEDxMhToIj"
      },
      "source": [
        "### Taxa de Aprendizagem ($\\alpha$)\n",
        "* $\\alpha$ é a taxa de aprendizado (_Learning Rate_ em inglês) e diz respeito à velocidade de aprendizagem da Rede Neural.\n",
        "    * Quanto MENOR o valor de $\\alpha$ $\\Longrightarrow$ mais devagar e demorada será a convergência para o mínimo global;\n",
        "    * Quanto MAIOR o valor de $\\alpha$ $\\Longrightarrow$ mais rápido será a convergência para o mínimo, mas sem a garantia de convergência para o mínimo global."
      ]
    },
    {
      "cell_type": "markdown",
      "metadata": {
        "colab_type": "text",
        "id": "drGfgCIZY4aV"
      },
      "source": [
        "Para ajustar os pesos $W$, vamos utilizar $\\alpha= 0.1$. Fórmula:\n",
        "\n",
        "$$W_{n+1}= W_{n} + \\alpha*(X*E_{T})$$\n",
        "\n",
        "A seguir, os novos pesos $W$ para a próxima iteração da Rede Neural _Perceptron_:\n",
        "\n",
        "\\begin{align}\n",
        "W_{1}&= 0+ 0.1*1*1= 0.1 \\\\\n",
        "W_{2}&= 0+ 0.1*1*1= 0.1 \\\\\n",
        "\\end{align}\n",
        "\n",
        "Portanto, na próxima iteração vamos utilizar os pesos $W= [W_{1}, W_{2}]= [0.1, 0.1]$. "
      ]
    },
    {
      "cell_type": "markdown",
      "metadata": {
        "colab_type": "text",
        "id": "33xLPLo-Pq0Y"
      },
      "source": [
        "A seguir, os cálculos manuais para a segunda iteração da Rede Neural:\n",
        "\n",
        "Função de ativação $f(S)$ _Step Function_:\n",
        "\n",
        "<img src=\"https://github.com/MathMachado/Materials/blob/master/StepFunction.png?raw=true\" alt=\"Drawing\" width= \"600\"/>"
      ]
    },
    {
      "cell_type": "markdown",
      "metadata": {
        "id": "i3EsH8pN9wJ6",
        "colab_type": "text"
      },
      "source": [
        "<img src=\"https://github.com/MathMachado/Materials/blob/master/Perceptron_Operador_E_I2.png?raw=true\" alt=\"Drawing\" width= \"800\"/>"
      ]
    },
    {
      "cell_type": "markdown",
      "metadata": {
        "colab_type": "text",
        "id": "mZiiOu1AyW2N"
      },
      "source": [
        "A seguir resumo dos cálculos para a segunda iteração:\n",
        "\n",
        "| i | $X_{1}$ | $X_{2}$ | ValorReal ($Y_{i}$) | Soma | ValorCalculado ($\\hat{Y}_{i}$) | Erro |\n",
        "|---|---|---|---|---|---|---|\n",
        "| 0 | 0 | 0 | 0 | 0.0 | 0 | 0 |\n",
        "| 1 | 0 | 1 | 0 | 0.1 | 0 | 0 |\n",
        "| 2 | 1 | 0 | 0 | 0.1 | 0 | 0 |\n",
        "| 3 | 1 | 1 | 1 | 0.2 | 0 | 1 |\n",
        "\n",
        "Daí, $E_{T}= 0+0+0+1= 1$."
      ]
    },
    {
      "cell_type": "markdown",
      "metadata": {
        "colab_type": "text",
        "id": "MAXO38uqUobn"
      },
      "source": [
        "### Ajuste dos pesos $W$\n",
        "Fórmula para ajustar $W$:\n",
        "\n",
        "$$W_{n+1}= W_{n} + \\alpha*(X*E_{T})$$\n",
        "\n",
        "A seguir, os novos pesos $W$ para a próxima iteração da Rede Neural _Perceptron_:\n",
        "\n",
        "\\begin{align}\n",
        "W_{1}&= 0.1+ 0.1*1*1= 0.2 \\\\\n",
        "W_{2}&= 0.1+ 0.1*1*1= 0.2 \\\\\n",
        "\\end{align}\n",
        "\n",
        "Portanto, na próxima iteração vamos utilizar os pesos $W= [W_{1}, W_{2}]= [0.2, 0.2]$. "
      ]
    },
    {
      "cell_type": "markdown",
      "metadata": {
        "colab_type": "text",
        "id": "WX48iRa5VLyk"
      },
      "source": [
        "Esse processo iterativo é realizado até que se encontre os pesos $W$ que nos dê 100% de acurácia. A título de exemplo, considere $W= [W_{1}, W_{2}]= [0.5, 0.5]$:\n",
        "\n",
        "Função de ativação $f(S)$ _Step Function_:\n",
        "\n",
        "<img src=\"https://github.com/MathMachado/Materials/blob/master/StepFunction.png?raw=true\" alt=\"Drawing\" width= \"600\"/>"
      ]
    },
    {
      "cell_type": "markdown",
      "metadata": {
        "id": "LZfroCc994oz",
        "colab_type": "text"
      },
      "source": [
        "<img src=\"https://github.com/MathMachado/Materials/blob/master/Perceptron_Operador_E_I5.png?raw=true\" alt=\"Drawing\" width= \"800\"/>"
      ]
    },
    {
      "cell_type": "markdown",
      "metadata": {
        "colab_type": "text",
        "id": "McKYXohzXzzA"
      },
      "source": [
        "Como podem ver, o Erro Total $E_{T}= 0$, pois temos 100% de acertos usando $W= [W_{1}, W_{2}]= [0.5, 0.5]$."
      ]
    },
    {
      "cell_type": "markdown",
      "metadata": {
        "colab_type": "text",
        "id": "Wp_tR7h0btDm"
      },
      "source": [
        "### Implementar o **_PERCEPTRON_** no Python usando NumPy"
      ]
    },
    {
      "cell_type": "markdown",
      "metadata": {
        "id": "3ix5vCKaEWdx",
        "colab_type": "text"
      },
      "source": [
        "[**Python**] - Importar NumPy:"
      ]
    },
    {
      "cell_type": "code",
      "metadata": {
        "id": "x62R_y89ElPA",
        "colab_type": "code",
        "colab": {}
      },
      "source": [
        "import numpy as np"
      ],
      "execution_count": 0,
      "outputs": []
    },
    {
      "cell_type": "markdown",
      "metadata": {
        "id": "SYvLGlgZEXWu",
        "colab_type": "text"
      },
      "source": [
        "[**Python**] - Definir o número de casas decimais:"
      ]
    },
    {
      "cell_type": "code",
      "metadata": {
        "id": "yEScd0_LEtJc",
        "colab_type": "code",
        "colab": {}
      },
      "source": [
        "np.set_printoptions(precision= 3)"
      ],
      "execution_count": 0,
      "outputs": []
    },
    {
      "cell_type": "markdown",
      "metadata": {
        "id": "P8hLz6GAEYCo",
        "colab_type": "text"
      },
      "source": [
        "[**Python**] - Definir os pesos $W$, entradas (_inputs_) $X$ e Output $Y$:"
      ]
    },
    {
      "cell_type": "code",
      "metadata": {
        "id": "fD66QeoqXEU3",
        "colab_type": "code",
        "colab": {}
      },
      "source": [
        "# Pesos W:\n",
        "W= np.array([0.0, 0.0])\n",
        "\n",
        "# Entradas X:\n",
        "X= np.array([[0, 0], [0,1], [1, 0], [1, 1]])\n",
        "\n",
        "# Output Y:\n",
        "Y= np.array([[0], [0], [0], [1]])"
      ],
      "execution_count": 0,
      "outputs": []
    },
    {
      "cell_type": "markdown",
      "metadata": {
        "id": "2jH1EMfdEYwN",
        "colab_type": "text"
      },
      "source": [
        "[**Python**] - Definir a Taxa de Aprendizagem $\\alpha$:"
      ]
    },
    {
      "cell_type": "code",
      "metadata": {
        "id": "zd2k0S-BXEU_",
        "colab_type": "code",
        "colab": {}
      },
      "source": [
        "alpha= 0.1"
      ],
      "execution_count": 0,
      "outputs": []
    },
    {
      "cell_type": "markdown",
      "metadata": {
        "id": "yvGa7d8LEZD2",
        "colab_type": "text"
      },
      "source": [
        "[**Python**] - Desenvolver a função para treinar a Rede Neural\n",
        "> Esta função tenta encontrar os pesos $W$ que levem a 100% de acurácia."
      ]
    },
    {
      "cell_type": "code",
      "metadata": {
        "id": "JVl0XwBuXEVC",
        "colab_type": "code",
        "colab": {}
      },
      "source": [
        "def Treinar_RNA(X, Y, W, alpha):\n",
        "    ET= 1 # ET= Erro Total\n",
        "    N= 0\n",
        "    while ((ET != 0) and (N < 100)):\n",
        "        ET= 0\n",
        "        for i in range(len(Y)):\n",
        "            S= X[i].dot(W)\n",
        "            f= StepFunction(S)\n",
        "            E= Y[i]-f\n",
        "            ET+= E\n",
        "            for j in range(len(W)):\n",
        "                W[j]= W[j] + alpha*(X[i][j]*E)\n",
        "                print(f'Peso Ajustado: {W[j]}')\n",
        "        print(f'Erro Total: {ET}')\n",
        "        N+= 1"
      ],
      "execution_count": 0,
      "outputs": []
    },
    {
      "cell_type": "markdown",
      "metadata": {
        "id": "pdI7EHnFF4yo",
        "colab_type": "text"
      },
      "source": [
        "[**Python**] - Evocar a função Treinar_RNA:"
      ]
    },
    {
      "cell_type": "code",
      "metadata": {
        "id": "gHM5tXEdXEVF",
        "colab_type": "code",
        "colab": {}
      },
      "source": [
        "Treinar_RNA(X, Y, W, alpha)"
      ],
      "execution_count": 0,
      "outputs": []
    },
    {
      "cell_type": "markdown",
      "metadata": {
        "colab_type": "text",
        "id": "TPKEML9cDD0E"
      },
      "source": [
        "## Exemplo 1.2: Rede Neural _Perceptron_ para o Operador Lógico OU\n",
        "\n"
      ]
    },
    {
      "cell_type": "markdown",
      "metadata": {
        "colab_type": "text",
        "id": "rSQnOjDWC7Ta"
      },
      "source": [
        "Considere o dataframe a seguir:\n",
        "\n",
        "| i | $X_{1}$ | $X_{2}$ | ValorReal ($Y_{i}$) |\n",
        "|---|---|---|---|\n",
        "| 0 | 0 | 0 | 0 |\n",
        "| 1 | 0 | 1 | 1 |\n",
        "| 2 | 1 | 0 | 1 |\n",
        "| 3 | 1 | 1 | 1 |\n",
        "\n",
        "O dataframe acima representa o operador lógico OU (https://en.wikipedia.org/wiki/Truth_table):\n",
        "\n",
        "| i | $X_{1}$ | $X_{2}$ | ValorReal ($Y_{i}$)|\n",
        "|---|---|---|---|\n",
        "| 0 | F | F | F |\n",
        "| 1 | F | T | T |\n",
        "| 2 | T | F | T |\n",
        "| 3 | T | T | T |"
      ]
    },
    {
      "cell_type": "markdown",
      "metadata": {
        "colab_type": "text",
        "id": "kID13PxSGN6h"
      },
      "source": [
        "[**Python**] - Definir os pesos $W$, entradas (_inputs_) $X$ e Output $Y$:"
      ]
    },
    {
      "cell_type": "code",
      "metadata": {
        "colab_type": "code",
        "id": "CmuuIX2PGN6l",
        "colab": {}
      },
      "source": [
        "# Pesos W:\n",
        "W= np.array([0.0, 0.0])\n",
        "\n",
        "# Entradas X:\n",
        "X= np.array([[0, 0], [0,1], [1, 0], [1, 1]])\n",
        "\n",
        "# Output Y:\n",
        "Y= np.array([[0], [1], [1], [1]])"
      ],
      "execution_count": 0,
      "outputs": []
    },
    {
      "cell_type": "markdown",
      "metadata": {
        "colab_type": "text",
        "id": "agZX698KGeVK"
      },
      "source": [
        "[**Python**] - Evocar a função Treinar_RNA:"
      ]
    },
    {
      "cell_type": "code",
      "metadata": {
        "colab_type": "code",
        "id": "3GF_W4u0GeVM",
        "colab": {}
      },
      "source": [
        "Treinar_RNA(X, Y, W, alpha)"
      ],
      "execution_count": 0,
      "outputs": []
    },
    {
      "cell_type": "markdown",
      "metadata": {
        "colab_type": "text",
        "id": "u2dZAVVFEpCw"
      },
      "source": [
        "## Exemplo 1.3: Rede Neural _Perceptron_ para o Operador Lógico XOR\n",
        "\n",
        "Problema proposto e demonstrado por Rumelhart et al. (1985)."
      ]
    },
    {
      "cell_type": "markdown",
      "metadata": {
        "colab_type": "text",
        "id": "EaZIyvvEEpC5"
      },
      "source": [
        "Considere o dataframe a seguir:\n",
        "\n",
        "| i | $X_{1}$ | $X_{2}$ | ValorReal ($Y_{i}$)|\n",
        "|---|---|---|---|\n",
        "| 0 | 0 | 0 | 0 |\n",
        "| 1 | 0 | 1 | 1 |\n",
        "| 2 | 1 | 0 | 1 |\n",
        "| 3 | 1 | 1 | 0 |\n",
        "\n",
        "O dataframe acima representa o operador lógico XOR (https://pt.wikipedia.org/wiki/Ou_exclusivo):\n",
        "\n",
        "| i | $X_{1}$ | $X_{2}$ | ValorReal ($Y_{i}$) |\n",
        "|---|---|---|---|\n",
        "| 0 | F | F | F |\n",
        "| 1 | F | T | T |\n",
        "| 2 | T | F | T |\n",
        "| 3 | T | T | F |"
      ]
    },
    {
      "cell_type": "markdown",
      "metadata": {
        "colab_type": "text",
        "id": "7rc3hc2RGneF"
      },
      "source": [
        "[**Python**] - Definir os pesos $W$, entradas (_inputs_) $X$ e Output $Y$:"
      ]
    },
    {
      "cell_type": "code",
      "metadata": {
        "colab_type": "code",
        "id": "u8fAgk3RGneH",
        "colab": {}
      },
      "source": [
        "# Pesos W:\n",
        "W= np.array([0.0, 0.0])\n",
        "\n",
        "# Entradas X:\n",
        "X= np.array([[0, 0], [0,1], [1, 0], [1, 1]])\n",
        "\n",
        "# Output Y:\n",
        "Y= np.array([[0], [1], [1], [0]])"
      ],
      "execution_count": 0,
      "outputs": []
    },
    {
      "cell_type": "markdown",
      "metadata": {
        "colab_type": "text",
        "id": "znRL2XozGneM"
      },
      "source": [
        "[**Python**] - Evocar a função Treinar_RNA:"
      ]
    },
    {
      "cell_type": "code",
      "metadata": {
        "colab_type": "code",
        "id": "j8leYHZVGneM",
        "colab": {}
      },
      "source": [
        "Treinar_RNA(X, Y, W, alpha)"
      ],
      "execution_count": 0,
      "outputs": []
    },
    {
      "cell_type": "markdown",
      "metadata": {
        "colab_type": "text",
        "id": "1Eu5cVvxM60i"
      },
      "source": [
        "## Porque conseguimos pesos $W$ para os Operadores Lógicos E e OU e não para XOR?\n",
        "\n",
        "* Operadores E e OR: Linearmente Separáveis;\n",
        "* Operador XOR: Linearmente NÃO-Separável.\n",
        "\n",
        "[Lucas Araújo](https://medium.com/@lucaspereira0612/solving-xor-with-a-single-perceptron-34539f395182) diz em seu artigo [Solving XOR with a single Perceptron](https://medium.com/@lucaspereira0612/solving-xor-with-a-single-perceptron-34539f395182) que:\n",
        "\n",
        "\"Everyone who has ever studied about neural networks has probably already read that a single perceptron can’t represent the boolean XOR function. The book Artificial Intelligence: A Modern Approach, the leading textbook in AI, says: “[XOR] is not linearly separable so the perceptron cannot learn it”.\n",
        "\n",
        "As figuras abaixo demonstram clarmente os conceitos \"linearmente separáveis\" e \"NÃO-linearmente separável\"."
      ]
    },
    {
      "cell_type": "markdown",
      "metadata": {
        "colab_type": "text",
        "id": "oUrFCMUjFtR1"
      },
      "source": [
        "### Representação gráfica do Operador Lógico E\n",
        "\n",
        "| i | $X_{1}$ | $X_{2}$ | ValorReal ($Y_{i}$) |\n",
        "|---|---|---|---|\n",
        "| 0 | 0 | 0 | 0 |\n",
        "| 1 | 0 | 1 | 0 |\n",
        "| 2 | 1 | 0 | 0 |\n",
        "| 3 | 1 | 1 | 1 |\n",
        "\n",
        "<img src=\"https://github.com/MathMachado/Materials/blob/master/Grafico_Operador_E.png?raw=true\" alt=\"Drawing\" width= \"600\"/>"
      ]
    },
    {
      "cell_type": "markdown",
      "metadata": {
        "colab_type": "text",
        "id": "n9v07MdMF42e"
      },
      "source": [
        "### Representação gráfica do Operador Lógico OU\n",
        "\n",
        "| i | $X_{1}$ | $X_{2}$ | ValorReal ($Y_{i}$) |\n",
        "|---|---|---|---|\n",
        "| 0 | 0 | 0 | 0 |\n",
        "| 1 | 0 | 1 | 1 |\n",
        "| 2 | 1 | 0 | 1 |\n",
        "| 3 | 1 | 1 | 1 |\n",
        "\n",
        "<img src=\"https://github.com/MathMachado/Materials/blob/master/Grafico_Operador_OU.png?raw=true\" alt=\"Drawing\" width= \"600\"/>"
      ]
    },
    {
      "cell_type": "markdown",
      "metadata": {
        "colab_type": "text",
        "id": "56Qp1J6LGBe9"
      },
      "source": [
        "### Representação gráfica do Operador Lógico XOR\n",
        "\n",
        "| i | $X_{1}$ | $X_{2}$ | ValorReal ($Y_{i}$)|\n",
        "|---|---|---|---|\n",
        "| 0 | 0 | 0 | 0 |\n",
        "| 1 | 0 | 1 | 1 |\n",
        "| 2 | 1 | 0 | 1 |\n",
        "| 3 | 1 | 1 | 0 |\n",
        "\n",
        "<img src=\"https://github.com/MathMachado/Materials/blob/master/Grafico_Operador_XOR.png?raw=true\" alt=\"Drawing\" width= \"600\"/>"
      ]
    },
    {
      "cell_type": "markdown",
      "metadata": {
        "colab_type": "text",
        "id": "eaQm7zZJbNAc"
      },
      "source": [
        "___\n",
        "# **O QUE APRENDEMOS ATÉ AQUI?**\n",
        "\n",
        "* Redes Neurais tentam ajustar os pesos $W$ para tentar melhorar a taxa de acerto. Ou seja, a Rede Neural aprende com os dados através do ajuste iterativo dos pesos $W$;\n",
        "* Treinar uma Rede Neural é uma tarefa computacionalmente intensivo, pois o algoritmo tenta encontrar s pesos $W$ que apresentam melhor acurácia. Para um dataframe grande, o custo conputacional do aprendizado pode ser alto."
      ]
    },
    {
      "cell_type": "markdown",
      "metadata": {
        "colab_type": "text",
        "id": "f_T35rXZOB4G"
      },
      "source": [
        "___\n",
        "# **REDES NEURAIS MULTICAMADA**\n",
        "\n",
        "* Pelo menos 1 _Hidden Layer_. Observe a Rede Neural a seguir contendo 20 neurônios distribuídos da seguinte forma:\n",
        "\n",
        "    * Número de neurônios na camada de entrada (_Input Layer_): 4;\n",
        "    * 3 camadas escondidas (_Hidden Layers_) com 5 neurônios cada, totalizando 15 neurônios:\n",
        "        * Número de neurônios na _Hidden Layer 1_: 5;\n",
        "        * Número de neurônios na _Hidden Layer 2_: 5;\n",
        "        * Número de neurônios na _Hidden Layer 3_: 5;\n",
        "    * Número de neurônios na camada de saída (_Output Layer_): 1;\n",
        "* _Fully connected layer_."
      ]
    },
    {
      "cell_type": "markdown",
      "metadata": {
        "id": "1dXBXuh2-Tuo",
        "colab_type": "text"
      },
      "source": [
        "<img src=\"https://github.com/MathMachado/Materials/blob/master/RNA_Multicamada.png?raw=true\" alt=\"Drawing\" width= \"800\"/>"
      ]
    },
    {
      "cell_type": "markdown",
      "metadata": {
        "id": "BK4O_Y_l2vev",
        "colab_type": "text"
      },
      "source": [
        "## Função _Sigmoid_"
      ]
    },
    {
      "cell_type": "markdown",
      "metadata": {
        "id": "M_nn8zELXEVf",
        "colab_type": "text"
      },
      "source": [
        "<img src=\"https://github.com/MathMachado/Materials/blob/master/Sigmoid_Limite.png?raw=true\" alt=\"Drawing\" width= \"800\"/>\n",
        "\n",
        "Consulte [e (constante matemática)](https://pt.wikipedia.org/wiki/E_(constante_matem%C3%A1tica)) para saber mais sobre a constante de Euler."
      ]
    },
    {
      "cell_type": "markdown",
      "metadata": {
        "id": "kOWwWR7hOmir",
        "colab_type": "text"
      },
      "source": [
        "## Número de _Hidden Layers_\n",
        "\n",
        "Pesquisadores apontam que 1 única _Hidden Layer_ é suficiente para a grande maioria dos problemas e que usualmente cada _Hidden Layer_ possui o mesmo número de neurônios. Experimentos mostram que mais _Hidden Layers_ implica em maior tempo para treinar a Rede Neural. No entanto, [Heaton Research](https://www.heatonresearch.com/2017/06/01/hidden-layers.html), mostra que:\n",
        "\n",
        "![Determinining_number_Hidden_Layers](https://github.com/MathMachado/Materials/blob/master/Determinining_number_Hidden_Layers.png?raw=true)\n",
        "\n",
        "Fonte: [Heaton Research](https://www.heatonresearch.com/2017/06/01/hidden-layers.html).\n"
      ]
    },
    {
      "cell_type": "markdown",
      "metadata": {
        "id": "u4_1JCbcPRrn",
        "colab_type": "text"
      },
      "source": [
        "## Número de neurônios na camada de entrada (_Input Layer_): $N_{I}$\n",
        "\n",
        "$N_{I}$= Número de colunas (ou variáveis) no dataframe."
      ]
    },
    {
      "cell_type": "markdown",
      "metadata": {
        "colab_type": "text",
        "id": "fk-lhwhffUZz"
      },
      "source": [
        "### Número de neurônios na camada de saída (_Output Layer_): $N_{O}$\n",
        "\n",
        "* Se a Rede Neural é uma regressão, então o número de neurônios na _Output Layer_ é 1, pois o _output_ de uma regressão é um valor;\n",
        "* Se a Rede Neural é uma classificação e usamos uma função de ativação probabilística (como _softmax_, por exemplo), então o número de neurônios na _Output Layer_ é igual ao número de classes que queremos prever. Por exemplo, no problema de classificar espécies no dataframe IRIS temos 3 espécies (versicolor, virginica e setosa). Ao utilizarmos a função de ativação _softmax_, então teremos 3 neurônios na _Output Layer_."
      ]
    },
    {
      "cell_type": "markdown",
      "metadata": {
        "colab_type": "text",
        "id": "ZsrrdLpSfYm9"
      },
      "source": [
        "## Número de neurônios na camada escondida (_Hidden Layer_): $N_{H}$\n",
        "\n",
        "Determinar o número de neurônios na _Hidden Layer_ tem sido um exercício de tentativa e erro, mas alguns experimentos tem demonstrado que o número adequado de neurônios na _Hidden Layer_ pode ser obtido através da expressão a seguir:\n",
        "\n",
        "$$N_{H}= \\frac{N_{I}+N_{O}}{2}$$\n",
        "\n",
        "No entanto, o artigo [How to choose the number of hidden layers and nodes in a feedforward neural network?](https://stats.stackexchange.com/questions/181/how-to-choose-the-number-of-hidden-layers-and-nodes-in-a-feedforward-neural-netw) sugere o uso da seguinte expressão:\n",
        "\n",
        "$$N_H= \\frac{N}{\\alpha(N_{I}+N_{O})}$$\n",
        "\n",
        "onde $N$ é o número de instâncias (linhas) do dataframe e $\\alpha$ é um número entre 2 e 10, sendo que alguns experimentos com $\\alpha= 2$ produzem bons modelos sem _overfitting_. Para saber mais sobre esta expressão e sobre $\\alpha$, sugiro a leitura do artigo mencionado."
      ]
    },
    {
      "cell_type": "markdown",
      "metadata": {
        "colab_type": "text",
        "id": "Rj6WfilbShX3"
      },
      "source": [
        "## Rede Neural Multicamada para o Operador Lógico XOR.\n",
        "\n",
        "Dataframe que representa o Operador Lógico XOR:\n",
        "\n",
        "| i | $X_{1}$ | $X_{2}$ | ValorReal ($Y_{i}$)|\n",
        "|---|---|---|---|\n",
        "| 0 | 0 | 0 | 0 |\n",
        "| 1 | 0 | 1 | 1 |\n",
        "| 2 | 1 | 0 | 1 |\n",
        "| 3 | 1 | 1 | 0 |"
      ]
    },
    {
      "cell_type": "markdown",
      "metadata": {
        "colab_type": "text",
        "id": "uURlcU78LwbH"
      },
      "source": [
        "### Arquitetura da Rede Neural Multicamada que vamos desenvolver para o Operador Lógico XOR\n",
        "\n",
        "Os pesos $W_{H}= \\begin{bmatrix} W_{H}^{(1, 1)} & W_{H}^{(1, 2)} & W_{H}^{(1, 3)} \\\\ W_{H}^{(2, 1)} & W_{H}^{(2, 2)} & W_{H}^{(2, 3)} \\end{bmatrix}$ e $W_{O}= \\begin{bmatrix} W_{O}^{(1)} \\\\ W_{O}^{(2)} \\\\ W_{O}^{(3)} \\end{bmatrix}$ serão gerados aleatoriamente. A seguir, a arquitetura da Rede Neural com 1 _Hidden Layer_ contendo 3 neurônios:"
      ]
    },
    {
      "cell_type": "markdown",
      "metadata": {
        "id": "6XKMdlZr-e9l",
        "colab_type": "text"
      },
      "source": [
        "<img src=\"https://github.com/MathMachado/Materials/blob/master/RNA_Generic1.png?raw=true\" alt=\"Drawing\" width= \"600\"/>"
      ]
    },
    {
      "cell_type": "markdown",
      "metadata": {
        "id": "AV2eUQDuLCUL",
        "colab_type": "text"
      },
      "source": [
        "[**Python**] - Importar as bibliotecas necessárias:"
      ]
    },
    {
      "cell_type": "code",
      "metadata": {
        "id": "uTWYP0V-LGHj",
        "colab_type": "code",
        "colab": {}
      },
      "source": [
        "import math\n",
        "import numpy as np"
      ],
      "execution_count": 0,
      "outputs": []
    },
    {
      "cell_type": "markdown",
      "metadata": {
        "id": "-DG86PgxLDQA",
        "colab_type": "text"
      },
      "source": [
        "[**Python**] - Definir o número de casas decimais:"
      ]
    },
    {
      "cell_type": "code",
      "metadata": {
        "id": "Jsvh5DOkXEVm",
        "colab_type": "code",
        "colab": {}
      },
      "source": [
        "np.set_printoptions(precision= 3)"
      ],
      "execution_count": 0,
      "outputs": []
    },
    {
      "cell_type": "markdown",
      "metadata": {
        "id": "NYIMcp8TLVuq",
        "colab_type": "text"
      },
      "source": [
        "[**Python**] - Definir as entradas (_inputs_) $X$:"
      ]
    },
    {
      "cell_type": "code",
      "metadata": {
        "id": "U6Mt6zTnXEVq",
        "colab_type": "code",
        "colab": {}
      },
      "source": [
        "X= np.array([[0, 0], [0, 1], [1, 0], [1, 1]])\n",
        "X"
      ],
      "execution_count": 0,
      "outputs": []
    },
    {
      "cell_type": "markdown",
      "metadata": {
        "id": "tXLd1nZxLbXD",
        "colab_type": "text"
      },
      "source": [
        "[**Python**] - Definir os _Outputs_ $Y$:"
      ]
    },
    {
      "cell_type": "code",
      "metadata": {
        "id": "Oauq3veAXEVu",
        "colab_type": "code",
        "colab": {}
      },
      "source": [
        "Y= np.array([[0], [1], [1], [0]])\n",
        "Y"
      ],
      "execution_count": 0,
      "outputs": []
    },
    {
      "cell_type": "markdown",
      "metadata": {
        "colab_type": "text",
        "id": "TC1y0tO1MAU9"
      },
      "source": [
        "### Gerar os pesos $W_{H}= \\begin{bmatrix} W_{H}^{(1, 1)} & W_{H}^{(1, 2)} & W_{H}^{(1, 3)} \\\\ W_{H}^{(2, 1)} & W_{H}^{(2, 2)} & W_{H}^{(2, 3)} \\end{bmatrix}$ e $W_{O}= \\begin{bmatrix} W_{O}^{(1)} \\\\ W_{O}^{(2)} \\\\ W_{O}^{(3)} \\end{bmatrix}$ aleatoriamente\n",
        "\n",
        "Por questões de reproducibilidade de resultados, vamos usar as sementes a seguir para gerar os pesos $W_{H}$ e $W_{O}$:\n",
        "\n",
        "* _seed_= 20111974 para gerar $W_{H}$;\n",
        "* _seed_= 19741120 para gerar $W_{O}$.\n",
        "\n",
        "Ao usarmos estas sementes, deveremos ter $W_{H}= \\begin{bmatrix} 0.531 & 0.570 & 0.543 \\\\ 0.655 & 0.857 & 0.602 \\end{bmatrix}$ e $W_{O}= \\begin{bmatrix} 0.240 \\\\ 0.318 \\\\ 0.142 \\end{bmatrix}$."
      ]
    },
    {
      "cell_type": "markdown",
      "metadata": {
        "id": "_U3Id5XXG5tw",
        "colab_type": "text"
      },
      "source": [
        "[**Python**] - Sementes para gerar $W_{H}$ (aleatoriamente)"
      ]
    },
    {
      "cell_type": "code",
      "metadata": {
        "id": "tVXiIpgIHId9",
        "colab_type": "code",
        "colab": {}
      },
      "source": [
        "np.random.seed(20111974)"
      ],
      "execution_count": 0,
      "outputs": []
    },
    {
      "cell_type": "markdown",
      "metadata": {
        "id": "XYj0NYofHKkk",
        "colab_type": "text"
      },
      "source": [
        "[**Python**] - Gerar os pesos $W_{H}$ (aleatoriamente)"
      ]
    },
    {
      "cell_type": "code",
      "metadata": {
        "id": "o1eGsPNQXEVx",
        "colab_type": "code",
        "colab": {}
      },
      "source": [
        "W_H= np.array([np.random.random(3), np.random.random(3)])\n",
        "W_H"
      ],
      "execution_count": 0,
      "outputs": []
    },
    {
      "cell_type": "markdown",
      "metadata": {
        "colab_type": "text",
        "id": "cj6KJnP3Hbqf"
      },
      "source": [
        "[**Python**] - Sementes para gerar $W_{O}$ (aleatoriamente):"
      ]
    },
    {
      "cell_type": "code",
      "metadata": {
        "colab_type": "code",
        "id": "AkVw-SWSHbqh",
        "colab": {}
      },
      "source": [
        "np.random.seed(19741120)"
      ],
      "execution_count": 0,
      "outputs": []
    },
    {
      "cell_type": "markdown",
      "metadata": {
        "colab_type": "text",
        "id": "r7ZjUT4oHbqk"
      },
      "source": [
        "[**Python**] - Gerar os pesos $W_{O}$ (aleatoriamente):"
      ]
    },
    {
      "cell_type": "code",
      "metadata": {
        "id": "ebs8p8mOXEV1",
        "colab_type": "code",
        "colab": {}
      },
      "source": [
        "W_O= np.array([np.random.random(1), np.random.random(1), np.random.random(1)])\n",
        "W_O"
      ],
      "execution_count": 0,
      "outputs": []
    },
    {
      "cell_type": "markdown",
      "metadata": {
        "colab_type": "text",
        "id": "vg1ByKjKsWcE"
      },
      "source": [
        "Confira os pesos dispostos na figura a seguir:\n",
        "\n",
        "<img src=\"https://github.com/MathMachado/Materials/blob/master/RNA_X1_X2.png?raw=true\" alt=\"Drawing\" width= \"800\"/>"
      ]
    },
    {
      "cell_type": "markdown",
      "metadata": {
        "colab_type": "text",
        "id": "GiEc1DwPt7Hm"
      },
      "source": [
        "### Calcular $S= \\sum_{i=1}^{4}X_{i}W_{i}$ e passar o valor de $S$ para a função de ativação $f(S)$ (_Sigmoid_)\n",
        "\n",
        "Função _Sigmoid_:\n",
        "\n",
        "$$f(x)= y= \\frac{1}{1+e^{-x}}$$"
      ]
    },
    {
      "cell_type": "markdown",
      "metadata": {
        "id": "mCZsXjIhHqId",
        "colab_type": "text"
      },
      "source": [
        "[**Python**] - Definir a função de ativação $Sigmoid$:"
      ]
    },
    {
      "cell_type": "code",
      "metadata": {
        "id": "kB4-UnOGXEV8",
        "colab_type": "code",
        "colab": {}
      },
      "source": [
        "def FuncaoAtivacao_Sigmoid(x):\n",
        "    y= 1/(1+np.exp(-x))\n",
        "    return y"
      ],
      "execution_count": 0,
      "outputs": []
    },
    {
      "cell_type": "markdown",
      "metadata": {
        "id": "XkvMHw1KHrjT",
        "colab_type": "text"
      },
      "source": [
        "[**Python**] - Função MostraCalculos, desenvolvida para validarmos os cálculos manuais de $S$ e $f(S)$:"
      ]
    },
    {
      "cell_type": "code",
      "metadata": {
        "id": "fsxHrthYXEWA",
        "colab_type": "code",
        "colab": {}
      },
      "source": [
        "def MostraCalculos(i):\n",
        "    print(f'Array W:\\n {W_H}')\n",
        "    print('\\n')\n",
        "    print(f'Array X:\\n {X[i]}')\n",
        "    S= X[i].dot(W_H)\n",
        "    f= FuncaoAtivacao_Sigmoid(S)\n",
        "    S2= f.dot(W_O)\n",
        "    f2= FuncaoAtivacao_Sigmoid(S2)\n",
        "    \n",
        "    print('\\n')\n",
        "    print(f'*** HIDDEN LAYER ***')\n",
        "    print(f'Função Soma S: {S}')\n",
        "    print(f'Função de Ativação Sigmoid: {f}')\n",
        "    \n",
        "    print('\\n')\n",
        "    print(f'*** OUTPUT LAYER ***')\n",
        "    print(f'Função Soma S: {S2}')\n",
        "    print(f'Função de Ativação Sigmoid: {f2}')\n",
        "    \n",
        "    print('\\n')\n",
        "    print(f'*** ERRO ***')\n",
        "    E= Y[i]-f2\n",
        "    print(f'Erro da linha i= {i}: {E}')\n",
        "          \n",
        "    return f   "
      ],
      "execution_count": 0,
      "outputs": []
    },
    {
      "cell_type": "markdown",
      "metadata": {
        "colab_type": "text",
        "id": "s80knPTzcIBy"
      },
      "source": [
        "___\n",
        "O Operador A.dot(B) faz o produto matricial entre os arrays A e B. Para saber mais sobre a função dot(), assista este [vídeo](https://youtu.be/Pb1VIe9657s)."
      ]
    },
    {
      "cell_type": "markdown",
      "metadata": {
        "colab_type": "text",
        "id": "Bw0p2m8mbz3C"
      },
      "source": [
        "#### $\\Longrightarrow$ Para $i = 0$:"
      ]
    },
    {
      "cell_type": "markdown",
      "metadata": {
        "id": "CelKhuoHISyS",
        "colab_type": "text"
      },
      "source": [
        "[**Python**] - Evocar a função f0= MostraCalculos(0):"
      ]
    },
    {
      "cell_type": "code",
      "metadata": {
        "colab_type": "code",
        "id": "Ar0zOLuUIio1",
        "colab": {}
      },
      "source": [
        "f0= MostraCalculos(0)"
      ],
      "execution_count": 0,
      "outputs": []
    },
    {
      "cell_type": "markdown",
      "metadata": {
        "colab_type": "text",
        "id": "_R1LdY9QvTqb"
      },
      "source": [
        "Observe na figura abaixo os cálculos manuais da Soma $S$, função de ativação $f(S)$ e Erro."
      ]
    },
    {
      "cell_type": "markdown",
      "metadata": {
        "colab_type": "text",
        "id": "hl_RBLiaa4xS"
      },
      "source": [
        "<img src=\"https://github.com/MathMachado/Materials/blob/master/RNA_XOR_0.png?raw=true\" alt=\"Drawing\" width= \"600\"/>"
      ]
    },
    {
      "cell_type": "markdown",
      "metadata": {
        "id": "NOKtMLHoo_Yt",
        "colab_type": "text"
      },
      "source": [
        "##### _HIDDEN LAYER_\n",
        "\\begin{align}\n",
        "S_{H}^{(0, 1)} &= (0)(0.531)+(0)(0.655)= 0 \\Longrightarrow f_{H}^{(0, 1)}(S_{H}^{(0, 1)})= f_{H}^{(0, 1)}(0)= 0.5 \\\\\n",
        "S_{H}^{(0, 2)} &= (0)(0.570)+(0)(0.857)= 0 \\Longrightarrow f_{H}^{(0, 2)}(S_{H}^{(0, 2)})= f_{H}^{(0, 2)}(0)= 0.5 \\\\\n",
        "S_{H}^{(0, 3)} &= (0)(0.543)+(0)(0.602)= 0 \\Longrightarrow f_{H}^{(0, 3)}(S_{H}^{(0, 3)})= f_{H}^{(0, 3)}(0)= 0.5\n",
        "\\end{align}\n",
        "\n"
      ]
    },
    {
      "cell_type": "markdown",
      "metadata": {
        "id": "8Kw-cakYsQGp",
        "colab_type": "text"
      },
      "source": [
        "##### _OUTPUT LAYER_\n",
        "\n",
        "\\begin{align}\n",
        "S_{O}^{(0)}&= (0.5)(0.24)+(0.5)(0.318)+(0.5)(0.142)= 0.35 \\\\\n",
        "f_{O}^{(0)}(S_{O}^{(0)})&= f_{O}^{(0)}(0.35)= 0.587 \\\\\n",
        "E_{0}&= 0-0.587= -0.587\n",
        "\\end{align}"
      ]
    },
    {
      "cell_type": "markdown",
      "metadata": {
        "colab_type": "text",
        "id": "TFZ8w1dUdT7A"
      },
      "source": [
        "#### $\\Longrightarrow$ Para $i = 1$:"
      ]
    },
    {
      "cell_type": "markdown",
      "metadata": {
        "id": "wTz3EfAUIoz-",
        "colab_type": "text"
      },
      "source": [
        "[**Python**] - Evocar a função f1= MostraCalculos(1):"
      ]
    },
    {
      "cell_type": "code",
      "metadata": {
        "id": "INUDJ_aMXEWb",
        "colab_type": "code",
        "colab": {}
      },
      "source": [
        "f1= MostraCalculos(1)"
      ],
      "execution_count": 0,
      "outputs": []
    },
    {
      "cell_type": "markdown",
      "metadata": {
        "colab_type": "text",
        "id": "I91qgS1Uh2T1"
      },
      "source": [
        "<img src=\"https://github.com/MathMachado/Materials/blob/master/RNA_XOR_1.png?raw=true\" alt=\"Drawing\" width= \"600\"/>"
      ]
    },
    {
      "cell_type": "markdown",
      "metadata": {
        "colab_type": "text",
        "id": "JDuyxsKSvDds"
      },
      "source": [
        "##### _HIDDEN LAYER_\n",
        "\\begin{align}\n",
        "S_{H}^{(1, 1)} &= (0)(0.531)+(1)(0.655)= 0.655 \\Longrightarrow f_{H}^{(1, 1)}(S_{H}^{(1, 1)})= f_{H}^{(1, 1)}(0.655)= 0.658 \\\\\n",
        "S_{H}^{(1, 2)} &= (0)(0.570)+(1)(0.857)= 0.857 \\Longrightarrow f_{H}^{(1, 2)}(S_{H}^{(1, 2)})= f_{H}^{(1, 2)}(0.857)= 0.702 \\\\\n",
        "S_{H}^{(1, 3)} &= (0)(0.543)+(1)(0.602)= 0.602 \\Longrightarrow f_{H}^{(1, 3)}(S_{H}^{(1, 3)})= f_{H}^{(1, 3)}(0.602)= 0.646\n",
        "\\end{align}"
      ]
    },
    {
      "cell_type": "markdown",
      "metadata": {
        "colab_type": "text",
        "id": "nKPsQA9dvDdt"
      },
      "source": [
        "##### _OUTPUT LAYER_\n",
        "\n",
        "\\begin{align}\n",
        "S_{O}^{(1)}&= (0.658)(0.24)+(0.702)(0.318)+(0.646)(0.142)= 0.473 \\\\\n",
        "f_{O}^{(1)}(S_{O}^{(1)})&= f_{O}^{(1)}(0.473)= 0.616 \\\\\n",
        "E_{1}&= 1-0.616= 0.384\n",
        "\\end{align}"
      ]
    },
    {
      "cell_type": "markdown",
      "metadata": {
        "colab_type": "text",
        "id": "IBfztHLfeoTR"
      },
      "source": [
        "#### $\\Longrightarrow$ Para $i = 2$:"
      ]
    },
    {
      "cell_type": "markdown",
      "metadata": {
        "id": "sjcpG53tIvHf",
        "colab_type": "text"
      },
      "source": [
        "[**Python**] - Evocar a função f2= MostraCalculos(2):"
      ]
    },
    {
      "cell_type": "code",
      "metadata": {
        "id": "RbnG_WxdXEWg",
        "colab_type": "code",
        "colab": {}
      },
      "source": [
        "f2= MostraCalculos(2)"
      ],
      "execution_count": 0,
      "outputs": []
    },
    {
      "cell_type": "markdown",
      "metadata": {
        "colab_type": "text",
        "id": "9g9MegqIh-Vn"
      },
      "source": [
        "<img src=\"https://github.com/MathMachado/Materials/blob/master/RNA_XOR_2.png?raw=true\" alt=\"Drawing\" width= \"600\"/>"
      ]
    },
    {
      "cell_type": "markdown",
      "metadata": {
        "colab_type": "text",
        "id": "5gES50aaxszM"
      },
      "source": [
        "##### _HIDDEN LAYER_\n",
        "\\begin{align}\n",
        "S_{H}^{(2, 1)} &= (1)(0.531)+(0)(0.655)= 0.531 \\Longrightarrow f_{H}^{(2, 1)}(S_{H}^{(2, 1)})= f_{H}^{(2, 1)}(0.531)= 0.630 \\\\\n",
        "S_{H}^{(2, 2)} &= (1)(0.570)+(0)(0.857)= 0.570 \\Longrightarrow f_{H}^{(2, 2)}(S_{H}^{(2, 2)})= f_{H}^{(2, 2)}(0.570)= 0.639 \\\\\n",
        "S_{H}^{(2, 3)} &= (1)(0.543)+(0)(0.602)= 0.543 \\Longrightarrow f_{H}^{(2, 3)}(S_{H}^{(2, 3)})= f_{H}^{(2, 3)}(0.543)= 0.632\n",
        "\\end{align}"
      ]
    },
    {
      "cell_type": "markdown",
      "metadata": {
        "colab_type": "text",
        "id": "o7n4Eq-6xszP"
      },
      "source": [
        "##### _OUTPUT LAYER_\n",
        "\n",
        "\\begin{align}\n",
        "S_{O}^{(2)}&= (0.630)(0.24)+(0.639)(0.318)+(0.632)(0.142)= 0.444 \\\\\n",
        "f_{O}^{(2)}(S_{O}^{(2)})&= f_{O}^{(2)}(0.444)= 0.609 \\\\\n",
        "E_{2}&= 1-0.609= 0.391\n",
        "\\end{align}"
      ]
    },
    {
      "cell_type": "markdown",
      "metadata": {
        "colab_type": "text",
        "id": "cPJQKwBthCkh"
      },
      "source": [
        "#### $\\Longrightarrow$ Para $i = 3$:"
      ]
    },
    {
      "cell_type": "markdown",
      "metadata": {
        "id": "MVhEsrqJI1T7",
        "colab_type": "text"
      },
      "source": [
        "[**Python**] - Evocar a função f3= MostraCalculos(3):"
      ]
    },
    {
      "cell_type": "code",
      "metadata": {
        "id": "qU87GWKjXEWo",
        "colab_type": "code",
        "colab": {}
      },
      "source": [
        "f3= MostraCalculos(3)"
      ],
      "execution_count": 0,
      "outputs": []
    },
    {
      "cell_type": "markdown",
      "metadata": {
        "colab_type": "text",
        "id": "AjUGJdaYiEH0"
      },
      "source": [
        "<img src=\"https://github.com/MathMachado/Materials/blob/master/RNA_XOR_3.png?raw=true\" alt=\"Drawing\" width= \"600\"/>"
      ]
    },
    {
      "cell_type": "markdown",
      "metadata": {
        "colab_type": "text",
        "id": "lKptTBkBzysP"
      },
      "source": [
        "##### _HIDDEN LAYER_\n",
        "\\begin{align}\n",
        "S_{H}^{(3, 1)} &= (1)(0.531)+(1)(0.655)= 1.186 \\Longrightarrow f_{H}^{(3, 1)}(S_{H}^{(3, 1)})= f_{H}^{(3, 1)}(1.186)= 0.766 \\\\\n",
        "S_{H}^{(3, 2)} &= (1)(0.570)+(1)(0.857)= 1.427 \\Longrightarrow f_{H}^{(3, 2)}(S_{H}^{(3, 2)})= f_{H}^{(3, 2)}(1.427)= 0.806 \\\\\n",
        "S_{H}^{(3, 3)} &= (1)(0.543)+(1)(0.602)= 1.144 \\Longrightarrow f_{H}^{(3, 3)}(S_{H}^{(3, 3)})= f_{H}^{(3, 3)}(1.144)= 0.758\n",
        "\\end{align}"
      ]
    },
    {
      "cell_type": "markdown",
      "metadata": {
        "colab_type": "text",
        "id": "ISxS131GzysR"
      },
      "source": [
        "##### _OUTPUT LAYER_\n",
        "\n",
        "\\begin{align}\n",
        "S_{O}^{(3)}&= (0.766)(0.24)+(0.806)(0.318)+(0.758)(0.142)= 0.548 \\\\\n",
        "f_{O}^{(3)}(S_{O}^{(3)})&= f_{O}^{(3)}(0.548)= 0.634 \\\\\n",
        "E_{3}&= 0-0.634= -0.634\n",
        "\\end{align}"
      ]
    },
    {
      "cell_type": "markdown",
      "metadata": {
        "colab_type": "text",
        "id": "YR3X25venRv5"
      },
      "source": [
        "### Resumo dos cálculos com _arrays_\n",
        "\n",
        "Os cálculos que foram realizados previamente com o NumPy _step by step_ aqui são feitos utilizando produto matricial."
      ]
    },
    {
      "cell_type": "markdown",
      "metadata": {
        "id": "n9D-5dE-I_IS",
        "colab_type": "text"
      },
      "source": [
        "[**Python**] - Funções de ativação da _Hidden Layer_:"
      ]
    },
    {
      "cell_type": "code",
      "metadata": {
        "id": "BoDRBC8oXEW0",
        "colab_type": "code",
        "colab": {}
      },
      "source": [
        "X2= np.array([f0, f1, f2, f3])\n",
        "X2"
      ],
      "execution_count": 0,
      "outputs": []
    },
    {
      "cell_type": "markdown",
      "metadata": {
        "id": "WVIwTcF1JLIm",
        "colab_type": "text"
      },
      "source": [
        "[**Python**] - Calcular a soma $S$ da _Output Layer_, dado pelo produto matricial de $X2$ por $W_{O}$:"
      ]
    },
    {
      "cell_type": "code",
      "metadata": {
        "id": "ddyC0sa6XEW5",
        "colab_type": "code",
        "colab": {}
      },
      "source": [
        "S= X2.dot(W_O)\n",
        "S"
      ],
      "execution_count": 0,
      "outputs": []
    },
    {
      "cell_type": "markdown",
      "metadata": {
        "id": "NRkyUZN7Jooz",
        "colab_type": "text"
      },
      "source": [
        "[**Python**] - Função de ativação da _Output Layer_:"
      ]
    },
    {
      "cell_type": "code",
      "metadata": {
        "id": "Jadac2Q3XEW-",
        "colab_type": "code",
        "colab": {}
      },
      "source": [
        "f= FuncaoAtivacao_Sigmoid(S)\n",
        "f"
      ],
      "execution_count": 0,
      "outputs": []
    },
    {
      "cell_type": "markdown",
      "metadata": {
        "colab_type": "text",
        "id": "ZuTe0mHg8Kzk"
      },
      "source": [
        "Os resultados das funções de ativação acima conferem com o resumo a seguir:\n",
        "\n",
        "<img src=\"https://github.com/MathMachado/Materials/blob/master/Resumo.png?raw=true\" alt=\"Drawing\" width= \"800\"/>"
      ]
    },
    {
      "cell_type": "markdown",
      "metadata": {
        "id": "r2lHqqhmM6rd",
        "colab_type": "text"
      },
      "source": [
        "[**Python**] - Calcular os Erros"
      ]
    },
    {
      "cell_type": "code",
      "metadata": {
        "id": "bCu8miA2XEXE",
        "colab_type": "code",
        "colab": {}
      },
      "source": [
        "E= Y-f\n",
        "E"
      ],
      "execution_count": 0,
      "outputs": []
    },
    {
      "cell_type": "markdown",
      "metadata": {
        "colab_type": "text",
        "id": "P2Q019cxotQM"
      },
      "source": [
        "Os cálculos estão resumidos na tabela a seguir:\n",
        "\n",
        "| i | $X_{1}$ | $X_{2}$ | ValorReal ($Y_{i}$) | ValorCalculado ($\\hat{Y}_{i}$) | $Erro$ | $Erro^{2}$ |\n",
        "|---|---|---|---|---|:----------------------:|------------------:|\n",
        "| 0 | 0 | 0 | 0 | 0.587 | -0.587 | 0.344 |\n",
        "| 1 | 0 | 1 | 1 | 0.616 | 0.384 | 0.147 |\n",
        "| 2 | 1 | 0 | 1 | 0.609 | 0.391 | 0.152 |\n",
        "| 3 | 1 | 1 | 0 | 0.634 | -0.634 | 0.401 |\n",
        "\n",
        "Onde:\n",
        "\n",
        "$Erro= Y_{i}-\\hat{Y}_{i}$= ValorReal - ValorCalculado\n",
        "\n",
        "O cálculo do MSE será $MSE= \\frac{0.344+0.147+0.152+0.401}{4}= \\frac{1.044}{4}= 0.261$"
      ]
    },
    {
      "cell_type": "markdown",
      "metadata": {
        "colab_type": "text",
        "id": "lHm_16jEz-kL"
      },
      "source": [
        "### Métrica para avaliação da performance da Rede Neural\n",
        "\n",
        "* O MSE é uma das principais métricas para medir a performance das Redes Neurais. A seguir, o cálculo do MSE:\n",
        "\n",
        "$$MSE= \\frac{\\sum_{i=1}^{n}(Y_{i}-\\hat{Y}_{i})^{2}}{n}= \\frac{(0-0.587)^{2}+(1-0.616)^{2}+(1-0.609)^{2}+(0-0.634)^{2}}{4}= \\frac{0.344+0.147+0.152+0.401}{4}=0.261$$"
      ]
    },
    {
      "cell_type": "markdown",
      "metadata": {
        "id": "D2Yo6TdpNIPW",
        "colab_type": "text"
      },
      "source": [
        "[**Python**] - Desenvolver função MSE para calcular o MSE = Erro Quadrático Médio:"
      ]
    },
    {
      "cell_type": "code",
      "metadata": {
        "id": "EENpe-rbXEXL",
        "colab_type": "code",
        "colab": {}
      },
      "source": [
        "def MSE(Y, f):\n",
        "    return np.square(Y - f).mean()"
      ],
      "execution_count": 0,
      "outputs": []
    },
    {
      "cell_type": "markdown",
      "metadata": {
        "id": "ySpVD0-mNQ1s",
        "colab_type": "text"
      },
      "source": [
        "[**Python**] - Evocar a função $MSE(Y, f)$:"
      ]
    },
    {
      "cell_type": "code",
      "metadata": {
        "id": "C0L5ACZnXEXP",
        "colab_type": "code",
        "colab": {}
      },
      "source": [
        "MSE(Y, f)"
      ],
      "execution_count": 0,
      "outputs": []
    },
    {
      "cell_type": "markdown",
      "metadata": {
        "colab_type": "text",
        "id": "Xpzv12a48GhA"
      },
      "source": [
        "### _Backpropagation_ - Ajuste dos pesos $W_{O}= \\begin{bmatrix} W_{O}^{(1)} \\\\ W_{O}^{(2)} \\\\ W_{O}^{(3)} \\end{bmatrix}$\n",
        "\n",
        "> _Backpropagation_ (ou simplesmente _Backward_) é o processo que faz com que a Rede Neural aprenda a partir da atualização iterativa dos pesos $W$. A ideia do _Backpropagation_ é que podemos melhorar a Rede Neural através da calibração dos pesos $W$ usando _Gradient Descent_, de forma que os _outputs_ serão cada vez mais próximos do valor real."
      ]
    },
    {
      "cell_type": "markdown",
      "metadata": {
        "id": "vjBeg2TTcd40",
        "colab_type": "text"
      },
      "source": [
        "Como vimos anteriormente, a fórmula para atualização dos pesos $W$, dada pela expressão abaixo\n",
        "\n",
        "$$W_{n+1}= W_{n}*M+\\alpha \\frac{\\partial L}{\\partial W_{n}}= W_{n}*M+\\alpha*(X*\\Delta)$$\n",
        "\n",
        "necessita da derivada da _Loss Function_ $L$, que é a função _Sigmoid_, cuja expressão matemática é dada a seguir:\n",
        "\n",
        "$$y(x)= \\frac{1}{1+e^{-x}}$$\n",
        "\n",
        "Portanto, a derivada da função _Sigmoid_ é dada pela expressão a seguir:\n",
        "\n",
        "$$\\frac{dy}{dx}= y^{'}= y(1-y)$$\n",
        "\n",
        "Caso você tenha dúvidas sobre a derivada da função de ativação _Sigmoid_, sugiro a leitura deste artigo: [Derivative of the Sigmoid function](https://towardsdatascience.com/derivative-of-the-sigmoid-function-536880cf918e)."
      ]
    },
    {
      "cell_type": "markdown",
      "metadata": {
        "colab_type": "text",
        "id": "hDKJakFImuRp"
      },
      "source": [
        "* $D_{O}$ é a Derivada do neurônio da _Output Layer_;\n",
        "* $\\Delta_{H}= D_{O}* W_{O} * \\Delta_{O}$;\n",
        "* $\\Delta_{O}= E_{i}*D_{O}$.\n",
        "\n",
        "A seguir, a Derivada da função _Sigmoid_ usando o NumPy:"
      ]
    },
    {
      "cell_type": "markdown",
      "metadata": {
        "id": "kDnarWwwNZd0",
        "colab_type": "text"
      },
      "source": [
        "[**Python**] - Função Derivada_Sigmoid, que calcula a Derivada da função _Sigmoid_:"
      ]
    },
    {
      "cell_type": "code",
      "metadata": {
        "id": "qSxVsNeDXEXY",
        "colab_type": "code",
        "colab": {}
      },
      "source": [
        "def Derivada_Sigmoid(y):\n",
        "    return y*(1-y)"
      ],
      "execution_count": 0,
      "outputs": []
    },
    {
      "cell_type": "markdown",
      "metadata": {
        "id": "CY6O0qkWNhby",
        "colab_type": "text"
      },
      "source": [
        "[**Python**] - Evocar a Derivada_Sigmoid(f), ou seja, calcular a derivada das funções de ativação da _Output Layer_:"
      ]
    },
    {
      "cell_type": "code",
      "metadata": {
        "id": "WTpQfBTpXEXi",
        "colab_type": "code",
        "colab": {}
      },
      "source": [
        "D_O= Derivada_Sigmoid(f)\n",
        "D_O"
      ],
      "execution_count": 0,
      "outputs": []
    },
    {
      "cell_type": "markdown",
      "metadata": {
        "colab_type": "text",
        "id": "jfVdgCFDf9-X"
      },
      "source": [
        "Os cálculos acima foram feitos no NumPy e são reproduzidos manualmente abaixo:"
      ]
    },
    {
      "cell_type": "markdown",
      "metadata": {
        "id": "TOslp3YSN70r",
        "colab_type": "text"
      },
      "source": [
        "[**Python**] - Função Backpropagation para calcular:\n",
        "* _Output Layer_:\n",
        "    * $D_{O}$ - Derivada dos valores da _Output Layer_;\n",
        "    * $\\Delta_{O}$ - Delta;\n",
        "* _Hidden Layer_:\n",
        "    * $D_{H}$ - Derivada dos valores da _Hidden Layer_;\n",
        "    * $\\Delta_{H}$ - Delta"
      ]
    },
    {
      "cell_type": "code",
      "metadata": {
        "id": "4PihyM2VXEXq",
        "colab_type": "code",
        "colab": {}
      },
      "source": [
        "def Backpropagation(i):\n",
        "    print(f'***** OUTPUT LAYER *****')\n",
        "    print(f'*** Função de ativação ***')\n",
        "    print(f[i])\n",
        "    \n",
        "    #print('\\n')\n",
        "    print(f'*** Derivada ***')\n",
        "    D_O= Derivada_Sigmoid(f)\n",
        "    print(D_O[i])\n",
        "\n",
        "    #print('\\n')          \n",
        "    print(f'*** Erros ***')\n",
        "    print(E[i])\n",
        "\n",
        "    #print('\\n')\n",
        "    print(f'*** Delta ***')\n",
        "    Delta_O= D_O*E\n",
        "    print(Delta_O[i])\n",
        "    \n",
        "    print('\\n')\n",
        "    print(f'***** HIDDEN LAYER *****')\n",
        "    print(f'*** Função de ativação ***')\n",
        "    print(X2[i])\n",
        "\n",
        "    #print('\\n')\n",
        "    print(f'*** Derivada ***')\n",
        "    D_H= Derivada_Sigmoid(X2)\n",
        "    D_H\n",
        "    print(D_H[i])    \n",
        "          \n",
        "    #print('\\n')\n",
        "    print(f'*** Delta ***')\n",
        "    Delta_H= D_H*W_O.T*Delta_O\n",
        "    print(Delta_H[i])   "
      ],
      "execution_count": 0,
      "outputs": []
    },
    {
      "cell_type": "markdown",
      "metadata": {
        "colab_type": "text",
        "id": "eyGWGHVaFxNG"
      },
      "source": [
        "#### $\\Longrightarrow$ Para $i = 0$:"
      ]
    },
    {
      "cell_type": "markdown",
      "metadata": {
        "id": "uiOtWoNWOn24",
        "colab_type": "text"
      },
      "source": [
        "[**Python**] - Evocar a função Backpropagation(0):"
      ]
    },
    {
      "cell_type": "code",
      "metadata": {
        "id": "SiNkv_DBXEXu",
        "colab_type": "code",
        "colab": {}
      },
      "source": [
        "Backpropagation(0)"
      ],
      "execution_count": 0,
      "outputs": []
    },
    {
      "cell_type": "markdown",
      "metadata": {
        "colab_type": "text",
        "id": "PqZ_CvGI0ySD"
      },
      "source": [
        "<img src=\"https://github.com/MathMachado/Materials/blob/master/RNA_XOR_0_2.png?raw=true\" alt=\"Drawing\" width= \"600\"/>"
      ]
    },
    {
      "cell_type": "markdown",
      "metadata": {
        "id": "yO4njWZb1V1w",
        "colab_type": "text"
      },
      "source": [
        "##### _HIDDEN LAYER_\n",
        "\\begin{align}\n",
        "\\Delta_{H}^{(0, 1)} &= D_{H}^{(0, 1)}.W_{O}^{(1)}.\\Delta_{O}^{(0)}= (0.25)(0.24)(-0.142)= -0.009 \\\\\n",
        "\\Delta_{H}^{(0, 2)} &= D_{H}^{(0, 2)}.W_{O}^{(2)}.\\Delta_{O}^{(0)}= (0.25)(0.318)(-0.142)= -0.011 \\\\\n",
        "\\Delta_{H}^{(0, 3)} &= D_{H}^{(0, 3)}.W_{O}^{(3)}.\\Delta_{O}^{(0)}= (0.25)(0.142)(-0.142)= -0.005\n",
        "\\end{align}"
      ]
    },
    {
      "cell_type": "markdown",
      "metadata": {
        "colab_type": "text",
        "id": "SXpozezsYFCX"
      },
      "source": [
        "Na figura acima, temos que $\\Delta_{H}^{(0)}= [\\Delta_{H}^{(0, 1)}, \\Delta_{H}^{(0, 2)}, \\Delta_{H}^{(0, 3)}]= [-0.009, -0.011, -0.005]$."
      ]
    },
    {
      "cell_type": "markdown",
      "metadata": {
        "colab_type": "text",
        "id": "xDZYiujcHGzK"
      },
      "source": [
        "#### $\\Longrightarrow$ Para $i = 1$:"
      ]
    },
    {
      "cell_type": "markdown",
      "metadata": {
        "id": "ROzKv5VtOuy5",
        "colab_type": "text"
      },
      "source": [
        "[**Python**] - Evocar a função Backpropagation(1):"
      ]
    },
    {
      "cell_type": "code",
      "metadata": {
        "id": "S6An6CyUXEX0",
        "colab_type": "code",
        "colab": {}
      },
      "source": [
        "Backpropagation(1)"
      ],
      "execution_count": 0,
      "outputs": []
    },
    {
      "cell_type": "markdown",
      "metadata": {
        "colab_type": "text",
        "id": "EwblrxI20ygW"
      },
      "source": [
        "<img src=\"https://github.com/MathMachado/Materials/blob/master/RNA_XOR_1_2.png?raw=true\" alt=\"Drawing\" width= \"600\"/>"
      ]
    },
    {
      "cell_type": "markdown",
      "metadata": {
        "colab_type": "text",
        "id": "18bsrlv_4B0Q"
      },
      "source": [
        "##### _HIDDEN LAYER_\n",
        "\\begin{align}\n",
        "\\Delta_{H}^{(1, 1)} &= D_{H}^{(1, 1)}.W_{O}^{(1)}.\\Delta_{O}^{(1)}= (0.225)(0.24)(0.091)= 0.005 \\\\\n",
        "\\Delta_{H}^{(1, 2)} &= D_{H}^{(1, 2)}.W_{O}^{(2)}.\\Delta_{O}^{(1)}= (0.209)(0.318)(0.091)= 0.006 \\\\\n",
        "\\Delta_{H}^{(1, 3)} &= D_{H}^{(1, 3)}.W_{O}^{(3)}.\\Delta_{O}^{(1)}= (0.229)(0.142)(0.091)= 0.003\n",
        "\\end{align}"
      ]
    },
    {
      "cell_type": "markdown",
      "metadata": {
        "colab_type": "text",
        "id": "cPfQUUUHYw4i"
      },
      "source": [
        "Na figura acima, temos que $\\Delta_{H}^{(1)}= [\\Delta_{H}^{(1, 1)}, \\Delta_{H}^{(1, 2)}, \\Delta_{H}^{(1, 3)}]= [0.005, 0.006, 0.003]$."
      ]
    },
    {
      "cell_type": "markdown",
      "metadata": {
        "colab_type": "text",
        "id": "e8qfA8CGHJo8"
      },
      "source": [
        "#### $\\Longrightarrow$ Para $i = 2$:"
      ]
    },
    {
      "cell_type": "markdown",
      "metadata": {
        "id": "UWxqTLsKOyoK",
        "colab_type": "text"
      },
      "source": [
        "[**Python**] - Evocar a função Backpropagation(2):"
      ]
    },
    {
      "cell_type": "code",
      "metadata": {
        "id": "w39YvfOWXEX7",
        "colab_type": "code",
        "colab": {}
      },
      "source": [
        "Backpropagation(2)"
      ],
      "execution_count": 0,
      "outputs": []
    },
    {
      "cell_type": "markdown",
      "metadata": {
        "colab_type": "text",
        "id": "BBZuNcOC0yj9"
      },
      "source": [
        "<img src=\"https://github.com/MathMachado/Materials/blob/master/RNA_XOR_2_2.png?raw=true\" alt=\"Drawing\" width= \"600\"/>"
      ]
    },
    {
      "cell_type": "markdown",
      "metadata": {
        "colab_type": "text",
        "id": "sZam1meY48hW"
      },
      "source": [
        "##### _HIDDEN LAYER_\n",
        "\\begin{align}\n",
        "\\Delta_{H}^{(2, 1)} &= D_{H}^{(2, 1)}.W_{O}^{(1)}.\\Delta_{O}^{(2)}= (0.233)(0.24)(0.093)= 0.005 \\\\\n",
        "\\Delta_{H}^{(2, 2)} &= D_{H}^{(2, 2)}.W_{O}^{(2)}.\\Delta_{O}^{(2)}= (0.231)(0.318)(0.093)= 0.007 \\\\\n",
        "\\Delta_{H}^{(2, 3)} &= D_{H}^{(2, 3)}.W_{O}^{(3)}.\\Delta_{O}^{(2)}= (0.232)(0.142)(0.093)= 0.003\n",
        "\\end{align}"
      ]
    },
    {
      "cell_type": "markdown",
      "metadata": {
        "colab_type": "text",
        "id": "dAc8YrceY5kY"
      },
      "source": [
        "Na figura acima, temos que $\\Delta_{H}^{(2)}= [\\Delta_{H}^{(2, 1)}, \\Delta_{H}^{(2, 2)}, \\Delta_{H}^{(2, 3)}]= [0.005, 0.007, 0.003]$."
      ]
    },
    {
      "cell_type": "markdown",
      "metadata": {
        "colab_type": "text",
        "id": "PWrv-aRyHMPh"
      },
      "source": [
        "#### $\\Longrightarrow$ Para $i = 3$:"
      ]
    },
    {
      "cell_type": "markdown",
      "metadata": {
        "id": "MKqR3izrO15N",
        "colab_type": "text"
      },
      "source": [
        "[**Python**] - Evocar a função Backpropagation(3):"
      ]
    },
    {
      "cell_type": "code",
      "metadata": {
        "id": "1APffWq2XEYA",
        "colab_type": "code",
        "colab": {}
      },
      "source": [
        "Backpropagation(3)"
      ],
      "execution_count": 0,
      "outputs": []
    },
    {
      "cell_type": "markdown",
      "metadata": {
        "colab_type": "text",
        "id": "PGAXyDhW0ynn"
      },
      "source": [
        "<img src=\"https://github.com/MathMachado/Materials/blob/master/RNA_XOR_3_2.png?raw=true\" alt=\"Drawing\" width= \"600\"/>"
      ]
    },
    {
      "cell_type": "markdown",
      "metadata": {
        "colab_type": "text",
        "id": "bdgIs_zP5i1y"
      },
      "source": [
        "##### _HIDDEN LAYER_\n",
        "\\begin{align}\n",
        "\\Delta_{H}^{(3, 1)} &= D_{H}^{(3, 1)}.W_{O}^{(1)}.\\Delta_{O}^{(3)}= (0.179)(0.24)(-0.147)= -0.006 \\\\\n",
        "\\Delta_{H}^{(3, 2)} &= D_{H}^{(3, 2)}.W_{O}^{(2)}.\\Delta_{O}^{(3)}= (0.156)(0.318)(-0.147)= -0.007 \\\\\n",
        "\\Delta_{H}^{(3, 3)} &= D_{H}^{(3, 3)}.W_{O}^{(3)}.\\Delta_{O}^{(3)}= (0.183)(0.142)(-0.147)= -0.004\n",
        "\\end{align}"
      ]
    },
    {
      "cell_type": "markdown",
      "metadata": {
        "colab_type": "text",
        "id": "6Ie99-SqZA6z"
      },
      "source": [
        "Na figura acima, temos que $\\Delta_{H}^{(3)}= [\\Delta_{H}^{(3, 1)}, \\Delta_{H}^{(3, 2)}, \\Delta_{H}^{(3, 3)}]= [-0.006, -0.007, -0.004]$."
      ]
    },
    {
      "cell_type": "markdown",
      "metadata": {
        "id": "sndwYO-VbK1C",
        "colab_type": "text"
      },
      "source": [
        "A seguir, cálculos usando o NumPy:"
      ]
    },
    {
      "cell_type": "markdown",
      "metadata": {
        "id": "ycvvhnWIO5s9",
        "colab_type": "text"
      },
      "source": [
        "[**Python**] - $D_{O}$: Derivada da _Output Layer_:"
      ]
    },
    {
      "cell_type": "code",
      "metadata": {
        "id": "poTTrvYEXEYE",
        "colab_type": "code",
        "colab": {}
      },
      "source": [
        "D_O= Derivada_Sigmoid(f)\n",
        "D_O"
      ],
      "execution_count": 0,
      "outputs": []
    },
    {
      "cell_type": "markdown",
      "metadata": {
        "id": "JkdyDN6BPNZT",
        "colab_type": "text"
      },
      "source": [
        "[**Python**] - Mostrar os Erros:"
      ]
    },
    {
      "cell_type": "code",
      "metadata": {
        "id": "AO9Qi9U0aWTx",
        "colab_type": "code",
        "colab": {}
      },
      "source": [
        "E"
      ],
      "execution_count": 0,
      "outputs": []
    },
    {
      "cell_type": "markdown",
      "metadata": {
        "id": "DPPqqxpIPRsT",
        "colab_type": "text"
      },
      "source": [
        "[**Python**] - $\\Delta_{O}$: Delta da _Output Layer_:"
      ]
    },
    {
      "cell_type": "code",
      "metadata": {
        "id": "6fylksvtaT6h",
        "colab_type": "code",
        "colab": {}
      },
      "source": [
        "Delta_O= D_O*E\n",
        "Delta_O"
      ],
      "execution_count": 0,
      "outputs": []
    },
    {
      "cell_type": "markdown",
      "metadata": {
        "id": "E9zsXwcWPXn1",
        "colab_type": "text"
      },
      "source": [
        "[**Python**] - $D_{H}$: Derivada da _Hidden Layer_:"
      ]
    },
    {
      "cell_type": "code",
      "metadata": {
        "id": "SCABYAGjaigm",
        "colab_type": "code",
        "colab": {}
      },
      "source": [
        "D_H= Derivada_Sigmoid(X2)\n",
        "D_H"
      ],
      "execution_count": 0,
      "outputs": []
    },
    {
      "cell_type": "markdown",
      "metadata": {
        "id": "bLa9L88VPdQu",
        "colab_type": "text"
      },
      "source": [
        "[**Python**] - $D_{O}$ - Derivada da _Output Layer_:"
      ]
    },
    {
      "cell_type": "code",
      "metadata": {
        "id": "58r5kgNwa9xo",
        "colab_type": "code",
        "colab": {}
      },
      "source": [
        "Delta_H= D_H*W_O.T*Delta_O\n",
        "Delta_H"
      ],
      "execution_count": 0,
      "outputs": []
    },
    {
      "cell_type": "markdown",
      "metadata": {
        "colab_type": "text",
        "id": "roh5SVtkQrJE"
      },
      "source": [
        "### _Backpropagation_ - Atualizar os pesos da _Output Layer_ $W_{O}= \\begin{bmatrix} W_{O}^{(1)} \\\\ W_{O}^{(2)} \\\\ W_{O}^{(3)} \\end{bmatrix}$"
      ]
    },
    {
      "cell_type": "markdown",
      "metadata": {
        "id": "CQ69tO1IPsBQ",
        "colab_type": "text"
      },
      "source": [
        "[**Python**] - $(X*\\Delta_{O})= (X2*\\Delta_{O})$ para atualizar $W_{O}^{(1)}$:"
      ]
    },
    {
      "cell_type": "code",
      "metadata": {
        "id": "K991veZeXEYL",
        "colab_type": "code",
        "colab": {}
      },
      "source": [
        "X2.T.dot(Delta_O)[0]"
      ],
      "execution_count": 0,
      "outputs": []
    },
    {
      "cell_type": "markdown",
      "metadata": {
        "colab_type": "text",
        "id": "hz-0fQAGd7Aw"
      },
      "source": [
        "<img src=\"https://github.com/MathMachado/Materials/blob/master/Atualiza_W3.png?raw=true\" alt=\"Drawing\" width= \"800\"/>"
      ]
    },
    {
      "cell_type": "markdown",
      "metadata": {
        "id": "ovgjM8l6Np0e",
        "colab_type": "text"
      },
      "source": [
        "$$(0.5)\\Delta_{O}^{(0)}+(0.658)\\Delta_{O}^{(1)}+(0.630)\\Delta_{O}^{(2)}+(0.766)\\Delta_{O}^{(3)}$$\n",
        "$$(0.5)(-0.142)+(0.658)(0.091)+(0.630)(0.093)+(0.766)(-0.147)= -0.065$$"
      ]
    },
    {
      "cell_type": "markdown",
      "metadata": {
        "id": "BFaNh6NEXEYO",
        "colab_type": "text"
      },
      "source": [
        "[**Python**] - $(X*\\Delta_{O})= (X2*\\Delta_{O})$ para atualizar $W_{O}^{(2)}$:"
      ]
    },
    {
      "cell_type": "code",
      "metadata": {
        "id": "eomk5j12XEYT",
        "colab_type": "code",
        "colab": {}
      },
      "source": [
        "X2.T.dot(Delta_O)[1]"
      ],
      "execution_count": 0,
      "outputs": []
    },
    {
      "cell_type": "markdown",
      "metadata": {
        "colab_type": "text",
        "id": "M-3gk0erRpSF"
      },
      "source": [
        "<img src=\"https://github.com/MathMachado/Materials/blob/master/Atualiza_W4.png?raw=true\" alt=\"Drawing\" width= \"800\"/>"
      ]
    },
    {
      "cell_type": "markdown",
      "metadata": {
        "id": "hVCFLfWGPE7W",
        "colab_type": "text"
      },
      "source": [
        "$$(0.5)\\Delta_{O}^{(0)}+(0.702)\\Delta_{O}^{(1)}+(0.639)\\Delta_{O}^{(2)}+(0.866)\\Delta_{O}^{(3)}$$\n",
        "$$(0.5)(-0.142)+(0.702)(0.091)+(0.639)(0.093)+(0.806)(-0.147)= -0.067$$"
      ]
    },
    {
      "cell_type": "markdown",
      "metadata": {
        "id": "MK92KMHYXEYV",
        "colab_type": "text"
      },
      "source": [
        "[**Python**] - $(X*\\Delta_{O})= (X2*\\Delta_{O})$ para atualizar $W_{O}^{(3)}$:"
      ]
    },
    {
      "cell_type": "code",
      "metadata": {
        "id": "D05BW8CgXEYc",
        "colab_type": "code",
        "colab": {}
      },
      "source": [
        "X2.T.dot(Delta_O)[2]"
      ],
      "execution_count": 0,
      "outputs": []
    },
    {
      "cell_type": "markdown",
      "metadata": {
        "colab_type": "text",
        "id": "K754V1CSRtii"
      },
      "source": [
        "<img src=\"https://github.com/MathMachado/Materials/blob/master/Atualiza_W5.png?raw=true\" alt=\"Drawing\" width= \"800\"/>"
      ]
    },
    {
      "cell_type": "markdown",
      "metadata": {
        "id": "q51biJ5TPkKX",
        "colab_type": "text"
      },
      "source": [
        "$$(0.5)\\Delta_{O}^{(0)}+(0.646)\\Delta_{O}^{(1)}+(0.632)\\Delta_{O}^{(2)}+(0.758)\\Delta_{O}^{(3)}$$\n",
        "$$(0.5)(-0.142)+(0.646)(0.091)+(0.632)(0.093)+(0.758)(-0.147)= -0.067$$"
      ]
    },
    {
      "cell_type": "markdown",
      "metadata": {
        "colab_type": "text",
        "id": "SaEVJAXGV3Xd"
      },
      "source": [
        "###### Implementação com NumPy\n",
        "\n",
        "* Fórmula para atualização dos pesos $W_{O}$:\n",
        "\n",
        "$$W_{n+1}= W_{n}*M+\\alpha \\frac{\\partial L}{\\partial W_{n}}= W_{n}*M+\\alpha*(X*\\Delta)$$\n"
      ]
    },
    {
      "cell_type": "markdown",
      "metadata": {
        "id": "a7dGpwzfRN2M",
        "colab_type": "text"
      },
      "source": [
        "[**Python**] - Calcular/atualizar os pesos $W_{O}$ através da expressão de $W_{n+1}$:"
      ]
    },
    {
      "cell_type": "code",
      "metadata": {
        "id": "er3DprzjXEYg",
        "colab_type": "code",
        "colab": {}
      },
      "source": [
        "M= 1\n",
        "alpha= 0.1\n",
        "\n",
        "W_O_New= W_O*M+alpha*(X2.T.dot(Delta_O))\n",
        "W_O_New"
      ],
      "execution_count": 0,
      "outputs": []
    },
    {
      "cell_type": "markdown",
      "metadata": {
        "colab_type": "text",
        "id": "0-2weyIriNqN"
      },
      "source": [
        "Abaixo, os pesos atualizados de $W_{O}$:"
      ]
    },
    {
      "cell_type": "markdown",
      "metadata": {
        "colab_type": "text",
        "id": "GLkZfXbmi9c6"
      },
      "source": [
        "<img src=\"https://github.com/MathMachado/Materials/blob/master/New_W3_W4_W5.png?raw=true\" alt=\"Drawing\" width= \"800\"/>"
      ]
    },
    {
      "cell_type": "markdown",
      "metadata": {
        "colab_type": "text",
        "id": "t4fHsSY3AlFi"
      },
      "source": [
        "### _Backpropagation_ - Ajuste dos pesos $W_{H}= \\begin{bmatrix} W_{H}^{(1, 1)} & W_{H}^{(1, 2)} & W_{H}^{(1, 3)} \\\\ W_{H}^{(2, 1)} & W_{H}^{(2, 2)} & W_{H}^{(2, 3)} \\end{bmatrix}$"
      ]
    },
    {
      "cell_type": "markdown",
      "metadata": {
        "colab_type": "text",
        "id": "cCED4NKj1_FX"
      },
      "source": [
        "#### Ajuste dos pesos $W_{H}^{(1, 1)}, W_{H}^{(1, 2)}, W_{H}^{(1, 3)}$\n",
        "\n",
        "Para ajustar os pesos $W_{H}^{(1, 1)}, W_{H}^{(1, 2)}, W_{H}^{(1, 3)}$, precisamos dos valores de $\\Delta_{H}$, calculado anteriormente:\n",
        "\n",
        "* $\\Delta_{H}^{(0)}= [\\Delta_{H}^{(0, 1)}, \\Delta_{H}^{(0, 2)}, \\Delta_{H}^{(0, 3)}]= [-0.009, -0.011, -0.005]$;\n",
        "* $\\Delta_{H}^{(1)}= [\\Delta_{H}^{(((1, 1)}, \\Delta_{H}^{(1, 2)}, \\Delta_{H}^{(1, 3)}]= [0.005, 0.006, 0.003]$;\n",
        "* $\\Delta_{H}^{(2)}= [\\Delta_{H}^{(2, 1)}, \\Delta_{H}^{(2, 2)}, \\Delta_{H}^{(2, 3)}]= [0.005, 0.007, 0.003]$;\n",
        "* $\\Delta_{H}^{(3)}= [\\Delta_{H}^{(3, 1)}, \\Delta_{H}^{(3, 2)}, \\Delta_{H}^{(3, 3)}]= [-0.006, -0.007, -0.004]$.\n",
        "\n",
        "Veja abaixo no NumPy:"
      ]
    },
    {
      "cell_type": "markdown",
      "metadata": {
        "id": "kNHXkTXLRmzu",
        "colab_type": "text"
      },
      "source": [
        "[**Python**] - Mostrar $\\Delta_{H}$:"
      ]
    },
    {
      "cell_type": "code",
      "metadata": {
        "id": "oYxrEVC7XEYn",
        "colab_type": "code",
        "colab": {}
      },
      "source": [
        "Delta_H"
      ],
      "execution_count": 0,
      "outputs": []
    },
    {
      "cell_type": "markdown",
      "metadata": {
        "colab_type": "text",
        "id": "XihSawh-1iKI"
      },
      "source": [
        "##### Resumo dos valores de $(X*\\Delta_{H})$ calculados manualmente:\n",
        "\n",
        "<img src=\"https://github.com/MathMachado/Materials/blob/master/Resumo_Delta_Hidden_Layer.png?raw=true\" alt=\"Drawing\" width= \"800\"/>"
      ]
    },
    {
      "cell_type": "markdown",
      "metadata": {
        "colab_type": "text",
        "id": "DNXt5DAhBiVC"
      },
      "source": [
        "[**Python**] - $(X*\\Delta_{H})$ para atualizar $W_{H}^{(1, 1)}$:"
      ]
    },
    {
      "cell_type": "code",
      "metadata": {
        "id": "06duXU28XEYy",
        "colab_type": "code",
        "colab": {}
      },
      "source": [
        "X.T.dot(Delta_H)"
      ],
      "execution_count": 0,
      "outputs": []
    },
    {
      "cell_type": "markdown",
      "metadata": {
        "colab_type": "text",
        "id": "DTCJ_5O7SeU9"
      },
      "source": [
        "<img src=\"https://github.com/MathMachado/Materials/blob/master/W11.png?raw=true\" alt=\"Drawing\" width= \"800\"/>"
      ]
    },
    {
      "cell_type": "markdown",
      "metadata": {
        "id": "WeJOgJd5P5BS",
        "colab_type": "text"
      },
      "source": [
        "$$(0)\\Delta_{H}^{(0, 1)}+(0)\\Delta_{H}^{(1, 1)}+(1)\\Delta_{H}^{(2, 1)}+(1)\\Delta_{O}^{(3, 1)}$$\n",
        "$$(0)(-0.009)+(0)(0.005)+(1)(0.005)+(1)(-0.006)= -0.001$$"
      ]
    },
    {
      "cell_type": "markdown",
      "metadata": {
        "colab_type": "text",
        "id": "8mbs0ZNTCRKL"
      },
      "source": [
        "[**Python**] - $(X*\\Delta_{H})$ para atualizar $W_{H}^{(1, 2)}$:"
      ]
    },
    {
      "cell_type": "code",
      "metadata": {
        "id": "qF1iFyRWXEY9",
        "colab_type": "code",
        "colab": {}
      },
      "source": [
        "X.T.dot(Delta_H)"
      ],
      "execution_count": 0,
      "outputs": []
    },
    {
      "cell_type": "markdown",
      "metadata": {
        "colab_type": "text",
        "id": "xWkm7eyLSm6I"
      },
      "source": [
        "<img src=\"https://github.com/MathMachado/Materials/blob/master/W12.png?raw=true\" alt=\"Drawing\" width= \"800\"/>"
      ]
    },
    {
      "cell_type": "markdown",
      "metadata": {
        "id": "X9LQgX05Qj8M",
        "colab_type": "text"
      },
      "source": [
        "$$(0)\\Delta_{H}^{(0, 2)}+(0)\\Delta_{H}^{(1, 2)}+(1)\\Delta_{H}^{(2, 2)}+(1)\\Delta_{H}^{(3, 2)}$$\n",
        "$$(0)(-0.011)+(0)(0.006)+(1)(0.007)+(1)(-0.007)= 0$$"
      ]
    },
    {
      "cell_type": "markdown",
      "metadata": {
        "colab_type": "text",
        "id": "oaVbGCATCd7B"
      },
      "source": [
        "[**Python**] - $(X*\\Delta_{H})$ para atualizar $W_{H}^{(1, 3)}$:"
      ]
    },
    {
      "cell_type": "code",
      "metadata": {
        "id": "4UNZFSC5XEZE",
        "colab_type": "code",
        "colab": {}
      },
      "source": [
        "X.T.dot(Delta_H)"
      ],
      "execution_count": 0,
      "outputs": []
    },
    {
      "cell_type": "markdown",
      "metadata": {
        "colab_type": "text",
        "id": "4JHAiH5GSqr0"
      },
      "source": [
        "\n",
        "\n",
        "<img src=\"https://github.com/MathMachado/Materials/blob/master/W13.png?raw=true\" alt=\"Drawing\" width= \"800\"/>"
      ]
    },
    {
      "cell_type": "markdown",
      "metadata": {
        "id": "DDrurArKQ5I_",
        "colab_type": "text"
      },
      "source": [
        "$$(0)\\Delta_{H}^{(0, 3)}+(0)\\Delta_{H}^{(1, 3)}+(1)\\Delta_{H}^{(2, 3)}+(1)\\Delta_{H}^{(3, 3)}$$\n",
        "$$(0)(-0.005)+(0)(0.003)+(1)(0.003)+(1)(-0.004)= -0.001$$"
      ]
    },
    {
      "cell_type": "markdown",
      "metadata": {
        "colab_type": "text",
        "id": "GWwWUfiXXlom"
      },
      "source": [
        "#### Ajuste dos pesos $W_{H}^{(2, 1)}, W_{H}^{(2, 2)}$ e $W_{H}^{(2, 3)}$\n",
        "\n",
        "Para ajustar os pesos $W_{H}^{(1, 1)}, W_{H}^{(1, 2)}, W_{H}^{(1, 3)}$, precisamos dos valores de $\\Delta_{H}$, calculado anteriormente:\n",
        "\n",
        "* $\\Delta_{H}^{(0)}= [\\Delta_{H}^{(0, 1)}, \\Delta_{H}^{(0, 2)}, \\Delta_{H}^{(0, 3)}]= [-0.009, -0.011, -0.005]$;\n",
        "* $\\Delta_{H}^{(1)}= [\\Delta_{H}^{(1, 1)}, \\Delta_{H}^{(1, 2)}, \\Delta_{H}^{(1, 3)}]= [0.005, 0.006, 0.003]$;\n",
        "* $\\Delta_{H}^{(2)}= [\\Delta_{H}^{(2, 1)}, \\Delta_{H}^{(2, 2)}, \\Delta_{H}^{(2, 3)}]= [0.005, 0.007, 0.003]$;\n",
        "* $\\Delta_{H}^{(3)}= [\\Delta_{H}^{(3, 1)}, \\Delta_{H}^{(3, 2)}, \\Delta_{H}^{(3, 3)}]= [-0.006, -0.007, -0.004]$."
      ]
    },
    {
      "cell_type": "markdown",
      "metadata": {
        "id": "DzeytNngSI08",
        "colab_type": "text"
      },
      "source": [
        "[**Python**] - Mostra $\\Delta_{H}$:"
      ]
    },
    {
      "cell_type": "code",
      "metadata": {
        "id": "vfiS9bFqXEZH",
        "colab_type": "code",
        "colab": {}
      },
      "source": [
        "Delta_H"
      ],
      "execution_count": 0,
      "outputs": []
    },
    {
      "cell_type": "markdown",
      "metadata": {
        "colab_type": "text",
        "id": "dSDbe8o8k9yi"
      },
      "source": [
        "##### Resumo de $(X*\\Delta_{H})$ calculados manualmente:\n",
        "\n",
        "<img src=\"https://github.com/MathMachado/Materials/blob/master/Resumo_Delta_Hidden_Layer.png?raw=true\" alt=\"Drawing\" width= \"800\"/>"
      ]
    },
    {
      "cell_type": "markdown",
      "metadata": {
        "colab_type": "text",
        "id": "D6e2ZoMmDLFN"
      },
      "source": [
        "[**Python**] - $(X*\\Delta_{H})$ para atualizar $W_{H}^{(2, 1)}$:"
      ]
    },
    {
      "cell_type": "code",
      "metadata": {
        "id": "SH4yHqoYXEZP",
        "colab_type": "code",
        "colab": {}
      },
      "source": [
        "X.T.dot(Delta_H)"
      ],
      "execution_count": 0,
      "outputs": []
    },
    {
      "cell_type": "markdown",
      "metadata": {
        "colab_type": "text",
        "id": "zORHdsEiXwSw"
      },
      "source": [
        "<img src=\"https://github.com/MathMachado/Materials/blob/master/W21.png?raw=true\" alt=\"Drawing\" width= \"800\"/>"
      ]
    },
    {
      "cell_type": "markdown",
      "metadata": {
        "id": "P11cTnsCRpwj",
        "colab_type": "text"
      },
      "source": [
        "$$(0)\\Delta_{H}^{(0, 1)}+(1)\\Delta_{H}^{(1, 1)}+(0)\\Delta_{H}^{(2, 1)}+(1)\\Delta_{H}^{(3, 1)}$$\n",
        "$$(0)(-0.009)+(1)(0.005)+(0)(0.005)+(1)(-0.006)= -0.001$$"
      ]
    },
    {
      "cell_type": "markdown",
      "metadata": {
        "colab_type": "text",
        "id": "W_LMmSEVDXY7"
      },
      "source": [
        "[**Python**] - $(X*\\Delta_{H})$ para atualizar $W_{H}^{(2, 2)}$:"
      ]
    },
    {
      "cell_type": "code",
      "metadata": {
        "id": "YE4DH6P_XEZZ",
        "colab_type": "code",
        "colab": {}
      },
      "source": [
        "X.T.dot(Delta_H)"
      ],
      "execution_count": 0,
      "outputs": []
    },
    {
      "cell_type": "markdown",
      "metadata": {
        "colab_type": "text",
        "id": "Gz7bhUuDX6Me"
      },
      "source": [
        "<img src=\"https://github.com/MathMachado/Materials/blob/master/W22.png?raw=true\" alt=\"Drawing\" width= \"800\"/>"
      ]
    },
    {
      "cell_type": "markdown",
      "metadata": {
        "id": "OLrwPoE7SGYu",
        "colab_type": "text"
      },
      "source": [
        "$$(0)\\Delta_{H}^{(0, 2)}+(1)\\Delta_{H}^{(1, 2)}+(0)\\Delta_{H}^{(2, 2)}+(1)\\Delta_{H}^{(3, 2)}$$\n",
        "$$(0)(-0.011)+(1)(0.006)+(0)(0.007)+(1)(-0.007)= -0.001$$"
      ]
    },
    {
      "cell_type": "markdown",
      "metadata": {
        "colab_type": "text",
        "id": "vzbUzC8FDhuo"
      },
      "source": [
        "[**Python**] - $(X*\\Delta_{H})$ para atualizar $W_{H}^{(2, 3)}$:"
      ]
    },
    {
      "cell_type": "code",
      "metadata": {
        "id": "7-epl7I3XEZf",
        "colab_type": "code",
        "colab": {}
      },
      "source": [
        "X.T.dot(Delta_H)"
      ],
      "execution_count": 0,
      "outputs": []
    },
    {
      "cell_type": "markdown",
      "metadata": {
        "colab_type": "text",
        "id": "0gT8_uDQX-NT"
      },
      "source": [
        "<img src=\"https://github.com/MathMachado/Materials/blob/master/W23.png?raw=true\" alt=\"Drawing\" width= \"800\"/>"
      ]
    },
    {
      "cell_type": "markdown",
      "metadata": {
        "id": "QLz57OEPSWjl",
        "colab_type": "text"
      },
      "source": [
        "$$(0)\\Delta_{H}^{(0, 3)}+(1)\\Delta_{H}^{(1, 3)}+(0)\\Delta_{H}^{(2, 3)}+(1)\\Delta_{H}^{(3, 3)}$$\n",
        "$$(0)(-0.005)+(1)(0.003)+(0)(0.003)+(1)(-0.004)= -0.001$$"
      ]
    },
    {
      "cell_type": "markdown",
      "metadata": {
        "colab_type": "text",
        "id": "7G9gWkKWIIOL"
      },
      "source": [
        "##### Implementação com NumPy\n",
        "\n",
        "Usando:\n",
        "* M= 1;\n",
        "* $\\alpha= 0.1$;\n",
        "* Fórmula: $W_{n+1}= (W_{n}*M)+\\alpha*(X*\\Delta_{H})$"
      ]
    },
    {
      "cell_type": "markdown",
      "metadata": {
        "id": "5C3NCWcuShqN",
        "colab_type": "text"
      },
      "source": [
        "[**Python**] - Calcular/atualizar os pesos $W_{H}$ usando a expressão $W_{n+1}$:"
      ]
    },
    {
      "cell_type": "code",
      "metadata": {
        "colab_type": "code",
        "id": "Ys_y-R0BL7Iw",
        "colab": {}
      },
      "source": [
        "M= 1\n",
        "alpha= 0.1\n",
        "\n",
        "W_H_New= W_H*M+alpha*(X.T.dot(Delta_H))\n",
        "W_H_New"
      ],
      "execution_count": 0,
      "outputs": []
    },
    {
      "cell_type": "markdown",
      "metadata": {
        "colab_type": "text",
        "id": "IvaIx_PKZEmd"
      },
      "source": [
        "##### Novos Pesos $W_{H}$ e $W_{O}$ da Rede Neural (Antes x Depois)\n",
        "\n",
        "<img src=\"https://github.com/MathMachado/Materials/blob/master/Resumo_Antes_Depois.png?raw=true\" alt=\"Drawing\" width= \"800\"/>\n",
        "\n"
      ]
    },
    {
      "cell_type": "markdown",
      "metadata": {
        "id": "EuO2t22CffE8",
        "colab_type": "text"
      },
      "source": [
        "___\n",
        "# **Como as Redes Neurais aprendem?**\n",
        "\n",
        "> Vimos até agora grande parte dos cálculos matemáticos que envolvem o treinamento das Redes Neurais. Treinar Redes Neurais envolvem a repetição dos processos _Forward_ e _Backward_:\n",
        "\n",
        "1. _Forward_: Consiste na multiplicação de matrizes entre os _arrays_ da _input layer_, pesos $W$ e, na sequência, aplicar as funções de ativação.\n",
        "\n",
        "2. _Backward_: Consiste em atualizar os pesos $W_{O}$ e $W_{H}$ para minimizar a _Loss Function_ $L$ usando _Gradient Descent_.\n",
        "\n",
        "* Estes 2 processos foram vistos detalhadamente em aulas anteriores.\n",
        "    * Cálculos matemáticos passo a passo foram mostrados. Portanto, visite nossas aulas anteriores para aprender mais sobre os aspectos teóricos e matemáticos por trás das Redes Neurais.\n",
        "\n",
        "<img src=\"https://raw.githubusercontent.com/MathMachado/Materials/master/Forward_Backward.png?raw=true\" alt=\"Drawing\" width= \"500\"/>"
      ]
    },
    {
      "cell_type": "markdown",
      "metadata": {
        "id": "mpKyqSuDdbMr",
        "colab_type": "text"
      },
      "source": [
        "___\n",
        "# **_GRADIENT DESCENT_**\n",
        "\n",
        "_Gradient Descent_ é um algoritmo interativo utilizado para otimizar (neste caso, minimizar) a _Loss Function_ $L$. \n",
        "\n",
        "* Minimizar a _Loss Function_ $L$ significa encontrar os pesos $W_{H}$ e $W_{O}$ que faz com que MSE seja o menor possível, pois quanto menor o MSE, melhor a performance da Rede Neural. \n",
        "\n",
        "* Para atualizar os pesos $W$, vamos usar a expressão a seguir:\n",
        "\n",
        "$$W_{n+1}= W_{n}*M+\\alpha \\frac{\\partial L}{\\partial W_{n}}= W_{n}*M+\\alpha*(X*\\Delta)$$\n",
        "\n",
        "onde:\n",
        "\n",
        "* $L$ é a _Loss Function_ a ser minimizada;\n",
        "* $W_{n}$ são os pesos atuais e que deverão ser atualizados para a próxima iteração;\n",
        "* $\\alpha$ é a taxa de aprendizado (_Learning Rate_ em inglês) e diz respeito à velocidade de aprendizagem da Rede Neural.\n",
        "    * Quanto MENOR o valor de $\\alpha$ $\\Longrightarrow$ mais devagar e demorada será a convergência para o mínimo global;\n",
        "    * Quanto MAIOR o valor de $\\alpha$ $\\Longrightarrow$ mais rápido será a convergência para o mínimo, mas sem a garantia de convergência para o mínimo global.\n",
        "* $M$ é o _Momentum_, que é o artifício para acelerar a otimização (ou minimização) da _Loss Function_ $L$.\n",
        "    * Valores altos $\\Longrightarrow$ Aumenta a velocidade da aprendizagem;\n",
        "    * Valores baixos $\\Longrightarrow$ Mais tempo para aprendizagem, mas com maiores chances de se encontrar a solução ótima, evitando os mínimos locais.\n",
        "* $\\frac{\\partial L}{\\partial W_{n}}$ é a derivada da _Loss Function_ $L$ em relação ao peso $W_{n}$. Como dito anteriormente, é a contribuição do peso $W$ no Erro. Calcular $(X*\\Delta)$ é a parte mais complicada da fórmula e fizemos estes cálculos passo a passo em aulas anteriores."
      ]
    },
    {
      "cell_type": "markdown",
      "metadata": {
        "id": "tzuFSOV4eboI",
        "colab_type": "text"
      },
      "source": [
        "Observe a figura a seguir: O que o _Gradient Descent_ fará é encontrar o mínimo global da _loss function_, tentando ao máximo possível evitar os mínimos locais.\n",
        "\n",
        "<img src=\"https://github.com/MathMachado/Materials/blob/master/Local_and_Global_Minima.png?raw=true\" alt=\"Drawing\" width= \"600\"/>"
      ]
    },
    {
      "cell_type": "markdown",
      "metadata": {
        "id": "z-UbiCxUgvHg",
        "colab_type": "text"
      },
      "source": [
        "A seguir, alguns artigos sobre _Gradient Descent_ caso você queira saber um pouco mais sobre o assunto:\n",
        "\n",
        "* [An introduction to Gradient Descent Algorithm](https://medium.com/@montjoile/an-introduction-to-gradient-descent-algorithm-34cf3cee752b) - Abrir este artigo para mostrar os efeitos da _Learning Rate_ e os tipos de _Gradient Descent_ disponíveis para Machine Learning;\n",
        "* [Machine learning : Gradient Descent](https://medium.com/@arshren/gradient-descent-5a13f385d403);\n",
        "* [The Math and Intuition Behind Gradient Descent](https://medium.com/datadriveninvestor/the-math-and-intuition-behind-gradient-descent-13c45f367a11) - Mostra a matemática por trás do _Gradient Descent_;\n",
        "* [An Introduction to Gradient Descent](https://towardsdatascience.com/an-introduction-to-gradient-descent-c9cca5739307);\n",
        "* [Gradient Descent From Scratch](https://towardsdatascience.com/gradient-descent-from-scratch-e8b75fa986cc);\n",
        "* [Gradient Descent Explanation & Implementation](https://towardsdatascience.com/gradient-descent-explanation-implementation-c74005ff7dd1) - Cálculos step-by-step;"
      ]
    },
    {
      "cell_type": "markdown",
      "metadata": {
        "colab_type": "text",
        "id": "junvtVY4eePi"
      },
      "source": [
        "___\n",
        "# **_LOSS FUNCTION_ $L$**\n",
        "\n",
        "> Como vimos anteriormente, nosso objetivo é minimizar a _Loss function_ através do _Gradient Descent_. Em outras palavras, esse processo de otimização busca, à cada iteração (_epoch_), atualizar os pesos $W$ para reduzir a _Loss Function_. As _Loss Function_ mais comuns são:\n",
        "\n",
        "* Regressão: mse ou mae;\n",
        "* Classificação: _cross-entropy_ (quando queremos probabilidades de cada observação pertencer à uma determinada classe).\n",
        "    * Classificação binária: tf.keras.losses.BinaryCrossentropy()\n",
        ";\n",
        "    * Classificação multi-classes: tf.keras.losses.CategoricalCrossentropy()\n",
        "."
      ]
    },
    {
      "cell_type": "markdown",
      "metadata": {
        "colab_type": "text",
        "id": "6e4ULmJheePY"
      },
      "source": [
        "___\n",
        "# **MÉTRICAS PARA MEDIR A PERFORMANCE DAS REDES NEURAIS**\n",
        "\n",
        "* As métricas medem a qualidade das Redes Neurais e as principais são:\n",
        "    * Regressão:\n",
        "        * MAE significa \"_Mean Absolute Error_\";\n",
        "        * MSE - significa \"_Mean Square Error_\", que é a diferença entre os valores reais $Y_{i}$ e os valores previstos (ou calculados) $\\hat{Y}_{i}$:\n",
        "        * RMSE - significa \"_Root Mean Square Error_\".\n",
        "    * Classificação:\n",
        "        * Accuracy\n",
        "* Quanto mais próximo de 0 estiver MAE, MSE ou RMSE, melhor a Rede Neural. Quanto maior a accuracy, melhor a Rede Neural.\n",
        "\n",
        "\\begin{align}\n",
        "MSE &= \\frac{\\sum_{i=1}^{n}(Y_{i}-\\hat{Y}_{i})^{2}}{n} \\\\\n",
        "RMSE &= \\sqrt{MSE} \\\\\n",
        "MAE &= \\frac{\\sum_{i=1}^{n}|Y_{i}-\\hat{Y}_{i}|}{n}\n",
        "\\end{align}\n",
        "\n",
        "Para os alunos que estão com dúvidas sobre qual métrica usar, sugiro a leitura do artigo [MAE and RMSE — Which Metric is Better?](https://medium.com/human-in-a-machine-world/mae-and-rmse-which-metric-is-better-e60ac3bde13d)."
      ]
    },
    {
      "cell_type": "markdown",
      "metadata": {
        "colab_type": "text",
        "id": "6n4QjH1WeeO8"
      },
      "source": [
        "___\n",
        "# **_DROPOUT_**\n",
        "\n",
        "> _Dropout_ significa ignorar aleatoriamente e temporariamente um percentual $p$ de neurônios durante a fase de treinamento. Ao \"ignorar\", quero dizer que tais neurônios não serão considerados durante os processos _forward_ e _backpropagation_.\n",
        "\n",
        "* _Dropout_ força que a Rede Neural aprenda a partir dos dados, mas usando diferentes e aleatórios neurônios;\n",
        "* Recomenda-se $p = 0.20$. \n",
        "* Ao se usar _Dropout_, recomenda-se mais épocas para treinar a Redes Neurais;\n",
        "\n",
        "* Vantagens:\n",
        "    * Evita _overfitting_ - Num \"_fully connected layer_\", neurônios desenvolvem dependência durante a fase de treinamento levando ao _overfitting_. Com _dropout_ é possível reduzir um pouco desta dependência, reduzindo as chances de _overfitting_;\n",
        "\n",
        "![Dropout](https://github.com/MathMachado/Materials/blob/master/Dropout.png?raw=true)\n",
        "\n",
        "Fonte: [Dropout in (Deep) Machine learning](https://medium.com/@amarbudhiraja/https-medium-com-amarbudhiraja-learning-less-to-learn-better-_dropout_-in-deep-machine-learning-74334da4bfc5).\n",
        "\n",
        "\n",
        "\n",
        "\n",
        "https://machinelearningmastery.com/dropout-regularization-deep-learning-models-keras/\n",
        "\n",
        "https://towardsdatascience.com/a-guide-to-neural-network-layers-with-applications-in-keras-40ccb7ebb57a\n",
        "\n",
        "\n",
        "TEMPLATE: keras.layers.Dropout(rate, noise_shape=None, seed=None)\n",
        "\n"
      ]
    },
    {
      "cell_type": "markdown",
      "metadata": {
        "colab_type": "text",
        "id": "9-9Y9562kNNU"
      },
      "source": [
        "___\n",
        "# **Rede Neural multicamada (1 _Hidden Layer_) para o Operador Lógico XOR usando _Tensorflow_/_Keras_**\n",
        "\n",
        "* **Observações**:\n",
        "    * Há vários artigos (no _medium_, por exemplo) a discutir e desenvolver Redes Neurais para o Operador Lógico XOR. Então porque eu decidi produzir esta aula usando o dataframe do Operador Lógico XOR?\n",
        "        * Para explicar didaticamente e passo a passo todos os aspectos matemáticos por trás das Redes Neurais usando um dataframe pequeno e, apesar disso, complexo, pois é um problema linearmente NÃO-separável e, sendo assim, requer uma Rede Neural mais complexa (com pelo menos 1 _Hidden Layer_) para melhorar a acurácia e reduzir a _loss_;\n",
        "        * Para explicar como é fácil desenvolver Redes Neurais usando Tensorflow/Keras;\n",
        "        * Para explicar didaticamente e passo a passo os processos _Forward_ e _Backward_ para treinar Redes Neurais;\n",
        "    * Versão do Tensorflow usada: 2.x;\n",
        "    * Estou a utilizar o Google Colab;\n",
        "    * Nesta aula, não se preocupe demasiadamente com a sintaxe dos comandos. Porque?\n",
        "        * Vamos repetir tudo detalhadamente nas próximas aulas. Portanto, você terá a oportunidade de aprender e praticar muito em breve;\n",
        "        * O objetivo desta aula é simplesmente fazer uma introdução às Redes Neurais, Tensorflow/Keras e mostrar os passos/processos que vamos seguir aqui e no futuro para desenvolver Redes Neurais. Quando você assistir as aulas subsequentes, tudo ficará mais claro.\n",
        "* Todas as aulas do curso de Redes Neurais foram cuidadosamente planejadas e preparadas para trazer conteúdos relevantes para você aprender Redes Neurais no menor tempo possível. Portanto, nesta aula você vai encontrar várias linhas como a linha adiante:\n",
        "\n",
        "[**Python**] - Comando ou _code_ que deve ser executado.\n",
        "\n",
        "Estas linhas são uma espécie de _guide_ para não nos esquecermos de nenhum detalhe da aula. \n",
        "\n"
      ]
    },
    {
      "cell_type": "markdown",
      "metadata": {
        "id": "rOQbXbCgZZRL",
        "colab_type": "text"
      },
      "source": [
        "A seguir, dataframe do Operador Lógico XOR:\n",
        "\n",
        "| i | $X_{1}$ | $X_{2}$ | ValorReal ($Y_{i}$)|\n",
        "|---|---|---|---|\n",
        "| 0 | 0 | 0 | 0 |\n",
        "| 1 | 0 | 1 | 1 |\n",
        "| 2 | 1 | 0 | 1 |\n",
        "| 3 | 1 | 1 | 0 |"
      ]
    },
    {
      "cell_type": "markdown",
      "metadata": {
        "id": "KusCpN1S4CtH",
        "colab_type": "text"
      },
      "source": [
        "Vamos obedecer os _steps_ a seguir para construir nossa Rede Neural:\n",
        "\n",
        "1. Carregar as bibliotecas do Python e Tensorflow;\n",
        "2. Carregar os dados para treinar a Rede Neural;\n",
        "3. Definir a arquitetura da Rede Neural com Tensorflow/Keras;\n",
        "4. Compilar a Rede Neural;\n",
        "5. Ajustar a Rede Neural;\n",
        "6. Avaliar a performance da Rede Neural;\n",
        "7. _Fine tuning_ da Rede Neural;\n",
        "8. Fazer Predições com a Rede Neural;\n",
        "9. Conclusões."
      ]
    },
    {
      "cell_type": "markdown",
      "metadata": {
        "id": "mq7pF8854cf6",
        "colab_type": "text"
      },
      "source": [
        "### 1. Carregar as bibliotecas do Python e Tensorflow"
      ]
    },
    {
      "cell_type": "markdown",
      "metadata": {
        "id": "Br4REluttJXH",
        "colab_type": "text"
      },
      "source": [
        "[**Python**] - Importar as bibliotecas necessárias:"
      ]
    },
    {
      "cell_type": "code",
      "metadata": {
        "id": "W-1jl_vnP7n3",
        "colab_type": "code",
        "colab": {}
      },
      "source": [
        "import numpy as np\n",
        "import pandas as pd\n",
        "import tensorflow as tf\n",
        "from tensorflow import keras"
      ],
      "execution_count": 0,
      "outputs": []
    },
    {
      "cell_type": "markdown",
      "metadata": {
        "colab_type": "text",
        "id": "UA_bHIYOrNwy"
      },
      "source": [
        "[**Python**] - Verificar a versão do Tensorflow\n",
        "> Assegurar que está a utilizar a versão 2.x."
      ]
    },
    {
      "cell_type": "code",
      "metadata": {
        "id": "ApSwaqVbQVGx",
        "colab_type": "code",
        "colab": {}
      },
      "source": [
        "tf.__version__"
      ],
      "execution_count": 0,
      "outputs": []
    },
    {
      "cell_type": "markdown",
      "metadata": {
        "id": "CH37RXFLtPpB",
        "colab_type": "text"
      },
      "source": [
        "[**Python**] - Definir o número de casas decimais= 3"
      ]
    },
    {
      "cell_type": "code",
      "metadata": {
        "id": "Pzdu5btatTom",
        "colab_type": "code",
        "colab": {}
      },
      "source": [
        "np.set_printoptions(precision= 3)"
      ],
      "execution_count": 0,
      "outputs": []
    },
    {
      "cell_type": "markdown",
      "metadata": {
        "id": "5YbKhVkd4sm2",
        "colab_type": "text"
      },
      "source": [
        "### 2. Carregar os dados para treinar a Rede Neural\n",
        "\n",
        "Segue abaixo o dataframe do Operador Lógico XOR:\n",
        "\n",
        "| i | $X_{1}$ | $X_{2}$ | ValorReal ($Y_{i}$)|\n",
        "|---|---|---|---|\n",
        "| 0 | 0 | 0 | 0 |\n",
        "| 1 | 0 | 1 | 1 |\n",
        "| 2 | 1 | 0 | 1 |\n",
        "| 3 | 1 | 1 | 0 |"
      ]
    },
    {
      "cell_type": "markdown",
      "metadata": {
        "id": "3uojCCMaWgtI",
        "colab_type": "text"
      },
      "source": [
        "[**Python**] - Definir as entradas (_inputs_) $X$:"
      ]
    },
    {
      "cell_type": "code",
      "metadata": {
        "id": "nTbtpKKdQh9M",
        "colab_type": "code",
        "colab": {}
      },
      "source": [
        "X_XOR= np.array([[0, 0], [0, 1], [1, 0], [1, 1]])\n",
        "X_XOR"
      ],
      "execution_count": 0,
      "outputs": []
    },
    {
      "cell_type": "markdown",
      "metadata": {
        "id": "7hc1pYW-WsCp",
        "colab_type": "text"
      },
      "source": [
        "[**Python**] - Definir os _Outputs_ $Y$:"
      ]
    },
    {
      "cell_type": "code",
      "metadata": {
        "id": "Gj4zl-JdQ0nR",
        "colab_type": "code",
        "colab": {}
      },
      "source": [
        "Y_XOR= np.array([[0], [1], [1], [0]])\n",
        "Y_XOR"
      ],
      "execution_count": 0,
      "outputs": []
    },
    {
      "cell_type": "markdown",
      "metadata": {
        "id": "2WF73gTMZtN-",
        "colab_type": "text"
      },
      "source": [
        "### 3. Conceito importante: _Fully connected layer_\n",
        "\n",
        "> A arquitetura da Rede Neural abaixo é dita _fully connected_, ou seja, os neurônios da camada anterior se conecta com todos os neurônios da camada subsequente. Observe a figura a seguir:\n",
        "\n",
        "<img src=\"https://github.com/MathMachado/Materials/blob/master/RNA_Multicamada.png?raw=true\" alt=\"Drawing\" width= \"800\"/>"
      ]
    },
    {
      "cell_type": "markdown",
      "metadata": {
        "id": "7X5eys3mxsl2",
        "colab_type": "text"
      },
      "source": [
        "#### Arquitetura da Rede Neural\n",
        "\n",
        "> A seguir, a arquitetura da Rede Neural que vamos desenvolver neste exemplo:\n",
        "\n",
        "<img src=\"https://github.com/MathMachado/Materials/blob/master/RNA_Generic1.png?raw=true\" alt=\"Drawing\" width= \"800\"/>"
      ]
    },
    {
      "cell_type": "markdown",
      "metadata": {
        "id": "QpmtGEFgWzhk",
        "colab_type": "text"
      },
      "source": [
        "[**Python**] - Definir a arquitetura, ou seja:\n",
        "* $N_{I}$: Número de neurônios na camada de entrada (_Input Layer_);\n",
        "* $N_{O}$: Número de neurônios na camada de saída (_Output Layer_);\n",
        "* $N_{H}$: Número de neurônios na camada escondida (_Hidden Layer_);\n",
        "* FA: Função de ativação:\n",
        "    * _Hidden Layer_: Há várias opções que podem ser usadas, mas vou tentar resolver este exemplo com a função de ativação _Sigmoid_, que foi a função de ativação que foi a opção escolhida quando explicamos Redes Neurais passo a passo.\n",
        "    * _Output Layer_: Os valores de $Y_{i}$ do dataframe são binários. Portanto, nossa opção para função de ativação para a _Output Layer_ é usar a função de ativação _Sigmoid_."
      ]
    },
    {
      "cell_type": "code",
      "metadata": {
        "id": "Id_P910LRRb4",
        "colab_type": "code",
        "colab": {}
      },
      "source": [
        "# Número de Neurônios na Input Layer:\n",
        "N_I= 2\n",
        "\n",
        "# Número de neurônios na Output Layer:\n",
        "N_O= 1\n",
        "\n",
        "# Número de neurônios na Hidden Layer:\n",
        "N_H= 3\n",
        "\n",
        "# Função de Ativação da Hidden Layer:\n",
        "FA_H= tf.keras.activations.sigmoid\n",
        "\n",
        "# Função de Ativação da Output Layer\n",
        "FA_O= tf.keras.activations.sigmoid"
      ],
      "execution_count": 0,
      "outputs": []
    },
    {
      "cell_type": "markdown",
      "metadata": {
        "id": "n6s9RcjLXqQm",
        "colab_type": "text"
      },
      "source": [
        "[**Python**] - Definir as sementes para NumPy e Tensorflow:\n",
        "> Por questões de reproducibilidade de resultados, use as sementes abaixo:\n",
        "\n",
        "* NumPy: 20111974;\n",
        "* Tensorflow: 20111974;"
      ]
    },
    {
      "cell_type": "code",
      "metadata": {
        "id": "3DizOTqQR6-U",
        "colab_type": "code",
        "colab": {}
      },
      "source": [
        "np.random.seed(20111974)\n",
        "tf.random.set_seed(20111974)"
      ],
      "execution_count": 0,
      "outputs": []
    },
    {
      "cell_type": "markdown",
      "metadata": {
        "id": "vdcdcNncYB15",
        "colab_type": "text"
      },
      "source": [
        "[**Python**] - Definir a Rede Neural:"
      ]
    },
    {
      "cell_type": "markdown",
      "metadata": {
        "id": "E8KJ0f70HEwN",
        "colab_type": "text"
      },
      "source": [
        "**Observação**:\n",
        "\n",
        "* A opção kernel_constraint= tf.keras.constraints.UnitNorm() será utilizada para reduzir _overfitting_, conforme sugere o artigo [How to Reduce Overfitting Using Weight Constraints in Keras](https://machinelearningmastery.com/how-to-reduce-overfitting-in-deep-neural-networks-with-weight-constraints-in-keras/);."
      ]
    },
    {
      "cell_type": "code",
      "metadata": {
        "id": "-LYbXfEZYNcC",
        "colab_type": "code",
        "colab": {}
      },
      "source": [
        "from tensorflow.keras import Sequential\n",
        "from tensorflow.keras.layers import Dense\n",
        "\n",
        "RN= Sequential()\n",
        "RN.add(Dense(units= N_H, input_dim= N_I, activation= FA_H, kernel_constraint= tf.keras.constraints.UnitNorm()))\n",
        "RN.add(Dense(units= N_O, activation= FA_O))\n",
        "\n",
        "# Resumo da arquitetura da Rede Neural:\n",
        "print(RN.summary())"
      ],
      "execution_count": 0,
      "outputs": []
    },
    {
      "cell_type": "markdown",
      "metadata": {
        "id": "OoA-_8A55jMW",
        "colab_type": "text"
      },
      "source": [
        "### 4. Compilar a Rede Neural\n",
        "\n",
        "> Adam é um algoritmo de otimização.\n",
        "\n",
        "Para saber mais sobre o algoritmo de otimização 'adam', consulte o artigo [Gentle Introduction to the Adam Optimization Algorithm for Deep Learning](https://machinelearningmastery.com/adam-optimization-algorithm-for-deep-learning/).\n",
        "\n"
      ]
    },
    {
      "cell_type": "markdown",
      "metadata": {
        "id": "ifkjrCT6Yki6",
        "colab_type": "text"
      },
      "source": [
        "[**Python**] - Comando modelo.compile(optimizer, loss, metrics):\n"
      ]
    },
    {
      "cell_type": "code",
      "metadata": {
        "id": "OdIerBPAUGbY",
        "colab_type": "code",
        "colab": {}
      },
      "source": [
        "Algoritmo_Opt= tf.keras.optimizers.Adam()\n",
        "Loss_Function= tf.keras.losses.MeanSquaredError()\n",
        "Metrics_Perf= [tf.keras.metrics.binary_accuracy]\n",
        "\n",
        "RN.compile(optimizer= Algoritmo_Opt, loss= Loss_Function, metrics= Metrics_Perf)"
      ],
      "execution_count": 0,
      "outputs": []
    },
    {
      "cell_type": "markdown",
      "metadata": {
        "id": "KVx2w28c5urj",
        "colab_type": "text"
      },
      "source": [
        "### 5. Ajustar a Rede Neural\n",
        "\n",
        "* 1 _Epoch_ = 1 iteração da Rede Neural, passando por todo o dataframe de treinamento, sendo que 1 iteração contempla 1 processo _Forward_ e 1 processo _Backward_."
      ]
    },
    {
      "cell_type": "markdown",
      "metadata": {
        "id": "ZV3XwUJ8YvxE",
        "colab_type": "text"
      },
      "source": [
        "[**Python**] - Comando modelo.fit(X_Treinamento, Y_Treinamento, epochs):"
      ]
    },
    {
      "cell_type": "code",
      "metadata": {
        "id": "45inZ8X3U0Ew",
        "colab_type": "code",
        "colab": {}
      },
      "source": [
        "hist= RN.fit(X_XOR, Y_XOR, epochs= 100)"
      ],
      "execution_count": 0,
      "outputs": []
    },
    {
      "cell_type": "markdown",
      "metadata": {
        "id": "i1bUiekR5q1E",
        "colab_type": "text"
      },
      "source": [
        "### 6. Avaliar a performance da Rede Neural"
      ]
    },
    {
      "cell_type": "markdown",
      "metadata": {
        "id": "wBp4ctbKY8k7",
        "colab_type": "text"
      },
      "source": [
        "[**Python**] - Comando modelo.evaluate(X_Teste, Y_Teste):"
      ]
    },
    {
      "cell_type": "code",
      "metadata": {
        "id": "M4HlrjjjVLjB",
        "colab_type": "code",
        "colab": {}
      },
      "source": [
        "RN.evaluate(X_XOR, Y_XOR)"
      ],
      "execution_count": 0,
      "outputs": []
    },
    {
      "cell_type": "markdown",
      "metadata": {
        "id": "iPwANO05VT5m",
        "colab_type": "text"
      },
      "source": [
        "**Resultado**: O modelo _baseline_ (modelo inicial) apresenta os seguintes resultados:\n",
        "* loss= 0.2515;\n",
        "* accuracy= 50%.\n",
        "\n",
        "* **Comentário**: A Rede Neural apresenta resultados insatisfatórios."
      ]
    },
    {
      "cell_type": "markdown",
      "metadata": {
        "id": "lD2pw9H754ZZ",
        "colab_type": "text"
      },
      "source": [
        "### 7. _Fine tuning_ da Rede Neural\n",
        "\n",
        "Antes de falarmos de _fine tuning_, vamos voltar a falar de CRISP-DM:\n",
        "\n",
        "CRISP-DM significa _Cross Industry Standard Process for Data Mining_ ou processos ou fases para desenvolvimento de projetos relacionados à _Data Mining_ e que tem sido muito utilizados pelos Cientistas de Dados para desenvolvimento de modelos predictivos.\n",
        "\n",
        "<img src=\"https://github.com/MathMachado/Materials/blob/master/CRISP-DM.png?raw=true\" alt=\"Drawing\" width= \"600\"/>\n",
        "\n",
        "Fonte: [The steps to a successful machine learning project](https://emba.epfl.ch/2018/04/10/steps-successful-machine-learning-project/)\n"
      ]
    },
    {
      "cell_type": "markdown",
      "metadata": {
        "id": "1ssJuKF3FNA3",
        "colab_type": "text"
      },
      "source": [
        "* CRISP-DM:\n",
        "    1. _Business Understanding_ (Entendimento do Negócio)\n",
        "        * Concentra-se no entendimento dos objetivos e requisitos do projeto sob uma perspectiva de negócios e, em seguida, na conversão desse conhecimento em uma definição de problema de mineração de dados e em um plano preliminar.\n",
        "\n",
        "    2. _Data Understanding_ (Entendimento/compreensão dos dados)\n",
        "        * Está relacionado com as atividades de extração de amostras para se familiarizar com os dados, identificar problemas de qualidade, descobrir as primeiras idéias ou detectar subconjuntos interessantes para formar hipóteses de informações ocultas.\n",
        "\n",
        "    3. _Data Preparation_ (Preparação de Dados)\n",
        "\n",
        "        * Abrange todas as atividades para construir o conjunto de dados final que será dividida entre amostra de treinamento e validação do modelo preditivo.\n",
        "\n",
        "    4. _Modeling_ (Modelagem)\n",
        "\n",
        "        * Nesta fase se avalia as possíveis técnicas que podem ser aplicadas.\n",
        "\n",
        "    5. _Evaluation_ (Avaliação do modelo)\n",
        "\n",
        "        * Após a construção do modelo _baseline_ (modelo inicial) e tendo _Loss Function_ pré-definidas, avalia-se ou testa-se a performance dos modelos preditivos (Redes Neurais, no nosso caso) para garantir que o modelo generaliza. De todos os modelos testados nesta fase, devemos selecionar o modelo campeão.\n",
        "\n",
        "    6. _Deployment_ (Implantação)\n",
        "\n",
        "        * Significa implementar o código do modelo em um sistema operacional para pontuar/escorar ou categorizar novos dados à medida que surgem e criar um mecanismo para o uso dessas novas informações na solução do problema comercial original. Importante, a representação de código também deve incluir todas as etapas de preparação de dados que antecederam a modelagem, para que o modelo trate novos dados brutos da mesma maneira que durante o desenvolvimento do modelo."
      ]
    },
    {
      "cell_type": "markdown",
      "metadata": {
        "id": "VrgiPmD3jw_o",
        "colab_type": "text"
      },
      "source": [
        "#### Estratégias para melhorar a acurácia da Rede Neural\n",
        "\n",
        "Nossas alternativas são:\n",
        "\n",
        "* a. Aumentar o número de neurônios na _Hidden Layer_;\n",
        "* b. Aumentar o número de _Hidden Layers_;\n",
        "* c. Aumentar o número de _Hidden Layers_ e o número de neurônios;\n",
        "* d. Alterar a função de ativação;\n",
        "* e. Aumentar o número de _epochs_;\n",
        "* f. Alterar o algoritmo de otimização (_optimizer_);\n",
        "\n",
        "Neste exemplo, depois de várias tentativas, obtive sucesso alterando os parâmetros a seguir: \n",
        "* Função de ativação: alterar para tf.keras.activations.relu;\n",
        "* Número de neurônios na camada escondida (_Hidden Layer_): aumentei para 64."
      ]
    },
    {
      "cell_type": "markdown",
      "metadata": {
        "id": "V81AQ9t8IA9D",
        "colab_type": "text"
      },
      "source": [
        "#### 7.3. Definir a arquitetura da Rede Neural com Tensorflow/Keras"
      ]
    },
    {
      "cell_type": "markdown",
      "metadata": {
        "colab_type": "text",
        "id": "yVhR55OoaWeX"
      },
      "source": [
        "[**Python**] - Definir a arquitetura, ou seja:\n",
        "* $N_{I}$: Número de neurônios na camada de entrada (_Input Layer_);\n",
        "* $N_{O}$: Número de neurônios na camada de saída (_Output Layer_);\n",
        "* $N_{H}$: Número de neurônios na camada escondida (_Hidden Layer_);\n",
        "* FA: Função de ativação:\n",
        "    * _Hidden Layer_: tf.keras.activations.relu;\n",
        "    * _Output Layer_: Os valores de $Y_{i}$ do dataframe são binários. Portanto, nossa opção para função de ativação para a _Output Layer_ é usar a função de ativação _Sigmoid_."
      ]
    },
    {
      "cell_type": "code",
      "metadata": {
        "colab_type": "code",
        "id": "R26Rf7x_aWeZ",
        "colab": {}
      },
      "source": [
        "# Número de Neurônios na Input Layer:\n",
        "N_I= 2 # NÃO FOI ALTERADA!\n",
        "\n",
        "# Número de neurônios na Output Layer:\n",
        "N_O= 1 # NÃO FOI ALTERADA!\n",
        "\n",
        "# VARIÁVEIS ALTERADAS:\n",
        "# Número de neurônios na Hidden Layer:\n",
        "N_H= 64\n",
        "\n",
        "# Função de Ativação da Hidden Layer:\n",
        "FA_H= tf.keras.activations.relu\n",
        "\n",
        "# Função de Ativação da Output Layer\n",
        "FA_O= tf.keras.activations.sigmoid"
      ],
      "execution_count": 0,
      "outputs": []
    },
    {
      "cell_type": "markdown",
      "metadata": {
        "colab_type": "text",
        "id": "LtQXjYnvIdJR"
      },
      "source": [
        "[**Python**] - Definir as sementes para NumPy e Tensorflow:\n",
        "> Por questões de reproducibilidade de resultados, use as sementes abaixo:\n",
        "\n",
        "* NumPy: 20111974;\n",
        "* Tensorflow: 20111974;"
      ]
    },
    {
      "cell_type": "code",
      "metadata": {
        "colab_type": "code",
        "id": "WSCCZ6BcIdJZ",
        "colab": {}
      },
      "source": [
        "np.random.seed(20111974)\n",
        "tf.random.set_seed(20111974)"
      ],
      "execution_count": 0,
      "outputs": []
    },
    {
      "cell_type": "markdown",
      "metadata": {
        "colab_type": "text",
        "id": "MwjdTXWNawSz"
      },
      "source": [
        "[**Python**] - Definir a Rede Neural:"
      ]
    },
    {
      "cell_type": "markdown",
      "metadata": {
        "colab_type": "text",
        "id": "OWpJNRQjIRA4"
      },
      "source": [
        "**Observações**: \n",
        "\n",
        "Para evitar problemas relacionados ao _overfitting_ e _Vanishing or Exploding Gradients in Deep Neural Nets_, os artigos abaixo sugerem as seguintes opções para inicialização dos pesos $W$:\n",
        "\n",
        "* [How to Reduce Overfitting Using Weight Constraints in Keras](https://machinelearningmastery.com/how-to-reduce-overfitting-in-deep-neural-networks-with-weight-constraints-in-keras/) sugere:\n",
        "    * kernel_constraint= tf.keras.constraints.UnitNorm();\n",
        "* [Deep Learning Best Practices (1) — Weight Initialization](https://medium.com/usf-msds/deep-learning-best-practices-1-weight-initialization-14e5c0295b94) sugere:\n",
        "    * kernel_initializer= tf.keras.initializers.he_normal() para activation= 'tf.nn.relu' ou 'tf.nn.leaky_relu' e kernel_constraint= tf.keras.constraints.UnitNorm();\n",
        "* [Vanishing/ Exploding Gradients in Deep Neural Nets and solving them](https://medium.com/swlh/vanishing-exploding-gradients-in-deep-neural-nets-and-solving-them-9d6070f28b29) sugere:\n",
        "    * kernel_initializer= tf.keras.initializers.GlorotUniform();\n",
        "    * kernel_initializer= tf.keras.initializers.GlorotNormal()."
      ]
    },
    {
      "cell_type": "code",
      "metadata": {
        "colab_type": "code",
        "id": "khod_vL5awS2",
        "outputId": "d8442a44-3428-4509-c3d2-dd233804f51a",
        "colab": {
          "base_uri": "https://localhost:8080/",
          "height": 243
        }
      },
      "source": [
        "from tensorflow.keras import Sequential\n",
        "from tensorflow.keras.layers import Dense\n",
        "from tensorflow.keras.layers import Dropout\n",
        "\n",
        "RN= Sequential()\n",
        "RN.add(Dense(units= N_H, input_dim= N_I, activation= FA_H, kernel_constraint= tf.keras.constraints.UnitNorm()))\n",
        "RN.add(Dense(units= N_O, activation= FA_O))\n",
        "\n",
        "print(RN.summary())"
      ],
      "execution_count": 0,
      "outputs": [
        {
          "output_type": "stream",
          "text": [
            "Model: \"sequential_13\"\n",
            "_________________________________________________________________\n",
            "Layer (type)                 Output Shape              Param #   \n",
            "=================================================================\n",
            "dense_26 (Dense)             (None, 64)                192       \n",
            "_________________________________________________________________\n",
            "dense_27 (Dense)             (None, 1)                 65        \n",
            "=================================================================\n",
            "Total params: 257\n",
            "Trainable params: 257\n",
            "Non-trainable params: 0\n",
            "_________________________________________________________________\n",
            "None\n"
          ],
          "name": "stdout"
        }
      ]
    },
    {
      "cell_type": "markdown",
      "metadata": {
        "colab_type": "text",
        "id": "8V5EygkgIRA8"
      },
      "source": [
        "#### 7.4. Compilar a Rede Neural\n",
        "\n",
        "> Adam é um algoritmo de otimização.\n",
        "\n",
        "Para saber mais sobre 'adam', consulte o artigo [Gentle Introduction to the Adam Optimization Algorithm for Deep Learning](https://machinelearningmastery.com/adam-optimization-algorithm-for-deep-learning/).\n",
        "\n"
      ]
    },
    {
      "cell_type": "markdown",
      "metadata": {
        "colab_type": "text",
        "id": "aEgVJAInbFW0"
      },
      "source": [
        "[**Python**] - Comando modelo.compile(optimizer, loss, metrics):\n"
      ]
    },
    {
      "cell_type": "code",
      "metadata": {
        "id": "FRhAlexLW29o",
        "colab_type": "code",
        "colab": {}
      },
      "source": [
        "Algoritmo_Opt= tf.keras.optimizers.Adam()\n",
        "Loss_Function= tf.keras.losses.MeanSquaredError()\n",
        "Metrics_Perf= [tf.keras.metrics.binary_accuracy]\n",
        "\n",
        "RN.compile(optimizer= Algoritmo_Opt, loss= Loss_Function, metrics= Metrics_Perf)"
      ],
      "execution_count": 0,
      "outputs": []
    },
    {
      "cell_type": "markdown",
      "metadata": {
        "colab_type": "text",
        "id": "jxpOHzSKIRA-"
      },
      "source": [
        "#### 7.5. Ajustar a Rede Neural\n",
        "\n",
        "1 _Epoch_ = 1 iteração da Rede Neural, passando por todo o dataframe de treinamento, sendo que 1 iteração contempla 1 processo _Forward_ e 1 processo _Backward_."
      ]
    },
    {
      "cell_type": "markdown",
      "metadata": {
        "colab_type": "text",
        "id": "o-1iqXLabR4O"
      },
      "source": [
        "[**Python**] - Comando modelo.fit(X_Treinamento, Y_Treinamento, epochs):"
      ]
    },
    {
      "cell_type": "code",
      "metadata": {
        "id": "vqyeqpq5XGAm",
        "colab_type": "code",
        "outputId": "ea87f9c8-447c-4e81-ec2f-364af106e76a",
        "colab": {
          "base_uri": "https://localhost:8080/",
          "height": 1000
        }
      },
      "source": [
        "RN.fit(X_XOR, Y_XOR, epochs= 100)"
      ],
      "execution_count": 0,
      "outputs": [
        {
          "output_type": "stream",
          "text": [
            "Epoch 1/100\n",
            "1/1 [==============================] - 0s 1ms/step - loss: 0.2581 - binary_accuracy: 0.5000\n",
            "Epoch 2/100\n",
            "1/1 [==============================] - 0s 984us/step - loss: 0.2617 - binary_accuracy: 0.2500\n",
            "Epoch 3/100\n",
            "1/1 [==============================] - 0s 1ms/step - loss: 0.2601 - binary_accuracy: 0.2500\n",
            "Epoch 4/100\n",
            "1/1 [==============================] - 0s 4ms/step - loss: 0.2585 - binary_accuracy: 0.2500\n",
            "Epoch 5/100\n",
            "1/1 [==============================] - 0s 1ms/step - loss: 0.2570 - binary_accuracy: 0.2500\n",
            "Epoch 6/100\n",
            "1/1 [==============================] - 0s 911us/step - loss: 0.2555 - binary_accuracy: 0.2500\n",
            "Epoch 7/100\n",
            "1/1 [==============================] - 0s 1ms/step - loss: 0.2541 - binary_accuracy: 0.2500\n",
            "Epoch 8/100\n",
            "1/1 [==============================] - 0s 2ms/step - loss: 0.2527 - binary_accuracy: 0.0000e+00\n",
            "Epoch 9/100\n",
            "1/1 [==============================] - 0s 2ms/step - loss: 0.2513 - binary_accuracy: 0.5000\n",
            "Epoch 10/100\n",
            "1/1 [==============================] - 0s 2ms/step - loss: 0.2500 - binary_accuracy: 0.5000\n",
            "Epoch 11/100\n",
            "1/1 [==============================] - 0s 2ms/step - loss: 0.2488 - binary_accuracy: 0.5000\n",
            "Epoch 12/100\n",
            "1/1 [==============================] - 0s 2ms/step - loss: 0.2475 - binary_accuracy: 0.5000\n",
            "Epoch 13/100\n",
            "1/1 [==============================] - 0s 2ms/step - loss: 0.2462 - binary_accuracy: 0.5000\n",
            "Epoch 14/100\n",
            "1/1 [==============================] - 0s 2ms/step - loss: 0.2449 - binary_accuracy: 0.5000\n",
            "Epoch 15/100\n",
            "1/1 [==============================] - 0s 2ms/step - loss: 0.2437 - binary_accuracy: 0.5000\n",
            "Epoch 16/100\n",
            "1/1 [==============================] - 0s 2ms/step - loss: 0.2424 - binary_accuracy: 0.5000\n",
            "Epoch 17/100\n",
            "1/1 [==============================] - 0s 2ms/step - loss: 0.2411 - binary_accuracy: 0.5000\n",
            "Epoch 18/100\n",
            "1/1 [==============================] - 0s 2ms/step - loss: 0.2397 - binary_accuracy: 0.5000\n",
            "Epoch 19/100\n",
            "1/1 [==============================] - 0s 996us/step - loss: 0.2384 - binary_accuracy: 0.5000\n",
            "Epoch 20/100\n",
            "1/1 [==============================] - 0s 2ms/step - loss: 0.2371 - binary_accuracy: 0.5000\n",
            "Epoch 21/100\n",
            "1/1 [==============================] - 0s 2ms/step - loss: 0.2358 - binary_accuracy: 0.5000\n",
            "Epoch 22/100\n",
            "1/1 [==============================] - 0s 1ms/step - loss: 0.2344 - binary_accuracy: 0.5000\n",
            "Epoch 23/100\n",
            "1/1 [==============================] - 0s 2ms/step - loss: 0.2331 - binary_accuracy: 0.7500\n",
            "Epoch 24/100\n",
            "1/1 [==============================] - 0s 2ms/step - loss: 0.2318 - binary_accuracy: 0.7500\n",
            "Epoch 25/100\n",
            "1/1 [==============================] - 0s 1ms/step - loss: 0.2305 - binary_accuracy: 0.7500\n",
            "Epoch 26/100\n",
            "1/1 [==============================] - 0s 1ms/step - loss: 0.2292 - binary_accuracy: 0.7500\n",
            "Epoch 27/100\n",
            "1/1 [==============================] - 0s 2ms/step - loss: 0.2279 - binary_accuracy: 0.7500\n",
            "Epoch 28/100\n",
            "1/1 [==============================] - 0s 1ms/step - loss: 0.2266 - binary_accuracy: 0.7500\n",
            "Epoch 29/100\n",
            "1/1 [==============================] - 0s 2ms/step - loss: 0.2254 - binary_accuracy: 0.7500\n",
            "Epoch 30/100\n",
            "1/1 [==============================] - 0s 2ms/step - loss: 0.2241 - binary_accuracy: 0.7500\n",
            "Epoch 31/100\n",
            "1/1 [==============================] - 0s 2ms/step - loss: 0.2229 - binary_accuracy: 0.7500\n",
            "Epoch 32/100\n",
            "1/1 [==============================] - 0s 2ms/step - loss: 0.2216 - binary_accuracy: 1.0000\n",
            "Epoch 33/100\n",
            "1/1 [==============================] - 0s 2ms/step - loss: 0.2204 - binary_accuracy: 1.0000\n",
            "Epoch 34/100\n",
            "1/1 [==============================] - 0s 2ms/step - loss: 0.2191 - binary_accuracy: 1.0000\n",
            "Epoch 35/100\n",
            "1/1 [==============================] - 0s 2ms/step - loss: 0.2179 - binary_accuracy: 1.0000\n",
            "Epoch 36/100\n",
            "1/1 [==============================] - 0s 2ms/step - loss: 0.2166 - binary_accuracy: 1.0000\n",
            "Epoch 37/100\n",
            "1/1 [==============================] - 0s 2ms/step - loss: 0.2154 - binary_accuracy: 1.0000\n",
            "Epoch 38/100\n",
            "1/1 [==============================] - 0s 2ms/step - loss: 0.2141 - binary_accuracy: 1.0000\n",
            "Epoch 39/100\n",
            "1/1 [==============================] - 0s 2ms/step - loss: 0.2129 - binary_accuracy: 1.0000\n",
            "Epoch 40/100\n",
            "1/1 [==============================] - 0s 2ms/step - loss: 0.2116 - binary_accuracy: 1.0000\n",
            "Epoch 41/100\n",
            "1/1 [==============================] - 0s 2ms/step - loss: 0.2104 - binary_accuracy: 1.0000\n",
            "Epoch 42/100\n",
            "1/1 [==============================] - 0s 2ms/step - loss: 0.2092 - binary_accuracy: 1.0000\n",
            "Epoch 43/100\n",
            "1/1 [==============================] - 0s 2ms/step - loss: 0.2080 - binary_accuracy: 1.0000\n",
            "Epoch 44/100\n",
            "1/1 [==============================] - 0s 2ms/step - loss: 0.2068 - binary_accuracy: 1.0000\n",
            "Epoch 45/100\n",
            "1/1 [==============================] - 0s 2ms/step - loss: 0.2056 - binary_accuracy: 1.0000\n",
            "Epoch 46/100\n",
            "1/1 [==============================] - 0s 2ms/step - loss: 0.2044 - binary_accuracy: 1.0000\n",
            "Epoch 47/100\n",
            "1/1 [==============================] - 0s 2ms/step - loss: 0.2033 - binary_accuracy: 1.0000\n",
            "Epoch 48/100\n",
            "1/1 [==============================] - 0s 2ms/step - loss: 0.2021 - binary_accuracy: 1.0000\n",
            "Epoch 49/100\n",
            "1/1 [==============================] - 0s 2ms/step - loss: 0.2009 - binary_accuracy: 1.0000\n",
            "Epoch 50/100\n",
            "1/1 [==============================] - 0s 2ms/step - loss: 0.1998 - binary_accuracy: 1.0000\n",
            "Epoch 51/100\n",
            "1/1 [==============================] - 0s 2ms/step - loss: 0.1987 - binary_accuracy: 1.0000\n",
            "Epoch 52/100\n",
            "1/1 [==============================] - 0s 2ms/step - loss: 0.1975 - binary_accuracy: 1.0000\n",
            "Epoch 53/100\n",
            "1/1 [==============================] - 0s 2ms/step - loss: 0.1964 - binary_accuracy: 1.0000\n",
            "Epoch 54/100\n",
            "1/1 [==============================] - 0s 2ms/step - loss: 0.1953 - binary_accuracy: 1.0000\n",
            "Epoch 55/100\n",
            "1/1 [==============================] - 0s 2ms/step - loss: 0.1942 - binary_accuracy: 1.0000\n",
            "Epoch 56/100\n",
            "1/1 [==============================] - 0s 2ms/step - loss: 0.1931 - binary_accuracy: 1.0000\n",
            "Epoch 57/100\n",
            "1/1 [==============================] - 0s 2ms/step - loss: 0.1920 - binary_accuracy: 1.0000\n",
            "Epoch 58/100\n",
            "1/1 [==============================] - 0s 2ms/step - loss: 0.1909 - binary_accuracy: 1.0000\n",
            "Epoch 59/100\n",
            "1/1 [==============================] - 0s 2ms/step - loss: 0.1898 - binary_accuracy: 1.0000\n",
            "Epoch 60/100\n",
            "1/1 [==============================] - 0s 2ms/step - loss: 0.1888 - binary_accuracy: 1.0000\n",
            "Epoch 61/100\n",
            "1/1 [==============================] - 0s 2ms/step - loss: 0.1877 - binary_accuracy: 1.0000\n",
            "Epoch 62/100\n",
            "1/1 [==============================] - 0s 2ms/step - loss: 0.1867 - binary_accuracy: 1.0000\n",
            "Epoch 63/100\n",
            "1/1 [==============================] - 0s 2ms/step - loss: 0.1856 - binary_accuracy: 1.0000\n",
            "Epoch 64/100\n",
            "1/1 [==============================] - 0s 2ms/step - loss: 0.1846 - binary_accuracy: 1.0000\n",
            "Epoch 65/100\n",
            "1/1 [==============================] - 0s 2ms/step - loss: 0.1835 - binary_accuracy: 1.0000\n",
            "Epoch 66/100\n",
            "1/1 [==============================] - 0s 2ms/step - loss: 0.1825 - binary_accuracy: 1.0000\n",
            "Epoch 67/100\n",
            "1/1 [==============================] - 0s 2ms/step - loss: 0.1815 - binary_accuracy: 1.0000\n",
            "Epoch 68/100\n",
            "1/1 [==============================] - 0s 2ms/step - loss: 0.1805 - binary_accuracy: 1.0000\n",
            "Epoch 69/100\n",
            "1/1 [==============================] - 0s 2ms/step - loss: 0.1795 - binary_accuracy: 1.0000\n",
            "Epoch 70/100\n",
            "1/1 [==============================] - 0s 2ms/step - loss: 0.1785 - binary_accuracy: 1.0000\n",
            "Epoch 71/100\n",
            "1/1 [==============================] - 0s 2ms/step - loss: 0.1775 - binary_accuracy: 1.0000\n",
            "Epoch 72/100\n",
            "1/1 [==============================] - 0s 5ms/step - loss: 0.1765 - binary_accuracy: 1.0000\n",
            "Epoch 73/100\n",
            "1/1 [==============================] - 0s 2ms/step - loss: 0.1755 - binary_accuracy: 1.0000\n",
            "Epoch 74/100\n",
            "1/1 [==============================] - 0s 2ms/step - loss: 0.1745 - binary_accuracy: 1.0000\n",
            "Epoch 75/100\n",
            "1/1 [==============================] - 0s 2ms/step - loss: 0.1735 - binary_accuracy: 1.0000\n",
            "Epoch 76/100\n",
            "1/1 [==============================] - 0s 2ms/step - loss: 0.1726 - binary_accuracy: 1.0000\n",
            "Epoch 77/100\n",
            "1/1 [==============================] - 0s 2ms/step - loss: 0.1716 - binary_accuracy: 1.0000\n",
            "Epoch 78/100\n",
            "1/1 [==============================] - 0s 2ms/step - loss: 0.1707 - binary_accuracy: 1.0000\n",
            "Epoch 79/100\n",
            "1/1 [==============================] - 0s 2ms/step - loss: 0.1697 - binary_accuracy: 1.0000\n",
            "Epoch 80/100\n",
            "1/1 [==============================] - 0s 2ms/step - loss: 0.1688 - binary_accuracy: 1.0000\n",
            "Epoch 81/100\n",
            "1/1 [==============================] - 0s 2ms/step - loss: 0.1678 - binary_accuracy: 1.0000\n",
            "Epoch 82/100\n",
            "1/1 [==============================] - 0s 3ms/step - loss: 0.1669 - binary_accuracy: 1.0000\n",
            "Epoch 83/100\n",
            "1/1 [==============================] - 0s 2ms/step - loss: 0.1660 - binary_accuracy: 1.0000\n",
            "Epoch 84/100\n",
            "1/1 [==============================] - 0s 2ms/step - loss: 0.1651 - binary_accuracy: 1.0000\n",
            "Epoch 85/100\n",
            "1/1 [==============================] - 0s 2ms/step - loss: 0.1641 - binary_accuracy: 1.0000\n",
            "Epoch 86/100\n",
            "1/1 [==============================] - 0s 2ms/step - loss: 0.1632 - binary_accuracy: 1.0000\n",
            "Epoch 87/100\n",
            "1/1 [==============================] - 0s 2ms/step - loss: 0.1623 - binary_accuracy: 1.0000\n",
            "Epoch 88/100\n",
            "1/1 [==============================] - 0s 2ms/step - loss: 0.1614 - binary_accuracy: 1.0000\n",
            "Epoch 89/100\n",
            "1/1 [==============================] - 0s 2ms/step - loss: 0.1605 - binary_accuracy: 1.0000\n",
            "Epoch 90/100\n",
            "1/1 [==============================] - 0s 2ms/step - loss: 0.1596 - binary_accuracy: 1.0000\n",
            "Epoch 91/100\n",
            "1/1 [==============================] - 0s 2ms/step - loss: 0.1588 - binary_accuracy: 1.0000\n",
            "Epoch 92/100\n",
            "1/1 [==============================] - 0s 2ms/step - loss: 0.1579 - binary_accuracy: 1.0000\n",
            "Epoch 93/100\n",
            "1/1 [==============================] - 0s 2ms/step - loss: 0.1570 - binary_accuracy: 1.0000\n",
            "Epoch 94/100\n",
            "1/1 [==============================] - 0s 2ms/step - loss: 0.1561 - binary_accuracy: 1.0000\n",
            "Epoch 95/100\n",
            "1/1 [==============================] - 0s 2ms/step - loss: 0.1553 - binary_accuracy: 1.0000\n",
            "Epoch 96/100\n",
            "1/1 [==============================] - 0s 2ms/step - loss: 0.1544 - binary_accuracy: 1.0000\n",
            "Epoch 97/100\n",
            "1/1 [==============================] - 0s 2ms/step - loss: 0.1536 - binary_accuracy: 1.0000\n",
            "Epoch 98/100\n",
            "1/1 [==============================] - 0s 2ms/step - loss: 0.1527 - binary_accuracy: 1.0000\n",
            "Epoch 99/100\n",
            "1/1 [==============================] - 0s 2ms/step - loss: 0.1519 - binary_accuracy: 1.0000\n",
            "Epoch 100/100\n",
            "1/1 [==============================] - 0s 2ms/step - loss: 0.1510 - binary_accuracy: 1.0000\n"
          ],
          "name": "stdout"
        },
        {
          "output_type": "execute_result",
          "data": {
            "text/plain": [
              "<tensorflow.python.keras.callbacks.History at 0x7f17d543e470>"
            ]
          },
          "metadata": {
            "tags": []
          },
          "execution_count": 103
        }
      ]
    },
    {
      "cell_type": "markdown",
      "metadata": {
        "colab_type": "text",
        "id": "C25ZV-x4IRBB"
      },
      "source": [
        "#### 7.6. Avaliar a performance da Rede Neural"
      ]
    },
    {
      "cell_type": "markdown",
      "metadata": {
        "colab_type": "text",
        "id": "tCd2S65ubg_M"
      },
      "source": [
        "[**Python**] - Comando modelo.evaluate(X_Teste, Y_Teste):"
      ]
    },
    {
      "cell_type": "code",
      "metadata": {
        "id": "I8-Vr9lXXav4",
        "colab_type": "code",
        "outputId": "d1f217c7-4f95-4a5d-ffd9-68c61da37dd2",
        "colab": {
          "base_uri": "https://localhost:8080/",
          "height": 52
        }
      },
      "source": [
        "RN.evaluate(X_XOR, Y_XOR)"
      ],
      "execution_count": 0,
      "outputs": [
        {
          "output_type": "stream",
          "text": [
            "1/1 [==============================] - 0s 1ms/step - loss: 0.1502 - binary_accuracy: 1.0000\n"
          ],
          "name": "stdout"
        },
        {
          "output_type": "execute_result",
          "data": {
            "text/plain": [
              "[0.1501958668231964, 1.0]"
            ]
          },
          "metadata": {
            "tags": []
          },
          "execution_count": 104
        }
      ]
    },
    {
      "cell_type": "markdown",
      "metadata": {
        "id": "6IqEhL-2Xj-t",
        "colab_type": "text"
      },
      "source": [
        "**Resultado**: O modelo após o _fine tuning_ apresenta os seguintes resultados:\n",
        "* loss= 0.1502;\n",
        "* accuracy= 100%.\n",
        "\n",
        "* **Comentário**: A Rede Neural apresenta resultados satisfatórios."
      ]
    },
    {
      "cell_type": "markdown",
      "metadata": {
        "id": "AZjDavkO58Pu",
        "colab_type": "text"
      },
      "source": [
        "### 8. Fazer Predições com a Rede Neural"
      ]
    },
    {
      "cell_type": "markdown",
      "metadata": {
        "colab_type": "text",
        "id": "HV4HkNDcbmJ2"
      },
      "source": [
        "[**Python**] - Comando RN.predict_classes(X_Treinamento):"
      ]
    },
    {
      "cell_type": "code",
      "metadata": {
        "colab_type": "code",
        "id": "aum69OJENO6V",
        "outputId": "9f627be2-b806-4e9c-825e-540587af4f13",
        "colab": {
          "base_uri": "https://localhost:8080/",
          "height": 86
        }
      },
      "source": [
        "Y_Predito= RN.predict_classes(X_XOR)\n",
        "Y_Predito"
      ],
      "execution_count": 0,
      "outputs": [
        {
          "output_type": "execute_result",
          "data": {
            "text/plain": [
              "array([[0],\n",
              "       [1],\n",
              "       [1],\n",
              "       [0]], dtype=int32)"
            ]
          },
          "metadata": {
            "tags": []
          },
          "execution_count": 105
        }
      ]
    },
    {
      "cell_type": "code",
      "metadata": {
        "id": "rNogASabEhz8",
        "colab_type": "code",
        "outputId": "4c0df3af-de21-4679-e307-f471acb2b7d3",
        "colab": {
          "base_uri": "https://localhost:8080/",
          "height": 86
        }
      },
      "source": [
        "Y_XOR"
      ],
      "execution_count": 0,
      "outputs": [
        {
          "output_type": "execute_result",
          "data": {
            "text/plain": [
              "array([[0],\n",
              "       [1],\n",
              "       [1],\n",
              "       [0]])"
            ]
          },
          "metadata": {
            "tags": []
          },
          "execution_count": 106
        }
      ]
    },
    {
      "cell_type": "markdown",
      "metadata": {
        "id": "8xaBkwD15-1d",
        "colab_type": "text"
      },
      "source": [
        "### 9. Conclusões"
      ]
    },
    {
      "cell_type": "markdown",
      "metadata": {
        "id": "UULwoI-9yPIs",
        "colab_type": "text"
      },
      "source": [
        "A Rede Neural final, após a fase de _fine tuning_ apresenta os resultados mostrados na sessão 7.6. Diante destes resultados, sugerimos avançarmos para a fase de _deployment_ da Rede Neural, conforme sugere o CRISP-DM."
      ]
    },
    {
      "cell_type": "markdown",
      "metadata": {
        "id": "uFK4SeM5TLOb",
        "colab_type": "text"
      },
      "source": [
        "### **Exercício**\n",
        "\n",
        "1. Experimente usar outras funções de ativação para a _Hidden Layer_, registre e reporte seus resultados. Para saber mais sobre quais funções de ativação podem ser usadas, consulte [Module: tf.keras.activations](https://www.tensorflow.org/api_docs/python/tf/keras/activations);\n",
        "\n",
        "2. Experimente usar outros algoritmos de otimização para treinar a Rede Neural, registre e reporte seus resultados. Para saber quais algoritmos podem ser usados, consulte [Module: tf.keras.optimizers](https://www.tensorflow.org/api_docs/python/tf/keras/optimizers).\n",
        "\n",
        "3. Neste exemplo, usamos o algoritmo de otimização 'adam'. Consulte a documentação sobre o 'adam' no Tensorflow/Keras e você verá que a sintaxe do algoritmo é:\n",
        "\n",
        "```\n",
        "tf.keras.optimizers.Adam(\n",
        "    learning_rate=0.001, beta_1=0.9, beta_2=0.999, epsilon=1e-07, amsgrad=False,\n",
        "    name='Adam', **kwargs\n",
        ")\n",
        "```\n",
        "\n",
        "Refaça o treinamento da Rede Neural alterando os valores da _Learning Rate_ e reporte seus resultados.\n",
        "\n"
      ]
    },
    {
      "cell_type": "markdown",
      "metadata": {
        "colab_type": "text",
        "id": "pyyiNwm6eeP4"
      },
      "source": [
        "___\n",
        "# **_ACTIVATION FUNCTION_**\n",
        "\n",
        "> As funções de ativação são uma importante parte das Redes Neurais, pois permitem às Redes Neurais a lidar com a não-linearidade existente na maioria dos problemas reais.\n",
        "\n",
        "As funções de ativação (_Activation Function_ em inglês) mais usadas são:\n",
        "* _Sigmoid_;\n",
        "* ReLU (_Rectified Linear Unit_);\n",
        "* Leaky ReLU;\n",
        "* _Generalized_ ReLU;\n",
        "* Tanh;\n",
        "* _Swish_.\n",
        "\n",
        "Os artigos a seguir discutem estas principais funções de ativação:\n",
        "* [Classical Neural Net: Why/Which Activations Functions?](https://towardsdatascience.com/classical-neural-net-why-which-activations-functions-401159ba01c4);\n",
        "* [Intermediate Topics in Neural Networks](https://towardsdatascience.com/comprehensive-introduction-to-neural-network-architecture-c08c6d8e5d98);\n",
        "* [Comparison of Activation Functions for Deep Neural Networks](https://towardsdatascience.com/comparison-of-activation-functions-for-deep-neural-networks-706ac4284c8a)."
      ]
    },
    {
      "cell_type": "markdown",
      "metadata": {
        "id": "F7jF5SToOKYC",
        "colab_type": "text"
      },
      "source": [
        "### Funções de ativação para _Hidden Layers_:\n",
        "\n",
        "Há várias funções de ativação que podem ser utilizadas na _Hidden Layer_. As principais são:\n",
        "\n",
        "* ReLU\n",
        "    * evita e corrige o problema conhecido como _vanishing gradient problem_, que é justamente o principal ponto fraco das funções de ativação _sigmoid_ e _tanh_. Este problema acontece porque algumas derivadas são zero para metade dos valores da entrada $X= [X_{1}, X_{2}, ..., X_{n}]$, o que pode levar ao que se chama de \"neurônios mortos\";\n",
        "    * Quase todos os modelos de _Deep Learning_ hoje usam ReLU que **deve ser usada somente para _Hidden Layers_ das Redes Neurais**. \n",
        "* Leaky ReLU\n",
        "    * Alternativa melhor que ReLU;\n",
        "* _Swish_\n",
        "    * esta é outra alternativa melhor que ReLU, proposta pelo Google em 2017;\n",
        "    * alguns artigos apontam melhoria dos resultados das Redes Neurais com _Swish_."
      ]
    },
    {
      "cell_type": "markdown",
      "metadata": {
        "id": "8dYvHeYbN_c4",
        "colab_type": "text"
      },
      "source": [
        "### Funções de ativação para _Output Layers_:\n",
        "\n",
        "A função de ativação da _Output Layer_ depende do problema:\n",
        "\n",
        "* _Sigmoid_ para problemas de classificação binária (2 classes).\n",
        "    * Exemplo: Dataframe: Titanic, pois queremos estimar se o passageiro morreu ou sobreviveu;\n",
        "* _Softmax_ para problemas de classificação multi-classes (> 2 classes).\n",
        "    * Exemplo: Dataframe: Iris, pois queremos estimar a espécie das flores, que são versicolor, virginica e setosa;\n",
        "* _Linear_ para problemas de regressão. \n",
        "    * Exemplo: Dataframe: Boston Housing Prediction, pois queremos estimar o preço das casas em Boston, que é uma variável contínua.\n",
        "\n",
        "\n",
        "O artigo [Comparison of Activation Functions for Deep Neural Networks](https://towardsdatascience.com/comparison-of-activation-functions-for-deep-neural-networks-706ac4284c8a) compara e discute as principais funções de ativação de forma pormenorizada."
      ]
    },
    {
      "cell_type": "markdown",
      "metadata": {
        "colab_type": "text",
        "id": "clQq59rPIkvB"
      },
      "source": [
        "___\n",
        "# **EXEMPLO 1: Rede Neural para identificar o sexo a partir de peso e altura**\n",
        "\n",
        "> O dataframe a seguir contem 10.000 medidas de altura (_height_) e peso (_weight_), sendo 5.000 medidas para o sexo masculino (_males_) e 5.000 para o sexo feminino (_females_).\n",
        "\n",
        "**Objetivo**: Estimar gênero (sexo) (_Gender_, em inglês) em função das variáveis _Height_ e _Weight_.\n",
        "\n",
        "Fonte do dataframe: Kaggle (weight-height.csv).\n",
        "\n",
        "Nesta aplicação, vamos seguir os passos adiante:\n",
        "\n",
        "1. Carregar os dados;\n",
        "2. Pré-processamento e transformação dos dados;\n",
        "3. Definir as amostras de treinamento e validação;\n",
        "4. Definir a arquitetura da Rede Neural com _Tensorflow_/_Keras_;\n",
        "5. Compilar a Rede Neural;\n",
        "6. Ajustar a Rede Neural;\n",
        "7. Avaliar a performance da Rede Neural;\n",
        "8. _Fine tuning_ da Rede Neural;\n",
        "9. Fazer Predições com a Rede Neural;\n",
        "10. Conclusões."
      ]
    },
    {
      "cell_type": "markdown",
      "metadata": {
        "colab_type": "text",
        "id": "dh5p2GcvLQQX"
      },
      "source": [
        "### 0. Carregar as principais bibliotecas"
      ]
    },
    {
      "cell_type": "markdown",
      "metadata": {
        "colab_type": "text",
        "id": "bhjAdXgab99r"
      },
      "source": [
        "[**Python**] - Importar as bibliotecas necessárias:"
      ]
    },
    {
      "cell_type": "code",
      "metadata": {
        "id": "kChuTlPddNZv",
        "colab_type": "code",
        "colab": {}
      },
      "source": [
        "import numpy as np\n",
        "import tensorflow as tf\n",
        "from tensorflow import keras\n",
        "import pandas as pd"
      ],
      "execution_count": 0,
      "outputs": []
    },
    {
      "cell_type": "markdown",
      "metadata": {
        "id": "9ZX00UN5cjvM",
        "colab_type": "text"
      },
      "source": [
        "[**Python**] - Verificar a versão do Tensorflow\n",
        "> Assegurar que está a utilizar a versão 2.x."
      ]
    },
    {
      "cell_type": "code",
      "metadata": {
        "colab_type": "code",
        "id": "THWNIk_FCe_g",
        "colab": {}
      },
      "source": [
        "tf.__version__"
      ],
      "execution_count": 0,
      "outputs": []
    },
    {
      "cell_type": "markdown",
      "metadata": {
        "id": "PZgQAKqLcLX3",
        "colab_type": "text"
      },
      "source": [
        "[**Python**] - Definir o número de casas decimais"
      ]
    },
    {
      "cell_type": "code",
      "metadata": {
        "colab_type": "code",
        "id": "tzKor02BCe_d",
        "colab": {}
      },
      "source": [
        "np.set_printoptions(precision= 3)"
      ],
      "execution_count": 0,
      "outputs": []
    },
    {
      "cell_type": "markdown",
      "metadata": {
        "colab_type": "text",
        "id": "M5V4KopjLWOL"
      },
      "source": [
        "### 1. Carregar os dados"
      ]
    },
    {
      "cell_type": "markdown",
      "metadata": {
        "id": "V_cwAUW3tseE",
        "colab_type": "text"
      },
      "source": [
        "[**Python**] - Carregar os dados:"
      ]
    },
    {
      "cell_type": "code",
      "metadata": {
        "id": "_Bs87IWPtwtm",
        "colab_type": "code",
        "colab": {}
      },
      "source": [
        "# Leitura do dataframe:\n",
        "df_Sexo= pd.read_csv('https://raw.githubusercontent.com/MathMachado/DataFrames/master/weight-height.csv')"
      ],
      "execution_count": 0,
      "outputs": []
    },
    {
      "cell_type": "markdown",
      "metadata": {
        "id": "mBUeMtV7tzw6",
        "colab_type": "text"
      },
      "source": [
        "[**Python**] - Mostrar as primeiras 5 linhas:"
      ]
    },
    {
      "cell_type": "code",
      "metadata": {
        "id": "rcH-y4amt3gs",
        "colab_type": "code",
        "colab": {}
      },
      "source": [
        "df_Sexo.head()"
      ],
      "execution_count": 0,
      "outputs": []
    },
    {
      "cell_type": "markdown",
      "metadata": {
        "colab_type": "text",
        "id": "OSa161sPLcAw"
      },
      "source": [
        "### Pré-processamento e transformação dos dados"
      ]
    },
    {
      "cell_type": "markdown",
      "metadata": {
        "id": "lL2-6wpCuARF",
        "colab_type": "text"
      },
      "source": [
        "[**Python**] - Construir coluna 'sexo' da seguinte forma:\n",
        "* Se Gender= 'Male' ==> sexo= 1;\n",
        "* Se Gender= 'Female' ==> sexo= 0."
      ]
    },
    {
      "cell_type": "code",
      "metadata": {
        "colab_type": "code",
        "id": "ccImSqCqDKre",
        "colab": {}
      },
      "source": [
        "def define_label(row):\n",
        "    if row['Gender']== 'Male':\n",
        "        return 1\n",
        "    else:\n",
        "        return 0"
      ],
      "execution_count": 0,
      "outputs": []
    },
    {
      "cell_type": "code",
      "metadata": {
        "colab_type": "code",
        "id": "NDYamauZCq77",
        "colab": {}
      },
      "source": [
        "df_Sexo['sexo']=df_Sexo.apply(lambda row: define_label(row), axis= 1)\n",
        "df_Sexo.head()"
      ],
      "execution_count": 0,
      "outputs": []
    },
    {
      "cell_type": "markdown",
      "metadata": {
        "id": "hqkOrJnNuZjg",
        "colab_type": "text"
      },
      "source": [
        "[**Python**] - Renomear ou reescrever os nomes das colunas do dataframe em letras minúsculas:"
      ]
    },
    {
      "cell_type": "code",
      "metadata": {
        "colab_type": "code",
        "id": "-dahUMI6DsBz",
        "colab": {}
      },
      "source": [
        "df_Sexo= df_Sexo.drop(columns= 'Gender', axis= 1)\n",
        "df_Sexo= df_Sexo.rename({'Height': 'altura', 'Weight': 'peso'}, axis= 1)\n",
        "df_Sexo.head()"
      ],
      "execution_count": 0,
      "outputs": []
    },
    {
      "cell_type": "markdown",
      "metadata": {
        "id": "UTISVuZ4ukQO",
        "colab_type": "text"
      },
      "source": [
        "[**Python**] - Definir os arrays X_Sexo e Y_Sexo:"
      ]
    },
    {
      "cell_type": "code",
      "metadata": {
        "id": "oMTIn6Zf5LlU",
        "colab_type": "code",
        "colab": {}
      },
      "source": [
        "X_Sexo= df_Sexo.copy()\n",
        "X_Sexo= X_Sexo.drop(columns= ['sexo'])\n",
        "Y_Sexo= df_Sexo['sexo'].values"
      ],
      "execution_count": 0,
      "outputs": []
    },
    {
      "cell_type": "code",
      "metadata": {
        "id": "iSThKwhj4LsC",
        "colab_type": "code",
        "colab": {}
      },
      "source": [
        "Y_Sexo"
      ],
      "execution_count": 0,
      "outputs": []
    },
    {
      "cell_type": "markdown",
      "metadata": {
        "id": "FiO_F95jc1_s",
        "colab_type": "text"
      },
      "source": [
        "[**Python**] - Normalizar os dados - StandardScaler()"
      ]
    },
    {
      "cell_type": "code",
      "metadata": {
        "colab_type": "code",
        "id": "4myPAnSzE7-l",
        "colab": {}
      },
      "source": [
        "from sklearn.preprocessing import StandardScaler\n",
        "\n",
        "SS = StandardScaler()\n",
        "\n",
        "X_Sexo= SS.fit_transform(X_Sexo)\n",
        "X_Sexo"
      ],
      "execution_count": 0,
      "outputs": []
    },
    {
      "cell_type": "markdown",
      "metadata": {
        "colab_type": "text",
        "id": "jJaJWuUqJCha"
      },
      "source": [
        "### 3. Definir as amostras de treinamento e validação"
      ]
    },
    {
      "cell_type": "markdown",
      "metadata": {
        "id": "LoO2iEimu4SQ",
        "colab_type": "text"
      },
      "source": [
        "[**Python**] - Definir as amostras de treinamento e validação"
      ]
    },
    {
      "cell_type": "code",
      "metadata": {
        "colab_type": "code",
        "id": "hTCdm-F9JBGA",
        "colab": {}
      },
      "source": [
        "from sklearn.model_selection import train_test_split\n",
        "\n",
        "X_Treinamento, X_Teste, Y_Treinamento, Y_Teste= train_test_split(X_Sexo, Y_Sexo, test_size= 0.1, random_state= 20111974)\n",
        "print(f'X: Treinamento=  {X_Treinamento.shape}; X: Teste=  {X_Teste.shape}')"
      ],
      "execution_count": 0,
      "outputs": []
    },
    {
      "cell_type": "code",
      "metadata": {
        "id": "th9CsQpB8VDK",
        "colab_type": "code",
        "colab": {}
      },
      "source": [
        "print(f'Y: Treinamento=  {Y_Treinamento.shape}; Y: Teste= {Y_Teste.shape}')"
      ],
      "execution_count": 0,
      "outputs": []
    },
    {
      "cell_type": "markdown",
      "metadata": {
        "colab_type": "text",
        "id": "2bL-vXiULupD"
      },
      "source": [
        "### 4. Definir a arquitetura da Rede Neural com _Tensorflow_/_Keras_"
      ]
    },
    {
      "cell_type": "markdown",
      "metadata": {
        "colab_type": "text",
        "id": "zxETX6dTfyU5"
      },
      "source": [
        "[**Python**] - Definir a arquitetura, ou seja:\n",
        "* $N_{I}$: Número de neurônios na camada de entrada (_Input Layer_);\n",
        "* $N_{O}$: Número de neurônios na camada de saída (_Output Layer_);\n",
        "* $N_{H}$: Número de neurônios na camada escondida (_Hidden Layer_);\n",
        "* FA: Função de ativação;"
      ]
    },
    {
      "cell_type": "code",
      "metadata": {
        "colab_type": "code",
        "id": "F_MdsLicfyU6",
        "colab": {}
      },
      "source": [
        "# Número de Neurônios na Input Layer:\n",
        "N_I= 2\n",
        "\n",
        "# Número de neurônios na Output Layer:\n",
        "N_O= 1\n",
        "\n",
        "# Número de neurônios na Hidden Layer:\n",
        "N_H= 64\n",
        "\n",
        "# Função de Ativação da Hidden Layer:\n",
        "FA_H= tf.keras.activations.swish\n",
        "\n",
        "# Função de Ativação da Output Layer:\n",
        "FA_O= tf.keras.activations.swish"
      ],
      "execution_count": 0,
      "outputs": []
    },
    {
      "cell_type": "markdown",
      "metadata": {
        "colab_type": "text",
        "id": "SUMmDuPCcYyB"
      },
      "source": [
        "[**Python**] - Definir as sementes para NumPy e Tensorflow:\n",
        "> Por questões de reproducibilidade de resultados, use as sementes abaixo:\n",
        "\n",
        "* NumPy: 20111974;\n",
        "* Tensorflow: 20111974;"
      ]
    },
    {
      "cell_type": "code",
      "metadata": {
        "id": "T-echOBmceVy",
        "colab_type": "code",
        "colab": {}
      },
      "source": [
        "np.random.seed(20111974)\n",
        "tf.random.set_seed(20111974)"
      ],
      "execution_count": 0,
      "outputs": []
    },
    {
      "cell_type": "markdown",
      "metadata": {
        "colab_type": "text",
        "id": "7ZceRRdinEM2"
      },
      "source": [
        "[**Python**] - Definir a Rede Neural:"
      ]
    },
    {
      "cell_type": "markdown",
      "metadata": {
        "colab_type": "text",
        "id": "nXQsSYq2DBfI"
      },
      "source": [
        "* 1 camada _dropout_ com $p= 0.1$:"
      ]
    },
    {
      "cell_type": "code",
      "metadata": {
        "id": "TRFR5Kr_nDtD",
        "colab_type": "code",
        "colab": {}
      },
      "source": [
        "from tensorflow.keras import Sequential\n",
        "from tensorflow.keras.layers import Dense\n",
        "from tensorflow.keras.layers import Dropout\n",
        "\n",
        "RN= Sequential()\n",
        "RN.add(Dense(N_H, input_dim= N_I, kernel_initializer= tf.keras.initializers.GlorotNormal(), activation= FA_H, kernel_constraint= tf.keras.constraints.UnitNorm()))\n",
        "RN.add(Dropout(0.1))\n",
        "#RN.add(Dense(N_H2, kernel_initializer= tf.keras.initializers.GlorotNormal(), activation= FA_H, kernel_constraint= tf.keras.constraints.UnitNorm()))\n",
        "RN.add(Dropout(0.1))\n",
        "RN.add(Dense(units= N_O, activation= FA_O))\n",
        "\n",
        "# Resumo da arquitetura da Rede Neural\n",
        "print(RN.summary())"
      ],
      "execution_count": 0,
      "outputs": []
    },
    {
      "cell_type": "markdown",
      "metadata": {
        "colab_type": "text",
        "id": "4JBZf4ypGO8o"
      },
      "source": [
        "### 5. Compilar a Rede Neural\n",
        "\n",
        "Este é um problema de classificação binária (_Male_ ou _Female_). Portanto, temos:\n",
        "* optimizer= tf.keras.optimizers.Adam();\n",
        "* loss=  tf.keras.losses.MeanSquaredError() ou loss= tf.keras.losses.BinaryCrossentropy(). Particularmente, eu gosto de usar loss=  tf.keras.losses.MeanSquaredError() porque o resultado é mais intuitivo;\n",
        "* metrics= tf.keras.metrics.binary_accuracy."
      ]
    },
    {
      "cell_type": "markdown",
      "metadata": {
        "colab_type": "text",
        "id": "USmAuw6f00wL"
      },
      "source": [
        "[**Python**] - Comando modelo.compile(optimizer, loss, metrics):"
      ]
    },
    {
      "cell_type": "code",
      "metadata": {
        "colab_type": "code",
        "id": "h7KEi1_e6SSF",
        "colab": {}
      },
      "source": [
        "Algoritmo_Opt= tf.keras.optimizers.Adam()\n",
        "Loss_Function= tf.keras.losses.MeanSquaredError()\n",
        "Metrics_Perf= tf.keras.metrics.binary_accuracy\n",
        "\n",
        "RN.compile(optimizer= Algoritmo_Opt, loss= Loss_Function, metrics= Metrics_Perf)"
      ],
      "execution_count": 0,
      "outputs": []
    },
    {
      "cell_type": "markdown",
      "metadata": {
        "colab_type": "text",
        "id": "Hc90EeV_GojX"
      },
      "source": [
        "### 6. Ajustar a Rede Neural\n",
        "\n",
        "Obs.: A opção callbacks abaixo implementa o conceito de _early stopping_. Esta opção vai parar o processo de treinamento da Rede Neural antes de atingirmos o númerco de _epochs_ quando o modelo pára de melhorar, medido pela métrica val_loss. O parâmetro _patience_= k significa que o processo de otimização vai parar se tivermos k _epochs_ consecutivas sem observarmos melhoria da performance da Rede Neural."
      ]
    },
    {
      "cell_type": "markdown",
      "metadata": {
        "id": "XCCTtUh_vEFP",
        "colab_type": "text"
      },
      "source": [
        "[**Python**] - Comando modelo.fit(X_Treinamento, Y_Treinamento, epochs)"
      ]
    },
    {
      "cell_type": "code",
      "metadata": {
        "colab_type": "code",
        "id": "EB91J6nrF0db",
        "colab": {}
      },
      "source": [
        "callbacks = [tf.keras.callbacks.EarlyStopping(monitor='val_loss', patience = 5, min_delta=0.001)]\n",
        "hist= RN.fit(X_Treinamento, Y_Treinamento, epochs= 100, validation_data= (X_Teste, Y_Teste), callbacks= callbacks)"
      ],
      "execution_count": 0,
      "outputs": []
    },
    {
      "cell_type": "code",
      "metadata": {
        "colab_type": "code",
        "id": "71mX1iwvHMc5",
        "colab": {}
      },
      "source": [
        "Model_Accuracy(hist)"
      ],
      "execution_count": 0,
      "outputs": []
    },
    {
      "cell_type": "code",
      "metadata": {
        "colab_type": "code",
        "id": "o-zJ6GIjHbY8",
        "colab": {}
      },
      "source": [
        "Model_Loss(hist)"
      ],
      "execution_count": 0,
      "outputs": []
    },
    {
      "cell_type": "markdown",
      "metadata": {
        "colab_type": "text",
        "id": "J1sL_DTrKmpq"
      },
      "source": [
        "### 7. Avaliar a performance da Rede Neural\n",
        "\n",
        "Para avaliar a a Rede Neural, simplesmente informamos as amostras de teste: X_Teste e Y_Teste. A função evaluate() vai retornar uma lista contendo 2 valores: loss e accuracy."
      ]
    },
    {
      "cell_type": "markdown",
      "metadata": {
        "id": "VckQfEFPvMa7",
        "colab_type": "text"
      },
      "source": [
        "[**Python**] - Comando modelo.evaluate(X_Teste, Y_Teste)"
      ]
    },
    {
      "cell_type": "code",
      "metadata": {
        "colab_type": "code",
        "id": "rUhEiqxfKmpv",
        "colab": {}
      },
      "source": [
        "RN.evaluate(X_Teste, Y_Teste)"
      ],
      "execution_count": 0,
      "outputs": []
    },
    {
      "cell_type": "markdown",
      "metadata": {
        "colab_type": "text",
        "id": "agO4cGTqKmpz"
      },
      "source": [
        "A seguir, a matriz de confusão:"
      ]
    },
    {
      "cell_type": "code",
      "metadata": {
        "colab_type": "code",
        "id": "aLIAXu7SN7pV",
        "colab": {}
      },
      "source": [
        "Mostra_ConfusionMatrix()"
      ],
      "execution_count": 0,
      "outputs": []
    },
    {
      "cell_type": "markdown",
      "metadata": {
        "colab_type": "text",
        "id": "D5zYHcGuMPZe"
      },
      "source": [
        "### 8. _Fine tuning_ da Rede Neural\n",
        "\n",
        "Para aumentar a acurácia da Rede Neural, sugiro aumentarmos o número de neurônios na _Hidden Layer_ e/ou aumentar o número de _Hidden Layers_.\n",
        "\n",
        "No entanto, obtivemos uma acurácia razoável com a Rede Neural _baseline_. Portanto, deixo como exercício para os alunos o desafio de melhorar a acurácia desta Rede Neural."
      ]
    },
    {
      "cell_type": "markdown",
      "metadata": {
        "colab_type": "text",
        "id": "_ISodOu-Kmp3"
      },
      "source": [
        "### 9. Fazer Predições com a Rede Neural"
      ]
    },
    {
      "cell_type": "markdown",
      "metadata": {
        "id": "_xgdL1W4vUrN",
        "colab_type": "text"
      },
      "source": [
        "[**Python**] - Comando:\n",
        "* RN.predict_classes(X_Treinamento);\n",
        "* RN.predict_classes(X_Teste)."
      ]
    },
    {
      "cell_type": "code",
      "metadata": {
        "colab_type": "code",
        "id": "0qun1-vOKmp4",
        "colab": {}
      },
      "source": [
        "Y_Predito = RN.predict_classes(X_Teste)\n",
        "Y_Predito[:10]"
      ],
      "execution_count": 0,
      "outputs": []
    },
    {
      "cell_type": "code",
      "metadata": {
        "colab_type": "code",
        "id": "I7sRwTWGKmp8",
        "colab": {}
      },
      "source": [
        "Y_Teste[:10]"
      ],
      "execution_count": 0,
      "outputs": []
    },
    {
      "cell_type": "markdown",
      "metadata": {
        "colab_type": "text",
        "id": "AvywP0nZMtA-"
      },
      "source": [
        "### 10. Conclusões\n",
        "\n",
        "Desenvolvemos uma Rede Neural capaz de identificar Sexo (_Gender_) com acurácia= 0.9120."
      ]
    },
    {
      "cell_type": "markdown",
      "metadata": {
        "id": "g5qOWxPczM1O",
        "colab_type": "text"
      },
      "source": [
        "___\n",
        "# **EXEMPLO 2: Distinguir cédulas verdadeiras das falsas**\n",
        "\n",
        "* O exemplo a seguir foi extraído do site [OpenML](https://www.openml.org/home). Este é um problema interessante, que é o de distinguir cédulas verdadeiras de notas falsas. Os dados foram extraídos de imagens tiradas de cédulas verdadeiras e falsas. Para digitalização, foi usada uma câmera industrial normalmente usada para inspeção de impressão. As imagens finais têm 400x 400 pixels. Devido à lente do objeto e à distância do objeto investigado, foram obtidas imagens em escala de cinza com uma resolução de cerca de 660 dpi. Uma ferramenta Wavelet Transform foi usada para extrair recursos dessas imagens.\n",
        "\n",
        "* Este é o endereço do dataframe: https://www.openml.org/d/1462;\n",
        "* Descrição das variáveis - [banknote authentication Data Set](https://archive.ics.uci.edu/ml/datasets/banknote+authentication).\n"
      ]
    },
    {
      "cell_type": "markdown",
      "metadata": {
        "id": "nup7tuLc5kYy",
        "colab_type": "text"
      },
      "source": [
        "> A seguir, vamos desenvolver uma Rede Neural usando _Tensorflow_/_Keras_ para classificar notas falsas e verdadeiras. Nesta aplicação, vamos seguir os passos adiante:\n",
        "\n",
        "1. Carregar os dados;\n",
        "2. Pré-processamento e transformação dos dados;\n",
        "3. Definir as amostras de treinamento e validação;\n",
        "4. Definir a arquitetura da Rede Neural com _Tensorflow_/_Keras_;\n",
        "5. Compilar a Rede Neural;\n",
        "6. Ajustar a Rede Neural;\n",
        "7. Avaliar a performance da Rede Neural;\n",
        "8. _Fine tuning_ da Rede Neural;\n",
        "9. Fazer Predições com a Rede Neural;\n",
        "10. Conclusões."
      ]
    },
    {
      "cell_type": "markdown",
      "metadata": {
        "colab_type": "text",
        "id": "YHi73Pbq5vvU"
      },
      "source": [
        "### 0. Carregar bibliotecas do Python"
      ]
    },
    {
      "cell_type": "markdown",
      "metadata": {
        "colab_type": "text",
        "id": "ZsZW7_Ev5vvY"
      },
      "source": [
        "[**Python**] - Importar as bibliotecas necessárias:"
      ]
    },
    {
      "cell_type": "code",
      "metadata": {
        "colab_type": "code",
        "id": "1U4OySJw5vvb",
        "colab": {}
      },
      "source": [
        "import numpy as np\n",
        "import pandas as pd\n",
        "import matplotlib.pyplot as plt\n",
        "import seaborn as sns\n",
        "from sklearn.metrics import confusion_matrix\n",
        "import tensorflow as tf\n",
        "\n",
        "from tensorflow import keras"
      ],
      "execution_count": 0,
      "outputs": []
    },
    {
      "cell_type": "markdown",
      "metadata": {
        "colab_type": "text",
        "id": "lAaecKoj5vv5"
      },
      "source": [
        "[**Python**] - Verificar a versão do Tensorflow\n",
        "> Assegurar que está a utilizar a versão 2.x."
      ]
    },
    {
      "cell_type": "code",
      "metadata": {
        "colab_type": "code",
        "id": "5lPEsFy45vv6",
        "colab": {}
      },
      "source": [
        "tf.__version__"
      ],
      "execution_count": 0,
      "outputs": []
    },
    {
      "cell_type": "markdown",
      "metadata": {
        "colab_type": "text",
        "id": "uNvl-o5w5vvo"
      },
      "source": [
        "[**Python**] - Definir o número de casas decimais"
      ]
    },
    {
      "cell_type": "code",
      "metadata": {
        "colab_type": "code",
        "id": "VqRIBc1J5vvp",
        "colab": {}
      },
      "source": [
        "np.set_printoptions(precision= 3)"
      ],
      "execution_count": 0,
      "outputs": []
    },
    {
      "cell_type": "markdown",
      "metadata": {
        "colab_type": "text",
        "id": "8jo3Y9Hs5vwD"
      },
      "source": [
        "### 1. Carregar os dados"
      ]
    },
    {
      "cell_type": "markdown",
      "metadata": {
        "colab_type": "text",
        "id": "tL7k4X--5vwE"
      },
      "source": [
        "[**Python**] - Carregar os dados:"
      ]
    },
    {
      "cell_type": "code",
      "metadata": {
        "colab_type": "code",
        "id": "RTuRMwld5vwG",
        "colab": {}
      },
      "source": [
        "df_Notes= pd.read_csv('https://raw.githubusercontent.com/MathMachado/DataFrames/master/Banknote-authentication-dataset.csv')\n",
        "df_Notes.head()"
      ],
      "execution_count": 0,
      "outputs": []
    },
    {
      "cell_type": "markdown",
      "metadata": {
        "id": "501b-Zv38ce7",
        "colab_type": "text"
      },
      "source": [
        "[**Python**] - Corrigir ou renomear as colunas do dataframe:"
      ]
    },
    {
      "cell_type": "code",
      "metadata": {
        "id": "lBKafqZR8jFb",
        "colab_type": "code",
        "colab": {}
      },
      "source": [
        "df_Notes.columns= df_Notes.columns.str.lower()\n",
        "df_Notes.head()"
      ],
      "execution_count": 0,
      "outputs": []
    },
    {
      "cell_type": "markdown",
      "metadata": {
        "colab_type": "text",
        "id": "HBNIjNaT5vwM"
      },
      "source": [
        "[**Python**] - Mostrar quantas classes há na variável-target:"
      ]
    },
    {
      "cell_type": "code",
      "metadata": {
        "colab_type": "code",
        "id": "c7mZgLDl5vwO",
        "colab": {}
      },
      "source": [
        "df_Notes['class'].value_counts()"
      ],
      "execution_count": 0,
      "outputs": []
    },
    {
      "cell_type": "markdown",
      "metadata": {
        "id": "MG4q-8nf2GS_",
        "colab_type": "text"
      },
      "source": [
        "[**Python**] - Redefinindo a variável-target:"
      ]
    },
    {
      "cell_type": "code",
      "metadata": {
        "colab_type": "code",
        "id": "IA7f1C4e1zOS",
        "colab": {}
      },
      "source": [
        "def Redefinir_label(row):\n",
        "    if row['class']== 1:\n",
        "        return 0\n",
        "    else:\n",
        "        return 1"
      ],
      "execution_count": 0,
      "outputs": []
    },
    {
      "cell_type": "code",
      "metadata": {
        "colab_type": "code",
        "id": "2DkBD1FU1zOo",
        "colab": {}
      },
      "source": [
        "df_Notes['class']= df_Notes.apply(lambda row: Redefinir_label(row), axis= 1)\n",
        "df_Notes.head()"
      ],
      "execution_count": 0,
      "outputs": []
    },
    {
      "cell_type": "markdown",
      "metadata": {
        "colab_type": "text",
        "id": "I0j5o4Iu5vwT"
      },
      "source": [
        "[**Python**] - Mostrar a distribuição da variável-target:"
      ]
    },
    {
      "cell_type": "code",
      "metadata": {
        "colab_type": "code",
        "id": "32EZZ8eP5vwV",
        "colab": {}
      },
      "source": [
        "j = sns.countplot(x=\"class\", data= df_Notes)\n",
        "plt.show(j)"
      ],
      "execution_count": 0,
      "outputs": []
    },
    {
      "cell_type": "markdown",
      "metadata": {
        "colab_type": "text",
        "id": "dV8A71C55vwb"
      },
      "source": [
        "### 2. Pré-processamento e transformação dos dados"
      ]
    },
    {
      "cell_type": "markdown",
      "metadata": {
        "colab_type": "text",
        "id": "Eg-4TkYSXvuo"
      },
      "source": [
        "[**Python**] - Definir os arrays X_Notes e Y_Notes:"
      ]
    },
    {
      "cell_type": "code",
      "metadata": {
        "colab_type": "code",
        "id": "vn2yMB80Xvux",
        "colab": {}
      },
      "source": [
        "X_Notes= df_Notes.copy()\n",
        "X_Notes= X_Notes.drop(columns= ['class'])\n",
        "Y_Notes= df_Notes['class'].values"
      ],
      "execution_count": 0,
      "outputs": []
    },
    {
      "cell_type": "markdown",
      "metadata": {
        "colab_type": "text",
        "id": "Nckf3bieXvvC"
      },
      "source": [
        "[**Python**] - Normalizar os dados - StandardScaler()"
      ]
    },
    {
      "cell_type": "code",
      "metadata": {
        "colab_type": "code",
        "id": "CFTlvOcRXvvE",
        "colab": {}
      },
      "source": [
        "from sklearn.preprocessing import StandardScaler\n",
        "\n",
        "SS = StandardScaler()\n",
        "\n",
        "X_Notes= SS.fit_transform(X_Notes)\n",
        "X_Notes"
      ],
      "execution_count": 0,
      "outputs": []
    },
    {
      "cell_type": "markdown",
      "metadata": {
        "colab_type": "text",
        "id": "Q_ouZ1it5vwz"
      },
      "source": [
        "### 3. Definir as amostras de treinamento e validação"
      ]
    },
    {
      "cell_type": "markdown",
      "metadata": {
        "colab_type": "text",
        "id": "T6NrbTvd5vw1"
      },
      "source": [
        "[**Python**] - Definir as amostras de treinamento e validação da Rede Neural:"
      ]
    },
    {
      "cell_type": "code",
      "metadata": {
        "colab_type": "code",
        "id": "xw3ZZ2fR5vw1",
        "colab": {}
      },
      "source": [
        "from sklearn.model_selection import train_test_split\n",
        "\n",
        "X_Treinamento, X_Teste, Y_Treinamento, Y_Teste= train_test_split(X_Notes, Y_Notes, test_size= 0.1, random_state= 20111974)"
      ],
      "execution_count": 0,
      "outputs": []
    },
    {
      "cell_type": "code",
      "metadata": {
        "colab_type": "code",
        "id": "trfqJbUg5vw8",
        "colab": {}
      },
      "source": [
        "print(f'X: Treinamento=  {X_Treinamento.shape}; X: Teste=  {X_Teste.shape}')"
      ],
      "execution_count": 0,
      "outputs": []
    },
    {
      "cell_type": "code",
      "metadata": {
        "colab_type": "code",
        "id": "duDt1c7i5vxB",
        "colab": {}
      },
      "source": [
        "print(f'Y: Treinamento=  {Y_Treinamento.shape}; Y: Teste= {Y_Teste.shape}')"
      ],
      "execution_count": 0,
      "outputs": []
    },
    {
      "cell_type": "markdown",
      "metadata": {
        "colab_type": "text",
        "id": "e4TKmGtr5vxM"
      },
      "source": [
        "### 4. Definir a arquitetura da Rede Neural com _Tensorflow_/_Keras_"
      ]
    },
    {
      "cell_type": "markdown",
      "metadata": {
        "colab_type": "text",
        "id": "f6EQymRK5vxO"
      },
      "source": [
        "[**Python**] - Definir a arquitetura, ou seja:\n",
        "* $N_{I}$: Número de neurônios na camada de entrada (_Input Layer_);\n",
        "* $N_{O}$: Número de neurônios na camada de saída (_Output Layer_);\n",
        "* $N_{H}$: Número de neurônios na camada escondida (_Hidden Layer_);\n",
        "* FA: Função de ativação;"
      ]
    },
    {
      "cell_type": "code",
      "metadata": {
        "id": "JlUflDN3YkG7",
        "colab_type": "code",
        "colab": {}
      },
      "source": [
        "X_Treinamento.shape"
      ],
      "execution_count": 0,
      "outputs": []
    },
    {
      "cell_type": "code",
      "metadata": {
        "colab_type": "code",
        "id": "bRsHYQp05vxO",
        "colab": {}
      },
      "source": [
        "# Número de Neurônios na Input Layer:\n",
        "N_I= X_Treinamento.shape[1]\n",
        "\n",
        "# Número de neurônios na Output Layer:\n",
        "N_O= 1\n",
        "\n",
        "# Número de neurônios na Hidden Layer 1:\n",
        "N_H1= 8\n",
        "\n",
        "# Número de neurônios na Hidden Layer 2:\n",
        "N_H2= 8\n",
        "\n",
        "# Função de Ativação da Hidden Layer:\n",
        "FA_H= tf.keras.activations.swish\n",
        "\n",
        "# Função de Ativação da Output Layer:\n",
        "FA_O= tf.keras.activations.sigmoid"
      ],
      "execution_count": 0,
      "outputs": []
    },
    {
      "cell_type": "markdown",
      "metadata": {
        "colab_type": "text",
        "id": "sSOj8_9n5vxU"
      },
      "source": [
        "[**Python**] - Definir as sementes para NumPy e Tensorflow:\n",
        "> Por questões de reproducibilidade de resultados, use as sementes abaixo:\n",
        "\n",
        "* NumPy: 20111974;\n",
        "* Tensorflow: 20111974;"
      ]
    },
    {
      "cell_type": "code",
      "metadata": {
        "colab_type": "code",
        "id": "wFYGSoKH5vxU",
        "colab": {}
      },
      "source": [
        "np.random.seed(20111974)\n",
        "tf.random.set_seed(20111974)"
      ],
      "execution_count": 0,
      "outputs": []
    },
    {
      "cell_type": "markdown",
      "metadata": {
        "colab_type": "text",
        "id": "WG1isER05vxZ"
      },
      "source": [
        "[**Python**] - Definir a Rede Neural:"
      ]
    },
    {
      "cell_type": "markdown",
      "metadata": {
        "colab_type": "text",
        "id": "A6IPYp8l5vxa"
      },
      "source": [
        "**Observações**: \n",
        "\n",
        "Para evitar problemas relacionados ao _overfitting_ e _Vanishing or Exploding Gradients in Deep Neural Nets_, os artigos abaixo sugerem as seguintes opções para inicialização dos pesos $W$:\n",
        "\n",
        "* [How to Reduce Overfitting Using Weight Constraints in Keras](https://machinelearningmastery.com/how-to-reduce-overfitting-in-deep-neural-networks-with-weight-constraints-in-keras/) sugere:\n",
        "    * kernel_constraint= tf.keras.constraints.UnitNorm();\n",
        "* [Deep Learning Best Practices (1) — Weight Initialization](https://medium.com/usf-msds/deep-learning-best-practices-1-weight-initialization-14e5c0295b94) sugere:\n",
        "    * kernel_initializer= tf.keras.initializers.he_normal() para activation= 'tf.nn.relu' ou 'tf.nn.leaky_relu' e kernel_constraint= tf.keras.constraints.UnitNorm();\n",
        "* [Vanishing/ Exploding Gradients in Deep Neural Nets and solving them](https://medium.com/swlh/vanishing-exploding-gradients-in-deep-neural-nets-and-solving-them-9d6070f28b29) sugere:\n",
        "    * kernel_initializer= tf.keras.initializers.GlorotUniform();\n",
        "    * kernel_initializer= tf.keras.initializers.GlorotNormal()."
      ]
    },
    {
      "cell_type": "code",
      "metadata": {
        "colab_type": "code",
        "id": "sCRp8O4V5vxa",
        "colab": {}
      },
      "source": [
        "from tensorflow.keras import Sequential\n",
        "from tensorflow.keras.layers import Dense\n",
        "from tensorflow.keras.layers import Dropout\n",
        "\n",
        "RN= Sequential()\n",
        "RN.add(Dense(units= N_H1, input_dim= N_I, activation= FA_H, kernel_initializer= tf.keras.initializers.GlorotUniform(1)))#, kernel_constraint= tf.keras.constraints.UnitNorm()))\n",
        "RN.add(Dense(units= N_O, activation= FA_O))\n",
        "\n",
        "# Resumo da arquitetura da Rede Neural\n",
        "print(RN.summary())"
      ],
      "execution_count": 0,
      "outputs": []
    },
    {
      "cell_type": "markdown",
      "metadata": {
        "colab_type": "text",
        "id": "Titw0r-d5vxh"
      },
      "source": [
        "### 5. Compilar a Rede Neural\n",
        "\n",
        "Este é um problema de classificação binária."
      ]
    },
    {
      "cell_type": "markdown",
      "metadata": {
        "colab_type": "text",
        "id": "oVQsayDq5vxi"
      },
      "source": [
        "[**Python**] - Comando modelo.compile(optimizer, loss, metrics):"
      ]
    },
    {
      "cell_type": "code",
      "metadata": {
        "colab_type": "code",
        "id": "u686jTkd5vxj",
        "colab": {}
      },
      "source": [
        "Algoritmo_Opt= tf.keras.optimizers.Adam()\n",
        "Loss_Function= tf.keras.losses.BinaryCrossentropy()\n",
        "Metrics_Perf= tf.keras.metrics.binary_accuracy\n",
        "\n",
        "RN.compile(optimizer= Algoritmo_Opt, loss= Loss_Function, metrics= Metrics_Perf)"
      ],
      "execution_count": 0,
      "outputs": []
    },
    {
      "cell_type": "markdown",
      "metadata": {
        "colab_type": "text",
        "id": "BKN3oCa65vxn"
      },
      "source": [
        "### 6. Ajustar a Rede Neural\n",
        "\n",
        "Nesta fase, precisamos informar:\n",
        "* **Epoch**: O número de épocas é um hiperparâmetro do _Gradient Descent_ que define o número de iterações para atualizar os pesos $W$ usando o dataframe de treinamento. Uma época significa que cada amostra no dataframe de treinamento atualizou os pesos $W$ 1 vez.\n",
        "* **Batch**: número de amostras consideradas pela Rede Neural em cada _epoch_ antes da atualização dos pesos $W$;\n",
        "\n",
        "#### Exemplo\n",
        "Suponha que temos um dataframe com 1.000 linhas (instâncias) e optamos por _epoch_= 1.000 e _batch_= 5. Isso significa que o dataframe será dividido em $\\frac{1000}{5}= 200$ _batches_. Desta forma, os pesos $W$ serão atualizados a cada processamento de 200 instâncias (linhas).\n"
      ]
    },
    {
      "cell_type": "markdown",
      "metadata": {
        "colab_type": "text",
        "id": "vLHQdKsi5vxn"
      },
      "source": [
        "Obs.: A opção callbacks abaixo implementa o conceito de _early stopping_. Esta opção vai parar o processo de treinamento da Rede Neural antes de atingirmos o númerco de _epochs_ quando o modelo pára de melhorar, medido pela métrica val_loss. O parâmetro _patience_= k significa que o processo de otimização vai parar se tivermos k _epochs_ consecutivas sem observarmos melhoria da performance da Rede Neural."
      ]
    },
    {
      "cell_type": "markdown",
      "metadata": {
        "colab_type": "text",
        "id": "Q6UMutI45vxp"
      },
      "source": [
        "[**Python**] - Comando modelo.fit(X_Treinamento, Y_Treinamento, epochs)"
      ]
    },
    {
      "cell_type": "code",
      "metadata": {
        "colab_type": "code",
        "id": "2YhUEbTC5vxq",
        "colab": {}
      },
      "source": [
        "callbacks = [tf.keras.callbacks.EarlyStopping(monitor='val_loss', patience = 3, min_delta=0.001)]\n",
        "\n",
        "hist= RN.fit(X_Treinamento, Y_Treinamento, epochs= 100, validation_data= (X_Teste, Y_Teste), callbacks= callbacks)"
      ],
      "execution_count": 0,
      "outputs": []
    },
    {
      "cell_type": "code",
      "metadata": {
        "colab_type": "code",
        "id": "jFmtvTwd5vxu",
        "colab": {}
      },
      "source": [
        "Model_Loss(hist)"
      ],
      "execution_count": 0,
      "outputs": []
    },
    {
      "cell_type": "code",
      "metadata": {
        "colab_type": "code",
        "id": "X8Lu0jh55vxz",
        "colab": {}
      },
      "source": [
        "Model_Accuracy(hist)"
      ],
      "execution_count": 0,
      "outputs": []
    },
    {
      "cell_type": "markdown",
      "metadata": {
        "colab_type": "text",
        "id": "sKh0f7Mc5vx4"
      },
      "source": [
        "### 7. Avaliar a performance da Rede Neural\n",
        "\n",
        "Para avaliar a Rede Neural, simplesmente informamos as amostras de teste: X_Teste e Y_Teste.\n",
        "\n",
        "A função evaluate() vai retornar uma lista contendo 2 valores: loss e accuracy."
      ]
    },
    {
      "cell_type": "markdown",
      "metadata": {
        "colab_type": "text",
        "id": "p7nsNQoX5vx5"
      },
      "source": [
        "[**Python**] - Comando modelo.evaluate(X_Teste, Y_Teste)"
      ]
    },
    {
      "cell_type": "code",
      "metadata": {
        "colab_type": "code",
        "id": "B1OvhTbf5vx6",
        "colab": {}
      },
      "source": [
        "RN.evaluate(X_Teste, Y_Teste)"
      ],
      "execution_count": 0,
      "outputs": []
    },
    {
      "cell_type": "markdown",
      "metadata": {
        "colab_type": "text",
        "id": "Z8v2aody5vx-"
      },
      "source": [
        "### 8. Fazer Predições com a Rede Neural\n"
      ]
    },
    {
      "cell_type": "markdown",
      "metadata": {
        "colab_type": "text",
        "id": "0FQy0bZT5vx_"
      },
      "source": [
        "[**Python**] - Comando:\n",
        "* RN.predict_classes(X_Treinamento);\n",
        "* RN.predict_classes(X_Teste).\n"
      ]
    },
    {
      "cell_type": "code",
      "metadata": {
        "colab_type": "code",
        "id": "n8e327A_5vx_",
        "colab": {}
      },
      "source": [
        "Y_Predito = RN.predict_classes(X_Teste)\n",
        "Y_Predito[:10]"
      ],
      "execution_count": 0,
      "outputs": []
    },
    {
      "cell_type": "code",
      "metadata": {
        "colab_type": "code",
        "id": "TiVyZ-CG5vyE",
        "colab": {}
      },
      "source": [
        "Y_Teste"
      ],
      "execution_count": 0,
      "outputs": []
    },
    {
      "cell_type": "markdown",
      "metadata": {
        "colab_type": "text",
        "id": "PawhHD_35vyI"
      },
      "source": [
        "### Conclusões"
      ]
    },
    {
      "cell_type": "markdown",
      "metadata": {
        "colab_type": "text",
        "id": "RcIh4qua_eEU"
      },
      "source": [
        "___\n",
        "# **APLICAÇÃO 1 - Rede Neural para identificar espécies (Iris Dataframe)**\n",
        "\n",
        "> A seguir, vamos desenvolver uma Rede Neural usando _Tensorflow_/_Keras_ para classificar flores (Iris). Nesta aplicação, vamos seguir os passos adiante:\n",
        "\n",
        "1. Carregar os dados;\n",
        "2. Pré-processamento e transformação dos dados;\n",
        "3. Definir as amostras de treinamento e validação;\n",
        "4. Definir a arquitetura da Rede Neural com _Tensorflow_/_Keras_;\n",
        "5. Compilar a Rede Neural;\n",
        "6. Ajustar a Rede Neural;\n",
        "7. Avaliar a performance da Rede Neural;\n",
        "8. _Fine tuning_ da Rede Neural;\n",
        "9. Fazer Predições com a Rede Neural;\n",
        "10. Conclusões."
      ]
    },
    {
      "cell_type": "markdown",
      "metadata": {
        "colab_type": "text",
        "id": "eXRYOpPR4XF4"
      },
      "source": [
        "### 0. Carregar bibliotecas do Python"
      ]
    },
    {
      "cell_type": "markdown",
      "metadata": {
        "colab_type": "text",
        "id": "pa0ir9C_dgOO"
      },
      "source": [
        "[**Python**] - Importar as bibliotecas necessárias:"
      ]
    },
    {
      "cell_type": "code",
      "metadata": {
        "colab_type": "code",
        "id": "yNYF_qzydgOR",
        "colab": {}
      },
      "source": [
        "import numpy as np\n",
        "import pandas as pd\n",
        "import matplotlib.pyplot as plt\n",
        "import seaborn as sns\n",
        "from sklearn.metrics import confusion_matrix\n",
        "\n",
        "from tensorflow import keras"
      ],
      "execution_count": 0,
      "outputs": []
    },
    {
      "cell_type": "markdown",
      "metadata": {
        "colab_type": "text",
        "id": "ird1VzZudgOU"
      },
      "source": [
        "[**Python**] - Definir o número de casas decimais"
      ]
    },
    {
      "cell_type": "code",
      "metadata": {
        "colab_type": "code",
        "id": "lwj9CGzEdgOV",
        "colab": {}
      },
      "source": [
        "np.set_printoptions(precision= 3)"
      ],
      "execution_count": 0,
      "outputs": []
    },
    {
      "cell_type": "markdown",
      "metadata": {
        "colab_type": "text",
        "id": "zmN5HGLOdgOa"
      },
      "source": [
        "[**Python**] - Verificar a versão do Tensorflow\n",
        "> Assegurar que está a utilizar a versão 2.x."
      ]
    },
    {
      "cell_type": "code",
      "metadata": {
        "colab_type": "code",
        "id": "VI86wuv9dgOa",
        "colab": {}
      },
      "source": [
        "tf.__version__"
      ],
      "execution_count": 0,
      "outputs": []
    },
    {
      "cell_type": "markdown",
      "metadata": {
        "colab_type": "text",
        "id": "NoKZnsJpRA8o"
      },
      "source": [
        "Perfeito, estamos a usar o TensorFlow 2.x."
      ]
    },
    {
      "cell_type": "markdown",
      "metadata": {
        "colab_type": "text",
        "id": "xkLZgdkjavO-"
      },
      "source": [
        "### 1. Carregar os dados"
      ]
    },
    {
      "cell_type": "markdown",
      "metadata": {
        "id": "b7LLQyA3vgBG",
        "colab_type": "text"
      },
      "source": [
        "[**Python**] - Carregar os dados:"
      ]
    },
    {
      "cell_type": "code",
      "metadata": {
        "colab_type": "code",
        "id": "ACzNibyKAkx_",
        "colab": {}
      },
      "source": [
        "df_Iris= pd.read_csv('https://raw.githubusercontent.com/MathMachado/DataFrames/master/Iris.csv', index_col= 'Id')\n",
        "df_Iris.head()"
      ],
      "execution_count": 0,
      "outputs": []
    },
    {
      "cell_type": "markdown",
      "metadata": {
        "colab_type": "text",
        "id": "T3Vy41RL-lAQ"
      },
      "source": [
        "[**Python**] - Corrigir ou renomear as colunas do dataframe:"
      ]
    },
    {
      "cell_type": "code",
      "metadata": {
        "colab_type": "code",
        "id": "xN7nBQWg-lAX",
        "colab": {}
      },
      "source": [
        "df_Iris.columns= df_Iris.columns.str.lower()\n",
        "df_Iris.head()"
      ],
      "execution_count": 0,
      "outputs": []
    },
    {
      "cell_type": "markdown",
      "metadata": {
        "id": "Em1wLwdzvkgh",
        "colab_type": "text"
      },
      "source": [
        "[**Python**] - Mostrar quantas classes há na variável-target:"
      ]
    },
    {
      "cell_type": "code",
      "metadata": {
        "colab_type": "code",
        "id": "QhuoPcRuA9Do",
        "colab": {}
      },
      "source": [
        "df_Iris['species'].value_counts()"
      ],
      "execution_count": 0,
      "outputs": []
    },
    {
      "cell_type": "markdown",
      "metadata": {
        "colab_type": "text",
        "id": "lvWcxUvru50G"
      },
      "source": [
        "[**Python**] - Mostrar a distribuição da variável-target 'Species':"
      ]
    },
    {
      "cell_type": "code",
      "metadata": {
        "colab_type": "code",
        "id": "HMpJiMWJu50J",
        "colab": {}
      },
      "source": [
        "j = sns.countplot(x=\"species\", data= df_Iris)\n",
        "plt.show(j)"
      ],
      "execution_count": 0,
      "outputs": []
    },
    {
      "cell_type": "markdown",
      "metadata": {
        "colab_type": "text",
        "id": "a55-G14aa_wG"
      },
      "source": [
        "### 2. Pré-processamento e transformação dos dados"
      ]
    },
    {
      "cell_type": "markdown",
      "metadata": {
        "id": "Uos9OyewvyMo",
        "colab_type": "text"
      },
      "source": [
        "[**Python**] - Aplicar a transformação LabelEncoder() nos dados"
      ]
    },
    {
      "cell_type": "code",
      "metadata": {
        "colab_type": "code",
        "id": "X0V0hWnBg0so",
        "colab": {}
      },
      "source": [
        "from sklearn.preprocessing import LabelEncoder\n",
        "\n",
        "LE = LabelEncoder()\n",
        "\n",
        "species_encoded= LE.fit_transform(df_Iris['species'])\n",
        "df_Iris= df_Iris.drop(columns= ['species'], axis= 1)"
      ],
      "execution_count": 0,
      "outputs": []
    },
    {
      "cell_type": "markdown",
      "metadata": {
        "id": "d8L-b9gZwB4L",
        "colab_type": "text"
      },
      "source": [
        "[**Python**] - Definir o array Y_Iris:"
      ]
    },
    {
      "cell_type": "code",
      "metadata": {
        "id": "zMp2_hJ1wGm3",
        "colab_type": "code",
        "colab": {}
      },
      "source": [
        "Y_Iris= tf.keras.utils.to_categorical(species_encoded)\n",
        "Y_Iris[:5]"
      ],
      "execution_count": 0,
      "outputs": []
    },
    {
      "cell_type": "markdown",
      "metadata": {
        "id": "qfFg6cWdv9El",
        "colab_type": "text"
      },
      "source": [
        "[**Python**] - Definir o array X_Iris:"
      ]
    },
    {
      "cell_type": "code",
      "metadata": {
        "colab_type": "code",
        "id": "7coeWhVRjiQl",
        "colab": {}
      },
      "source": [
        "X_Iris= df_Iris.values\n",
        "X_Iris[:10]"
      ],
      "execution_count": 0,
      "outputs": []
    },
    {
      "cell_type": "markdown",
      "metadata": {
        "colab_type": "text",
        "id": "cUa2sJOSbUFO"
      },
      "source": [
        "### 3. Definir as amostras de treinamento e validação"
      ]
    },
    {
      "cell_type": "markdown",
      "metadata": {
        "id": "kDOw-RHux1nS",
        "colab_type": "text"
      },
      "source": [
        "[**Python**] - Definir as amostras de treinamento e validação da Rede Neural:"
      ]
    },
    {
      "cell_type": "code",
      "metadata": {
        "colab_type": "code",
        "id": "AJE_6w3KL_2O",
        "colab": {}
      },
      "source": [
        "from sklearn.model_selection import train_test_split\n",
        "\n",
        "X_Treinamento, X_Teste, Y_Treinamento, Y_Teste= train_test_split(X_Iris, Y_Iris, test_size= 0.2, random_state= 20111974)"
      ],
      "execution_count": 0,
      "outputs": []
    },
    {
      "cell_type": "code",
      "metadata": {
        "colab_type": "code",
        "id": "NKHTG5IP9nVj",
        "colab": {}
      },
      "source": [
        "print(f'X: Treinamento=  {X_Treinamento.shape}; X: Teste=  {X_Teste.shape}')"
      ],
      "execution_count": 0,
      "outputs": []
    },
    {
      "cell_type": "code",
      "metadata": {
        "id": "qe2mHJhb-PIY",
        "colab_type": "code",
        "colab": {}
      },
      "source": [
        "print(f'Y: Treinamento=  {Y_Treinamento.shape}; Y: Teste= {Y_Teste.shape}')"
      ],
      "execution_count": 0,
      "outputs": []
    },
    {
      "cell_type": "markdown",
      "metadata": {
        "colab_type": "text",
        "id": "wHFI_bLXPPvl"
      },
      "source": [
        "### 4. Definir a arquitetura da Rede Neural com _Tensorflow_/_Keras_"
      ]
    },
    {
      "cell_type": "markdown",
      "metadata": {
        "colab_type": "text",
        "id": "zRYoZ7hwgejR"
      },
      "source": [
        "[**Python**] - Definir a arquitetura, ou seja:\n",
        "* $N_{I}$: Número de neurônios na camada de entrada (_Input Layer_);\n",
        "* $N_{O}$: Número de neurônios na camada de saída (_Output Layer_);\n",
        "* $N_{H}$: Número de neurônios na camada escondida (_Hidden Layer_);\n",
        "* FA: Função de ativação;"
      ]
    },
    {
      "cell_type": "code",
      "metadata": {
        "colab_type": "code",
        "id": "mjF1haRmgejS",
        "colab": {}
      },
      "source": [
        "# Número de Neurônios na Input Layer:\n",
        "N_I= X.Treinamento.shape[1]\n",
        "\n",
        "# Número de neurônios na Output Layer:\n",
        "N_O= Y_Iris.shape[1]\n",
        "\n",
        "# Número de neurônios na Hidden Layer:\n",
        "N_H1= 32\n",
        "\n",
        "# Função de Ativação da Hidden Layer:\n",
        "FA_H= tf.nn.leaky_relu\n",
        "\n",
        "# Função de Ativação da Output Layer:\n",
        "FA_O= tf.nn.softmax"
      ],
      "execution_count": 0,
      "outputs": []
    },
    {
      "cell_type": "markdown",
      "metadata": {
        "colab_type": "text",
        "id": "tGeDaB3oo02k"
      },
      "source": [
        "[**Python**] - Definir as sementes para NumPy e Tensorflow:\n",
        "> Por questões de reproducibilidade de resultados, use as sementes abaixo:\n",
        "\n",
        "* NumPy: 20111974;\n",
        "* Tensorflow: 20111974;"
      ]
    },
    {
      "cell_type": "code",
      "metadata": {
        "colab_type": "code",
        "id": "zGS15afAo02n",
        "colab": {}
      },
      "source": [
        "np.random.seed(20111974)\n",
        "tf.random.set_seed(20111974)"
      ],
      "execution_count": 0,
      "outputs": []
    },
    {
      "cell_type": "markdown",
      "metadata": {
        "id": "iT9w2tUCo5-X",
        "colab_type": "text"
      },
      "source": [
        "[**Python**] - Definir a Rede Neural:"
      ]
    },
    {
      "cell_type": "markdown",
      "metadata": {
        "colab_type": "text",
        "id": "nytcmC4BkSz1"
      },
      "source": [
        "**Observações**: \n",
        "\n",
        "Para evitar problemas relacionados ao _overfitting_ e _Vanishing or Exploding Gradients in Deep Neural Nets_, os artigos abaixo sugerem as seguintes opções para inicialização dos pesos $W$:\n",
        "\n",
        "* [How to Reduce Overfitting Using Weight Constraints in Keras](https://machinelearningmastery.com/how-to-reduce-overfitting-in-deep-neural-networks-with-weight-constraints-in-keras/) sugere:\n",
        "    * kernel_constraint= tf.keras.constraints.UnitNorm();\n",
        "* [Deep Learning Best Practices (1) — Weight Initialization](https://medium.com/usf-msds/deep-learning-best-practices-1-weight-initialization-14e5c0295b94) sugere:\n",
        "    * kernel_initializer= tf.keras.initializers.he_normal() para activation= 'tf.nn.relu' ou 'tf.nn.leaky_relu' e kernel_constraint= tf.keras.constraints.UnitNorm();\n",
        "* [Vanishing/ Exploding Gradients in Deep Neural Nets and solving them](https://medium.com/swlh/vanishing-exploding-gradients-in-deep-neural-nets-and-solving-them-9d6070f28b29) sugere:\n",
        "    * kernel_initializer= tf.keras.initializers.GlorotUniform();\n",
        "    * kernel_initializer= tf.keras.initializers.GlorotNormal()."
      ]
    },
    {
      "cell_type": "code",
      "metadata": {
        "colab_type": "code",
        "id": "LnLeLMmZoUjU",
        "colab": {}
      },
      "source": [
        "from tensorflow.keras import Sequential\n",
        "from tensorflow.keras.layers import Dense\n",
        "from tensorflow.keras.layers import Dropout\n",
        "\n",
        "RN= Sequential()\n",
        "RN.add(Dense(units= N_H, input_dim= N_I, kernel_initializer= tf.keras.initializers.GlorotNormal(), activation= FA_H, kernel_constraint= tf.keras.constraints.UnitNorm()))\n",
        "RN.add(Dropout(0.1))\n",
        "RN.add(Dense(units= N_O, activation= FA_O))\n",
        "\n",
        "# Resumo da arquitetura da Rede Neural\n",
        "print(RN.summary())"
      ],
      "execution_count": 0,
      "outputs": []
    },
    {
      "cell_type": "markdown",
      "metadata": {
        "colab_type": "text",
        "id": "3eT-EHUecTj3"
      },
      "source": [
        "### 5. Compilar a Rede Neural\n",
        "\n",
        "Este é um problema de classificação multi-classes (> 2 classes). Portanto, temos:\n",
        "* loss= tf.keras.losses.CategoricalCrossentropy()\n",
        ";\n",
        "* metrics= tf.keras.metrics.binary_accuracy;\n",
        "* optimizer= tf.keras.optimizers.Adam()."
      ]
    },
    {
      "cell_type": "markdown",
      "metadata": {
        "id": "fsq0aEtwyAAM",
        "colab_type": "text"
      },
      "source": [
        "[**Python**] - Comando modelo.compile(optimizer, loss, metrics):"
      ]
    },
    {
      "cell_type": "code",
      "metadata": {
        "colab_type": "code",
        "id": "NDStOKqhcRf4",
        "colab": {}
      },
      "source": [
        "Algoritmo_Opt= tf.keras.optimizers.Adam()\n",
        "Loss_Function= tf.keras.losses.CategoricalCrossentropy()\n",
        "Metrics_Perf= tf.keras.metrics.binary_accuracy\n",
        "\n",
        "RN.compile(optimizer= Algoritmo_Opt, loss= Loss_Function, metrics= Metrics_Perf)"
      ],
      "execution_count": 0,
      "outputs": []
    },
    {
      "cell_type": "markdown",
      "metadata": {
        "colab_type": "text",
        "id": "hZFu65TecabN"
      },
      "source": [
        "### 6. Ajustar a Rede Neural\n",
        "\n",
        "Nesta fase, precisamos informar:\n",
        "* **Epoch**: O número de épocas é um hiperparâmetro do _Gradient Descent_ que define o número de iterações para atualizar os pesos $W$ usando o dataframe de treinamento. Uma época significa que cada amostra no dataframe de treinamento atualizou os pesos $W$ 1 vez.\n",
        "* **Batch**: número de amostras consideradas pela Rede Neural em cada _epoch_ antes da atualização dos pesos $W$;\n",
        "\n",
        "#### Exemplo\n",
        "Suponha que temos um dataframe com 1.000 linhas (instâncias) e optamos por _epoch_= 1.000 e _batch_= 5. Isso significa que o dataframe será dividido em $\\frac{1000}{5}= 200$ _batches_. Desta forma, os pesos $W$ serão atualizados a cada processamento de 200 instâncias (linhas).\n"
      ]
    },
    {
      "cell_type": "markdown",
      "metadata": {
        "colab_type": "text",
        "id": "boIs266gaZt1"
      },
      "source": [
        "Obs.: A opção callbacks abaixo implementa o conceito de _early stopping_. Esta opção vai parar o processo de treinamento da Rede Neural antes de atingirmos o númerco de _epochs_ quando o modelo pára de melhorar, medido pela métrica val_loss. O parâmetro _patience_= k significa que o processo de otimização vai parar se tivermos k _epochs_ consecutivas sem observarmos melhoria da performance da Rede Neural."
      ]
    },
    {
      "cell_type": "markdown",
      "metadata": {
        "colab_type": "text",
        "id": "LpR3dXRZ-jom"
      },
      "source": [
        "[**Python**] - Comando modelo.fit(X_Treinamento, Y_Treinamento, epochs)"
      ]
    },
    {
      "cell_type": "code",
      "metadata": {
        "colab_type": "code",
        "id": "9hDxEwHjca8V",
        "colab": {}
      },
      "source": [
        "callbacks = [tf.keras.callbacks.EarlyStopping(monitor='val_loss', patience = 3, min_delta=0.001)]\n",
        "hist= RN.fit(X_Treinamento, Y_Treinamento, epochs= 100, validation_data= (X_Teste, Y_Teste), callbacks= callbacks)"
      ],
      "execution_count": 0,
      "outputs": []
    },
    {
      "cell_type": "code",
      "metadata": {
        "colab_type": "code",
        "id": "JF7EC-g82Hho",
        "colab": {}
      },
      "source": [
        "Model_Loss(hist)"
      ],
      "execution_count": 0,
      "outputs": []
    },
    {
      "cell_type": "code",
      "metadata": {
        "colab_type": "code",
        "id": "ea0HHBsY2NZ5",
        "colab": {}
      },
      "source": [
        "Model_Accuracy(hist)"
      ],
      "execution_count": 0,
      "outputs": []
    },
    {
      "cell_type": "markdown",
      "metadata": {
        "colab_type": "text",
        "id": "pqVJMX3xchLF"
      },
      "source": [
        "### 7. Avaliar a performance da Rede Neural\n",
        "\n",
        "Para avaliar a Rede Neural, simplesmente informamos as amostras de teste: X_Teste e Y_Teste.\n",
        "\n",
        "A função evaluate() vai retornar uma lista contendo 2 valores: loss e accuracy."
      ]
    },
    {
      "cell_type": "markdown",
      "metadata": {
        "id": "hKbO1nT0yQM1",
        "colab_type": "text"
      },
      "source": [
        "[**Python**] - Comando modelo.evaluate(X_Teste, Y_Teste)"
      ]
    },
    {
      "cell_type": "code",
      "metadata": {
        "colab_type": "code",
        "id": "cYqDY9V9chcZ",
        "colab": {}
      },
      "source": [
        "RN.evaluate(X_Teste, Y_Teste)"
      ],
      "execution_count": 0,
      "outputs": []
    },
    {
      "cell_type": "markdown",
      "metadata": {
        "colab_type": "text",
        "id": "qchEpyipcnbE"
      },
      "source": [
        "### 8. Fazer Predições com a Rede Neural"
      ]
    },
    {
      "cell_type": "markdown",
      "metadata": {
        "id": "9X2SZ5fx2_s5",
        "colab_type": "text"
      },
      "source": [
        "[**Python**] - Comando:\n",
        "* RN.predict_classes(X_Treinamento);\n",
        "* RN.predict_classes(X_Teste)."
      ]
    },
    {
      "cell_type": "code",
      "metadata": {
        "colab_type": "code",
        "id": "FR6ySksLhRvR",
        "colab": {}
      },
      "source": [
        "Y_Predito= RN.predict_classes(X_Teste)\n",
        "Y_Predito"
      ],
      "execution_count": 0,
      "outputs": []
    },
    {
      "cell_type": "code",
      "metadata": {
        "colab_type": "code",
        "id": "LWnRgBbmmlA2",
        "colab": {}
      },
      "source": [
        "Y_Teste"
      ],
      "execution_count": 0,
      "outputs": []
    },
    {
      "cell_type": "markdown",
      "metadata": {
        "colab_type": "text",
        "id": "wjCtiKieE_TT"
      },
      "source": [
        "### Conclusões"
      ]
    },
    {
      "cell_type": "markdown",
      "metadata": {
        "id": "LxMzVIGzzGHH",
        "colab_type": "text"
      },
      "source": [
        ""
      ]
    },
    {
      "cell_type": "markdown",
      "metadata": {
        "colab_type": "text",
        "id": "1qjSoM5quog1"
      },
      "source": [
        "___\n",
        "# **APLICAÇÃO 2 - Rede Neural para identificar o tipo do vinho (_Red or White_)**\n",
        "\n",
        "> Nesta aplicação, vamos usar o dataframe [wine quality](https://archive.ics.uci.edu/ml/datasets/wine+quality) extraído do repositório da UCI Machine Learning Repository. Nosso objetivo é prever o tipo do vinho (red ou white) baseado nas suas propriedades químicas.\n",
        "\n",
        "Novamente, vamos desenvolver uma Rede Neural usando _Tensorflow_/_Keras_ e seguir os passos adiante:\n",
        "\n",
        "1. Carregar os dados;\n",
        "2. Pré-processamento e transformação dos dados;\n",
        "3. Definir as amostras de treinamento e validação;\n",
        "4. Definir a arquitetura da Rede Neural com _Tensorflow_/_Keras_;\n",
        "5. Compilar a Rede Neural;\n",
        "6. Ajustar a Rede Neural;\n",
        "7. Avaliar a performance da Rede Neural;\n",
        "8. _Fine tuning_ da Rede Neural;\n",
        "9. Fazer Predições com a Rede Neural;\n",
        "10. Conclusões."
      ]
    },
    {
      "cell_type": "markdown",
      "metadata": {
        "colab_type": "text",
        "id": "VuG8zbYS4jyx"
      },
      "source": [
        "### 0. Carregar bibliotecas do Python"
      ]
    },
    {
      "cell_type": "markdown",
      "metadata": {
        "colab_type": "text",
        "id": "O3XD4otFd9Ht"
      },
      "source": [
        "[**Python**] - Importar as bibliotecas necessárias:"
      ]
    },
    {
      "cell_type": "code",
      "metadata": {
        "colab_type": "code",
        "id": "I5Ok5fhid9Hv",
        "colab": {}
      },
      "source": [
        "import numpy as np\n",
        "import pandas as pd\n",
        "import matplotlib.pyplot as plt\n",
        "import seaborn as sns\n",
        "from sklearn.metrics import confusion_matrix\n",
        "\n",
        "from tensorflow import keras"
      ],
      "execution_count": 0,
      "outputs": []
    },
    {
      "cell_type": "markdown",
      "metadata": {
        "colab_type": "text",
        "id": "ZBXRTgnCd9Hz"
      },
      "source": [
        "[**Python**] - Definir o número de casas decimais"
      ]
    },
    {
      "cell_type": "code",
      "metadata": {
        "colab_type": "code",
        "id": "NFrOyNUgd9Hz",
        "colab": {}
      },
      "source": [
        "np.set_printoptions(precision= 3)"
      ],
      "execution_count": 0,
      "outputs": []
    },
    {
      "cell_type": "markdown",
      "metadata": {
        "colab_type": "text",
        "id": "cGxW2zn6q8xY"
      },
      "source": [
        "[**Python**] - Verificar a versão do Tensorflow\n",
        "> Assegurar que está a utilizar a versão 2.x."
      ]
    },
    {
      "cell_type": "code",
      "metadata": {
        "colab_type": "code",
        "id": "C36Z6vGD4jy8",
        "colab": {}
      },
      "source": [
        "tf.__version__"
      ],
      "execution_count": 0,
      "outputs": []
    },
    {
      "cell_type": "markdown",
      "metadata": {
        "colab_type": "text",
        "id": "kWJXP5diof5G"
      },
      "source": [
        "### 1. Carregar os dados"
      ]
    },
    {
      "cell_type": "markdown",
      "metadata": {
        "id": "IJJe4r_ITDzv",
        "colab_type": "text"
      },
      "source": [
        "[**Python**] - Carregar os dados:"
      ]
    },
    {
      "cell_type": "code",
      "metadata": {
        "colab_type": "code",
        "id": "jIjqYXlH4tyG",
        "colab": {}
      },
      "source": [
        "from sklearn.datasets import load_wine\n",
        "Wine= load_wine()"
      ],
      "execution_count": 0,
      "outputs": []
    },
    {
      "cell_type": "code",
      "metadata": {
        "colab_type": "code",
        "id": "5iU33wKQGrFb",
        "colab": {}
      },
      "source": [
        "df_Red= pd.read_table(\"http://archive.ics.uci.edu/ml/machine-learning-databases/wine-quality/winequality-red.csv\", sep=';')\n",
        "df_Red.head()"
      ],
      "execution_count": 0,
      "outputs": []
    },
    {
      "cell_type": "code",
      "metadata": {
        "colab_type": "code",
        "id": "Liy2KSr6HJUX",
        "colab": {}
      },
      "source": [
        "df_White= pd.read_table('http://archive.ics.uci.edu/ml/machine-learning-databases/wine-quality/winequality-white.csv', sep= ';')\n",
        "df_White.head()"
      ],
      "execution_count": 0,
      "outputs": []
    },
    {
      "cell_type": "markdown",
      "metadata": {
        "id": "4TzUnuM4TMmJ",
        "colab_type": "text"
      },
      "source": [
        "[**Python**] - Mostrar o número de linhas e colunas de cada dataframe:"
      ]
    },
    {
      "cell_type": "code",
      "metadata": {
        "colab_type": "code",
        "id": "pHNwVRQyIwdv",
        "colab": {}
      },
      "source": [
        "print(f'Dimensão de df_Red: {df_Red.shape}; Dimensão de df_White: {df_White.shape}')"
      ],
      "execution_count": 0,
      "outputs": []
    },
    {
      "cell_type": "markdown",
      "metadata": {
        "colab_type": "text",
        "id": "tBWzMsUHJjTU"
      },
      "source": [
        "[**Python**] - Construir a variável-target 'type_wine' (tipo do vinho):"
      ]
    },
    {
      "cell_type": "code",
      "metadata": {
        "colab_type": "code",
        "id": "B0WmX3FYJqMR",
        "colab": {}
      },
      "source": [
        "df_Red['type_wine']= 0\n",
        "df_White['type_wine']= 1"
      ],
      "execution_count": 0,
      "outputs": []
    },
    {
      "cell_type": "markdown",
      "metadata": {
        "colab_type": "text",
        "id": "EVUc1vbqJ0D9"
      },
      "source": [
        "[**Python**] - Empilhar os dois dataframes: df_Red e df_White:"
      ]
    },
    {
      "cell_type": "code",
      "metadata": {
        "colab_type": "code",
        "id": "gS9SlpvaJ2Ex",
        "colab": {}
      },
      "source": [
        "df_Wine= pd.concat([df_Red, df_White], ignore_index=True)\n",
        "df_Wine.head()"
      ],
      "execution_count": 0,
      "outputs": []
    },
    {
      "cell_type": "code",
      "metadata": {
        "colab_type": "code",
        "id": "dM19HHENKMtq",
        "colab": {}
      },
      "source": [
        "df_Wine.tail()"
      ],
      "execution_count": 0,
      "outputs": []
    },
    {
      "cell_type": "markdown",
      "metadata": {
        "colab_type": "text",
        "id": "mpoNmcqpeQxO"
      },
      "source": [
        "[**Python**] - Mostrar o número de linhas e colunas do dataframe df_Wine:"
      ]
    },
    {
      "cell_type": "code",
      "metadata": {
        "colab_type": "code",
        "id": "YJDazoMMeMet",
        "colab": {}
      },
      "source": [
        "df_Wine.shape"
      ],
      "execution_count": 0,
      "outputs": []
    },
    {
      "cell_type": "markdown",
      "metadata": {
        "colab_type": "text",
        "id": "tNyjXmFzo7oe"
      },
      "source": [
        "### 2. Pré-processamento e transformação dos dados"
      ]
    },
    {
      "cell_type": "markdown",
      "metadata": {
        "id": "xcV_dlHsTpiP",
        "colab_type": "text"
      },
      "source": [
        "[**Python**] - Renomear o nome das colunas usando letras minúsculas:"
      ]
    },
    {
      "cell_type": "code",
      "metadata": {
        "colab_type": "code",
        "id": "Jau2OybudGc0",
        "colab": {}
      },
      "source": [
        "df_Wine.columns = df_Wine.columns.str.strip().str.lower().str.replace(' ', '_')"
      ],
      "execution_count": 0,
      "outputs": []
    },
    {
      "cell_type": "code",
      "metadata": {
        "colab_type": "code",
        "id": "EzOWiaCFdq_C",
        "colab": {}
      },
      "source": [
        "df_Wine.head()"
      ],
      "execution_count": 0,
      "outputs": []
    },
    {
      "cell_type": "markdown",
      "metadata": {
        "colab_type": "text",
        "id": "F1wgkLcvete8"
      },
      "source": [
        "[**Python**] - Estatísticas descritivas do dataframe df_Wine:"
      ]
    },
    {
      "cell_type": "code",
      "metadata": {
        "colab_type": "code",
        "id": "A-EbHitYepeQ",
        "colab": {}
      },
      "source": [
        "df_Wine.describe()"
      ],
      "execution_count": 0,
      "outputs": []
    },
    {
      "cell_type": "markdown",
      "metadata": {
        "colab_type": "text",
        "id": "uRo_7tOjex3Z"
      },
      "source": [
        "####  _Missing Values Handling_"
      ]
    },
    {
      "cell_type": "markdown",
      "metadata": {
        "id": "wJ3K_FmCUCsk",
        "colab_type": "text"
      },
      "source": [
        "[**Python**] - Mostrar o número de _missing values_ no dataframe df_Wine:"
      ]
    },
    {
      "cell_type": "code",
      "metadata": {
        "colab_type": "code",
        "id": "PODgu5B6e5qQ",
        "colab": {}
      },
      "source": [
        "df_Wine.info()"
      ],
      "execution_count": 0,
      "outputs": []
    },
    {
      "cell_type": "markdown",
      "metadata": {
        "colab_type": "text",
        "id": "szH_TGJZecXp"
      },
      "source": [
        "Como podem ver, o dataframe df_Wine não contem _missing values_."
      ]
    },
    {
      "cell_type": "markdown",
      "metadata": {
        "colab_type": "text",
        "id": "64znO089vF_2"
      },
      "source": [
        "[**Python**] - Mostrar a distribuição da variável-target 'type_wine':"
      ]
    },
    {
      "cell_type": "code",
      "metadata": {
        "colab_type": "code",
        "id": "ztQ17lhWfdAu",
        "colab": {}
      },
      "source": [
        "df_Wine['type_wine'].value_counts()"
      ],
      "execution_count": 0,
      "outputs": []
    },
    {
      "cell_type": "code",
      "metadata": {
        "colab_type": "code",
        "id": "zDRVQy5avF_4",
        "colab": {}
      },
      "source": [
        "j = sns.countplot(x=\"type_wine\", data= df_Wine)\n",
        "plt.show(j)"
      ],
      "execution_count": 0,
      "outputs": []
    },
    {
      "cell_type": "markdown",
      "metadata": {
        "colab_type": "text",
        "id": "PxexO1Uyeqnj"
      },
      "source": [
        "Como podem ver, temos 6.497 instâncias, das quais 4.898 (75%) instâncias são type_wine= 1 (_white_) e 1.599 (25%) instâncias são type_wine= 0 (_red_). Logo, trata-se de um dataframe desbalanceado. No entanto, não vou me preocupar com este assunto neste Notebook e deixo para os alunos como exercício verificar os efeitos das amostras desbalanceadas."
      ]
    },
    {
      "cell_type": "markdown",
      "metadata": {
        "id": "kr_HZnF0UUh3",
        "colab_type": "text"
      },
      "source": [
        "[**Python**] - Definir os arrays X_Wine e Y_Wine:"
      ]
    },
    {
      "cell_type": "code",
      "metadata": {
        "colab_type": "code",
        "id": "HNvImi4djc-3",
        "colab": {}
      },
      "source": [
        "X_Wine= df_Wine.copy()\n",
        "X_Wine= X_Wine.drop(columns= ['type_wine'])\n",
        "Y_Wine= df_Wine['type_wine'].values"
      ],
      "execution_count": 0,
      "outputs": []
    },
    {
      "cell_type": "markdown",
      "metadata": {
        "colab_type": "text",
        "id": "ViMFMd_SlE3x"
      },
      "source": [
        "[**Python**] - Normalizar os dados - StandardScaler()"
      ]
    },
    {
      "cell_type": "code",
      "metadata": {
        "colab_type": "code",
        "id": "OurlnbX3hzSb",
        "colab": {}
      },
      "source": [
        "from sklearn.preprocessing import StandardScaler\n",
        "\n",
        "# Define o scaler \n",
        "SS = StandardScaler()\n",
        "\n",
        "# Scale o dataframe\n",
        "X_Wine = SS.fit_transform(X_Wine)"
      ],
      "execution_count": 0,
      "outputs": []
    },
    {
      "cell_type": "markdown",
      "metadata": {
        "colab_type": "text",
        "id": "KFkJ7b4U1x3D"
      },
      "source": [
        "### 3. Definir as amostras de treinamento e validação"
      ]
    },
    {
      "cell_type": "markdown",
      "metadata": {
        "colab_type": "text",
        "id": "MBqzBcDL2JH4"
      },
      "source": [
        "[**Python**] - Definir as amostras de treinamento e validação"
      ]
    },
    {
      "cell_type": "code",
      "metadata": {
        "colab_type": "code",
        "id": "bCQUxbbxhVTM",
        "colab": {}
      },
      "source": [
        "from sklearn.model_selection import train_test_split\n",
        "\n",
        "X_Treinamento, X_Teste, Y_Treinamento, Y_Teste = train_test_split(X_Wine, Y_Wine, test_size= 0.2, random_state= 20111974)\n",
        "print(f'X: Treinamento=  {X_Treinamento.shape}; X: Teste= {X_Teste.shape}')"
      ],
      "execution_count": 0,
      "outputs": []
    },
    {
      "cell_type": "code",
      "metadata": {
        "id": "HHmTtQ3F9A9c",
        "colab_type": "code",
        "colab": {}
      },
      "source": [
        "print(f'Y: Treinamento=  {Y_Treinamento.shape}; Y: Teste= {Y_Teste.shape}')"
      ],
      "execution_count": 0,
      "outputs": []
    },
    {
      "cell_type": "markdown",
      "metadata": {
        "colab_type": "text",
        "id": "pPW0aWd4jw0o"
      },
      "source": [
        "### 4. Definir a arquitetura da Rede Neural com _Tensorflow_/_Keras_"
      ]
    },
    {
      "cell_type": "markdown",
      "metadata": {
        "colab_type": "text",
        "id": "ea4WTsP-hCqS"
      },
      "source": [
        "[**Python**] - Definir a arquitetura, ou seja:\n",
        "* $N_{I}$: Número de neurônios na camada de entrada (_Input Layer_);\n",
        "* $N_{O}$: Número de neurônios na camada de saída (_Output Layer_);\n",
        "* $N_{H}$: Número de neurônios na camada escondida (_Hidden Layer_);\n",
        "* FA: Função de ativação;"
      ]
    },
    {
      "cell_type": "code",
      "metadata": {
        "colab_type": "code",
        "id": "y1pVFjFThCqU",
        "colab": {}
      },
      "source": [
        "# Número de Neurônios na Input Layer:\n",
        "N_I= X_Wine.shape[1]\n",
        "\n",
        "# Número de neurônios na Output Layer:\n",
        "N_O= 1\n",
        "\n",
        "# Número de neurônios na Hidden Layer:\n",
        "N_H1= 7\n",
        "\n",
        "# Função de Ativação da Hidden Layer:\n",
        "FA_H= tf.nn.leaky_relu\n",
        "\n",
        "# Função de Ativação da Output Layer:\n",
        "FA_O= tf.nn.leaky_relu"
      ],
      "execution_count": 0,
      "outputs": []
    },
    {
      "cell_type": "markdown",
      "metadata": {
        "colab_type": "text",
        "id": "url8178EpUNO"
      },
      "source": [
        "[**Python**] - Definir as sementes para NumPy e Tensorflow:\n",
        "> Por questões de reproducibilidade de resultados, use as sementes abaixo:\n",
        "\n",
        "* NumPy: 20111974;\n",
        "* Tensorflow: 20111974;"
      ]
    },
    {
      "cell_type": "code",
      "metadata": {
        "colab_type": "code",
        "id": "MU-8uWn-pUNQ",
        "colab": {}
      },
      "source": [
        "np.random.seed(20111974)\n",
        "tf.random.set_seed(20111974)"
      ],
      "execution_count": 0,
      "outputs": []
    },
    {
      "cell_type": "markdown",
      "metadata": {
        "id": "6TLUirr6oXv1",
        "colab_type": "text"
      },
      "source": [
        "[**Python**] - Definir a Rede Neural:"
      ]
    },
    {
      "cell_type": "markdown",
      "metadata": {
        "id": "8HOQIkQ3beJm",
        "colab_type": "text"
      },
      "source": [
        "**Observações**: \n",
        "\n",
        "Para evitar problemas relacionados ao _overfitting_ e _Vanishing or Exploding Gradients in Deep Neural Nets_, os artigos abaixo sugerem as seguintes opções para inicialização dos pesos $W$:\n",
        "\n",
        "* [How to Reduce Overfitting Using Weight Constraints in Keras](https://machinelearningmastery.com/how-to-reduce-overfitting-in-deep-neural-networks-with-weight-constraints-in-keras/) sugere:\n",
        "    * kernel_constraint= tf.keras.constraints.UnitNorm();\n",
        "* [Deep Learning Best Practices (1) — Weight Initialization](https://medium.com/usf-msds/deep-learning-best-practices-1-weight-initialization-14e5c0295b94) sugere:\n",
        "    * kernel_initializer= tf.keras.initializers.he_normal() para activation= 'tf.nn.relu' ou 'tf.nn.leaky_relu' e kernel_constraint= tf.keras.constraints.UnitNorm();\n",
        "* [Vanishing/ Exploding Gradients in Deep Neural Nets and solving them](https://medium.com/swlh/vanishing-exploding-gradients-in-deep-neural-nets-and-solving-them-9d6070f28b29) sugere:\n",
        "    * kernel_initializer= tf.keras.initializers.GlorotUniform();\n",
        "    * kernel_initializer= tf.keras.initializers.GlorotNormal()."
      ]
    },
    {
      "cell_type": "code",
      "metadata": {
        "colab_type": "code",
        "id": "Bj5uJvgaj43u",
        "colab": {}
      },
      "source": [
        "from tensorflow.keras import Sequential\n",
        "from tensorflow.keras.layers import Dense\n",
        "from tensorflow.keras.layers import Dropout\n",
        "\n",
        "RN= Sequential()\n",
        "RN.add(Dense(units= N_H, input_dim= N_I, kernel_initializer= tf.keras.initializers.GlorotNormal(), activation= FA_H, kernel_constraint= tf.keras.constraints.UnitNorm()))\n",
        "RN.add(Dropout(0.1))\n",
        "RN.add(Dense(units= N_O, activation= FA_O))\n",
        "\n",
        "# Resumo da arquitetura da Rede Neural\n",
        "print(RN.summary())"
      ],
      "execution_count": 0,
      "outputs": []
    },
    {
      "cell_type": "markdown",
      "metadata": {
        "colab_type": "text",
        "id": "LTs8xbKx2O3Z"
      },
      "source": [
        "### 5. Compilar a Rede Neural\n",
        "\n",
        "Este é um problema de classificação binária (_red_ ou _white_). Portanto, temos:\n",
        "* loss=  tf.keras.losses.BinaryCrossentropy();\n",
        "* metrics= tf.keras.metrics.binary_accuracy;\n",
        "* optimizer= tf.keras.optimizers.Adam().\n",
        "\n",
        "> **Lembre-se**: se o problema fosse de classificação de multi-classes (> 2 classes), então devemos usar loss= tf.keras.losses.CategoricalCrossentropy()."
      ]
    },
    {
      "cell_type": "markdown",
      "metadata": {
        "colab_type": "text",
        "id": "kUpBKJkl07KH"
      },
      "source": [
        "[**Python**] - Comando modelo.compile(optimizer, loss, metrics):"
      ]
    },
    {
      "cell_type": "code",
      "metadata": {
        "colab_type": "code",
        "id": "qGZ1bKCo2L7A",
        "colab": {}
      },
      "source": [
        "Algoritmo_Opt= tf.keras.optimizers.Adam()\n",
        "Loss_Function= tf.keras.losses.BinaryCrossentropy()\n",
        "Metrics_Perf= tf.keras.metrics.binary_accuracy\n",
        "\n",
        "RN.compile(optimizer= Algoritmo_Opt, loss= Loss_Function, metrics= Metrics_Perf)"
      ],
      "execution_count": 0,
      "outputs": []
    },
    {
      "cell_type": "markdown",
      "metadata": {
        "colab_type": "text",
        "id": "jBhkSc582ROC"
      },
      "source": [
        "### 6. Ajustar a Rede Neural\n",
        "\n",
        "Obs.: A opção callbacks abaixo implementa o conceito de _early stopping_. Esta opção vai parar o processo de treinamento da Rede Neural antes de atingirmos o númerco de _epochs_ quando o modelo pára de melhorar, medido pela métrica val_loss. O parâmetro _patience_= k significa que o processo de otimização vai parar se tivermos k _epochs_ consecutivas sem observarmos melhoria da performance da Rede Neural."
      ]
    },
    {
      "cell_type": "markdown",
      "metadata": {
        "colab_type": "text",
        "id": "ls8FfHz0z2lX"
      },
      "source": [
        "[**Python**] - Comando modelo.fit(X_Treinamento, Y_Treinamento, epochs)"
      ]
    },
    {
      "cell_type": "code",
      "metadata": {
        "colab_type": "code",
        "id": "5mpbdiuJ2d1W",
        "colab": {}
      },
      "source": [
        "callbacks = [tf.keras.callbacks.EarlyStopping(monitor='val_loss', patience = 5, min_delta=0.001)]\n",
        "hist= RN.fit(X_Treinamento, Y_Treinamento, epochs= 10, validation_data= (X_Teste, Y_Teste), callbacks= callbacks)"
      ],
      "execution_count": 0,
      "outputs": []
    },
    {
      "cell_type": "code",
      "metadata": {
        "colab_type": "code",
        "id": "sALJp9FQ2WGC",
        "colab": {}
      },
      "source": [
        "Model_Accuracy(hist)"
      ],
      "execution_count": 0,
      "outputs": []
    },
    {
      "cell_type": "code",
      "metadata": {
        "colab_type": "code",
        "id": "cWR2rMLg2ZlQ",
        "colab": {}
      },
      "source": [
        "Model_Loss(hist)"
      ],
      "execution_count": 0,
      "outputs": []
    },
    {
      "cell_type": "markdown",
      "metadata": {
        "colab_type": "text",
        "id": "ciXdkbVr2VDG"
      },
      "source": [
        "### 7. Avaliar a performance da Rede Neural"
      ]
    },
    {
      "cell_type": "markdown",
      "metadata": {
        "id": "RS4_cV5TyamK",
        "colab_type": "text"
      },
      "source": [
        "[**Python**] - Comando modelo.evaluate(X_Teste, Y_Teste)"
      ]
    },
    {
      "cell_type": "code",
      "metadata": {
        "colab_type": "code",
        "id": "hkkxiqPe2gZK",
        "colab": {}
      },
      "source": [
        "RN.evaluate(X_Teste, Y_Teste)"
      ],
      "execution_count": 0,
      "outputs": []
    },
    {
      "cell_type": "markdown",
      "metadata": {
        "colab_type": "text",
        "id": "m8Vs47VV4RsV"
      },
      "source": [
        "A Rede Neural tem acurácia= 0.9946."
      ]
    },
    {
      "cell_type": "markdown",
      "metadata": {
        "colab_type": "text",
        "id": "RHQoDk533TRX"
      },
      "source": [
        "[**Python**] - Comando:\n",
        "* RN.predict_classes(X_Treinamento);\n",
        "* RN.predict_classes(X_Teste)."
      ]
    },
    {
      "cell_type": "code",
      "metadata": {
        "colab_type": "code",
        "id": "vlWfMR-k7Qc1",
        "colab": {}
      },
      "source": [
        "Y_Predito= RN.predict_classes(X_Teste)\n",
        "Y_Predito"
      ],
      "execution_count": 0,
      "outputs": []
    },
    {
      "cell_type": "markdown",
      "metadata": {
        "colab_type": "text",
        "id": "mCpp-MO0nXmj"
      },
      "source": [
        "A seguir, outras medidas para avaliarmos a performance da Rede Neural:\n",
        "\n"
      ]
    },
    {
      "cell_type": "code",
      "metadata": {
        "colab_type": "code",
        "id": "oWF-wWfTnjQh",
        "colab": {}
      },
      "source": [
        "# Import the modules from sklearn.metrics\n",
        "from sklearn.metrics import confusion_matrix, precision_score, recall_score, f1_score, cohen_kappa_score"
      ],
      "execution_count": 0,
      "outputs": []
    },
    {
      "cell_type": "code",
      "metadata": {
        "colab_type": "code",
        "id": "MHD0CvGQnm0v",
        "colab": {}
      },
      "source": [
        "# Precision \n",
        "precision_score(Y_Teste, Y_Predito)"
      ],
      "execution_count": 0,
      "outputs": []
    },
    {
      "cell_type": "code",
      "metadata": {
        "colab_type": "code",
        "id": "ERoX4BeQnosC",
        "colab": {}
      },
      "source": [
        "# Recall\n",
        "recall_score(Y_Teste, Y_Predito)"
      ],
      "execution_count": 0,
      "outputs": []
    },
    {
      "cell_type": "code",
      "metadata": {
        "colab_type": "code",
        "id": "l_2bS23Inq1p",
        "colab": {}
      },
      "source": [
        "# F1 score\n",
        "f1_score(Y_Teste,Y_Predito)"
      ],
      "execution_count": 0,
      "outputs": []
    },
    {
      "cell_type": "markdown",
      "metadata": {
        "colab_type": "text",
        "id": "rLM1BSK2QfZm"
      },
      "source": [
        "A seguir, a matriz de confusão:"
      ]
    },
    {
      "cell_type": "code",
      "metadata": {
        "colab_type": "code",
        "id": "bGAigaBMQfZn",
        "colab": {}
      },
      "source": [
        "Mostra_ConfusionMatrix()"
      ],
      "execution_count": 0,
      "outputs": []
    },
    {
      "cell_type": "markdown",
      "metadata": {
        "colab_type": "text",
        "id": "H3yUb9tP2YfE"
      },
      "source": [
        "### 8. Fazer Predições com a Rede Neural"
      ]
    },
    {
      "cell_type": "markdown",
      "metadata": {
        "colab_type": "text",
        "id": "CupPMVRo3a5q"
      },
      "source": [
        "[**Python**] - Comando:\n",
        "* RN.predict_classes(X_Treinamento);\n",
        "* RN.predict_classes(X_Teste)."
      ]
    },
    {
      "cell_type": "code",
      "metadata": {
        "colab_type": "code",
        "id": "GePOr4EJ3mfn",
        "colab": {}
      },
      "source": [
        "Y_Predito = RN.predict_classes(X_Teste)\n",
        "Y_Predito[:10]"
      ],
      "execution_count": 0,
      "outputs": []
    },
    {
      "cell_type": "code",
      "metadata": {
        "colab_type": "code",
        "id": "aO79VSBS3mfv",
        "colab": {}
      },
      "source": [
        "Y_Teste[:10]"
      ],
      "execution_count": 0,
      "outputs": []
    },
    {
      "cell_type": "markdown",
      "metadata": {
        "colab_type": "text",
        "id": "oHlDHVp_KcLn"
      },
      "source": [
        "### 10. Conclusão\n",
        "\n",
        "Desenvolvemos uma Rede Neural com 1 _Hidden Layer_ que atingiu acurácia de 0.998."
      ]
    },
    {
      "cell_type": "markdown",
      "metadata": {
        "colab_type": "text",
        "id": "Xr2VzmwPFRdr"
      },
      "source": [
        "___\n",
        "# **EXERCÍCIO 1**: Prever a qualidade do vinho\n",
        "\n",
        "Neste exercício, vamos considerar a variável quality como múltiplas classes.\n",
        "\n",
        "Novamente, vamos desenvolver uma Rede Neural usando _Tensorflow_/_Keras_ e seguir os passos adiante:\n",
        "\n",
        "1. Carregar os dados;\n",
        "2. Pré-processamento e transformação dos dados;\n",
        "3. Definir as amostras de treinamento e validação;\n",
        "4. Definir a arquitetura da Rede Neural com _Tensorflow_/_Keras_;\n",
        "5. Compilar a Rede Neural;\n",
        "6. Ajustar a Rede Neural;\n",
        "7. Avaliar a performance da Rede Neural;\n",
        "8. _Fine tuning_ da Rede Neural;\n",
        "9. Fazer Predições com a Rede Neural;\n",
        "10. Conclusões."
      ]
    },
    {
      "cell_type": "markdown",
      "metadata": {
        "colab_type": "text",
        "id": "MYpF4TtpvXp4"
      },
      "source": [
        "[**Python**] - Mostrar a distribuição da variável-target 'quality':"
      ]
    },
    {
      "cell_type": "code",
      "metadata": {
        "colab_type": "code",
        "id": "WmeFj14PvXp6",
        "colab": {}
      },
      "source": [
        "j = sns.countplot(x=\"quality\", data= df_Wine)\n",
        "plt.show(j)"
      ],
      "execution_count": 0,
      "outputs": []
    },
    {
      "cell_type": "markdown",
      "metadata": {
        "colab_type": "text",
        "id": "smWNCLsMQWBI"
      },
      "source": [
        "Muitas classes... Abaixo, KMeans para definirmos a quantidade de clusters."
      ]
    },
    {
      "cell_type": "code",
      "metadata": {
        "colab_type": "code",
        "id": "Co4GNVexVUoP",
        "colab": {}
      },
      "source": [
        "# Função adaptada de: https://www.geeksforgeeks.org/elbow-method-for-optimal-value-of-k-in-kmeans/\n",
        "\n",
        "from sklearn.metrics.pairwise import euclidean_distances, cosine_distances, manhattan_distances\n",
        "from scipy.spatial.distance import cdist\n",
        "\n",
        "def Numero_Clusters_Elbow(X):\n",
        "    distortions = [] \n",
        "    inertias = [] \n",
        "    mapping1 = {} \n",
        "    mapping2 = {} \n",
        "    K = range(1,10)    \n",
        "    for k in K:\n",
        "        #Building and fitting the model \n",
        "        kmeanModel = KMeans(n_clusters=k).fit(X) \n",
        "        kmeanModel.fit(X)\n",
        "        distortions.append(sum(np.min(cdist(X, kmeanModel.cluster_centers_, 'euclidean'),axis=1)) / X.shape[0]) \n",
        "        inertias.append(kmeanModel.inertia_)\n",
        "        mapping1[k] = sum(np.min(cdist(X, kmeanModel.cluster_centers_, 'euclidean'),axis=1)) / X.shape[0] \n",
        "        mapping2[k] = kmeanModel.inertia_ \n",
        "\n",
        "    # Using the different values of Distortion\n",
        "    print('Cálculo da Distorção:')\n",
        "    for key,val in mapping1.items():\n",
        "        print(str(key)+' : '+str(val))\n",
        "\n",
        "    plt.plot(K, distortions, 'bx-')\n",
        "    plt.xlabel('Values of K')\n",
        "    plt.ylabel('Distortion')\n",
        "    plt.title('The Elbow Method using Distortion')\n",
        "    plt.show() \n",
        "\n",
        "    # Using the different values of Inertia\n",
        "    print('Cálculo da Inertia:')\n",
        "    for key,val in mapping2.items():\n",
        "        print(str(key)+' : '+str(val))\n",
        "\n",
        "    plt.plot(K, inertias, 'bx-')\n",
        "    plt.xlabel('Values of K')\n",
        "    plt.ylabel('Inertia') \n",
        "    plt.title('The Elbow Method using Inertia')\n",
        "    plt.show() "
      ],
      "execution_count": 0,
      "outputs": []
    },
    {
      "cell_type": "code",
      "metadata": {
        "colab_type": "code",
        "id": "eTA4O3yII-am",
        "colab": {}
      },
      "source": [
        "X_WineQ= df_Wine.copy()\n",
        "X_WineQ= X_WineQ.drop(columns= ['quality'])\n",
        "X_WineQ= X_WineQ.values\n",
        "#Y_WineQ= df_Wine['quality2'].values\n",
        "X_WineQ"
      ],
      "execution_count": 0,
      "outputs": []
    },
    {
      "cell_type": "markdown",
      "metadata": {
        "colab_type": "text",
        "id": "IJDCLdsalKvS"
      },
      "source": [
        "[**Python**] - Normalizar os dados - StandardScaler()"
      ]
    },
    {
      "cell_type": "code",
      "metadata": {
        "colab_type": "code",
        "id": "7D9qCW6SYKwA",
        "colab": {}
      },
      "source": [
        "from sklearn.preprocessing import StandardScaler\n",
        "\n",
        "# Define o scaler \n",
        "SS = StandardScaler().fit(X_WineQ)\n",
        "\n",
        "# Scale o dataframe\n",
        "X_WineQ = SS.transform(X_WineQ)\n",
        "X_WineQ"
      ],
      "execution_count": 0,
      "outputs": []
    },
    {
      "cell_type": "code",
      "metadata": {
        "colab_type": "code",
        "id": "naLIn_ufIZtL",
        "colab": {}
      },
      "source": [
        "Numero_Clusters_Elbow(X_WineQ)"
      ],
      "execution_count": 0,
      "outputs": []
    },
    {
      "cell_type": "markdown",
      "metadata": {
        "colab_type": "text",
        "id": "At5KtD-DV0f6"
      },
      "source": [
        "Os gráficos acima mostram que o número de _clusters_ ótimos para o dataframe df_Wine é 3. Portanto, vamos trabalhar com n_cluster= 3 daqui para frente."
      ]
    },
    {
      "cell_type": "markdown",
      "metadata": {
        "colab_type": "text",
        "id": "-Oz9kAvh5yPk"
      },
      "source": [
        "Sugiro fazermos o seguinte agrupamento:\n",
        "* Se quality= 1, 2, 3 $\\Longrightarrow$ quality2= 1 (qualidade ruim);\n",
        "* Se quality= 4, 5, 6, 7 $\\Longrightarrow$ quality2= 2 (qualidade média);\n",
        "* Se quality= 8, 9, 10 $\\Longrightarrow$ quality2= 3 (qualidade excelente)."
      ]
    },
    {
      "cell_type": "code",
      "metadata": {
        "colab_type": "code",
        "id": "nZc2OQR87E9n",
        "colab": {}
      },
      "source": [
        "def define_quality2(row):\n",
        "    if row['quality'] <= 3:\n",
        "        return 1\n",
        "    elif row['quality'] > 3 and row['quality'] <= 7:\n",
        "        return 2\n",
        "    elif row['quality'] > 7:\n",
        "        return 3"
      ],
      "execution_count": 0,
      "outputs": []
    },
    {
      "cell_type": "code",
      "metadata": {
        "colab_type": "code",
        "id": "f8zbLsN27E9t",
        "colab": {}
      },
      "source": [
        "df_Wine['quality2']=df_Wine.apply(lambda row: define_quality2(row), axis= 1)\n",
        "df_Wine.head()"
      ],
      "execution_count": 0,
      "outputs": []
    },
    {
      "cell_type": "code",
      "metadata": {
        "colab_type": "code",
        "id": "7ugFbdVm77wo",
        "colab": {}
      },
      "source": [
        "df_Wine['quality2'].value_counts()"
      ],
      "execution_count": 0,
      "outputs": []
    },
    {
      "cell_type": "markdown",
      "metadata": {
        "colab_type": "text",
        "id": "xf3RYZTwEtAD"
      },
      "source": [
        "[**Python**] - Análise de Correlação:"
      ]
    },
    {
      "cell_type": "code",
      "metadata": {
        "colab_type": "code",
        "id": "dimuJxsPEsAt",
        "colab": {}
      },
      "source": [
        "corr = df_Wine.corr()['quality2'].drop('quality2')\n",
        "print(corr)"
      ],
      "execution_count": 0,
      "outputs": []
    },
    {
      "cell_type": "code",
      "metadata": {
        "colab_type": "code",
        "id": "g9KALiQsEsAx",
        "colab": {}
      },
      "source": [
        "plt.figure(figsize=(12,10))\n",
        "cor = df_Wine.corr()\n",
        "sns.heatmap(cor, annot=True, linewidths=0, vmin=-1, cmap=\"RdBu_r\")\n",
        "plt.show()"
      ],
      "execution_count": 0,
      "outputs": []
    },
    {
      "cell_type": "markdown",
      "metadata": {
        "id": "At1XAt6AU2oh",
        "colab_type": "text"
      },
      "source": [
        "[**Python**] - Aplicar a transformação LabelEncoder:"
      ]
    },
    {
      "cell_type": "code",
      "metadata": {
        "colab_type": "code",
        "id": "kld7QvCaH1YQ",
        "colab": {}
      },
      "source": [
        "from sklearn.preprocessing import LabelEncoder\n",
        "\n",
        "LE = LabelEncoder()\n",
        "LE.fit(df_Wine['quality2'])quality_Encoded= LE.transform(df_Wine['quality2'])\n",
        "\n",
        "Y_WineQ= tf.keras.utils.to_categorical(quality_Encoded)\n",
        "Y_WineQ[:5]"
      ],
      "execution_count": 0,
      "outputs": []
    },
    {
      "cell_type": "code",
      "metadata": {
        "colab_type": "code",
        "id": "7qqY5vxeGEMC",
        "colab": {}
      },
      "source": [
        "X_WineQ= df_Wine.copy()\n",
        "X_WineQ= X.drop(columns= 'quality2', axis= 1)\n",
        "X_WineQ.head()"
      ],
      "execution_count": 0,
      "outputs": []
    },
    {
      "cell_type": "markdown",
      "metadata": {
        "colab_type": "text",
        "id": "oKnfuTQFlQLB"
      },
      "source": [
        "[**Python**] - Normalizar os dados - StandardScaler()"
      ]
    },
    {
      "cell_type": "code",
      "metadata": {
        "colab_type": "code",
        "id": "_VSNAOQzGEMG",
        "colab": {}
      },
      "source": [
        "from sklearn.preprocessing import StandardScaler\n",
        "\n",
        "# Define o scaler \n",
        "SS = StandardScaler().fit(X_WineQ)\n",
        "\n",
        "# Scale o dataframe\n",
        "X_WineQ = SS.transform(X_WineQ)\n",
        "X_WineQ"
      ],
      "execution_count": 0,
      "outputs": []
    },
    {
      "cell_type": "markdown",
      "metadata": {
        "colab_type": "text",
        "id": "zE5SV0ET-Zwv"
      },
      "source": [
        "[**Python**] - Aplicar PCA para selecionar somente os atributos mais importantes:"
      ]
    },
    {
      "cell_type": "code",
      "metadata": {
        "colab_type": "code",
        "id": "I3IRWaIj-feA",
        "colab": {}
      },
      "source": [
        "from sklearn.decomposition import PCA\n",
        "\n",
        "pca = PCA()\n",
        "X_pca = pca.fit_transform(X_WineQ)"
      ],
      "execution_count": 0,
      "outputs": []
    },
    {
      "cell_type": "markdown",
      "metadata": {
        "id": "NbJ6NBcAVPO1",
        "colab_type": "text"
      },
      "source": [
        "[**Python**] - Proporção de variância explicada por cada componente principal"
      ]
    },
    {
      "cell_type": "code",
      "metadata": {
        "id": "kOqLh5BgVVN0",
        "colab_type": "code",
        "colab": {}
      },
      "source": [
        "pca.explained_variance_ratio_"
      ],
      "execution_count": 0,
      "outputs": []
    },
    {
      "cell_type": "markdown",
      "metadata": {
        "id": "7j_cYnbSVGaT",
        "colab_type": "text"
      },
      "source": [
        "[**Python**] - Proporção acumulada de cada fator:"
      ]
    },
    {
      "cell_type": "code",
      "metadata": {
        "colab_type": "code",
        "id": "Ux0lAfy2Ar6g",
        "colab": {}
      },
      "source": [
        "pca.explained_variance_ratio_.cumsum()"
      ],
      "execution_count": 0,
      "outputs": []
    },
    {
      "cell_type": "markdown",
      "metadata": {
        "colab_type": "text",
        "id": "1UzYqn7-A5He"
      },
      "source": [
        "Como podemos ver acima, 8 componentes principais acumulam mais que 93% da variância. Portanto, vamos selecionar 8 componentes para treinar a Rede Neural."
      ]
    },
    {
      "cell_type": "code",
      "metadata": {
        "colab_type": "code",
        "id": "RzekEmIMBqe1",
        "colab": {}
      },
      "source": [
        "pca8 = PCA(n_components= 8)\n",
        "X_pca8 = pca8.fit_transform(X)"
      ],
      "execution_count": 0,
      "outputs": []
    },
    {
      "cell_type": "markdown",
      "metadata": {
        "colab_type": "text",
        "id": "DYDhJYdV-pSb"
      },
      "source": [
        "A seguir, o gráfico com as componentes principais."
      ]
    },
    {
      "cell_type": "code",
      "metadata": {
        "colab_type": "code",
        "id": "_zUN_3wR-nOX",
        "colab": {}
      },
      "source": [
        "plt.figure(figsize=(7, 7))\n",
        "plt.plot(np.cumsum(pca.explained_variance_ratio_), 'ro-')\n",
        "plt.grid()"
      ],
      "execution_count": 0,
      "outputs": []
    },
    {
      "cell_type": "markdown",
      "metadata": {
        "colab_type": "text",
        "id": "YO3Umy7sGEMJ"
      },
      "source": [
        "### 3. Definir as amostras de treinamento e validação"
      ]
    },
    {
      "cell_type": "markdown",
      "metadata": {
        "colab_type": "text",
        "id": "e2gXueuI2Nb4"
      },
      "source": [
        "[**Python**] - Definir as amostras de treinamento e validação"
      ]
    },
    {
      "cell_type": "code",
      "metadata": {
        "colab_type": "code",
        "id": "giFgdIK7GEMJ",
        "colab": {}
      },
      "source": [
        "from sklearn.model_selection import train_test_split\n",
        "\n",
        "X_Treinamento, X_Teste, Y_Treinamento, Y_Teste = train_test_split(X_pca8, Y_WineQ, test_size= 0.2, random_state= 20111974)\n",
        "print(f'X: Treinamento=  {X_Treinamento.shape}; X: Teste=  {X_Teste.shape}')"
      ],
      "execution_count": 0,
      "outputs": []
    },
    {
      "cell_type": "code",
      "metadata": {
        "id": "nr4sryEr-eOy",
        "colab_type": "code",
        "colab": {}
      },
      "source": [
        "print(f'Y: Treinamento=  {Y_Treinamento.shape}; Y: Teste= {Y_Teste.shape}')"
      ],
      "execution_count": 0,
      "outputs": []
    },
    {
      "cell_type": "markdown",
      "metadata": {
        "colab_type": "text",
        "id": "l2KSZ8TQGEMM"
      },
      "source": [
        "### 4. Definir a arquitetura da Rede Neural com _Tensorflow_/_Keras_"
      ]
    },
    {
      "cell_type": "markdown",
      "metadata": {
        "colab_type": "text",
        "id": "tQyKOA8Qhgtd"
      },
      "source": [
        "[**Python**] - Definir a arquitetura, ou seja:\n",
        "* $N_{I}$: Número de neurônios na camada de entrada (_Input Layer_);\n",
        "* $N_{O}$: Número de neurônios na camada de saída (_Output Layer_);\n",
        "* $N_{H}$: Número de neurônios na camada escondida (_Hidden Layer_);\n",
        "* FA: Função de ativação;"
      ]
    },
    {
      "cell_type": "code",
      "metadata": {
        "colab_type": "code",
        "id": "62E0wT8hhgtd",
        "colab": {}
      },
      "source": [
        "# Número de Neurônios na Input Layer:\n",
        "N_I= X_pca8.shape[1]\n",
        "\n",
        "# Número de neurônios na Output Layer:\n",
        "N_O= Y_WineQ.shape[1]\n",
        "\n",
        "# Número de neurônios na Hidden Layer:\n",
        "N_H1= 32\n",
        "N_H2= 32\n",
        "N_H3= 32\n",
        "N_H4= 32\n",
        "N_H5= 32\n",
        "N_H6= 32\n",
        "\n",
        "# Função de Ativação da Hidden Layer:\n",
        "FA_H= tf.nn.leaky_relu\n",
        "\n",
        "# Função de Ativação da Output Layer:\n",
        "FA_O= tf.nn.softmax"
      ],
      "execution_count": 0,
      "outputs": []
    },
    {
      "cell_type": "markdown",
      "metadata": {
        "colab_type": "text",
        "id": "wT0kLyuGpZ4C"
      },
      "source": [
        "[**Python**] - Definir as sementes para NumPy e Tensorflow:\n",
        "> Por questões de reproducibilidade de resultados, use as sementes abaixo:\n",
        "\n",
        "* NumPy: 20111974;\n",
        "* Tensorflow: 20111974;"
      ]
    },
    {
      "cell_type": "code",
      "metadata": {
        "colab_type": "code",
        "id": "C3Wdq7XvpZ4F",
        "colab": {}
      },
      "source": [
        "np.random.seed(20111974)\n",
        "tf.random.set_seed(20111974)"
      ],
      "execution_count": 0,
      "outputs": []
    },
    {
      "cell_type": "markdown",
      "metadata": {
        "colab_type": "text",
        "id": "_6ZBeC4EnZyQ"
      },
      "source": [
        "[**Python**] - Definir a Rede Neural:"
      ]
    },
    {
      "cell_type": "markdown",
      "metadata": {
        "id": "vjUyPpoJbg20",
        "colab_type": "text"
      },
      "source": [
        "**Observações**: \n",
        "\n",
        "Para evitar problemas relacionados ao _overfitting_ e _Vanishing or Exploding Gradients in Deep Neural Nets_, os artigos abaixo sugerem as seguintes opções para inicialização dos pesos $W$:\n",
        "\n",
        "* [How to Reduce Overfitting Using Weight Constraints in Keras](https://machinelearningmastery.com/how-to-reduce-overfitting-in-deep-neural-networks-with-weight-constraints-in-keras/) sugere:\n",
        "    * kernel_constraint= tf.keras.constraints.UnitNorm();\n",
        "* [Deep Learning Best Practices (1) — Weight Initialization](https://medium.com/usf-msds/deep-learning-best-practices-1-weight-initialization-14e5c0295b94) sugere:\n",
        "    * kernel_initializer= tf.keras.initializers.he_normal() para activation= 'tf.nn.relu' ou 'tf.nn.leaky_relu' e kernel_constraint= tf.keras.constraints.UnitNorm();\n",
        "* [Vanishing/ Exploding Gradients in Deep Neural Nets and solving them](https://medium.com/swlh/vanishing-exploding-gradients-in-deep-neural-nets-and-solving-them-9d6070f28b29) sugere:\n",
        "    * kernel_initializer= tf.keras.initializers.GlorotUniform();\n",
        "    * kernel_initializer= tf.keras.initializers.GlorotNormal()."
      ]
    },
    {
      "cell_type": "code",
      "metadata": {
        "id": "ry43SCP4nbvp",
        "colab_type": "code",
        "colab": {}
      },
      "source": [
        "from tensorflow.keras import Sequential\n",
        "from tensorflow.keras.layers import Dense\n",
        "from tensorflow.keras.layers import Dropout\n",
        "\n",
        "RN= Sequential()\n",
        "RN.add(Dense(units= N_H1, input_dim= N_I, kernel_initializer= tf.keras.initializers.GlorotNormal(), activation= FA_H, kernel_constraint= tf.keras.constraints.UnitNorm()))\n",
        "RN.add(Dropout(0.1))\n",
        "RN.add(Dense(units= N_H2, kernel_initializer= tf.keras.initializers.GlorotNormal(), activation= FA_H, kernel_constraint= tf.keras.constraints.UnitNorm()))\n",
        "RN.add(Dropout(0.1))\n",
        "RN.add(Dense(units= N_H3, kernel_initializer= tf.keras.initializers.GlorotNormal(), activation= FA_H, kernel_constraint= tf.keras.constraints.UnitNorm()))\n",
        "RN.add(Dropout(0.1))\n",
        "RN.add(Dense(units= N_H4, kernel_initializer= tf.keras.initializers.GlorotNormal(), activation= FA_H, kernel_constraint= tf.keras.constraints.UnitNorm()))\n",
        "RN.add(Dropout(0.1))\n",
        "RN.add(Dense(units= N_H5, kernel_initializer= tf.keras.initializers.GlorotNormal(), activation= FA_H, kernel_constraint= tf.keras.constraints.UnitNorm()))\n",
        "RN.add(Dropout(0.1))\n",
        "RN.add(Dense(units= N_H6, kernel_initializer= tf.keras.initializers.GlorotNormal(), activation= FA_H, kernel_constraint= tf.keras.constraints.UnitNorm()))\n",
        "RN.add(Dense(units= N_O, activation= FA_O)) # Atenção à Função de Ativação!\n",
        "\n",
        "# Resumo da arquitetura da Rede Neural\n",
        "print(RN.summary())"
      ],
      "execution_count": 0,
      "outputs": []
    },
    {
      "cell_type": "markdown",
      "metadata": {
        "colab_type": "text",
        "id": "zQwY5qQLGEMR"
      },
      "source": [
        "### 5. Compilar a Rede Neural\n",
        "\n",
        "Este é um problema de classificação multi-classes (> 2 classes). Portanto, temos:\n",
        "* loss= tf.keras.losses.CategoricalCrossentropy();\n",
        "* optimizer= tf.keras.optimizers.Adam();\n",
        "* metrics= tf.keras.metrics.binary_accuracy."
      ]
    },
    {
      "cell_type": "markdown",
      "metadata": {
        "colab_type": "text",
        "id": "HVp9pT8n1AQC"
      },
      "source": [
        "[**Python**] - Comando modelo.compile(optimizer, loss, metrics):"
      ]
    },
    {
      "cell_type": "code",
      "metadata": {
        "colab_type": "code",
        "id": "el86VgZ-GEMS",
        "colab": {}
      },
      "source": [
        "Algoritmo_Opt= tf.keras.optimizers.Adam()\n",
        "Loss_Function= tf.keras.losses.CategoricalCrossentropy()\n",
        "Metrics_Perf= tf.keras.metrics.binary_accuracy\n",
        "\n",
        "RN.compile(optimizer= Algoritmo_Opt, loss= Loss_Function, metrics= Metrics_Perf)"
      ],
      "execution_count": 0,
      "outputs": []
    },
    {
      "cell_type": "markdown",
      "metadata": {
        "colab_type": "text",
        "id": "qNyxbvjsGEMV"
      },
      "source": [
        "### 6. Ajustar a Rede Neural\n",
        "\n",
        "Obs.: A opção callbacks abaixo implementa o conceito de _early stopping_. Esta opção vai parar o processo de treinamento da Rede Neural antes de atingirmos o númerco de _epochs_ quando o modelo pára de melhorar, medido pela métrica val_loss. O parâmetro _patience_= k significa que o processo de otimização vai parar se tivermos k _epochs_ consecutivas sem observarmos melhoria da performance da Rede Neural."
      ]
    },
    {
      "cell_type": "markdown",
      "metadata": {
        "colab_type": "text",
        "id": "3ZtHza72z_q9"
      },
      "source": [
        "[**Python**] - Comando modelo.fit(X_Treinamento, Y_Treinamento, epochs)"
      ]
    },
    {
      "cell_type": "code",
      "metadata": {
        "colab_type": "code",
        "id": "tikYg2CrGEMV",
        "colab": {}
      },
      "source": [
        "callbacks = [tf.keras.callbacks.EarlyStopping(monitor='val_loss', patience = 5, min_delta=0.001)]\n",
        "hist= RN.fit(X_Treinamento, Y_Treinamento, epochs= 100, validation_data= (X_Teste, Y_Teste), batch_size= 12, callbacks= callbacks)"
      ],
      "execution_count": 0,
      "outputs": []
    },
    {
      "cell_type": "code",
      "metadata": {
        "colab_type": "code",
        "id": "w6aoEBw92p86",
        "colab": {}
      },
      "source": [
        "Model_Loss(hist)"
      ],
      "execution_count": 0,
      "outputs": []
    },
    {
      "cell_type": "code",
      "metadata": {
        "colab_type": "code",
        "id": "ei7XWVel2qNW",
        "colab": {}
      },
      "source": [
        "Model_Accuracy(hist)"
      ],
      "execution_count": 0,
      "outputs": []
    },
    {
      "cell_type": "markdown",
      "metadata": {
        "colab_type": "text",
        "id": "Tovtcp98GEMa"
      },
      "source": [
        "### 7. Avaliar a performance da Rede Neural"
      ]
    },
    {
      "cell_type": "markdown",
      "metadata": {
        "colab_type": "text",
        "id": "DAC9nKCvyiKu"
      },
      "source": [
        "[**Python**] - Comando modelo.evaluate(X_Teste, Y_Teste)"
      ]
    },
    {
      "cell_type": "code",
      "metadata": {
        "colab_type": "code",
        "id": "ZmhkMbmpGEMb",
        "colab": {}
      },
      "source": [
        "RN.evaluate(X_Teste, Y_Teste)"
      ],
      "execution_count": 0,
      "outputs": []
    },
    {
      "cell_type": "markdown",
      "metadata": {
        "colab_type": "text",
        "id": "JjON99B1B9F0"
      },
      "source": [
        "* Rede Neural com Accuracy= 0.9692 SEM PCA.\n",
        "* Rede Neural com Accuracy= 0.9677 COM PCA."
      ]
    },
    {
      "cell_type": "markdown",
      "metadata": {
        "colab_type": "text",
        "id": "_VzIx2_EGEMp"
      },
      "source": [
        "### 8. Fazer Predições com a Rede Neural"
      ]
    },
    {
      "cell_type": "markdown",
      "metadata": {
        "colab_type": "text",
        "id": "jpLRlBTI3gvF"
      },
      "source": [
        "[**Python**] - Comando:\n",
        "* RN.predict_classes(X_Treinamento);\n",
        "* RN.predict_classes(X_Teste);"
      ]
    },
    {
      "cell_type": "code",
      "metadata": {
        "colab_type": "code",
        "id": "1c1K5vGjGEMq",
        "colab": {}
      },
      "source": [
        "Y_Predito = RN.predict_classes(X_Teste)\n",
        "Y_Predito[:10]"
      ],
      "execution_count": 0,
      "outputs": []
    },
    {
      "cell_type": "code",
      "metadata": {
        "colab_type": "code",
        "id": "5b-hDZ04GEMs",
        "colab": {}
      },
      "source": [
        "Y_Teste[:10]"
      ],
      "execution_count": 0,
      "outputs": []
    },
    {
      "cell_type": "markdown",
      "metadata": {
        "colab_type": "text",
        "id": "h3mgEOcXu20F"
      },
      "source": [
        "___\n",
        "# **APLICAÇÃO 3 - Rede Neural para identificar Câncer de Mama (_Breast Cancer Dataframe_)**\n",
        "\n",
        "Fonte: [Breast Cancer Wisconsin (Diagnostic) Data Set](https://archive.ics.uci.edu/ml/datasets/Breast+Cancer+Wisconsin+%28Diagnostic%29)\n",
        "\n",
        "Vamos desenvolver uma Rede Neural usando _Tensorflow_/_Keras_ e seguir os passos adiante:\n",
        "\n",
        "1. Carregar os dados;\n",
        "2. Pré-processamento e transformação dos dados;\n",
        "3. Definir as amostras de treinamento e validação;\n",
        "4. Definir a arquitetura da Rede Neural com _Tensorflow_/_Keras_;\n",
        "5. Compilar a Rede Neural;\n",
        "6. Ajustar a Rede Neural;\n",
        "7. Avaliar a performance da Rede Neural;\n",
        "8. _Fine tuning_ da Rede Neural;\n",
        "9. Fazer Predições com a Rede Neural;\n",
        "10. Conclusões."
      ]
    },
    {
      "cell_type": "markdown",
      "metadata": {
        "colab_type": "text",
        "id": "QVZQ1meF9l_-"
      },
      "source": [
        "### 0. Carregar bibliotecas do Python"
      ]
    },
    {
      "cell_type": "markdown",
      "metadata": {
        "colab_type": "text",
        "id": "Cd4zQSkseKzv"
      },
      "source": [
        "[**Python**] - Importar as bibliotecas necessárias:"
      ]
    },
    {
      "cell_type": "code",
      "metadata": {
        "colab_type": "code",
        "id": "OzMsBroueKzx",
        "colab": {}
      },
      "source": [
        "import numpy as np\n",
        "import pandas as pd\n",
        "import matplotlib.pyplot as plt\n",
        "import seaborn as sns\n",
        "from sklearn.metrics import confusion_matrix\n",
        "import tensorflow as tf\n",
        "\n",
        "from tensorflow import keras"
      ],
      "execution_count": 0,
      "outputs": []
    },
    {
      "cell_type": "markdown",
      "metadata": {
        "colab_type": "text",
        "id": "wJSbJx9rrBG3"
      },
      "source": [
        "[**Python**] - Verificar a versão do Tensorflow\n",
        "> Assegurar que está a utilizar a versão 2.x."
      ]
    },
    {
      "cell_type": "code",
      "metadata": {
        "colab_type": "code",
        "id": "alCVjy_JCWUo",
        "colab": {}
      },
      "source": [
        "tf.__version__"
      ],
      "execution_count": 0,
      "outputs": []
    },
    {
      "cell_type": "markdown",
      "metadata": {
        "colab_type": "text",
        "id": "-Ra_PjiFeKz0"
      },
      "source": [
        "[**Python**] - Definir o número de casas decimais"
      ]
    },
    {
      "cell_type": "code",
      "metadata": {
        "colab_type": "code",
        "id": "y4I2Eh2YeKz1",
        "colab": {}
      },
      "source": [
        "np.set_printoptions(precision= 3)"
      ],
      "execution_count": 0,
      "outputs": []
    },
    {
      "cell_type": "markdown",
      "metadata": {
        "colab_type": "text",
        "id": "1nXjn5KM94lI"
      },
      "source": [
        "### 1. Carregar os dados"
      ]
    },
    {
      "cell_type": "code",
      "metadata": {
        "colab_type": "code",
        "id": "ovtqPCcWBgfI",
        "colab": {}
      },
      "source": [
        "from sklearn.datasets import load_breast_cancer\n",
        "\n",
        "Cancer = load_breast_cancer()\n",
        "X_Cancer= Cancer.data\n",
        "Y_Cancer= Cancer.target\n",
        "Col_Names= Cancer.feature_names"
      ],
      "execution_count": 0,
      "outputs": []
    },
    {
      "cell_type": "code",
      "metadata": {
        "colab_type": "code",
        "id": "5qbOErH6Dkcu",
        "colab": {}
      },
      "source": [
        "Col_Names"
      ],
      "execution_count": 0,
      "outputs": []
    },
    {
      "cell_type": "code",
      "metadata": {
        "colab_type": "code",
        "id": "weKuFIHqDWRX",
        "colab": {}
      },
      "source": [
        "X_Cancer"
      ],
      "execution_count": 0,
      "outputs": []
    },
    {
      "cell_type": "code",
      "metadata": {
        "colab_type": "code",
        "id": "9kix-c9TDY_R",
        "colab": {}
      },
      "source": [
        "Y_Cancer[:10]"
      ],
      "execution_count": 0,
      "outputs": []
    },
    {
      "cell_type": "markdown",
      "metadata": {
        "colab_type": "text",
        "id": "Qg_IuwHp946c"
      },
      "source": [
        "### 2. Pré-processamento e transformação dos dados"
      ]
    },
    {
      "cell_type": "markdown",
      "metadata": {
        "colab_type": "text",
        "id": "7wnkuDnMlVe8"
      },
      "source": [
        "[**Python**] - Normalizar os dados - StandardScaler()"
      ]
    },
    {
      "cell_type": "code",
      "metadata": {
        "colab_type": "code",
        "id": "uVEHT9sqG9WR",
        "colab": {}
      },
      "source": [
        "from sklearn.preprocessing import StandardScaler\n",
        "\n",
        "SS = StandardScaler()\n",
        "X_Cancer = SS.fit_transform(X_Cancer)"
      ],
      "execution_count": 0,
      "outputs": []
    },
    {
      "cell_type": "markdown",
      "metadata": {
        "colab_type": "text",
        "id": "hNeVqHH295FA"
      },
      "source": [
        "### 3. Definir as amostras de treinamento e validação"
      ]
    },
    {
      "cell_type": "markdown",
      "metadata": {
        "colab_type": "text",
        "id": "7Rbc3MwX2RDU"
      },
      "source": [
        "[**Python**] - Definir as amostras de treinamento e validação"
      ]
    },
    {
      "cell_type": "code",
      "metadata": {
        "colab_type": "code",
        "id": "xR6XSrbsFX-P",
        "colab": {}
      },
      "source": [
        "from sklearn.model_selection import train_test_split\n",
        "\n",
        "X_Treinamento, X_Teste, Y_Treinamento, Y_Teste = train_test_split(X_Cancer, Y_Cancer, test_size = 0.1, random_state = 20111974)\n",
        "print(f'X: Treinamento=  {X_Treinamento.shape}; X: Teste=  {X_Teste.shape}')"
      ],
      "execution_count": 0,
      "outputs": []
    },
    {
      "cell_type": "code",
      "metadata": {
        "id": "NRQ8zW1m-g6l",
        "colab_type": "code",
        "colab": {}
      },
      "source": [
        "print(f'Y: Treinamento=  {Y_Treinamento.shape}; Y: Teste= {Y_Teste.shape}')"
      ],
      "execution_count": 0,
      "outputs": []
    },
    {
      "cell_type": "markdown",
      "metadata": {
        "colab_type": "text",
        "id": "775KoeQz95O6"
      },
      "source": [
        "### 4. Definir a arquitetura da Rede Neural com _Tensorflow_/_Keras_"
      ]
    },
    {
      "cell_type": "markdown",
      "metadata": {
        "colab_type": "text",
        "id": "fFaKVel2ilZs"
      },
      "source": [
        "[**Python**] - Definir a arquitetura, ou seja:\n",
        "* $N_{I}$: Número de neurônios na camada de entrada (_Input Layer_);\n",
        "* $N_{O}$: Número de neurônios na camada de saída (_Output Layer_);\n",
        "* $N_{H}$: Número de neurônios na camada escondida (_Hidden Layer_);\n",
        "* FA: Função de ativação;"
      ]
    },
    {
      "cell_type": "code",
      "metadata": {
        "colab_type": "code",
        "id": "aB7xcQFWilZs",
        "colab": {}
      },
      "source": [
        "# Número de Neurônios na Input Layer:\n",
        "N_I= X_Cancer.shape[1]\n",
        "\n",
        "# Número de neurônios na Output Layer:\n",
        "N_O= 1\n",
        "\n",
        "# Número de neurônios na Hidden Layer:\n",
        "N_H1= 16\n",
        "N_H2= 16\n",
        "N_H3= 16\n",
        "\n",
        "# Função de Ativação da Hidden Layer:\n",
        "FA_H= tf.nn.leaky_relu\n",
        "\n",
        "# Função de Ativação da Output Layer:\n",
        "FA_O= tf.nn.softmax"
      ],
      "execution_count": 0,
      "outputs": []
    },
    {
      "cell_type": "markdown",
      "metadata": {
        "colab_type": "text",
        "id": "rm1PeihTRlgz"
      },
      "source": [
        "[**Python**] - Definir as sementes para NumPy e Tensorflow:\n",
        "> Por questões de reproducibilidade de resultados, use as sementes abaixo:\n",
        "\n",
        "* NumPy: 20111974;\n",
        "* Tensorflow: 20111974;"
      ]
    },
    {
      "cell_type": "code",
      "metadata": {
        "colab_type": "code",
        "id": "U3oTC94GRlg3",
        "colab": {}
      },
      "source": [
        "np.random.seed(20111974)\n",
        "tf.random.set_seed(20111974)"
      ],
      "execution_count": 0,
      "outputs": []
    },
    {
      "cell_type": "markdown",
      "metadata": {
        "colab_type": "text",
        "id": "J5GBW-Ucnh9T"
      },
      "source": [
        "[**Python**] - Definir a Rede Neural:"
      ]
    },
    {
      "cell_type": "markdown",
      "metadata": {
        "colab_type": "text",
        "id": "my2xjCniIb4J"
      },
      "source": [
        "Vamos adicionar duas camadas _Dropout_ com $p= 0.1$ para evitarmos _overfitting_."
      ]
    },
    {
      "cell_type": "markdown",
      "metadata": {
        "id": "Kne06wmjnTYD",
        "colab_type": "text"
      },
      "source": [
        "**Observações**: \n",
        "\n",
        "Para evitar problemas relacionados ao _overfitting_ e _Vanishing or Exploding Gradients in Deep Neural Nets_, os artigos abaixo sugerem as seguintes opções para inicialização dos pesos $W$:\n",
        "\n",
        "* [How to Reduce Overfitting Using Weight Constraints in Keras](https://machinelearningmastery.com/how-to-reduce-overfitting-in-deep-neural-networks-with-weight-constraints-in-keras/) sugere:\n",
        "    * kernel_constraint= tf.keras.constraints.UnitNorm();\n",
        "* [Deep Learning Best Practices (1) — Weight Initialization](https://medium.com/usf-msds/deep-learning-best-practices-1-weight-initialization-14e5c0295b94) sugere:\n",
        "    * kernel_initializer= tf.keras.initializers.he_normal() para activation= 'tf.nn.relu' ou 'tf.nn.leaky_relu' e kernel_constraint= tf.keras.constraints.UnitNorm();\n",
        "* [Vanishing/ Exploding Gradients in Deep Neural Nets and solving them](https://medium.com/swlh/vanishing-exploding-gradients-in-deep-neural-nets-and-solving-them-9d6070f28b29) sugere:\n",
        "    * kernel_initializer= tf.keras.initializers.GlorotUniform();\n",
        "    * kernel_initializer= tf.keras.initializers.GlorotNormal()."
      ]
    },
    {
      "cell_type": "code",
      "metadata": {
        "id": "s6x7mo4dnjlE",
        "colab_type": "code",
        "colab": {}
      },
      "source": [
        "from tensorflow.keras import Sequential\n",
        "from tensorflow.keras.layers import Dense\n",
        "from tensorflow.keras.layers import Dropout\n",
        "\n",
        "RN= Sequential()\n",
        "RN.add(Dense(units= N_H1, input_dim= N_I, kernel_initializer= tf.keras.initializers.GlorotNormal(), activation= FA_H, kernel_constraint= tf.keras.constraints.UnitNorm()))\n",
        "RN.add(Dropout(0.1))\n",
        "RN.add(Dense(units= N_H2, kernel_initializer= tf.keras.initializers.GlorotNormal(), activation= FA_H, kernel_constraint= tf.keras.constraints.UnitNorm()))\n",
        "RN.add(Dropout(0.1))\n",
        "RN.add(Dense(units= N_H3, kernel_initializer= tf.keras.initializers.GlorotNormal(), activation= FA_H, kernel_constraint= tf.keras.constraints.UnitNorm()))\n",
        "RN.add(Dense(units= N_O, activation= FA_O))\n",
        "\n",
        "# Resumo da arquitetura da Rede Neural\n",
        "print(RN.summary())"
      ],
      "execution_count": 0,
      "outputs": []
    },
    {
      "cell_type": "markdown",
      "metadata": {
        "colab_type": "text",
        "id": "04cKraWZ9mMb"
      },
      "source": [
        "### 5. Compilar a Rede Neural\n",
        "\n",
        "Este é um problema de classificação binária (maligno ou benigno). Portanto, temos:\n",
        "* loss= tf.keras.losses.BinaryCrossentropy();\n",
        "* metrics= tf.keras.metrics.binary_accuracy;\n",
        "* optimizer= tf.keras.optimizers.Adam()."
      ]
    },
    {
      "cell_type": "markdown",
      "metadata": {
        "colab_type": "text",
        "id": "OGRjWcsm1FM9"
      },
      "source": [
        "[**Python**] - Comando modelo.compile(optimizer, loss, metrics):"
      ]
    },
    {
      "cell_type": "code",
      "metadata": {
        "colab_type": "code",
        "id": "bLIoA8FrJJCx",
        "colab": {}
      },
      "source": [
        "Algoritmo_Opt= tf.keras.optimizers.Adam()\n",
        "Loss_Function= tf.keras.losses.BinaryCrossentropy()\n",
        "Metrics_Perf= tf.keras.metrics.binary_accuracy\n",
        "\n",
        "RN.compile(optimizer= Algoritmo_Opt, loss= Loss_Function, metrics= Metrics_Perf)"
      ],
      "execution_count": 0,
      "outputs": []
    },
    {
      "cell_type": "markdown",
      "metadata": {
        "colab_type": "text",
        "id": "cnL12eaF9mU6"
      },
      "source": [
        "### 6. Ajustar a Rede Neural\n",
        "\n",
        "Obs.: A opção callbacks abaixo implementa o conceito de _early stopping_. Esta opção vai parar o processo de treinamento da Rede Neural antes de atingirmos o númerco de _epochs_ quando o modelo pára de melhorar, medido pela métrica val_loss. O parâmetro _patience_= k significa que o processo de otimização vai parar se tivermos k _epochs_ consecutivas sem observarmos melhoria da performance da Rede Neural."
      ]
    },
    {
      "cell_type": "markdown",
      "metadata": {
        "colab_type": "text",
        "id": "nVsziJfk0FIv"
      },
      "source": [
        "[**Python**] - Comando modelo.fit(X_Treinamento, Y_Treinamento, epochs)"
      ]
    },
    {
      "cell_type": "code",
      "metadata": {
        "colab_type": "code",
        "id": "apQY6cQjJb-z",
        "colab": {}
      },
      "source": [
        "callbacks = [tf.keras.callbacks.EarlyStopping(monitor='val_loss', patience = 5, min_delta=0.001)]\n",
        "hist= RN.fit(X_Treinamento, Y_Treinamento, epochs= 100, validation_data= (X_Teste, Y_Teste), callbacks= callbacks)"
      ],
      "execution_count": 0,
      "outputs": []
    },
    {
      "cell_type": "code",
      "metadata": {
        "colab_type": "code",
        "id": "avd2cXpO20cY",
        "colab": {}
      },
      "source": [
        "Model_Accuracy(hist)"
      ],
      "execution_count": 0,
      "outputs": []
    },
    {
      "cell_type": "code",
      "metadata": {
        "colab_type": "code",
        "id": "FCd8xFxA25Lc",
        "colab": {}
      },
      "source": [
        "Model_Loss(hist)"
      ],
      "execution_count": 0,
      "outputs": []
    },
    {
      "cell_type": "markdown",
      "metadata": {
        "colab_type": "text",
        "id": "3zToEvUs-pCt"
      },
      "source": [
        "### 7. Avaliar a performance da Rede Neural"
      ]
    },
    {
      "cell_type": "markdown",
      "metadata": {
        "colab_type": "text",
        "id": "IqzKH7jsymwL"
      },
      "source": [
        "[**Python**] - Comando modelo.evaluate(X_Teste, Y_Teste)"
      ]
    },
    {
      "cell_type": "code",
      "metadata": {
        "colab_type": "code",
        "id": "pmjuk6OqJ7zD",
        "colab": {}
      },
      "source": [
        "RN.evaluate(X_Teste, Y_Teste)"
      ],
      "execution_count": 0,
      "outputs": []
    },
    {
      "cell_type": "markdown",
      "metadata": {
        "colab_type": "text",
        "id": "04ZGPI6DKcnz"
      },
      "source": [
        "A seguir, a matriz de confusão:"
      ]
    },
    {
      "cell_type": "code",
      "metadata": {
        "colab_type": "code",
        "id": "-MZyagwaKfkM",
        "colab": {}
      },
      "source": [
        "Mostra_ConfusionMatrix()"
      ],
      "execution_count": 0,
      "outputs": []
    },
    {
      "cell_type": "markdown",
      "metadata": {
        "colab_type": "text",
        "id": "KasqSFWG-pTG"
      },
      "source": [
        "### 8. _Fine tuning_ da Rede Neural\n",
        "\n",
        "Não é necessário, pois obtivemos 0.9825 de acurácia."
      ]
    },
    {
      "cell_type": "markdown",
      "metadata": {
        "colab_type": "text",
        "id": "GLxgJP3L-pdZ"
      },
      "source": [
        "### 9. Fazer Predições com a Rede Neural"
      ]
    },
    {
      "cell_type": "markdown",
      "metadata": {
        "colab_type": "text",
        "id": "0iXGBnNZYb4V"
      },
      "source": [
        "[**Python**] - Comando:\n",
        "* RN.predict_classes(X_Treinamento);\n",
        "* RN.predict_classes(X_Teste)."
      ]
    },
    {
      "cell_type": "code",
      "metadata": {
        "colab_type": "code",
        "id": "nqBFwxg5Yb4b",
        "colab": {}
      },
      "source": [
        "Y_Predito = RN.predict_classes(X_Teste)\n",
        "Y_Predito[:10]"
      ],
      "execution_count": 0,
      "outputs": []
    },
    {
      "cell_type": "markdown",
      "metadata": {
        "colab_type": "text",
        "id": "4CHdWhgD-plr"
      },
      "source": [
        "### 10. Conclusões"
      ]
    },
    {
      "cell_type": "markdown",
      "metadata": {
        "colab_type": "text",
        "id": "T2AQ4uDShdgE"
      },
      "source": [
        "___\n",
        "# **APLICAÇÃO 4 - Rede Neural para identificar Diabetes (Diabetes Dataframe)**\n",
        "\n",
        "> Vamos desenvolver uma Rede Neural usando _Tensorflow_/_Keras_ e seguir os passos adiante:\n",
        "\n",
        "1. Carregar os dados;\n",
        "2. Pré-processamento e transformação dos dados;\n",
        "3. Definir as amostras de treinamento e validação;\n",
        "4. Definir a arquitetura da Rede Neural com _Tensorflow_/_Keras_;\n",
        "5. Compilar a Rede Neural;\n",
        "6. Ajustar a Rede Neural;\n",
        "7. Avaliar a performance da Rede Neural;\n",
        "8. _Fine tuning_ da Rede Neural;\n",
        "9. Fazer Predições com a Rede Neural;\n",
        "10. Conclusões."
      ]
    },
    {
      "cell_type": "markdown",
      "metadata": {
        "colab_type": "text",
        "id": "HOEJGtAzQfX3"
      },
      "source": [
        "### 0. Carregar bibliotecas do Python"
      ]
    },
    {
      "cell_type": "markdown",
      "metadata": {
        "colab_type": "text",
        "id": "Mxa5UaIXeRgN"
      },
      "source": [
        "[**Python**] - Importar as bibliotecas necessárias:"
      ]
    },
    {
      "cell_type": "code",
      "metadata": {
        "colab_type": "code",
        "id": "ylfhuYeveRgO",
        "colab": {}
      },
      "source": [
        "import numpy as np\n",
        "import pandas as pd\n",
        "import matplotlib.pyplot as plt\n",
        "import seaborn as sns\n",
        "from sklearn.metrics import confusion_matrix\n",
        "\n",
        "from tensorflow import keras"
      ],
      "execution_count": 0,
      "outputs": []
    },
    {
      "cell_type": "markdown",
      "metadata": {
        "colab_type": "text",
        "id": "uG9B3WTkeRgR"
      },
      "source": [
        "[**Python**] - Definir o número de casas decimais:"
      ]
    },
    {
      "cell_type": "code",
      "metadata": {
        "colab_type": "code",
        "id": "TZkm0YVoeRgR",
        "colab": {}
      },
      "source": [
        "np.set_printoptions(precision= 3)"
      ],
      "execution_count": 0,
      "outputs": []
    },
    {
      "cell_type": "markdown",
      "metadata": {
        "colab_type": "text",
        "id": "mDhEsSJ1rFpy"
      },
      "source": [
        "[**Python**] - Verificar a versão do Tensorflow\n",
        "> Assegurar que está a utilizar a versão 2.x."
      ]
    },
    {
      "cell_type": "code",
      "metadata": {
        "colab_type": "code",
        "id": "KfKcNLZ3QfYJ",
        "colab": {}
      },
      "source": [
        "tf.__version__"
      ],
      "execution_count": 0,
      "outputs": []
    },
    {
      "cell_type": "markdown",
      "metadata": {
        "colab_type": "text",
        "id": "rIT9N7jSQfYO"
      },
      "source": [
        "### 1. Carregar os dados"
      ]
    },
    {
      "cell_type": "markdown",
      "metadata": {
        "id": "r9QUJZgbSWDG",
        "colab_type": "text"
      },
      "source": [
        "[**Python**] - Carregar os dados:"
      ]
    },
    {
      "cell_type": "code",
      "metadata": {
        "colab_type": "code",
        "id": "ofSJNoyfQfYR",
        "colab": {}
      },
      "source": [
        "from sklearn.datasets import load_diabetes\n",
        "\n",
        "Diabetes = load_diabetes()"
      ],
      "execution_count": 0,
      "outputs": []
    },
    {
      "cell_type": "markdown",
      "metadata": {
        "id": "Fo7q0BnyShVG",
        "colab_type": "text"
      },
      "source": [
        "[**Python**] - Definir os arrays X_Diabetes e Y_Diabetes:"
      ]
    },
    {
      "cell_type": "code",
      "metadata": {
        "colab_type": "code",
        "id": "UTnrDMPLQfYW",
        "colab": {}
      },
      "source": [
        "X_Diabetes= Diabetes.data\n",
        "Y_Diabetes= Diabetes.target\n",
        "Col_Names= Diabetes.feature_names"
      ],
      "execution_count": 0,
      "outputs": []
    },
    {
      "cell_type": "markdown",
      "metadata": {
        "colab_type": "text",
        "id": "ZjrdZUwp_l40"
      },
      "source": [
        "[**Python**] - Corrigir ou renomear as colunas do dataframe:"
      ]
    },
    {
      "cell_type": "code",
      "metadata": {
        "colab_type": "code",
        "id": "skgDY4Lu_l46",
        "colab": {}
      },
      "source": [
        "X_Diabetes.columns= X_Diabetes.columns.str.lower()\n",
        "X_Diabetes.head()"
      ],
      "execution_count": 0,
      "outputs": []
    },
    {
      "cell_type": "code",
      "metadata": {
        "colab_type": "code",
        "id": "a5NQO8b-QfYb",
        "colab": {}
      },
      "source": [
        "X_Diabetes"
      ],
      "execution_count": 0,
      "outputs": []
    },
    {
      "cell_type": "code",
      "metadata": {
        "colab_type": "code",
        "id": "adpBpNDeQfYj",
        "colab": {}
      },
      "source": [
        "Y_Diabetes[:10]"
      ],
      "execution_count": 0,
      "outputs": []
    },
    {
      "cell_type": "markdown",
      "metadata": {
        "colab_type": "text",
        "id": "YQA4fN4HQfYo"
      },
      "source": [
        "### 2. Pré-processamento e transformação dos dados"
      ]
    },
    {
      "cell_type": "markdown",
      "metadata": {
        "colab_type": "text",
        "id": "dTnBpjwalbVG"
      },
      "source": [
        "[**Python**] - Normalizar os dados - StandardScaler()"
      ]
    },
    {
      "cell_type": "code",
      "metadata": {
        "colab_type": "code",
        "id": "hS_unh4wQfYp",
        "colab": {}
      },
      "source": [
        "from sklearn.preprocessing import StandardScaler\n",
        "\n",
        "SS = StandardScaler()\n",
        "X_Diabetes = SS.fit_transform(X_Diabetes)\n",
        "Y_Diabetes= SS.fit_transform(Y_Diabetes.reshape(-(1, 1))"
      ],
      "execution_count": 0,
      "outputs": []
    },
    {
      "cell_type": "code",
      "metadata": {
        "colab_type": "code",
        "id": "ZSviMMrISt96",
        "colab": {}
      },
      "source": [
        "Y[:10]"
      ],
      "execution_count": 0,
      "outputs": []
    },
    {
      "cell_type": "markdown",
      "metadata": {
        "colab_type": "text",
        "id": "pWmVyMF0QfYu"
      },
      "source": [
        "### 3. Definir as amostras de treinamento e validação"
      ]
    },
    {
      "cell_type": "markdown",
      "metadata": {
        "colab_type": "text",
        "id": "cEMSNMJu2VqI"
      },
      "source": [
        "[**Python**] - Definir as amostras de treinamento e validação"
      ]
    },
    {
      "cell_type": "code",
      "metadata": {
        "colab_type": "code",
        "id": "2WUQMh2HQfYx",
        "colab": {}
      },
      "source": [
        "from sklearn.model_selection import train_test_split\n",
        "\n",
        "X_Treinamento, X_Teste, Y_Treinamento, Y_Teste = train_test_split(X_Diabetes, Y_Diabetes, test_size = 0.1, random_state = 20111974)\n",
        "print(f'X: Treinamento=  {X_Treinamento.shape}; X: Teste=  {X_Teste.shape}')"
      ],
      "execution_count": 0,
      "outputs": []
    },
    {
      "cell_type": "code",
      "metadata": {
        "id": "Zvx80NPT-j0S",
        "colab_type": "code",
        "colab": {}
      },
      "source": [
        "print(f'Y: Treinamento=  {Y_Treinamento.shape}; Y: Teste= {Y_Teste.shape}')"
      ],
      "execution_count": 0,
      "outputs": []
    },
    {
      "cell_type": "markdown",
      "metadata": {
        "colab_type": "text",
        "id": "Wk_CG4H5QfY2"
      },
      "source": [
        "### 4. Definir a arquitetura da Rede Neural com _Tensorflow_/_Keras_"
      ]
    },
    {
      "cell_type": "markdown",
      "metadata": {
        "colab_type": "text",
        "id": "V1bDqK5vi49C"
      },
      "source": [
        "[**Python**] - Definir a arquitetura, ou seja:\n",
        "* $N_{I}$: Número de neurônios na camada de entrada (_Input Layer_);\n",
        "* $N_{O}$: Número de neurônios na camada de saída (_Output Layer_);\n",
        "* $N_{H}$: Número de neurônios na camada escondida (_Hidden Layer_);\n",
        "* FA: Função de ativação;"
      ]
    },
    {
      "cell_type": "code",
      "metadata": {
        "colab_type": "code",
        "id": "por467-ci49D",
        "colab": {}
      },
      "source": [
        "# Número de Neurônios na Input Layer:\n",
        "N_I= X_Diabetes.shape[1]\n",
        "\n",
        "# Número de neurônios na Output Layer:\n",
        "N_O= 1\n",
        "\n",
        "# Número de neurônios na Hidden Layer:\n",
        "N_H1= 6\n",
        "\n",
        "# Função de Ativação da Hidden Layer:\n",
        "FA_H= tf.nn.leaky_relu\n",
        "\n",
        "# Função de Ativação da Output Layer:\n",
        "FA_O= tf.nn.linear"
      ],
      "execution_count": 0,
      "outputs": []
    },
    {
      "cell_type": "markdown",
      "metadata": {
        "colab_type": "text",
        "id": "-r7VC-7lpkkC"
      },
      "source": [
        "[**Python**] - Definir as sementes para NumPy e Tensorflow:\n",
        "> Por questões de reproducibilidade de resultados, use as sementes abaixo:\n",
        "\n",
        "* NumPy: 20111974;\n",
        "* Tensorflow: 20111974;"
      ]
    },
    {
      "cell_type": "code",
      "metadata": {
        "colab_type": "code",
        "id": "43f-ZPW7pkkD",
        "colab": {}
      },
      "source": [
        "np.random.seed(20111974)\n",
        "tf.random.set_seed(20111974)"
      ],
      "execution_count": 0,
      "outputs": []
    },
    {
      "cell_type": "markdown",
      "metadata": {
        "colab_type": "text",
        "id": "2qv8lJmHnqi3"
      },
      "source": [
        "[**Python**] - Definir a Rede Neural:"
      ]
    },
    {
      "cell_type": "markdown",
      "metadata": {
        "id": "8Veeqccdbnks",
        "colab_type": "text"
      },
      "source": [
        "**Observações**: \n",
        "\n",
        "Para evitar problemas relacionados ao _overfitting_ e _Vanishing or Exploding Gradients in Deep Neural Nets_, os artigos abaixo sugerem as seguintes opções para inicialização dos pesos $W$:\n",
        "\n",
        "* [How to Reduce Overfitting Using Weight Constraints in Keras](https://machinelearningmastery.com/how-to-reduce-overfitting-in-deep-neural-networks-with-weight-constraints-in-keras/) sugere:\n",
        "    * kernel_constraint= tf.keras.constraints.UnitNorm();\n",
        "* [Deep Learning Best Practices (1) — Weight Initialization](https://medium.com/usf-msds/deep-learning-best-practices-1-weight-initialization-14e5c0295b94) sugere:\n",
        "    * kernel_initializer= tf.keras.initializers.he_normal() para activation= 'tf.nn.relu' ou 'tf.nn.leaky_relu' e kernel_constraint= tf.keras.constraints.UnitNorm();\n",
        "* [Vanishing/ Exploding Gradients in Deep Neural Nets and solving them](https://medium.com/swlh/vanishing-exploding-gradients-in-deep-neural-nets-and-solving-them-9d6070f28b29) sugere:\n",
        "    * kernel_initializer= tf.keras.initializers.GlorotUniform();\n",
        "    * kernel_initializer= tf.keras.initializers.GlorotNormal()."
      ]
    },
    {
      "cell_type": "code",
      "metadata": {
        "id": "WMOoG_0bnsSD",
        "colab_type": "code",
        "colab": {}
      },
      "source": [
        "from tensorflow.keras import Sequential\n",
        "from tensorflow.keras.layers import Dense\n",
        "\n",
        "RN= Sequential()\n",
        "RN.add(Dense(units= N_H1, input_dim= N_I, kernel_initializer= tf.keras.initializers.GlorotNormal(), activation= FA_H, kernel_constraint= tf.keras.constraints.UnitNorm()))\n",
        "RN.add(Dense(units= N_O, activation= FA_O)) # Se não definirmos o parâmetro activation, então por default será 'linear'.\n",
        "\n",
        "# Resumo da arquitetura da Rede Neural\n",
        "print(RN.summary())"
      ],
      "execution_count": 0,
      "outputs": []
    },
    {
      "cell_type": "markdown",
      "metadata": {
        "colab_type": "text",
        "id": "7W8VtONlQfZP"
      },
      "source": [
        "### 5. Compilar a Rede Neural\n",
        "\n",
        "Este é um problema de regressão. Portanto, temos:\n",
        "* loss= tf.keras.losses.MeanSquaredError;\n",
        "* metrics= 'mse';\n",
        "* optimizer= tf.keras.optimizers.Adam()."
      ]
    },
    {
      "cell_type": "markdown",
      "metadata": {
        "colab_type": "text",
        "id": "g97mJCSr1Kat"
      },
      "source": [
        "[**Python**] - Comando modelo.compile(optimizer, loss, metrics):"
      ]
    },
    {
      "cell_type": "code",
      "metadata": {
        "colab_type": "code",
        "id": "cXJFtlcEQfZQ",
        "colab": {}
      },
      "source": [
        "Algoritmo_Opt= tf.keras.optimizers.Adam()\n",
        "Loss_Function= tf.keras.losses.MeanSquaredError()\n",
        "Metrics_Perf= tf.keras.metrics.MeanSquaredError()\n",
        "\n",
        "RN.compile(optimizer= Algoritmo_Opt, loss= Loss_Function, metrics= Metrics_Perf)"
      ],
      "execution_count": 0,
      "outputs": []
    },
    {
      "cell_type": "markdown",
      "metadata": {
        "colab_type": "text",
        "id": "1s1S7Fn_QfZW"
      },
      "source": [
        "### 6. Ajustar a Rede Neural\n",
        "\n",
        "Obs.: A opção callbacks abaixo implementa o conceito de _early stopping_. Esta opção vai parar o processo de treinamento da Rede Neural antes de atingirmos o númerco de _epochs_ quando o modelo pára de melhorar, medido pela métrica val_loss. O parâmetro _patience_= k significa que o processo de otimização vai parar se tivermos k _epochs_ consecutivas sem observarmos melhoria da performance da Rede Neural."
      ]
    },
    {
      "cell_type": "markdown",
      "metadata": {
        "colab_type": "text",
        "id": "PNgR4ihA0JMy"
      },
      "source": [
        "[**Python**] - Comando modelo.fit(X_Treinamento, Y_Treinamento, epochs)"
      ]
    },
    {
      "cell_type": "code",
      "metadata": {
        "colab_type": "code",
        "id": "JUaqK4j-QfZY",
        "colab": {}
      },
      "source": [
        "callbacks = [tf.keras.callbacks.EarlyStopping(monitor='val_loss', patience = 5, min_delta=0.001)]\n",
        "hist= RN.fit(X_Treinamento, Y_Treinamento, epochs= 200, validation_data= (X_Teste, Y_Teste), callbacks= callbacks)"
      ],
      "execution_count": 0,
      "outputs": []
    },
    {
      "cell_type": "markdown",
      "metadata": {
        "colab_type": "text",
        "id": "3bFg6kut1jkb"
      },
      "source": [
        "A seguir, funções para plotarmos os gráficos das métricas MSE, _Loss_ e _Accuracy_:"
      ]
    },
    {
      "cell_type": "code",
      "metadata": {
        "colab_type": "code",
        "id": "VPASVWaR1sWN",
        "colab": {}
      },
      "source": [
        "def Model_Loss(hist):\n",
        "    print(hist.history.keys())\n",
        "    plt.plot(hist.history['loss'])\n",
        "    plt.plot(hist.history['val_loss'])\n",
        "    plt.title('Model Loss')\n",
        "    plt.ylabel('Loss')\n",
        "    plt.xlabel('Epochs')\n",
        "    plt.legend(['Training', 'Validation'], loc= 'upper right')\n",
        "    plt.show()\n",
        "\n",
        "def Model_Accuracy(hist):\n",
        "    print(hist.history.keys())\n",
        "    plt.plot(hist.history['accuracy'])\n",
        "    plt.plot(hist.history['val_accuracy'])\n",
        "    plt.title('Model Accuracy')\n",
        "    plt.ylabel('Accuracy')\n",
        "    plt.xlabel('Epochs')\n",
        "    plt.legend(['Training', 'Validation'], loc= 'upper right')\n",
        "    plt.show()\n",
        "\n",
        "def Model_MSE(hist):\n",
        "    print(hist.history.keys())\n",
        "    plt.plot(hist.history['mse'])\n",
        "    plt.plot(hist.history['val_mse'])\n",
        "    plt.title('Model MSE')\n",
        "    plt.ylabel('MSE')\n",
        "    plt.xlabel('Epochs')\n",
        "    plt.legend(['Training', 'Validation'], loc= 'upper right')\n",
        "    plt.show()\n",
        "\n",
        "def Mostra_ConfusionMatrix():\n",
        "    Y_Predito = RN.predict_classes(X_Teste)\n",
        "    mc = confusion_matrix(Y_Teste, Y_Predito)\n",
        "    #sns.heatmap(mc,annot=True, annot_kws={\"size\": 10},fmt=\"d\")\n",
        "    sns.heatmap(mc/np.sum(mc), annot=True, annot_kws={\"size\": 10}, fmt='.2%', cmap='Blues')"
      ],
      "execution_count": 0,
      "outputs": []
    },
    {
      "cell_type": "code",
      "metadata": {
        "colab_type": "code",
        "id": "uWhJUP0v2_fm",
        "colab": {}
      },
      "source": [
        "Model_Loss(hist)"
      ],
      "execution_count": 0,
      "outputs": []
    },
    {
      "cell_type": "code",
      "metadata": {
        "colab_type": "code",
        "id": "M8IZFKGyCvqO",
        "colab": {}
      },
      "source": [
        "Model_MSE(hist)"
      ],
      "execution_count": 0,
      "outputs": []
    },
    {
      "cell_type": "markdown",
      "metadata": {
        "colab_type": "text",
        "id": "37_0RhXLQfZc"
      },
      "source": [
        "### 7. Avaliar a performance da Rede Neural"
      ]
    },
    {
      "cell_type": "markdown",
      "metadata": {
        "colab_type": "text",
        "id": "8mMrIS9JyriW"
      },
      "source": [
        "[**Python**] - Comando modelo.evaluate(X_Teste, Y_Teste)"
      ]
    },
    {
      "cell_type": "code",
      "metadata": {
        "colab_type": "code",
        "id": "cRjEkvWzQfZe",
        "colab": {}
      },
      "source": [
        "RN.evaluate(X_Teste, Y_Teste)"
      ],
      "execution_count": 0,
      "outputs": []
    },
    {
      "cell_type": "markdown",
      "metadata": {
        "colab_type": "text",
        "id": "MA6_RkjgQfZs"
      },
      "source": [
        "### 8. _Fine tuning_ da Rede Neural\n",
        "\n",
        "Vou deixar esta fase como exercício para o aluno."
      ]
    },
    {
      "cell_type": "markdown",
      "metadata": {
        "colab_type": "text",
        "id": "vPJtuCzXQfZu"
      },
      "source": [
        "### 9. Fazer Predições com a Rede Neural"
      ]
    },
    {
      "cell_type": "markdown",
      "metadata": {
        "colab_type": "text",
        "id": "p1EptFS1Yi-D"
      },
      "source": [
        "[**Python**] - Comando:\n",
        "* RN.predict_classes(X_Treinamento);\n",
        "* RN.predict_classes(X_Teste)."
      ]
    },
    {
      "cell_type": "code",
      "metadata": {
        "colab_type": "code",
        "id": "fbrvwgyvYi-I",
        "colab": {}
      },
      "source": [
        "Y_Predito = RN.predict_classes(X_Teste)\n",
        "Y_Predito[:10]"
      ],
      "execution_count": 0,
      "outputs": []
    },
    {
      "cell_type": "markdown",
      "metadata": {
        "colab_type": "text",
        "id": "JOsTSHwoQfZ0"
      },
      "source": [
        "### 10. Conclusões"
      ]
    },
    {
      "cell_type": "markdown",
      "metadata": {
        "colab_type": "text",
        "id": "EoQ5nySZmLDP"
      },
      "source": [
        "___\n",
        "# **APLICAÇÃO 5 - Rede Neural para prever os preços das casas (_Boston House Price Prediction_)**\n",
        "\n",
        "Vamos desenvolver uma Rede Neural usando _Tensorflow_/_Keras_ e seguir os passos adiante:\n",
        "\n",
        "1. Carregar os dados;\n",
        "2. Pré-processamento e transformação dos dados;\n",
        "3. Definir as amostras de treinamento e validação;\n",
        "4. Definir a arquitetura da Rede Neural com _Tensorflow_/_Keras_;\n",
        "5. Compilar a Rede Neural;\n",
        "6. Ajustar a Rede Neural;\n",
        "7. Avaliar a performance da Rede Neural;\n",
        "8. _Fine tuning_ da Rede Neural;\n",
        "9. Fazer Predições com a Rede Neural;\n",
        "10. Conclusões."
      ]
    },
    {
      "cell_type": "markdown",
      "metadata": {
        "colab_type": "text",
        "id": "8vdRpBS8VTw_"
      },
      "source": [
        "### 0. Carregar bibliotecas do Python"
      ]
    },
    {
      "cell_type": "markdown",
      "metadata": {
        "colab_type": "text",
        "id": "v629ZppSeY5T"
      },
      "source": [
        "[**Python**] - Importar as bibliotecas necessárias:"
      ]
    },
    {
      "cell_type": "code",
      "metadata": {
        "colab_type": "code",
        "id": "uVXroVLTeY5U",
        "colab": {}
      },
      "source": [
        "import numpy as np\n",
        "import pandas as pd\n",
        "import matplotlib.pyplot as plt\n",
        "import seaborn as sns\n",
        "from sklearn.metrics import confusion_matrix\n",
        "\n",
        "from tensorflow import keras"
      ],
      "execution_count": 0,
      "outputs": []
    },
    {
      "cell_type": "markdown",
      "metadata": {
        "colab_type": "text",
        "id": "qYCcNW9qeY5W"
      },
      "source": [
        "[**Python**] - Definir o número de casas decimais"
      ]
    },
    {
      "cell_type": "code",
      "metadata": {
        "colab_type": "code",
        "id": "zNn-kwlGeY5X",
        "colab": {}
      },
      "source": [
        "np.set_printoptions(precision= 3)"
      ],
      "execution_count": 0,
      "outputs": []
    },
    {
      "cell_type": "markdown",
      "metadata": {
        "colab_type": "text",
        "id": "YnlZU1rLrJwt"
      },
      "source": [
        "[**Python**] - Verificar a versão do Tensorflow\n",
        "> Assegurar que está a utilizar a versão 2.x."
      ]
    },
    {
      "cell_type": "code",
      "metadata": {
        "colab_type": "code",
        "id": "445U8OKgVTxW",
        "colab": {}
      },
      "source": [
        "tf.__version__"
      ],
      "execution_count": 0,
      "outputs": []
    },
    {
      "cell_type": "markdown",
      "metadata": {
        "colab_type": "text",
        "id": "-1Ckhzf0VTxc"
      },
      "source": [
        "### 1. Carregar os dados"
      ]
    },
    {
      "cell_type": "markdown",
      "metadata": {
        "id": "aAz0_L0e1mxX",
        "colab_type": "text"
      },
      "source": [
        "[] Carregar os dados"
      ]
    },
    {
      "cell_type": "code",
      "metadata": {
        "colab_type": "code",
        "id": "SOdpdceAVTxd",
        "colab": {}
      },
      "source": [
        "from sklearn.datasets import load_boston\n",
        "\n",
        "Boston = load_boston()"
      ],
      "execution_count": 0,
      "outputs": []
    },
    {
      "cell_type": "markdown",
      "metadata": {
        "id": "K0P23sJs1raX",
        "colab_type": "text"
      },
      "source": [
        "[**Python**] - Definir as matrizes X_Boston e Y_Boston:"
      ]
    },
    {
      "cell_type": "code",
      "metadata": {
        "id": "rPpJOsgJ1y7J",
        "colab_type": "code",
        "colab": {}
      },
      "source": [
        "X_Boston= Boston.data\n",
        "Y_Boston= Boston.target\n",
        "Col_Names= Boston.feature_names\n",
        "Col_Names"
      ],
      "execution_count": 0,
      "outputs": []
    },
    {
      "cell_type": "markdown",
      "metadata": {
        "colab_type": "text",
        "id": "5XBRc6og_ySA"
      },
      "source": [
        "[**Python**] - Corrigir ou renomear as colunas do dataframe:"
      ]
    },
    {
      "cell_type": "code",
      "metadata": {
        "colab_type": "code",
        "id": "VPGDwXSF_ySE",
        "colab": {}
      },
      "source": [
        "X_Boston.columns= X_Boston.columns.str.lower()\n",
        "X_Boston.head()"
      ],
      "execution_count": 0,
      "outputs": []
    },
    {
      "cell_type": "code",
      "metadata": {
        "colab_type": "code",
        "id": "fKiKT-fkVTxq",
        "colab": {}
      },
      "source": [
        "Y_Boston[:10]"
      ],
      "execution_count": 0,
      "outputs": []
    },
    {
      "cell_type": "markdown",
      "metadata": {
        "colab_type": "text",
        "id": "T9uYgjz-VTxu"
      },
      "source": [
        "### 2. Pré-processamento e transformação dos dados"
      ]
    },
    {
      "cell_type": "markdown",
      "metadata": {
        "colab_type": "text",
        "id": "5rbpIU5jlgv6"
      },
      "source": [
        "[**Python**] - Normalizar os dados - StandardScaler()"
      ]
    },
    {
      "cell_type": "code",
      "metadata": {
        "colab_type": "code",
        "id": "Kbs-x9a2VTxw",
        "colab": {}
      },
      "source": [
        "from sklearn.preprocessing import StandardScaler\n",
        "\n",
        "SS = StandardScaler()\n",
        "X_Boston= SS.fit_transform(X_Boston)\n",
        "Y_Boston=  SS.fit_transform(Y_Boston.reshape(-(1, 1))"
      ],
      "execution_count": 0,
      "outputs": []
    },
    {
      "cell_type": "code",
      "metadata": {
        "colab_type": "code",
        "id": "S2w2H9BOXK9u",
        "colab": {}
      },
      "source": [
        "X_Boston"
      ],
      "execution_count": 0,
      "outputs": []
    },
    {
      "cell_type": "code",
      "metadata": {
        "colab_type": "code",
        "id": "DXNIHeS2XM_k",
        "colab": {}
      },
      "source": [
        "Y_Boston[:10]"
      ],
      "execution_count": 0,
      "outputs": []
    },
    {
      "cell_type": "markdown",
      "metadata": {
        "colab_type": "text",
        "id": "gcbomDeKVTx1"
      },
      "source": [
        "### 3. Definir as amostras de treinamento e validação"
      ]
    },
    {
      "cell_type": "markdown",
      "metadata": {
        "colab_type": "text",
        "id": "gEkX579Q2D2q"
      },
      "source": [
        "[**Python**] - Definir as amostras de treinamento e validação"
      ]
    },
    {
      "cell_type": "code",
      "metadata": {
        "colab_type": "code",
        "id": "EZyRBsfYVTx2",
        "colab": {}
      },
      "source": [
        "from sklearn.model_selection import train_test_split\n",
        "\n",
        "X_Treinamento, X_Teste, Y_Treinamento, Y_Teste = train_test_split(X_Boston, Y_Boston, test_size = 0.1, random_state = 20111974)\n",
        "print(f'X: Treinamento=  {X_Treinamento.shape}; X: Teste=  {X_Teste.shape}')"
      ],
      "execution_count": 0,
      "outputs": []
    },
    {
      "cell_type": "code",
      "metadata": {
        "id": "g89c6edL-mBW",
        "colab_type": "code",
        "colab": {}
      },
      "source": [
        "print(f'Y: Treinamento=  {Y_Treinamento.shape}; Y: Teste= {Y_Teste.shape}')"
      ],
      "execution_count": 0,
      "outputs": []
    },
    {
      "cell_type": "markdown",
      "metadata": {
        "colab_type": "text",
        "id": "GU-ebO-3VTx7"
      },
      "source": [
        "### 4. Definir a arquitetura da Rede Neural com _Tensorflow_/_Keras_"
      ]
    },
    {
      "cell_type": "markdown",
      "metadata": {
        "colab_type": "text",
        "id": "gMVzohGHjS_p"
      },
      "source": [
        "[**Python**] - Definir a arquitetura, ou seja:\n",
        "* $N_{I}$: Número de neurônios na camada de entrada (_Input Layer_);\n",
        "* $N_{O}$: Número de neurônios na camada de saída (_Output Layer_);\n",
        "* $N_{H}$: Número de neurônios na camada escondida (_Hidden Layer_);\n",
        "* FA: Função de ativação;"
      ]
    },
    {
      "cell_type": "code",
      "metadata": {
        "colab_type": "code",
        "id": "lf32pQtWjS_u",
        "colab": {}
      },
      "source": [
        "# Número de Neurônios na Input Layer:\n",
        "N_I= X_Boston.shape[1]\n",
        "\n",
        "# Número de neurônios na Output Layer:\n",
        "N_O= 1\n",
        "\n",
        "# Número de neurônios na Hidden Layer:\n",
        "N_H1= 7\n",
        "\n",
        "# Função de Ativação da Hidden Layer:\n",
        "FA_H= tf.nn.leaky_relu\n",
        "\n",
        "# Função de Ativação da Output Layer:\n",
        "FA_O= FA_O"
      ],
      "execution_count": 0,
      "outputs": []
    },
    {
      "cell_type": "markdown",
      "metadata": {
        "colab_type": "text",
        "id": "qOI4_BPYVTyE"
      },
      "source": [
        "Vamos adicionar uma camada _Dropout_ com $p= 0.1$ para evitarmos _overfitting_."
      ]
    },
    {
      "cell_type": "markdown",
      "metadata": {
        "colab_type": "text",
        "id": "yN9lxrXspp-m"
      },
      "source": [
        "[**Python**] - Definir as sementes para NumPy e Tensorflow:\n",
        "> Por questões de reproducibilidade de resultados, use as sementes abaixo:\n",
        "\n",
        "* NumPy: 20111974;\n",
        "* Tensorflow: 20111974;"
      ]
    },
    {
      "cell_type": "code",
      "metadata": {
        "colab_type": "code",
        "id": "cWcQ3OS5pp-n",
        "colab": {}
      },
      "source": [
        "np.random.seed(20111974)\n",
        "tf.random.set_seed(20111974)"
      ],
      "execution_count": 0,
      "outputs": []
    },
    {
      "cell_type": "markdown",
      "metadata": {
        "colab_type": "text",
        "id": "73PnOLbon3Jh"
      },
      "source": [
        "[**Python**] - Definir a Rede Neural:"
      ]
    },
    {
      "cell_type": "markdown",
      "metadata": {
        "id": "zjKR3qgEneJr",
        "colab_type": "text"
      },
      "source": [
        "**Observações**: \n",
        "\n",
        "Para evitar problemas relacionados ao _overfitting_ e _Vanishing or Exploding Gradients in Deep Neural Nets_, os artigos abaixo sugerem as seguintes opções para inicialização dos pesos $W$:\n",
        "\n",
        "* [How to Reduce Overfitting Using Weight Constraints in Keras](https://machinelearningmastery.com/how-to-reduce-overfitting-in-deep-neural-networks-with-weight-constraints-in-keras/) sugere:\n",
        "    * kernel_constraint= tf.keras.constraints.UnitNorm();\n",
        "* [Deep Learning Best Practices (1) — Weight Initialization](https://medium.com/usf-msds/deep-learning-best-practices-1-weight-initialization-14e5c0295b94) sugere:\n",
        "    * kernel_initializer= tf.keras.initializers.he_normal() para activation= 'tf.nn.relu' ou 'tf.nn.leaky_relu' e kernel_constraint= tf.keras.constraints.UnitNorm();\n",
        "* [Vanishing/ Exploding Gradients in Deep Neural Nets and solving them](https://medium.com/swlh/vanishing-exploding-gradients-in-deep-neural-nets-and-solving-them-9d6070f28b29) sugere:\n",
        "    * kernel_initializer= tf.keras.initializers.GlorotUniform();\n",
        "    * kernel_initializer= tf.keras.initializers.GlorotNormal()."
      ]
    },
    {
      "cell_type": "code",
      "metadata": {
        "id": "GnZuQZZTn4_W",
        "colab_type": "code",
        "colab": {}
      },
      "source": [
        "from tensorflow.keras import Sequential\n",
        "from tensorflow.keras.layers import Dense\n",
        "from tensorflow.keras.layers import Dropout\n",
        "\n",
        "RN= Sequential()\n",
        "RN.add(Dense(units= N_H1, input_dim= N_I, kernel_initializer= tf.keras.initializers.GlorotNormal(), activation= FA_H, kernel_constraint= tf.keras.constraints.UnitNorm()))\n",
        "RN.add(Dropout(0.1))\n",
        "RN.add(Dense(units= N_O, activation= FA_O)) # # Se não definirmos o parâmetro activation, então por default será 'linear'.\n",
        "\n",
        "# Resumo da arquitetura da Rede Neural\n",
        "print(RN.summary())"
      ],
      "execution_count": 0,
      "outputs": []
    },
    {
      "cell_type": "markdown",
      "metadata": {
        "colab_type": "text",
        "id": "h-hyQiokVTyM"
      },
      "source": [
        "### 5. Compilar a Rede Neural\n",
        "\n",
        "Este é um problema de regressão. Portanto, temos:\n",
        "* loss= tf.keras.losses.MeanSquaredError ou tf.keras.losses.MeanAbsoluteError();\n",
        "* metrics= 'mse'.\n",
        "* optimizer= tf.keras.optimizers.Adam() ou 'rmsprop'."
      ]
    },
    {
      "cell_type": "markdown",
      "metadata": {
        "colab_type": "text",
        "id": "JwQOPOhr1Oh0"
      },
      "source": [
        "[**Python**] - Comando modelo.compile(optimizer, loss, metrics):"
      ]
    },
    {
      "cell_type": "code",
      "metadata": {
        "colab_type": "code",
        "id": "QY2aKnL_VTyN",
        "colab": {}
      },
      "source": [
        "Algoritmo_Opt= tf.keras.optimizers.RMSprop()\n",
        "Loss_Function= tf.keras.losses.MeanSquaredError()\n",
        "Metrics_Perf= tf.keras.metrics.MeanSquaredError()\n",
        "\n",
        "RN.compile(optimizer= Algoritmo_Opt, loss= Loss_Function, metrics= Metrics_Perf)"
      ],
      "execution_count": 0,
      "outputs": []
    },
    {
      "cell_type": "markdown",
      "metadata": {
        "colab_type": "text",
        "id": "ygJi0ux5VTyT"
      },
      "source": [
        "### 6. Ajustar a Rede Neural\n",
        "\n",
        "Obs.: A opção callbacks abaixo implementa o conceito de _early stopping_. Esta opção vai parar o processo de treinamento da Rede Neural antes de atingirmos o númerco de _epochs_ quando o modelo pára de melhorar, medido pela métrica val_loss. O parâmetro _patience_= k significa que o processo de otimização vai parar se tivermos k _epochs_ consecutivas sem observarmos melhoria da performance da Rede Neural."
      ]
    },
    {
      "cell_type": "markdown",
      "metadata": {
        "colab_type": "text",
        "id": "Vz0urLrq0NPG"
      },
      "source": [
        "[**Python**] - Comando modelo.fit(X_Treinamento, Y_Treinamento, epochs)"
      ]
    },
    {
      "cell_type": "code",
      "metadata": {
        "colab_type": "code",
        "id": "9HoQZUl8VTyU",
        "colab": {}
      },
      "source": [
        "callbacks = [tf.keras.callbacks.EarlyStopping(monitor='val_loss', patience = 5, min_delta=0.001)]\n",
        "hist= RN.fit(X_Treinamento, Y_Treinamento, epochs= 200, validation_data= (X_Teste, Y_Teste), callbacks= callbacks)"
      ],
      "execution_count": 0,
      "outputs": []
    },
    {
      "cell_type": "code",
      "metadata": {
        "colab_type": "code",
        "id": "R_StfUsUzbto",
        "colab": {}
      },
      "source": [
        "Model_Loss(hist)"
      ],
      "execution_count": 0,
      "outputs": []
    },
    {
      "cell_type": "code",
      "metadata": {
        "colab_type": "code",
        "id": "I1FIaMx_zzVW",
        "colab": {}
      },
      "source": [
        "Model_MAE(hist)"
      ],
      "execution_count": 0,
      "outputs": []
    },
    {
      "cell_type": "code",
      "metadata": {
        "colab_type": "code",
        "id": "_t3k3oqg0pXW",
        "colab": {}
      },
      "source": [
        "Model_MSE(hist)"
      ],
      "execution_count": 0,
      "outputs": []
    },
    {
      "cell_type": "markdown",
      "metadata": {
        "colab_type": "text",
        "id": "LH0llgTsVTyY"
      },
      "source": [
        "### 7. Avaliar a performance da Rede Neural"
      ]
    },
    {
      "cell_type": "markdown",
      "metadata": {
        "colab_type": "text",
        "id": "yZZPMFXvyvtG"
      },
      "source": [
        "[**Python**] - Comando modelo.evaluate(X_Teste, Y_Teste)"
      ]
    },
    {
      "cell_type": "code",
      "metadata": {
        "colab_type": "code",
        "id": "iZGhNF5vVTyZ",
        "colab": {}
      },
      "source": [
        "RN.evaluate(X_Teste, Y_Teste)"
      ],
      "execution_count": 0,
      "outputs": []
    },
    {
      "cell_type": "markdown",
      "metadata": {
        "colab_type": "text",
        "id": "BkosiHm6lmww"
      },
      "source": [
        "Observe que a Rede Neural _baseline_ (modelo inicial) apresenta MSE= 0.0795. Ainda assim, vamos tentar reduzir a _Loss Function_ e tentar chegar à um MSE ainda menor."
      ]
    },
    {
      "cell_type": "markdown",
      "metadata": {
        "colab_type": "text",
        "id": "HcLONQpPVTyi"
      },
      "source": [
        "### 8. _Fine tuning_ da Rede Neural\n",
        "\n",
        "O que pode ser feito para melhorar a performance da Rede Neural?\n",
        "* aumentar o número de _Hidden Layers_ e o número de neurônios em cada uma delas."
      ]
    },
    {
      "cell_type": "code",
      "metadata": {
        "colab_type": "code",
        "id": "g7Uxk3j_ndFX",
        "colab": {}
      },
      "source": [
        "N_I= X_Boston.shape[1]\n",
        "N_H1= 32\n",
        "N_H2= 32\n",
        "N_H3= 32\n",
        "N_O= 1"
      ],
      "execution_count": 0,
      "outputs": []
    },
    {
      "cell_type": "markdown",
      "metadata": {
        "colab_type": "text",
        "id": "fF3Eb_5dp2PZ"
      },
      "source": [
        "[**Python**] - Definir as sementes para NumPy e Tensorflow:\n",
        "> Por questões de reproducibilidade de resultados, use as sementes abaixo:\n",
        "\n",
        "* NumPy: 20111974;\n",
        "* Tensorflow: 20111974;"
      ]
    },
    {
      "cell_type": "code",
      "metadata": {
        "colab_type": "code",
        "id": "X48MWaa_p2Pb",
        "colab": {}
      },
      "source": [
        "np.random.seed(20111974)\n",
        "tf.random.set_seed(20111974)"
      ],
      "execution_count": 0,
      "outputs": []
    },
    {
      "cell_type": "markdown",
      "metadata": {
        "colab_type": "text",
        "id": "mHbjgPT7nP-q"
      },
      "source": [
        "[**Python**] - Definir a Rede Neural:"
      ]
    },
    {
      "cell_type": "markdown",
      "metadata": {
        "id": "j8s-XRqdbuXP",
        "colab_type": "text"
      },
      "source": [
        "**Observações**: \n",
        "\n",
        "Para evitar problemas relacionados ao _overfitting_ e _Vanishing or Exploding Gradients in Deep Neural Nets_, os artigos abaixo sugerem as seguintes opções para inicialização dos pesos $W$:\n",
        "\n",
        "* [How to Reduce Overfitting Using Weight Constraints in Keras](https://machinelearningmastery.com/how-to-reduce-overfitting-in-deep-neural-networks-with-weight-constraints-in-keras/) sugere:\n",
        "    * kernel_constraint= tf.keras.constraints.UnitNorm();\n",
        "* [Deep Learning Best Practices (1) — Weight Initialization](https://medium.com/usf-msds/deep-learning-best-practices-1-weight-initialization-14e5c0295b94) sugere:\n",
        "    * kernel_initializer= tf.keras.initializers.he_normal() para activation= 'tf.nn.relu' ou 'tf.nn.leaky_relu' e kernel_constraint= tf.keras.constraints.UnitNorm();\n",
        "* [Vanishing/ Exploding Gradients in Deep Neural Nets and solving them](https://medium.com/swlh/vanishing-exploding-gradients-in-deep-neural-nets-and-solving-them-9d6070f28b29) sugere:\n",
        "    * kernel_initializer= tf.keras.initializers.GlorotUniform();\n",
        "    * kernel_initializer= tf.keras.initializers.GlorotNormal()."
      ]
    },
    {
      "cell_type": "code",
      "metadata": {
        "id": "3HcNOQoFnR3W",
        "colab_type": "code",
        "colab": {}
      },
      "source": [
        "from tensorflow.keras import Sequential\n",
        "from tensorflow.keras.layers import Dense\n",
        "from tensorflow.keras.layers import Dropout\n",
        "\n",
        "RN= Sequential()\n",
        "RN.add(Dense(units= N_H1, input_dim= N_I, kernel_initializer= tf.keras.initializers.GlorotNormal(), activation= FA_H, kernel_constraint= tf.keras.constraints.UnitNorm()))\n",
        "RN.add(Dropout(0.1))\n",
        "RN.add(Dense(units= N_H2, kernel_initializer= tf.keras.initializers.GlorotNormal(), activation= FA_H, kernel_constraint= tf.keras.constraints.UnitNorm())\n",
        "RN.add(Dropout(0.1))\n",
        "RN.add(Dense(units= N_H3, kernel_initializer= tf.keras.initializers.GlorotNormal(), activation= FA_H, kernel_constraint= tf.keras.constraints.UnitNorm()))\n",
        "RN.add(Dropout(0.1))\n",
        "RN.add(Dense(units= N_O, activation= FA_O)) # Se não definirmos o parâmetro activation, então por default será 'linear'.\n",
        "\n",
        "# Resumo da arquitetura da Rede Neural\n",
        "print(RN.summary())"
      ],
      "execution_count": 0,
      "outputs": []
    },
    {
      "cell_type": "markdown",
      "metadata": {
        "colab_type": "text",
        "id": "JBolPrXZnZ5i"
      },
      "source": [
        "#### 8.5. Compilar a Rede Neural (_Fine tuning_ da Rede Neural)\n"
      ]
    },
    {
      "cell_type": "markdown",
      "metadata": {
        "colab_type": "text",
        "id": "rMBCiUTC1W2H"
      },
      "source": [
        "[**Python**] - Comando modelo.compile(optimizer, loss, metrics):"
      ]
    },
    {
      "cell_type": "code",
      "metadata": {
        "colab_type": "code",
        "id": "YlBccXXmnZ5k",
        "colab": {}
      },
      "source": [
        "Algoritmo_Opt= tf.keras.optimizers.Adam()\n",
        "Loss_Function= tf.keras.losses.MeanSquaredError()\n",
        "Metrics_Perf= tf.keras.metrics.MeanSquaredError()\n",
        "\n",
        "RN.compile(optimizer= Algoritmo_Opt, loss= Loss_Function, metrics= Metrics_Perf)"
      ],
      "execution_count": 0,
      "outputs": []
    },
    {
      "cell_type": "markdown",
      "metadata": {
        "colab_type": "text",
        "id": "SIOA5UFfnZ5p"
      },
      "source": [
        "#### 8.6. Ajustar a Rede Neural (_Fine tuning_ da Rede Neural)\n",
        "\n",
        "Obs.: A opção callbacks abaixo implementa o conceito de _early stopping_. Esta opção vai parar o processo de treinamento da Rede Neural antes de atingirmos o númerco de _epochs_ quando o modelo pára de melhorar, medido pela métrica val_loss. O parâmetro _patience_= k significa que o processo de otimização vai parar se tivermos k _epochs_ consecutivas sem observarmos melhoria da performance da Rede Neural."
      ]
    },
    {
      "cell_type": "markdown",
      "metadata": {
        "colab_type": "text",
        "id": "ktlrSmGQ0Qrq"
      },
      "source": [
        "[**Python**] - Comando modelo.fit(X_Treinamento, Y_Treinamento, epochs)"
      ]
    },
    {
      "cell_type": "code",
      "metadata": {
        "colab_type": "code",
        "id": "kM5x90ArnZ5r",
        "colab": {}
      },
      "source": [
        "callbacks = [tf.keras.callbacks.EarlyStopping(monitor='val_loss', patience = 5, min_delta=0.001)]\n",
        "hist= RN.fit(X_Treinamento, Y_Treinamento, epochs= 500, validation_data= (X_Teste, Y_Teste), callbacks= callbacks)"
      ],
      "execution_count": 0,
      "outputs": []
    },
    {
      "cell_type": "markdown",
      "metadata": {
        "colab_type": "text",
        "id": "AfxvOccmnZ5z"
      },
      "source": [
        "#### 8.7. Avaliar a performance da Rede Neural (_Fine tuning_ da Rede Neural)"
      ]
    },
    {
      "cell_type": "markdown",
      "metadata": {
        "colab_type": "text",
        "id": "4XZmb9zIy1Xf"
      },
      "source": [
        "[**Python**] - Comando modelo.evaluate(X_Teste, Y_Teste)"
      ]
    },
    {
      "cell_type": "code",
      "metadata": {
        "colab_type": "code",
        "id": "belFKJQSnZ51",
        "colab": {}
      },
      "source": [
        "RN.evaluate(X_Teste, Y_Teste)"
      ],
      "execution_count": 0,
      "outputs": []
    },
    {
      "cell_type": "markdown",
      "metadata": {
        "colab_type": "text",
        "id": "7whymUw5VTyq"
      },
      "source": [
        "### 10. Conclusões\n",
        "\n",
        "A performance da Rede Neural melhorou um pouco com a redução do MSE."
      ]
    }
  ]
}