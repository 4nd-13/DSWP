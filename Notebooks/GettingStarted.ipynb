{
  "nbformat": 4,
  "nbformat_minor": 0,
  "metadata": {
    "colab": {
      "name": "PythonLab.ipynb",
      "version": "0.3.2",
      "provenance": [],
      "collapsed_sections": [
        "n8BIbzQbNWUo",
        "7eS94uQ4NhVR",
        "SYOgJpGYVLUu",
        "CaHFxk98W5if",
        "ReWUyWiHXCnc",
        "CqszHxaKHr2h",
        "tXgF1Wl9gHKY",
        "Fotx7XUquAo8",
        "36kmLUYDvsUI",
        "SWO2GdNovxAp",
        "vpN54l4vxze5",
        "u4HOf9SNytSq",
        "6BQ9oZiD9hg5",
        "tz5-QdrX9vct",
        "p1muBgMX8NK4",
        "FxTC2-U88ajk",
        "z8EYn0pP25Rh"
      ],
      "toc_visible": true,
      "include_colab_link": true
    },
    "kernelspec": {
      "name": "python3",
      "display_name": "Python 3"
    },
    "accelerator": "GPU"
  },
  "cells": [
    {
      "cell_type": "markdown",
      "metadata": {
        "id": "view-in-github",
        "colab_type": "text"
      },
      "source": [
        "<a href=\"https://colab.research.google.com/github/MathMachado/Python_RFB/blob/DS_Python/Notebooks/GettingStarted.ipynb\" target=\"_parent\"><img src=\"https://colab.research.google.com/assets/colab-badge.svg\" alt=\"Open In Colab\"/></a>"
      ]
    },
    {
      "cell_type": "markdown",
      "metadata": {
        "id": "Gbziy0R0PRtA",
        "colab_type": "text"
      },
      "source": [
        "# Melhorias desta sessão\n"
      ]
    },
    {
      "cell_type": "markdown",
      "metadata": {
        "id": "7dCgyod200fr",
        "colab_type": "text"
      },
      "source": [
        "![Python](https://github.com/MathMachado/Python_RFB/blob/master/Material/python-logo-master-flat-1024x444.png?raw=true)"
      ]
    },
    {
      "cell_type": "markdown",
      "metadata": {
        "id": "Vqe4hFlUr8Ql",
        "colab_type": "text"
      },
      "source": [
        "# Verificar a versão do Python"
      ]
    },
    {
      "cell_type": "code",
      "metadata": {
        "id": "1mpFkGQsr8cL",
        "colab_type": "code",
        "outputId": "6485bf7c-168f-4195-9a00-2854e3da6e11",
        "colab": {
          "base_uri": "https://localhost:8080/",
          "height": 52
        }
      },
      "source": [
        "import sys\n",
        "print(sys.version)"
      ],
      "execution_count": 0,
      "outputs": [
        {
          "output_type": "stream",
          "text": [
            "3.6.8 (default, Jan 14 2019, 11:02:34) \n",
            "[GCC 8.0.1 20180414 (experimental) [trunk revision 259383]]\n"
          ],
          "name": "stdout"
        }
      ]
    },
    {
      "cell_type": "markdown",
      "metadata": {
        "id": "jppBUTAjsbiO",
        "colab_type": "text"
      },
      "source": [
        "ou"
      ]
    },
    {
      "cell_type": "code",
      "metadata": {
        "id": "ayEi8UBSscqy",
        "colab_type": "code",
        "outputId": "58d82f3d-7278-440d-bfcf-c7f3f9fab7aa",
        "colab": {
          "base_uri": "https://localhost:8080/",
          "height": 34
        }
      },
      "source": [
        "from platform import python_version\n",
        "print(python_version())"
      ],
      "execution_count": 0,
      "outputs": [
        {
          "output_type": "stream",
          "text": [
            "3.6.8\n"
          ],
          "name": "stdout"
        }
      ]
    },
    {
      "cell_type": "markdown",
      "metadata": {
        "id": "e23JV0KVsP5x",
        "colab_type": "text"
      },
      "source": [
        "# Pedir ajuda\n",
        "> Caso surja alguma dúvida sobre alguma função ou método, use os seguintes comandos:"
      ]
    },
    {
      "cell_type": "code",
      "metadata": {
        "id": "VOLKTj7zslQZ",
        "colab_type": "code",
        "outputId": "19b31580-0672-4914-e514-36c739648ec7",
        "colab": {
          "base_uri": "https://localhost:8080/",
          "height": 1000
        }
      },
      "source": [
        "import numpy as np\n",
        "help(np.arange)"
      ],
      "execution_count": 0,
      "outputs": [
        {
          "output_type": "stream",
          "text": [
            "Help on built-in function arange in module numpy:\n",
            "\n",
            "arange(...)\n",
            "    arange([start,] stop[, step,], dtype=None)\n",
            "    \n",
            "    Return evenly spaced values within a given interval.\n",
            "    \n",
            "    Values are generated within the half-open interval ``[start, stop)``\n",
            "    (in other words, the interval including `start` but excluding `stop`).\n",
            "    For integer arguments the function is equivalent to the Python built-in\n",
            "    `range` function, but returns an ndarray rather than a list.\n",
            "    \n",
            "    When using a non-integer step, such as 0.1, the results will often not\n",
            "    be consistent.  It is better to use `numpy.linspace` for these cases.\n",
            "    \n",
            "    Parameters\n",
            "    ----------\n",
            "    start : number, optional\n",
            "        Start of interval.  The interval includes this value.  The default\n",
            "        start value is 0.\n",
            "    stop : number\n",
            "        End of interval.  The interval does not include this value, except\n",
            "        in some cases where `step` is not an integer and floating point\n",
            "        round-off affects the length of `out`.\n",
            "    step : number, optional\n",
            "        Spacing between values.  For any output `out`, this is the distance\n",
            "        between two adjacent values, ``out[i+1] - out[i]``.  The default\n",
            "        step size is 1.  If `step` is specified as a position argument,\n",
            "        `start` must also be given.\n",
            "    dtype : dtype\n",
            "        The type of the output array.  If `dtype` is not given, infer the data\n",
            "        type from the other input arguments.\n",
            "    \n",
            "    Returns\n",
            "    -------\n",
            "    arange : ndarray\n",
            "        Array of evenly spaced values.\n",
            "    \n",
            "        For floating point arguments, the length of the result is\n",
            "        ``ceil((stop - start)/step)``.  Because of floating point overflow,\n",
            "        this rule may result in the last element of `out` being greater\n",
            "        than `stop`.\n",
            "    \n",
            "    See Also\n",
            "    --------\n",
            "    linspace : Evenly spaced numbers with careful handling of endpoints.\n",
            "    ogrid: Arrays of evenly spaced numbers in N-dimensions.\n",
            "    mgrid: Grid-shaped arrays of evenly spaced numbers in N-dimensions.\n",
            "    \n",
            "    Examples\n",
            "    --------\n",
            "    >>> np.arange(3)\n",
            "    array([0, 1, 2])\n",
            "    >>> np.arange(3.0)\n",
            "    array([ 0.,  1.,  2.])\n",
            "    >>> np.arange(3,7)\n",
            "    array([3, 4, 5, 6])\n",
            "    >>> np.arange(3,7,2)\n",
            "    array([3, 5])\n",
            "\n"
          ],
          "name": "stdout"
        }
      ]
    },
    {
      "cell_type": "markdown",
      "metadata": {
        "id": "LNfT5KcIoppY",
        "colab_type": "text"
      },
      "source": [
        "[Go to top](#top)"
      ]
    },
    {
      "cell_type": "markdown",
      "metadata": {
        "id": "qG0cPxziGcJj",
        "colab_type": "text"
      },
      "source": [
        "# Comentários no Python\n",
        "> Basicamente, há duas formas de se fazer comentários e documentar seus codes no Python. Confira os exemplos a seguir:"
      ]
    },
    {
      "cell_type": "markdown",
      "metadata": {
        "id": "K1mmf41HG1cu",
        "colab_type": "text"
      },
      "source": [
        "## Exemplo 1"
      ]
    },
    {
      "cell_type": "code",
      "metadata": {
        "id": "B56PtqQ4G2xq",
        "colab_type": "code",
        "colab": {}
      },
      "source": [
        "# Isso é um comentário"
      ],
      "execution_count": 0,
      "outputs": []
    },
    {
      "cell_type": "markdown",
      "metadata": {
        "id": "vLyc-A93G_6G",
        "colab_type": "text"
      },
      "source": [
        "## Exemplo 2"
      ]
    },
    {
      "cell_type": "code",
      "metadata": {
        "id": "1y8BBOxoG-sd",
        "colab_type": "code",
        "outputId": "a1e0e638-d815-406c-a25c-a749e86eb574",
        "colab": {
          "base_uri": "https://localhost:8080/",
          "height": 35
        }
      },
      "source": [
        "print(\"Como fazer comentários nos seus codes Python.\")  # Isso é um comentário"
      ],
      "execution_count": 0,
      "outputs": [
        {
          "output_type": "stream",
          "text": [
            "Como fazer comentários nos seus codes Python.\n"
          ],
          "name": "stdout"
        }
      ]
    },
    {
      "cell_type": "markdown",
      "metadata": {
        "id": "PHqYXcK4HQkK",
        "colab_type": "text"
      },
      "source": [
        "## Exemplo 3 - Multiline comments"
      ]
    },
    {
      "cell_type": "code",
      "metadata": {
        "id": "DhIy_LnHHR1v",
        "colab_type": "code",
        "colab": {}
      },
      "source": [
        "# Usando esta alternativa, podemos escrever múltiplas linhas de comentários para documentar os codes Python.\n",
        "# Por acaso, achei essa frase ontem e achei muito interessante. Segue:\n",
        "#\n",
        "# \"The secret of life is to fall 7 times and to get up 8 times\". [Paulo Coelho]\n",
        "#\n",
        "# Ok, chega de comentários."
      ],
      "execution_count": 0,
      "outputs": []
    },
    {
      "cell_type": "markdown",
      "metadata": {
        "id": "Cz0GFBcXo2Cs",
        "colab_type": "text"
      },
      "source": [
        "[Go to top](#top)"
      ]
    },
    {
      "cell_type": "markdown",
      "metadata": {
        "id": "Yw36Hqlj0UTR",
        "colab_type": "text"
      },
      "source": [
        "# Operadores Básicos"
      ]
    },
    {
      "cell_type": "markdown",
      "metadata": {
        "id": "n8BIbzQbNWUo",
        "colab_type": "text"
      },
      "source": [
        "## Operadores Aritméticos\n",
        "\n",
        "* Considere a variável a= 5 e b= 3, então:\n",
        "\n",
        "| Operador | Descrição | Exemplo | Operação | Resultado |\n",
        "|---|---|---|---|---|\n",
        "| +  | Adição | c= a+b | c= 5+3 | c= 8 |\n",
        "| -  | Subtração | c= a-b | c= 5-3 | c= 2|\n",
        "| /  | Divisão | c= a/b | c= 5/3 | c= 1.66 |\n",
        "| %  | Resto da Divisão | c= a%b | c= 5%3 | c= 2 | \n",
        "| *  | Multiplicação | c= a*b | c= 5*3 | c= 15 |\n",
        "| //  | Floor Division | c= a//b | c= 5//3 | c= 1 |\n",
        "| **  | Potência | c= a**b | c= 5\\*5\\*5 | c= 125|"
      ]
    },
    {
      "cell_type": "markdown",
      "metadata": {
        "id": "EPI5rEFmTCCr",
        "colab_type": "text"
      },
      "source": [
        "Supponse A= 7 and B= 2 as below:"
      ]
    },
    {
      "cell_type": "code",
      "metadata": {
        "id": "x1M4D-GKTotm",
        "colab_type": "code",
        "colab": {}
      },
      "source": [
        "A= 7\n",
        "B= 2"
      ],
      "execution_count": 0,
      "outputs": []
    },
    {
      "cell_type": "markdown",
      "metadata": {
        "id": "_2c7o4-1lapI",
        "colab_type": "text"
      },
      "source": [
        "Qual o valor de C nas expressões abaixo?"
      ]
    },
    {
      "cell_type": "code",
      "metadata": {
        "id": "qBC_Qo_NTI_k",
        "colab_type": "code",
        "outputId": "68d1b22d-66c6-444d-f461-003a47e4c3f5",
        "colab": {
          "base_uri": "https://localhost:8080/",
          "height": 35
        }
      },
      "source": [
        "C= A+B\n",
        "f'O valor de C é: {C}'"
      ],
      "execution_count": 0,
      "outputs": [
        {
          "output_type": "execute_result",
          "data": {
            "text/plain": [
              "'O valor de C é: 9'"
            ]
          },
          "metadata": {
            "tags": []
          },
          "execution_count": 3
        }
      ]
    },
    {
      "cell_type": "code",
      "metadata": {
        "id": "PT0AQX57TKcF",
        "colab_type": "code",
        "outputId": "be86c247-d21a-470c-b36a-b00b6e2ba99e",
        "colab": {
          "base_uri": "https://localhost:8080/",
          "height": 35
        }
      },
      "source": [
        "C= A-B\n",
        "f'O valor de C é: {C}'"
      ],
      "execution_count": 0,
      "outputs": [
        {
          "output_type": "execute_result",
          "data": {
            "text/plain": [
              "'O valor de C é: 5'"
            ]
          },
          "metadata": {
            "tags": []
          },
          "execution_count": 4
        }
      ]
    },
    {
      "cell_type": "code",
      "metadata": {
        "id": "CBxB4hZ3TL4d",
        "colab_type": "code",
        "outputId": "a3e4e631-0981-4b62-e2cd-0c8f26473e5d",
        "colab": {
          "base_uri": "https://localhost:8080/",
          "height": 35
        }
      },
      "source": [
        "C= A*B\n",
        "f'O valor de C é: {C}'"
      ],
      "execution_count": 0,
      "outputs": [
        {
          "output_type": "execute_result",
          "data": {
            "text/plain": [
              "'O valor de C é: 14'"
            ]
          },
          "metadata": {
            "tags": []
          },
          "execution_count": 5
        }
      ]
    },
    {
      "cell_type": "code",
      "metadata": {
        "id": "u3c2_zmZTdur",
        "colab_type": "code",
        "outputId": "0dcf77ce-d1be-4ef6-ae3c-21e79230254f",
        "colab": {
          "base_uri": "https://localhost:8080/",
          "height": 35
        }
      },
      "source": [
        "# Exemplo 1\n",
        "C= B/A\n",
        "\n",
        "# Uso das funções round(), floor(), ceil() e trunc()\n",
        "import math\n",
        "\n",
        "C_round= round(C, 2)\n",
        "C_floor= math.floor(C)\n",
        "C_ceil= math.ceil(C)\n",
        "C_trunc= math.trunc(C)\n",
        "\n",
        "f'C: {C}; C_round: {C_round}; C_floor: {C_floor}; C_ceil: {C_ceil}; C_trunc: {C_trunc}'"
      ],
      "execution_count": 0,
      "outputs": [
        {
          "output_type": "execute_result",
          "data": {
            "text/plain": [
              "'C: 0.2857142857142857; C_round: 0.29; C_floor: 0; C_ceil: 1; C_trunc: 0'"
            ]
          },
          "metadata": {
            "tags": []
          },
          "execution_count": 17
        }
      ]
    },
    {
      "cell_type": "code",
      "metadata": {
        "id": "vja58gRJXBda",
        "colab_type": "code",
        "outputId": "89c0bccb-344c-4103-924a-3d41f7fecea8",
        "colab": {
          "base_uri": "https://localhost:8080/",
          "height": 35
        }
      },
      "source": [
        "# Exemplo 2\n",
        "C= 13/3\n",
        "\n",
        "# Uso das funções round(), floor(), ceil() e trunc()\n",
        "import math\n",
        "\n",
        "C_round= round(C, 2)\n",
        "C_floor= math.floor(C)\n",
        "C_ceil= math.ceil(C)\n",
        "C_trunc= math.trunc(C)\n",
        "\n",
        "f'C: {C}; C_round: {C_round}; C_floor: {C_floor}; C_ceil: {C_ceil}; C_trunc: {C_trunc}'"
      ],
      "execution_count": 0,
      "outputs": [
        {
          "output_type": "execute_result",
          "data": {
            "text/plain": [
              "'C: 4.333333333333333; C_round: 4.33; C_floor: 4; C_ceil: 5; C_trunc: 4'"
            ]
          },
          "metadata": {
            "tags": []
          },
          "execution_count": 18
        }
      ]
    },
    {
      "cell_type": "markdown",
      "metadata": {
        "id": "bSLDyRMYVXTB",
        "colab_type": "text"
      },
      "source": [
        "... Novamente, mas desta vez, definindo o número de casas decimais:"
      ]
    },
    {
      "cell_type": "code",
      "metadata": {
        "id": "gDNJOp2nVcr4",
        "colab_type": "code",
        "outputId": "118cad24-baf2-4b0e-9541-5a79a682da8e",
        "colab": {
          "base_uri": "https://localhost:8080/",
          "height": 35
        }
      },
      "source": [
        "f'O valor de C é: {C:{8}.{2}}'"
      ],
      "execution_count": 0,
      "outputs": [
        {
          "output_type": "execute_result",
          "data": {
            "text/plain": [
              "'O valor de C é:     0.29'"
            ]
          },
          "metadata": {
            "tags": []
          },
          "execution_count": 8
        }
      ]
    },
    {
      "cell_type": "code",
      "metadata": {
        "id": "GwCoO2ZnTh8V",
        "colab_type": "code",
        "outputId": "3babf397-44fb-41ca-c343-e7707ef4375e",
        "colab": {
          "base_uri": "https://localhost:8080/",
          "height": 35
        }
      },
      "source": [
        "C= B%A\n",
        "f'O valor de C é: {C}'"
      ],
      "execution_count": 0,
      "outputs": [
        {
          "output_type": "execute_result",
          "data": {
            "text/plain": [
              "'O valor de C é: 2'"
            ]
          },
          "metadata": {
            "tags": []
          },
          "execution_count": 19
        }
      ]
    },
    {
      "cell_type": "code",
      "metadata": {
        "id": "8-vAOeQQTuEn",
        "colab_type": "code",
        "outputId": "0986ddc8-2ed0-4d8e-8d2e-6af0b2ff14cc",
        "colab": {
          "base_uri": "https://localhost:8080/",
          "height": 35
        }
      },
      "source": [
        "C= B**A\n",
        "f'O valor de C é: {C}'"
      ],
      "execution_count": 0,
      "outputs": [
        {
          "output_type": "execute_result",
          "data": {
            "text/plain": [
              "'O valor de C é: 128'"
            ]
          },
          "metadata": {
            "tags": []
          },
          "execution_count": 20
        }
      ]
    },
    {
      "cell_type": "code",
      "metadata": {
        "id": "nLrL-JjqTy3t",
        "colab_type": "code",
        "outputId": "5fac4721-60c0-45cb-bcdb-f05e41c75fe4",
        "colab": {
          "base_uri": "https://localhost:8080/",
          "height": 35
        }
      },
      "source": [
        "C= A//B\n",
        "f'O valor de C é: {C}'"
      ],
      "execution_count": 0,
      "outputs": [
        {
          "output_type": "execute_result",
          "data": {
            "text/plain": [
              "'O valor de C é: 3'"
            ]
          },
          "metadata": {
            "tags": []
          },
          "execution_count": 21
        }
      ]
    },
    {
      "cell_type": "code",
      "metadata": {
        "id": "yZyYff-0T3Xh",
        "colab_type": "code",
        "outputId": "87e9f787-c9da-4b32-e693-7b2994cf5356",
        "colab": {
          "base_uri": "https://localhost:8080/",
          "height": 35
        }
      },
      "source": [
        "C= B//A\n",
        "f'O valor de C é: {C}'"
      ],
      "execution_count": 0,
      "outputs": [
        {
          "output_type": "execute_result",
          "data": {
            "text/plain": [
              "'O valor de C é: 0'"
            ]
          },
          "metadata": {
            "tags": []
          },
          "execution_count": 22
        }
      ]
    },
    {
      "cell_type": "code",
      "metadata": {
        "id": "Da9xKKLUT7gX",
        "colab_type": "code",
        "outputId": "2eacd89d-7c6d-4da9-d2f8-8a47667b4864",
        "colab": {
          "base_uri": "https://localhost:8080/",
          "height": 35
        }
      },
      "source": [
        "C= (B+1)//2\n",
        "f'O valor de C é: {C}'"
      ],
      "execution_count": 0,
      "outputs": [
        {
          "output_type": "execute_result",
          "data": {
            "text/plain": [
              "'O valor de C é: 1'"
            ]
          },
          "metadata": {
            "tags": []
          },
          "execution_count": 23
        }
      ]
    },
    {
      "cell_type": "markdown",
      "metadata": {
        "id": "DOKsR_NGo-Zr",
        "colab_type": "text"
      },
      "source": [
        "[Go to top](#top)"
      ]
    },
    {
      "cell_type": "markdown",
      "metadata": {
        "id": "7eS94uQ4NhVR",
        "colab_type": "text"
      },
      "source": [
        "## Operadores para Comparação\n",
        "\n",
        "* Considere a variável a= 5 e b= 3, então:\n",
        "\n",
        "| Operador | Exemplo | Descrição | Resultado |\n",
        "|---|---|---|---|\n",
        "| == | a == b | a é igual a b? | False |\n",
        "| !=; <>  | a != b ou a <> b | a é diferente de b? | True |\n",
        "| >  | a > b | a é maior que b? | True |\n",
        "| < | a < b | a é menor que b? | False | \n",
        "| >=  | a >= b | a é maior ou igual a b? | True |\n",
        "| <= | a <= b | a é menor ou igual a b? | False |"
      ]
    },
    {
      "cell_type": "markdown",
      "metadata": {
        "id": "SYOgJpGYVLUu",
        "colab_type": "text"
      },
      "source": [
        "Supponse A= 2 and B= 3 as below:"
      ]
    },
    {
      "cell_type": "code",
      "metadata": {
        "id": "D5i-yvZEVMjg",
        "colab_type": "code",
        "colab": {}
      },
      "source": [
        "A= 2\n",
        "B= 3"
      ],
      "execution_count": 0,
      "outputs": []
    },
    {
      "cell_type": "markdown",
      "metadata": {
        "id": "yye84Ha8lzs0",
        "colab_type": "text"
      },
      "source": [
        "Qual o resultado para C nas expressões a seguir:"
      ]
    },
    {
      "cell_type": "code",
      "metadata": {
        "id": "5ZW2QYfzVQWA",
        "colab_type": "code",
        "colab": {}
      },
      "source": [
        "(A == B)"
      ],
      "execution_count": 0,
      "outputs": []
    },
    {
      "cell_type": "code",
      "metadata": {
        "id": "YamNIizkVYnt",
        "colab_type": "code",
        "colab": {}
      },
      "source": [
        "(A != B)"
      ],
      "execution_count": 0,
      "outputs": []
    },
    {
      "cell_type": "code",
      "metadata": {
        "id": "2kZvSb41Vfst",
        "colab_type": "code",
        "colab": {}
      },
      "source": [
        "(A > B)"
      ],
      "execution_count": 0,
      "outputs": []
    },
    {
      "cell_type": "code",
      "metadata": {
        "id": "WVS6z01mWZ8O",
        "colab_type": "code",
        "colab": {}
      },
      "source": [
        "(A < B)"
      ],
      "execution_count": 0,
      "outputs": []
    },
    {
      "cell_type": "code",
      "metadata": {
        "id": "gtuxz2JDWb4r",
        "colab_type": "code",
        "colab": {}
      },
      "source": [
        "(A >= B)"
      ],
      "execution_count": 0,
      "outputs": []
    },
    {
      "cell_type": "code",
      "metadata": {
        "id": "CV1aZWYuWgW-",
        "colab_type": "code",
        "colab": {}
      },
      "source": [
        "(A <= B)"
      ],
      "execution_count": 0,
      "outputs": []
    },
    {
      "cell_type": "markdown",
      "metadata": {
        "id": "Ssp-IQbQpARy",
        "colab_type": "text"
      },
      "source": [
        "[Go to top](#top)"
      ]
    },
    {
      "cell_type": "markdown",
      "metadata": {
        "id": "CaHFxk98W5if",
        "colab_type": "text"
      },
      "source": [
        "## Operador de Atribuição\n",
        "\n",
        "| Operador | Exemplo | Operação Equivalente | \n",
        "|---|---|---|\n",
        "| = | c= a+b |\n",
        "| += | c+= b | c= c+b |\n",
        "| -= | c-= b | c= c-b |\n",
        "| *= | c*= b | c= c*b |\n",
        "| /= | c/= b | c= c/b |\n",
        "| %= | c%= b | c= c%b |\n",
        "| **= | c**= b | c= c**b |\n",
        "| //= | c//= b | c= c//b |"
      ]
    },
    {
      "cell_type": "markdown",
      "metadata": {
        "id": "ReWUyWiHXCnc",
        "colab_type": "text"
      },
      "source": [
        "Supponse A= 2 and B= 3 as below:"
      ]
    },
    {
      "cell_type": "code",
      "metadata": {
        "id": "9cc6h3IEXA91",
        "colab_type": "code",
        "colab": {}
      },
      "source": [
        "A= 2\n",
        "B= 3"
      ],
      "execution_count": 0,
      "outputs": []
    },
    {
      "cell_type": "markdown",
      "metadata": {
        "id": "gmvx14IYl8gT",
        "colab_type": "text"
      },
      "source": [
        "Qual o valor de C nas expressões a seguir:"
      ]
    },
    {
      "cell_type": "code",
      "metadata": {
        "id": "ipA_sFLHXWfy",
        "colab_type": "code",
        "colab": {}
      },
      "source": [
        "C = A + B\n",
        "f'O valor de C é: {C}'"
      ],
      "execution_count": 0,
      "outputs": []
    },
    {
      "cell_type": "code",
      "metadata": {
        "id": "IkshGLnMXb_P",
        "colab_type": "code",
        "colab": {}
      },
      "source": [
        "C += A\n",
        "f'O valor de C é: {C}'"
      ],
      "execution_count": 0,
      "outputs": []
    },
    {
      "cell_type": "code",
      "metadata": {
        "id": "R5AUHwAwXgW-",
        "colab_type": "code",
        "colab": {}
      },
      "source": [
        "C -= A\n",
        "f'O valor de C é: {C}'"
      ],
      "execution_count": 0,
      "outputs": []
    },
    {
      "cell_type": "code",
      "metadata": {
        "id": "Cx3Pk_-IYBfX",
        "colab_type": "code",
        "colab": {}
      },
      "source": [
        "C *= A\n",
        "f'O valor de C é: {C}'"
      ],
      "execution_count": 0,
      "outputs": []
    },
    {
      "cell_type": "code",
      "metadata": {
        "id": "3cmr8Xi_YEX_",
        "colab_type": "code",
        "colab": {}
      },
      "source": [
        "C /= A\n",
        "f'O valor de C é: {C}'"
      ],
      "execution_count": 0,
      "outputs": []
    },
    {
      "cell_type": "code",
      "metadata": {
        "id": "oBNsw_TcYHXk",
        "colab_type": "code",
        "colab": {}
      },
      "source": [
        "C %= A\n",
        "f'O valor de C é: {C}'"
      ],
      "execution_count": 0,
      "outputs": []
    },
    {
      "cell_type": "code",
      "metadata": {
        "id": "EMmTl4jqYK6z",
        "colab_type": "code",
        "colab": {}
      },
      "source": [
        "C **= A\n",
        "f'O valor de C é: {C}'"
      ],
      "execution_count": 0,
      "outputs": []
    },
    {
      "cell_type": "code",
      "metadata": {
        "id": "sdIw4e8FYOIX",
        "colab_type": "code",
        "colab": {}
      },
      "source": [
        "C //= A\n",
        "f'O valor de C é: {C}'"
      ],
      "execution_count": 0,
      "outputs": []
    },
    {
      "cell_type": "markdown",
      "metadata": {
        "id": "-Ib0PhNWpB86",
        "colab_type": "text"
      },
      "source": [
        "[Go to top](#top)"
      ]
    },
    {
      "cell_type": "markdown",
      "metadata": {
        "id": "CqszHxaKHr2h",
        "colab_type": "text"
      },
      "source": [
        "# Formatar Strings\n",
        "Basicamente, há 2 formas de formatar strings. Considere o exemplo a seguir:"
      ]
    },
    {
      "cell_type": "code",
      "metadata": {
        "id": "XSSN1lttbX39",
        "colab_type": "code",
        "colab": {}
      },
      "source": [
        "sNome= 'Fulano de Tal'\n",
        "sProfissao= 'Cientista de Dados'\n",
        "iIdade= 44\n",
        "sCidade= 'São Paulo'"
      ],
      "execution_count": 0,
      "outputs": []
    },
    {
      "cell_type": "markdown",
      "metadata": {
        "id": "E5_vMM6IbvCH",
        "colab_type": "text"
      },
      "source": [
        "## Formatar usando concatenação"
      ]
    },
    {
      "cell_type": "code",
      "metadata": {
        "id": "HZNQSpHxbtuP",
        "colab_type": "code",
        "outputId": "bba98970-8d54-44f8-f1ad-f8833cc8c047",
        "colab": {
          "base_uri": "https://localhost:8080/",
          "height": 35
        }
      },
      "source": [
        "print('O Senhor', sNome, 'é', sProfissao, ', tem', iIdade, 'anos de idade e mora em', sCidade,'.')"
      ],
      "execution_count": 0,
      "outputs": [
        {
          "output_type": "stream",
          "text": [
            "O Senhor Fulano de Tal é Cientista de Dados , tem 44 anos de idade e mora em São Paulo .\n"
          ],
          "name": "stdout"
        }
      ]
    },
    {
      "cell_type": "markdown",
      "metadata": {
        "id": "GAYxKeItcf_X",
        "colab_type": "text"
      },
      "source": [
        "## Formatar usando formatação de strings - f-strings\n",
        "* Vamos focar nesta alternativa, pois é a solução atual, disponível a partir da versão 3.6."
      ]
    },
    {
      "cell_type": "code",
      "metadata": {
        "id": "xSHrkxPsckl4",
        "colab_type": "code",
        "outputId": "eb0b6ee2-f76e-480f-e363-6b691b0b6a28",
        "colab": {
          "base_uri": "https://localhost:8080/",
          "height": 35
        }
      },
      "source": [
        "print(f'O Senhor {sNome} é {sProfissao}, tem {iIdade} anos de idade e mora em {sCidade}.')"
      ],
      "execution_count": 0,
      "outputs": [
        {
          "output_type": "stream",
          "text": [
            "O Senhor Fulano de Tal é Cientista de Dados, tem 44 anos de idade e mora em São Paulo.\n"
          ],
          "name": "stdout"
        }
      ]
    },
    {
      "cell_type": "code",
      "metadata": {
        "id": "Yelq-zVPHwZp",
        "colab_type": "code",
        "colab": {}
      },
      "source": [
        "# Definir os valores de A e B e C, em função de A e B:\n",
        "A= 7\n",
        "B= 5\n",
        "C= B/A"
      ],
      "execution_count": 0,
      "outputs": []
    },
    {
      "cell_type": "code",
      "metadata": {
        "id": "Z7Z-qu6XXCwz",
        "colab_type": "code",
        "outputId": "910aa90e-342e-42dd-f758-634d8ce13887",
        "colab": {
          "base_uri": "https://localhost:8080/",
          "height": 35
        }
      },
      "source": [
        "print(f'O valor de C é {C:{10}.{6}}')"
      ],
      "execution_count": 0,
      "outputs": [
        {
          "output_type": "stream",
          "text": [
            "O valor de C é   0.714286\n"
          ],
          "name": "stdout"
        }
      ]
    },
    {
      "cell_type": "markdown",
      "metadata": {
        "id": "0lRQ26dzekb0",
        "colab_type": "text"
      },
      "source": [
        "Veja que interessante e intuitivo: var_num:{parte_inteira}.{casas_decimais}. Veja novamente:"
      ]
    },
    {
      "cell_type": "code",
      "metadata": {
        "id": "YQ8TcN3tezZ1",
        "colab_type": "code",
        "outputId": "a14e9214-ab0e-4820-a296-35226bc7f475",
        "colab": {
          "base_uri": "https://localhost:8080/",
          "height": 35
        }
      },
      "source": [
        "print(f'O valor de C é {C:{10}.{2}}')"
      ],
      "execution_count": 0,
      "outputs": [
        {
          "output_type": "stream",
          "text": [
            "O valor de C é       0.71\n"
          ],
          "name": "stdout"
        }
      ]
    },
    {
      "cell_type": "markdown",
      "metadata": {
        "id": "cWAqmY3xqiig",
        "colab_type": "text"
      },
      "source": [
        "Podemos aplicar funções às f-strings. Por exemplo:"
      ]
    },
    {
      "cell_type": "code",
      "metadata": {
        "id": "1c1xg2noqmyr",
        "colab_type": "code",
        "colab": {}
      },
      "source": [
        "sCountry= 'Brasil'"
      ],
      "execution_count": 0,
      "outputs": []
    },
    {
      "cell_type": "code",
      "metadata": {
        "id": "mSn0hHQnq_6X",
        "colab_type": "code",
        "outputId": "ef6bf0cb-da44-461f-f121-046e983c67a9",
        "colab": {
          "base_uri": "https://localhost:8080/",
          "height": 35
        }
      },
      "source": [
        "# Sem aplicarmos função:\n",
        "f'Eu nasci no {sCountry}'"
      ],
      "execution_count": 0,
      "outputs": [
        {
          "output_type": "execute_result",
          "data": {
            "text/plain": [
              "'Eu nasci no Brasil'"
            ]
          },
          "metadata": {
            "tags": []
          },
          "execution_count": 51
        }
      ]
    },
    {
      "cell_type": "code",
      "metadata": {
        "id": "w76dcLUkrHer",
        "colab_type": "code",
        "outputId": "a0513be0-e110-436f-934f-6f97b5a51d15",
        "colab": {
          "base_uri": "https://localhost:8080/",
          "height": 35
        }
      },
      "source": [
        "# Aplicando a função:\n",
        "f'Eu nasci no {sCountry.upper()}'"
      ],
      "execution_count": 0,
      "outputs": [
        {
          "output_type": "execute_result",
          "data": {
            "text/plain": [
              "'Eu nasci no BRASIL'"
            ]
          },
          "metadata": {
            "tags": []
          },
          "execution_count": 53
        }
      ]
    },
    {
      "cell_type": "markdown",
      "metadata": {
        "id": "Z_Kkfwy-d-sE",
        "colab_type": "text"
      },
      "source": [
        "## Inputs dos usuários"
      ]
    },
    {
      "cell_type": "code",
      "metadata": {
        "id": "us5KIABmXzBv",
        "colab_type": "code",
        "colab": {}
      },
      "source": [
        "# Load the Python library\n",
        "from datetime import date"
      ],
      "execution_count": 0,
      "outputs": []
    },
    {
      "cell_type": "code",
      "metadata": {
        "id": "1KrFP6fra5I_",
        "colab_type": "code",
        "outputId": "de0e446d-f8f9-4fa9-dae2-c0551d471847",
        "colab": {
          "base_uri": "https://localhost:8080/",
          "height": 136
        }
      },
      "source": [
        "sFirstName= input(\"Qual seu primeiro nome: \")\n",
        "sLastName= input(\"Qual seusobrenome: \")\n",
        "iYearBirth= int(input(\"Qual seu ano de nascimento (número com 4 dígitos):\"))\n",
        "iMonthBirth= int(input(\"Qual o mês de nascimento (número com 2 dígitos):\"))\n",
        "iDayBirth= int(input(\"Qual o dia de nascimento (número com 2 dígitos):\"))\n",
        "sCity= input(\"Em qual cidade você nasceu: \")\n",
        "sCountry= input(\"Em qual país você nasceu: \")"
      ],
      "execution_count": 0,
      "outputs": [
        {
          "output_type": "stream",
          "text": [
            "Qual seu primeiro nome: Nelio\n",
            "Qual seusobrenome: Machado\n",
            "Qual seu ano de nascimento (número com 4 dígitos):1974\n",
            "Qual o mês de nascimento (número com 2 dígitos):11\n",
            "Qual o dia de nascimento (número com 2 dígitos):20\n",
            "Em qual cidade você nasceu: Goiânia\n",
            "Em qual país você nasceu: Brasil\n"
          ],
          "name": "stdout"
        }
      ]
    },
    {
      "cell_type": "markdown",
      "metadata": {
        "id": "3CIksvZcgnXz",
        "colab_type": "text"
      },
      "source": [
        "Função para calcular a idade:"
      ]
    },
    {
      "cell_type": "code",
      "metadata": {
        "id": "Fulrs2MU4bXg",
        "colab_type": "code",
        "outputId": "fcf8e842-0c0e-40ed-e401-39b263bcb846",
        "colab": {
          "base_uri": "https://localhost:8080/",
          "height": 34
        }
      },
      "source": [
        "today = date.today()\n",
        "birthDate= date(iYearBirth, iMonthBirth, iDayBirth)\n",
        "age = today.year - birthDate.year\n",
        "a= (today.month, today.day) < (birthDate.month, birthDate.day)\n",
        "a"
      ],
      "execution_count": 0,
      "outputs": [
        {
          "output_type": "execute_result",
          "data": {
            "text/plain": [
              "True"
            ]
          },
          "metadata": {
            "tags": []
          },
          "execution_count": 8
        }
      ]
    },
    {
      "cell_type": "code",
      "metadata": {
        "id": "OIyx4VQm5J1O",
        "colab_type": "code",
        "outputId": "9b522a62-4dae-46d8-d333-6cd24e089f16",
        "colab": {
          "base_uri": "https://localhost:8080/",
          "height": 34
        }
      },
      "source": [
        "age - a"
      ],
      "execution_count": 0,
      "outputs": [
        {
          "output_type": "execute_result",
          "data": {
            "text/plain": [
              "44"
            ]
          },
          "metadata": {
            "tags": []
          },
          "execution_count": 10
        }
      ]
    },
    {
      "cell_type": "code",
      "metadata": {
        "id": "ZY3jRNu-bF28",
        "colab_type": "code",
        "colab": {}
      },
      "source": [
        "def CalculateAge(birthDate):\n",
        "    today = date.today()\n",
        "    age = today.year - birthDate.year - ((today.month, today.day) < (birthDate.month, birthDate.day))\n",
        "    return age "
      ],
      "execution_count": 0,
      "outputs": []
    },
    {
      "cell_type": "markdown",
      "metadata": {
        "id": "75mJlC2P5WJV",
        "colab_type": "text"
      },
      "source": [
        "Explicando detalhadamente o que faz esta função:"
      ]
    },
    {
      "cell_type": "code",
      "metadata": {
        "id": "gUqRruli5VBr",
        "colab_type": "code",
        "colab": {}
      },
      "source": [
        "today = date.today()\n",
        "birthDate= date(iYearBirth, iMonthBirth, iDayBirth)\n",
        "age = today.year - birthDate.year\n",
        "a= (today.month, today.day) < (birthDate.month, birthDate.day)"
      ],
      "execution_count": 0,
      "outputs": []
    },
    {
      "cell_type": "code",
      "metadata": {
        "id": "RQi-82bX5sLR",
        "colab_type": "code",
        "outputId": "f8926836-028f-4fd0-cc13-17ef26ed9694",
        "colab": {
          "base_uri": "https://localhost:8080/",
          "height": 34
        }
      },
      "source": [
        "# O resultado de age é\n",
        "age"
      ],
      "execution_count": 0,
      "outputs": [
        {
          "output_type": "execute_result",
          "data": {
            "text/plain": [
              "45"
            ]
          },
          "metadata": {
            "tags": []
          },
          "execution_count": 12
        }
      ]
    },
    {
      "cell_type": "code",
      "metadata": {
        "id": "hqujCssN5ddO",
        "colab_type": "code",
        "outputId": "04d2d661-7c20-44b9-c60f-8d4419e66ef2",
        "colab": {
          "base_uri": "https://localhost:8080/",
          "height": 34
        }
      },
      "source": [
        "# O resultado da variável a é:\n",
        "a"
      ],
      "execution_count": 0,
      "outputs": [
        {
          "output_type": "execute_result",
          "data": {
            "text/plain": [
              "True"
            ]
          },
          "metadata": {
            "tags": []
          },
          "execution_count": 11
        }
      ]
    },
    {
      "cell_type": "markdown",
      "metadata": {
        "id": "h3cIvMxs5jyD",
        "colab_type": "text"
      },
      "source": [
        "Mas se estamos em setembro, então ainda não tenho 45, mas 44. Portanto, deve-se descontar 1 de age."
      ]
    },
    {
      "cell_type": "code",
      "metadata": {
        "id": "68lIgmAP5wu7",
        "colab_type": "code",
        "outputId": "ec36167f-ad8e-4580-9102-3bcdd7ffafee",
        "colab": {
          "base_uri": "https://localhost:8080/",
          "height": 34
        }
      },
      "source": [
        "age - a"
      ],
      "execution_count": 0,
      "outputs": [
        {
          "output_type": "execute_result",
          "data": {
            "text/plain": [
              "44"
            ]
          },
          "metadata": {
            "tags": []
          },
          "execution_count": 13
        }
      ]
    },
    {
      "cell_type": "code",
      "metadata": {
        "id": "HmBWuVOo5zjh",
        "colab_type": "code",
        "outputId": "8a7f41e1-a114-440b-b8d8-d70028d9f742",
        "colab": {
          "base_uri": "https://localhost:8080/",
          "height": 34
        }
      },
      "source": [
        "type(a)"
      ],
      "execution_count": 0,
      "outputs": [
        {
          "output_type": "execute_result",
          "data": {
            "text/plain": [
              "bool"
            ]
          },
          "metadata": {
            "tags": []
          },
          "execution_count": 14
        }
      ]
    },
    {
      "cell_type": "code",
      "metadata": {
        "id": "jL2O2QXR6HZ_",
        "colab_type": "code",
        "outputId": "cd4da590-53d4-4f21-f16e-d26810286518",
        "colab": {
          "base_uri": "https://localhost:8080/",
          "height": 34
        }
      },
      "source": [
        "b= a+1\n",
        "b"
      ],
      "execution_count": 0,
      "outputs": [
        {
          "output_type": "execute_result",
          "data": {
            "text/plain": [
              "2"
            ]
          },
          "metadata": {
            "tags": []
          },
          "execution_count": 15
        }
      ]
    },
    {
      "cell_type": "markdown",
      "metadata": {
        "id": "nBoibvdLg2M3",
        "colab_type": "text"
      },
      "source": [
        "Fazemos os cálculos necessários e armazenamos o conteúdo numa tuple (veremos mais tarde o que é uma tuple):"
      ]
    },
    {
      "cell_type": "code",
      "metadata": {
        "id": "gmANNG7ibRWD",
        "colab_type": "code",
        "colab": {}
      },
      "source": [
        "iAge= CalculateAge(date(iYearBirth, iMonthBirth, iDayBirth))"
      ],
      "execution_count": 0,
      "outputs": []
    },
    {
      "cell_type": "markdown",
      "metadata": {
        "id": "gNv5Sl2PhTcH",
        "colab_type": "text"
      },
      "source": [
        "Apresenta o output:"
      ]
    },
    {
      "cell_type": "code",
      "metadata": {
        "id": "R00ymLmpiAc_",
        "colab_type": "code",
        "outputId": "48045df5-f11a-4feb-a9e6-7dcdb47a93f5",
        "colab": {
          "base_uri": "https://localhost:8080/",
          "height": 35
        }
      },
      "source": [
        "print(f'Olá, meu nome é {sFirstName} {sLastName}, tenho {iAge} anos de idade e nasci em {sCity} ({sCountry}).')"
      ],
      "execution_count": 0,
      "outputs": [
        {
          "output_type": "stream",
          "text": [
            "Olá, meu nome é Nelio Machado, tenho 44 anos de idade e nasci em Goianésia (Goiás).\n"
          ],
          "name": "stdout"
        }
      ]
    },
    {
      "cell_type": "markdown",
      "metadata": {
        "id": "vShWIgihpLQa",
        "colab_type": "text"
      },
      "source": [
        "[Go to top](#top)"
      ]
    },
    {
      "cell_type": "markdown",
      "metadata": {
        "id": "MM3jZ47z7Qyl",
        "colab_type": "text"
      },
      "source": [
        "# Variáveis Python\n",
        "* Sugestões de leitura: \n",
        "    * [Data Scientists: Your Variable Names Are Awful. Here’s How to Fix Them](https://towardsdatascience.com/data-scientists-your-variable-names-are-awful-heres-how-to-fix-them-89053d2855be)"
      ]
    },
    {
      "cell_type": "markdown",
      "metadata": {
        "id": "nsQgPP2B-463",
        "colab_type": "text"
      },
      "source": [
        "## Deletar uma variável\n",
        "* del var - Deleta a variável var."
      ]
    },
    {
      "cell_type": "markdown",
      "metadata": {
        "id": "xAR0S3FPj2GD",
        "colab_type": "text"
      },
      "source": [
        "Suponha a variável definida abaixo:"
      ]
    },
    {
      "cell_type": "code",
      "metadata": {
        "id": "F9k7QkTF_AEv",
        "colab_type": "code",
        "colab": {}
      },
      "source": [
        "sCor= 'red'\n",
        "iNumber= 1974"
      ],
      "execution_count": 0,
      "outputs": []
    },
    {
      "cell_type": "markdown",
      "metadata": {
        "id": "Hg7f5596mKCi",
        "colab_type": "text"
      },
      "source": [
        "A função id retorna o endereço de memória da variável. Veja abaixo:"
      ]
    },
    {
      "cell_type": "code",
      "metadata": {
        "id": "kOPFGM2KmFRU",
        "colab_type": "code",
        "outputId": "b7942ed6-6b13-4288-98f0-b9664dd789a3",
        "colab": {
          "base_uri": "https://localhost:8080/",
          "height": 35
        }
      },
      "source": [
        "id(sCor)"
      ],
      "execution_count": 0,
      "outputs": [
        {
          "output_type": "execute_result",
          "data": {
            "text/plain": [
              "140474405535848"
            ]
          },
          "metadata": {
            "tags": []
          },
          "execution_count": 33
        }
      ]
    },
    {
      "cell_type": "code",
      "metadata": {
        "id": "5wx4RsCq_TkM",
        "colab_type": "code",
        "colab": {}
      },
      "source": [
        "del sCor"
      ],
      "execution_count": 0,
      "outputs": []
    },
    {
      "cell_type": "code",
      "metadata": {
        "id": "pZPm8CmN_XKW",
        "colab_type": "code",
        "colab": {}
      },
      "source": [
        "del iNumber"
      ],
      "execution_count": 0,
      "outputs": []
    },
    {
      "cell_type": "markdown",
      "metadata": {
        "id": "ILDCavhc_ZUO",
        "colab_type": "text"
      },
      "source": [
        "Verifique se as variáveis sCor e/ou iNumber existem. Como?"
      ]
    },
    {
      "cell_type": "code",
      "metadata": {
        "id": "5bYZFe9S_mJt",
        "colab_type": "code",
        "outputId": "7ad90ba5-3777-40ff-e3f7-b6669a205fb1",
        "colab": {
          "base_uri": "https://localhost:8080/",
          "height": 166
        }
      },
      "source": [
        "sCor"
      ],
      "execution_count": 0,
      "outputs": [
        {
          "output_type": "error",
          "ename": "NameError",
          "evalue": "ignored",
          "traceback": [
            "\u001b[0;31m---------------------------------------------------------------------------\u001b[0m",
            "\u001b[0;31mNameError\u001b[0m                                 Traceback (most recent call last)",
            "\u001b[0;32m<ipython-input-30-2cc4e924c4f1>\u001b[0m in \u001b[0;36m<module>\u001b[0;34m()\u001b[0m\n\u001b[0;32m----> 1\u001b[0;31m \u001b[0msCor\u001b[0m\u001b[0;34m\u001b[0m\u001b[0;34m\u001b[0m\u001b[0m\n\u001b[0m",
            "\u001b[0;31mNameError\u001b[0m: name 'sCor' is not defined"
          ]
        }
      ]
    },
    {
      "cell_type": "markdown",
      "metadata": {
        "id": "uxT2XgGG_oYA",
        "colab_type": "text"
      },
      "source": [
        "Como esperado, a variável sCor não existe mais."
      ]
    },
    {
      "cell_type": "markdown",
      "metadata": {
        "id": "mhLU8Nb07zhc",
        "colab_type": "text"
      },
      "source": [
        "## Regras para definição de variáveis Python:\n",
        "\n",
        "<input type=\"checkbox\" disabled checked> As variáveis no Python devem começar com letras (A-Z/a-z) ou underscore(_)\n",
        "\n",
        "<input type=\"checkbox\" disabled checked> As variáveis Python não devem conter símbolos especiais como, por exemplo, !, @, #, $, %, .\n",
        "\n",
        "<input type=\"checkbox\" disabled checked> Palavras reservadas do Python não podem ser usadas como nomes de variáveis."
      ]
    },
    {
      "cell_type": "markdown",
      "metadata": {
        "id": "QtWLaT0l8LbO",
        "colab_type": "text"
      },
      "source": [
        "Como verificar se um determinado nome de variável é uma palavra reservada do Python?"
      ]
    },
    {
      "cell_type": "code",
      "metadata": {
        "id": "-GIb1gXA9J5T",
        "colab_type": "code",
        "colab": {}
      },
      "source": [
        "# Library Python para verificar palavras reservadas\n",
        "import keyword"
      ],
      "execution_count": 0,
      "outputs": []
    },
    {
      "cell_type": "markdown",
      "metadata": {
        "id": "Zs5PI50jnM2y",
        "colab_type": "text"
      },
      "source": [
        "Vamos verificar se 'return' é uma palavra reservada do Python:"
      ]
    },
    {
      "cell_type": "code",
      "metadata": {
        "id": "0aXY4kWV9jX3",
        "colab_type": "code",
        "outputId": "9fe45f6d-2715-4de7-f714-a00656f06a95",
        "colab": {
          "base_uri": "https://localhost:8080/",
          "height": 35
        }
      },
      "source": [
        "keyword.iskeyword('return')"
      ],
      "execution_count": 0,
      "outputs": [
        {
          "output_type": "execute_result",
          "data": {
            "text/plain": [
              "True"
            ]
          },
          "metadata": {
            "tags": []
          },
          "execution_count": 37
        }
      ]
    },
    {
      "cell_type": "markdown",
      "metadata": {
        "id": "oOEnWzx1nXTp",
        "colab_type": "text"
      },
      "source": [
        "Sim, 'return' é uma palavra reservada do Python."
      ]
    },
    {
      "cell_type": "markdown",
      "metadata": {
        "id": "tP2UQbU39q48",
        "colab_type": "text"
      },
      "source": [
        "E 'flag'? É uma palavra reservada do Python?"
      ]
    },
    {
      "cell_type": "code",
      "metadata": {
        "id": "sk33aEjP9s61",
        "colab_type": "code",
        "outputId": "b69e85ae-2745-4f58-e4d2-ece70a88b2c5",
        "colab": {
          "base_uri": "https://localhost:8080/",
          "height": 35
        }
      },
      "source": [
        "keyword.iskeyword('flag')"
      ],
      "execution_count": 0,
      "outputs": [
        {
          "output_type": "execute_result",
          "data": {
            "text/plain": [
              "False"
            ]
          },
          "metadata": {
            "tags": []
          },
          "execution_count": 38
        }
      ]
    },
    {
      "cell_type": "markdown",
      "metadata": {
        "id": "Jn86gWSQ90xi",
        "colab_type": "text"
      },
      "source": [
        "E 'lambda'? É uma palavra reservada do Python?"
      ]
    },
    {
      "cell_type": "code",
      "metadata": {
        "id": "fSR9X1dI93ed",
        "colab_type": "code",
        "outputId": "50868c61-4f30-489d-d4c1-6b3bd6ab6f40",
        "colab": {
          "base_uri": "https://localhost:8080/",
          "height": 35
        }
      },
      "source": [
        "keyword.iskeyword('lambda')"
      ],
      "execution_count": 0,
      "outputs": [
        {
          "output_type": "execute_result",
          "data": {
            "text/plain": [
              "True"
            ]
          },
          "metadata": {
            "tags": []
          },
          "execution_count": 39
        }
      ]
    },
    {
      "cell_type": "markdown",
      "metadata": {
        "id": "8LS69KLH9_NI",
        "colab_type": "text"
      },
      "source": [
        "E 'global'? é uma palavra reservada do Python?"
      ]
    },
    {
      "cell_type": "code",
      "metadata": {
        "id": "UDYDPDeG9_q_",
        "colab_type": "code",
        "outputId": "f3475afd-df56-4a3a-fa46-40706cdb01cc",
        "colab": {
          "base_uri": "https://localhost:8080/",
          "height": 35
        }
      },
      "source": [
        "keyword.iskeyword('global')"
      ],
      "execution_count": 0,
      "outputs": [
        {
          "output_type": "execute_result",
          "data": {
            "text/plain": [
              "True"
            ]
          },
          "metadata": {
            "tags": []
          },
          "execution_count": 40
        }
      ]
    },
    {
      "cell_type": "markdown",
      "metadata": {
        "id": "BaoUuiJ3AeVf",
        "colab_type": "text"
      },
      "source": [
        "## Tipos de dados no Python: Números\n",
        "* Python tem 4 tipos de variáveis numéricas, mas vamos focar somente nos 2 tipos abaixo:\n",
        "    * int - inteiros. Lembra-se do Conjunto dos números inteiros?;\n",
        "    * float - Números reais de ponto flutuante;"
      ]
    },
    {
      "cell_type": "markdown",
      "metadata": {
        "id": "hNcSSueqCSeR",
        "colab_type": "text"
      },
      "source": [
        "### Exemplos\n",
        "* Considere os exemplos a seguir:"
      ]
    },
    {
      "cell_type": "code",
      "metadata": {
        "id": "-FjdMqzTCUBn",
        "colab_type": "code",
        "colab": {}
      },
      "source": [
        "a= 5\n",
        "b= 5/3"
      ],
      "execution_count": 0,
      "outputs": []
    },
    {
      "cell_type": "code",
      "metadata": {
        "id": "bbO6NM9kpvcb",
        "colab_type": "code",
        "outputId": "e59ac701-9633-4f1a-b875-f15ccaa91329",
        "colab": {
          "base_uri": "https://localhost:8080/",
          "height": 35
        }
      },
      "source": [
        "a"
      ],
      "execution_count": 0,
      "outputs": [
        {
          "output_type": "execute_result",
          "data": {
            "text/plain": [
              "5"
            ]
          },
          "metadata": {
            "tags": []
          },
          "execution_count": 48
        }
      ]
    },
    {
      "cell_type": "code",
      "metadata": {
        "id": "Sq_Ya4_4pwhB",
        "colab_type": "code",
        "outputId": "912775fb-b210-4ce7-8d32-fd62db2ad0d6",
        "colab": {
          "base_uri": "https://localhost:8080/",
          "height": 35
        }
      },
      "source": [
        "b"
      ],
      "execution_count": 0,
      "outputs": [
        {
          "output_type": "execute_result",
          "data": {
            "text/plain": [
              "1.6666666666666667"
            ]
          },
          "metadata": {
            "tags": []
          },
          "execution_count": 49
        }
      ]
    },
    {
      "cell_type": "markdown",
      "metadata": {
        "id": "zfNHsl9RCZIv",
        "colab_type": "text"
      },
      "source": [
        "Verificando o tipo das variáveis:"
      ]
    },
    {
      "cell_type": "code",
      "metadata": {
        "id": "r67Wyi4TCiVX",
        "colab_type": "code",
        "outputId": "a8d557a0-8bd3-4692-cd7b-53eea1573fb3",
        "colab": {
          "base_uri": "https://localhost:8080/",
          "height": 35
        }
      },
      "source": [
        "type(a)"
      ],
      "execution_count": 0,
      "outputs": [
        {
          "output_type": "execute_result",
          "data": {
            "text/plain": [
              "int"
            ]
          },
          "metadata": {
            "tags": []
          },
          "execution_count": 11
        }
      ]
    },
    {
      "cell_type": "code",
      "metadata": {
        "id": "9VSZO5IKCqX3",
        "colab_type": "code",
        "outputId": "6e83ba2d-1893-4cc6-f739-b5ea59234dbb",
        "colab": {
          "base_uri": "https://localhost:8080/",
          "height": 35
        }
      },
      "source": [
        "type(b)"
      ],
      "execution_count": 0,
      "outputs": [
        {
          "output_type": "execute_result",
          "data": {
            "text/plain": [
              "float"
            ]
          },
          "metadata": {
            "tags": []
          },
          "execution_count": 13
        }
      ]
    },
    {
      "cell_type": "markdown",
      "metadata": {
        "id": "lqAmC1x1Pygz",
        "colab_type": "text"
      },
      "source": [
        "### Formatar números"
      ]
    },
    {
      "cell_type": "code",
      "metadata": {
        "id": "kFSgK8HSQYeK",
        "colab_type": "code",
        "outputId": "76922be9-9610-4b09-b267-3ed222617902",
        "colab": {
          "base_uri": "https://localhost:8080/",
          "height": 35
        }
      },
      "source": [
        "f'{a}'"
      ],
      "execution_count": 0,
      "outputs": [
        {
          "output_type": "execute_result",
          "data": {
            "text/plain": [
              "'5'"
            ]
          },
          "metadata": {
            "tags": []
          },
          "execution_count": 44
        }
      ]
    },
    {
      "cell_type": "code",
      "metadata": {
        "id": "uE6vQSbLQeKW",
        "colab_type": "code",
        "outputId": "a4b9fd0b-1f1d-4e11-bac9-7f3112e458ca",
        "colab": {
          "base_uri": "https://localhost:8080/",
          "height": 35
        }
      },
      "source": [
        "f'{b:{8}.{2}}'"
      ],
      "execution_count": 0,
      "outputs": [
        {
          "output_type": "execute_result",
          "data": {
            "text/plain": [
              "'     1.7'"
            ]
          },
          "metadata": {
            "tags": []
          },
          "execution_count": 47
        }
      ]
    },
    {
      "cell_type": "markdown",
      "metadata": {
        "id": "xzpeSeWktc9S",
        "colab_type": "text"
      },
      "source": [
        "Olha que interessante para completar com zeros à esquerda:"
      ]
    },
    {
      "cell_type": "code",
      "metadata": {
        "id": "ERLCvcLAQrk_",
        "colab_type": "code",
        "outputId": "be7b9bf7-2775-48f2-8b67-a757393058c0",
        "colab": {
          "base_uri": "https://localhost:8080/",
          "height": 35
        }
      },
      "source": [
        "f'{b:06.2f}'"
      ],
      "execution_count": 0,
      "outputs": [
        {
          "output_type": "execute_result",
          "data": {
            "text/plain": [
              "'001.67'"
            ]
          },
          "metadata": {
            "tags": []
          },
          "execution_count": 58
        }
      ]
    },
    {
      "cell_type": "code",
      "metadata": {
        "id": "QlD07eMhQv26",
        "colab_type": "code",
        "outputId": "e2a5d447-d47e-40b0-8220-9b4eab927933",
        "colab": {
          "base_uri": "https://localhost:8080/",
          "height": 35
        }
      },
      "source": [
        "f'{a:04d}'"
      ],
      "execution_count": 0,
      "outputs": [
        {
          "output_type": "execute_result",
          "data": {
            "text/plain": [
              "'0005'"
            ]
          },
          "metadata": {
            "tags": []
          },
          "execution_count": 59
        }
      ]
    },
    {
      "cell_type": "markdown",
      "metadata": {
        "id": "2nMtUdre08dE",
        "colab_type": "text"
      },
      "source": [
        "# Python Data Types: Strings\n",
        "* variáveis strings são imutáveis."
      ]
    },
    {
      "cell_type": "markdown",
      "metadata": {
        "id": "UqlDK-4Oorif",
        "colab_type": "text"
      },
      "source": [
        "Suponha a string a seguir:"
      ]
    },
    {
      "cell_type": "code",
      "metadata": {
        "id": "noNBsutFoN9w",
        "colab_type": "code",
        "colab": {}
      },
      "source": [
        "sPhrase= \"Brazil: Order and Progress!\""
      ],
      "execution_count": 0,
      "outputs": []
    },
    {
      "cell_type": "markdown",
      "metadata": {
        "id": "numMjHgzpEfn",
        "colab_type": "text"
      },
      "source": [
        "Verificando o tipo da variável sPhrase:"
      ]
    },
    {
      "cell_type": "code",
      "metadata": {
        "id": "unGvjFaRpMpr",
        "colab_type": "code",
        "outputId": "da8c6427-3aa9-47af-fdfb-19ff4cbaabe0",
        "colab": {
          "base_uri": "https://localhost:8080/",
          "height": 35
        }
      },
      "source": [
        "type(sPhrase)"
      ],
      "execution_count": 0,
      "outputs": [
        {
          "output_type": "execute_result",
          "data": {
            "text/plain": [
              "str"
            ]
          },
          "metadata": {
            "tags": []
          },
          "execution_count": 63
        }
      ]
    },
    {
      "cell_type": "markdown",
      "metadata": {
        "id": "aCt9CtE1p2mb",
        "colab_type": "text"
      },
      "source": [
        "O conteúdo da variável pode ser visto como um array:\n",
        "\n",
        "![phrase_orderAndProgress](https://github.com/MathMachado/Python_RFB/blob/master/Material/phrase_OrderAndProgress.PNG?raw=true)"
      ]
    },
    {
      "cell_type": "markdown",
      "metadata": {
        "id": "dgDJhf30t6wR",
        "colab_type": "text"
      },
      "source": [
        "Qual o tamanho da variável sPhrase?"
      ]
    },
    {
      "cell_type": "code",
      "metadata": {
        "id": "YP9Jl3zQuF8B",
        "colab_type": "code",
        "outputId": "703a498f-155c-4994-be0a-f0554c55a482",
        "colab": {
          "base_uri": "https://localhost:8080/",
          "height": 35
        }
      },
      "source": [
        "len(sPhrase)"
      ],
      "execution_count": 0,
      "outputs": [
        {
          "output_type": "execute_result",
          "data": {
            "text/plain": [
              "27"
            ]
          },
          "metadata": {
            "tags": []
          },
          "execution_count": 64
        }
      ]
    },
    {
      "cell_type": "markdown",
      "metadata": {
        "id": "VtrNZcilx59p",
        "colab_type": "text"
      },
      "source": [
        "Já que o conteúdo de sPhrase pode ser visto como um array, então podemos acessar cada uma de suas posições utilizando índices."
      ]
    },
    {
      "cell_type": "code",
      "metadata": {
        "id": "KtshlZ5OptHy",
        "colab_type": "code",
        "outputId": "424fd9ad-9ccf-4b15-a0b9-0e62374c44c9",
        "colab": {
          "base_uri": "https://localhost:8080/",
          "height": 35
        }
      },
      "source": [
        "sPhrase[0]"
      ],
      "execution_count": 0,
      "outputs": [
        {
          "output_type": "execute_result",
          "data": {
            "text/plain": [
              "'B'"
            ]
          },
          "metadata": {
            "tags": []
          },
          "execution_count": 65
        }
      ]
    },
    {
      "cell_type": "code",
      "metadata": {
        "id": "G5XDmNMKtQMl",
        "colab_type": "code",
        "outputId": "3c8730e0-15bc-49e1-8496-a6e73d56a6d9",
        "colab": {
          "base_uri": "https://localhost:8080/",
          "height": 35
        }
      },
      "source": [
        "sPhrase[6]"
      ],
      "execution_count": 0,
      "outputs": [
        {
          "output_type": "execute_result",
          "data": {
            "text/plain": [
              "':'"
            ]
          },
          "metadata": {
            "tags": []
          },
          "execution_count": 66
        }
      ]
    },
    {
      "cell_type": "code",
      "metadata": {
        "id": "IEUxkaqoqDMR",
        "colab_type": "code",
        "outputId": "63788c39-9042-4e95-82e5-1f63751061fd",
        "colab": {
          "base_uri": "https://localhost:8080/",
          "height": 35
        }
      },
      "source": [
        "sPhrase[7]"
      ],
      "execution_count": 0,
      "outputs": [
        {
          "output_type": "execute_result",
          "data": {
            "text/plain": [
              "' '"
            ]
          },
          "metadata": {
            "tags": []
          },
          "execution_count": 67
        }
      ]
    },
    {
      "cell_type": "markdown",
      "metadata": {
        "id": "7r20rZ5JttEn",
        "colab_type": "text"
      },
      "source": [
        "E o que há na posição 28?"
      ]
    },
    {
      "cell_type": "code",
      "metadata": {
        "id": "FEDrIYzgsja0",
        "colab_type": "code",
        "outputId": "2b35d4e5-9a01-4be2-9aa0-7e6663219431",
        "colab": {
          "base_uri": "https://localhost:8080/",
          "height": 166
        }
      },
      "source": [
        "sPhrase[28]"
      ],
      "execution_count": 0,
      "outputs": [
        {
          "output_type": "error",
          "ename": "IndexError",
          "evalue": "ignored",
          "traceback": [
            "\u001b[0;31m---------------------------------------------------------------------------\u001b[0m",
            "\u001b[0;31mIndexError\u001b[0m                                Traceback (most recent call last)",
            "\u001b[0;32m<ipython-input-68-ad89d7b4df22>\u001b[0m in \u001b[0;36m<module>\u001b[0;34m()\u001b[0m\n\u001b[0;32m----> 1\u001b[0;31m \u001b[0msPhrase\u001b[0m\u001b[0;34m[\u001b[0m\u001b[0;36m28\u001b[0m\u001b[0;34m]\u001b[0m\u001b[0;34m\u001b[0m\u001b[0;34m\u001b[0m\u001b[0m\n\u001b[0m",
            "\u001b[0;31mIndexError\u001b[0m: string index out of range"
          ]
        }
      ]
    },
    {
      "cell_type": "markdown",
      "metadata": {
        "id": "1DIaG36XuOvK",
        "colab_type": "text"
      },
      "source": [
        "Como esperando, Python aponta erro. Porque?\n",
        "\n",
        "* Lembre-se que len(sPhrase)= 27, ok?"
      ]
    },
    {
      "cell_type": "markdown",
      "metadata": {
        "id": "v6X_L5leuW-M",
        "colab_type": "text"
      },
      "source": [
        "... Mas sPhrase[-1] parece estranho pra você? Vamos ver se há conteúdo para sPhrase[-1]:"
      ]
    },
    {
      "cell_type": "code",
      "metadata": {
        "id": "GrJWvSBzubUp",
        "colab_type": "code",
        "outputId": "8616d682-15c1-4408-9908-02c3094640a6",
        "colab": {
          "base_uri": "https://localhost:8080/",
          "height": 35
        }
      },
      "source": [
        "sPhrase[-1]"
      ],
      "execution_count": 0,
      "outputs": [
        {
          "output_type": "execute_result",
          "data": {
            "text/plain": [
              "'!'"
            ]
          },
          "metadata": {
            "tags": []
          },
          "execution_count": 69
        }
      ]
    },
    {
      "cell_type": "markdown",
      "metadata": {
        "id": "l7YCDSoyujja",
        "colab_type": "text"
      },
      "source": [
        "E qual o conteúdo da posição -2?"
      ]
    },
    {
      "cell_type": "code",
      "metadata": {
        "id": "ugAlE8L5uzhT",
        "colab_type": "code",
        "outputId": "b88b1733-2edb-49b0-b486-b754cea90572",
        "colab": {
          "base_uri": "https://localhost:8080/",
          "height": 35
        }
      },
      "source": [
        "sPhrase[-2]"
      ],
      "execution_count": 0,
      "outputs": [
        {
          "output_type": "execute_result",
          "data": {
            "text/plain": [
              "'s'"
            ]
          },
          "metadata": {
            "tags": []
          },
          "execution_count": 70
        }
      ]
    },
    {
      "cell_type": "markdown",
      "metadata": {
        "id": "f2ZTguXjumoS",
        "colab_type": "text"
      },
      "source": [
        "Saberia explicar o que acontece?"
      ]
    },
    {
      "cell_type": "markdown",
      "metadata": {
        "id": "BHv6oESiu9BI",
        "colab_type": "text"
      },
      "source": [
        "... Ou seja, a representação abaixo também é válida:\n",
        "\n",
        "![phrase_OrderAndProgressReverse](https://github.com/MathMachado/Python_RFB/blob/master/Material/phrase_OrderAndProgressReverse.PNG?raw=true)"
      ]
    },
    {
      "cell_type": "markdown",
      "metadata": {
        "id": "uzlTo9dXwjh7",
        "colab_type": "text"
      },
      "source": [
        "## Cortando a String\n",
        "* Algumas vezes precisamos de parte da string."
      ]
    },
    {
      "cell_type": "markdown",
      "metadata": {
        "id": "EDJk_u2fxgEs",
        "colab_type": "text"
      },
      "source": [
        "Parte da string, com começo e fim:\n",
        "\n",
        "![phrase_OrderAndProgressReverse](https://github.com/MathMachado/Python_RFB/blob/master/Material/phrase_OrderAndProgressReverse.PNG?raw=true)"
      ]
    },
    {
      "cell_type": "code",
      "metadata": {
        "id": "MTX25_yOwdfW",
        "colab_type": "code",
        "outputId": "60bdfa98-e611-4139-b905-fdec9f959c52",
        "colab": {
          "base_uri": "https://localhost:8080/",
          "height": 35
        }
      },
      "source": [
        "sPhrase[8:12]"
      ],
      "execution_count": 0,
      "outputs": [
        {
          "output_type": "execute_result",
          "data": {
            "text/plain": [
              "'Orde'"
            ]
          },
          "metadata": {
            "tags": []
          },
          "execution_count": 72
        }
      ]
    },
    {
      "cell_type": "code",
      "metadata": {
        "id": "QkOWwrVn1ANf",
        "colab_type": "code",
        "outputId": "7e934e71-5839-401c-8969-a3eb375255ac",
        "colab": {
          "base_uri": "https://localhost:8080/",
          "height": 35
        }
      },
      "source": [
        "sPhrase[8:13]"
      ],
      "execution_count": 0,
      "outputs": [
        {
          "output_type": "execute_result",
          "data": {
            "text/plain": [
              "'Order'"
            ]
          },
          "metadata": {
            "tags": []
          },
          "execution_count": 43
        }
      ]
    },
    {
      "cell_type": "markdown",
      "metadata": {
        "id": "8G4jz6I21JPm",
        "colab_type": "text"
      },
      "source": [
        "Conteúdo de sPhrase, começando na posição 8 em diante:\n",
        "\n",
        "![phrase_OrderAndProgressReverse](https://github.com/MathMachado/Python_RFB/blob/master/Material/phrase_OrderAndProgressReverse.PNG?raw=true)"
      ]
    },
    {
      "cell_type": "code",
      "metadata": {
        "id": "CJTBBmJ51Qhk",
        "colab_type": "code",
        "outputId": "1a96765b-5bae-4ff9-e921-f4241117943f",
        "colab": {
          "base_uri": "https://localhost:8080/",
          "height": 35
        }
      },
      "source": [
        "sPhrase[8:]"
      ],
      "execution_count": 0,
      "outputs": [
        {
          "output_type": "execute_result",
          "data": {
            "text/plain": [
              "'Order and Progress!'"
            ]
          },
          "metadata": {
            "tags": []
          },
          "execution_count": 73
        }
      ]
    },
    {
      "cell_type": "markdown",
      "metadata": {
        "id": "k9ZyVPpw1p-L",
        "colab_type": "text"
      },
      "source": [
        "... Conteúdo da string começando em 0 até 6:\n",
        "\n",
        "![phrase_OrderAndProgressReverse](https://github.com/MathMachado/Python_RFB/blob/master/Material/phrase_OrderAndProgressReverse.PNG?raw=true)"
      ]
    },
    {
      "cell_type": "code",
      "metadata": {
        "id": "70W4hX6h12sb",
        "colab_type": "code",
        "outputId": "b2988996-c499-4ac3-cb55-53e0bc6df0cd",
        "colab": {
          "base_uri": "https://localhost:8080/",
          "height": 35
        }
      },
      "source": [
        "sPhrase[0:6]"
      ],
      "execution_count": 0,
      "outputs": [
        {
          "output_type": "execute_result",
          "data": {
            "text/plain": [
              "'Brazil'"
            ]
          },
          "metadata": {
            "tags": []
          },
          "execution_count": 74
        }
      ]
    },
    {
      "cell_type": "markdown",
      "metadata": {
        "id": "AMwm33py2Bpq",
        "colab_type": "text"
      },
      "source": [
        "Toda a string:"
      ]
    },
    {
      "cell_type": "code",
      "metadata": {
        "id": "Gz5TPx1G2GLN",
        "colab_type": "code",
        "outputId": "72c28b3a-42c5-4560-a7e6-5585f63b3965",
        "colab": {
          "base_uri": "https://localhost:8080/",
          "height": 35
        }
      },
      "source": [
        "sPhrase[:] # Intuitivo não? se não definirmos o início e fim, então o Python retorna toda a string."
      ],
      "execution_count": 0,
      "outputs": [
        {
          "output_type": "execute_result",
          "data": {
            "text/plain": [
              "'Brazil: Order and Progress!'"
            ]
          },
          "metadata": {
            "tags": []
          },
          "execution_count": 47
        }
      ]
    },
    {
      "cell_type": "markdown",
      "metadata": {
        "id": "ze0w1N3I2OrO",
        "colab_type": "text"
      },
      "source": [
        "... Conteúdo da string começando em -9 em diante:\n",
        "\n",
        "![phrase_OrderAndProgressReverse](https://github.com/MathMachado/Python_RFB/blob/master/Material/phrase_OrderAndProgressReverse.PNG?raw=true)"
      ]
    },
    {
      "cell_type": "code",
      "metadata": {
        "id": "RDspRsKB2Sv9",
        "colab_type": "code",
        "outputId": "b8769dc3-a249-43f2-ef20-a6b51dfedcc2",
        "colab": {
          "base_uri": "https://localhost:8080/",
          "height": 35
        }
      },
      "source": [
        "sPhrase[-9:]"
      ],
      "execution_count": 0,
      "outputs": [
        {
          "output_type": "execute_result",
          "data": {
            "text/plain": [
              "'Progress!'"
            ]
          },
          "metadata": {
            "tags": []
          },
          "execution_count": 75
        }
      ]
    },
    {
      "cell_type": "markdown",
      "metadata": {
        "id": "ikg8ME172wKS",
        "colab_type": "text"
      },
      "source": [
        "## Funções Especiais para Strings\n",
        "\n",
        "* Na tabela abaixo, 'i' significa início e 'f' significa fim,\n",
        "\n",
        "| Sintaxe | Descrição ou Ação |\n",
        "|---------|-------------------|\n",
        "S.count(substr[, i[, f]]) | Conta ocorrências de 'substr' |\n",
        "S.endswith(substr[, i[, f]]) | 'True' se S termina com 'substr' |\n",
        "S.find(substr [,i[, f]]) | Encontra a primeira ocorrência de 'substr' e retorna o índice ou -1 se não encontrar |\n",
        "S.index(substr [,i[, f]]) | Encontra a primeira ocorrência de 'substr' e retorna seu índice ou erro se não encontrar |\n",
        "S.isalnum() | 'True' se S tem somente caracteres alfanuméricos |\n",
        "S.isalpha() | 'True' se S tem somente caracteres alfabéticos |\n",
        "S.isdigit() | 'True' se S tem somente dígitos |\n",
        "S.isspace() | 'True' se S tem somente espaços em branco |\n",
        "S.lower() | Converte S para lowercase |\n",
        "S.lstrip([chars]) | Remove espaços em branco do lado esquerdo de S |\n",
        "S.replace (old, new[, count]) | Substitui a string 'old' pela string 'new' |\n",
        "S.rfind(substr [, i[, f]]) | Encontra a última ocorrência de 'substr' e retorna o índice ou -1 se não encontrar |\n",
        "S.rindex(substr [, i[, f]]) | Encontra a última ocorrência de 'substr' e retorna seu índice ou erro se não encontrar |\n",
        "S.rstrip([chars]) |Remove espaços em branco à direita de S |\n",
        "S.split('sep') | Split S usando using 'sep' e retorna a lista de substrings |\n",
        "S.startswith(substr[, i[, f]]) | 'True' se S começa com 'substr' |\n",
        "S.strip([chars]) | Remove 'chars' do lado esquerdo e direito de S. O default é chars= ' ' |\n",
        "S.upper() | Converte S para uppercase |"
      ]
    },
    {
      "cell_type": "markdown",
      "metadata": {
        "id": "JgjsFY014Hqw",
        "colab_type": "text"
      },
      "source": [
        "### len()"
      ]
    },
    {
      "cell_type": "code",
      "metadata": {
        "id": "A8kFtNzxCFuN",
        "colab_type": "code",
        "outputId": "cc314988-4699-467a-b456-cd9eb012a00b",
        "colab": {
          "base_uri": "https://localhost:8080/",
          "height": 34
        }
      },
      "source": [
        "sPhrase"
      ],
      "execution_count": 0,
      "outputs": [
        {
          "output_type": "execute_result",
          "data": {
            "text/plain": [
              "'Brazil: Order and Progress!'"
            ]
          },
          "metadata": {
            "tags": []
          },
          "execution_count": 3
        }
      ]
    },
    {
      "cell_type": "code",
      "metadata": {
        "id": "A8DMhMnx_Gec",
        "colab_type": "code",
        "outputId": "08c0b81f-91c6-4d52-859b-8461afdc820b",
        "colab": {
          "base_uri": "https://localhost:8080/",
          "height": 35
        }
      },
      "source": [
        "len(sPhrase)"
      ],
      "execution_count": 0,
      "outputs": [
        {
          "output_type": "execute_result",
          "data": {
            "text/plain": [
              "27"
            ]
          },
          "metadata": {
            "tags": []
          },
          "execution_count": 76
        }
      ]
    },
    {
      "cell_type": "markdown",
      "metadata": {
        "id": "FhSlJQkwBb_e",
        "colab_type": "text"
      },
      "source": [
        "### count()"
      ]
    },
    {
      "cell_type": "code",
      "metadata": {
        "id": "rmvBVIzjCLSt",
        "colab_type": "code",
        "outputId": "4ecac132-53f1-4d20-8459-00ecec668572",
        "colab": {
          "base_uri": "https://localhost:8080/",
          "height": 34
        }
      },
      "source": [
        "sPhrase"
      ],
      "execution_count": 0,
      "outputs": [
        {
          "output_type": "execute_result",
          "data": {
            "text/plain": [
              "'Brazil: Order and Progress!'"
            ]
          },
          "metadata": {
            "tags": []
          },
          "execution_count": 4
        }
      ]
    },
    {
      "cell_type": "code",
      "metadata": {
        "id": "_albEvNaBrh0",
        "colab_type": "code",
        "outputId": "ba12dc31-3e85-48c9-f41a-83ecbfc4d592",
        "colab": {
          "base_uri": "https://localhost:8080/",
          "height": 34
        }
      },
      "source": [
        "sPhrase.count('a')"
      ],
      "execution_count": 0,
      "outputs": [
        {
          "output_type": "execute_result",
          "data": {
            "text/plain": [
              "2"
            ]
          },
          "metadata": {
            "tags": []
          },
          "execution_count": 2
        }
      ]
    },
    {
      "cell_type": "markdown",
      "metadata": {
        "id": "ECvPPzT9CnCZ",
        "colab_type": "text"
      },
      "source": [
        "### Encontrar todas as ocorrências de Substr em Str usando List Comprehension\n",
        "* Suponha que quremos contar quantas vezes sSubstr= 'a' aparece em sPhrase. No entanto, veja o conteúdo a seguir:"
      ]
    },
    {
      "cell_type": "code",
      "metadata": {
        "id": "K1Uj8KhhGwAQ",
        "colab_type": "code",
        "outputId": "3a7e1ca8-864d-437b-aba0-69c82d6e8b09",
        "colab": {
          "base_uri": "https://localhost:8080/",
          "height": 476
        }
      },
      "source": [
        "list(enumerate(sPhrase)) # Cria uma array bidimensional do tipo (indice, valor)."
      ],
      "execution_count": 0,
      "outputs": [
        {
          "output_type": "execute_result",
          "data": {
            "text/plain": [
              "[(0, 'B'),\n",
              " (1, 'r'),\n",
              " (2, 'a'),\n",
              " (3, 'z'),\n",
              " (4, 'i'),\n",
              " (5, 'l'),\n",
              " (6, ':'),\n",
              " (7, ' '),\n",
              " (8, 'O'),\n",
              " (9, 'r'),\n",
              " (10, 'd'),\n",
              " (11, 'e'),\n",
              " (12, 'r'),\n",
              " (13, ' '),\n",
              " (14, 'a'),\n",
              " (15, 'n'),\n",
              " (16, 'd'),\n",
              " (17, ' '),\n",
              " (18, 'P'),\n",
              " (19, 'r'),\n",
              " (20, 'o'),\n",
              " (21, 'g'),\n",
              " (22, 'r'),\n",
              " (23, 'e'),\n",
              " (24, 's'),\n",
              " (25, 's'),\n",
              " (26, '!')]"
            ]
          },
          "metadata": {
            "tags": []
          },
          "execution_count": 2
        }
      ]
    },
    {
      "cell_type": "code",
      "metadata": {
        "id": "2635PM1xC4v5",
        "colab_type": "code",
        "outputId": "5b1e1d75-93f5-4f4d-8e31-28aa04e23f3b",
        "colab": {
          "base_uri": "https://localhost:8080/",
          "height": 34
        }
      },
      "source": [
        "# Solução usando List Comprehension\n",
        "# Objetivo: encontrar todas as ocorrências de Substr em Str \n",
        "sSubstr= 'a'\n",
        "indices = [indice for indice, valor in enumerate(sPhrase) if valor == sSubstr]\n",
        "indices"
      ],
      "execution_count": 3,
      "outputs": [
        {
          "output_type": "execute_result",
          "data": {
            "text/plain": [
              "[2, 14]"
            ]
          },
          "metadata": {
            "tags": []
          },
          "execution_count": 3
        }
      ]
    },
    {
      "cell_type": "markdown",
      "metadata": {
        "id": "xtVIZAsXEBC3",
        "colab_type": "text"
      },
      "source": [
        "### Encontrar todas as ocorrências de Substr em Str usando Expressões Regulares"
      ]
    },
    {
      "cell_type": "code",
      "metadata": {
        "id": "lCsSl3MZEKu8",
        "colab_type": "code",
        "outputId": "42f08bfb-23d4-4719-817d-e786de92ed90",
        "colab": {
          "base_uri": "https://localhost:8080/",
          "height": 34
        }
      },
      "source": [
        "# Solução usando Expressões Regulares - re.finditer() \n",
        "# Objetivo: encontrar todas as ocorrências de Substr em Str  \n",
        "import re\n",
        "\n",
        "indices = [i.start() for i in re.finditer(sSubstr, sPhrase)]\n",
        "indices"
      ],
      "execution_count": 4,
      "outputs": [
        {
          "output_type": "execute_result",
          "data": {
            "text/plain": [
              "[2, 14]"
            ]
          },
          "metadata": {
            "tags": []
          },
          "execution_count": 4
        }
      ]
    },
    {
      "cell_type": "markdown",
      "metadata": {
        "id": "x4uWzHqo2y5J",
        "colab_type": "text"
      },
      "source": [
        "### lower()"
      ]
    },
    {
      "cell_type": "code",
      "metadata": {
        "id": "NLCnTvRE-QYl",
        "colab_type": "code",
        "colab": {
          "base_uri": "https://localhost:8080/",
          "height": 51
        },
        "outputId": "aab4d68e-c0b2-4994-dbf3-d5700db3fe18"
      },
      "source": [
        "list(re.finditer(sSubstr, sPhrase))"
      ],
      "execution_count": 6,
      "outputs": [
        {
          "output_type": "execute_result",
          "data": {
            "text/plain": [
              "[<_sre.SRE_Match object; span=(2, 3), match='a'>,\n",
              " <_sre.SRE_Match object; span=(14, 15), match='a'>]"
            ]
          },
          "metadata": {
            "tags": []
          },
          "execution_count": 6
        }
      ]
    },
    {
      "cell_type": "code",
      "metadata": {
        "id": "i96RNCQyCPBm",
        "colab_type": "code",
        "colab": {}
      },
      "source": [
        "sPhrase"
      ],
      "execution_count": 0,
      "outputs": []
    },
    {
      "cell_type": "code",
      "metadata": {
        "id": "h7QVh6nW_Wr3",
        "colab_type": "code",
        "outputId": "06582813-fa70-4e8b-fd44-e68c7ef0d2d6",
        "colab": {
          "base_uri": "https://localhost:8080/",
          "height": 35
        }
      },
      "source": [
        "sPhrase.lower()"
      ],
      "execution_count": 0,
      "outputs": [
        {
          "output_type": "execute_result",
          "data": {
            "text/plain": [
              "'brazil: order and progress!'"
            ]
          },
          "metadata": {
            "tags": []
          },
          "execution_count": 4
        }
      ]
    },
    {
      "cell_type": "markdown",
      "metadata": {
        "id": "YWjMKj9B4UTS",
        "colab_type": "text"
      },
      "source": [
        "### upper()"
      ]
    },
    {
      "cell_type": "code",
      "metadata": {
        "id": "JWLXql2uCQVt",
        "colab_type": "code",
        "colab": {}
      },
      "source": [
        "sPhrase"
      ],
      "execution_count": 0,
      "outputs": []
    },
    {
      "cell_type": "code",
      "metadata": {
        "id": "80zNvZxD_cd3",
        "colab_type": "code",
        "outputId": "3767dc44-3550-4f52-b613-106cbdb93c3a",
        "colab": {
          "base_uri": "https://localhost:8080/",
          "height": 35
        }
      },
      "source": [
        "sPhrase.upper()"
      ],
      "execution_count": 0,
      "outputs": [
        {
          "output_type": "execute_result",
          "data": {
            "text/plain": [
              "'BRAZIL: ORDER AND PROGRESS!'"
            ]
          },
          "metadata": {
            "tags": []
          },
          "execution_count": 5
        }
      ]
    },
    {
      "cell_type": "markdown",
      "metadata": {
        "id": "orwwTq7A4Zl1",
        "colab_type": "text"
      },
      "source": [
        "### strip()"
      ]
    },
    {
      "cell_type": "code",
      "metadata": {
        "id": "QbbCGcg1_m9t",
        "colab_type": "code",
        "colab": {}
      },
      "source": [
        "cNewStr= '  Brazil: Order and Progress!  '"
      ],
      "execution_count": 0,
      "outputs": []
    },
    {
      "cell_type": "code",
      "metadata": {
        "id": "ehLGkpUC_h0A",
        "colab_type": "code",
        "outputId": "53971db2-17f4-4331-facb-13d0cdbe974a",
        "colab": {
          "base_uri": "https://localhost:8080/",
          "height": 35
        }
      },
      "source": [
        "cNewStr.strip()"
      ],
      "execution_count": 0,
      "outputs": [
        {
          "output_type": "execute_result",
          "data": {
            "text/plain": [
              "'Brazil: Order and Progress!'"
            ]
          },
          "metadata": {
            "tags": []
          },
          "execution_count": 7
        }
      ]
    },
    {
      "cell_type": "markdown",
      "metadata": {
        "id": "xFTubPhW4e_c",
        "colab_type": "text"
      },
      "source": [
        "### isdigit()"
      ]
    },
    {
      "cell_type": "code",
      "metadata": {
        "id": "1xK9VoBR_7-C",
        "colab_type": "code",
        "outputId": "e7db0aab-6907-4936-ad86-276086cc22ff",
        "colab": {
          "base_uri": "https://localhost:8080/",
          "height": 35
        }
      },
      "source": [
        "sPhrase.isdigit()"
      ],
      "execution_count": 0,
      "outputs": [
        {
          "output_type": "execute_result",
          "data": {
            "text/plain": [
              "False"
            ]
          },
          "metadata": {
            "tags": []
          },
          "execution_count": 8
        }
      ]
    },
    {
      "cell_type": "code",
      "metadata": {
        "id": "J2o9UAkT__vY",
        "colab_type": "code",
        "outputId": "97ee1dbf-6cb4-4b2f-bb27-3ab533ffb8c4",
        "colab": {
          "base_uri": "https://localhost:8080/",
          "height": 35
        }
      },
      "source": [
        "'1234567a'.isdigit()"
      ],
      "execution_count": 0,
      "outputs": [
        {
          "output_type": "execute_result",
          "data": {
            "text/plain": [
              "False"
            ]
          },
          "metadata": {
            "tags": []
          },
          "execution_count": 9
        }
      ]
    },
    {
      "cell_type": "code",
      "metadata": {
        "id": "Ll_nLgOpAFC2",
        "colab_type": "code",
        "outputId": "9f9f210b-71fd-4297-c042-631a4e963d85",
        "colab": {
          "base_uri": "https://localhost:8080/",
          "height": 35
        }
      },
      "source": [
        "'1234567'.isdigit()"
      ],
      "execution_count": 0,
      "outputs": [
        {
          "output_type": "execute_result",
          "data": {
            "text/plain": [
              "True"
            ]
          },
          "metadata": {
            "tags": []
          },
          "execution_count": 10
        }
      ]
    },
    {
      "cell_type": "markdown",
      "metadata": {
        "id": "NYN11jnx4l1z",
        "colab_type": "text"
      },
      "source": [
        "### isspace()"
      ]
    },
    {
      "cell_type": "markdown",
      "metadata": {
        "id": "yft3MA264ot7",
        "colab_type": "text"
      },
      "source": [
        "### startswith()"
      ]
    },
    {
      "cell_type": "code",
      "metadata": {
        "id": "SB4SoJxuCTlY",
        "colab_type": "code",
        "colab": {}
      },
      "source": [
        "sPhrase"
      ],
      "execution_count": 0,
      "outputs": []
    },
    {
      "cell_type": "code",
      "metadata": {
        "id": "L1hY57TW4tL5",
        "colab_type": "code",
        "outputId": "3a5fea97-30d3-4fee-a35c-0d46734cba9e",
        "colab": {
          "base_uri": "https://localhost:8080/",
          "height": 35
        }
      },
      "source": [
        "sPhrase.startswith('Brasil')"
      ],
      "execution_count": 0,
      "outputs": [
        {
          "output_type": "execute_result",
          "data": {
            "text/plain": [
              "False"
            ]
          },
          "metadata": {
            "tags": []
          },
          "execution_count": 50
        }
      ]
    },
    {
      "cell_type": "code",
      "metadata": {
        "id": "HdAJPhAH40C6",
        "colab_type": "code",
        "outputId": "1336731c-b494-4e26-fef4-a305626417ab",
        "colab": {
          "base_uri": "https://localhost:8080/",
          "height": 35
        }
      },
      "source": [
        "sPhrase.startswith('Brazil')"
      ],
      "execution_count": 0,
      "outputs": [
        {
          "output_type": "execute_result",
          "data": {
            "text/plain": [
              "True"
            ]
          },
          "metadata": {
            "tags": []
          },
          "execution_count": 51
        }
      ]
    },
    {
      "cell_type": "markdown",
      "metadata": {
        "id": "aJ0XLdMN45kW",
        "colab_type": "text"
      },
      "source": [
        "### endswith()"
      ]
    },
    {
      "cell_type": "code",
      "metadata": {
        "id": "lIbh8oBICU3M",
        "colab_type": "code",
        "colab": {}
      },
      "source": [
        "sPhrase"
      ],
      "execution_count": 0,
      "outputs": []
    },
    {
      "cell_type": "code",
      "metadata": {
        "id": "1oy9r22A5J2g",
        "colab_type": "code",
        "outputId": "1bcd6a98-adc7-4e1d-aafc-edbf03527edd",
        "colab": {
          "base_uri": "https://localhost:8080/",
          "height": 35
        }
      },
      "source": [
        "sPhrase.endswith('!')"
      ],
      "execution_count": 0,
      "outputs": [
        {
          "output_type": "execute_result",
          "data": {
            "text/plain": [
              "True"
            ]
          },
          "metadata": {
            "tags": []
          },
          "execution_count": 53
        }
      ]
    },
    {
      "cell_type": "markdown",
      "metadata": {
        "id": "g4T-n_Vq5kje",
        "colab_type": "text"
      },
      "source": [
        "### find(substr)"
      ]
    },
    {
      "cell_type": "code",
      "metadata": {
        "id": "fpYCC-pACWPb",
        "colab_type": "code",
        "colab": {}
      },
      "source": [
        "sPhrase"
      ],
      "execution_count": 0,
      "outputs": []
    },
    {
      "cell_type": "code",
      "metadata": {
        "id": "NRIG8n0259yW",
        "colab_type": "code",
        "outputId": "ce5dde49-e9a5-4b92-9599-70955353ff92",
        "colab": {
          "base_uri": "https://localhost:8080/",
          "height": 35
        }
      },
      "source": [
        "sPhrase.find('Brazil')"
      ],
      "execution_count": 0,
      "outputs": [
        {
          "output_type": "execute_result",
          "data": {
            "text/plain": [
              "0"
            ]
          },
          "metadata": {
            "tags": []
          },
          "execution_count": 56
        }
      ]
    },
    {
      "cell_type": "markdown",
      "metadata": {
        "id": "x1RDdI6x6YD8",
        "colab_type": "text"
      },
      "source": [
        "Como esperado, substr= 'Brazil' faz parte de sPhrase."
      ]
    },
    {
      "cell_type": "markdown",
      "metadata": {
        "id": "wXnNRYW46vhX",
        "colab_type": "text"
      },
      "source": [
        "Se substr não faz parte de sPhrase, Python retorna -1, como abaixo:"
      ]
    },
    {
      "cell_type": "code",
      "metadata": {
        "id": "k2Ok8__-654p",
        "colab_type": "code",
        "outputId": "d568eb5c-62c8-4482-ccae-622928070ef5",
        "colab": {
          "base_uri": "https://localhost:8080/",
          "height": 35
        }
      },
      "source": [
        "sPhrase.find('Brasil') # 's' ao invés de 'z'"
      ],
      "execution_count": 0,
      "outputs": [
        {
          "output_type": "execute_result",
          "data": {
            "text/plain": [
              "-1"
            ]
          },
          "metadata": {
            "tags": []
          },
          "execution_count": 57
        }
      ]
    },
    {
      "cell_type": "markdown",
      "metadata": {
        "id": "p5jNHCDQ7Bl6",
        "colab_type": "text"
      },
      "source": [
        "### replace(old, new)"
      ]
    },
    {
      "cell_type": "code",
      "metadata": {
        "id": "MWFiLutR6cRR",
        "colab_type": "code",
        "outputId": "264bd1ff-bffa-4edd-b10a-032c51a267e9",
        "colab": {
          "base_uri": "https://localhost:8080/",
          "height": 35
        }
      },
      "source": [
        "sPhrase.replace('Brasil', 'Germany')"
      ],
      "execution_count": 0,
      "outputs": [
        {
          "output_type": "execute_result",
          "data": {
            "text/plain": [
              "'Brazil: Order and Progress!'"
            ]
          },
          "metadata": {
            "tags": []
          },
          "execution_count": 58
        }
      ]
    },
    {
      "cell_type": "markdown",
      "metadata": {
        "id": "mgzh1KQG7bx6",
        "colab_type": "text"
      },
      "source": [
        "O que aconteceu? Não substituiu... Porque?\n",
        "\n",
        "Saberia explicar porque o Python não substituiu?"
      ]
    },
    {
      "cell_type": "markdown",
      "metadata": {
        "id": "DudTwJSX7ltC",
        "colab_type": "text"
      },
      "source": [
        "E agora?"
      ]
    },
    {
      "cell_type": "code",
      "metadata": {
        "id": "-2BZQ6mG7hh6",
        "colab_type": "code",
        "outputId": "a64b7464-53e6-4546-a73e-7f1364b9eec6",
        "colab": {
          "base_uri": "https://localhost:8080/",
          "height": 35
        }
      },
      "source": [
        "sPhrase.replace('Brazil', 'Germany')"
      ],
      "execution_count": 0,
      "outputs": [
        {
          "output_type": "execute_result",
          "data": {
            "text/plain": [
              "'Germany: Order and Progress!'"
            ]
          },
          "metadata": {
            "tags": []
          },
          "execution_count": 59
        }
      ]
    },
    {
      "cell_type": "markdown",
      "metadata": {
        "id": "42v6zRUO8DlQ",
        "colab_type": "text"
      },
      "source": [
        "... Entretanto, qual o conteúdo de sPhrase?"
      ]
    },
    {
      "cell_type": "code",
      "metadata": {
        "id": "Lmo4aiol7qUF",
        "colab_type": "code",
        "outputId": "f1b9cbe3-27fb-4f9d-c97b-6a6760a04488",
        "colab": {
          "base_uri": "https://localhost:8080/",
          "height": 35
        }
      },
      "source": [
        "sPhrase"
      ],
      "execution_count": 0,
      "outputs": [
        {
          "output_type": "execute_result",
          "data": {
            "text/plain": [
              "'Brazil: Order and Progress!'"
            ]
          },
          "metadata": {
            "tags": []
          },
          "execution_count": 60
        }
      ]
    },
    {
      "cell_type": "markdown",
      "metadata": {
        "id": "ap9nFc2E8MAG",
        "colab_type": "text"
      },
      "source": [
        "**DICA**: Strings are imutáveis! A forma correta seria:"
      ]
    },
    {
      "cell_type": "code",
      "metadata": {
        "id": "eH8yHJik8U0N",
        "colab_type": "code",
        "colab": {}
      },
      "source": [
        "sPhrase= sPhrase.replace('Brazil', 'Germany')"
      ],
      "execution_count": 0,
      "outputs": []
    },
    {
      "cell_type": "markdown",
      "metadata": {
        "id": "nHCudHwJ8eSf",
        "colab_type": "text"
      },
      "source": [
        "Desta forma, redefinimos uma nova variável chamada sPhrase. Mas é a mesma variável que anteriormente, certo?"
      ]
    },
    {
      "cell_type": "code",
      "metadata": {
        "id": "WRFcfuzH8cBL",
        "colab_type": "code",
        "outputId": "2c38c979-110f-4b16-94bf-21db8603bdce",
        "colab": {
          "base_uri": "https://localhost:8080/",
          "height": 35
        }
      },
      "source": [
        "sPhrase"
      ],
      "execution_count": 0,
      "outputs": [
        {
          "output_type": "execute_result",
          "data": {
            "text/plain": [
              "'Germany: Order and Progress!'"
            ]
          },
          "metadata": {
            "tags": []
          },
          "execution_count": 62
        }
      ]
    },
    {
      "cell_type": "markdown",
      "metadata": {
        "id": "aL2UZp9T8lAk",
        "colab_type": "text"
      },
      "source": [
        "### split('sep')"
      ]
    },
    {
      "cell_type": "code",
      "metadata": {
        "id": "7y0ieQQm9Anx",
        "colab_type": "code",
        "outputId": "83e10e05-4abf-4893-8ea6-ffc14015910f",
        "colab": {
          "base_uri": "https://localhost:8080/",
          "height": 35
        }
      },
      "source": [
        "sPhrase.split(':')"
      ],
      "execution_count": 0,
      "outputs": [
        {
          "output_type": "execute_result",
          "data": {
            "text/plain": [
              "['Germany', ' Order and Progress!']"
            ]
          },
          "metadata": {
            "tags": []
          },
          "execution_count": 64
        }
      ]
    },
    {
      "cell_type": "markdown",
      "metadata": {
        "id": "dY-1Sgm29OtF",
        "colab_type": "text"
      },
      "source": [
        "Neste caso, o Python utiliza sep= ':' para separar a string.\n",
        "\n",
        "O exemplo a seguir esclarece possíveis dúvidas:"
      ]
    },
    {
      "cell_type": "code",
      "metadata": {
        "id": "2ATukxpd9kij",
        "colab_type": "code",
        "colab": {}
      },
      "source": [
        "cNewStr= '73540877412968744629867535897645310956547894653240984764'"
      ],
      "execution_count": 0,
      "outputs": []
    },
    {
      "cell_type": "markdown",
      "metadata": {
        "id": "506UkCh39xFS",
        "colab_type": "text"
      },
      "source": [
        "Qual o output do code abaixo:"
      ]
    },
    {
      "cell_type": "code",
      "metadata": {
        "id": "C2G9vyGt91Ir",
        "colab_type": "code",
        "outputId": "585d12c0-2f2d-4071-c0c8-9220d5510fe0",
        "colab": {
          "base_uri": "https://localhost:8080/",
          "height": 156
        }
      },
      "source": [
        "cNewStr.split('6')"
      ],
      "execution_count": 0,
      "outputs": [
        {
          "output_type": "execute_result",
          "data": {
            "text/plain": [
              "['735408774129',\n",
              " '8744',\n",
              " '298',\n",
              " '7535897',\n",
              " '4531095',\n",
              " '547894',\n",
              " '532409847',\n",
              " '4']"
            ]
          },
          "metadata": {
            "tags": []
          },
          "execution_count": 67
        }
      ]
    },
    {
      "cell_type": "markdown",
      "metadata": {
        "id": "5bW0K_5q-Ud2",
        "colab_type": "text"
      },
      "source": [
        "### Membership 'in' e 'not in'\n",
        "* Este operador testa se um valor é ou não membro de uma sequência (list, string, ou  dictionary)."
      ]
    },
    {
      "cell_type": "code",
      "metadata": {
        "id": "NKhMZwTG-XZA",
        "colab_type": "code",
        "outputId": "5125bf1e-aada-4cd7-dd03-735a474c2127",
        "colab": {
          "base_uri": "https://localhost:8080/",
          "height": 35
        }
      },
      "source": [
        "'Brazil' in phrase"
      ],
      "execution_count": 0,
      "outputs": [
        {
          "output_type": "execute_result",
          "data": {
            "text/plain": [
              "False"
            ]
          },
          "metadata": {
            "tags": []
          },
          "execution_count": 68
        }
      ]
    },
    {
      "cell_type": "code",
      "metadata": {
        "id": "brLjaj1B-b9Q",
        "colab_type": "code",
        "outputId": "6a90a57a-d39d-4b0b-8187-01b6c07c48e7",
        "colab": {
          "base_uri": "https://localhost:8080/",
          "height": 35
        }
      },
      "source": [
        "'Germany' in phrase"
      ],
      "execution_count": 0,
      "outputs": [
        {
          "output_type": "execute_result",
          "data": {
            "text/plain": [
              "True"
            ]
          },
          "metadata": {
            "tags": []
          },
          "execution_count": 69
        }
      ]
    },
    {
      "cell_type": "code",
      "metadata": {
        "id": "0cccmPea-gkw",
        "colab_type": "code",
        "outputId": "42f172e2-6934-49bd-e6c1-9ef35414ff64",
        "colab": {
          "base_uri": "https://localhost:8080/",
          "height": 35
        }
      },
      "source": [
        "'Brazil' not in phrase"
      ],
      "execution_count": 0,
      "outputs": [
        {
          "output_type": "execute_result",
          "data": {
            "text/plain": [
              "True"
            ]
          },
          "metadata": {
            "tags": []
          },
          "execution_count": 70
        }
      ]
    },
    {
      "cell_type": "markdown",
      "metadata": {
        "id": "5kqhgY_eNkZZ",
        "colab_type": "text"
      },
      "source": [
        "### Padding and aligning strings"
      ]
    },
    {
      "cell_type": "markdown",
      "metadata": {
        "id": "fekCPE1DN6ZX",
        "colab_type": "text"
      },
      "source": [
        "#### Align right"
      ]
    },
    {
      "cell_type": "code",
      "metadata": {
        "id": "qWAH-_EMNrBS",
        "colab_type": "code",
        "outputId": "583539ec-132d-49db-d1ac-6031d61adc40",
        "colab": {
          "base_uri": "https://localhost:8080/",
          "height": 35
        }
      },
      "source": [
        "f'{sPhrase:>40}'"
      ],
      "execution_count": 0,
      "outputs": [
        {
          "output_type": "execute_result",
          "data": {
            "text/plain": [
              "'             Brazil: Order and Progress!'"
            ]
          },
          "metadata": {
            "tags": []
          },
          "execution_count": 78
        }
      ]
    },
    {
      "cell_type": "markdown",
      "metadata": {
        "id": "c3yz_kH-N-ax",
        "colab_type": "text"
      },
      "source": [
        "#### Align left"
      ]
    },
    {
      "cell_type": "code",
      "metadata": {
        "id": "rGtOHFmVOB0C",
        "colab_type": "code",
        "outputId": "85a59e3c-d33c-44fa-989d-c21096fd94c5",
        "colab": {
          "base_uri": "https://localhost:8080/",
          "height": 35
        }
      },
      "source": [
        "f'{sPhrase:40}'"
      ],
      "execution_count": 0,
      "outputs": [
        {
          "output_type": "execute_result",
          "data": {
            "text/plain": [
              "'Brazil: Order and Progress!             '"
            ]
          },
          "metadata": {
            "tags": []
          },
          "execution_count": 79
        }
      ]
    },
    {
      "cell_type": "markdown",
      "metadata": {
        "id": "rzBajcolOM9C",
        "colab_type": "text"
      },
      "source": [
        "#### Padding character"
      ]
    },
    {
      "cell_type": "code",
      "metadata": {
        "id": "h24EO4LUOPyK",
        "colab_type": "code",
        "outputId": "1502db4c-2bd8-47b5-fae4-b396d5dd8347",
        "colab": {
          "base_uri": "https://localhost:8080/",
          "height": 35
        }
      },
      "source": [
        "f'{sPhrase:*<40}'"
      ],
      "execution_count": 0,
      "outputs": [
        {
          "output_type": "execute_result",
          "data": {
            "text/plain": [
              "'Brazil: Order and Progress!*************'"
            ]
          },
          "metadata": {
            "tags": []
          },
          "execution_count": 81
        }
      ]
    },
    {
      "cell_type": "markdown",
      "metadata": {
        "id": "NEC-6eMFOZiC",
        "colab_type": "text"
      },
      "source": [
        "#### Align center"
      ]
    },
    {
      "cell_type": "code",
      "metadata": {
        "id": "JiCdqIvyOdL8",
        "colab_type": "code",
        "outputId": "865b0b1f-ee4a-432a-de53-756db1f47a89",
        "colab": {
          "base_uri": "https://localhost:8080/",
          "height": 35
        }
      },
      "source": [
        "f'{sPhrase:^40}'"
      ],
      "execution_count": 0,
      "outputs": [
        {
          "output_type": "execute_result",
          "data": {
            "text/plain": [
              "'      Brazil: Order and Progress!       '"
            ]
          },
          "metadata": {
            "tags": []
          },
          "execution_count": 82
        }
      ]
    },
    {
      "cell_type": "markdown",
      "metadata": {
        "id": "vDL3q6jDOxwq",
        "colab_type": "text"
      },
      "source": [
        "#### Align center with padding"
      ]
    },
    {
      "cell_type": "code",
      "metadata": {
        "id": "2wUDU11_O0sc",
        "colab_type": "code",
        "outputId": "dd27a9da-f09c-404e-e6a3-63cc9fa1b351",
        "colab": {
          "base_uri": "https://localhost:8080/",
          "height": 35
        }
      },
      "source": [
        "f'{sPhrase:*^40}'"
      ],
      "execution_count": 0,
      "outputs": [
        {
          "output_type": "execute_result",
          "data": {
            "text/plain": [
              "'******Brazil: Order and Progress!*******'"
            ]
          },
          "metadata": {
            "tags": []
          },
          "execution_count": 83
        }
      ]
    },
    {
      "cell_type": "markdown",
      "metadata": {
        "id": "U7pi87UzPMM7",
        "colab_type": "text"
      },
      "source": [
        "#### Truncating strings"
      ]
    },
    {
      "cell_type": "code",
      "metadata": {
        "id": "mCitoROmPQYp",
        "colab_type": "code",
        "outputId": "da14bb96-ff70-4d89-fdd2-dc8d71bf1fb3",
        "colab": {
          "base_uri": "https://localhost:8080/",
          "height": 35
        }
      },
      "source": [
        "# captura os 5 primeiros caracteres:\n",
        "f'{sPhrase:.5}'"
      ],
      "execution_count": 0,
      "outputs": [
        {
          "output_type": "execute_result",
          "data": {
            "text/plain": [
              "'Brazi'"
            ]
          },
          "metadata": {
            "tags": []
          },
          "execution_count": 84
        }
      ]
    },
    {
      "cell_type": "markdown",
      "metadata": {
        "id": "DFC32gskPYkL",
        "colab_type": "text"
      },
      "source": [
        "#### Truncating and padding"
      ]
    },
    {
      "cell_type": "code",
      "metadata": {
        "id": "Rnod2qR1PeAN",
        "colab_type": "code",
        "outputId": "ba70ac2a-5975-401c-89f5-2ce155b081bc",
        "colab": {
          "base_uri": "https://localhost:8080/",
          "height": 35
        }
      },
      "source": [
        "f'{sPhrase:10.5}'"
      ],
      "execution_count": 0,
      "outputs": [
        {
          "output_type": "execute_result",
          "data": {
            "text/plain": [
              "'Brazi     '"
            ]
          },
          "metadata": {
            "tags": []
          },
          "execution_count": 85
        }
      ]
    },
    {
      "cell_type": "markdown",
      "metadata": {
        "id": "k0S3RBPKpSQ5",
        "colab_type": "text"
      },
      "source": [
        "[Go to top](#top)"
      ]
    },
    {
      "cell_type": "markdown",
      "metadata": {
        "id": "ufKAnv-YCtkn",
        "colab_type": "text"
      },
      "source": [
        "# Python Decision Making Statements"
      ]
    },
    {
      "cell_type": "markdown",
      "metadata": {
        "id": "NotQUW3tCy7o",
        "colab_type": "text"
      },
      "source": [
        "## If\n",
        "* **DICA**: Atenção à indentação."
      ]
    },
    {
      "cell_type": "code",
      "metadata": {
        "id": "gSzCnjS0Fk-d",
        "colab_type": "code",
        "outputId": "b31c0cc5-e00a-4139-bbfd-7cc2ce3b9e8a",
        "colab": {
          "base_uri": "https://localhost:8080/",
          "height": 35
        }
      },
      "source": [
        "nValue= 35\n",
        "nThreashold= 40\n",
        "\n",
        "if nValue > nThreashold:\n",
        "    sMessage= f'{nValue} é maior que {nThreashold}'\n",
        "else:\n",
        "    sMessage= f'{nValue} é menor ou igual a {nThreashold}'\n",
        "    \n",
        "print(sMessage)"
      ],
      "execution_count": 0,
      "outputs": [
        {
          "output_type": "stream",
          "text": [
            "35 é menor ou igual a 40\n"
          ],
          "name": "stdout"
        }
      ]
    },
    {
      "cell_type": "code",
      "metadata": {
        "id": "a1NlziSbGrIl",
        "colab_type": "code",
        "outputId": "60f97cd8-6c71-4569-95f3-12d3a2b743d2",
        "colab": {
          "base_uri": "https://localhost:8080/",
          "height": 35
        }
      },
      "source": [
        "nValue= 35\n",
        "nThreashold1= 10\n",
        "nThreashold2= 20\n",
        "nThreashold3= 30\n",
        "nThreashold4= 40\n",
        "\n",
        "\n",
        "if ((nValue > nThreashold1) and (nValue < nThreashold2)):\n",
        "    sMessage= f'{nValue} é maior que {nThreashold1} e menor que {nThreashold2}'\n",
        "elif ((nValue > nThreashold3) and (nValue < nThreashold4)):\n",
        "    sMessage= f'{nValue} é maior que {nThreashold3} e menor que {nThreashold4}'\n",
        "else:\n",
        "    sMessage= f'{nValue} é maior que {nThreashold4}'\n",
        "    \n",
        "print(sMessage)"
      ],
      "execution_count": 0,
      "outputs": [
        {
          "output_type": "stream",
          "text": [
            "35 é maior que 30 e menor que 40\n"
          ],
          "name": "stdout"
        }
      ]
    },
    {
      "cell_type": "markdown",
      "metadata": {
        "id": "Oo8e3iF4Im2B",
        "colab_type": "text"
      },
      "source": [
        "## Loops\n",
        "\n",
        "https://www.youtube.com/watch?v=4dN4Cn4u2M0\n",
        "\n",
        "https://www.youtube.com/watch?v=uPPjZe-_Tn8\n",
        "\n",
        "https://www.youtube.com/watch?v=F6k-inxVbio\n",
        "\n",
        "\n",
        "Here we will learn and discuss 2 types of Python Loop:\n",
        "\n",
        "* Python For Loop\n",
        "* Python While Loop"
      ]
    },
    {
      "cell_type": "markdown",
      "metadata": {
        "id": "-JC1Suu7UThj",
        "colab_type": "text"
      },
      "source": [
        "## Python While Loop"
      ]
    },
    {
      "cell_type": "code",
      "metadata": {
        "id": "jZV3hQMtU9Ar",
        "colab_type": "code",
        "outputId": "64095b0b-0fdc-4ea2-e8d6-5bf6c4642814",
        "colab": {
          "base_uri": "https://localhost:8080/",
          "height": 104
        }
      },
      "source": [
        "nLoop= 5\n",
        "while(nLoop > 0):\n",
        "        print(nLoop)\n",
        "        nLoop-=1"
      ],
      "execution_count": 0,
      "outputs": [
        {
          "output_type": "stream",
          "text": [
            "5\n",
            "4\n",
            "3\n",
            "2\n",
            "1\n"
          ],
          "name": "stdout"
        }
      ]
    },
    {
      "cell_type": "markdown",
      "metadata": {
        "id": "O2MoVKsFVPR7",
        "colab_type": "text"
      },
      "source": [
        "### Else Statement"
      ]
    },
    {
      "cell_type": "code",
      "metadata": {
        "id": "Om3QG3-LVSIr",
        "colab_type": "code",
        "outputId": "74431f63-be21-43c3-b498-0541ba01234d",
        "colab": {
          "base_uri": "https://localhost:8080/",
          "height": 121
        }
      },
      "source": [
        "nLoop= 5\n",
        "while(nLoop > 0):\n",
        "        print(nLoop)\n",
        "        nLoop-=1\n",
        "else:\n",
        "    print('Alcançamos o final do Loop')"
      ],
      "execution_count": 0,
      "outputs": [
        {
          "output_type": "stream",
          "text": [
            "5\n",
            "4\n",
            "3\n",
            "2\n",
            "1\n",
            "Alcançamos o final do Loop\n"
          ],
          "name": "stdout"
        }
      ]
    },
    {
      "cell_type": "markdown",
      "metadata": {
        "id": "vfHduzBrV8iE",
        "colab_type": "text"
      },
      "source": [
        "### Break Staement"
      ]
    },
    {
      "cell_type": "code",
      "metadata": {
        "id": "4psro5ZrV_g8",
        "colab_type": "code",
        "outputId": "62039342-c8ac-4fa7-ca27-8868e78432a9",
        "colab": {
          "base_uri": "https://localhost:8080/",
          "height": 69
        }
      },
      "source": [
        "nLoop= 5\n",
        "while(nLoop > 0):\n",
        "    print(nLoop)\n",
        "    nLoop-=1\n",
        "    if nLoop == 3:\n",
        "        break\n",
        "    else:\n",
        "        print('Alcançamos o final do Loop')"
      ],
      "execution_count": 0,
      "outputs": [
        {
          "output_type": "stream",
          "text": [
            "5\n",
            "Alcançamos o final do Loop\n",
            "4\n"
          ],
          "name": "stdout"
        }
      ]
    },
    {
      "cell_type": "markdown",
      "metadata": {
        "id": "OAAJlMd1UZcf",
        "colab_type": "text"
      },
      "source": [
        "## Python For Loop"
      ]
    },
    {
      "cell_type": "markdown",
      "metadata": {
        "id": "0IJbW-bAXEtW",
        "colab_type": "text"
      },
      "source": [
        "### Função range()"
      ]
    },
    {
      "cell_type": "code",
      "metadata": {
        "id": "uav18jUbWY1s",
        "colab_type": "code",
        "outputId": "f5b9ea8f-e57b-4782-950d-b4b6242bb417",
        "colab": {
          "base_uri": "https://localhost:8080/",
          "height": 35
        }
      },
      "source": [
        "list(range(10))"
      ],
      "execution_count": 0,
      "outputs": [
        {
          "output_type": "execute_result",
          "data": {
            "text/plain": [
              "[0, 1, 2, 3, 4, 5, 6, 7, 8, 9]"
            ]
          },
          "metadata": {
            "tags": []
          },
          "execution_count": 16
        }
      ]
    },
    {
      "cell_type": "code",
      "metadata": {
        "id": "GadaUg6BXoXk",
        "colab_type": "code",
        "outputId": "0dfba053-8c0c-4b86-e8d8-69a649b63db3",
        "colab": {
          "base_uri": "https://localhost:8080/",
          "height": 35
        }
      },
      "source": [
        "list(range(2, 10))"
      ],
      "execution_count": 0,
      "outputs": [
        {
          "output_type": "execute_result",
          "data": {
            "text/plain": [
              "[2, 3, 4, 5, 6, 7, 8, 9]"
            ]
          },
          "metadata": {
            "tags": []
          },
          "execution_count": 17
        }
      ]
    },
    {
      "cell_type": "code",
      "metadata": {
        "id": "mhD6noi2Xtba",
        "colab_type": "code",
        "outputId": "b1ddab21-0f40-493c-da52-93d1733315cd",
        "colab": {
          "base_uri": "https://localhost:8080/",
          "height": 35
        }
      },
      "source": [
        "list(range(2, 20, 2))"
      ],
      "execution_count": 0,
      "outputs": [
        {
          "output_type": "execute_result",
          "data": {
            "text/plain": [
              "[2, 4, 6, 8, 10, 12, 14, 16, 18]"
            ]
          },
          "metadata": {
            "tags": []
          },
          "execution_count": 20
        }
      ]
    },
    {
      "cell_type": "code",
      "metadata": {
        "id": "9H-r6MITYGH0",
        "colab_type": "code",
        "outputId": "5a552a33-7470-49ea-c455-5f371827d654",
        "colab": {
          "base_uri": "https://localhost:8080/",
          "height": 35
        }
      },
      "source": [
        "list(range(20,2,-2))"
      ],
      "execution_count": 0,
      "outputs": [
        {
          "output_type": "execute_result",
          "data": {
            "text/plain": [
              "[20, 18, 16, 14, 12, 10, 8, 6, 4]"
            ]
          },
          "metadata": {
            "tags": []
          },
          "execution_count": 21
        }
      ]
    },
    {
      "cell_type": "markdown",
      "metadata": {
        "id": "krIfe9qSYN_b",
        "colab_type": "text"
      },
      "source": [
        "### Iterating on lists"
      ]
    },
    {
      "cell_type": "code",
      "metadata": {
        "id": "8yfZTcqfXOxS",
        "colab_type": "code",
        "outputId": "5e5b75ab-aac1-4532-a2ff-1127993c85f7",
        "colab": {
          "base_uri": "https://localhost:8080/",
          "height": 121
        }
      },
      "source": [
        "for nNumber in [0,1,2,3,4,5]:\n",
        "    print(nNumber)"
      ],
      "execution_count": 0,
      "outputs": [
        {
          "output_type": "stream",
          "text": [
            "0\n",
            "1\n",
            "2\n",
            "3\n",
            "4\n",
            "5\n"
          ],
          "name": "stdout"
        }
      ]
    },
    {
      "cell_type": "code",
      "metadata": {
        "id": "kkFjZnuZYdJP",
        "colab_type": "code",
        "outputId": "eb79997f-6e86-4412-d881-01e7c939ff60",
        "colab": {
          "base_uri": "https://localhost:8080/",
          "height": 104
        }
      },
      "source": [
        "for nNumber in range(5):\n",
        "    print(nNumber)"
      ],
      "execution_count": 0,
      "outputs": [
        {
          "output_type": "stream",
          "text": [
            "0\n",
            "1\n",
            "2\n",
            "3\n",
            "4\n"
          ],
          "name": "stdout"
        }
      ]
    },
    {
      "cell_type": "code",
      "metadata": {
        "id": "lP0PhfggXb9q",
        "colab_type": "code",
        "outputId": "03d25fe4-b89b-413d-d851-15250c703fa9",
        "colab": {
          "base_uri": "https://localhost:8080/",
          "height": 485
        }
      },
      "source": [
        "for sLetter in 'Brazil: Order and Progress!':\n",
        "    print(sLetter)"
      ],
      "execution_count": 0,
      "outputs": [
        {
          "output_type": "stream",
          "text": [
            "B\n",
            "r\n",
            "a\n",
            "z\n",
            "i\n",
            "l\n",
            ":\n",
            " \n",
            "O\n",
            "r\n",
            "d\n",
            "e\n",
            "r\n",
            " \n",
            "a\n",
            "n\n",
            "d\n",
            " \n",
            "P\n",
            "r\n",
            "o\n",
            "g\n",
            "r\n",
            "e\n",
            "s\n",
            "s\n",
            "!\n"
          ],
          "name": "stdout"
        }
      ]
    },
    {
      "cell_type": "code",
      "metadata": {
        "id": "zcTt9bq-Y92E",
        "colab_type": "code",
        "outputId": "8ae43346-94cd-41ac-ceab-9442455b257d",
        "colab": {
          "base_uri": "https://localhost:8080/",
          "height": 139
        }
      },
      "source": [
        "nCountries= ['Spain', 'Italy', 'Brazil', 'Polony', 'Germany', 'France', 'Denmark']\n",
        "for i in nCountries:\n",
        "    print(i)"
      ],
      "execution_count": 0,
      "outputs": [
        {
          "output_type": "stream",
          "text": [
            "Spain\n",
            "Italy\n",
            "Brazil\n",
            "Polony\n",
            "Germany\n",
            "France\n",
            "Denmark\n"
          ],
          "name": "stdout"
        }
      ]
    },
    {
      "cell_type": "markdown",
      "metadata": {
        "id": "CbOypOk1ZW2A",
        "colab_type": "text"
      },
      "source": [
        "### Break"
      ]
    },
    {
      "cell_type": "code",
      "metadata": {
        "id": "IR54La_hZYTk",
        "colab_type": "code",
        "outputId": "12a11cd2-4013-438d-b3f8-439a3a32bd66",
        "colab": {
          "base_uri": "https://localhost:8080/",
          "height": 69
        }
      },
      "source": [
        "nCountries= ['Spain', 'Italy', 'Brazil', 'Polony', 'Germany', 'France', 'Denmark']\n",
        "for i in nCountries:\n",
        "    print(i)\n",
        "    if i == 'Brazil':\n",
        "        break"
      ],
      "execution_count": 0,
      "outputs": [
        {
          "output_type": "stream",
          "text": [
            "Spain\n",
            "Italy\n",
            "Brazil\n"
          ],
          "name": "stdout"
        }
      ]
    },
    {
      "cell_type": "markdown",
      "metadata": {
        "id": "bSBwWPNwpbzP",
        "colab_type": "text"
      },
      "source": [
        "[Go to top](#top)"
      ]
    }
  ]
}