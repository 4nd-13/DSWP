{
  "nbformat": 4,
  "nbformat_minor": 0,
  "metadata": {
    "colab": {
      "name": "Untitled0.ipynb",
      "version": "0.3.2",
      "provenance": [],
      "private_outputs": true,
      "toc_visible": true,
      "include_colab_link": true
    },
    "kernelspec": {
      "name": "python3",
      "display_name": "Python 3"
    }
  },
  "cells": [
    {
      "cell_type": "markdown",
      "metadata": {
        "id": "view-in-github",
        "colab_type": "text"
      },
      "source": [
        "<a href=\"https://colab.research.google.com/github/MathMachado/Python_RFB/blob/DS_Python/Data%20Analysis%20with%20Pandas.ipynb\" target=\"_parent\"><img src=\"https://colab.research.google.com/assets/colab-badge.svg\" alt=\"Open In Colab\"/></a>"
      ]
    },
    {
      "cell_type": "markdown",
      "metadata": {
        "id": "_eradxaM1Rp8",
        "colab_type": "text"
      },
      "source": [
        "# Melhorias da sessão\n",
        "* Desenvolver o conteúdo de Missing Values;\n",
        "* Desenvolver \"Querying a Dataframe\";\n",
        "* Desenvolver \"Subsetting\";\n",
        "* Incluir o uso do isin: https://www.geeksforgeeks.org/python-pandas-dataframe-isin/#targetText=Pandas%20isin()%20method%20is,value%20in%20a%20particular%20column.&targetText=Parameters%3A,the%20caller%20Series%2FData%20Frame.\n"
      ]
    },
    {
      "cell_type": "markdown",
      "metadata": {
        "id": "BUEbp88oD1Km",
        "colab_type": "text"
      },
      "source": [
        "# Data Analysis With Pandas\n",
        "## Library Highlights\n",
        "\n",
        "* Rápida e eficiente library para data manipulation;\n",
        "* Ferramentas para ler e gravar todos os tipos de dados e formatos: CSV, txt, Microsoft Excel, SQL databases e HDF5 format;\n",
        "* Facilidade para tratamento de NaN's;"
      ]
    },
    {
      "cell_type": "markdown",
      "metadata": {
        "id": "wkxQFPPmeKLl",
        "colab_type": "text"
      },
      "source": [
        "![Pandas](https://github.com/MathMachado/Python_RFB/blob/master/Material/Pandas.jpeg?raw=true)"
      ]
    },
    {
      "cell_type": "markdown",
      "metadata": {
        "id": "eKawOG-neqaD",
        "colab_type": "text"
      },
      "source": [
        "![Pandas](https://github.com/MathMachado/Python_RFB/blob/master/Material/Pandas2.jpeg?raw=true)"
      ]
    },
    {
      "cell_type": "markdown",
      "metadata": {
        "id": "O7YKF5gB2x0K",
        "colab_type": "text"
      },
      "source": [
        "![RightToolForEachSize](https://github.com/MathMachado/Python_RFB/blob/DS_Python/Material/SizesAndTools.PNG?raw=true)\n",
        "\n",
        "Source: [Pandas, Dask or PySpark? What Should You Choose for Your Dataset?](https://medium.com/datadriveninvestor/pandas-dask-or-pyspark-what-should-you-choose-for-your-dataset-c0f67e1b1d36)"
      ]
    },
    {
      "cell_type": "markdown",
      "metadata": {
        "id": "yEyzjGUfG33-",
        "colab_type": "text"
      },
      "source": [
        "# Verificando a versão do Pandas"
      ]
    },
    {
      "cell_type": "code",
      "metadata": {
        "id": "oVMjT3DrG97K",
        "colab_type": "code",
        "colab": {}
      },
      "source": [
        "# Carrega a library Pandas\n",
        "import pandas as pd\n",
        "pd.__version__"
      ],
      "execution_count": 0,
      "outputs": []
    },
    {
      "cell_type": "markdown",
      "metadata": {
        "id": "Paz-R-FOAJ7F",
        "colab_type": "text"
      },
      "source": [
        "# Criar um Dataframe a partir de um objeto Dictionary\n",
        "* Revisão de [Dicionários](https://colab.research.google.com/github/MathMachado/Python_RFB/blob/DS_Python/Python%20Dictionaries.ipynb)."
      ]
    },
    {
      "cell_type": "markdown",
      "metadata": {
        "id": "Sa5rKwq6Fscj",
        "colab_type": "text"
      },
      "source": [
        "## Exemplo 1"
      ]
    },
    {
      "cell_type": "code",
      "metadata": {
        "id": "0ofIGkiSSuYq",
        "colab_type": "code",
        "colab": {}
      },
      "source": [
        "Myfruits= {'Apple': [5, 6, 6, 8, 10, 3, 2],\n",
        "          'Avocado': [6, 6, 3, 9, 3, 2, 1]}"
      ],
      "execution_count": 0,
      "outputs": []
    },
    {
      "cell_type": "code",
      "metadata": {
        "id": "iJCNvPlUTzTI",
        "colab_type": "code",
        "colab": {}
      },
      "source": [
        "Myfruits"
      ],
      "execution_count": 0,
      "outputs": []
    },
    {
      "cell_type": "code",
      "metadata": {
        "id": "7Y_0O_tJTfm3",
        "colab_type": "code",
        "colab": {}
      },
      "source": [
        "# index=['Mon', 'Tue', 'Wed', 'Thu', 'Fri', 'Sat', 'Sun'] abaixo define os label_row.\n",
        "MyFruitPurchasesByWeek = pd.DataFrame(Myfruits, index=['Mon', 'Tue', 'Wed', 'Thu', 'Fri', 'Sat', 'Sun'])\n",
        "MyFruitPurchasesByWeek"
      ],
      "execution_count": 0,
      "outputs": []
    },
    {
      "cell_type": "markdown",
      "metadata": {
        "id": "l2ll8ktfUKz2",
        "colab_type": "text"
      },
      "source": [
        "O que se comprou no sábado?\n",
        "\n",
        "* Função df.loc[label_row] retorna o(s) valor(es) associados à label_row. Em nosso caso, os label_row são 'Mon', 'Tue', ..., 'Sun'."
      ]
    },
    {
      "cell_type": "code",
      "metadata": {
        "id": "9Voor8_PUJum",
        "colab_type": "code",
        "colab": {}
      },
      "source": [
        "MyFruitPurchasesByWeek.loc['Fri'] # Aqui, label_row= 'Fri'."
      ],
      "execution_count": 0,
      "outputs": []
    },
    {
      "cell_type": "markdown",
      "metadata": {
        "id": "LMh4DTfebwAr",
        "colab_type": "text"
      },
      "source": [
        "* Ou seja, o label_row= 'Fri', que ocupa a posição 4, tem os valores:\n",
        "    * Apple..: 10\n",
        "    * Avocado: 3\n",
        "\n",
        "Da mesma forma, poderíamos utilizar a função df.iloc[index] para retornar o conteúdo/informações de index."
      ]
    },
    {
      "cell_type": "code",
      "metadata": {
        "id": "GJxawdh6bvJN",
        "colab_type": "code",
        "colab": {}
      },
      "source": [
        "MyFruitPurchasesByWeek.iloc[4]"
      ],
      "execution_count": 0,
      "outputs": []
    },
    {
      "cell_type": "markdown",
      "metadata": {
        "id": "obJt9OPGcL-x",
        "colab_type": "text"
      },
      "source": [
        "Portanto, df.loc['Fri'] = df.iloc[4]. Correto?\n",
        "\n",
        "Para nos ajudar a memorizar, considere que:\n",
        "\n",
        "* pd.loc[label_row] --> loc começa com a letra **l**, o que remete à label_row.\n",
        "* pd.iloc[index] --> iloc começa com a letra **i**, o que remete à index."
      ]
    },
    {
      "cell_type": "markdown",
      "metadata": {
        "id": "EkjAtbrRF01h",
        "colab_type": "text"
      },
      "source": [
        "## Exemplo 2"
      ]
    },
    {
      "cell_type": "markdown",
      "metadata": {
        "id": "2EOX5MC4E1xL",
        "colab_type": "text"
      },
      "source": [
        "Na prática, lidamos com grandes bancos de dados e, nesses casos, não temos label_row definidos. Para exemplificar, considere o mesmo exemplo que acabamos de ver, com uma pequena alteração:"
      ]
    },
    {
      "cell_type": "code",
      "metadata": {
        "id": "D6FckgDPFFs0",
        "colab_type": "code",
        "colab": {}
      },
      "source": [
        "MyFruitPurchasesByWeek2 = pd.DataFrame(Myfruits) # Observe que aqui não definimos os indíces\n",
        "MyFruitPurchasesByWeek2"
      ],
      "execution_count": 0,
      "outputs": []
    },
    {
      "cell_type": "markdown",
      "metadata": {
        "id": "tkGc4JQcFPkp",
        "colab_type": "text"
      },
      "source": [
        "Veja agora que os label_row são números inteiros de 0 a N. Assim, temos que"
      ]
    },
    {
      "cell_type": "code",
      "metadata": {
        "id": "5YgWG_vlFVe_",
        "colab_type": "code",
        "colab": {}
      },
      "source": [
        "MyFruitPurchasesByWeek2.loc[4]"
      ],
      "execution_count": 0,
      "outputs": []
    },
    {
      "cell_type": "code",
      "metadata": {
        "id": "xB1j4n6HFank",
        "colab_type": "code",
        "colab": {}
      },
      "source": [
        "MyFruitPurchasesByWeek2.iloc[4]"
      ],
      "execution_count": 0,
      "outputs": []
    },
    {
      "cell_type": "markdown",
      "metadata": {
        "id": "jEbCke3TFf_q",
        "colab_type": "text"
      },
      "source": [
        "Ou seja, nesses casos, tanto faz usar pd.loc[] ou pd.iloc[]. Entendeu?"
      ]
    },
    {
      "cell_type": "markdown",
      "metadata": {
        "id": "Lf4l9zk2F4Au",
        "colab_type": "text"
      },
      "source": [
        "## Exemplo 3\n",
        "* A partir de agora, considere o dicionário a seguir:"
      ]
    },
    {
      "cell_type": "code",
      "metadata": {
        "id": "kbHHuMzzAR1A",
        "colab_type": "code",
        "colab": {}
      },
      "source": [
        "dStudents= {'name': ['Jack', 'Richard', 'Tommy', 'Ana'], \n",
        "            'Age': [25, 34, 18, 21],\n",
        "           'City': ['Sydney', 'Rio de Janeiro', 'Lisbon', 'New York'],\n",
        "           'Country': ['Australia', 'Brazil', 'Portugal', 'United States']}"
      ],
      "execution_count": 0,
      "outputs": []
    },
    {
      "cell_type": "code",
      "metadata": {
        "id": "ayKqLmHTANOu",
        "colab_type": "code",
        "colab": {}
      },
      "source": [
        "# Mostrar o conteúdo do dicionário dStudents...\n",
        "dStudents"
      ],
      "execution_count": 0,
      "outputs": []
    },
    {
      "cell_type": "code",
      "metadata": {
        "id": "0ONA8QsBBP6R",
        "colab_type": "code",
        "colab": {}
      },
      "source": [
        "# Keys associadas ao dicionário dStudents\n",
        "dStudents.keys()"
      ],
      "execution_count": 0,
      "outputs": []
    },
    {
      "cell_type": "code",
      "metadata": {
        "id": "k8mmvKQ_BjO6",
        "colab_type": "code",
        "colab": {}
      },
      "source": [
        "# Itens associados ao dicionário dStudents\n",
        "dStudents.items()"
      ],
      "execution_count": 0,
      "outputs": []
    },
    {
      "cell_type": "code",
      "metadata": {
        "id": "hcm8V_UmBr1Y",
        "colab_type": "code",
        "colab": {}
      },
      "source": [
        "# Valores associados ao dicionário dStudents\n",
        "dStudents.values()"
      ],
      "execution_count": 0,
      "outputs": []
    },
    {
      "cell_type": "markdown",
      "metadata": {
        "id": "KK7IejsPDkWC",
        "colab_type": "text"
      },
      "source": [
        "Temos uma key= 'name'. Qual o conteúdo desta key?"
      ]
    },
    {
      "cell_type": "code",
      "metadata": {
        "id": "eHvPpeiTBwoR",
        "colab_type": "code",
        "colab": {}
      },
      "source": [
        "dStudents['name']"
      ],
      "execution_count": 0,
      "outputs": []
    },
    {
      "cell_type": "markdown",
      "metadata": {
        "id": "S1y7p8CcDsXl",
        "colab_type": "text"
      },
      "source": [
        "Qual o output da expressão a seguir:"
      ]
    },
    {
      "cell_type": "code",
      "metadata": {
        "id": "26WIDl-HB3Bq",
        "colab_type": "code",
        "colab": {}
      },
      "source": [
        "dStudents['name'][0]"
      ],
      "execution_count": 0,
      "outputs": []
    },
    {
      "cell_type": "markdown",
      "metadata": {
        "id": "gV68kQ5HCIif",
        "colab_type": "text"
      },
      "source": [
        "Criando o dataframe df_Students a partir do dicionário dStudents:"
      ]
    },
    {
      "cell_type": "code",
      "metadata": {
        "id": "2oa808hkCSaq",
        "colab_type": "code",
        "colab": {}
      },
      "source": [
        "df_Students= pd.DataFrame(dStudents)"
      ],
      "execution_count": 0,
      "outputs": []
    },
    {
      "cell_type": "code",
      "metadata": {
        "id": "7HLp0FYpCiSc",
        "colab_type": "code",
        "colab": {}
      },
      "source": [
        "# Mostra o conteúdo do dataframe df_Students...\n",
        "df_Students"
      ],
      "execution_count": 0,
      "outputs": []
    },
    {
      "cell_type": "markdown",
      "metadata": {
        "id": "en06lfazciE0",
        "colab_type": "text"
      },
      "source": [
        "**Atenção**: Observe que nesse caso, não definimos labels para as linhas. Na prática, isso é o mais comum, ou seja, os label_row = index, que aqui são números inteiros de 0 a N."
      ]
    },
    {
      "cell_type": "markdown",
      "metadata": {
        "id": "gFaPp-S-cy1-",
        "colab_type": "text"
      },
      "source": [
        "Mais uma vez, vamos usar df.loc[] e df.iloc[]..."
      ]
    },
    {
      "cell_type": "code",
      "metadata": {
        "id": "mT9vwRBidGXX",
        "colab_type": "code",
        "colab": {}
      },
      "source": [
        "# Mostrando o conteúdo de da linha 3 usando df.loc[]\n",
        "df_Students.loc[3]"
      ],
      "execution_count": 0,
      "outputs": []
    },
    {
      "cell_type": "markdown",
      "metadata": {
        "id": "Zj88AwHUdix0",
        "colab_type": "text"
      },
      "source": [
        "OU"
      ]
    },
    {
      "cell_type": "code",
      "metadata": {
        "id": "SP2mG8todkMe",
        "colab_type": "code",
        "colab": {}
      },
      "source": [
        "# Mostrando o conteúdo de da linha 3 usando df.loc[]\n",
        "df_Students.iloc[3]"
      ],
      "execution_count": 0,
      "outputs": []
    },
    {
      "cell_type": "markdown",
      "metadata": {
        "id": "hzbLO0EDGWTf",
        "colab_type": "text"
      },
      "source": [
        "Ok, já discutimos isso anteriormente. Quando não temos labels para as linhas, então iloc[] = loc[]"
      ]
    },
    {
      "cell_type": "markdown",
      "metadata": {
        "id": "VvzVg7SpeOOB",
        "colab_type": "text"
      },
      "source": [
        "# Criando um Dataframe a partir de um objeto list\n",
        "* Considere a lista de frutas a seguir:"
      ]
    },
    {
      "cell_type": "code",
      "metadata": {
        "id": "0_PY9OROeUiT",
        "colab_type": "code",
        "colab": {}
      },
      "source": [
        "lFruits = [('Melon', 6,8,5,4,6,2,8), ('Avocado', 6,6,3,8,9,3,1), ('Blueberry', 7,5,9,3,1,0,4)]"
      ],
      "execution_count": 0,
      "outputs": []
    },
    {
      "cell_type": "code",
      "metadata": {
        "id": "k49lUX7yfUKT",
        "colab_type": "code",
        "colab": {}
      },
      "source": [
        "lFruits"
      ],
      "execution_count": 0,
      "outputs": []
    },
    {
      "cell_type": "code",
      "metadata": {
        "id": "AfE_rHq5g4_P",
        "colab_type": "code",
        "colab": {}
      },
      "source": [
        "type(lFruits)"
      ],
      "execution_count": 0,
      "outputs": []
    },
    {
      "cell_type": "code",
      "metadata": {
        "id": "ZpdPSi7RgVjK",
        "colab_type": "code",
        "colab": {}
      },
      "source": [
        "lFruits[0]"
      ],
      "execution_count": 0,
      "outputs": []
    },
    {
      "cell_type": "code",
      "metadata": {
        "id": "NMyIpVW8gZTH",
        "colab_type": "code",
        "colab": {}
      },
      "source": [
        "lFruits[0][0]"
      ],
      "execution_count": 0,
      "outputs": []
    },
    {
      "cell_type": "code",
      "metadata": {
        "id": "-cyZVqQFhjjg",
        "colab_type": "code",
        "colab": {}
      },
      "source": [
        "# Lista contendo os dias da semana:\n",
        "lColumns_Name= ['Fruits', 'Sun', 'Mon', 'Tue', 'Wed', 'Thu', 'Fri', 'Sat']\n",
        "lColumns_Name"
      ],
      "execution_count": 0,
      "outputs": []
    },
    {
      "cell_type": "code",
      "metadata": {
        "id": "wplKvgayfZm_",
        "colab_type": "code",
        "colab": {}
      },
      "source": [
        "# Convertendo as listas em dataframe\n",
        "df_Fruits = pd.DataFrame(lFruits, columns = lColumns_Name) # Observe que aqui, o nome das colunas é uma lista.\n",
        "df_Fruits"
      ],
      "execution_count": 0,
      "outputs": []
    },
    {
      "cell_type": "markdown",
      "metadata": {
        "id": "GojgsAXTFZmB",
        "colab_type": "text"
      },
      "source": [
        "# Copiando o dataframe"
      ]
    },
    {
      "cell_type": "code",
      "metadata": {
        "id": "No5A7nHDFbsy",
        "colab_type": "code",
        "colab": {}
      },
      "source": [
        "df_Students_Copy= df_Students.copy()"
      ],
      "execution_count": 0,
      "outputs": []
    },
    {
      "cell_type": "markdown",
      "metadata": {
        "id": "Fbm-8cCUFgJa",
        "colab_type": "text"
      },
      "source": [
        "Agora,  dataframe df_Students_Copy é uma cópia do dataframe df_Students"
      ]
    },
    {
      "cell_type": "code",
      "metadata": {
        "id": "zKrf8j1BFoID",
        "colab_type": "code",
        "colab": {}
      },
      "source": [
        "df_Students_Copy"
      ],
      "execution_count": 0,
      "outputs": []
    },
    {
      "cell_type": "markdown",
      "metadata": {
        "id": "SuL8WUxL-u6-",
        "colab_type": "text"
      },
      "source": [
        "# Renomear colunas do dataframe\n",
        "> **Snippet**: \n",
        "\n",
        "    * df.rename(columns= {'Old_Name': 'New_Name'}, inplace= True)\n",
        "    * df= df.rename(columns= {'Old_Name': 'New_Name'})"
      ]
    },
    {
      "cell_type": "markdown",
      "metadata": {
        "id": "IvpCfmQnIZKl",
        "colab_type": "text"
      },
      "source": [
        "Suponha que quero renomear a coluna/variável 'name' para 'Client_Name', que é um nome mais sugestivo."
      ]
    },
    {
      "cell_type": "code",
      "metadata": {
        "id": "FwzXjYJgCvGk",
        "colab_type": "code",
        "colab": {}
      },
      "source": [
        "df_Students= df_Students.rename(columns= {'name': 'Client_Name'})\n",
        "# O comando abaixo produz o mesmo resultado:\n",
        "# df_Students.rename(columns= {'name': 'Client_Name'}, inplace= True)"
      ],
      "execution_count": 0,
      "outputs": []
    },
    {
      "cell_type": "code",
      "metadata": {
        "id": "DwVMldKiF5gS",
        "colab_type": "code",
        "colab": {}
      },
      "source": [
        "# Mostrando o conteúdo de df_Students após renomearmos a coluna/variável 'name' para 'Clien_Name'...\n",
        "df_Students"
      ],
      "execution_count": 0,
      "outputs": []
    },
    {
      "cell_type": "markdown",
      "metadata": {
        "id": "m-WZBLWqELOv",
        "colab_type": "text"
      },
      "source": [
        "Agora, suponha que queremos renomear 'Age' para 'Client_Age', 'City' para 'Client_City' e 'Country' para 'Client_Country'..."
      ]
    },
    {
      "cell_type": "code",
      "metadata": {
        "id": "VS6ua4u1EX5g",
        "colab_type": "code",
        "colab": {}
      },
      "source": [
        "df_Students.rename(columns= {'Age': 'Client_Age', 'City': 'Client_City', 'Country': 'Client_Country'}, inplace= True)\n",
        "\n",
        "# O comando abaixo produz o mesmo resultado:\n",
        "#df_Students= df_Students.rename(columns= {'Age': 'Client_Age', 'City': 'Client_City', 'Country': 'Client_Country'}, inplace= True)"
      ],
      "execution_count": 0,
      "outputs": []
    },
    {
      "cell_type": "code",
      "metadata": {
        "id": "EOb1-TEKGM9I",
        "colab_type": "code",
        "colab": {}
      },
      "source": [
        "# Mostrando o conteúdo de df_Students após a múltipla operação de renomear...\n",
        "df_Students"
      ],
      "execution_count": 0,
      "outputs": []
    },
    {
      "cell_type": "markdown",
      "metadata": {
        "id": "q0IZZjLRJlU6",
        "colab_type": "text"
      },
      "source": [
        "Alguma dúvida até aqui?\n",
        "Tudo bem até aqui?"
      ]
    },
    {
      "cell_type": "markdown",
      "metadata": {
        "id": "5LwL2m5KbLYz",
        "colab_type": "text"
      },
      "source": [
        "## Challenge\n",
        "* Como lowercase todas as colunas do dataframe df_Students?"
      ]
    },
    {
      "cell_type": "markdown",
      "metadata": {
        "id": "MURfzmeLbUzF",
        "colab_type": "text"
      },
      "source": [
        "**Minha solução**:"
      ]
    },
    {
      "cell_type": "code",
      "metadata": {
        "id": "hlSlfcoub8gH",
        "colab_type": "code",
        "colab": {}
      },
      "source": [
        "# Coloco o nome das colunas/variáveis numa lista:\n",
        "lColumnsOfStudents= df_Students.columns\n",
        "lColumnsOfStudents"
      ],
      "execution_count": 0,
      "outputs": []
    },
    {
      "cell_type": "code",
      "metadata": {
        "id": "I_IGvEK4bdQP",
        "colab_type": "code",
        "colab": {}
      },
      "source": [
        "# Lowercase todas as colunas\n",
        "df_Students.columns = [col.lower() for col in lColumnsOfStudents]"
      ],
      "execution_count": 0,
      "outputs": []
    },
    {
      "cell_type": "code",
      "metadata": {
        "id": "0qzzAa3ycKmF",
        "colab_type": "code",
        "colab": {}
      },
      "source": [
        "# Mostrando o conteúdo do dataframe df_Students\n",
        "df_Students"
      ],
      "execution_count": 0,
      "outputs": []
    },
    {
      "cell_type": "markdown",
      "metadata": {
        "id": "c-u-ndMPV_KX",
        "colab_type": "text"
      },
      "source": [
        "# Adicionar/Acrescentar novas linhas ao dataframe"
      ]
    },
    {
      "cell_type": "markdown",
      "metadata": {
        "id": "MDkWbukBLhw7",
        "colab_type": "text"
      },
      "source": [
        "## Usando um objeto dictionary\n",
        "* É necessário informar {'Column_Name': value} para cada inserção. Por exemplo, vou adicionar o seguinte registro ao dataframe:\n",
        "    * client_name= 'Anderson';\n",
        "    * client_age= 22;\n",
        "    * client_city= 'Porto';\n",
        "    * client_country= 'Portugal'"
      ]
    },
    {
      "cell_type": "code",
      "metadata": {
        "id": "GECPO7iyK9UU",
        "colab_type": "code",
        "colab": {}
      },
      "source": [
        "df_Students"
      ],
      "execution_count": 0,
      "outputs": []
    },
    {
      "cell_type": "code",
      "metadata": {
        "id": "XQKqqC93LoQ_",
        "colab_type": "code",
        "colab": {}
      },
      "source": [
        "df_Students_Copia= df_Students.copy()\n",
        "df_Students.append({'Client_Name': 'Anderson', \n",
        "               'Client_Age': 22,\n",
        "               'Client_City': 'Porto',\n",
        "               'Client_Country': 'Portugal'}, ignore_index= True)"
      ],
      "execution_count": 0,
      "outputs": []
    },
    {
      "cell_type": "markdown",
      "metadata": {
        "id": "bdBttsHNLjd-",
        "colab_type": "text"
      },
      "source": [
        "Esse é o resultado que desejamos?\n",
        "Saberia explicar-nos o que houve de errado?"
      ]
    },
    {
      "cell_type": "markdown",
      "metadata": {
        "id": "6jDoq6CCMerp",
        "colab_type": "text"
      },
      "source": [
        "**DICA**: Lembre-se que no passo anterior, reescrevemos todos os nomes das colunas para lowercase."
      ]
    },
    {
      "cell_type": "code",
      "metadata": {
        "id": "ffReAaUHLvEF",
        "colab_type": "code",
        "colab": {}
      },
      "source": [
        "# Definindo df_Students novamente usando a cópia df_Students_Copia\n",
        "df_Students= df_Students_Copia.copy()\n",
        "df_Students"
      ],
      "execution_count": 0,
      "outputs": []
    },
    {
      "cell_type": "markdown",
      "metadata": {
        "id": "EzTo-IvmM2Fg",
        "colab_type": "text"
      },
      "source": [
        "Ok, restabelecemos a cópia de df_Students. Agora vamos à forma correta:"
      ]
    },
    {
      "cell_type": "code",
      "metadata": {
        "id": "IRhE76i4M6d6",
        "colab_type": "code",
        "colab": {}
      },
      "source": [
        "df_Students.append({'client_name': 'Anderson', \n",
        "               'client_age': 22,\n",
        "               'client_city': 'Porto',\n",
        "               'client_country': 'Portugal'}, ignore_index= True)"
      ],
      "execution_count": 0,
      "outputs": []
    },
    {
      "cell_type": "markdown",
      "metadata": {
        "id": "jAojB2MMNDRJ",
        "colab_type": "text"
      },
      "source": [
        "Bom, esse é o resultado que estávamos à espera..."
      ]
    },
    {
      "cell_type": "markdown",
      "metadata": {
        "id": "5czZb-5wNp_F",
        "colab_type": "text"
      },
      "source": [
        "## Adicionando/Acrescentando novas linhas usando objetos Serie\n",
        "* Como exemplo, considere que queremos adicionar os seguintes dados:\n",
        "    * client_name= 'Bill';\n",
        "    * client_age= 30;\n",
        "    * client_city= 'São Paulo';\n",
        "    * client_country= 'Brazil'"
      ]
    },
    {
      "cell_type": "code",
      "metadata": {
        "id": "J3qCydqMNtGt",
        "colab_type": "code",
        "colab": {}
      },
      "source": [
        "NewLines= pd.Series(['Bill', 30, 'Sao Paulo', 'Brazil'], index= df_Students.columns) # Olha que interessante: estamos a usar index= df_Students.columns."
      ],
      "execution_count": 0,
      "outputs": []
    },
    {
      "cell_type": "markdown",
      "metadata": {
        "id": "g_DyMDrNPrmC",
        "colab_type": "text"
      },
      "source": [
        "Vamos ver o conteúdo de NewLines:"
      ]
    },
    {
      "cell_type": "code",
      "metadata": {
        "id": "jDQUl0RBPoLB",
        "colab_type": "code",
        "colab": {}
      },
      "source": [
        "NewLines"
      ],
      "execution_count": 0,
      "outputs": []
    },
    {
      "cell_type": "markdown",
      "metadata": {
        "id": "zMKRNQrsPvxp",
        "colab_type": "text"
      },
      "source": [
        "Por fim, adiciona/acrescenta NewLines ao dataframe df_Students..."
      ]
    },
    {
      "cell_type": "code",
      "metadata": {
        "id": "5mEQg26iPw4A",
        "colab_type": "code",
        "colab": {}
      },
      "source": [
        "df_Students= df_Students.append(NewLines, ignore_index= True)\n",
        "df_Students"
      ],
      "execution_count": 0,
      "outputs": []
    },
    {
      "cell_type": "markdown",
      "metadata": {
        "id": "Biwk2McAWW1Z",
        "colab_type": "text"
      },
      "source": [
        "# Adicionar/acrescentar novas colunas ao Dataframe"
      ]
    },
    {
      "cell_type": "markdown",
      "metadata": {
        "id": "EZFTH7A-Wpw5",
        "colab_type": "text"
      },
      "source": [
        "## Usando objetos Lists\n",
        "* Suponha que queremos adicionar a coluna/variável 'Score'"
      ]
    },
    {
      "cell_type": "code",
      "metadata": {
        "id": "pPoObAKJW6YF",
        "colab_type": "code",
        "colab": {}
      },
      "source": [
        "# Acrescentando ou criando a coluna/variável 'Score' ao dataframe usando um objeto list\n",
        "df_Students['Score']= [500, 300, 200, 800, 700]"
      ],
      "execution_count": 0,
      "outputs": []
    },
    {
      "cell_type": "code",
      "metadata": {
        "id": "Ocbh8sZqWsoW",
        "colab_type": "code",
        "colab": {}
      },
      "source": [
        "# Show the contents of Students...\n",
        "df_Students"
      ],
      "execution_count": 0,
      "outputs": []
    },
    {
      "cell_type": "markdown",
      "metadata": {
        "id": "ZxfCMcVxYQgL",
        "colab_type": "text"
      },
      "source": [
        "> **Atenção**:\n",
        "\n",
        "* Se a quantidade de valores da lista forem menores que o número de linhas do dataframe, então o Python apresenta um erro.\n",
        "* Se a coluna/variável que queremos inserir já existe no dataframe, então os valores serão atualizados com os novos."
      ]
    },
    {
      "cell_type": "markdown",
      "metadata": {
        "id": "34ntllD_YbNa",
        "colab_type": "text"
      },
      "source": [
        "## Usando um valor default\n",
        "* Adicionar a coluna 'Total' com o mesmo valor para todas as linhas"
      ]
    },
    {
      "cell_type": "code",
      "metadata": {
        "id": "T7QSMJMQYous",
        "colab_type": "code",
        "colab": {}
      },
      "source": [
        "df_Students['Total']= 500\n",
        "df_Students"
      ],
      "execution_count": 0,
      "outputs": []
    },
    {
      "cell_type": "markdown",
      "metadata": {
        "id": "gll-gJt7as3C",
        "colab_type": "text"
      },
      "source": [
        "## Adicionando uma variável calculada a partir de outras colunas/variáveis"
      ]
    },
    {
      "cell_type": "code",
      "metadata": {
        "id": "T_pB_isBaw-E",
        "colab_type": "code",
        "colab": {}
      },
      "source": [
        "df_Students['Percentagem']= 100*(df_Students['Score']/sum(df_Students['Score']))\n",
        "df_Students"
      ],
      "execution_count": 0,
      "outputs": []
    },
    {
      "cell_type": "markdown",
      "metadata": {
        "id": "GBghRzovbuLL",
        "colab_type": "text"
      },
      "source": [
        "## Adicionando colunas/variáveis usando df.assign()\n",
        "> Função: pd.assign()\n",
        "\n",
        "* Suponha que queremos adicionar a coluna 'Marks_Math' com as notas de Matemática:"
      ]
    },
    {
      "cell_type": "code",
      "metadata": {
        "id": "AlHOz6WNcdDO",
        "colab_type": "code",
        "colab": {}
      },
      "source": [
        "df_Students"
      ],
      "execution_count": 0,
      "outputs": []
    },
    {
      "cell_type": "code",
      "metadata": {
        "id": "0BWEJY3Acqo7",
        "colab_type": "code",
        "colab": {}
      },
      "source": [
        "from random import seed\n",
        "from random import randint # To generate random in numbers\n",
        "\n",
        "# set the seed - for reasons of reproducibility\n",
        "seed(20111974)"
      ],
      "execution_count": 0,
      "outputs": []
    },
    {
      "cell_type": "code",
      "metadata": {
        "id": "RgjBNjErcw4I",
        "colab_type": "code",
        "colab": {}
      },
      "source": [
        "# Objetivo: Gerar 5 números inteiros aleatoriamente, de 0 to 10. Porque vamos gerar 5 números?\n",
        "lValue= []\n",
        "for i in range(5):\n",
        "    iRandom= randint(0, 10)\n",
        "    lValue.append(iRandom)"
      ],
      "execution_count": 0,
      "outputs": []
    },
    {
      "cell_type": "markdown",
      "metadata": {
        "id": "1NnwhH8BfNze",
        "colab_type": "text"
      },
      "source": [
        "Mostra o conteúdo de lValue..."
      ]
    },
    {
      "cell_type": "code",
      "metadata": {
        "id": "6N6A4a3nfKSz",
        "colab_type": "code",
        "colab": {}
      },
      "source": [
        "lValue"
      ],
      "execution_count": 0,
      "outputs": []
    },
    {
      "cell_type": "code",
      "metadata": {
        "id": "y8on7AMrcSZV",
        "colab_type": "code",
        "colab": {}
      },
      "source": [
        "df_Students= df_Students.assign(Marks_Math= [lValue[0], lValue[1], lValue[2], lValue[3], lValue[4]])"
      ],
      "execution_count": 0,
      "outputs": []
    },
    {
      "cell_type": "markdown",
      "metadata": {
        "id": "-XWOr4GtfzyI",
        "colab_type": "text"
      },
      "source": [
        "Mostra o conteúdo de df_Students..."
      ]
    },
    {
      "cell_type": "code",
      "metadata": {
        "id": "1X9lY87eb8Tl",
        "colab_type": "code",
        "colab": {}
      },
      "source": [
        "df_Students"
      ],
      "execution_count": 0,
      "outputs": []
    },
    {
      "cell_type": "markdown",
      "metadata": {
        "id": "D9TNylt84hle",
        "colab_type": "text"
      },
      "source": [
        "# Lendo/carregando dados com Python\n",
        "\n",
        "* Vários formatos de arquivos podem ser lidos. Considere a tabela a seguir:\n",
        "\n",
        "|Format Type | Data Description | Reader | Writer |\n",
        "|---|---|---|---|\n",
        "text | CSV | read_csv | to_csv |\n",
        "text | JSON | read_json | to_json |\n",
        "text | HTML | read_html | to_html |\n",
        "text | Local clipboard | read_clipboard | to_clipboard |\n",
        "binary | MS Excel | read_excel | to_excel |\n",
        "binary | HDF5 Format | read_hdf | to_hdf |\n",
        "binary | Stata | read_stata | to_stata |\n",
        "binary | SAS | read_sas \n",
        "binary | Python Pickle Format | read_pickle | to_pickle |\n",
        "SQL | SQL | read_sql | to_sql |\n",
        "SQL | Google Big Query | read_gbq | to_gbq |"
      ]
    },
    {
      "cell_type": "markdown",
      "metadata": {
        "id": "Ss8jLEUSblDm",
        "colab_type": "text"
      },
      "source": [
        "## Lendo csv"
      ]
    },
    {
      "cell_type": "markdown",
      "metadata": {
        "id": "exWsHDHaeQtr",
        "colab_type": "text"
      },
      "source": [
        "Source: https://www.kaggle.com/mlg-ulb/creditcardfraud"
      ]
    },
    {
      "cell_type": "code",
      "metadata": {
        "id": "n8e9aphab_oe",
        "colab_type": "code",
        "colab": {}
      },
      "source": [
        "# Load the Pandas library\n",
        "import pandas as pd\n",
        "from google.colab import files"
      ],
      "execution_count": 0,
      "outputs": []
    },
    {
      "cell_type": "code",
      "metadata": {
        "id": "1R9YoFJ02TR7",
        "colab_type": "code",
        "colab": {}
      },
      "source": [
        "url= 'https://raw.githubusercontent.com/MathMachado/Python_RFB/DS_Python/Dataframes/creditcard.csv?token=AGDJQ64DGYN5PWQJZFA4PIC5OLD5E'\n",
        "cc = pd.read_csv(url)"
      ],
      "execution_count": 0,
      "outputs": []
    },
    {
      "cell_type": "markdown",
      "metadata": {
        "id": "GpJDX-5xUUC0",
        "colab_type": "text"
      },
      "source": [
        "## Mostrando as primeiras k linhas do dataframe\n",
        "> df.head(k), onde k é o número de linhas que queremos visualizar. Por default, k= 10."
      ]
    },
    {
      "cell_type": "code",
      "metadata": {
        "id": "RwC9j_OxUbIR",
        "colab_type": "code",
        "colab": {}
      },
      "source": [
        "cc.head()"
      ],
      "execution_count": 0,
      "outputs": []
    },
    {
      "cell_type": "markdown",
      "metadata": {
        "id": "G9cp2QrsA5M0",
        "colab_type": "text"
      },
      "source": [
        "## Mostrando as últimas k linhas do dataframe\n",
        "> df.tail(k), onde k é o número de linhas que queremos ver. Por default, k= 10."
      ]
    },
    {
      "cell_type": "code",
      "metadata": {
        "id": "9mPxyhqoA4Wc",
        "colab_type": "code",
        "colab": {}
      },
      "source": [
        "cc.tail()"
      ],
      "execution_count": 0,
      "outputs": []
    },
    {
      "cell_type": "markdown",
      "metadata": {
        "id": "Odwm2qSLA_Ro",
        "colab_type": "text"
      },
      "source": [
        "By default, df.tail() show the last 5 rows. But to see the last 10 rows, just use the command below:"
      ]
    },
    {
      "cell_type": "code",
      "metadata": {
        "id": "pUAnR00WA8ma",
        "colab_type": "code",
        "colab": {}
      },
      "source": [
        "cc.tail(10)"
      ],
      "execution_count": 0,
      "outputs": []
    },
    {
      "cell_type": "markdown",
      "metadata": {
        "id": "cZ64LfWv4zxo",
        "colab_type": "text"
      },
      "source": [
        "## Mostrando o nome das colunas"
      ]
    },
    {
      "cell_type": "code",
      "metadata": {
        "id": "CKUUrX5n4zFW",
        "colab_type": "code",
        "colab": {}
      },
      "source": [
        "cc.columns"
      ],
      "execution_count": 0,
      "outputs": []
    },
    {
      "cell_type": "markdown",
      "metadata": {
        "id": "6m7ukrOu5Inv",
        "colab_type": "text"
      },
      "source": [
        "## Mostrando os tipos das colunas"
      ]
    },
    {
      "cell_type": "code",
      "metadata": {
        "id": "rgGkT-TY-YuN",
        "colab_type": "code",
        "colab": {}
      },
      "source": [
        "cc.dtypes"
      ],
      "execution_count": 0,
      "outputs": []
    },
    {
      "cell_type": "markdown",
      "metadata": {
        "id": "Cj4MREti-izC",
        "colab_type": "text"
      },
      "source": [
        "## Mostrando a dimensão do dataframe"
      ]
    },
    {
      "cell_type": "code",
      "metadata": {
        "id": "50Tij93l-n7B",
        "colab_type": "code",
        "colab": {}
      },
      "source": [
        "cc.shape"
      ],
      "execution_count": 0,
      "outputs": []
    },
    {
      "cell_type": "markdown",
      "metadata": {
        "id": "ZQo4YeH_-qfL",
        "colab_type": "text"
      },
      "source": [
        "Qual a interpretação desta informação acima?"
      ]
    },
    {
      "cell_type": "markdown",
      "metadata": {
        "id": "klHcwpPEALP8",
        "colab_type": "text"
      },
      "source": [
        "### **Quebrando a dimensão**\n",
        "* Número de linhas do dataframe.: cc.shape[0]\n",
        "* Número de colunas do dataframe: cc.shape[1]"
      ]
    },
    {
      "cell_type": "code",
      "metadata": {
        "id": "qjR8OEdDAOog",
        "colab_type": "code",
        "colab": {}
      },
      "source": [
        "f'O dataframe cc possui {cc.shape[0]} linhas e {cc.shape[1]} colunas'"
      ],
      "execution_count": 0,
      "outputs": []
    },
    {
      "cell_type": "markdown",
      "metadata": {
        "id": "JdKXY873HrYt",
        "colab_type": "text"
      },
      "source": [
        "# Combinando dataframes: Merge & Join"
      ]
    },
    {
      "cell_type": "code",
      "metadata": {
        "id": "U0bI5vRYdS_Z",
        "colab_type": "code",
        "colab": {}
      },
      "source": [
        "import pandas as pd"
      ],
      "execution_count": 0,
      "outputs": []
    },
    {
      "cell_type": "code",
      "metadata": {
        "id": "PuIZGXULH4dy",
        "colab_type": "code",
        "colab": {}
      },
      "source": [
        "Full_Info= pd.DataFrame({'Sex': ['F','F','M','M','F','M','F','M','F','M','F','F','M'],\n",
        "                     'email': ['Pietra_Cardoso@hotmail.com','Laura_Mendes@hotmail.com','Pedro_Lucas_da_Mota@yahoo.com','Isaac_Jesus@bol.com.br','Clara_Souza@bol.com.br','Vitor_Gabriel_Melo@google.com','Elisa_Barbosa@bol.com.br','Nicolas_Melo@yahoo.com.br','Ana_Beatriz_Aragao@gmail.com','Nicolas_Silva@bol.com.br','Yasmin_Oliveira@google.com','Luna_Lima@yahoo.com.br','Murilo_Aragao@bol.com.br'],\n",
        "                     'ssn': ['48763512955','81970635401','31645298051','37164528900','49381206740','59140283615','56879130410','20457891360','82047693500','79618543200','81745930639','41978256337','48523071997'], \n",
        "                     'Birth_date': ['13/02/1978','24/01/1982','12/08/1977','16/12/1981','09/01/1993','20/02/1963','26/09/1983','13/10/1967','31/05/1997','12/03/1974','15/11/1996','11/12/1966','18/03/1965'], \n",
        "                     'start_date': ['6/02/2007','15/01/2018','05/08/2004','09/12/2008','04/01/2013','10/02/2002','19/09/2011','03/10/2007','26/05/2019','05/03/2003','10/11/2018','02/12/2003','09/03/2001'],\n",
        "                     'Job': ['Director','Manager','Engineer','Engineer','Engineer','Engineer','Programmer','Director','programmer','Programmer','Programmer','Programmer','Manager'], \n",
        "                     'City': ['Seattle','Chicago','Austin','Austin','Seattle','Austin','NewYork','Seattle','NewYork','NewYork','NewYork','NewYork','Seattle'],\n",
        "                     'Department': ['Product','Devops','Platform','Devops','InternalTools','InternalTools','Sales','Product','Sales','Sales','Sales','Sales','Product'],\n",
        "                     'Years_Of_Experience': [13,14,5,1,2,17,16,14,17,8,11,16,19]})"
      ],
      "execution_count": 0,
      "outputs": []
    },
    {
      "cell_type": "code",
      "metadata": {
        "id": "drUUVmIfdW8B",
        "colab_type": "code",
        "colab": {}
      },
      "source": [
        "Full_Info"
      ],
      "execution_count": 0,
      "outputs": []
    },
    {
      "cell_type": "code",
      "metadata": {
        "id": "-3xKwSXEgbdl",
        "colab_type": "code",
        "colab": {}
      },
      "source": [
        "Boss_Info= pd.DataFrame({'Job': ['Director','Manager','Engineer','Programmer'], \n",
        "                     'Supervisor': ['CEO','Director','Manager','Engineer'],\n",
        "                     'Annual_salary': [159000,134000,98000,60000]})   "
      ],
      "execution_count": 0,
      "outputs": []
    },
    {
      "cell_type": "code",
      "metadata": {
        "id": "ld0mpbOiinDa",
        "colab_type": "code",
        "colab": {}
      },
      "source": [
        "Boss_Info"
      ],
      "execution_count": 0,
      "outputs": []
    },
    {
      "cell_type": "code",
      "metadata": {
        "id": "ns2t9eUMc29U",
        "colab_type": "code",
        "colab": {}
      },
      "source": [
        "My_Data= pd.DataFrame({'First_Name': ['Pietra','Laura','Pedro Lucas','Isaac','Clara','Vitor Gabriel','Elisa','Nicolas','Ana Beatriz','Nicolas','Yasmin','Luna','Murilo'],\n",
        "                    'Second_Name': ['Cardoso','Mendes','da Mota','Jesus','Souza','Melo','Barbosa','Melo','Aragão','Silva','Oliveira','Lima','Aragão'], \n",
        "                     'ssn': ['48763512955','81970635401','31645298051','37164528900','49381206740','59140283615','56879130410','20457891360','82047693500','79618543200','81745930639','41978256337','48523071997'],\n",
        "                      'Job': ['Director','Manager','Engineer','Engineer','Engineer','Engineer','Programmer','Director','programmer','Programmer','Programmer','Programmer','Manager'],}) "
      ],
      "execution_count": 0,
      "outputs": []
    },
    {
      "cell_type": "code",
      "metadata": {
        "id": "JYPyQ6jtdc0h",
        "colab_type": "code",
        "colab": {}
      },
      "source": [
        "My_Data"
      ],
      "execution_count": 0,
      "outputs": []
    },
    {
      "cell_type": "markdown",
      "metadata": {
        "id": "rMxAwZOLdsCr",
        "colab_type": "text"
      },
      "source": [
        "## Join (One-to-one joins)\n",
        "\n",
        "* One-to-one joins significa que temos uma única chave para cada linha do dataframe;\n",
        "* Observe que a chave comum entre o dataframe Full_Info e My_Data é ssn (Social Security Number). Com esta chave comum, fazemos o merge dos dois dataframes."
      ]
    },
    {
      "cell_type": "code",
      "metadata": {
        "id": "cvh68fyzdtW5",
        "colab_type": "code",
        "colab": {}
      },
      "source": [
        "df_Merged = pd.merge(My_Data, Full_Info, on='ssn', how='left')"
      ],
      "execution_count": 0,
      "outputs": []
    },
    {
      "cell_type": "code",
      "metadata": {
        "id": "pGzu6G1Ve8_n",
        "colab_type": "code",
        "colab": {}
      },
      "source": [
        "df_Merged.head()"
      ],
      "execution_count": 0,
      "outputs": []
    },
    {
      "cell_type": "markdown",
      "metadata": {
        "id": "LFfu9XSelCV4",
        "colab_type": "text"
      },
      "source": [
        "**Temos aqui um problema**: Observe que temos uma coluna em comum nos dois dataframes: Job. Portanto, é informação redundante que precisa ser excluída."
      ]
    },
    {
      "cell_type": "markdown",
      "metadata": {
        "id": "MxWjPrnQ85NR",
        "colab_type": "text"
      },
      "source": [
        "O comando a seguir aplica o drop na coluna redundante..."
      ]
    },
    {
      "cell_type": "code",
      "metadata": {
        "id": "k7MmmQwx89iA",
        "colab_type": "code",
        "colab": {}
      },
      "source": [
        "df_Merged = pd.merge(My_Data, Full_Info, on='ssn', how='left').drop('Job_y', axis=1).rename(columns= {'Job_x': 'Job'})\n",
        "df_Merged.head()"
      ],
      "execution_count": 0,
      "outputs": []
    },
    {
      "cell_type": "markdown",
      "metadata": {
        "id": "0O87Dxnxi7Tg",
        "colab_type": "text"
      },
      "source": [
        "Join (Many-to-one joins)"
      ]
    },
    {
      "cell_type": "code",
      "metadata": {
        "id": "ON6zVLqIi_Ln",
        "colab_type": "code",
        "colab": {}
      },
      "source": [
        "df_Merged2 = pd.merge(My_Data, Boss_Info, on='Job', how='left')\n",
        "df_Merged2"
      ],
      "execution_count": 0,
      "outputs": []
    },
    {
      "cell_type": "markdown",
      "metadata": {
        "id": "HJIXlvzgACIR",
        "colab_type": "text"
      },
      "source": [
        "Porque temos alguns 'NaN' na coluna 'Supervisor'?"
      ]
    },
    {
      "cell_type": "markdown",
      "metadata": {
        "id": "5jrIkOANpXhY",
        "colab_type": "text"
      },
      "source": [
        "## Join (Many-to-many joins)\n",
        "\n",
        "* Considere o dataframe de skills abaixo:"
      ]
    },
    {
      "cell_type": "code",
      "metadata": {
        "id": "FM48pf-jpsQf",
        "colab_type": "code",
        "colab": {}
      },
      "source": [
        "df_Skills= pd.DataFrame({'Job': ['Director','Director','Director','Director','Manager','manager','Manager','Engineer','Engineer','Engineer','Engineer','Engineer','Engineer','Programmer','Programmer','Programmer','Programmer','Programmer','Programmer'], \n",
        "                     'skills': ['Negotiation','Decision Making','Leadership','Strategic Thinking','Decision Making','Leadership','Communication','The ability to work under pressure','Problem-solving','Creativity','Interpersonal skills','Teamworking skills','Problem-solving','Creativity','Python','Coding', 'Strategic Thinking', 'The ability to work under pressure', 'Resourcefulness']})   "
      ],
      "execution_count": 0,
      "outputs": []
    },
    {
      "cell_type": "markdown",
      "metadata": {
        "id": "G2B9pBLOswrW",
        "colab_type": "text"
      },
      "source": [
        "Então temos a tabela de skills abaixo. No entanto, observe que há mais de 1 skill para o mesmo Job. Por exemplo, 'Director' possui 4 skills."
      ]
    },
    {
      "cell_type": "code",
      "metadata": {
        "id": "IdcDNXINsqM5",
        "colab_type": "code",
        "colab": {}
      },
      "source": [
        "df_Skills"
      ],
      "execution_count": 0,
      "outputs": []
    },
    {
      "cell_type": "code",
      "metadata": {
        "id": "WEiBMLPetA4C",
        "colab_type": "code",
        "colab": {}
      },
      "source": [
        "df_Merged3 = pd.merge(df_Merged2, df_Skills, on='Job', how='left')\n",
        "df_Merged3.head()"
      ],
      "execution_count": 0,
      "outputs": []
    },
    {
      "cell_type": "markdown",
      "metadata": {
        "id": "Fcmcs1ONAc8_",
        "colab_type": "text"
      },
      "source": [
        "Observe que surgiram 'NaN' na linha 40. Qual a razão desses 'NaN'?"
      ]
    },
    {
      "cell_type": "markdown",
      "metadata": {
        "id": "SkCbLsoktgKl",
        "colab_type": "text"
      },
      "source": [
        "## Comentários:\n",
        "\n",
        "* Em alguns casos a variável chave nos dois dataframes que se quer fazer o join possui nomes diferentes. Neste caso, use 'left_on' e 'right_on' para definir o nome das variáveis chaves no dataframe da esquerda e direita:\n",
        "\n",
        "> pd.merge(df1, df2, left_on=\"employee\", right_on=\"name\")\n",
        "\n",
        "    * No exemplo acima, o dataframe df1 (dataframe da esquerda) possui chave 'employee' enquanto que o dataframe df2 (dataframe da direita), possui chave 'name'. Usando as 'left_on' e 'right_on' fica claro o nome das chaves de ligação de cada dataframe."
      ]
    },
    {
      "cell_type": "markdown",
      "metadata": {
        "id": "Y8W2kP-VCB3E",
        "colab_type": "text"
      },
      "source": [
        "# Selecionando conteúdo do dataframe baseado nos índices"
      ]
    },
    {
      "cell_type": "markdown",
      "metadata": {
        "id": "NN1R1ngAG61x",
        "colab_type": "text"
      },
      "source": [
        "## 1st Approach - pd.loc[]\n",
        "* Para capturar o conteúdo da linha k, use df.loc[row_indexer,column_indexer].\n",
        "\n",
        "Por exemlo, o comando a seguir mostra o conteúdo da linha 0, todas as colunas(:)"
      ]
    },
    {
      "cell_type": "code",
      "metadata": {
        "id": "U5-I2NgYC2fD",
        "colab_type": "code",
        "colab": {}
      },
      "source": [
        "cc.loc[0,:]"
      ],
      "execution_count": 0,
      "outputs": []
    },
    {
      "cell_type": "markdown",
      "metadata": {
        "id": "tDSJcQLTDyJw",
        "colab_type": "text"
      },
      "source": [
        "Mostrando o conteúdo das linhas k= 0:1 (ou seja, linhas 0 e 1), todas as colunas(:)"
      ]
    },
    {
      "cell_type": "code",
      "metadata": {
        "id": "JD1TDTqAD_5r",
        "colab_type": "code",
        "colab": {}
      },
      "source": [
        "cc.loc[0:1, :]"
      ],
      "execution_count": 0,
      "outputs": []
    },
    {
      "cell_type": "markdown",
      "metadata": {
        "id": "EoAmcdfnEIho",
        "colab_type": "text"
      },
      "source": [
        "Mostrar os conteúdos da linha k= 0, coluna 'V1': use..."
      ]
    },
    {
      "cell_type": "code",
      "metadata": {
        "id": "8vjc5z3_EQfY",
        "colab_type": "code",
        "colab": {}
      },
      "source": [
        "cc.loc[0, 'V1']"
      ],
      "execution_count": 0,
      "outputs": []
    },
    {
      "cell_type": "markdown",
      "metadata": {
        "id": "7bC8-H-QFLgd",
        "colab_type": "text"
      },
      "source": [
        "Mostrar os conteúdos da linha k= 0 e colunas 'V1' e 'V2':"
      ]
    },
    {
      "cell_type": "code",
      "metadata": {
        "id": "LYFTrZr_FR5g",
        "colab_type": "code",
        "colab": {}
      },
      "source": [
        "cc.loc[0, ['V1', 'V2']]"
      ],
      "execution_count": 0,
      "outputs": []
    },
    {
      "cell_type": "markdown",
      "metadata": {
        "id": "Tjw3vjkDZg1Z",
        "colab_type": "text"
      },
      "source": [
        "Mostrar os conteúdos da linha k= 0:3 e colunas 'V1' e 'V2':"
      ]
    },
    {
      "cell_type": "code",
      "metadata": {
        "id": "4GuAE5MSZjNb",
        "colab_type": "code",
        "colab": {}
      },
      "source": [
        "cc.loc[0:3, ['V1', 'V2']]"
      ],
      "execution_count": 0,
      "outputs": []
    },
    {
      "cell_type": "markdown",
      "metadata": {
        "id": "xRZxqE6RFnJI",
        "colab_type": "text"
      },
      "source": [
        "Agora suponha que queremos selecionar o conteúdo da coluna 'V1'. Como fazer isso?"
      ]
    },
    {
      "cell_type": "code",
      "metadata": {
        "id": "JdeD_uzfFrp5",
        "colab_type": "code",
        "colab": {}
      },
      "source": [
        "ColumnV1= cc.loc[:, 'V1']\n",
        "ColumnV1"
      ],
      "execution_count": 0,
      "outputs": []
    },
    {
      "cell_type": "markdown",
      "metadata": {
        "id": "RKk0zollHFbp",
        "colab_type": "text"
      },
      "source": [
        "## 2nd Approach - Usando objetos lists"
      ]
    },
    {
      "cell_type": "code",
      "metadata": {
        "id": "jhwoY6LmGzC0",
        "colab_type": "code",
        "colab": {}
      },
      "source": [
        "cc[0:2] # Mostrar os conteúdos das linhas 0:2"
      ],
      "execution_count": 0,
      "outputs": []
    },
    {
      "cell_type": "code",
      "metadata": {
        "id": "I6EOVIDxGiy-",
        "colab_type": "code",
        "colab": {}
      },
      "source": [
        "cc[:3] # Mostrar os conteúdos até a linha 3"
      ],
      "execution_count": 0,
      "outputs": []
    },
    {
      "cell_type": "code",
      "metadata": {
        "id": "VOHp77F8H9t1",
        "colab_type": "code",
        "colab": {}
      },
      "source": [
        "cc['V1'] # Mostrar o conteúdo inteiro da variável 'V1'"
      ],
      "execution_count": 0,
      "outputs": []
    },
    {
      "cell_type": "markdown",
      "metadata": {
        "id": "KVSAYeU0KA2V",
        "colab_type": "text"
      },
      "source": [
        "# Selecionando Amostras Aleatórias\n",
        "* Vamos usar a teoria do capítulo [Statistics and Probability](https://github.com/MathMachado/Python_RFB/blob/DS_Python/Statistics%20and%20Probability.ipynb) para nos ajudar com seleção de amostras aleatórias."
      ]
    },
    {
      "cell_type": "markdown",
      "metadata": {
        "id": "U502dAs3OfOH",
        "colab_type": "text"
      },
      "source": [
        "* Vimos que o dataframe cc é muito grande. Então, vamos selecionar aleatoriamente 100 linhas."
      ]
    },
    {
      "cell_type": "code",
      "metadata": {
        "id": "0BrKUnAiPcAy",
        "colab_type": "code",
        "colab": {}
      },
      "source": [
        "# import random  \n",
        "from random import sample"
      ],
      "execution_count": 0,
      "outputs": []
    },
    {
      "cell_type": "code",
      "metadata": {
        "id": "iJ1G8lYgKGsc",
        "colab_type": "code",
        "colab": {}
      },
      "source": [
        "cc_sample100= cc.sample(n= 100)\n",
        "cc_sample100.head()"
      ],
      "execution_count": 0,
      "outputs": []
    },
    {
      "cell_type": "code",
      "metadata": {
        "id": "U8PEDMJ4a52P",
        "colab_type": "code",
        "colab": {}
      },
      "source": [
        "cc_sample100.shape"
      ],
      "execution_count": 0,
      "outputs": []
    },
    {
      "cell_type": "markdown",
      "metadata": {
        "id": "vNMiRkjCQ9Mu",
        "colab_type": "text"
      },
      "source": [
        "# Descrevendo o Dataframe"
      ]
    },
    {
      "cell_type": "code",
      "metadata": {
        "id": "GllUFj56RHuD",
        "colab_type": "code",
        "colab": {}
      },
      "source": [
        "cc_sample100.describe()"
      ],
      "execution_count": 0,
      "outputs": []
    },
    {
      "cell_type": "markdown",
      "metadata": {
        "id": "H40G3QzWbG9N",
        "colab_type": "text"
      },
      "source": [
        "# Lidando com linhas duplicadas"
      ]
    },
    {
      "cell_type": "code",
      "metadata": {
        "id": "5XOOdOZBbLc_",
        "colab_type": "code",
        "colab": {}
      },
      "source": [
        "df = pd.DataFrame({'A':[1,1,3,4,5,1], 'B':[1,1,3,7,8,1], 'C':[3,1,1,6,7,1]})"
      ],
      "execution_count": 0,
      "outputs": []
    },
    {
      "cell_type": "code",
      "metadata": {
        "id": "_PbO2T-SbQ1C",
        "colab_type": "code",
        "colab": {}
      },
      "source": [
        "df"
      ],
      "execution_count": 0,
      "outputs": []
    },
    {
      "cell_type": "code",
      "metadata": {
        "id": "Gio08BkTbTOp",
        "colab_type": "code",
        "colab": {}
      },
      "source": [
        "df.duplicated()"
      ],
      "execution_count": 0,
      "outputs": []
    },
    {
      "cell_type": "markdown",
      "metadata": {
        "id": "obgbM4d_hJ_J",
        "colab_type": "text"
      },
      "source": [
        "Observe a linha 5, onde temos a informação que esta linha está duplicada. Na verdade, a linha 5 é igual à linha 1"
      ]
    },
    {
      "cell_type": "code",
      "metadata": {
        "id": "LHhOIb-EbWfn",
        "colab_type": "code",
        "colab": {}
      },
      "source": [
        "# Mostra as linhas duplicadas\n",
        "df[df.duplicated()]"
      ],
      "execution_count": 0,
      "outputs": []
    },
    {
      "cell_type": "code",
      "metadata": {
        "id": "F_118d7vbZ9Y",
        "colab_type": "code",
        "colab": {}
      },
      "source": [
        "# Mostra as linhas duplicadas usando as colunas 'A' e 'B'\n",
        "df[df.duplicated(subset=['A','B'])]"
      ],
      "execution_count": 0,
      "outputs": []
    },
    {
      "cell_type": "markdown",
      "metadata": {
        "id": "ggD_JXlmu686",
        "colab_type": "text"
      },
      "source": [
        "## Deletando as linhas duplicadas"
      ]
    },
    {
      "cell_type": "code",
      "metadata": {
        "id": "_1w_ZZO4vF3A",
        "colab_type": "code",
        "colab": {}
      },
      "source": [
        "# Deleta a linha 5 que, como vimos, estava duplicada (uma cópia da linha 1).\n",
        "df.drop_duplicates()\n",
        "df.head()"
      ],
      "execution_count": 0,
      "outputs": []
    },
    {
      "cell_type": "markdown",
      "metadata": {
        "id": "sYpfFVnmvb5i",
        "colab_type": "text"
      },
      "source": [
        "# Transformando dados com map()"
      ]
    },
    {
      "cell_type": "markdown",
      "metadata": {
        "id": "CMeNPhoI2FJj",
        "colab_type": "text"
      },
      "source": [
        "Considere o dataframe abaixo:"
      ]
    },
    {
      "cell_type": "code",
      "metadata": {
        "id": "tcBgZzeY2JHD",
        "colab_type": "code",
        "colab": {}
      },
      "source": [
        "df= Full_Info.copy()\n",
        "df"
      ],
      "execution_count": 0,
      "outputs": []
    },
    {
      "cell_type": "markdown",
      "metadata": {
        "id": "sKhqB9B22L76",
        "colab_type": "text"
      },
      "source": [
        "Agora, considere o mapeamento abaixo:"
      ]
    },
    {
      "cell_type": "code",
      "metadata": {
        "id": "VcpzcaYl2Ww3",
        "colab_type": "code",
        "colab": {}
      },
      "source": [
        "Boss_para_Job = {'director': 'ceo', \n",
        "                 'manager': 'director',\n",
        "                 'engineer': 'manager',\n",
        "                 'programmer': 'engineer'}"
      ],
      "execution_count": 0,
      "outputs": []
    },
    {
      "cell_type": "markdown",
      "metadata": {
        "id": "Ta6MQvoc20hk",
        "colab_type": "text"
      },
      "source": [
        "**A interpretação desse mapeamento é**: O 'Director' está subordinado ao 'CEO'. O 'Manager' está subordinado ao 'Director'. E assim por diante..."
      ]
    },
    {
      "cell_type": "code",
      "metadata": {
        "id": "Vo6ryVVS2D7A",
        "colab_type": "code",
        "colab": {}
      },
      "source": [
        "df['Boss'] = df['Job'].map(str.lower)\n",
        "df"
      ],
      "execution_count": 0,
      "outputs": []
    },
    {
      "cell_type": "markdown",
      "metadata": {
        "id": "MI9G10HT3n00",
        "colab_type": "text"
      },
      "source": [
        "O que aconteceu?\n",
        "\n",
        "Aplicamos a função lower() na coluna 'Job'. Certo?"
      ]
    },
    {
      "cell_type": "markdown",
      "metadata": {
        "id": "l46TWtFT3xbU",
        "colab_type": "text"
      },
      "source": [
        "E agora?"
      ]
    },
    {
      "cell_type": "code",
      "metadata": {
        "id": "L7oY1kJL3ygW",
        "colab_type": "code",
        "colab": {}
      },
      "source": [
        "df['Boss2'] = df['Job'].map(str.lower).map(Boss_para_Job)\n",
        "df"
      ],
      "execution_count": 0,
      "outputs": []
    },
    {
      "cell_type": "markdown",
      "metadata": {
        "id": "hMrHdoT0RqxW",
        "colab_type": "text"
      },
      "source": [
        "# Filtrando linhas baseado em condições"
      ]
    },
    {
      "cell_type": "code",
      "metadata": {
        "id": "wh3_4PCmaqoZ",
        "colab_type": "code",
        "colab": {}
      },
      "source": [
        "df_Titanic.head()"
      ],
      "execution_count": 0,
      "outputs": []
    },
    {
      "cell_type": "code",
      "metadata": {
        "id": "yN3O69OBa3jq",
        "colab_type": "code",
        "colab": {}
      },
      "source": [
        "# Selecionar do dataframe df_Titanic todas as linhas onde Pclass= 1:\n",
        "df2= df_Titanic[ (df_Titanic['Pclass'] == 1)]\n",
        "df2.head()"
      ],
      "execution_count": 0,
      "outputs": []
    },
    {
      "cell_type": "code",
      "metadata": {
        "id": "gpQnUzfaa8l1",
        "colab_type": "code",
        "colab": {}
      },
      "source": [
        "# Selecionar todas as linhas onde Pclass= 1 & Embarked = 'S':\n",
        "df2= df_Titanic[ ((df_Titanic['Pclass'] == 1) & (df_Titanic['Embarked'] == 'S'))]\n",
        "df2.head()"
      ],
      "execution_count": 0,
      "outputs": []
    },
    {
      "cell_type": "markdown",
      "metadata": {
        "id": "ujrYHyOsfW7n",
        "colab_type": "text"
      },
      "source": [
        "# Mostrando linhas do dataframe baseado em condições"
      ]
    },
    {
      "cell_type": "code",
      "metadata": {
        "id": "gntbfHgTfanx",
        "colab_type": "code",
        "colab": {}
      },
      "source": [
        "# Mostrar todas as linhas onde a string 'Mr' aparece no nome do passageiro:\n",
        "df2= df_Titanic[df_Titanic['Name'].str.contains('Mr')]\n",
        "df2.head()"
      ],
      "execution_count": 0,
      "outputs": []
    },
    {
      "cell_type": "markdown",
      "metadata": {
        "id": "bMwPLgWclWBq",
        "colab_type": "text"
      },
      "source": [
        "# Identificando e corrigindo inconsistências e corrigindo \n",
        "* df[var].value_counts() --> Lista os atributos da variável var."
      ]
    },
    {
      "cell_type": "markdown",
      "metadata": {
        "id": "CktJ9DnAzrlO",
        "colab_type": "text"
      },
      "source": [
        "## Exemplo 1"
      ]
    },
    {
      "cell_type": "code",
      "metadata": {
        "id": "JhpMof8Glbrz",
        "colab_type": "code",
        "colab": {}
      },
      "source": [
        "import pandas as pd\n",
        "import matplotlib.pyplot as plt\n",
        "import seaborn as sns\n",
        "%matplotlib inline"
      ],
      "execution_count": 0,
      "outputs": []
    },
    {
      "cell_type": "code",
      "metadata": {
        "id": "V7KUGAX6lilP",
        "colab_type": "code",
        "colab": {}
      },
      "source": [
        "import pandas as pd\n",
        "df_Titanic = pd.read_csv('https://raw.githubusercontent.com/MathMachado/Python_RFB/DS_Python/Dataframes/Titanic_With_MV.csv?token=AGDJQ6YSKYGHW6QUI2QVVWK5OLMDU')\n",
        "df_Titanic.head()"
      ],
      "execution_count": 0,
      "outputs": []
    },
    {
      "cell_type": "markdown",
      "metadata": {
        "id": "m3UnAPJakCLR",
        "colab_type": "text"
      },
      "source": [
        "* Segue o dicionário de dados do dataframe Titanic:\n",
        "    * PassengerID: ID do passageiro;\n",
        "    * Survived: Indicador, sendo 1= Passageiro sobreviveu e 0= Passageiro morreu;\n",
        "    * Pclass: Classe;\n",
        "    * Age: Idade do Passageiro;\n",
        "    * SibSp: Número de parentes a bordo (esposa, irmãos, pais e etc);\n",
        "    * Parch: Número de pais/crianças a bordo;\n",
        "    * Fare: Valor pago pelo Passageiro;\n",
        "    * Cabin: Cabine do Passageiro;\n",
        "    * Embarked: A porta pelo qual o Passageiro embarcou.\n",
        "    * Name: Nome do Passageiro;\n",
        "    * Sex: Sexo do Passageiro\n",
        "    "
      ]
    },
    {
      "cell_type": "markdown",
      "metadata": {
        "id": "8RYK1UZvmeia",
        "colab_type": "text"
      },
      "source": [
        "Vamos dar uma olhada nos campos categóricos para verificarmos como estão preenchidos."
      ]
    },
    {
      "cell_type": "code",
      "metadata": {
        "id": "zXfWxjk1mlRB",
        "colab_type": "code",
        "colab": {}
      },
      "source": [
        "import seaborn as sns\n",
        "\n",
        "sns.countplot(x='Survived', hue='Pclass', data=df_Titanic)"
      ],
      "execution_count": 0,
      "outputs": []
    },
    {
      "cell_type": "code",
      "metadata": {
        "id": "wUk0YNlxsgvf",
        "colab_type": "code",
        "colab": {}
      },
      "source": [
        "df_Titanic['Pclass'].value_counts()"
      ],
      "execution_count": 0,
      "outputs": []
    },
    {
      "cell_type": "markdown",
      "metadata": {
        "id": "2n8s9Ad1m7od",
        "colab_type": "text"
      },
      "source": [
        "Não me parece nada estranho com a variável 'Pclass'. Ou você identifica alguma coisa estranho?\n",
        "\n",
        "Vamos olhar a variável 'Sex'"
      ]
    },
    {
      "cell_type": "code",
      "metadata": {
        "id": "BRRgcLtinIRz",
        "colab_type": "code",
        "colab": {}
      },
      "source": [
        "sns.countplot(x='Survived', hue='Sex', data=df_Titanic)"
      ],
      "execution_count": 0,
      "outputs": []
    },
    {
      "cell_type": "code",
      "metadata": {
        "id": "8SQ8v2Wnspfb",
        "colab_type": "code",
        "colab": {}
      },
      "source": [
        "df_Titanic['Sex'].value_counts()"
      ],
      "execution_count": 0,
      "outputs": []
    },
    {
      "cell_type": "markdown",
      "metadata": {
        "id": "jxx06kJFnNrP",
        "colab_type": "text"
      },
      "source": [
        "Oops... Aqui temos vários problemas... Olhando para estes resultados, você concorda que 'male', 'm', 'MALE', M', 'mALE' e 'Men' se trata da mesma informação?\n",
        "\n",
        "Da mesma forma, 'female', 'f', 'F', 'Female', 'fEMALE', 'Woman', 'w' e 'W' também se trata da mesma informação?\n",
        "\n",
        "Então, vamos fazer o seguinte:\n",
        "\n",
        "* Toda vez que eu encontrar um desses valores: ['m', 'MALE', 'M', 'mALE', 'Men'], vou substituir por 'male';\n",
        "* Toda vez que eu encontrar um desses valores: ['f', 'F', 'Female', 'fEMALE', 'Woman', 'w', 'W'], vou substituit por 'female'.\n",
        "\n",
        "O comando a seguir faz estas substituições:"
      ]
    },
    {
      "cell_type": "code",
      "metadata": {
        "id": "CwoyLBK9oME5",
        "colab_type": "code",
        "colab": {}
      },
      "source": [
        "df_Titanic['Sex2'] = df_Titanic['Sex'].replace(['m', 'MALE', 'M', 'mALE', 'Men'], 'male')\n",
        "df_Titanic['Sex3'] = df_Titanic['Sex2'].replace(['f', 'F', 'Female', 'fEMALE', 'Woman', 'w', 'W'], 'female')  "
      ],
      "execution_count": 0,
      "outputs": []
    },
    {
      "cell_type": "markdown",
      "metadata": {
        "id": "RC35I-Njp4vh",
        "colab_type": "text"
      },
      "source": [
        "Vamos ver a distribuição dos dados novamente no gráfico:"
      ]
    },
    {
      "cell_type": "code",
      "metadata": {
        "id": "1eGvEhA9qAN6",
        "colab_type": "code",
        "colab": {}
      },
      "source": [
        "sns.countplot(x='Survived', hue='Sex3', data=df_Titanic)"
      ],
      "execution_count": 0,
      "outputs": []
    },
    {
      "cell_type": "code",
      "metadata": {
        "id": "IY3TaKUcszTQ",
        "colab_type": "code",
        "colab": {}
      },
      "source": [
        "df_Titanic['Sex3'].value_counts()"
      ],
      "execution_count": 0,
      "outputs": []
    },
    {
      "cell_type": "markdown",
      "metadata": {
        "id": "2nOAcv3iqEaK",
        "colab_type": "text"
      },
      "source": [
        "Ok, de fato corrigimos os problemas de preenchimento da variável 'Sex'."
      ]
    },
    {
      "cell_type": "markdown",
      "metadata": {
        "id": "ZcxSUFwAzxK_",
        "colab_type": "text"
      },
      "source": [
        "## Exemplo 2\n",
        "* Vamos corrigir alguns valores do dataframe a seguir:"
      ]
    },
    {
      "cell_type": "code",
      "metadata": {
        "id": "kJAOMb95z--M",
        "colab_type": "code",
        "colab": {}
      },
      "source": [
        "df= Full_Info.copy()\n",
        "df.head()"
      ],
      "execution_count": 0,
      "outputs": []
    },
    {
      "cell_type": "code",
      "metadata": {
        "id": "qfdEtzq0ywkG",
        "colab_type": "code",
        "colab": {}
      },
      "source": [
        "# Verificando o preenchimento das variáveis Job, City e Department:"
      ],
      "execution_count": 0,
      "outputs": []
    },
    {
      "cell_type": "code",
      "metadata": {
        "id": "tYSrM0Y6zDU-",
        "colab_type": "code",
        "colab": {}
      },
      "source": [
        "# Verificando 'Job'\n",
        "df['Job'].value_counts()"
      ],
      "execution_count": 0,
      "outputs": []
    },
    {
      "cell_type": "markdown",
      "metadata": {
        "id": "Rcc5iMjAzKbp",
        "colab_type": "text"
      },
      "source": [
        "Nenhuma inconsistência. Vamos em frente..."
      ]
    },
    {
      "cell_type": "code",
      "metadata": {
        "id": "-Ek4Y19JzOMx",
        "colab_type": "code",
        "colab": {}
      },
      "source": [
        "# Verificando 'City'\n",
        "df['City'].value_counts()"
      ],
      "execution_count": 0,
      "outputs": []
    },
    {
      "cell_type": "markdown",
      "metadata": {
        "id": "AHrB19QBd8uV",
        "colab_type": "text"
      },
      "source": [
        "Observe que a cidade (City) 'New York' está escrita errada. Vamos corrigir o nome desta cidade. Como?"
      ]
    },
    {
      "cell_type": "code",
      "metadata": {
        "id": "q5zNctHKWg5G",
        "colab_type": "code",
        "colab": {}
      },
      "source": [
        "df['City']= df['City'].replace('NewYork', 'New York')\n",
        "\n",
        "# Conferindo se a inconsistência foi corrigida\n",
        "df['City'].value_counts()"
      ],
      "execution_count": 0,
      "outputs": []
    },
    {
      "cell_type": "code",
      "metadata": {
        "id": "1hvWrWrI0YaP",
        "colab_type": "code",
        "colab": {}
      },
      "source": [
        "# Verificando 'Department'\n",
        "df['Department'].value_counts()"
      ],
      "execution_count": 0,
      "outputs": []
    },
    {
      "cell_type": "markdown",
      "metadata": {
        "id": "9ivoA50D0plD",
        "colab_type": "text"
      },
      "source": [
        "Nada demais. Vamos adiante."
      ]
    },
    {
      "cell_type": "markdown",
      "metadata": {
        "id": "JDtxz_eaRcmi",
        "colab_type": "text"
      },
      "source": [
        "# Agrupando Informações: pd.groupby()\n",
        "* Os componentes do comando Groupby()\n",
        "    * **Grouping_Column** - Variável Categórica pelo qual os dados serão agrupados;\n",
        "    * **Aggregating_Column** - Variável numérica cujos valores serão agrupados;\n",
        "    * **Aggregating_Function** - Função agregadora, ou seja: sum, min, max, mean, median, etc...\n",
        "\n",
        "> Sintaxe: \n",
        "\n",
        "```df.groupby('Grouping_Column').agg({'Aggregating_Column': 'Aggregating_Function'})```"
      ]
    },
    {
      "cell_type": "code",
      "metadata": {
        "id": "wteEveUsd36C",
        "colab_type": "code",
        "colab": {}
      },
      "source": [
        "df_Titanic.head()"
      ],
      "execution_count": 0,
      "outputs": []
    },
    {
      "cell_type": "code",
      "metadata": {
        "id": "buF5DhkFfqVA",
        "colab_type": "code",
        "colab": {}
      },
      "source": [
        "# Agrupando df_Titanic por 'Sex3'\n",
        "df_Titanic.groupby(['Sex3']).agg({'Fare': ['max', 'min']})"
      ],
      "execution_count": 0,
      "outputs": []
    },
    {
      "cell_type": "code",
      "metadata": {
        "id": "YP3GDwq0gR_V",
        "colab_type": "code",
        "colab": {}
      },
      "source": [
        "# Agrupando df_Titanic por 'Sex3' e 'Pclass'\n",
        "df_Titanic.groupby(['Sex3','Pclass']).agg({'Fare': ['max', 'min']}).round(0)"
      ],
      "execution_count": 0,
      "outputs": []
    },
    {
      "cell_type": "code",
      "metadata": {
        "id": "se4tQ3ETeUfv",
        "colab_type": "code",
        "colab": {}
      },
      "source": [
        "df_Titanic.groupby(['Sex3']).agg({'Age': ['mean','min','max']}).round(0)"
      ],
      "execution_count": 0,
      "outputs": []
    },
    {
      "cell_type": "code",
      "metadata": {
        "id": "zUj82I7Cm220",
        "colab_type": "code",
        "colab": {}
      },
      "source": [
        "df_Titanic.head()"
      ],
      "execution_count": 0,
      "outputs": []
    },
    {
      "cell_type": "markdown",
      "metadata": {
        "id": "jwBWkaJOdhCv",
        "colab_type": "text"
      },
      "source": [
        "# Subsetting\n",
        "* Suponha que queremos selecionar somente as colunas 'Survived', 'Sex' e 'Embarked':"
      ]
    },
    {
      "cell_type": "code",
      "metadata": {
        "id": "Ivvj8JU2pBTq",
        "colab_type": "code",
        "colab": {}
      },
      "source": [
        "df_Titanic2= df_Titanic[['Survived', 'Sex3', 'Embarked']]\n",
        "df_Titanic2.head()"
      ],
      "execution_count": 0,
      "outputs": []
    },
    {
      "cell_type": "markdown",
      "metadata": {
        "id": "o_cl0kFgQfFh",
        "colab_type": "text"
      },
      "source": [
        "# Exercises\n"
      ]
    },
    {
      "cell_type": "markdown",
      "metadata": {
        "id": "1F5yygFGdtof",
        "colab_type": "text"
      },
      "source": [
        "## Exercícios 1\n",
        "* A partir dos dataframes a seguir, construa o Dataframe USA contendo as colunas state, abbreviation, area, ages, year, population."
      ]
    },
    {
      "cell_type": "code",
      "metadata": {
        "id": "yycEuRSAF3iN",
        "colab_type": "code",
        "colab": {}
      },
      "source": [
        "import pandas as pd"
      ],
      "execution_count": 0,
      "outputs": []
    },
    {
      "cell_type": "markdown",
      "metadata": {
        "id": "s8rQUo7yHKJ1",
        "colab_type": "text"
      },
      "source": [
        "* Observação: A forma mais fácil de ler um arquivo CSV (a partir do Excell por exemplo) a partir do GitHub é clicar no arquivo csv no seu repositório do GitHub e em seguida clicar em 'raw'. Depois, copie o endereço apresentado no browser e cole na variável 'url'. Qualquer dúvida, leia o documento a seguir: https://towardsdatascience.com/3-ways-to-load-csv-files-into-colab-7c14fcbdcb92."
      ]
    },
    {
      "cell_type": "code",
      "metadata": {
        "id": "clvwWk6PGOm5",
        "colab_type": "code",
        "colab": {}
      },
      "source": [
        "url = 'https://raw.githubusercontent.com/MathMachado/Python_RFB/DS_Python/Dataframes/USA_Abbrev.csv?token=AGDJQ646VJMKSQ2ZPQ6OHCS5OLJAK'\n",
        "df_Abbr = pd.read_csv(url)\n",
        "df_Abbr.head()"
      ],
      "execution_count": 0,
      "outputs": []
    },
    {
      "cell_type": "code",
      "metadata": {
        "id": "tY5SanatHu6q",
        "colab_type": "code",
        "colab": {}
      },
      "source": [
        "url = 'https://raw.githubusercontent.com/MathMachado/Python_RFB/DS_Python/Dataframes/USA_Area.csv?token=AGDJQ65HDHS2B2MER44XCBC5OLJDC'\n",
        "df_Area = pd.read_csv(url)\n",
        "df_Area.head()"
      ],
      "execution_count": 0,
      "outputs": []
    },
    {
      "cell_type": "code",
      "metadata": {
        "id": "MLBC4cBBITTN",
        "colab_type": "code",
        "colab": {}
      },
      "source": [
        "url = 'https://raw.githubusercontent.com/MathMachado/Python_RFB/DS_Python/Dataframes/USA_Population.csv?token=AGDJQ662X45WA5II7GHGWZC5OLJI2'\n",
        "df_Pop = pd.read_csv(url)\n",
        "df_Pop.head()"
      ],
      "execution_count": 0,
      "outputs": []
    }
  ]
}
