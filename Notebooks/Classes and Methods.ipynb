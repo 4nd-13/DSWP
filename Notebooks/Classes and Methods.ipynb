{
  "nbformat": 4,
  "nbformat_minor": 0,
  "metadata": {
    "colab": {
      "name": "Functions.ipynb",
      "version": "0.3.2",
      "provenance": [],
      "private_outputs": true,
      "toc_visible": true,
      "include_colab_link": true
    },
    "kernelspec": {
      "name": "python3",
      "display_name": "Python 3"
    },
    "accelerator": "GPU"
  },
  "cells": [
    {
      "cell_type": "markdown",
      "metadata": {
        "id": "view-in-github",
        "colab_type": "text"
      },
      "source": [
        "<a href=\"https://colab.research.google.com/github/MathMachado/Python_RFB/blob/master/Classes%20and%20Methods.ipynb\" target=\"_parent\"><img src=\"https://colab.research.google.com/assets/colab-badge.svg\" alt=\"Open In Colab\"/></a>"
      ]
    },
    {
      "cell_type": "markdown",
      "metadata": {
        "id": "v8g3kygFOdhc",
        "colab_type": "text"
      },
      "source": [
        "# PENDÊNCIAS DESTA SESSÃO\n",
        "\n",
        "## Falar de *args e **kargs\n",
        "## Como usar exception handling\n",
        "## Falar de Inheritance\n",
        "## Falar de \n",
        "\n",
        "https://www.w3schools.com/python/python_inheritance.asp"
      ]
    },
    {
      "cell_type": "markdown",
      "metadata": {
        "id": "e0UKAZQvJ_c2",
        "colab_type": "text"
      },
      "source": [
        "# Python Classes and Methods\n",
        "\n",
        "* A Python Method is somewhat similar to a function. The difference is that Methods are associated with objects/classes;\n",
        "* The method is implicitly used for an object for which it is called;\n",
        "* The \"__init__()\" function is called automatically every time the class is being used to create a new object.\n",
        "\n",
        "PARA VER:\n",
        "https://www.youtube.com/watch?v=jaPURUUGa_0"
      ]
    },
    {
      "cell_type": "markdown",
      "metadata": {
        "id": "4AjmPZIRJ70U",
        "colab_type": "text"
      },
      "source": [
        "# 1st Example"
      ]
    },
    {
      "cell_type": "markdown",
      "metadata": {
        "id": "VHQpwT96LDGU",
        "colab_type": "text"
      },
      "source": [
        "## Primeira versão da classe Pizza"
      ]
    },
    {
      "cell_type": "code",
      "metadata": {
        "id": "ccp_NEnxJ-8V",
        "colab_type": "code",
        "colab": {}
      },
      "source": [
        "# 1st version of the Class Pizza\n",
        "class Pizza_V1:\n",
        "    def __init__(self, ingredientes):\n",
        "        self.ingredientes= ingredientes\n",
        "        \n",
        "    def __repr__(self):\n",
        "        return f'Pizza_V1({self.ingredientes})'"
      ],
      "execution_count": 0,
      "outputs": []
    },
    {
      "cell_type": "markdown",
      "metadata": {
        "id": "KO1YNVTsb4ew",
        "colab_type": "text"
      },
      "source": [
        "Considere o seguinte cenário:\n",
        "\n",
        "* Linda ordena uma pizza \"Quattro Formaggi\";\n",
        "\n",
        "* Jack ordena uma pizza \"Margherita\";\n",
        "\n",
        "* Robert ordena uma pizza \"4 Stagioni\"."
      ]
    },
    {
      "cell_type": "code",
      "metadata": {
        "id": "pQtY1JGdKgW7",
        "colab_type": "code",
        "colab": {}
      },
      "source": [
        "# Tipo de Pizza: Pizza Quattro Formaggi\n",
        "Linda= Pizza_V1(['mozzarella','fontina','stracchino','gorgonzola','tomatoes'])\n",
        "Linda"
      ],
      "execution_count": 0,
      "outputs": []
    },
    {
      "cell_type": "code",
      "metadata": {
        "id": "7ua_ah4wPEXe",
        "colab_type": "code",
        "colab": {}
      },
      "source": [
        "# Tipo de Pizza: Pizza Margherita\n",
        "Jack= Pizza_V1(['tomatoes','mozzarella','albahaca','aceite de oliva extra virgen'])\n",
        "Jack"
      ],
      "execution_count": 0,
      "outputs": []
    },
    {
      "cell_type": "code",
      "metadata": {
        "id": "EyAcn-yrRrnV",
        "colab_type": "code",
        "colab": {}
      },
      "source": [
        "# Tipo de Pizza: Pizza 4 Stagioni\n",
        "Robert= Pizza_V1(['mozzarella','albahaca','parmesano','champinones','jamon cocido','alcachofas','aceite de oliva','aceitunas'])\n",
        "Robert"
      ],
      "execution_count": 0,
      "outputs": []
    },
    {
      "cell_type": "markdown",
      "metadata": {
        "id": "jHpFAKp3dCoj",
        "colab_type": "text"
      },
      "source": [
        "Portanto, cada um dos pedidos podem ser tratados como variáveis. Ou seja, aqui, Linda, Robert e Jack são as variáveis."
      ]
    },
    {
      "cell_type": "markdown",
      "metadata": {
        "id": "LJvA6K4pdPGl",
        "colab_type": "text"
      },
      "source": [
        "Para acessarmos os ingredientes de cada um destes pedidos, basta..."
      ]
    },
    {
      "cell_type": "code",
      "metadata": {
        "id": "BsGktmOPbxia",
        "colab_type": "code",
        "colab": {}
      },
      "source": [
        "# Ingredientes da pizza do Robert\n",
        "Robert.ingredientes"
      ],
      "execution_count": 0,
      "outputs": []
    },
    {
      "cell_type": "code",
      "metadata": {
        "id": "E14aElMKdZIx",
        "colab_type": "code",
        "colab": {}
      },
      "source": [
        "# Ingredientes da pizza da Linda\n",
        "Linda.ingredientes"
      ],
      "execution_count": 0,
      "outputs": []
    },
    {
      "cell_type": "code",
      "metadata": {
        "id": "Lg8zIxWedgV7",
        "colab_type": "code",
        "colab": {}
      },
      "source": [
        "# Ingredientes da pizza do Jack\n",
        "Jack.ingredientes"
      ],
      "execution_count": 0,
      "outputs": []
    },
    {
      "cell_type": "markdown",
      "metadata": {
        "id": "lSkOJ3i5LsMl",
        "colab_type": "text"
      },
      "source": [
        "No entanto, da forma como está construída, nossa classe precisa receber os ingredientes para produção da pizza, certo?"
      ]
    },
    {
      "cell_type": "markdown",
      "metadata": {
        "id": "-avpHOr7QmC9",
        "colab_type": "text"
      },
      "source": [
        "Por curiosidade, qual o output do comando a seguir:"
      ]
    },
    {
      "cell_type": "code",
      "metadata": {
        "id": "tr6XqbnWPn-V",
        "colab_type": "code",
        "colab": {}
      },
      "source": [
        "Jack.ingredientes= ['Aliche']"
      ],
      "execution_count": 0,
      "outputs": []
    },
    {
      "cell_type": "code",
      "metadata": {
        "id": "STEpbu1qQF8M",
        "colab_type": "code",
        "colab": {}
      },
      "source": [
        "# Mostra os ingredientes solicitados por Jack\n",
        "Jack.ingredientes"
      ],
      "execution_count": 0,
      "outputs": []
    },
    {
      "cell_type": "markdown",
      "metadata": {
        "id": "JZ4DDYOjQ4Yn",
        "colab_type": "text"
      },
      "source": [
        "Mas e o que aconteceu com os demais ingredientes da Pizza pedido por Jack?"
      ]
    },
    {
      "cell_type": "markdown",
      "metadata": {
        "id": "gMuyAIYCCw1J",
        "colab_type": "text"
      },
      "source": [
        "## Segunda versão da classe Pizza\n",
        "Como os ingredientes das Pizzas nunca mudam, então podemos reformular nossa classe da seguinte forma:"
      ]
    },
    {
      "cell_type": "code",
      "metadata": {
        "id": "fGrY3cgVMDXd",
        "colab_type": "code",
        "colab": {}
      },
      "source": [
        "# 2nd version of the Class Pizza\n",
        "class Pizza_V2:\n",
        "    def __init__(self, ingredientes):\n",
        "        self.ingredientes= ingredientes\n",
        "        \n",
        "    def __repr__(self):\n",
        "        return f'Pizza_V2({self.ingredientes})'\n",
        "    \n",
        "    @classmethod\n",
        "    def Pizza_Quattro_Formaggi(cls):\n",
        "        return cls(['mozzarella','fontina','stracchino','gorgonzola','tomatoes'])\n",
        "\n",
        "    @classmethod\n",
        "    def Pizza_Margherita(cls):\n",
        "        return cls(['tomatoes','mozzarella','albahaca','aceite de oliva extra virgen'])\n",
        "\n",
        "    @classmethod\n",
        "    def Pizza_4_Stagioni(cls):\n",
        "        return cls(['mozzarella','albahaca','parmesano','champinones','jamon cocido','alcachofas','aceite de oliva','aceitunas'])  "
      ],
      "execution_count": 0,
      "outputs": []
    },
    {
      "cell_type": "markdown",
      "metadata": {
        "id": "5XXtvBZ9Totf",
        "colab_type": "text"
      },
      "source": [
        "Desta forma, ordenar uma pizza fica mais fácil, bastando..."
      ]
    },
    {
      "cell_type": "code",
      "metadata": {
        "id": "PiXGJzGZK10X",
        "colab_type": "code",
        "colab": {}
      },
      "source": [
        "# Linda ordena uma pizza Quattro Formaggi\n",
        "Linda= Pizza_V2.Pizza_Quattro_Formaggi()\n",
        "Linda"
      ],
      "execution_count": 0,
      "outputs": []
    },
    {
      "cell_type": "code",
      "metadata": {
        "id": "0OK-qyJlICFl",
        "colab_type": "code",
        "colab": {}
      },
      "source": [
        "# Jack ordena uma pizza Margherita\n",
        "Jack= Pizza_V2.Pizza_Margherita()\n",
        "Jack"
      ],
      "execution_count": 0,
      "outputs": []
    },
    {
      "cell_type": "code",
      "metadata": {
        "id": "rNPEwRccenoM",
        "colab_type": "code",
        "colab": {}
      },
      "source": [
        "# Robert ordena uma pizza 4 Stagioni\n",
        "Robert= Pizza_V2.Pizza_4_Stagioni()\n",
        "Robert"
      ],
      "execution_count": 0,
      "outputs": []
    },
    {
      "cell_type": "markdown",
      "metadata": {
        "id": "GvRdxbeQe-TC",
        "colab_type": "text"
      },
      "source": [
        "Acessando os ingredientes de cada tipo de pizza"
      ]
    },
    {
      "cell_type": "code",
      "metadata": {
        "id": "y_Yz9K_yfCof",
        "colab_type": "code",
        "colab": {}
      },
      "source": [
        "# Ingredientes da pizza de Robert\n",
        "Robert.ingredientes"
      ],
      "execution_count": 0,
      "outputs": []
    },
    {
      "cell_type": "code",
      "metadata": {
        "id": "OrCEIpa0fJ4y",
        "colab_type": "code",
        "colab": {}
      },
      "source": [
        "# Ingredientes da pizza de Linda\n",
        "Linda.ingredientes"
      ],
      "execution_count": 0,
      "outputs": []
    },
    {
      "cell_type": "code",
      "metadata": {
        "id": "k3LfnfIUfMan",
        "colab_type": "code",
        "colab": {}
      },
      "source": [
        "# Ingredientes da pizza de Jack\n",
        "Jack.ingredientes"
      ],
      "execution_count": 0,
      "outputs": []
    },
    {
      "cell_type": "markdown",
      "metadata": {
        "id": "QwYetA2pRDlr",
        "colab_type": "text"
      },
      "source": [
        "Da mesma forma que fizemos antes, o que acontece se executarmos a instrução a seguir:"
      ]
    },
    {
      "cell_type": "code",
      "metadata": {
        "id": "2MNcjX_7REZF",
        "colab_type": "code",
        "colab": {}
      },
      "source": [
        "Jack.ingredientes= ['Aliche']"
      ],
      "execution_count": 0,
      "outputs": []
    },
    {
      "cell_type": "code",
      "metadata": {
        "id": "Cg-KpDegRJn7",
        "colab_type": "code",
        "colab": {}
      },
      "source": [
        "# Mostra os ingredientes solicitados por Jack\n",
        "Jack.ingredientes"
      ],
      "execution_count": 0,
      "outputs": []
    },
    {
      "cell_type": "markdown",
      "metadata": {
        "id": "qCpccI_GfosY",
        "colab_type": "text"
      },
      "source": [
        "# 2nd Example\n",
        "\n",
        "Queremos criar objetos para armazenar informações dos comprados pelos clientes de uma empresa."
      ]
    },
    {
      "cell_type": "markdown",
      "metadata": {
        "id": "8i6tUoW6B5Hv",
        "colab_type": "text"
      },
      "source": [
        "## Primeira versão da classe Carros"
      ]
    },
    {
      "cell_type": "code",
      "metadata": {
        "id": "3AsOl61fgHaP",
        "colab_type": "code",
        "colab": {}
      },
      "source": [
        "class Carros:\n",
        "    def __init__(self, fabricante, modelo, cor, combustivel):\n",
        "        self.fabricante= fabricante\n",
        "        self.modelo= modelo\n",
        "        self.cor= cor\n",
        "        self.combustivel= combustivel"
      ],
      "execution_count": 0,
      "outputs": []
    },
    {
      "cell_type": "code",
      "metadata": {
        "id": "f7QEpH7yhARx",
        "colab_type": "code",
        "colab": {}
      },
      "source": [
        "# Richard comprou um carro com as seguintes características\n",
        "Richard= Carros('Audi','A4','preto','gasolina')"
      ],
      "execution_count": 0,
      "outputs": []
    },
    {
      "cell_type": "markdown",
      "metadata": {
        "id": "wZO6Ln5ulMHO",
        "colab_type": "text"
      },
      "source": [
        "Richard é um objeto da classe 'Carros', correto?"
      ]
    },
    {
      "cell_type": "code",
      "metadata": {
        "id": "4oDxRHN8lQ_D",
        "colab_type": "code",
        "colab": {}
      },
      "source": [
        "type(Richard)"
      ],
      "execution_count": 0,
      "outputs": []
    },
    {
      "cell_type": "markdown",
      "metadata": {
        "id": "vl7cI3mLlNeM",
        "colab_type": "text"
      },
      "source": [
        "Se quisermos ver o modelo do carro que Richard comprou, basta..."
      ]
    },
    {
      "cell_type": "code",
      "metadata": {
        "id": "hDjHXMk4jJWO",
        "colab_type": "code",
        "colab": {}
      },
      "source": [
        "Richard.modelo"
      ],
      "execution_count": 0,
      "outputs": []
    },
    {
      "cell_type": "markdown",
      "metadata": {
        "id": "K5PqHoltlfPr",
        "colab_type": "text"
      },
      "source": [
        "Se tivermos outro pedido, por exemplo, de Linda da seguinte forma:"
      ]
    },
    {
      "cell_type": "code",
      "metadata": {
        "id": "8xeesI79ljjL",
        "colab_type": "code",
        "colab": {}
      },
      "source": [
        "Linda= Carros('Audi','Q3','azul','gasolina')\n",
        "Linda"
      ],
      "execution_count": 0,
      "outputs": []
    },
    {
      "cell_type": "markdown",
      "metadata": {
        "id": "gqqqePOKlziZ",
        "colab_type": "text"
      },
      "source": [
        "Então, Linda se tornou um objeto da classe 'Carros'."
      ]
    },
    {
      "cell_type": "code",
      "metadata": {
        "id": "qACELstAl3r-",
        "colab_type": "code",
        "colab": {}
      },
      "source": [
        "Linda.modelo"
      ],
      "execution_count": 0,
      "outputs": []
    },
    {
      "cell_type": "markdown",
      "metadata": {
        "id": "J9xWKe8sBzV3",
        "colab_type": "text"
      },
      "source": [
        "## Segunda versão da classe Carros:"
      ]
    },
    {
      "cell_type": "code",
      "metadata": {
        "id": "fngNK7XQma1f",
        "colab_type": "code",
        "colab": {}
      },
      "source": [
        "# 2nd version of Carros class\n",
        "class Carros_V2:\n",
        "    def __init__(self, fabricante, modelo, cor, combustivel):\n",
        "        self.fabricante= fabricante\n",
        "        self.modelo= modelo\n",
        "        self.cor= cor\n",
        "        self.combustivel= combustivel\n",
        "        \n",
        "    def Mostra_Carro(self):\n",
        "        print(\"Fabricante: \", self.fabricante,\"\\nModelo: \", self.modelo,\"\\nCor: \", self.cor,\"\\nCombustivel: \", self.combustivel)   "
      ],
      "execution_count": 0,
      "outputs": []
    },
    {
      "cell_type": "code",
      "metadata": {
        "id": "VuupcalBnNv3",
        "colab_type": "code",
        "colab": {}
      },
      "source": [
        "Linda= Carros_V2('Audi','Q3','azul','gasolina')"
      ],
      "execution_count": 0,
      "outputs": []
    },
    {
      "cell_type": "code",
      "metadata": {
        "id": "Nk6N6V6YnVo1",
        "colab_type": "code",
        "colab": {}
      },
      "source": [
        "Linda.Mostra_Carro()"
      ],
      "execution_count": 0,
      "outputs": []
    },
    {
      "cell_type": "markdown",
      "metadata": {
        "id": "lNp-xl9vBoU8",
        "colab_type": "text"
      },
      "source": [
        "## Terceira versão da classe Carros\n",
        "\n",
        "O fabricante é sempre o mesmo: Audi. Nesse caso, podemos definir fabricante como uma variável default."
      ]
    },
    {
      "cell_type": "code",
      "metadata": {
        "id": "IHekqziZBwze",
        "colab_type": "code",
        "colab": {}
      },
      "source": [
        "# 3nd version of Carros class\n",
        "class Carros_V3:\n",
        "    fabricante= 'Audi'\n",
        "    \n",
        "    def __init__(self, modelo, cor, combustivel):\n",
        "        self.modelo= modelo\n",
        "        self.cor= cor\n",
        "        self.combustivel= combustivel\n",
        "        \n",
        "    def Mostra_Carro(self):\n",
        "        print(\"Fabricante: \", self.fabricante,\"\\nModelo: \", self.modelo,\"\\nCor: \", self.cor,\"\\nCombustivel: \", self.combustivel)   "
      ],
      "execution_count": 0,
      "outputs": []
    },
    {
      "cell_type": "markdown",
      "metadata": {
        "id": "XH9u2T1NSnJZ",
        "colab_type": "text"
      },
      "source": [
        "Neste caso, não podemos passar 'fabricante' para a classe."
      ]
    },
    {
      "cell_type": "code",
      "metadata": {
        "id": "nADinGQjD-b9",
        "colab_type": "code",
        "colab": {}
      },
      "source": [
        "Linda= Carros_V3(modelo= 'Q3', cor= 'Azul', combustivel= 'gasolina')"
      ],
      "execution_count": 0,
      "outputs": []
    },
    {
      "cell_type": "markdown",
      "metadata": {
        "id": "slRbHUKVWk8d",
        "colab_type": "text"
      },
      "source": [
        "### Nota:\n",
        "Gostaria de enfatizar que os comandos a seguir produzem o mesmo resultado que o anterior:\n",
        "\n",
        "* Linda= Carros_V3('Q3', 'Azul', 'gasolina') produz o mesmo resultado. Confira.\n",
        "\n",
        "* Linda= Carros_V3(cor= 'Azul', combustivel= 'gasolina', modelo= 'Q3')\n",
        "\n",
        "Consegue explicar porque?"
      ]
    },
    {
      "cell_type": "code",
      "metadata": {
        "id": "72PJxsxRWKdI",
        "colab_type": "code",
        "colab": {}
      },
      "source": [
        "Linda= Carros_V3(cor= 'Azul', combustivel= 'gasolina', modelo= 'Q3')"
      ],
      "execution_count": 0,
      "outputs": []
    },
    {
      "cell_type": "code",
      "metadata": {
        "id": "pXiFA8l7H5Mk",
        "colab_type": "code",
        "colab": {}
      },
      "source": [
        "Linda.Mostra_Carro()"
      ],
      "execution_count": 0,
      "outputs": []
    },
    {
      "cell_type": "markdown",
      "metadata": {
        "id": "pGY1fW7cSzsg",
        "colab_type": "text"
      },
      "source": [
        "Mesmo resultado anterior, correto?"
      ]
    },
    {
      "cell_type": "markdown",
      "metadata": {
        "id": "r69V1JNNVB03",
        "colab_type": "text"
      },
      "source": [
        "Na sua opinião, qual seria o output do script a seguir:"
      ]
    },
    {
      "cell_type": "code",
      "metadata": {
        "id": "cuFAsyU4VJYx",
        "colab_type": "code",
        "colab": {}
      },
      "source": [
        "# Mudamos o valor da variável default fabricante\n",
        "Linda.fabricante= 'Mercedes'\n",
        "Linda.Mostra_Carro()"
      ],
      "execution_count": 0,
      "outputs": []
    },
    {
      "cell_type": "markdown",
      "metadata": {
        "id": "1CP1A3UwVbnu",
        "colab_type": "text"
      },
      "source": [
        "Como você explica esse resultado?"
      ]
    },
    {
      "cell_type": "markdown",
      "metadata": {
        "id": "hcOanycOVi16",
        "colab_type": "text"
      },
      "source": [
        "Na sua opinião, o valor de fabricante mudou para 'Mercedes' para todos os outros objetos?"
      ]
    },
    {
      "cell_type": "code",
      "metadata": {
        "id": "okNBXLMEVp9Y",
        "colab_type": "code",
        "colab": {}
      },
      "source": [
        "Richard= Carros_V3(modelo= 'A4', cor= 'preto', combustivel= 'gasolina')"
      ],
      "execution_count": 0,
      "outputs": []
    },
    {
      "cell_type": "markdown",
      "metadata": {
        "id": "WUdpEciaXT7j",
        "colab_type": "text"
      },
      "source": [
        "E qual será o fabricante do carro que Richard comprou?"
      ]
    },
    {
      "cell_type": "code",
      "metadata": {
        "id": "7NKWlk01XZHt",
        "colab_type": "code",
        "colab": {}
      },
      "source": [
        "Richard.Mostra_Carro()"
      ],
      "execution_count": 0,
      "outputs": []
    },
    {
      "cell_type": "markdown",
      "metadata": {
        "id": "SssmIjzBXeEp",
        "colab_type": "text"
      },
      "source": [
        "Consegue explicar porque isso acontece?"
      ]
    },
    {
      "cell_type": "markdown",
      "metadata": {
        "id": "dSYQYbIwtp5G",
        "colab_type": "text"
      },
      "source": [
        "## Quarta versão da classe Carros\n",
        "\n",
        "O fabricante é sempre o mesmo: Audi. Nesse caso, podemos definir fabricante como uma variável default."
      ]
    },
    {
      "cell_type": "code",
      "metadata": {
        "id": "ozW49Kf-tqHq",
        "colab_type": "code",
        "colab": {}
      },
      "source": [
        "# Quarta versão da classe Carros\n",
        "class Carros_V4:  \n",
        "    def __init__(self, modelo, cor, combustivel, fabricante= 'Audi'):\n",
        "        self.modelo= modelo\n",
        "        self.cor= cor\n",
        "        self.combustivel= combustivel\n",
        "        self.fabricante= fabricante\n",
        "        \n",
        "    def Mostra_Carro(self):\n",
        "        print(\"Fabricante: \", self.fabricante,\"\\nModelo: \", self.modelo,\"\\nCor: \", self.cor,\"\\nCombustivel: \", self.combustivel)   "
      ],
      "execution_count": 0,
      "outputs": []
    },
    {
      "cell_type": "markdown",
      "metadata": {
        "id": "ldflEI2ZvvxI",
        "colab_type": "text"
      },
      "source": [
        "Atenção na instrução a seguir, pois não vou informar o valor de fabricante."
      ]
    },
    {
      "cell_type": "code",
      "metadata": {
        "id": "ynVPJccsuYfo",
        "colab_type": "code",
        "colab": {}
      },
      "source": [
        "Linda= Carros_V4(cor= 'Azul', combustivel= 'gasolina', modelo= 'Q3')"
      ],
      "execution_count": 0,
      "outputs": []
    },
    {
      "cell_type": "markdown",
      "metadata": {
        "id": "6WEdGvobv4Jm",
        "colab_type": "text"
      },
      "source": [
        "No entanto, ao executarmos a instrução a seguir, temos a informação do fabricante ."
      ]
    },
    {
      "cell_type": "code",
      "metadata": {
        "id": "aJVoGKF6vdv5",
        "colab_type": "code",
        "colab": {}
      },
      "source": [
        "Linda.Mostra_Carro()"
      ],
      "execution_count": 0,
      "outputs": []
    },
    {
      "cell_type": "markdown",
      "metadata": {
        "id": "brEV2i_6ibdc",
        "colab_type": "text"
      },
      "source": [
        "# Exercícios"
      ]
    },
    {
      "cell_type": "markdown",
      "metadata": {
        "id": "yUsu19Z2bAkw",
        "colab_type": "text"
      },
      "source": [
        "## Exercício 1\n",
        "\n",
        "Construa uma classe chamada Status_Jogo com as seguintes características:\n",
        "\n",
        "* Número de vidas de cada personagem: 3;\n",
        "* Criar o método Ataque, que quando invocado, faz com que o personagem perca 1 vida;\n",
        "* Criar o método Passar_Nivel, que quando invocado, acrescenta 1 vida ao personagem;\n",
        "* Criar método Qtd_Vidas para mostrar a quantidade de vidas restantes de cada personagem."
      ]
    },
    {
      "cell_type": "markdown",
      "metadata": {
        "id": "Sg_gelyDc4qB",
        "colab_type": "text"
      },
      "source": [
        "### Minha solução:"
      ]
    },
    {
      "cell_type": "code",
      "metadata": {
        "id": "fUci4d2sc6tZ",
        "colab_type": "code",
        "colab": {}
      },
      "source": [
        "class Personagem:\n",
        "    nro_vidas= 3;\n",
        "    \n",
        "    def Ataque(self):\n",
        "        self.nro_vidas -= 1\n",
        "        print('Perdi 1 vida!')\n",
        "        if self.nro_vidas <= 0:\n",
        "            self.Qtd_Vidas()\n",
        "        \n",
        "    def Passar_Nivel(self):\n",
        "        self.nro_vidas += 1\n",
        "        print('Ganhei 1 vida!')\n",
        "        \n",
        "    def Qtd_Vidas(self):\n",
        "        if self.nro_vidas <= 0:\n",
        "            print('Estou morto')\n",
        "        else:\n",
        "            print('Ainda estou vivo, pois ainda tenho', self.nro_vidas, ' vidas!')"
      ],
      "execution_count": 0,
      "outputs": []
    },
    {
      "cell_type": "markdown",
      "metadata": {
        "id": "D0Az6pgYeXDw",
        "colab_type": "text"
      },
      "source": [
        "Instanciando os personagens..."
      ]
    },
    {
      "cell_type": "code",
      "metadata": {
        "id": "L-cowQqheTlj",
        "colab_type": "code",
        "colab": {}
      },
      "source": [
        "Andre= Personagem()\n",
        "Carlos= Personagem()"
      ],
      "execution_count": 0,
      "outputs": []
    },
    {
      "cell_type": "markdown",
      "metadata": {
        "id": "DQEYydwUfu0h",
        "colab_type": "text"
      },
      "source": [
        "Verificando a quantidade de vidas do personagem..."
      ]
    },
    {
      "cell_type": "code",
      "metadata": {
        "id": "yZNauRb7edod",
        "colab_type": "code",
        "colab": {}
      },
      "source": [
        "Andre.Qtd_Vidas()"
      ],
      "execution_count": 0,
      "outputs": []
    },
    {
      "cell_type": "code",
      "metadata": {
        "id": "-r5iQY-XeqK5",
        "colab_type": "code",
        "colab": {}
      },
      "source": [
        "Andre.Ataque()"
      ],
      "execution_count": 0,
      "outputs": []
    },
    {
      "cell_type": "code",
      "metadata": {
        "id": "AdkdXNpae9OW",
        "colab_type": "code",
        "colab": {}
      },
      "source": [
        "Andre.Passar_Nivel()"
      ],
      "execution_count": 0,
      "outputs": []
    },
    {
      "cell_type": "code",
      "metadata": {
        "id": "dZDUvT-JfCxc",
        "colab_type": "code",
        "colab": {}
      },
      "source": [
        "Andre.Qtd_Vidas()"
      ],
      "execution_count": 0,
      "outputs": []
    },
    {
      "cell_type": "code",
      "metadata": {
        "id": "Qdzkbvb4fI3r",
        "colab_type": "code",
        "colab": {}
      },
      "source": [
        "Andre.Ataque()"
      ],
      "execution_count": 0,
      "outputs": []
    },
    {
      "cell_type": "code",
      "metadata": {
        "id": "GH4FVcUKfMsb",
        "colab_type": "code",
        "colab": {}
      },
      "source": [
        "Andre.Ataque()"
      ],
      "execution_count": 0,
      "outputs": []
    },
    {
      "cell_type": "code",
      "metadata": {
        "id": "faGOtEvXfQb1",
        "colab_type": "code",
        "colab": {}
      },
      "source": [
        "Andre.Ataque()"
      ],
      "execution_count": 0,
      "outputs": []
    },
    {
      "cell_type": "markdown",
      "metadata": {
        "id": "gIzY0NL9f2Ra",
        "colab_type": "text"
      },
      "source": [
        "### Explicação\n",
        "\n",
        "* Por favor, explique o que você entendeu do funcionamento desta classe e seus métodos.\n",
        "* Você percebeu a interação entre os objetos e suas classes?"
      ]
    },
    {
      "cell_type": "markdown",
      "metadata": {
        "id": "rO_yzoVMiiq3",
        "colab_type": "text"
      },
      "source": [
        "## Exercício 2\n",
        "Construa uma classe que recebe dois pontos e crie o método Dist_Euclideana para calcular a distância Euclideana entre os dois pontos."
      ]
    },
    {
      "cell_type": "markdown",
      "metadata": {
        "id": "9ICcrP5vjPca",
        "colab_type": "text"
      },
      "source": [
        "### Minha solução (1/2):"
      ]
    },
    {
      "cell_type": "code",
      "metadata": {
        "id": "j5i5tEsTjTJk",
        "colab_type": "code",
        "colab": {}
      },
      "source": [
        "import math\n",
        "\n",
        "class Point:\n",
        "    def __init__(self, initX, initY):\n",
        "        self.x = initX\n",
        "        self.y = initY\n",
        "\n",
        "    def getX(self):\n",
        "        return self.x\n",
        "\n",
        "    def getY(self):\n",
        "        return self.y"
      ],
      "execution_count": 0,
      "outputs": []
    },
    {
      "cell_type": "code",
      "metadata": {
        "id": "YJZfSzlrkKAs",
        "colab_type": "code",
        "colab": {}
      },
      "source": [
        "def Dist_Euclideana(point1, point2):\n",
        "    xdiff = point2.getX()-point1.getX()\n",
        "    ydiff = point2.getY()-point1.getY()\n",
        "\n",
        "    dist = math.sqrt(xdiff**2 + ydiff**2)\n",
        "    return dist"
      ],
      "execution_count": 0,
      "outputs": []
    },
    {
      "cell_type": "code",
      "metadata": {
        "id": "apAtLy1HjsvG",
        "colab_type": "code",
        "colab": {}
      },
      "source": [
        "p = Point(3,4)\n",
        "q = Point(5,12)"
      ],
      "execution_count": 0,
      "outputs": []
    },
    {
      "cell_type": "code",
      "metadata": {
        "id": "2XjeXw1OkYEy",
        "colab_type": "code",
        "colab": {}
      },
      "source": [
        "print(Dist_Euclideana(p,q))"
      ],
      "execution_count": 0,
      "outputs": []
    },
    {
      "cell_type": "markdown",
      "metadata": {
        "id": "7zhptxF0k8sL",
        "colab_type": "text"
      },
      "source": [
        "### Minha solução (2/2):"
      ]
    },
    {
      "cell_type": "code",
      "metadata": {
        "id": "0GT8wuC4lB_c",
        "colab_type": "code",
        "colab": {}
      },
      "source": [
        "import math\n",
        "\n",
        "class Point:\n",
        "    def __init__(self, initX, initY):\n",
        "        self.x = initX\n",
        "        self.y = initY\n",
        "\n",
        "    def getX(self):\n",
        "        return self.x\n",
        "\n",
        "    def getY(self):\n",
        "        return self.y\n",
        "    \n",
        "    def Dist_Euclideana(self, target):\n",
        "        xdiff = self.x-target.x\n",
        "        ydiff = self.y-target.y\n",
        "        dist = math.sqrt(xdiff**2 + ydiff**2)\n",
        "        return dist"
      ],
      "execution_count": 0,
      "outputs": []
    },
    {
      "cell_type": "code",
      "metadata": {
        "id": "0hCsnr0yl6YK",
        "colab_type": "code",
        "colab": {}
      },
      "source": [
        "p = Point(3,4)\n",
        "q = Point(5,12)"
      ],
      "execution_count": 0,
      "outputs": []
    },
    {
      "cell_type": "code",
      "metadata": {
        "id": "iVaayIBKmKVo",
        "colab_type": "code",
        "colab": {}
      },
      "source": [
        "print(p.Dist_Euclideana(q))"
      ],
      "execution_count": 0,
      "outputs": []
    },
    {
      "cell_type": "markdown",
      "metadata": {
        "id": "YaKJmE-AwYZy",
        "colab_type": "text"
      },
      "source": [
        "## Exercício 3\n",
        "Construa uma classe para retornar o dia da semana a partir de um número, sendo:\n",
        "\n",
        "* 1 - Dom\n",
        "* 2 - Seg\n",
        "* 3 - Ter\n",
        "* 4 - Qua\n",
        "* 5 - Qui\n",
        "* 6 - Sex\n",
        "* 7 - Sab"
      ]
    },
    {
      "cell_type": "markdown",
      "metadata": {
        "id": "DnhoyqA-w3HC",
        "colab_type": "text"
      },
      "source": [
        "### Minha solução:\n",
        "\n",
        "Minha solução usa os conceitos de Dictionaries, visto no capítulo [Dictionaries](./Dictionaries.ipynb)."
      ]
    },
    {
      "cell_type": "code",
      "metadata": {
        "id": "v--iVYSCw42q",
        "colab_type": "code",
        "colab": {}
      },
      "source": [
        "class Dia_Semana:\n",
        "    def __init__(self, dia):\n",
        "        self.dia= dia\n",
        "        \n",
        "    def Semana(self):\n",
        "        dSemana= {1:'Sunday',\n",
        "                  2:'Monday',\n",
        "                  3:'Tuesday',\n",
        "                  4:'Wednesday',\n",
        "                  5:'Thursday',\n",
        "                  6:'Friday',\n",
        "                  7:'Saturday'\n",
        "             }\n",
        "        return dSemana.get(self.dia,\"Inválido dia da semana\")"
      ],
      "execution_count": 0,
      "outputs": []
    },
    {
      "cell_type": "markdown",
      "metadata": {
        "id": "gdTXJSuFzWTp",
        "colab_type": "text"
      },
      "source": [
        "Instanciando..."
      ]
    },
    {
      "cell_type": "code",
      "metadata": {
        "id": "wUy4tPCMx38Y",
        "colab_type": "code",
        "colab": {}
      },
      "source": [
        "dia= Dia_Semana(1)"
      ],
      "execution_count": 0,
      "outputs": []
    },
    {
      "cell_type": "markdown",
      "metadata": {
        "id": "92OmDo8vzZyj",
        "colab_type": "text"
      },
      "source": [
        "Listando os métodos disponíveis no objeto dia..."
      ]
    },
    {
      "cell_type": "code",
      "metadata": {
        "id": "69aR84OSyL8o",
        "colab_type": "code",
        "colab": {}
      },
      "source": [
        "dir(dia)"
      ],
      "execution_count": 0,
      "outputs": []
    },
    {
      "cell_type": "markdown",
      "metadata": {
        "id": "8QQZFH9XziPj",
        "colab_type": "text"
      },
      "source": [
        "Mostrando o dia da semana..."
      ]
    },
    {
      "cell_type": "code",
      "metadata": {
        "id": "WA2mBkmLyCvY",
        "colab_type": "code",
        "colab": {}
      },
      "source": [
        "dia.Semana()"
      ],
      "execution_count": 0,
      "outputs": []
    },
    {
      "cell_type": "code",
      "metadata": {
        "id": "GuMdsuazzpm5",
        "colab_type": "code",
        "colab": {}
      },
      "source": [
        "dia= Dia_Semana(0)\n",
        "dia.Semana()"
      ],
      "execution_count": 0,
      "outputs": []
    },
    {
      "cell_type": "markdown",
      "metadata": {
        "id": "hcUYxSnwoaB2",
        "colab_type": "text"
      },
      "source": [
        "## Herança\n",
        "\n",
        "Considere o exemplo a seguir:"
      ]
    },
    {
      "cell_type": "code",
      "metadata": {
        "id": "zDmAaHuAof-M",
        "colab_type": "code",
        "colab": {}
      },
      "source": [
        "class Empregado:       \n",
        "    def __init__(self, nome):\n",
        "        self.nome= nome\n",
        "        self.cargo= None       \n",
        "    \n",
        "    @classmethod\n",
        "    def Diretor(cls):\n",
        "        return cls(self.nome, 'Diretor')"
      ],
      "execution_count": 0,
      "outputs": []
    },
    {
      "cell_type": "code",
      "metadata": {
        "id": "Oj74IGCpo6mM",
        "colab_type": "code",
        "colab": {}
      },
      "source": [
        "Carlos= Empregado('Carlos')"
      ],
      "execution_count": 0,
      "outputs": []
    },
    {
      "cell_type": "code",
      "metadata": {
        "id": "MDHy17nnqQ5j",
        "colab_type": "code",
        "colab": {}
      },
      "source": [
        "Carlos.nome"
      ],
      "execution_count": 0,
      "outputs": []
    },
    {
      "cell_type": "code",
      "metadata": {
        "id": "HM3gthg-qUox",
        "colab_type": "code",
        "colab": {}
      },
      "source": [
        "Carlos.cargo"
      ],
      "execution_count": 0,
      "outputs": []
    },
    {
      "cell_type": "code",
      "metadata": {
        "id": "6XRFEuMjqYVU",
        "colab_type": "code",
        "colab": {}
      },
      "source": [
        "Carlos= Empregado.Diretor()"
      ],
      "execution_count": 0,
      "outputs": []
    },
    {
      "cell_type": "code",
      "metadata": {
        "id": "LTTLEa-0sRdg",
        "colab_type": "code",
        "colab": {}
      },
      "source": [
        "Carlos.cargo"
      ],
      "execution_count": 0,
      "outputs": []
    },
    {
      "cell_type": "markdown",
      "metadata": {
        "id": "9jq5Sgh3qY_P",
        "colab_type": "text"
      },
      "source": [
        "arlo"
      ]
    },
    {
      "cell_type": "markdown",
      "metadata": {
        "id": "6T6NlMhgK-10",
        "colab_type": "text"
      },
      "source": [
        "## Constructors\n",
        "https://data-flair.training/blogs/python-constructor/"
      ]
    }
  ]
}
